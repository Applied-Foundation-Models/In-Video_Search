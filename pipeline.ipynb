{
 "cells": [
  {
   "cell_type": "code",
   "execution_count": 1,
   "metadata": {
    "ExecuteTime": {
     "end_time": "2024-06-17T10:12:18.212321Z",
     "start_time": "2024-06-17T10:11:54.365201Z"
    }
   },
   "outputs": [],
   "source": [
    "%load_ext autoreload\n",
    "%autoreload 2\n",
    "\n",
    "import os\n",
    "from src.video_preprocessing.download_videos.youtube_download import preprocess_video\n",
    "from src.video_preprocessing.scene_detection.scene_detect import detect_scenes\n",
    "from src.video_preprocessing.download_videos.download_utils import (\n",
    "    transcribe_audio_files,\n",
    "    extract_and_store_audio,\n",
    "    transcription_to_text,\n",
    "    create_metadata,\n",
    ")\n",
    "from src.ocr.pytesseract_image_to_text import extract_text_from_image\n",
    "from src.llm.ollama_implementation.ollama_experiment import (\n",
    "    prompt_llm_summary,\n",
    "    generate_caption_using_llava,\n",
    "    prompt_llm_extensive_summary,\n",
    ")\n",
    "\n",
    "from transformers import CLIPProcessor, CLIPModel, CLIPTokenizer\n",
    "from PIL import Image\n",
    "\n",
    "import torch\n",
    "from loguru import logger\n",
    "import pickle\n",
    "\n",
    "from src.clip.clip_model import CLIPEmbeddingsModel\n",
    "\n",
    "import tqdm\n",
    "from pathlib import Path"
   ]
  },
  {
   "attachments": {},
   "cell_type": "markdown",
   "metadata": {},
   "source": [
    "# Download Pipeline\n",
    "Download a video from a specific URL on YouTube, then run:\n",
    "- Scene detection\n",
    "- Keyframe detection\n",
    "\n",
    "The resulting data will be stored under `/data/raw/<NAME>`"
   ]
  },
  {
   "cell_type": "code",
   "execution_count": 2,
   "metadata": {
    "ExecuteTime": {
     "end_time": "2024-06-17T10:12:18.215983Z",
     "start_time": "2024-06-17T10:12:18.215983Z"
    }
   },
   "outputs": [],
   "source": [
    "# Define options and input for downloading a video from youtube\n",
    "\n",
    "# INSERT video name here\n",
    "name = \"biology_chapter_3_3_treshhold_5\"\n",
    "# INSERT video URL here\n",
    "url = \"https://youtu.be/DZSEErNZ1d4?si=f6YxKQ9rP6iqgTfk\"\n",
    "# INSERT chunk length in seconds 30s --> 30, no splitting: None\n",
    "chunks = None\n",
    "\n",
    "opts_aud = {\"format\": \"mp3/bestaudio/best\", \"keep-video\": True}\n",
    "opts_vid = {\"format\": \"mp4/bestvideo/best\"}"
   ]
  },
  {
   "cell_type": "code",
   "execution_count": 3,
   "metadata": {
    "ExecuteTime": {
     "end_time": "2024-06-17T08:31:11.939839Z",
     "start_time": "2024-06-17T08:31:09.105885Z"
    }
   },
   "outputs": [
    {
     "name": "stderr",
     "output_type": "stream",
     "text": [
      "\u001b[32m2024-06-27 12:23:19.131\u001b[0m | \u001b[1mINFO    \u001b[0m | \u001b[36msrc.video_preprocessing.download_videos.youtube_download\u001b[0m:\u001b[36mpreprocess_video\u001b[0m:\u001b[36m49\u001b[0m - \u001b[1mStarting AutoCaptioning...\u001b[0m\n",
      "\u001b[32m2024-06-27 12:23:19.132\u001b[0m | \u001b[1mINFO    \u001b[0m | \u001b[36msrc.video_preprocessing.download_videos.youtube_download\u001b[0m:\u001b[36mpreprocess_video\u001b[0m:\u001b[36m50\u001b[0m - \u001b[1mResults will be stored in data/raw/biology_chapter_3_3_treshhold_5\u001b[0m\n",
      "\u001b[32m2024-06-27 12:23:19.133\u001b[0m | \u001b[1mINFO    \u001b[0m | \u001b[36msrc.video_preprocessing.download_videos.youtube_download\u001b[0m:\u001b[36mpreprocess_video\u001b[0m:\u001b[36m58\u001b[0m - \u001b[1mCreated chunks folders\u001b[0m\n"
     ]
    },
    {
     "name": "stdout",
     "output_type": "stream",
     "text": [
      "[youtube] Extracting URL: https://youtu.be/DZSEErNZ1d4?si=f6YxKQ9rP6iqgTfk\n",
      "[youtube] DZSEErNZ1d4: Downloading webpage\n",
      "[youtube] DZSEErNZ1d4: Downloading ios player API JSON\n",
      "[youtube] DZSEErNZ1d4: Downloading player a95aa57a\n",
      "[youtube] DZSEErNZ1d4: Downloading m3u8 information\n",
      "[info] DZSEErNZ1d4: Downloading 1 format(s): 18\n",
      "[download] Destination: /Users/haseeb/Desktop/Prak_New/afm-vlm/data/raw/biology_chapter_3_3_treshhold_5/biology_chapter_3_3_treshhold_5.mp4\n",
      "[download] 100% of   85.73MiB in 00:00:23 at 3.68MiB/s     \n"
     ]
    },
    {
     "name": "stderr",
     "output_type": "stream",
     "text": [
      "\u001b[32m2024-06-27 12:23:44.811\u001b[0m | \u001b[1mINFO    \u001b[0m | \u001b[36msrc.video_preprocessing.download_videos.youtube_download\u001b[0m:\u001b[36mpreprocess_video\u001b[0m:\u001b[36m91\u001b[0m - \u001b[1mVideo is not splitted:\u001b[0m\n",
      "\u001b[32m2024-06-27 12:23:44.812\u001b[0m | \u001b[1mINFO    \u001b[0m | \u001b[36msrc.video_preprocessing.download_videos.youtube_download\u001b[0m:\u001b[36mpreprocess_video\u001b[0m:\u001b[36m95\u001b[0m - \u001b[1mVideo downloaded successfully!\u001b[0m\n"
     ]
    }
   ],
   "source": [
    "# Downloads the video creates the relevant datafolders and transcribes the video\n",
    "data_path = preprocess_video(\n",
    "    download=True,\n",
    "    uploaded_vid=\"ignore\",  # path to local file\n",
    "    url=url,\n",
    "    name=name,\n",
    "    aud_opts=opts_aud,\n",
    "    vid_opts=opts_vid,  # Video download settings\n",
    "    audio_file=name + \".mp3\",\n",
    "    input_file=name + \".mp4\",\n",
    "    output=\"output.mp4\",\n",
    "    split_length=chunks,\n",
    ")"
   ]
  },
  {
   "cell_type": "code",
   "execution_count": 4,
   "metadata": {
    "ExecuteTime": {
     "end_time": "2024-06-17T08:41:53.940840Z",
     "start_time": "2024-06-17T08:31:11.939839Z"
    }
   },
   "outputs": [
    {
     "name": "stderr",
     "output_type": "stream",
     "text": [
      "\u001b[32m2024-06-27 12:23:44.903\u001b[0m | \u001b[1mINFO    \u001b[0m | \u001b[36msrc.video_preprocessing.scene_detection.scene_detect\u001b[0m:\u001b[36mdetect_scenes\u001b[0m:\u001b[36m29\u001b[0m - \u001b[1mFound file\u001b[0m\n",
      "\u001b[32m2024-06-27 12:23:44.904\u001b[0m | \u001b[1mINFO    \u001b[0m | \u001b[36msrc.video_preprocessing.scene_detection.scene_detect\u001b[0m:\u001b[36mdetect_scenes\u001b[0m:\u001b[36m33\u001b[0m - \u001b[1mName:biology_chapter_3_3_treshhold_5.mp4,dirname:/Users/haseeb/Desktop/Prak_New/afm-vlm/data/raw/biology_chapter_3_3_treshhold_5/biology_chapter_3_3_treshhold_5.mp4\u001b[0m\n",
      "\u001b[32m2024-06-27 12:23:44.904\u001b[0m | \u001b[1mINFO    \u001b[0m | \u001b[36msrc.video_preprocessing.scene_detection.scene_detect\u001b[0m:\u001b[36mdetect_scenes\u001b[0m:\u001b[36m35\u001b[0m - \u001b[1mRunning scene_detection:\u001b[0m\n"
     ]
    },
    {
     "name": "stdout",
     "output_type": "stream",
     "text": [
      "[PySceneDetect] PySceneDetect 0.6.4\n",
      "[PySceneDetect] Output directory set:\n",
      "  /Users/haseeb/Desktop/Prak_New/afm-vlm/data/raw/biology_chapter_3_3_treshhold_5/extracted_keyframes\n",
      "[PySceneDetect] Scene list filename format:\n",
      "  $VIDEO_NAME-Scenes.csv\n",
      "[PySceneDetect] Image output format set: JPEG [Quality: 95]\n",
      "[PySceneDetect] Video output path set:  \n",
      "/Users/haseeb/Desktop/Prak_New/afm-vlm/data/raw/biology_chapter_3_3_treshhold_5/scene_snippets\n",
      "[PySceneDetect] ffmpeg arguments: -map 0:v:0 -map 0:a? -map 0:s? -c:v libx264 -preset veryfast -crf 22 -c:a aac\n",
      "[PySceneDetect] Detecting scenes...\n"
     ]
    },
    {
     "name": "stderr",
     "output_type": "stream",
     "text": [
      "  Detected: 84 | Progress: 100%|██████████| 98700/98700 [02:10<00:00, 757.37frames/s]\n"
     ]
    },
    {
     "name": "stdout",
     "output_type": "stream",
     "text": [
      "[PySceneDetect] Processed 98700 frames in 130.3 seconds (average 757.29 FPS).\n",
      "[PySceneDetect] Saving frame metrics to stats file: /Users/haseeb/Desktop/Prak_New/afm-vlm/data/raw/biology_chapter_3_3_treshhold_5/extracted_keyframes/biology_chapter_3_3_treshhold_5.stats.csv\n",
      "[PySceneDetect] Writing 98699 frames to CSV...\n",
      "[PySceneDetect] Detected 85 scenes, average shot length 46.4 seconds.\n",
      "[PySceneDetect] Writing scene list to CSV file:\n",
      "  /Users/haseeb/Desktop/Prak_New/afm-vlm/data/raw/biology_chapter_3_3_treshhold_5/extracted_keyframes/biology_chapter_3_3_treshhold_5-Scenes.csv\n",
      "[PySceneDetect] Scene List:\n",
      "-----------------------------------------------------------------------\n",
      " | Scene # | Start Frame |  Start Time  |  End Frame  |   End Time   |\n",
      "-----------------------------------------------------------------------\n",
      " |      1  |           1 | 00:00:00.000 |        3968 | 00:02:38.720 |\n",
      " |      2  |        3969 | 00:02:38.720 |        3994 | 00:02:39.760 |\n",
      " |      3  |        3995 | 00:02:39.760 |        4327 | 00:02:53.080 |\n",
      " |      4  |        4328 | 00:02:53.080 |        4352 | 00:02:54.080 |\n",
      " |      5  |        4353 | 00:02:54.080 |        4668 | 00:03:06.720 |\n",
      " |      6  |        4669 | 00:03:06.720 |        4971 | 00:03:18.840 |\n",
      " |      7  |        4972 | 00:03:18.840 |        6351 | 00:04:14.040 |\n",
      " |      8  |        6352 | 00:04:14.040 |        9352 | 00:06:14.080 |\n",
      " |      9  |        9353 | 00:06:14.080 |        9656 | 00:06:26.240 |\n",
      " |     10  |        9657 | 00:06:26.240 |       10107 | 00:06:44.280 |\n",
      " |     11  |       10108 | 00:06:44.280 |       12280 | 00:08:11.200 |\n",
      " |     12  |       12281 | 00:08:11.200 |       13476 | 00:08:59.040 |\n",
      " |     13  |       13477 | 00:08:59.040 |       15183 | 00:10:07.320 |\n",
      " |     14  |       15184 | 00:10:07.320 |       16211 | 00:10:48.440 |\n",
      " |     15  |       16212 | 00:10:48.440 |       17099 | 00:11:23.960 |\n",
      " |     16  |       17100 | 00:11:23.960 |       18359 | 00:12:14.360 |\n",
      " |     17  |       18360 | 00:12:14.360 |       20026 | 00:13:21.040 |\n",
      " |     18  |       20027 | 00:13:21.040 |       20269 | 00:13:30.760 |\n",
      " |     19  |       20270 | 00:13:30.760 |       21167 | 00:14:06.680 |\n",
      " |     20  |       21168 | 00:14:06.680 |       21626 | 00:14:25.040 |\n",
      " |     21  |       21627 | 00:14:25.040 |       23884 | 00:15:55.360 |\n",
      " |     22  |       23885 | 00:15:55.360 |       24416 | 00:16:16.640 |\n",
      " |     23  |       24417 | 00:16:16.640 |       25442 | 00:16:57.680 |\n",
      " |     24  |       25443 | 00:16:57.680 |       27156 | 00:18:06.240 |\n",
      " |     25  |       27157 | 00:18:06.240 |       27955 | 00:18:38.200 |\n",
      " |     26  |       27956 | 00:18:38.200 |       29841 | 00:19:53.640 |\n",
      " |     27  |       29842 | 00:19:53.640 |       30046 | 00:20:01.840 |\n",
      " |     28  |       30047 | 00:20:01.840 |       30606 | 00:20:24.240 |\n",
      " |     29  |       30607 | 00:20:24.240 |       33491 | 00:22:19.640 |\n",
      " |     30  |       33492 | 00:22:19.640 |       33797 | 00:22:31.880 |\n",
      " |     31  |       33798 | 00:22:31.880 |       34352 | 00:22:54.080 |\n",
      " |     32  |       34353 | 00:22:54.080 |       36936 | 00:24:37.440 |\n",
      " |     33  |       36937 | 00:24:37.440 |       38116 | 00:25:24.640 |\n",
      " |     34  |       38117 | 00:25:24.640 |       38765 | 00:25:50.600 |\n",
      " |     35  |       38766 | 00:25:50.600 |       39595 | 00:26:23.800 |\n",
      " |     36  |       39596 | 00:26:23.800 |       40043 | 00:26:41.720 |\n",
      " |     37  |       40044 | 00:26:41.720 |       41425 | 00:27:37.000 |\n",
      " |     38  |       41426 | 00:27:37.000 |       41953 | 00:27:58.120 |\n",
      " |     39  |       41954 | 00:27:58.120 |       42272 | 00:28:10.880 |\n",
      " |     40  |       42273 | 00:28:10.880 |       42993 | 00:28:39.720 |\n",
      " |     41  |       42994 | 00:28:39.720 |       45447 | 00:30:17.880 |\n",
      " |     42  |       45448 | 00:30:17.880 |       46522 | 00:31:00.880 |\n",
      " |     43  |       46523 | 00:31:00.880 |       48311 | 00:32:12.440 |\n",
      " |     44  |       48312 | 00:32:12.440 |       49112 | 00:32:44.480 |\n",
      " |     45  |       49113 | 00:32:44.480 |       50005 | 00:33:20.200 |\n",
      " |     46  |       50006 | 00:33:20.200 |       51566 | 00:34:22.640 |\n",
      " |     47  |       51567 | 00:34:22.640 |       53100 | 00:35:24.000 |\n",
      " |     48  |       53101 | 00:35:24.000 |       53578 | 00:35:43.120 |\n",
      " |     49  |       53579 | 00:35:43.120 |       54647 | 00:36:25.880 |\n",
      " |     50  |       54648 | 00:36:25.880 |       55879 | 00:37:15.160 |\n",
      " |     51  |       55880 | 00:37:15.160 |       56981 | 00:37:59.240 |\n",
      " |     52  |       56982 | 00:37:59.240 |       57506 | 00:38:20.240 |\n",
      " |     53  |       57507 | 00:38:20.240 |       58194 | 00:38:47.760 |\n",
      " |     54  |       58195 | 00:38:47.760 |       59696 | 00:39:47.840 |\n",
      " |     55  |       59697 | 00:39:47.840 |       60252 | 00:40:10.080 |\n",
      " |     56  |       60253 | 00:40:10.080 |       60528 | 00:40:21.120 |\n",
      " |     57  |       60529 | 00:40:21.120 |       60697 | 00:40:27.880 |\n",
      " |     58  |       60698 | 00:40:27.880 |       61556 | 00:41:02.240 |\n",
      " |     59  |       61557 | 00:41:02.240 |       64652 | 00:43:06.080 |\n",
      " |     60  |       64653 | 00:43:06.080 |       65205 | 00:43:28.200 |\n",
      " |     61  |       65206 | 00:43:28.200 |       66750 | 00:44:30.000 |\n",
      " |     62  |       66751 | 00:44:30.000 |       69043 | 00:46:01.720 |\n",
      " |     63  |       69044 | 00:46:01.720 |       71805 | 00:47:52.200 |\n",
      " |     64  |       71806 | 00:47:52.200 |       73312 | 00:48:52.480 |\n",
      " |     65  |       73313 | 00:48:52.480 |       75558 | 00:50:22.320 |\n",
      " |     66  |       75559 | 00:50:22.320 |       77637 | 00:51:45.480 |\n",
      " |     67  |       77638 | 00:51:45.480 |       81018 | 00:54:00.720 |\n",
      " |     68  |       81019 | 00:54:00.720 |       81827 | 00:54:33.080 |\n",
      " |     69  |       81828 | 00:54:33.080 |       82509 | 00:55:00.360 |\n",
      " |     70  |       82510 | 00:55:00.360 |       82732 | 00:55:09.280 |\n",
      " |     71  |       82733 | 00:55:09.280 |       84345 | 00:56:13.800 |\n",
      " |     72  |       84346 | 00:56:13.800 |       84713 | 00:56:28.520 |\n",
      " |     73  |       84714 | 00:56:28.520 |       86779 | 00:57:51.160 |\n",
      " |     74  |       86780 | 00:57:51.160 |       87368 | 00:58:14.720 |\n",
      " |     75  |       87369 | 00:58:14.720 |       87744 | 00:58:29.760 |\n",
      " |     76  |       87745 | 00:58:29.760 |       89276 | 00:59:31.040 |\n",
      " |     77  |       89277 | 00:59:31.040 |       89396 | 00:59:35.840 |\n",
      " |     78  |       89397 | 00:59:35.840 |       90975 | 01:00:39.000 |\n",
      " |     79  |       90976 | 01:00:39.000 |       90995 | 01:00:39.800 |\n",
      " |     80  |       90996 | 01:00:39.800 |       92283 | 01:01:31.320 |\n",
      " |     81  |       92284 | 01:01:31.320 |       93440 | 01:02:17.600 |\n",
      " |     82  |       93441 | 01:02:17.600 |       94485 | 01:02:59.400 |\n",
      " |     83  |       94486 | 01:02:59.400 |       94971 | 01:03:18.840 |\n",
      " |     84  |       94972 | 01:03:18.840 |       98382 | 01:05:35.280 |\n",
      " |     85  |       98383 | 01:05:35.280 |       98700 | 01:05:48.000 |\n",
      "-----------------------------------------------------------------------\n",
      "[PySceneDetect] Comma-separated timecode list:\n",
      "  00:02:38.720,00:02:39.760,00:02:53.080,00:02:54.080,00:03:06.720,00:03:18.840,00:04:14.040,00:06:14.080,00:06:26.240,00:06:44.280,00:08:11.200,00:08:59.040,00:10:07.320,00:10:48.440,00:11:23.960,00:12:14.360,00:13:21.040,00:13:30.760,00:14:06.680,00:14:25.040,00:15:55.360,00:16:16.640,00:16:57.680,00:18:06.240,00:18:38.200,00:19:53.640,00:20:01.840,00:20:24.240,00:22:19.640,00:22:31.880,00:22:54.080,00:24:37.440,00:25:24.640,00:25:50.600,00:26:23.800,00:26:41.720,00:27:37.000,00:27:58.120,00:28:10.880,00:28:39.720,00:30:17.880,00:31:00.880,00:32:12.440,00:32:44.480,00:33:20.200,00:34:22.640,00:35:24.000,00:35:43.120,00:36:25.880,00:37:15.160,00:37:59.240,00:38:20.240,00:38:47.760,00:39:47.840,00:40:10.080,00:40:21.120,00:40:27.880,00:41:02.240,00:43:06.080,00:43:28.200,00:44:30.000,00:46:01.720,00:47:52.200,00:48:52.480,00:50:22.320,00:51:45.480,00:54:00.720,00:54:33.080,00:55:00.360,00:55:09.280,00:56:13.800,00:56:28.520,00:57:51.160,00:58:14.720,00:58:29.760,00:59:31.040,00:59:35.840,01:00:39.000,01:00:39.800,01:01:31.320,01:02:17.600,01:02:59.400,01:03:18.840,01:05:35.280\n",
      "[PySceneDetect] Generating output images (1 per scene)...\n"
     ]
    },
    {
     "name": "stderr",
     "output_type": "stream",
     "text": [
      "100%|██████████| 85/85 [00:00<00:00, 141.70images/s]\n",
      "  0%|          | 0/98700 [00:00<?, ?frame/s]"
     ]
    },
    {
     "name": "stdout",
     "output_type": "stream",
     "text": [
      "[PySceneDetect] Splitting input video using ffmpeg, output path template:\n",
      "  $VIDEO_NAME-Scene-$SCENE_NUMBER.mp4\n"
     ]
    },
    {
     "name": "stderr",
     "output_type": "stream",
     "text": [
      "ffmpeg version 7.0.1 Copyright (c) 2000-2024 the FFmpeg developers\n",
      "  built with Apple clang version 15.0.0 (clang-1500.3.9.4)\n",
      "  configuration: --prefix=/opt/homebrew/Cellar/ffmpeg/7.0.1 --enable-shared --enable-pthreads --enable-version3 --cc=clang --host-cflags= --host-ldflags='-Wl,-ld_classic' --enable-ffplay --enable-gnutls --enable-gpl --enable-libaom --enable-libaribb24 --enable-libbluray --enable-libdav1d --enable-libharfbuzz --enable-libjxl --enable-libmp3lame --enable-libopus --enable-librav1e --enable-librist --enable-librubberband --enable-libsnappy --enable-libsrt --enable-libssh --enable-libsvtav1 --enable-libtesseract --enable-libtheora --enable-libvidstab --enable-libvmaf --enable-libvorbis --enable-libvpx --enable-libwebp --enable-libx264 --enable-libx265 --enable-libxml2 --enable-libxvid --enable-lzma --enable-libfontconfig --enable-libfreetype --enable-frei0r --enable-libass --enable-libopencore-amrnb --enable-libopencore-amrwb --enable-libopenjpeg --enable-libspeex --enable-libsoxr --enable-libzmq --enable-libzimg --disable-libjack --disable-indev=jack --enable-videotoolbox --enable-audiotoolbox --enable-neon\n",
      "  libavutil      59.  8.100 / 59.  8.100\n",
      "  libavcodec     61.  3.100 / 61.  3.100\n",
      "  libavformat    61.  1.100 / 61.  1.100\n",
      "  libavdevice    61.  1.100 / 61.  1.100\n",
      "  libavfilter    10.  1.100 / 10.  1.100\n",
      "  libswscale      8.  1.100 /  8.  1.100\n",
      "  libswresample   5.  1.100 /  5.  1.100\n",
      "  libpostproc    58.  1.100 / 58.  1.100\n",
      "Input #0, mov,mp4,m4a,3gp,3g2,mj2, from '/Users/haseeb/Desktop/Prak_New/afm-vlm/data/raw/biology_chapter_3_3_treshhold_5/biology_chapter_3_3_treshhold_5.mp4':\n",
      "  Metadata:\n",
      "    major_brand     : mp42\n",
      "    minor_version   : 0\n",
      "    compatible_brands: isommp42\n",
      "    creation_time   : 2024-03-26T10:13:38.000000Z\n",
      "  Duration: 01:05:48.02, start: 0.000000, bitrate: 182 kb/s\n",
      "  Stream #0:0[0x1](und): Video: h264 (Main) (avc1 / 0x31637661), yuv420p(tv, bt709, progressive), 482x360 [SAR 1:1 DAR 241:180], 51 kb/s, 25 fps, 25 tbr, 12800 tbn (default)\n",
      "      Metadata:\n",
      "        creation_time   : 2024-03-26T10:13:38.000000Z\n",
      "        handler_name    : ISO Media file produced by Google Inc. Created on: 03/26/2024.\n",
      "        vendor_id       : [0][0][0][0]\n",
      "  Stream #0:1[0x2](und): Audio: aac (LC) (mp4a / 0x6134706D), 44100 Hz, stereo, fltp, 127 kb/s (default)\n",
      "      Metadata:\n",
      "        creation_time   : 2024-03-26T10:13:38.000000Z\n",
      "        handler_name    : ISO Media file produced by Google Inc. Created on: 03/26/2024.\n",
      "        vendor_id       : [0][0][0][0]\n",
      "Stream mapping:\n",
      "  Stream #0:0 -> #0:0 (h264 (native) -> h264 (libx264))\n",
      "  Stream #0:1 -> #0:1 (aac (native) -> aac (native))\n",
      "[libx264 @ 0x13f62bf90] using SAR=1/1\n",
      "[libx264 @ 0x13f62bf90] using cpu capabilities: ARMv8 NEON\n",
      "[libx264 @ 0x13f62bf90] profile High, level 2.1, 4:2:0, 8-bit\n",
      "[libx264 @ 0x13f62bf90] 264 - core 164 r3108 31e19f9 - H.264/MPEG-4 AVC codec - Copyleft 2003-2023 - http://www.videolan.org/x264.html - options: cabac=1 ref=1 deblock=1:0:0 analyse=0x3:0x113 me=hex subme=2 psy=1 psy_rd=1.00:0.00 mixed_ref=0 me_range=16 chroma_me=1 trellis=0 8x8dct=1 cqm=0 deadzone=21,11 fast_pskip=1 chroma_qp_offset=0 threads=11 lookahead_threads=2 sliced_threads=0 nr=0 decimate=1 interlaced=0 bluray_compat=0 constrained_intra=0 bframes=3 b_pyramid=2 b_adapt=1 b_bias=0 direct=1 weightb=1 open_gop=0 weightp=1 keyint=250 keyint_min=25 scenecut=40 intra_refresh=0 rc_lookahead=10 rc=crf mbtree=1 crf=22.0 qcomp=0.60 qpmin=0 qpmax=69 qpstep=4 ip_ratio=1.40 aq=1:1.00\n",
      "Output #0, mp4, to '/Users/haseeb/Desktop/Prak_New/afm-vlm/data/raw/biology_chapter_3_3_treshhold_5/scene_snippets/biology_chapter_3_3_treshhold_5-Scene-001.mp4':\n",
      "  Metadata:\n",
      "    major_brand     : mp42\n",
      "    minor_version   : 0\n",
      "    compatible_brands: isommp42\n",
      "    encoder         : Lavf61.1.100\n",
      "  Stream #0:0(und): Video: h264 (avc1 / 0x31637661), yuv420p(tv, bt709, progressive), 482x360 [SAR 1:1 DAR 241:180], q=2-31, 25 fps, 12800 tbn (default)\n",
      "      Metadata:\n",
      "        creation_time   : 2024-03-26T10:13:38.000000Z\n",
      "        handler_name    : ISO Media file produced by Google Inc. Created on: 03/26/2024.\n",
      "        vendor_id       : [0][0][0][0]\n",
      "        encoder         : Lavc61.3.100 libx264\n",
      "      Side data:\n",
      "        cpb: bitrate max/min/avg: 0/0/0 buffer size: 0 vbv_delay: N/A\n",
      "  Stream #0:1(und): Audio: aac (LC) (mp4a / 0x6134706D), 44100 Hz, stereo, fltp, 128 kb/s (default)\n",
      "      Metadata:\n",
      "        creation_time   : 2024-03-26T10:13:38.000000Z\n",
      "        handler_name    : ISO Media file produced by Google Inc. Created on: 03/26/2024.\n",
      "        vendor_id       : [0][0][0][0]\n",
      "        encoder         : Lavc61.3.100 aac\n",
      "[out#0/mp4 @ 0x13f62f160] video:528KiB audio:2469KiB subtitle:0KiB other streams:0KiB global headers:0KiB muxing overhead: 4.386528%\n",
      "frame= 3968 fps=1192 q=-1.0 Lsize=    3128KiB time=00:02:38.64 bitrate= 161.5kbits/s speed=47.7x    \n",
      "[libx264 @ 0x13f62bf90] frame I:16    Avg QP:14.29  size: 29060\n",
      "[libx264 @ 0x13f62bf90] frame P:1000  Avg QP: 9.12  size:    22\n",
      "[libx264 @ 0x13f62bf90] frame B:2952  Avg QP:11.67  size:    18\n",
      "[libx264 @ 0x13f62bf90] consecutive B-frames:  0.8%  0.0%  0.0% 99.2%\n",
      "[libx264 @ 0x13f62bf90] mb I  I16..4: 49.1%  0.3% 50.6%\n",
      "[libx264 @ 0x13f62bf90] mb P  I16..4:  0.0%  0.0%  0.0%  P16..4:  0.0%  0.0%  0.0%  0.0%  0.0%    skip:100.0%\n",
      "[libx264 @ 0x13f62bf90] mb B  I16..4:  0.0%  0.0%  0.0%  B16..8:  0.0%  0.0%  0.0%  direct: 0.0%  skip:100.0%  L0:50.0% L1:50.0% BI: 0.0%\n",
      "[libx264 @ 0x13f62bf90] 8x8 transform intra:0.3% inter:12.6%\n",
      "[libx264 @ 0x13f62bf90] coded y,uvDC,uvAC intra: 48.0% 52.8% 48.7% inter: 0.0% 0.0% 0.0%\n",
      "[libx264 @ 0x13f62bf90] i16 v,h,dc,p: 84%  7%  9%  0%\n",
      "[libx264 @ 0x13f62bf90] i8 v,h,dc,ddl,ddr,vr,hd,vl,hu: 26% 25% 35%  0%  0%  0%  0%  2% 12%\n",
      "[libx264 @ 0x13f62bf90] i4 v,h,dc,ddl,ddr,vr,hd,vl,hu: 29% 22% 14%  2%  8%  6%  5%  5%  8%\n",
      "[libx264 @ 0x13f62bf90] i8c dc,h,v,p: 52% 28% 17%  3%\n",
      "[libx264 @ 0x13f62bf90] Weighted P-Frames: Y:0.0% UV:0.0%\n",
      "[libx264 @ 0x13f62bf90] kb/s:27.19\n",
      "[aac @ 0x1400576c0] Qavg: 861.402\n",
      "  4%|▍         | 3994/98700 [00:03<01:26, 1093.65frame/s]"
     ]
    },
    {
     "name": "stdout",
     "output_type": "stream",
     "text": [
      "[PySceneDetect] Output from ffmpeg for Scene 1 shown above, splitting remaining scenes...\n"
     ]
    },
    {
     "name": "stderr",
     "output_type": "stream",
     "text": [
      "100%|█████████▉| 98382/98700 [01:28<00:00, 1220.94frame/s]"
     ]
    },
    {
     "name": "stdout",
     "output_type": "stream",
     "text": [
      "[PySceneDetect] Average processing speed 1112.13 frames/sec.\n",
      "[PySceneDetect] Video splitting completed, scenes written to disk.\n"
     ]
    },
    {
     "name": "stderr",
     "output_type": "stream",
     "text": [
      "100%|██████████| 98700/98700 [01:28<00:00, 1112.13frame/s]\n"
     ]
    }
   ],
   "source": [
    "#  Now that we have downloaded the video we want to perform scene_Detection:\n",
    "detect_scenes(data_path)"
   ]
  },
  {
   "cell_type": "code",
   "execution_count": 5,
   "metadata": {
    "ExecuteTime": {
     "end_time": "2024-06-17T08:43:22.576364Z",
     "start_time": "2024-06-17T08:41:53.940840Z"
    }
   },
   "outputs": [
    {
     "name": "stderr",
     "output_type": "stream",
     "text": [
      "  0%|          | 0/85 [00:00<?, ?it/s]"
     ]
    },
    {
     "name": "stdout",
     "output_type": "stream",
     "text": [
      "MoviePy - Writing audio in /Users/haseeb/Desktop/Prak_New/afm-vlm/data/raw/biology_chapter_3_3_treshhold_5/audio_chunks/biology_chapter_3_3_treshhold_5-Scene-081.wav\n"
     ]
    },
    {
     "name": "stderr",
     "output_type": "stream",
     "text": [
      "  0%|          | 0/85 [00:00<?, ?it/s]\u001b[32m2024-06-27 12:27:35.278\u001b[0m | \u001b[1mINFO    \u001b[0m | \u001b[36msrc.video_preprocessing.download_videos.download_utils\u001b[0m:\u001b[36mextract_and_store_audio\u001b[0m:\u001b[36m287\u001b[0m - \u001b[1mAudio extracted and saved as /Users/haseeb/Desktop/Prak_New/afm-vlm/data/raw/biology_chapter_3_3_treshhold_5/audio_chunks/biology_chapter_3_3_treshhold_5-Scene-081.wav\u001b[0m\n",
      "  1%|          | 1/85 [00:00<00:32,  2.57it/s]"
     ]
    },
    {
     "name": "stdout",
     "output_type": "stream",
     "text": [
      "MoviePy - Done.\n"
     ]
    },
    {
     "name": "stderr",
     "output_type": "stream",
     "text": [
      "  1%|          | 1/85 [00:00<00:32,  2.57it/s]"
     ]
    },
    {
     "name": "stdout",
     "output_type": "stream",
     "text": [
      "MoviePy - Writing audio in /Users/haseeb/Desktop/Prak_New/afm-vlm/data/raw/biology_chapter_3_3_treshhold_5/audio_chunks/biology_chapter_3_3_treshhold_5-Scene-056.wav\n"
     ]
    },
    {
     "name": "stderr",
     "output_type": "stream",
     "text": [
      "  1%|          | 1/85 [00:00<00:32,  2.57it/s]\u001b[32m2024-06-27 12:27:35.524\u001b[0m | \u001b[1mINFO    \u001b[0m | \u001b[36msrc.video_preprocessing.download_videos.download_utils\u001b[0m:\u001b[36mextract_and_store_audio\u001b[0m:\u001b[36m287\u001b[0m - \u001b[1mAudio extracted and saved as /Users/haseeb/Desktop/Prak_New/afm-vlm/data/raw/biology_chapter_3_3_treshhold_5/audio_chunks/biology_chapter_3_3_treshhold_5-Scene-056.wav\u001b[0m\n",
      "  2%|▏         | 2/85 [00:00<00:25,  3.28it/s]"
     ]
    },
    {
     "name": "stdout",
     "output_type": "stream",
     "text": [
      "MoviePy - Done.\n"
     ]
    },
    {
     "name": "stderr",
     "output_type": "stream",
     "text": [
      "  2%|▏         | 2/85 [00:00<00:25,  3.28it/s]"
     ]
    },
    {
     "name": "stdout",
     "output_type": "stream",
     "text": [
      "MoviePy - Writing audio in /Users/haseeb/Desktop/Prak_New/afm-vlm/data/raw/biology_chapter_3_3_treshhold_5/audio_chunks/biology_chapter_3_3_treshhold_5-Scene-042.wav\n"
     ]
    },
    {
     "name": "stderr",
     "output_type": "stream",
     "text": [
      "  2%|▏         | 2/85 [00:00<00:25,  3.28it/s]\u001b[32m2024-06-27 12:27:35.812\u001b[0m | \u001b[1mINFO    \u001b[0m | \u001b[36msrc.video_preprocessing.download_videos.download_utils\u001b[0m:\u001b[36mextract_and_store_audio\u001b[0m:\u001b[36m287\u001b[0m - \u001b[1mAudio extracted and saved as /Users/haseeb/Desktop/Prak_New/afm-vlm/data/raw/biology_chapter_3_3_treshhold_5/audio_chunks/biology_chapter_3_3_treshhold_5-Scene-042.wav\u001b[0m\n",
      "  4%|▎         | 3/85 [00:00<00:24,  3.37it/s]"
     ]
    },
    {
     "name": "stdout",
     "output_type": "stream",
     "text": [
      "MoviePy - Done.\n"
     ]
    },
    {
     "name": "stderr",
     "output_type": "stream",
     "text": [
      "  4%|▎         | 3/85 [00:01<00:24,  3.37it/s]"
     ]
    },
    {
     "name": "stdout",
     "output_type": "stream",
     "text": [
      "MoviePy - Writing audio in /Users/haseeb/Desktop/Prak_New/afm-vlm/data/raw/biology_chapter_3_3_treshhold_5/audio_chunks/biology_chapter_3_3_treshhold_5-Scene-043.wav\n"
     ]
    },
    {
     "name": "stderr",
     "output_type": "stream",
     "text": [
      "  4%|▎         | 3/85 [00:01<00:24,  3.37it/s]\u001b[32m2024-06-27 12:27:36.186\u001b[0m | \u001b[1mINFO    \u001b[0m | \u001b[36msrc.video_preprocessing.download_videos.download_utils\u001b[0m:\u001b[36mextract_and_store_audio\u001b[0m:\u001b[36m287\u001b[0m - \u001b[1mAudio extracted and saved as /Users/haseeb/Desktop/Prak_New/afm-vlm/data/raw/biology_chapter_3_3_treshhold_5/audio_chunks/biology_chapter_3_3_treshhold_5-Scene-043.wav\u001b[0m\n",
      "  5%|▍         | 4/85 [00:01<00:26,  3.06it/s]"
     ]
    },
    {
     "name": "stdout",
     "output_type": "stream",
     "text": [
      "MoviePy - Done.\n",
      "MoviePy - Writing audio in /Users/haseeb/Desktop/Prak_New/afm-vlm/data/raw/biology_chapter_3_3_treshhold_5/audio_chunks/biology_chapter_3_3_treshhold_5-Scene-057.wav\n"
     ]
    },
    {
     "name": "stderr",
     "output_type": "stream",
     "text": [
      "  5%|▍         | 4/85 [00:01<00:26,  3.06it/s]\u001b[32m2024-06-27 12:27:36.389\u001b[0m | \u001b[1mINFO    \u001b[0m | \u001b[36msrc.video_preprocessing.download_videos.download_utils\u001b[0m:\u001b[36mextract_and_store_audio\u001b[0m:\u001b[36m287\u001b[0m - \u001b[1mAudio extracted and saved as /Users/haseeb/Desktop/Prak_New/afm-vlm/data/raw/biology_chapter_3_3_treshhold_5/audio_chunks/biology_chapter_3_3_treshhold_5-Scene-057.wav\u001b[0m\n",
      "  6%|▌         | 5/85 [00:01<00:22,  3.54it/s]"
     ]
    },
    {
     "name": "stdout",
     "output_type": "stream",
     "text": [
      "MoviePy - Done.\n",
      "MoviePy - Writing audio in /Users/haseeb/Desktop/Prak_New/afm-vlm/data/raw/biology_chapter_3_3_treshhold_5/audio_chunks/biology_chapter_3_3_treshhold_5-Scene-080.wav\n"
     ]
    },
    {
     "name": "stderr",
     "output_type": "stream",
     "text": [
      "  6%|▌         | 5/85 [00:01<00:22,  3.54it/s]\u001b[32m2024-06-27 12:27:36.704\u001b[0m | \u001b[1mINFO    \u001b[0m | \u001b[36msrc.video_preprocessing.download_videos.download_utils\u001b[0m:\u001b[36mextract_and_store_audio\u001b[0m:\u001b[36m287\u001b[0m - \u001b[1mAudio extracted and saved as /Users/haseeb/Desktop/Prak_New/afm-vlm/data/raw/biology_chapter_3_3_treshhold_5/audio_chunks/biology_chapter_3_3_treshhold_5-Scene-080.wav\u001b[0m\n",
      "  7%|▋         | 6/85 [00:01<00:23,  3.41it/s]"
     ]
    },
    {
     "name": "stdout",
     "output_type": "stream",
     "text": [
      "MoviePy - Done.\n",
      "MoviePy - Writing audio in /Users/haseeb/Desktop/Prak_New/afm-vlm/data/raw/biology_chapter_3_3_treshhold_5/audio_chunks/biology_chapter_3_3_treshhold_5-Scene-082.wav\n"
     ]
    },
    {
     "name": "stderr",
     "output_type": "stream",
     "text": [
      "  7%|▋         | 6/85 [00:02<00:23,  3.41it/s]\u001b[32m2024-06-27 12:27:37.054\u001b[0m | \u001b[1mINFO    \u001b[0m | \u001b[36msrc.video_preprocessing.download_videos.download_utils\u001b[0m:\u001b[36mextract_and_store_audio\u001b[0m:\u001b[36m287\u001b[0m - \u001b[1mAudio extracted and saved as /Users/haseeb/Desktop/Prak_New/afm-vlm/data/raw/biology_chapter_3_3_treshhold_5/audio_chunks/biology_chapter_3_3_treshhold_5-Scene-082.wav\u001b[0m\n",
      "  8%|▊         | 7/85 [00:02<00:24,  3.20it/s]"
     ]
    },
    {
     "name": "stdout",
     "output_type": "stream",
     "text": [
      "MoviePy - Done.\n",
      "MoviePy - Writing audio in /Users/haseeb/Desktop/Prak_New/afm-vlm/data/raw/biology_chapter_3_3_treshhold_5/audio_chunks/biology_chapter_3_3_treshhold_5-Scene-069.wav\n"
     ]
    },
    {
     "name": "stderr",
     "output_type": "stream",
     "text": [
      "  8%|▊         | 7/85 [00:02<00:24,  3.20it/s]\u001b[32m2024-06-27 12:27:37.311\u001b[0m | \u001b[1mINFO    \u001b[0m | \u001b[36msrc.video_preprocessing.download_videos.download_utils\u001b[0m:\u001b[36mextract_and_store_audio\u001b[0m:\u001b[36m287\u001b[0m - \u001b[1mAudio extracted and saved as /Users/haseeb/Desktop/Prak_New/afm-vlm/data/raw/biology_chapter_3_3_treshhold_5/audio_chunks/biology_chapter_3_3_treshhold_5-Scene-069.wav\u001b[0m\n",
      "  9%|▉         | 8/85 [00:02<00:22,  3.40it/s]"
     ]
    },
    {
     "name": "stdout",
     "output_type": "stream",
     "text": [
      "MoviePy - Done.\n",
      "MoviePy - Writing audio in /Users/haseeb/Desktop/Prak_New/afm-vlm/data/raw/biology_chapter_3_3_treshhold_5/audio_chunks/biology_chapter_3_3_treshhold_5-Scene-041.wav\n"
     ]
    },
    {
     "name": "stderr",
     "output_type": "stream",
     "text": [
      "  9%|▉         | 8/85 [00:02<00:22,  3.40it/s]\u001b[32m2024-06-27 12:27:37.751\u001b[0m | \u001b[1mINFO    \u001b[0m | \u001b[36msrc.video_preprocessing.download_videos.download_utils\u001b[0m:\u001b[36mextract_and_store_audio\u001b[0m:\u001b[36m287\u001b[0m - \u001b[1mAudio extracted and saved as /Users/haseeb/Desktop/Prak_New/afm-vlm/data/raw/biology_chapter_3_3_treshhold_5/audio_chunks/biology_chapter_3_3_treshhold_5-Scene-041.wav\u001b[0m\n",
      " 11%|█         | 9/85 [00:03<00:25,  2.94it/s]"
     ]
    },
    {
     "name": "stdout",
     "output_type": "stream",
     "text": [
      "MoviePy - Done.\n",
      "MoviePy - Writing audio in /Users/haseeb/Desktop/Prak_New/afm-vlm/data/raw/biology_chapter_3_3_treshhold_5/audio_chunks/biology_chapter_3_3_treshhold_5-Scene-055.wav\n"
     ]
    },
    {
     "name": "stderr",
     "output_type": "stream",
     "text": [
      " 11%|█         | 9/85 [00:03<00:25,  2.94it/s]\u001b[32m2024-06-27 12:27:38.000\u001b[0m | \u001b[1mINFO    \u001b[0m | \u001b[36msrc.video_preprocessing.download_videos.download_utils\u001b[0m:\u001b[36mextract_and_store_audio\u001b[0m:\u001b[36m287\u001b[0m - \u001b[1mAudio extracted and saved as /Users/haseeb/Desktop/Prak_New/afm-vlm/data/raw/biology_chapter_3_3_treshhold_5/audio_chunks/biology_chapter_3_3_treshhold_5-Scene-055.wav\u001b[0m\n",
      " 12%|█▏        | 10/85 [00:03<00:23,  3.21it/s]"
     ]
    },
    {
     "name": "stdout",
     "output_type": "stream",
     "text": [
      "MoviePy - Done.\n",
      "MoviePy - Writing audio in /Users/haseeb/Desktop/Prak_New/afm-vlm/data/raw/biology_chapter_3_3_treshhold_5/audio_chunks/biology_chapter_3_3_treshhold_5-Scene-054.wav\n"
     ]
    },
    {
     "name": "stderr",
     "output_type": "stream",
     "text": [
      " 12%|█▏        | 10/85 [00:03<00:23,  3.21it/s]\u001b[32m2024-06-27 12:27:38.314\u001b[0m | \u001b[1mINFO    \u001b[0m | \u001b[36msrc.video_preprocessing.download_videos.download_utils\u001b[0m:\u001b[36mextract_and_store_audio\u001b[0m:\u001b[36m287\u001b[0m - \u001b[1mAudio extracted and saved as /Users/haseeb/Desktop/Prak_New/afm-vlm/data/raw/biology_chapter_3_3_treshhold_5/audio_chunks/biology_chapter_3_3_treshhold_5-Scene-054.wav\u001b[0m\n",
      " 13%|█▎        | 11/85 [00:03<00:23,  3.20it/s]"
     ]
    },
    {
     "name": "stdout",
     "output_type": "stream",
     "text": [
      "MoviePy - Done.\n",
      "MoviePy - Writing audio in /Users/haseeb/Desktop/Prak_New/afm-vlm/data/raw/biology_chapter_3_3_treshhold_5/audio_chunks/biology_chapter_3_3_treshhold_5-Scene-040.wav\n"
     ]
    },
    {
     "name": "stderr",
     "output_type": "stream",
     "text": [
      " 13%|█▎        | 11/85 [00:03<00:23,  3.20it/s]\u001b[32m2024-06-27 12:27:38.563\u001b[0m | \u001b[1mINFO    \u001b[0m | \u001b[36msrc.video_preprocessing.download_videos.download_utils\u001b[0m:\u001b[36mextract_and_store_audio\u001b[0m:\u001b[36m287\u001b[0m - \u001b[1mAudio extracted and saved as /Users/haseeb/Desktop/Prak_New/afm-vlm/data/raw/biology_chapter_3_3_treshhold_5/audio_chunks/biology_chapter_3_3_treshhold_5-Scene-040.wav\u001b[0m\n",
      " 14%|█▍        | 12/85 [00:03<00:21,  3.41it/s]"
     ]
    },
    {
     "name": "stdout",
     "output_type": "stream",
     "text": [
      "MoviePy - Done.\n",
      "MoviePy - Writing audio in /Users/haseeb/Desktop/Prak_New/afm-vlm/data/raw/biology_chapter_3_3_treshhold_5/audio_chunks/biology_chapter_3_3_treshhold_5-Scene-068.wav\n"
     ]
    },
    {
     "name": "stderr",
     "output_type": "stream",
     "text": [
      " 14%|█▍        | 12/85 [00:03<00:21,  3.41it/s]\u001b[32m2024-06-27 12:27:38.828\u001b[0m | \u001b[1mINFO    \u001b[0m | \u001b[36msrc.video_preprocessing.download_videos.download_utils\u001b[0m:\u001b[36mextract_and_store_audio\u001b[0m:\u001b[36m287\u001b[0m - \u001b[1mAudio extracted and saved as /Users/haseeb/Desktop/Prak_New/afm-vlm/data/raw/biology_chapter_3_3_treshhold_5/audio_chunks/biology_chapter_3_3_treshhold_5-Scene-068.wav\u001b[0m\n",
      " 15%|█▌        | 13/85 [00:04<00:20,  3.51it/s]"
     ]
    },
    {
     "name": "stdout",
     "output_type": "stream",
     "text": [
      "MoviePy - Done.\n",
      "MoviePy - Writing audio in /Users/haseeb/Desktop/Prak_New/afm-vlm/data/raw/biology_chapter_3_3_treshhold_5/audio_chunks/biology_chapter_3_3_treshhold_5-Scene-083.wav\n"
     ]
    },
    {
     "name": "stderr",
     "output_type": "stream",
     "text": [
      " 15%|█▌        | 13/85 [00:04<00:20,  3.51it/s]\u001b[32m2024-06-27 12:27:39.076\u001b[0m | \u001b[1mINFO    \u001b[0m | \u001b[36msrc.video_preprocessing.download_videos.download_utils\u001b[0m:\u001b[36mextract_and_store_audio\u001b[0m:\u001b[36m287\u001b[0m - \u001b[1mAudio extracted and saved as /Users/haseeb/Desktop/Prak_New/afm-vlm/data/raw/biology_chapter_3_3_treshhold_5/audio_chunks/biology_chapter_3_3_treshhold_5-Scene-083.wav\u001b[0m\n",
      " 16%|█▋        | 14/85 [00:04<00:19,  3.65it/s]"
     ]
    },
    {
     "name": "stdout",
     "output_type": "stream",
     "text": [
      "MoviePy - Done.\n",
      "MoviePy - Writing audio in /Users/haseeb/Desktop/Prak_New/afm-vlm/data/raw/biology_chapter_3_3_treshhold_5/audio_chunks/biology_chapter_3_3_treshhold_5-Scene-044.wav\n"
     ]
    },
    {
     "name": "stderr",
     "output_type": "stream",
     "text": [
      " 16%|█▋        | 14/85 [00:04<00:19,  3.65it/s]\u001b[32m2024-06-27 12:27:39.355\u001b[0m | \u001b[1mINFO    \u001b[0m | \u001b[36msrc.video_preprocessing.download_videos.download_utils\u001b[0m:\u001b[36mextract_and_store_audio\u001b[0m:\u001b[36m287\u001b[0m - \u001b[1mAudio extracted and saved as /Users/haseeb/Desktop/Prak_New/afm-vlm/data/raw/biology_chapter_3_3_treshhold_5/audio_chunks/biology_chapter_3_3_treshhold_5-Scene-044.wav\u001b[0m\n",
      " 18%|█▊        | 15/85 [00:04<00:19,  3.63it/s]"
     ]
    },
    {
     "name": "stdout",
     "output_type": "stream",
     "text": [
      "MoviePy - Done.\n",
      "MoviePy - Writing audio in /Users/haseeb/Desktop/Prak_New/afm-vlm/data/raw/biology_chapter_3_3_treshhold_5/audio_chunks/biology_chapter_3_3_treshhold_5-Scene-050.wav\n"
     ]
    },
    {
     "name": "stderr",
     "output_type": "stream",
     "text": [
      " 18%|█▊        | 15/85 [00:04<00:19,  3.63it/s]\u001b[32m2024-06-27 12:27:39.719\u001b[0m | \u001b[1mINFO    \u001b[0m | \u001b[36msrc.video_preprocessing.download_videos.download_utils\u001b[0m:\u001b[36mextract_and_store_audio\u001b[0m:\u001b[36m287\u001b[0m - \u001b[1mAudio extracted and saved as /Users/haseeb/Desktop/Prak_New/afm-vlm/data/raw/biology_chapter_3_3_treshhold_5/audio_chunks/biology_chapter_3_3_treshhold_5-Scene-050.wav\u001b[0m\n",
      " 19%|█▉        | 16/85 [00:04<00:20,  3.31it/s]"
     ]
    },
    {
     "name": "stdout",
     "output_type": "stream",
     "text": [
      "MoviePy - Done.\n",
      "MoviePy - Writing audio in /Users/haseeb/Desktop/Prak_New/afm-vlm/data/raw/biology_chapter_3_3_treshhold_5/audio_chunks/biology_chapter_3_3_treshhold_5-Scene-078.wav\n"
     ]
    },
    {
     "name": "stderr",
     "output_type": "stream",
     "text": [
      " 19%|█▉        | 16/85 [00:05<00:20,  3.31it/s]\u001b[32m2024-06-27 12:27:40.043\u001b[0m | \u001b[1mINFO    \u001b[0m | \u001b[36msrc.video_preprocessing.download_videos.download_utils\u001b[0m:\u001b[36mextract_and_store_audio\u001b[0m:\u001b[36m287\u001b[0m - \u001b[1mAudio extracted and saved as /Users/haseeb/Desktop/Prak_New/afm-vlm/data/raw/biology_chapter_3_3_treshhold_5/audio_chunks/biology_chapter_3_3_treshhold_5-Scene-078.wav\u001b[0m\n",
      " 20%|██        | 17/85 [00:05<00:20,  3.24it/s]"
     ]
    },
    {
     "name": "stdout",
     "output_type": "stream",
     "text": [
      "MoviePy - Done.\n",
      "MoviePy - Writing audio in /Users/haseeb/Desktop/Prak_New/afm-vlm/data/raw/biology_chapter_3_3_treshhold_5/audio_chunks/biology_chapter_3_3_treshhold_5-Scene-079.wav\n"
     ]
    },
    {
     "name": "stderr",
     "output_type": "stream",
     "text": [
      " 20%|██        | 17/85 [00:05<00:20,  3.24it/s]\u001b[32m2024-06-27 12:27:40.256\u001b[0m | \u001b[1mINFO    \u001b[0m | \u001b[36msrc.video_preprocessing.download_videos.download_utils\u001b[0m:\u001b[36mextract_and_store_audio\u001b[0m:\u001b[36m287\u001b[0m - \u001b[1mAudio extracted and saved as /Users/haseeb/Desktop/Prak_New/afm-vlm/data/raw/biology_chapter_3_3_treshhold_5/audio_chunks/biology_chapter_3_3_treshhold_5-Scene-079.wav\u001b[0m\n",
      " 21%|██        | 18/85 [00:05<00:18,  3.57it/s]"
     ]
    },
    {
     "name": "stdout",
     "output_type": "stream",
     "text": [
      "MoviePy - Done.\n",
      "MoviePy - Writing audio in /Users/haseeb/Desktop/Prak_New/afm-vlm/data/raw/biology_chapter_3_3_treshhold_5/audio_chunks/biology_chapter_3_3_treshhold_5-Scene-051.wav\n"
     ]
    },
    {
     "name": "stderr",
     "output_type": "stream",
     "text": [
      " 21%|██        | 18/85 [00:05<00:18,  3.57it/s]\u001b[32m2024-06-27 12:27:40.566\u001b[0m | \u001b[1mINFO    \u001b[0m | \u001b[36msrc.video_preprocessing.download_videos.download_utils\u001b[0m:\u001b[36mextract_and_store_audio\u001b[0m:\u001b[36m287\u001b[0m - \u001b[1mAudio extracted and saved as /Users/haseeb/Desktop/Prak_New/afm-vlm/data/raw/biology_chapter_3_3_treshhold_5/audio_chunks/biology_chapter_3_3_treshhold_5-Scene-051.wav\u001b[0m\n",
      " 22%|██▏       | 19/85 [00:05<00:19,  3.46it/s]"
     ]
    },
    {
     "name": "stdout",
     "output_type": "stream",
     "text": [
      "MoviePy - Done.\n",
      "MoviePy - Writing audio in /Users/haseeb/Desktop/Prak_New/afm-vlm/data/raw/biology_chapter_3_3_treshhold_5/audio_chunks/biology_chapter_3_3_treshhold_5-Scene-045.wav\n"
     ]
    },
    {
     "name": "stderr",
     "output_type": "stream",
     "text": [
      " 22%|██▏       | 19/85 [00:05<00:19,  3.46it/s]\u001b[32m2024-06-27 12:27:40.850\u001b[0m | \u001b[1mINFO    \u001b[0m | \u001b[36msrc.video_preprocessing.download_videos.download_utils\u001b[0m:\u001b[36mextract_and_store_audio\u001b[0m:\u001b[36m287\u001b[0m - \u001b[1mAudio extracted and saved as /Users/haseeb/Desktop/Prak_New/afm-vlm/data/raw/biology_chapter_3_3_treshhold_5/audio_chunks/biology_chapter_3_3_treshhold_5-Scene-045.wav\u001b[0m\n",
      " 24%|██▎       | 20/85 [00:06<00:18,  3.48it/s]"
     ]
    },
    {
     "name": "stdout",
     "output_type": "stream",
     "text": [
      "MoviePy - Done.\n",
      "MoviePy - Writing audio in /Users/haseeb/Desktop/Prak_New/afm-vlm/data/raw/biology_chapter_3_3_treshhold_5/audio_chunks/biology_chapter_3_3_treshhold_5-Scene-084.wav\n"
     ]
    },
    {
     "name": "stderr",
     "output_type": "stream",
     "text": [
      " 24%|██▎       | 20/85 [00:06<00:18,  3.48it/s]\u001b[32m2024-06-27 12:27:41.398\u001b[0m | \u001b[1mINFO    \u001b[0m | \u001b[36msrc.video_preprocessing.download_videos.download_utils\u001b[0m:\u001b[36mextract_and_store_audio\u001b[0m:\u001b[36m287\u001b[0m - \u001b[1mAudio extracted and saved as /Users/haseeb/Desktop/Prak_New/afm-vlm/data/raw/biology_chapter_3_3_treshhold_5/audio_chunks/biology_chapter_3_3_treshhold_5-Scene-084.wav\u001b[0m\n",
      " 25%|██▍       | 21/85 [00:06<00:23,  2.73it/s]"
     ]
    },
    {
     "name": "stdout",
     "output_type": "stream",
     "text": [
      "MoviePy - Done.\n",
      "MoviePy - Writing audio in /Users/haseeb/Desktop/Prak_New/afm-vlm/data/raw/biology_chapter_3_3_treshhold_5/audio_chunks/biology_chapter_3_3_treshhold_5-Scene-053.wav\n"
     ]
    },
    {
     "name": "stderr",
     "output_type": "stream",
     "text": [
      " 25%|██▍       | 21/85 [00:06<00:23,  2.73it/s]\u001b[32m2024-06-27 12:27:41.653\u001b[0m | \u001b[1mINFO    \u001b[0m | \u001b[36msrc.video_preprocessing.download_videos.download_utils\u001b[0m:\u001b[36mextract_and_store_audio\u001b[0m:\u001b[36m287\u001b[0m - \u001b[1mAudio extracted and saved as /Users/haseeb/Desktop/Prak_New/afm-vlm/data/raw/biology_chapter_3_3_treshhold_5/audio_chunks/biology_chapter_3_3_treshhold_5-Scene-053.wav\u001b[0m\n",
      " 26%|██▌       | 22/85 [00:06<00:20,  3.01it/s]"
     ]
    },
    {
     "name": "stdout",
     "output_type": "stream",
     "text": [
      "MoviePy - Done.\n",
      "MoviePy - Writing audio in /Users/haseeb/Desktop/Prak_New/afm-vlm/data/raw/biology_chapter_3_3_treshhold_5/audio_chunks/biology_chapter_3_3_treshhold_5-Scene-047.wav\n"
     ]
    },
    {
     "name": "stderr",
     "output_type": "stream",
     "text": [
      " 26%|██▌       | 22/85 [00:07<00:20,  3.01it/s]\u001b[32m2024-06-27 12:27:41.978\u001b[0m | \u001b[1mINFO    \u001b[0m | \u001b[36msrc.video_preprocessing.download_videos.download_utils\u001b[0m:\u001b[36mextract_and_store_audio\u001b[0m:\u001b[36m287\u001b[0m - \u001b[1mAudio extracted and saved as /Users/haseeb/Desktop/Prak_New/afm-vlm/data/raw/biology_chapter_3_3_treshhold_5/audio_chunks/biology_chapter_3_3_treshhold_5-Scene-047.wav\u001b[0m\n",
      " 27%|██▋       | 23/85 [00:07<00:20,  3.03it/s]"
     ]
    },
    {
     "name": "stdout",
     "output_type": "stream",
     "text": [
      "MoviePy - Done.\n",
      "MoviePy - Writing audio in /Users/haseeb/Desktop/Prak_New/afm-vlm/data/raw/biology_chapter_3_3_treshhold_5/audio_chunks/biology_chapter_3_3_treshhold_5-Scene-046.wav\n"
     ]
    },
    {
     "name": "stderr",
     "output_type": "stream",
     "text": [
      " 27%|██▋       | 23/85 [00:07<00:20,  3.03it/s]\u001b[32m2024-06-27 12:27:42.303\u001b[0m | \u001b[1mINFO    \u001b[0m | \u001b[36msrc.video_preprocessing.download_videos.download_utils\u001b[0m:\u001b[36mextract_and_store_audio\u001b[0m:\u001b[36m287\u001b[0m - \u001b[1mAudio extracted and saved as /Users/haseeb/Desktop/Prak_New/afm-vlm/data/raw/biology_chapter_3_3_treshhold_5/audio_chunks/biology_chapter_3_3_treshhold_5-Scene-046.wav\u001b[0m\n",
      " 28%|██▊       | 24/85 [00:07<00:20,  3.04it/s]"
     ]
    },
    {
     "name": "stdout",
     "output_type": "stream",
     "text": [
      "MoviePy - Done.\n",
      "MoviePy - Writing audio in /Users/haseeb/Desktop/Prak_New/afm-vlm/data/raw/biology_chapter_3_3_treshhold_5/audio_chunks/biology_chapter_3_3_treshhold_5-Scene-052.wav\n"
     ]
    },
    {
     "name": "stderr",
     "output_type": "stream",
     "text": [
      " 28%|██▊       | 24/85 [00:07<00:20,  3.04it/s]\u001b[32m2024-06-27 12:27:42.536\u001b[0m | \u001b[1mINFO    \u001b[0m | \u001b[36msrc.video_preprocessing.download_videos.download_utils\u001b[0m:\u001b[36mextract_and_store_audio\u001b[0m:\u001b[36m287\u001b[0m - \u001b[1mAudio extracted and saved as /Users/haseeb/Desktop/Prak_New/afm-vlm/data/raw/biology_chapter_3_3_treshhold_5/audio_chunks/biology_chapter_3_3_treshhold_5-Scene-052.wav\u001b[0m\n",
      " 29%|██▉       | 25/85 [00:07<00:17,  3.33it/s]"
     ]
    },
    {
     "name": "stdout",
     "output_type": "stream",
     "text": [
      "MoviePy - Done.\n",
      "MoviePy - Writing audio in /Users/haseeb/Desktop/Prak_New/afm-vlm/data/raw/biology_chapter_3_3_treshhold_5/audio_chunks/biology_chapter_3_3_treshhold_5-Scene-085.wav\n"
     ]
    },
    {
     "name": "stderr",
     "output_type": "stream",
     "text": [
      " 29%|██▉       | 25/85 [00:07<00:17,  3.33it/s]\u001b[32m2024-06-27 12:27:42.757\u001b[0m | \u001b[1mINFO    \u001b[0m | \u001b[36msrc.video_preprocessing.download_videos.download_utils\u001b[0m:\u001b[36mextract_and_store_audio\u001b[0m:\u001b[36m287\u001b[0m - \u001b[1mAudio extracted and saved as /Users/haseeb/Desktop/Prak_New/afm-vlm/data/raw/biology_chapter_3_3_treshhold_5/audio_chunks/biology_chapter_3_3_treshhold_5-Scene-085.wav\u001b[0m\n",
      " 31%|███       | 26/85 [00:08<00:16,  3.62it/s]"
     ]
    },
    {
     "name": "stdout",
     "output_type": "stream",
     "text": [
      "MoviePy - Done.\n",
      "MoviePy - Writing audio in /Users/haseeb/Desktop/Prak_New/afm-vlm/data/raw/biology_chapter_3_3_treshhold_5/audio_chunks/biology_chapter_3_3_treshhold_5-Scene-009.wav\n"
     ]
    },
    {
     "name": "stderr",
     "output_type": "stream",
     "text": [
      " 31%|███       | 26/85 [00:08<00:16,  3.62it/s]\u001b[32m2024-06-27 12:27:42.990\u001b[0m | \u001b[1mINFO    \u001b[0m | \u001b[36msrc.video_preprocessing.download_videos.download_utils\u001b[0m:\u001b[36mextract_and_store_audio\u001b[0m:\u001b[36m287\u001b[0m - \u001b[1mAudio extracted and saved as /Users/haseeb/Desktop/Prak_New/afm-vlm/data/raw/biology_chapter_3_3_treshhold_5/audio_chunks/biology_chapter_3_3_treshhold_5-Scene-009.wav\u001b[0m\n",
      " 32%|███▏      | 27/85 [00:08<00:15,  3.80it/s]"
     ]
    },
    {
     "name": "stdout",
     "output_type": "stream",
     "text": [
      "MoviePy - Done.\n",
      "MoviePy - Writing audio in /Users/haseeb/Desktop/Prak_New/afm-vlm/data/raw/biology_chapter_3_3_treshhold_5/audio_chunks/biology_chapter_3_3_treshhold_5-Scene-035.wav\n"
     ]
    },
    {
     "name": "stderr",
     "output_type": "stream",
     "text": [
      " 32%|███▏      | 27/85 [00:08<00:15,  3.80it/s]\u001b[32m2024-06-27 12:27:43.253\u001b[0m | \u001b[1mINFO    \u001b[0m | \u001b[36msrc.video_preprocessing.download_videos.download_utils\u001b[0m:\u001b[36mextract_and_store_audio\u001b[0m:\u001b[36m287\u001b[0m - \u001b[1mAudio extracted and saved as /Users/haseeb/Desktop/Prak_New/afm-vlm/data/raw/biology_chapter_3_3_treshhold_5/audio_chunks/biology_chapter_3_3_treshhold_5-Scene-035.wav\u001b[0m\n",
      " 33%|███▎      | 28/85 [00:08<00:14,  3.80it/s]"
     ]
    },
    {
     "name": "stdout",
     "output_type": "stream",
     "text": [
      "MoviePy - Done.\n",
      "MoviePy - Writing audio in /Users/haseeb/Desktop/Prak_New/afm-vlm/data/raw/biology_chapter_3_3_treshhold_5/audio_chunks/biology_chapter_3_3_treshhold_5-Scene-021.wav\n"
     ]
    },
    {
     "name": "stderr",
     "output_type": "stream",
     "text": [
      " 33%|███▎      | 28/85 [00:08<00:14,  3.80it/s]\u001b[32m2024-06-27 12:27:43.647\u001b[0m | \u001b[1mINFO    \u001b[0m | \u001b[36msrc.video_preprocessing.download_videos.download_utils\u001b[0m:\u001b[36mextract_and_store_audio\u001b[0m:\u001b[36m287\u001b[0m - \u001b[1mAudio extracted and saved as /Users/haseeb/Desktop/Prak_New/afm-vlm/data/raw/biology_chapter_3_3_treshhold_5/audio_chunks/biology_chapter_3_3_treshhold_5-Scene-021.wav\u001b[0m\n",
      " 34%|███▍      | 29/85 [00:08<00:16,  3.31it/s]"
     ]
    },
    {
     "name": "stdout",
     "output_type": "stream",
     "text": [
      "MoviePy - Done.\n",
      "MoviePy - Writing audio in /Users/haseeb/Desktop/Prak_New/afm-vlm/data/raw/biology_chapter_3_3_treshhold_5/audio_chunks/biology_chapter_3_3_treshhold_5-Scene-020.wav\n"
     ]
    },
    {
     "name": "stderr",
     "output_type": "stream",
     "text": [
      " 34%|███▍      | 29/85 [00:09<00:16,  3.31it/s]\u001b[32m2024-06-27 12:27:43.932\u001b[0m | \u001b[1mINFO    \u001b[0m | \u001b[36msrc.video_preprocessing.download_videos.download_utils\u001b[0m:\u001b[36mextract_and_store_audio\u001b[0m:\u001b[36m287\u001b[0m - \u001b[1mAudio extracted and saved as /Users/haseeb/Desktop/Prak_New/afm-vlm/data/raw/biology_chapter_3_3_treshhold_5/audio_chunks/biology_chapter_3_3_treshhold_5-Scene-020.wav\u001b[0m\n",
      " 35%|███▌      | 30/85 [00:09<00:16,  3.36it/s]"
     ]
    },
    {
     "name": "stdout",
     "output_type": "stream",
     "text": [
      "MoviePy - Done.\n",
      "MoviePy - Writing audio in /Users/haseeb/Desktop/Prak_New/afm-vlm/data/raw/biology_chapter_3_3_treshhold_5/audio_chunks/biology_chapter_3_3_treshhold_5-Scene-034.wav\n"
     ]
    },
    {
     "name": "stderr",
     "output_type": "stream",
     "text": [
      " 35%|███▌      | 30/85 [00:09<00:16,  3.36it/s]\u001b[32m2024-06-27 12:27:44.173\u001b[0m | \u001b[1mINFO    \u001b[0m | \u001b[36msrc.video_preprocessing.download_videos.download_utils\u001b[0m:\u001b[36mextract_and_store_audio\u001b[0m:\u001b[36m287\u001b[0m - \u001b[1mAudio extracted and saved as /Users/haseeb/Desktop/Prak_New/afm-vlm/data/raw/biology_chapter_3_3_treshhold_5/audio_chunks/biology_chapter_3_3_treshhold_5-Scene-034.wav\u001b[0m\n",
      " 36%|███▋      | 31/85 [00:09<00:15,  3.57it/s]"
     ]
    },
    {
     "name": "stdout",
     "output_type": "stream",
     "text": [
      "MoviePy - Done.\n",
      "MoviePy - Writing audio in /Users/haseeb/Desktop/Prak_New/afm-vlm/data/raw/biology_chapter_3_3_treshhold_5/audio_chunks/biology_chapter_3_3_treshhold_5-Scene-008.wav\n"
     ]
    },
    {
     "name": "stderr",
     "output_type": "stream",
     "text": [
      " 36%|███▋      | 31/85 [00:09<00:15,  3.57it/s]\u001b[32m2024-06-27 12:27:44.622\u001b[0m | \u001b[1mINFO    \u001b[0m | \u001b[36msrc.video_preprocessing.download_videos.download_utils\u001b[0m:\u001b[36mextract_and_store_audio\u001b[0m:\u001b[36m287\u001b[0m - \u001b[1mAudio extracted and saved as /Users/haseeb/Desktop/Prak_New/afm-vlm/data/raw/biology_chapter_3_3_treshhold_5/audio_chunks/biology_chapter_3_3_treshhold_5-Scene-008.wav\u001b[0m\n",
      " 38%|███▊      | 32/85 [00:09<00:17,  3.02it/s]"
     ]
    },
    {
     "name": "stdout",
     "output_type": "stream",
     "text": [
      "MoviePy - Done.\n",
      "MoviePy - Writing audio in /Users/haseeb/Desktop/Prak_New/afm-vlm/data/raw/biology_chapter_3_3_treshhold_5/audio_chunks/biology_chapter_3_3_treshhold_5-Scene-022.wav\n"
     ]
    },
    {
     "name": "stderr",
     "output_type": "stream",
     "text": [
      " 38%|███▊      | 32/85 [00:09<00:17,  3.02it/s]\u001b[32m2024-06-27 12:27:44.868\u001b[0m | \u001b[1mINFO    \u001b[0m | \u001b[36msrc.video_preprocessing.download_videos.download_utils\u001b[0m:\u001b[36mextract_and_store_audio\u001b[0m:\u001b[36m287\u001b[0m - \u001b[1mAudio extracted and saved as /Users/haseeb/Desktop/Prak_New/afm-vlm/data/raw/biology_chapter_3_3_treshhold_5/audio_chunks/biology_chapter_3_3_treshhold_5-Scene-022.wav\u001b[0m\n",
      " 39%|███▉      | 33/85 [00:10<00:15,  3.28it/s]"
     ]
    },
    {
     "name": "stdout",
     "output_type": "stream",
     "text": [
      "MoviePy - Done.\n",
      "MoviePy - Writing audio in /Users/haseeb/Desktop/Prak_New/afm-vlm/data/raw/biology_chapter_3_3_treshhold_5/audio_chunks/biology_chapter_3_3_treshhold_5-Scene-036.wav\n"
     ]
    },
    {
     "name": "stderr",
     "output_type": "stream",
     "text": [
      " 39%|███▉      | 33/85 [00:10<00:15,  3.28it/s]\u001b[32m2024-06-27 12:27:45.092\u001b[0m | \u001b[1mINFO    \u001b[0m | \u001b[36msrc.video_preprocessing.download_videos.download_utils\u001b[0m:\u001b[36mextract_and_store_audio\u001b[0m:\u001b[36m287\u001b[0m - \u001b[1mAudio extracted and saved as /Users/haseeb/Desktop/Prak_New/afm-vlm/data/raw/biology_chapter_3_3_treshhold_5/audio_chunks/biology_chapter_3_3_treshhold_5-Scene-036.wav\u001b[0m\n",
      " 40%|████      | 34/85 [00:10<00:14,  3.56it/s]"
     ]
    },
    {
     "name": "stdout",
     "output_type": "stream",
     "text": [
      "MoviePy - Done.\n",
      "MoviePy - Writing audio in /Users/haseeb/Desktop/Prak_New/afm-vlm/data/raw/biology_chapter_3_3_treshhold_5/audio_chunks/biology_chapter_3_3_treshhold_5-Scene-037.wav\n"
     ]
    },
    {
     "name": "stderr",
     "output_type": "stream",
     "text": [
      " 40%|████      | 34/85 [00:10<00:14,  3.56it/s]\u001b[32m2024-06-27 12:27:45.404\u001b[0m | \u001b[1mINFO    \u001b[0m | \u001b[36msrc.video_preprocessing.download_videos.download_utils\u001b[0m:\u001b[36mextract_and_store_audio\u001b[0m:\u001b[36m287\u001b[0m - \u001b[1mAudio extracted and saved as /Users/haseeb/Desktop/Prak_New/afm-vlm/data/raw/biology_chapter_3_3_treshhold_5/audio_chunks/biology_chapter_3_3_treshhold_5-Scene-037.wav\u001b[0m\n",
      " 41%|████      | 35/85 [00:10<00:14,  3.45it/s]"
     ]
    },
    {
     "name": "stdout",
     "output_type": "stream",
     "text": [
      "MoviePy - Done.\n",
      "MoviePy - Writing audio in /Users/haseeb/Desktop/Prak_New/afm-vlm/data/raw/biology_chapter_3_3_treshhold_5/audio_chunks/biology_chapter_3_3_treshhold_5-Scene-023.wav\n"
     ]
    },
    {
     "name": "stderr",
     "output_type": "stream",
     "text": [
      " 41%|████      | 35/85 [00:10<00:14,  3.45it/s]\u001b[32m2024-06-27 12:27:45.686\u001b[0m | \u001b[1mINFO    \u001b[0m | \u001b[36msrc.video_preprocessing.download_videos.download_utils\u001b[0m:\u001b[36mextract_and_store_audio\u001b[0m:\u001b[36m287\u001b[0m - \u001b[1mAudio extracted and saved as /Users/haseeb/Desktop/Prak_New/afm-vlm/data/raw/biology_chapter_3_3_treshhold_5/audio_chunks/biology_chapter_3_3_treshhold_5-Scene-023.wav\u001b[0m\n",
      " 42%|████▏     | 36/85 [00:10<00:14,  3.47it/s]"
     ]
    },
    {
     "name": "stdout",
     "output_type": "stream",
     "text": [
      "MoviePy - Done.\n",
      "MoviePy - Writing audio in /Users/haseeb/Desktop/Prak_New/afm-vlm/data/raw/biology_chapter_3_3_treshhold_5/audio_chunks/biology_chapter_3_3_treshhold_5-Scene-027.wav\n"
     ]
    },
    {
     "name": "stderr",
     "output_type": "stream",
     "text": [
      " 42%|████▏     | 36/85 [00:11<00:14,  3.47it/s]\u001b[32m2024-06-27 12:27:45.903\u001b[0m | \u001b[1mINFO    \u001b[0m | \u001b[36msrc.video_preprocessing.download_videos.download_utils\u001b[0m:\u001b[36mextract_and_store_audio\u001b[0m:\u001b[36m287\u001b[0m - \u001b[1mAudio extracted and saved as /Users/haseeb/Desktop/Prak_New/afm-vlm/data/raw/biology_chapter_3_3_treshhold_5/audio_chunks/biology_chapter_3_3_treshhold_5-Scene-027.wav\u001b[0m\n",
      " 44%|████▎     | 37/85 [00:11<00:12,  3.75it/s]"
     ]
    },
    {
     "name": "stdout",
     "output_type": "stream",
     "text": [
      "MoviePy - Done.\n",
      "MoviePy - Writing audio in /Users/haseeb/Desktop/Prak_New/afm-vlm/data/raw/biology_chapter_3_3_treshhold_5/audio_chunks/biology_chapter_3_3_treshhold_5-Scene-033.wav\n"
     ]
    },
    {
     "name": "stderr",
     "output_type": "stream",
     "text": [
      " 44%|████▎     | 37/85 [00:11<00:12,  3.75it/s]\u001b[32m2024-06-27 12:27:46.207\u001b[0m | \u001b[1mINFO    \u001b[0m | \u001b[36msrc.video_preprocessing.download_videos.download_utils\u001b[0m:\u001b[36mextract_and_store_audio\u001b[0m:\u001b[36m287\u001b[0m - \u001b[1mAudio extracted and saved as /Users/haseeb/Desktop/Prak_New/afm-vlm/data/raw/biology_chapter_3_3_treshhold_5/audio_chunks/biology_chapter_3_3_treshhold_5-Scene-033.wav\u001b[0m\n",
      " 45%|████▍     | 38/85 [00:11<00:13,  3.59it/s]"
     ]
    },
    {
     "name": "stdout",
     "output_type": "stream",
     "text": [
      "MoviePy - Done.\n",
      "MoviePy - Writing audio in /Users/haseeb/Desktop/Prak_New/afm-vlm/data/raw/biology_chapter_3_3_treshhold_5/audio_chunks/biology_chapter_3_3_treshhold_5-Scene-032.wav\n"
     ]
    },
    {
     "name": "stderr",
     "output_type": "stream",
     "text": [
      " 45%|████▍     | 38/85 [00:11<00:13,  3.59it/s]\u001b[32m2024-06-27 12:27:46.631\u001b[0m | \u001b[1mINFO    \u001b[0m | \u001b[36msrc.video_preprocessing.download_videos.download_utils\u001b[0m:\u001b[36mextract_and_store_audio\u001b[0m:\u001b[36m287\u001b[0m - \u001b[1mAudio extracted and saved as /Users/haseeb/Desktop/Prak_New/afm-vlm/data/raw/biology_chapter_3_3_treshhold_5/audio_chunks/biology_chapter_3_3_treshhold_5-Scene-032.wav\u001b[0m\n",
      " 46%|████▌     | 39/85 [00:11<00:14,  3.11it/s]"
     ]
    },
    {
     "name": "stdout",
     "output_type": "stream",
     "text": [
      "MoviePy - Done.\n",
      "MoviePy - Writing audio in /Users/haseeb/Desktop/Prak_New/afm-vlm/data/raw/biology_chapter_3_3_treshhold_5/audio_chunks/biology_chapter_3_3_treshhold_5-Scene-026.wav\n"
     ]
    },
    {
     "name": "stderr",
     "output_type": "stream",
     "text": [
      " 46%|████▌     | 39/85 [00:12<00:14,  3.11it/s]\u001b[32m2024-06-27 12:27:46.980\u001b[0m | \u001b[1mINFO    \u001b[0m | \u001b[36msrc.video_preprocessing.download_videos.download_utils\u001b[0m:\u001b[36mextract_and_store_audio\u001b[0m:\u001b[36m287\u001b[0m - \u001b[1mAudio extracted and saved as /Users/haseeb/Desktop/Prak_New/afm-vlm/data/raw/biology_chapter_3_3_treshhold_5/audio_chunks/biology_chapter_3_3_treshhold_5-Scene-026.wav\u001b[0m\n",
      " 47%|████▋     | 40/85 [00:12<00:14,  3.03it/s]"
     ]
    },
    {
     "name": "stdout",
     "output_type": "stream",
     "text": [
      "MoviePy - Done.\n",
      "MoviePy - Writing audio in /Users/haseeb/Desktop/Prak_New/afm-vlm/data/raw/biology_chapter_3_3_treshhold_5/audio_chunks/biology_chapter_3_3_treshhold_5-Scene-030.wav\n"
     ]
    },
    {
     "name": "stderr",
     "output_type": "stream",
     "text": [
      " 47%|████▋     | 40/85 [00:12<00:14,  3.03it/s]\u001b[32m2024-06-27 12:27:47.189\u001b[0m | \u001b[1mINFO    \u001b[0m | \u001b[36msrc.video_preprocessing.download_videos.download_utils\u001b[0m:\u001b[36mextract_and_store_audio\u001b[0m:\u001b[36m287\u001b[0m - \u001b[1mAudio extracted and saved as /Users/haseeb/Desktop/Prak_New/afm-vlm/data/raw/biology_chapter_3_3_treshhold_5/audio_chunks/biology_chapter_3_3_treshhold_5-Scene-030.wav\u001b[0m\n",
      " 48%|████▊     | 41/85 [00:12<00:12,  3.41it/s]"
     ]
    },
    {
     "name": "stdout",
     "output_type": "stream",
     "text": [
      "MoviePy - Done.\n",
      "MoviePy - Writing audio in /Users/haseeb/Desktop/Prak_New/afm-vlm/data/raw/biology_chapter_3_3_treshhold_5/audio_chunks/biology_chapter_3_3_treshhold_5-Scene-024.wav\n"
     ]
    },
    {
     "name": "stderr",
     "output_type": "stream",
     "text": [
      " 48%|████▊     | 41/85 [00:12<00:12,  3.41it/s]\u001b[32m2024-06-27 12:27:47.524\u001b[0m | \u001b[1mINFO    \u001b[0m | \u001b[36msrc.video_preprocessing.download_videos.download_utils\u001b[0m:\u001b[36mextract_and_store_audio\u001b[0m:\u001b[36m287\u001b[0m - \u001b[1mAudio extracted and saved as /Users/haseeb/Desktop/Prak_New/afm-vlm/data/raw/biology_chapter_3_3_treshhold_5/audio_chunks/biology_chapter_3_3_treshhold_5-Scene-024.wav\u001b[0m\n",
      " 49%|████▉     | 42/85 [00:12<00:13,  3.27it/s]"
     ]
    },
    {
     "name": "stdout",
     "output_type": "stream",
     "text": [
      "MoviePy - Done.\n",
      "MoviePy - Writing audio in /Users/haseeb/Desktop/Prak_New/afm-vlm/data/raw/biology_chapter_3_3_treshhold_5/audio_chunks/biology_chapter_3_3_treshhold_5-Scene-018.wav\n"
     ]
    },
    {
     "name": "stderr",
     "output_type": "stream",
     "text": [
      " 49%|████▉     | 42/85 [00:12<00:13,  3.27it/s]\u001b[32m2024-06-27 12:27:47.744\u001b[0m | \u001b[1mINFO    \u001b[0m | \u001b[36msrc.video_preprocessing.download_videos.download_utils\u001b[0m:\u001b[36mextract_and_store_audio\u001b[0m:\u001b[36m287\u001b[0m - \u001b[1mAudio extracted and saved as /Users/haseeb/Desktop/Prak_New/afm-vlm/data/raw/biology_chapter_3_3_treshhold_5/audio_chunks/biology_chapter_3_3_treshhold_5-Scene-018.wav\u001b[0m\n",
      " 51%|█████     | 43/85 [00:13<00:11,  3.57it/s]"
     ]
    },
    {
     "name": "stdout",
     "output_type": "stream",
     "text": [
      "MoviePy - Done.\n",
      "MoviePy - Writing audio in /Users/haseeb/Desktop/Prak_New/afm-vlm/data/raw/biology_chapter_3_3_treshhold_5/audio_chunks/biology_chapter_3_3_treshhold_5-Scene-019.wav\n"
     ]
    },
    {
     "name": "stderr",
     "output_type": "stream",
     "text": [
      " 51%|█████     | 43/85 [00:13<00:11,  3.57it/s]\u001b[32m2024-06-27 12:27:48.021\u001b[0m | \u001b[1mINFO    \u001b[0m | \u001b[36msrc.video_preprocessing.download_videos.download_utils\u001b[0m:\u001b[36mextract_and_store_audio\u001b[0m:\u001b[36m287\u001b[0m - \u001b[1mAudio extracted and saved as /Users/haseeb/Desktop/Prak_New/afm-vlm/data/raw/biology_chapter_3_3_treshhold_5/audio_chunks/biology_chapter_3_3_treshhold_5-Scene-019.wav\u001b[0m\n",
      " 52%|█████▏    | 44/85 [00:13<00:11,  3.58it/s]"
     ]
    },
    {
     "name": "stdout",
     "output_type": "stream",
     "text": [
      "MoviePy - Done.\n",
      "MoviePy - Writing audio in /Users/haseeb/Desktop/Prak_New/afm-vlm/data/raw/biology_chapter_3_3_treshhold_5/audio_chunks/biology_chapter_3_3_treshhold_5-Scene-025.wav\n"
     ]
    },
    {
     "name": "stderr",
     "output_type": "stream",
     "text": [
      " 52%|█████▏    | 44/85 [00:13<00:11,  3.58it/s]\u001b[32m2024-06-27 12:27:48.348\u001b[0m | \u001b[1mINFO    \u001b[0m | \u001b[36msrc.video_preprocessing.download_videos.download_utils\u001b[0m:\u001b[36mextract_and_store_audio\u001b[0m:\u001b[36m287\u001b[0m - \u001b[1mAudio extracted and saved as /Users/haseeb/Desktop/Prak_New/afm-vlm/data/raw/biology_chapter_3_3_treshhold_5/audio_chunks/biology_chapter_3_3_treshhold_5-Scene-025.wav\u001b[0m\n",
      " 53%|█████▎    | 45/85 [00:13<00:11,  3.41it/s]"
     ]
    },
    {
     "name": "stdout",
     "output_type": "stream",
     "text": [
      "MoviePy - Done.\n",
      "MoviePy - Writing audio in /Users/haseeb/Desktop/Prak_New/afm-vlm/data/raw/biology_chapter_3_3_treshhold_5/audio_chunks/biology_chapter_3_3_treshhold_5-Scene-031.wav\n"
     ]
    },
    {
     "name": "stderr",
     "output_type": "stream",
     "text": [
      " 53%|█████▎    | 45/85 [00:13<00:11,  3.41it/s]\u001b[32m2024-06-27 12:27:48.581\u001b[0m | \u001b[1mINFO    \u001b[0m | \u001b[36msrc.video_preprocessing.download_videos.download_utils\u001b[0m:\u001b[36mextract_and_store_audio\u001b[0m:\u001b[36m287\u001b[0m - \u001b[1mAudio extracted and saved as /Users/haseeb/Desktop/Prak_New/afm-vlm/data/raw/biology_chapter_3_3_treshhold_5/audio_chunks/biology_chapter_3_3_treshhold_5-Scene-031.wav\u001b[0m\n",
      " 54%|█████▍    | 46/85 [00:13<00:10,  3.63it/s]"
     ]
    },
    {
     "name": "stdout",
     "output_type": "stream",
     "text": [
      "MoviePy - Done.\n",
      "MoviePy - Writing audio in /Users/haseeb/Desktop/Prak_New/afm-vlm/data/raw/biology_chapter_3_3_treshhold_5/audio_chunks/biology_chapter_3_3_treshhold_5-Scene-028.wav\n"
     ]
    },
    {
     "name": "stderr",
     "output_type": "stream",
     "text": [
      " 54%|█████▍    | 46/85 [00:13<00:10,  3.63it/s]\u001b[32m2024-06-27 12:27:48.828\u001b[0m | \u001b[1mINFO    \u001b[0m | \u001b[36msrc.video_preprocessing.download_videos.download_utils\u001b[0m:\u001b[36mextract_and_store_audio\u001b[0m:\u001b[36m287\u001b[0m - \u001b[1mAudio extracted and saved as /Users/haseeb/Desktop/Prak_New/afm-vlm/data/raw/biology_chapter_3_3_treshhold_5/audio_chunks/biology_chapter_3_3_treshhold_5-Scene-028.wav\u001b[0m\n",
      " 55%|█████▌    | 47/85 [00:14<00:10,  3.75it/s]"
     ]
    },
    {
     "name": "stdout",
     "output_type": "stream",
     "text": [
      "MoviePy - Done.\n",
      "MoviePy - Writing audio in /Users/haseeb/Desktop/Prak_New/afm-vlm/data/raw/biology_chapter_3_3_treshhold_5/audio_chunks/biology_chapter_3_3_treshhold_5-Scene-014.wav\n"
     ]
    },
    {
     "name": "stderr",
     "output_type": "stream",
     "text": [
      " 55%|█████▌    | 47/85 [00:14<00:10,  3.75it/s]\u001b[32m2024-06-27 12:27:49.120\u001b[0m | \u001b[1mINFO    \u001b[0m | \u001b[36msrc.video_preprocessing.download_videos.download_utils\u001b[0m:\u001b[36mextract_and_store_audio\u001b[0m:\u001b[36m287\u001b[0m - \u001b[1mAudio extracted and saved as /Users/haseeb/Desktop/Prak_New/afm-vlm/data/raw/biology_chapter_3_3_treshhold_5/audio_chunks/biology_chapter_3_3_treshhold_5-Scene-014.wav\u001b[0m\n",
      " 56%|█████▋    | 48/85 [00:14<00:10,  3.64it/s]"
     ]
    },
    {
     "name": "stdout",
     "output_type": "stream",
     "text": [
      "MoviePy - Done.\n",
      "MoviePy - Writing audio in /Users/haseeb/Desktop/Prak_New/afm-vlm/data/raw/biology_chapter_3_3_treshhold_5/audio_chunks/biology_chapter_3_3_treshhold_5-Scene-001.wav\n"
     ]
    },
    {
     "name": "stderr",
     "output_type": "stream",
     "text": [
      " 56%|█████▋    | 48/85 [00:14<00:10,  3.64it/s]\u001b[32m2024-06-27 12:27:49.677\u001b[0m | \u001b[1mINFO    \u001b[0m | \u001b[36msrc.video_preprocessing.download_videos.download_utils\u001b[0m:\u001b[36mextract_and_store_audio\u001b[0m:\u001b[36m287\u001b[0m - \u001b[1mAudio extracted and saved as /Users/haseeb/Desktop/Prak_New/afm-vlm/data/raw/biology_chapter_3_3_treshhold_5/audio_chunks/biology_chapter_3_3_treshhold_5-Scene-001.wav\u001b[0m\n",
      " 58%|█████▊    | 49/85 [00:14<00:12,  2.78it/s]"
     ]
    },
    {
     "name": "stdout",
     "output_type": "stream",
     "text": [
      "MoviePy - Done.\n",
      "MoviePy - Writing audio in /Users/haseeb/Desktop/Prak_New/afm-vlm/data/raw/biology_chapter_3_3_treshhold_5/audio_chunks/biology_chapter_3_3_treshhold_5-Scene-015.wav\n"
     ]
    },
    {
     "name": "stderr",
     "output_type": "stream",
     "text": [
      " 58%|█████▊    | 49/85 [00:15<00:12,  2.78it/s]\u001b[32m2024-06-27 12:27:49.956\u001b[0m | \u001b[1mINFO    \u001b[0m | \u001b[36msrc.video_preprocessing.download_videos.download_utils\u001b[0m:\u001b[36mextract_and_store_audio\u001b[0m:\u001b[36m287\u001b[0m - \u001b[1mAudio extracted and saved as /Users/haseeb/Desktop/Prak_New/afm-vlm/data/raw/biology_chapter_3_3_treshhold_5/audio_chunks/biology_chapter_3_3_treshhold_5-Scene-015.wav\u001b[0m\n",
      " 59%|█████▉    | 50/85 [00:15<00:11,  2.98it/s]"
     ]
    },
    {
     "name": "stdout",
     "output_type": "stream",
     "text": [
      "MoviePy - Done.\n",
      "MoviePy - Writing audio in /Users/haseeb/Desktop/Prak_New/afm-vlm/data/raw/biology_chapter_3_3_treshhold_5/audio_chunks/biology_chapter_3_3_treshhold_5-Scene-029.wav\n"
     ]
    },
    {
     "name": "stderr",
     "output_type": "stream",
     "text": [
      " 59%|█████▉    | 50/85 [00:15<00:11,  2.98it/s]\u001b[32m2024-06-27 12:27:50.401\u001b[0m | \u001b[1mINFO    \u001b[0m | \u001b[36msrc.video_preprocessing.download_videos.download_utils\u001b[0m:\u001b[36mextract_and_store_audio\u001b[0m:\u001b[36m287\u001b[0m - \u001b[1mAudio extracted and saved as /Users/haseeb/Desktop/Prak_New/afm-vlm/data/raw/biology_chapter_3_3_treshhold_5/audio_chunks/biology_chapter_3_3_treshhold_5-Scene-029.wav\u001b[0m\n",
      " 60%|██████    | 51/85 [00:15<00:12,  2.72it/s]"
     ]
    },
    {
     "name": "stdout",
     "output_type": "stream",
     "text": [
      "MoviePy - Done.\n",
      "MoviePy - Writing audio in /Users/haseeb/Desktop/Prak_New/afm-vlm/data/raw/biology_chapter_3_3_treshhold_5/audio_chunks/biology_chapter_3_3_treshhold_5-Scene-003.wav\n"
     ]
    },
    {
     "name": "stderr",
     "output_type": "stream",
     "text": [
      " 60%|██████    | 51/85 [00:15<00:12,  2.72it/s]\u001b[32m2024-06-27 12:27:50.617\u001b[0m | \u001b[1mINFO    \u001b[0m | \u001b[36msrc.video_preprocessing.download_videos.download_utils\u001b[0m:\u001b[36mextract_and_store_audio\u001b[0m:\u001b[36m287\u001b[0m - \u001b[1mAudio extracted and saved as /Users/haseeb/Desktop/Prak_New/afm-vlm/data/raw/biology_chapter_3_3_treshhold_5/audio_chunks/biology_chapter_3_3_treshhold_5-Scene-003.wav\u001b[0m\n",
      " 61%|██████    | 52/85 [00:15<00:10,  3.10it/s]"
     ]
    },
    {
     "name": "stdout",
     "output_type": "stream",
     "text": [
      "MoviePy - Done.\n",
      "MoviePy - Writing audio in /Users/haseeb/Desktop/Prak_New/afm-vlm/data/raw/biology_chapter_3_3_treshhold_5/audio_chunks/biology_chapter_3_3_treshhold_5-Scene-017.wav\n"
     ]
    },
    {
     "name": "stderr",
     "output_type": "stream",
     "text": [
      " 61%|██████    | 52/85 [00:16<00:10,  3.10it/s]\u001b[32m2024-06-27 12:27:50.958\u001b[0m | \u001b[1mINFO    \u001b[0m | \u001b[36msrc.video_preprocessing.download_videos.download_utils\u001b[0m:\u001b[36mextract_and_store_audio\u001b[0m:\u001b[36m287\u001b[0m - \u001b[1mAudio extracted and saved as /Users/haseeb/Desktop/Prak_New/afm-vlm/data/raw/biology_chapter_3_3_treshhold_5/audio_chunks/biology_chapter_3_3_treshhold_5-Scene-017.wav\u001b[0m\n",
      " 62%|██████▏   | 53/85 [00:16<00:10,  3.05it/s]"
     ]
    },
    {
     "name": "stdout",
     "output_type": "stream",
     "text": [
      "MoviePy - Done.\n",
      "MoviePy - Writing audio in /Users/haseeb/Desktop/Prak_New/afm-vlm/data/raw/biology_chapter_3_3_treshhold_5/audio_chunks/biology_chapter_3_3_treshhold_5-Scene-016.wav\n"
     ]
    },
    {
     "name": "stderr",
     "output_type": "stream",
     "text": [
      " 62%|██████▏   | 53/85 [00:16<00:10,  3.05it/s]\u001b[32m2024-06-27 12:27:51.287\u001b[0m | \u001b[1mINFO    \u001b[0m | \u001b[36msrc.video_preprocessing.download_videos.download_utils\u001b[0m:\u001b[36mextract_and_store_audio\u001b[0m:\u001b[36m287\u001b[0m - \u001b[1mAudio extracted and saved as /Users/haseeb/Desktop/Prak_New/afm-vlm/data/raw/biology_chapter_3_3_treshhold_5/audio_chunks/biology_chapter_3_3_treshhold_5-Scene-016.wav\u001b[0m\n",
      " 64%|██████▎   | 54/85 [00:16<00:10,  3.05it/s]"
     ]
    },
    {
     "name": "stdout",
     "output_type": "stream",
     "text": [
      "MoviePy - Done.\n"
     ]
    },
    {
     "name": "stderr",
     "output_type": "stream",
     "text": [
      " 64%|██████▎   | 54/85 [00:16<00:10,  3.05it/s]"
     ]
    },
    {
     "name": "stdout",
     "output_type": "stream",
     "text": [
      "MoviePy - Writing audio in /Users/haseeb/Desktop/Prak_New/afm-vlm/data/raw/biology_chapter_3_3_treshhold_5/audio_chunks/biology_chapter_3_3_treshhold_5-Scene-002.wav\n"
     ]
    },
    {
     "name": "stderr",
     "output_type": "stream",
     "text": [
      " 64%|██████▎   | 54/85 [00:16<00:10,  3.05it/s]\u001b[32m2024-06-27 12:27:51.560\u001b[0m | \u001b[1mINFO    \u001b[0m | \u001b[36msrc.video_preprocessing.download_videos.download_utils\u001b[0m:\u001b[36mextract_and_store_audio\u001b[0m:\u001b[36m287\u001b[0m - \u001b[1mAudio extracted and saved as /Users/haseeb/Desktop/Prak_New/afm-vlm/data/raw/biology_chapter_3_3_treshhold_5/audio_chunks/biology_chapter_3_3_treshhold_5-Scene-002.wav\u001b[0m\n",
      " 65%|██████▍   | 55/85 [00:16<00:09,  3.21it/s]"
     ]
    },
    {
     "name": "stdout",
     "output_type": "stream",
     "text": [
      "MoviePy - Done.\n"
     ]
    },
    {
     "name": "stderr",
     "output_type": "stream",
     "text": [
      " 65%|██████▍   | 55/85 [00:16<00:09,  3.21it/s]"
     ]
    },
    {
     "name": "stdout",
     "output_type": "stream",
     "text": [
      "MoviePy - Writing audio in /Users/haseeb/Desktop/Prak_New/afm-vlm/data/raw/biology_chapter_3_3_treshhold_5/audio_chunks/biology_chapter_3_3_treshhold_5-Scene-006.wav\n"
     ]
    },
    {
     "name": "stderr",
     "output_type": "stream",
     "text": [
      " 65%|██████▍   | 55/85 [00:16<00:09,  3.21it/s]\u001b[32m2024-06-27 12:27:51.787\u001b[0m | \u001b[1mINFO    \u001b[0m | \u001b[36msrc.video_preprocessing.download_videos.download_utils\u001b[0m:\u001b[36mextract_and_store_audio\u001b[0m:\u001b[36m287\u001b[0m - \u001b[1mAudio extracted and saved as /Users/haseeb/Desktop/Prak_New/afm-vlm/data/raw/biology_chapter_3_3_treshhold_5/audio_chunks/biology_chapter_3_3_treshhold_5-Scene-006.wav\u001b[0m\n",
      " 66%|██████▌   | 56/85 [00:16<00:08,  3.49it/s]"
     ]
    },
    {
     "name": "stdout",
     "output_type": "stream",
     "text": [
      "MoviePy - Done.\n"
     ]
    },
    {
     "name": "stderr",
     "output_type": "stream",
     "text": [
      " 66%|██████▌   | 56/85 [00:17<00:08,  3.49it/s]"
     ]
    },
    {
     "name": "stdout",
     "output_type": "stream",
     "text": [
      "MoviePy - Writing audio in /Users/haseeb/Desktop/Prak_New/afm-vlm/data/raw/biology_chapter_3_3_treshhold_5/audio_chunks/biology_chapter_3_3_treshhold_5-Scene-012.wav\n"
     ]
    },
    {
     "name": "stderr",
     "output_type": "stream",
     "text": [
      " 66%|██████▌   | 56/85 [00:17<00:08,  3.49it/s]\u001b[32m2024-06-27 12:27:52.101\u001b[0m | \u001b[1mINFO    \u001b[0m | \u001b[36msrc.video_preprocessing.download_videos.download_utils\u001b[0m:\u001b[36mextract_and_store_audio\u001b[0m:\u001b[36m287\u001b[0m - \u001b[1mAudio extracted and saved as /Users/haseeb/Desktop/Prak_New/afm-vlm/data/raw/biology_chapter_3_3_treshhold_5/audio_chunks/biology_chapter_3_3_treshhold_5-Scene-012.wav\u001b[0m\n",
      " 67%|██████▋   | 57/85 [00:17<00:08,  3.39it/s]"
     ]
    },
    {
     "name": "stdout",
     "output_type": "stream",
     "text": [
      "MoviePy - Done.\n"
     ]
    },
    {
     "name": "stderr",
     "output_type": "stream",
     "text": [
      " 67%|██████▋   | 57/85 [00:17<00:08,  3.39it/s]"
     ]
    },
    {
     "name": "stdout",
     "output_type": "stream",
     "text": [
      "MoviePy - Writing audio in /Users/haseeb/Desktop/Prak_New/afm-vlm/data/raw/biology_chapter_3_3_treshhold_5/audio_chunks/biology_chapter_3_3_treshhold_5-Scene-013.wav\n"
     ]
    },
    {
     "name": "stderr",
     "output_type": "stream",
     "text": [
      " 67%|██████▋   | 57/85 [00:17<00:08,  3.39it/s]\u001b[32m2024-06-27 12:27:52.490\u001b[0m | \u001b[1mINFO    \u001b[0m | \u001b[36msrc.video_preprocessing.download_videos.download_utils\u001b[0m:\u001b[36mextract_and_store_audio\u001b[0m:\u001b[36m287\u001b[0m - \u001b[1mAudio extracted and saved as /Users/haseeb/Desktop/Prak_New/afm-vlm/data/raw/biology_chapter_3_3_treshhold_5/audio_chunks/biology_chapter_3_3_treshhold_5-Scene-013.wav\u001b[0m\n",
      " 68%|██████▊   | 58/85 [00:17<00:08,  3.10it/s]"
     ]
    },
    {
     "name": "stdout",
     "output_type": "stream",
     "text": [
      "MoviePy - Done.\n",
      "MoviePy - Writing audio in /Users/haseeb/Desktop/Prak_New/afm-vlm/data/raw/biology_chapter_3_3_treshhold_5/audio_chunks/biology_chapter_3_3_treshhold_5-Scene-007.wav\n"
     ]
    },
    {
     "name": "stderr",
     "output_type": "stream",
     "text": [
      " 68%|██████▊   | 58/85 [00:17<00:08,  3.10it/s]\u001b[32m2024-06-27 12:27:52.813\u001b[0m | \u001b[1mINFO    \u001b[0m | \u001b[36msrc.video_preprocessing.download_videos.download_utils\u001b[0m:\u001b[36mextract_and_store_audio\u001b[0m:\u001b[36m287\u001b[0m - \u001b[1mAudio extracted and saved as /Users/haseeb/Desktop/Prak_New/afm-vlm/data/raw/biology_chapter_3_3_treshhold_5/audio_chunks/biology_chapter_3_3_treshhold_5-Scene-007.wav\u001b[0m\n",
      " 69%|██████▉   | 59/85 [00:18<00:08,  3.10it/s]"
     ]
    },
    {
     "name": "stdout",
     "output_type": "stream",
     "text": [
      "MoviePy - Done.\n",
      "MoviePy - Writing audio in /Users/haseeb/Desktop/Prak_New/afm-vlm/data/raw/biology_chapter_3_3_treshhold_5/audio_chunks/biology_chapter_3_3_treshhold_5-Scene-011.wav\n"
     ]
    },
    {
     "name": "stderr",
     "output_type": "stream",
     "text": [
      " 69%|██████▉   | 59/85 [00:18<00:08,  3.10it/s]\u001b[32m2024-06-27 12:27:53.286\u001b[0m | \u001b[1mINFO    \u001b[0m | \u001b[36msrc.video_preprocessing.download_videos.download_utils\u001b[0m:\u001b[36mextract_and_store_audio\u001b[0m:\u001b[36m287\u001b[0m - \u001b[1mAudio extracted and saved as /Users/haseeb/Desktop/Prak_New/afm-vlm/data/raw/biology_chapter_3_3_treshhold_5/audio_chunks/biology_chapter_3_3_treshhold_5-Scene-011.wav\u001b[0m\n",
      " 71%|███████   | 60/85 [00:18<00:09,  2.72it/s]"
     ]
    },
    {
     "name": "stdout",
     "output_type": "stream",
     "text": [
      "MoviePy - Done.\n",
      "MoviePy - Writing audio in /Users/haseeb/Desktop/Prak_New/afm-vlm/data/raw/biology_chapter_3_3_treshhold_5/audio_chunks/biology_chapter_3_3_treshhold_5-Scene-005.wav\n"
     ]
    },
    {
     "name": "stderr",
     "output_type": "stream",
     "text": [
      " 71%|███████   | 60/85 [00:18<00:09,  2.72it/s]\u001b[32m2024-06-27 12:27:53.515\u001b[0m | \u001b[1mINFO    \u001b[0m | \u001b[36msrc.video_preprocessing.download_videos.download_utils\u001b[0m:\u001b[36mextract_and_store_audio\u001b[0m:\u001b[36m287\u001b[0m - \u001b[1mAudio extracted and saved as /Users/haseeb/Desktop/Prak_New/afm-vlm/data/raw/biology_chapter_3_3_treshhold_5/audio_chunks/biology_chapter_3_3_treshhold_5-Scene-005.wav\u001b[0m\n",
      " 72%|███████▏  | 61/85 [00:18<00:07,  3.07it/s]"
     ]
    },
    {
     "name": "stdout",
     "output_type": "stream",
     "text": [
      "MoviePy - Done.\n",
      "MoviePy - Writing audio in /Users/haseeb/Desktop/Prak_New/afm-vlm/data/raw/biology_chapter_3_3_treshhold_5/audio_chunks/biology_chapter_3_3_treshhold_5-Scene-039.wav\n"
     ]
    },
    {
     "name": "stderr",
     "output_type": "stream",
     "text": [
      " 72%|███████▏  | 61/85 [00:18<00:07,  3.07it/s]\u001b[32m2024-06-27 12:27:53.752\u001b[0m | \u001b[1mINFO    \u001b[0m | \u001b[36msrc.video_preprocessing.download_videos.download_utils\u001b[0m:\u001b[36mextract_and_store_audio\u001b[0m:\u001b[36m287\u001b[0m - \u001b[1mAudio extracted and saved as /Users/haseeb/Desktop/Prak_New/afm-vlm/data/raw/biology_chapter_3_3_treshhold_5/audio_chunks/biology_chapter_3_3_treshhold_5-Scene-039.wav\u001b[0m\n",
      " 73%|███████▎  | 62/85 [00:19<00:06,  3.34it/s]"
     ]
    },
    {
     "name": "stdout",
     "output_type": "stream",
     "text": [
      "MoviePy - Done.\n",
      "MoviePy - Writing audio in /Users/haseeb/Desktop/Prak_New/afm-vlm/data/raw/biology_chapter_3_3_treshhold_5/audio_chunks/biology_chapter_3_3_treshhold_5-Scene-038.wav\n"
     ]
    },
    {
     "name": "stderr",
     "output_type": "stream",
     "text": [
      " 73%|███████▎  | 62/85 [00:19<00:06,  3.34it/s]\u001b[32m2024-06-27 12:27:54.007\u001b[0m | \u001b[1mINFO    \u001b[0m | \u001b[36msrc.video_preprocessing.download_videos.download_utils\u001b[0m:\u001b[36mextract_and_store_audio\u001b[0m:\u001b[36m287\u001b[0m - \u001b[1mAudio extracted and saved as /Users/haseeb/Desktop/Prak_New/afm-vlm/data/raw/biology_chapter_3_3_treshhold_5/audio_chunks/biology_chapter_3_3_treshhold_5-Scene-038.wav\u001b[0m\n",
      " 74%|███████▍  | 63/85 [00:19<00:06,  3.50it/s]"
     ]
    },
    {
     "name": "stdout",
     "output_type": "stream",
     "text": [
      "MoviePy - Done.\n",
      "MoviePy - Writing audio in /Users/haseeb/Desktop/Prak_New/afm-vlm/data/raw/biology_chapter_3_3_treshhold_5/audio_chunks/biology_chapter_3_3_treshhold_5-Scene-004.wav\n"
     ]
    },
    {
     "name": "stderr",
     "output_type": "stream",
     "text": [
      " 74%|███████▍  | 63/85 [00:19<00:06,  3.50it/s]\u001b[32m2024-06-27 12:27:54.230\u001b[0m | \u001b[1mINFO    \u001b[0m | \u001b[36msrc.video_preprocessing.download_videos.download_utils\u001b[0m:\u001b[36mextract_and_store_audio\u001b[0m:\u001b[36m287\u001b[0m - \u001b[1mAudio extracted and saved as /Users/haseeb/Desktop/Prak_New/afm-vlm/data/raw/biology_chapter_3_3_treshhold_5/audio_chunks/biology_chapter_3_3_treshhold_5-Scene-004.wav\u001b[0m\n",
      " 75%|███████▌  | 64/85 [00:19<00:05,  3.74it/s]"
     ]
    },
    {
     "name": "stdout",
     "output_type": "stream",
     "text": [
      "MoviePy - Done.\n",
      "MoviePy - Writing audio in /Users/haseeb/Desktop/Prak_New/afm-vlm/data/raw/biology_chapter_3_3_treshhold_5/audio_chunks/biology_chapter_3_3_treshhold_5-Scene-010.wav\n"
     ]
    },
    {
     "name": "stderr",
     "output_type": "stream",
     "text": [
      " 75%|███████▌  | 64/85 [00:19<00:05,  3.74it/s]\u001b[32m2024-06-27 12:27:54.469\u001b[0m | \u001b[1mINFO    \u001b[0m | \u001b[36msrc.video_preprocessing.download_videos.download_utils\u001b[0m:\u001b[36mextract_and_store_audio\u001b[0m:\u001b[36m287\u001b[0m - \u001b[1mAudio extracted and saved as /Users/haseeb/Desktop/Prak_New/afm-vlm/data/raw/biology_chapter_3_3_treshhold_5/audio_chunks/biology_chapter_3_3_treshhold_5-Scene-010.wav\u001b[0m\n",
      " 76%|███████▋  | 65/85 [00:19<00:05,  3.86it/s]"
     ]
    },
    {
     "name": "stdout",
     "output_type": "stream",
     "text": [
      "MoviePy - Done.\n",
      "MoviePy - Writing audio in /Users/haseeb/Desktop/Prak_New/afm-vlm/data/raw/biology_chapter_3_3_treshhold_5/audio_chunks/biology_chapter_3_3_treshhold_5-Scene-077.wav\n"
     ]
    },
    {
     "name": "stderr",
     "output_type": "stream",
     "text": [
      " 76%|███████▋  | 65/85 [00:19<00:05,  3.86it/s]\u001b[32m2024-06-27 12:27:54.692\u001b[0m | \u001b[1mINFO    \u001b[0m | \u001b[36msrc.video_preprocessing.download_videos.download_utils\u001b[0m:\u001b[36mextract_and_store_audio\u001b[0m:\u001b[36m287\u001b[0m - \u001b[1mAudio extracted and saved as /Users/haseeb/Desktop/Prak_New/afm-vlm/data/raw/biology_chapter_3_3_treshhold_5/audio_chunks/biology_chapter_3_3_treshhold_5-Scene-077.wav\u001b[0m\n",
      " 78%|███████▊  | 66/85 [00:19<00:04,  4.03it/s]"
     ]
    },
    {
     "name": "stdout",
     "output_type": "stream",
     "text": [
      "MoviePy - Done.\n",
      "MoviePy - Writing audio in /Users/haseeb/Desktop/Prak_New/afm-vlm/data/raw/biology_chapter_3_3_treshhold_5/audio_chunks/biology_chapter_3_3_treshhold_5-Scene-063.wav\n"
     ]
    },
    {
     "name": "stderr",
     "output_type": "stream",
     "text": [
      " 78%|███████▊  | 66/85 [00:20<00:04,  4.03it/s]\u001b[32m2024-06-27 12:27:55.140\u001b[0m | \u001b[1mINFO    \u001b[0m | \u001b[36msrc.video_preprocessing.download_videos.download_utils\u001b[0m:\u001b[36mextract_and_store_audio\u001b[0m:\u001b[36m287\u001b[0m - \u001b[1mAudio extracted and saved as /Users/haseeb/Desktop/Prak_New/afm-vlm/data/raw/biology_chapter_3_3_treshhold_5/audio_chunks/biology_chapter_3_3_treshhold_5-Scene-063.wav\u001b[0m\n",
      " 79%|███████▉  | 67/85 [00:20<00:05,  3.25it/s]"
     ]
    },
    {
     "name": "stdout",
     "output_type": "stream",
     "text": [
      "MoviePy - Done.\n",
      "MoviePy - Writing audio in /Users/haseeb/Desktop/Prak_New/afm-vlm/data/raw/biology_chapter_3_3_treshhold_5/audio_chunks/biology_chapter_3_3_treshhold_5-Scene-062.wav\n"
     ]
    },
    {
     "name": "stderr",
     "output_type": "stream",
     "text": [
      " 79%|███████▉  | 67/85 [00:20<00:05,  3.25it/s]\u001b[32m2024-06-27 12:27:55.549\u001b[0m | \u001b[1mINFO    \u001b[0m | \u001b[36msrc.video_preprocessing.download_videos.download_utils\u001b[0m:\u001b[36mextract_and_store_audio\u001b[0m:\u001b[36m287\u001b[0m - \u001b[1mAudio extracted and saved as /Users/haseeb/Desktop/Prak_New/afm-vlm/data/raw/biology_chapter_3_3_treshhold_5/audio_chunks/biology_chapter_3_3_treshhold_5-Scene-062.wav\u001b[0m\n",
      " 80%|████████  | 68/85 [00:20<00:05,  2.95it/s]"
     ]
    },
    {
     "name": "stdout",
     "output_type": "stream",
     "text": [
      "MoviePy - Done.\n",
      "MoviePy - Writing audio in /Users/haseeb/Desktop/Prak_New/afm-vlm/data/raw/biology_chapter_3_3_treshhold_5/audio_chunks/biology_chapter_3_3_treshhold_5-Scene-076.wav\n"
     ]
    },
    {
     "name": "stderr",
     "output_type": "stream",
     "text": [
      " 80%|████████  | 68/85 [00:20<00:05,  2.95it/s]\u001b[32m2024-06-27 12:27:55.889\u001b[0m | \u001b[1mINFO    \u001b[0m | \u001b[36msrc.video_preprocessing.download_videos.download_utils\u001b[0m:\u001b[36mextract_and_store_audio\u001b[0m:\u001b[36m287\u001b[0m - \u001b[1mAudio extracted and saved as /Users/haseeb/Desktop/Prak_New/afm-vlm/data/raw/biology_chapter_3_3_treshhold_5/audio_chunks/biology_chapter_3_3_treshhold_5-Scene-076.wav\u001b[0m\n",
      " 81%|████████  | 69/85 [00:21<00:05,  2.95it/s]"
     ]
    },
    {
     "name": "stdout",
     "output_type": "stream",
     "text": [
      "MoviePy - Done.\n",
      "MoviePy - Writing audio in /Users/haseeb/Desktop/Prak_New/afm-vlm/data/raw/biology_chapter_3_3_treshhold_5/audio_chunks/biology_chapter_3_3_treshhold_5-Scene-048.wav\n"
     ]
    },
    {
     "name": "stderr",
     "output_type": "stream",
     "text": [
      " 81%|████████  | 69/85 [00:21<00:05,  2.95it/s]\u001b[32m2024-06-27 12:27:56.120\u001b[0m | \u001b[1mINFO    \u001b[0m | \u001b[36msrc.video_preprocessing.download_videos.download_utils\u001b[0m:\u001b[36mextract_and_store_audio\u001b[0m:\u001b[36m287\u001b[0m - \u001b[1mAudio extracted and saved as /Users/haseeb/Desktop/Prak_New/afm-vlm/data/raw/biology_chapter_3_3_treshhold_5/audio_chunks/biology_chapter_3_3_treshhold_5-Scene-048.wav\u001b[0m\n",
      " 82%|████████▏ | 70/85 [00:21<00:04,  3.26it/s]"
     ]
    },
    {
     "name": "stdout",
     "output_type": "stream",
     "text": [
      "MoviePy - Done.\n",
      "MoviePy - Writing audio in /Users/haseeb/Desktop/Prak_New/afm-vlm/data/raw/biology_chapter_3_3_treshhold_5/audio_chunks/biology_chapter_3_3_treshhold_5-Scene-060.wav\n"
     ]
    },
    {
     "name": "stderr",
     "output_type": "stream",
     "text": [
      " 82%|████████▏ | 70/85 [00:21<00:04,  3.26it/s]\u001b[32m2024-06-27 12:27:56.356\u001b[0m | \u001b[1mINFO    \u001b[0m | \u001b[36msrc.video_preprocessing.download_videos.download_utils\u001b[0m:\u001b[36mextract_and_store_audio\u001b[0m:\u001b[36m287\u001b[0m - \u001b[1mAudio extracted and saved as /Users/haseeb/Desktop/Prak_New/afm-vlm/data/raw/biology_chapter_3_3_treshhold_5/audio_chunks/biology_chapter_3_3_treshhold_5-Scene-060.wav\u001b[0m\n",
      " 84%|████████▎ | 71/85 [00:21<00:03,  3.50it/s]"
     ]
    },
    {
     "name": "stdout",
     "output_type": "stream",
     "text": [
      "MoviePy - Done.\n",
      "MoviePy - Writing audio in /Users/haseeb/Desktop/Prak_New/afm-vlm/data/raw/biology_chapter_3_3_treshhold_5/audio_chunks/biology_chapter_3_3_treshhold_5-Scene-074.wav\n"
     ]
    },
    {
     "name": "stderr",
     "output_type": "stream",
     "text": [
      " 84%|████████▎ | 71/85 [00:21<00:03,  3.50it/s]\u001b[32m2024-06-27 12:27:56.602\u001b[0m | \u001b[1mINFO    \u001b[0m | \u001b[36msrc.video_preprocessing.download_videos.download_utils\u001b[0m:\u001b[36mextract_and_store_audio\u001b[0m:\u001b[36m287\u001b[0m - \u001b[1mAudio extracted and saved as /Users/haseeb/Desktop/Prak_New/afm-vlm/data/raw/biology_chapter_3_3_treshhold_5/audio_chunks/biology_chapter_3_3_treshhold_5-Scene-074.wav\u001b[0m\n",
      " 85%|████████▍ | 72/85 [00:21<00:03,  3.66it/s]"
     ]
    },
    {
     "name": "stdout",
     "output_type": "stream",
     "text": [
      "MoviePy - Done.\n",
      "MoviePy - Writing audio in /Users/haseeb/Desktop/Prak_New/afm-vlm/data/raw/biology_chapter_3_3_treshhold_5/audio_chunks/biology_chapter_3_3_treshhold_5-Scene-075.wav\n"
     ]
    },
    {
     "name": "stderr",
     "output_type": "stream",
     "text": [
      " 85%|████████▍ | 72/85 [00:21<00:03,  3.66it/s]\u001b[32m2024-06-27 12:27:56.833\u001b[0m | \u001b[1mINFO    \u001b[0m | \u001b[36msrc.video_preprocessing.download_videos.download_utils\u001b[0m:\u001b[36mextract_and_store_audio\u001b[0m:\u001b[36m287\u001b[0m - \u001b[1mAudio extracted and saved as /Users/haseeb/Desktop/Prak_New/afm-vlm/data/raw/biology_chapter_3_3_treshhold_5/audio_chunks/biology_chapter_3_3_treshhold_5-Scene-075.wav\u001b[0m\n",
      " 86%|████████▌ | 73/85 [00:22<00:03,  3.84it/s]"
     ]
    },
    {
     "name": "stdout",
     "output_type": "stream",
     "text": [
      "MoviePy - Done.\n",
      "MoviePy - Writing audio in /Users/haseeb/Desktop/Prak_New/afm-vlm/data/raw/biology_chapter_3_3_treshhold_5/audio_chunks/biology_chapter_3_3_treshhold_5-Scene-061.wav\n"
     ]
    },
    {
     "name": "stderr",
     "output_type": "stream",
     "text": [
      " 86%|████████▌ | 73/85 [00:22<00:03,  3.84it/s]\u001b[32m2024-06-27 12:27:57.191\u001b[0m | \u001b[1mINFO    \u001b[0m | \u001b[36msrc.video_preprocessing.download_videos.download_utils\u001b[0m:\u001b[36mextract_and_store_audio\u001b[0m:\u001b[36m287\u001b[0m - \u001b[1mAudio extracted and saved as /Users/haseeb/Desktop/Prak_New/afm-vlm/data/raw/biology_chapter_3_3_treshhold_5/audio_chunks/biology_chapter_3_3_treshhold_5-Scene-061.wav\u001b[0m\n",
      " 87%|████████▋ | 74/85 [00:22<00:03,  3.45it/s]"
     ]
    },
    {
     "name": "stdout",
     "output_type": "stream",
     "text": [
      "MoviePy - Done.\n",
      "MoviePy - Writing audio in /Users/haseeb/Desktop/Prak_New/afm-vlm/data/raw/biology_chapter_3_3_treshhold_5/audio_chunks/biology_chapter_3_3_treshhold_5-Scene-049.wav\n"
     ]
    },
    {
     "name": "stderr",
     "output_type": "stream",
     "text": [
      " 87%|████████▋ | 74/85 [00:22<00:03,  3.45it/s]\u001b[32m2024-06-27 12:27:57.560\u001b[0m | \u001b[1mINFO    \u001b[0m | \u001b[36msrc.video_preprocessing.download_videos.download_utils\u001b[0m:\u001b[36mextract_and_store_audio\u001b[0m:\u001b[36m287\u001b[0m - \u001b[1mAudio extracted and saved as /Users/haseeb/Desktop/Prak_New/afm-vlm/data/raw/biology_chapter_3_3_treshhold_5/audio_chunks/biology_chapter_3_3_treshhold_5-Scene-049.wav\u001b[0m\n",
      " 88%|████████▊ | 75/85 [00:22<00:03,  3.19it/s]"
     ]
    },
    {
     "name": "stdout",
     "output_type": "stream",
     "text": [
      "MoviePy - Done.\n",
      "MoviePy - Writing audio in /Users/haseeb/Desktop/Prak_New/afm-vlm/data/raw/biology_chapter_3_3_treshhold_5/audio_chunks/biology_chapter_3_3_treshhold_5-Scene-065.wav\n"
     ]
    },
    {
     "name": "stderr",
     "output_type": "stream",
     "text": [
      " 88%|████████▊ | 75/85 [00:23<00:03,  3.19it/s]\u001b[32m2024-06-27 12:27:57.955\u001b[0m | \u001b[1mINFO    \u001b[0m | \u001b[36msrc.video_preprocessing.download_videos.download_utils\u001b[0m:\u001b[36mextract_and_store_audio\u001b[0m:\u001b[36m287\u001b[0m - \u001b[1mAudio extracted and saved as /Users/haseeb/Desktop/Prak_New/afm-vlm/data/raw/biology_chapter_3_3_treshhold_5/audio_chunks/biology_chapter_3_3_treshhold_5-Scene-065.wav\u001b[0m\n",
      " 89%|████████▉ | 76/85 [00:23<00:03,  2.96it/s]"
     ]
    },
    {
     "name": "stdout",
     "output_type": "stream",
     "text": [
      "MoviePy - Done.\n",
      "MoviePy - Writing audio in /Users/haseeb/Desktop/Prak_New/afm-vlm/data/raw/biology_chapter_3_3_treshhold_5/audio_chunks/biology_chapter_3_3_treshhold_5-Scene-071.wav\n"
     ]
    },
    {
     "name": "stderr",
     "output_type": "stream",
     "text": [
      " 89%|████████▉ | 76/85 [00:23<00:03,  2.96it/s]\u001b[32m2024-06-27 12:27:58.285\u001b[0m | \u001b[1mINFO    \u001b[0m | \u001b[36msrc.video_preprocessing.download_videos.download_utils\u001b[0m:\u001b[36mextract_and_store_audio\u001b[0m:\u001b[36m287\u001b[0m - \u001b[1mAudio extracted and saved as /Users/haseeb/Desktop/Prak_New/afm-vlm/data/raw/biology_chapter_3_3_treshhold_5/audio_chunks/biology_chapter_3_3_treshhold_5-Scene-071.wav\u001b[0m\n",
      " 91%|█████████ | 77/85 [00:23<00:02,  2.98it/s]"
     ]
    },
    {
     "name": "stdout",
     "output_type": "stream",
     "text": [
      "MoviePy - Done.\n",
      "MoviePy - Writing audio in /Users/haseeb/Desktop/Prak_New/afm-vlm/data/raw/biology_chapter_3_3_treshhold_5/audio_chunks/biology_chapter_3_3_treshhold_5-Scene-059.wav\n"
     ]
    },
    {
     "name": "stderr",
     "output_type": "stream",
     "text": [
      " 91%|█████████ | 77/85 [00:23<00:02,  2.98it/s]\u001b[32m2024-06-27 12:27:58.773\u001b[0m | \u001b[1mINFO    \u001b[0m | \u001b[36msrc.video_preprocessing.download_videos.download_utils\u001b[0m:\u001b[36mextract_and_store_audio\u001b[0m:\u001b[36m287\u001b[0m - \u001b[1mAudio extracted and saved as /Users/haseeb/Desktop/Prak_New/afm-vlm/data/raw/biology_chapter_3_3_treshhold_5/audio_chunks/biology_chapter_3_3_treshhold_5-Scene-059.wav\u001b[0m\n",
      " 92%|█████████▏| 78/85 [00:24<00:02,  2.62it/s]"
     ]
    },
    {
     "name": "stdout",
     "output_type": "stream",
     "text": [
      "MoviePy - Done.\n",
      "MoviePy - Writing audio in /Users/haseeb/Desktop/Prak_New/afm-vlm/data/raw/biology_chapter_3_3_treshhold_5/audio_chunks/biology_chapter_3_3_treshhold_5-Scene-058.wav\n"
     ]
    },
    {
     "name": "stderr",
     "output_type": "stream",
     "text": [
      " 92%|█████████▏| 78/85 [00:24<00:02,  2.62it/s]\u001b[32m2024-06-27 12:27:59.067\u001b[0m | \u001b[1mINFO    \u001b[0m | \u001b[36msrc.video_preprocessing.download_videos.download_utils\u001b[0m:\u001b[36mextract_and_store_audio\u001b[0m:\u001b[36m287\u001b[0m - \u001b[1mAudio extracted and saved as /Users/haseeb/Desktop/Prak_New/afm-vlm/data/raw/biology_chapter_3_3_treshhold_5/audio_chunks/biology_chapter_3_3_treshhold_5-Scene-058.wav\u001b[0m\n",
      " 93%|█████████▎| 79/85 [00:24<00:02,  2.82it/s]"
     ]
    },
    {
     "name": "stdout",
     "output_type": "stream",
     "text": [
      "MoviePy - Done.\n",
      "MoviePy - Writing audio in /Users/haseeb/Desktop/Prak_New/afm-vlm/data/raw/biology_chapter_3_3_treshhold_5/audio_chunks/biology_chapter_3_3_treshhold_5-Scene-070.wav\n"
     ]
    },
    {
     "name": "stderr",
     "output_type": "stream",
     "text": [
      " 93%|█████████▎| 79/85 [00:24<00:02,  2.82it/s]\u001b[32m2024-06-27 12:27:59.291\u001b[0m | \u001b[1mINFO    \u001b[0m | \u001b[36msrc.video_preprocessing.download_videos.download_utils\u001b[0m:\u001b[36mextract_and_store_audio\u001b[0m:\u001b[36m287\u001b[0m - \u001b[1mAudio extracted and saved as /Users/haseeb/Desktop/Prak_New/afm-vlm/data/raw/biology_chapter_3_3_treshhold_5/audio_chunks/biology_chapter_3_3_treshhold_5-Scene-070.wav\u001b[0m\n",
      " 94%|█████████▍| 80/85 [00:24<00:01,  3.17it/s]"
     ]
    },
    {
     "name": "stdout",
     "output_type": "stream",
     "text": [
      "MoviePy - Done.\n",
      "MoviePy - Writing audio in /Users/haseeb/Desktop/Prak_New/afm-vlm/data/raw/biology_chapter_3_3_treshhold_5/audio_chunks/biology_chapter_3_3_treshhold_5-Scene-064.wav\n"
     ]
    },
    {
     "name": "stderr",
     "output_type": "stream",
     "text": [
      " 94%|█████████▍| 80/85 [00:24<00:01,  3.17it/s]\u001b[32m2024-06-27 12:27:59.623\u001b[0m | \u001b[1mINFO    \u001b[0m | \u001b[36msrc.video_preprocessing.download_videos.download_utils\u001b[0m:\u001b[36mextract_and_store_audio\u001b[0m:\u001b[36m287\u001b[0m - \u001b[1mAudio extracted and saved as /Users/haseeb/Desktop/Prak_New/afm-vlm/data/raw/biology_chapter_3_3_treshhold_5/audio_chunks/biology_chapter_3_3_treshhold_5-Scene-064.wav\u001b[0m\n",
      " 95%|█████████▌| 81/85 [00:24<00:01,  3.12it/s]"
     ]
    },
    {
     "name": "stdout",
     "output_type": "stream",
     "text": [
      "MoviePy - Done.\n",
      "MoviePy - Writing audio in /Users/haseeb/Desktop/Prak_New/afm-vlm/data/raw/biology_chapter_3_3_treshhold_5/audio_chunks/biology_chapter_3_3_treshhold_5-Scene-072.wav\n"
     ]
    },
    {
     "name": "stderr",
     "output_type": "stream",
     "text": [
      " 95%|█████████▌| 81/85 [00:24<00:01,  3.12it/s]\u001b[32m2024-06-27 12:27:59.870\u001b[0m | \u001b[1mINFO    \u001b[0m | \u001b[36msrc.video_preprocessing.download_videos.download_utils\u001b[0m:\u001b[36mextract_and_store_audio\u001b[0m:\u001b[36m287\u001b[0m - \u001b[1mAudio extracted and saved as /Users/haseeb/Desktop/Prak_New/afm-vlm/data/raw/biology_chapter_3_3_treshhold_5/audio_chunks/biology_chapter_3_3_treshhold_5-Scene-072.wav\u001b[0m\n",
      " 96%|█████████▋| 82/85 [00:25<00:00,  3.35it/s]"
     ]
    },
    {
     "name": "stdout",
     "output_type": "stream",
     "text": [
      "MoviePy - Done.\n",
      "MoviePy - Writing audio in /Users/haseeb/Desktop/Prak_New/afm-vlm/data/raw/biology_chapter_3_3_treshhold_5/audio_chunks/biology_chapter_3_3_treshhold_5-Scene-066.wav\n"
     ]
    },
    {
     "name": "stderr",
     "output_type": "stream",
     "text": [
      " 96%|█████████▋| 82/85 [00:25<00:00,  3.35it/s]\u001b[32m2024-06-27 12:28:00.246\u001b[0m | \u001b[1mINFO    \u001b[0m | \u001b[36msrc.video_preprocessing.download_videos.download_utils\u001b[0m:\u001b[36mextract_and_store_audio\u001b[0m:\u001b[36m287\u001b[0m - \u001b[1mAudio extracted and saved as /Users/haseeb/Desktop/Prak_New/afm-vlm/data/raw/biology_chapter_3_3_treshhold_5/audio_chunks/biology_chapter_3_3_treshhold_5-Scene-066.wav\u001b[0m\n",
      " 98%|█████████▊| 83/85 [00:25<00:00,  3.11it/s]"
     ]
    },
    {
     "name": "stdout",
     "output_type": "stream",
     "text": [
      "MoviePy - Done.\n",
      "MoviePy - Writing audio in /Users/haseeb/Desktop/Prak_New/afm-vlm/data/raw/biology_chapter_3_3_treshhold_5/audio_chunks/biology_chapter_3_3_treshhold_5-Scene-067.wav\n"
     ]
    },
    {
     "name": "stderr",
     "output_type": "stream",
     "text": [
      " 98%|█████████▊| 83/85 [00:25<00:00,  3.11it/s]\u001b[32m2024-06-27 12:28:00.765\u001b[0m | \u001b[1mINFO    \u001b[0m | \u001b[36msrc.video_preprocessing.download_videos.download_utils\u001b[0m:\u001b[36mextract_and_store_audio\u001b[0m:\u001b[36m287\u001b[0m - \u001b[1mAudio extracted and saved as /Users/haseeb/Desktop/Prak_New/afm-vlm/data/raw/biology_chapter_3_3_treshhold_5/audio_chunks/biology_chapter_3_3_treshhold_5-Scene-067.wav\u001b[0m\n",
      " 99%|█████████▉| 84/85 [00:26<00:00,  2.62it/s]"
     ]
    },
    {
     "name": "stdout",
     "output_type": "stream",
     "text": [
      "MoviePy - Done.\n",
      "MoviePy - Writing audio in /Users/haseeb/Desktop/Prak_New/afm-vlm/data/raw/biology_chapter_3_3_treshhold_5/audio_chunks/biology_chapter_3_3_treshhold_5-Scene-073.wav\n"
     ]
    },
    {
     "name": "stderr",
     "output_type": "stream",
     "text": [
      " 99%|█████████▉| 84/85 [00:26<00:00,  2.62it/s]\u001b[32m2024-06-27 12:28:01.154\u001b[0m | \u001b[1mINFO    \u001b[0m | \u001b[36msrc.video_preprocessing.download_videos.download_utils\u001b[0m:\u001b[36mextract_and_store_audio\u001b[0m:\u001b[36m287\u001b[0m - \u001b[1mAudio extracted and saved as /Users/haseeb/Desktop/Prak_New/afm-vlm/data/raw/biology_chapter_3_3_treshhold_5/audio_chunks/biology_chapter_3_3_treshhold_5-Scene-073.wav\u001b[0m\n",
      "100%|██████████| 85/85 [00:26<00:00,  3.24it/s]"
     ]
    },
    {
     "name": "stdout",
     "output_type": "stream",
     "text": [
      "MoviePy - Done.\n"
     ]
    },
    {
     "name": "stderr",
     "output_type": "stream",
     "text": [
      "\n"
     ]
    }
   ],
   "source": [
    "# Extract the audio per detected scene\n",
    "extract_and_store_audio(\n",
    "    os.path.join(data_path, \"scene_snippets\"),\n",
    "    os.path.join(data_path, \"audio_chunks\"),\n",
    ")"
   ]
  },
  {
   "attachments": {},
   "cell_type": "markdown",
   "metadata": {},
   "source": [
    "# Audio Transcription using Whisper\n",
    "\n",
    "For Faster Inference Please Use Tiny!"
   ]
  },
  {
   "cell_type": "code",
   "execution_count": 6,
   "metadata": {
    "ExecuteTime": {
     "end_time": "2024-06-17T08:44:28.464003Z",
     "start_time": "2024-06-17T08:44:22.751722Z"
    }
   },
   "outputs": [
    {
     "name": "stderr",
     "output_type": "stream",
     "text": [
      "\u001b[32m2024-06-27 12:28:01.274\u001b[0m | \u001b[1mINFO    \u001b[0m | \u001b[36msrc.video_preprocessing.download_videos.download_utils\u001b[0m:\u001b[36mtranscribe_audio_files\u001b[0m:\u001b[36m362\u001b[0m - \u001b[1mStarting pooling:\u001b[0m\n",
      "  0%|          | 0/85 [00:00<?, ?it/s]2024-06-27 12:28:15.166 | INFO     | src.video_preprocessing.download_videos.download_utils:transcribe_single_file:346 - Transcription for biology_chapter_3_3_treshhold_5-Scene-002.wav saved in /Users/haseeb/Desktop/Prak_New/afm-vlm/data/raw/biology_chapter_3_3_treshhold_5/transcriptions\n",
      "2024-06-27 12:28:16.581 | INFO     | src.video_preprocessing.download_videos.download_utils:transcribe_single_file:346 - Transcription for biology_chapter_3_3_treshhold_5-Scene-003.wav saved in /Users/haseeb/Desktop/Prak_New/afm-vlm/data/raw/biology_chapter_3_3_treshhold_5/transcriptions\n",
      "2024-06-27 12:28:17.966 | INFO     | src.video_preprocessing.download_videos.download_utils:transcribe_single_file:346 - Transcription for biology_chapter_3_3_treshhold_5-Scene-028.wav saved in /Users/haseeb/Desktop/Prak_New/afm-vlm/data/raw/biology_chapter_3_3_treshhold_5/transcriptions\n",
      "2024-06-27 12:28:22.298 | INFO     | src.video_preprocessing.download_videos.download_utils:transcribe_single_file:346 - Transcription for biology_chapter_3_3_treshhold_5-Scene-015.wav saved in /Users/haseeb/Desktop/Prak_New/afm-vlm/data/raw/biology_chapter_3_3_treshhold_5/transcriptions\n",
      "2024-06-27 12:28:23.030 | INFO     | src.video_preprocessing.download_videos.download_utils:transcribe_single_file:346 - Transcription for biology_chapter_3_3_treshhold_5-Scene-014.wav saved in /Users/haseeb/Desktop/Prak_New/afm-vlm/data/raw/biology_chapter_3_3_treshhold_5/transcriptions\n",
      "2024-06-27 12:28:25.655 | INFO     | src.video_preprocessing.download_videos.download_utils:transcribe_single_file:346 - Transcription for biology_chapter_3_3_treshhold_5-Scene-006.wav saved in /Users/haseeb/Desktop/Prak_New/afm-vlm/data/raw/biology_chapter_3_3_treshhold_5/transcriptions\n",
      "2024-06-27 12:28:26.827 | INFO     | src.video_preprocessing.download_videos.download_utils:transcribe_single_file:346 - Transcription for biology_chapter_3_3_treshhold_5-Scene-016.wav saved in /Users/haseeb/Desktop/Prak_New/afm-vlm/data/raw/biology_chapter_3_3_treshhold_5/transcriptions\n",
      "2024-06-27 12:28:27.856 | INFO     | src.video_preprocessing.download_videos.download_utils:transcribe_single_file:346 - Transcription for biology_chapter_3_3_treshhold_5-Scene-004.wav saved in /Users/haseeb/Desktop/Prak_New/afm-vlm/data/raw/biology_chapter_3_3_treshhold_5/transcriptions\n",
      "2024-06-27 12:28:30.142 | INFO     | src.video_preprocessing.download_videos.download_utils:transcribe_single_file:346 - Transcription for biology_chapter_3_3_treshhold_5-Scene-010.wav saved in /Users/haseeb/Desktop/Prak_New/afm-vlm/data/raw/biology_chapter_3_3_treshhold_5/transcriptions\n",
      "2024-06-27 12:28:30.766 | INFO     | src.video_preprocessing.download_videos.download_utils:transcribe_single_file:346 - Transcription for biology_chapter_3_3_treshhold_5-Scene-007.wav saved in /Users/haseeb/Desktop/Prak_New/afm-vlm/data/raw/biology_chapter_3_3_treshhold_5/transcriptions\n",
      "2024-06-27 12:28:30.835 | INFO     | src.video_preprocessing.download_videos.download_utils:transcribe_single_file:346 - Transcription for biology_chapter_3_3_treshhold_5-Scene-017.wav saved in /Users/haseeb/Desktop/Prak_New/afm-vlm/data/raw/biology_chapter_3_3_treshhold_5/transcriptions\n",
      "2024-06-27 12:28:31.252 | INFO     | src.video_preprocessing.download_videos.download_utils:transcribe_single_file:346 - Transcription for biology_chapter_3_3_treshhold_5-Scene-012.wav saved in /Users/haseeb/Desktop/Prak_New/afm-vlm/data/raw/biology_chapter_3_3_treshhold_5/transcriptions\n",
      "2024-06-27 12:28:31.471 | INFO     | src.video_preprocessing.download_videos.download_utils:transcribe_single_file:346 - Transcription for biology_chapter_3_3_treshhold_5-Scene-013.wav saved in /Users/haseeb/Desktop/Prak_New/afm-vlm/data/raw/biology_chapter_3_3_treshhold_5/transcriptions\n",
      "2024-06-27 12:28:31.663 | INFO     | src.video_preprocessing.download_videos.download_utils:transcribe_single_file:346 - Transcription for biology_chapter_3_3_treshhold_5-Scene-038.wav saved in /Users/haseeb/Desktop/Prak_New/afm-vlm/data/raw/biology_chapter_3_3_treshhold_5/transcriptions\n",
      "2024-06-27 12:28:34.064 | INFO     | src.video_preprocessing.download_videos.download_utils:transcribe_single_file:346 - Transcription for biology_chapter_3_3_treshhold_5-Scene-039.wav saved in /Users/haseeb/Desktop/Prak_New/afm-vlm/data/raw/biology_chapter_3_3_treshhold_5/transcriptions\n",
      "2024-06-27 12:28:35.072 | INFO     | src.video_preprocessing.download_videos.download_utils:transcribe_single_file:346 - Transcription for biology_chapter_3_3_treshhold_5-Scene-005.wav saved in /Users/haseeb/Desktop/Prak_New/afm-vlm/data/raw/biology_chapter_3_3_treshhold_5/transcriptions\n",
      "2024-06-27 12:28:37.817 | INFO     | src.video_preprocessing.download_videos.download_utils:transcribe_single_file:346 - Transcription for biology_chapter_3_3_treshhold_5-Scene-077.wav saved in /Users/haseeb/Desktop/Prak_New/afm-vlm/data/raw/biology_chapter_3_3_treshhold_5/transcriptions\n",
      "2024-06-27 12:28:38.512 | INFO     | src.video_preprocessing.download_videos.download_utils:transcribe_single_file:346 - Transcription for biology_chapter_3_3_treshhold_5-Scene-029.wav saved in /Users/haseeb/Desktop/Prak_New/afm-vlm/data/raw/biology_chapter_3_3_treshhold_5/transcriptions\n",
      "  1%|          | 1/85 [00:37<52:01, 37.16s/it]2024-06-27 12:28:41.030 | INFO     | src.video_preprocessing.download_videos.download_utils:transcribe_single_file:346 - Transcription for biology_chapter_3_3_treshhold_5-Scene-075.wav saved in /Users/haseeb/Desktop/Prak_New/afm-vlm/data/raw/biology_chapter_3_3_treshhold_5/transcriptions\n",
      "2024-06-27 12:28:43.366 | INFO     | src.video_preprocessing.download_videos.download_utils:transcribe_single_file:346 - Transcription for biology_chapter_3_3_treshhold_5-Scene-049.wav saved in /Users/haseeb/Desktop/Prak_New/afm-vlm/data/raw/biology_chapter_3_3_treshhold_5/transcriptions\n",
      "2024-06-27 12:28:44.902 | INFO     | src.video_preprocessing.download_videos.download_utils:transcribe_single_file:346 - Transcription for biology_chapter_3_3_treshhold_5-Scene-076.wav saved in /Users/haseeb/Desktop/Prak_New/afm-vlm/data/raw/biology_chapter_3_3_treshhold_5/transcriptions\n",
      "2024-06-27 12:28:46.061 | INFO     | src.video_preprocessing.download_videos.download_utils:transcribe_single_file:346 - Transcription for biology_chapter_3_3_treshhold_5-Scene-060.wav saved in /Users/haseeb/Desktop/Prak_New/afm-vlm/data/raw/biology_chapter_3_3_treshhold_5/transcriptions\n",
      "2024-06-27 12:28:49.291 | INFO     | src.video_preprocessing.download_videos.download_utils:transcribe_single_file:346 - Transcription for biology_chapter_3_3_treshhold_5-Scene-074.wav saved in /Users/haseeb/Desktop/Prak_New/afm-vlm/data/raw/biology_chapter_3_3_treshhold_5/transcriptions\n",
      "2024-06-27 12:28:49.470 | INFO     | src.video_preprocessing.download_videos.download_utils:transcribe_single_file:346 - Transcription for biology_chapter_3_3_treshhold_5-Scene-070.wav saved in /Users/haseeb/Desktop/Prak_New/afm-vlm/data/raw/biology_chapter_3_3_treshhold_5/transcriptions\n",
      "2024-06-27 12:28:50.785 | INFO     | src.video_preprocessing.download_videos.download_utils:transcribe_single_file:346 - Transcription for biology_chapter_3_3_treshhold_5-Scene-048.wav saved in /Users/haseeb/Desktop/Prak_New/afm-vlm/data/raw/biology_chapter_3_3_treshhold_5/transcriptions\n",
      "2024-06-27 12:28:51.591 | INFO     | src.video_preprocessing.download_videos.download_utils:transcribe_single_file:346 - Transcription for biology_chapter_3_3_treshhold_5-Scene-062.wav saved in /Users/haseeb/Desktop/Prak_New/afm-vlm/data/raw/biology_chapter_3_3_treshhold_5/transcriptions\n",
      "2024-06-27 12:28:52.249 | INFO     | src.video_preprocessing.download_videos.download_utils:transcribe_single_file:346 - Transcription for biology_chapter_3_3_treshhold_5-Scene-011.wav saved in /Users/haseeb/Desktop/Prak_New/afm-vlm/data/raw/biology_chapter_3_3_treshhold_5/transcriptions\n",
      "2024-06-27 12:28:54.342 | INFO     | src.video_preprocessing.download_videos.download_utils:transcribe_single_file:346 - Transcription for biology_chapter_3_3_treshhold_5-Scene-001.wav saved in /Users/haseeb/Desktop/Prak_New/afm-vlm/data/raw/biology_chapter_3_3_treshhold_5/transcriptions\n",
      "  2%|▏         | 2/85 [00:52<34:00, 24.58s/it]2024-06-27 12:28:55.311 | INFO     | src.video_preprocessing.download_videos.download_utils:transcribe_single_file:346 - Transcription for biology_chapter_3_3_treshhold_5-Scene-061.wav saved in /Users/haseeb/Desktop/Prak_New/afm-vlm/data/raw/biology_chapter_3_3_treshhold_5/transcriptions\n",
      "2024-06-27 12:28:59.217 | INFO     | src.video_preprocessing.download_videos.download_utils:transcribe_single_file:346 - Transcription for biology_chapter_3_3_treshhold_5-Scene-058.wav saved in /Users/haseeb/Desktop/Prak_New/afm-vlm/data/raw/biology_chapter_3_3_treshhold_5/transcriptions\n",
      "2024-06-27 12:29:03.192 | INFO     | src.video_preprocessing.download_videos.download_utils:transcribe_single_file:346 - Transcription for biology_chapter_3_3_treshhold_5-Scene-063.wav saved in /Users/haseeb/Desktop/Prak_New/afm-vlm/data/raw/biology_chapter_3_3_treshhold_5/transcriptions\n",
      " 27%|██▋       | 23/85 [01:01<01:46,  1.72s/it]2024-06-27 12:29:03.481 | INFO     | src.video_preprocessing.download_videos.download_utils:transcribe_single_file:346 - Transcription for biology_chapter_3_3_treshhold_5-Scene-072.wav saved in /Users/haseeb/Desktop/Prak_New/afm-vlm/data/raw/biology_chapter_3_3_treshhold_5/transcriptions\n",
      "2024-06-27 12:29:08.600 | INFO     | src.video_preprocessing.download_videos.download_utils:transcribe_single_file:346 - Transcription for biology_chapter_3_3_treshhold_5-Scene-064.wav saved in /Users/haseeb/Desktop/Prak_New/afm-vlm/data/raw/biology_chapter_3_3_treshhold_5/transcriptions\n",
      " 36%|███▋      | 31/85 [01:07<01:13,  1.36s/it]2024-06-27 12:29:11.519 | INFO     | src.video_preprocessing.download_videos.download_utils:transcribe_single_file:346 - Transcription for biology_chapter_3_3_treshhold_5-Scene-071.wav saved in /Users/haseeb/Desktop/Prak_New/afm-vlm/data/raw/biology_chapter_3_3_treshhold_5/transcriptions\n",
      "2024-06-27 12:29:11.897 | INFO     | src.video_preprocessing.download_videos.download_utils:transcribe_single_file:346 - Transcription for biology_chapter_3_3_treshhold_5-Scene-057.wav saved in /Users/haseeb/Desktop/Prak_New/afm-vlm/data/raw/biology_chapter_3_3_treshhold_5/transcriptions\n",
      "2024-06-27 12:29:16.143 | INFO     | src.video_preprocessing.download_videos.download_utils:transcribe_single_file:346 - Transcription for biology_chapter_3_3_treshhold_5-Scene-065.wav saved in /Users/haseeb/Desktop/Prak_New/afm-vlm/data/raw/biology_chapter_3_3_treshhold_5/transcriptions\n",
      "2024-06-27 12:29:20.651 | INFO     | src.video_preprocessing.download_videos.download_utils:transcribe_single_file:346 - Transcription for biology_chapter_3_3_treshhold_5-Scene-056.wav saved in /Users/haseeb/Desktop/Prak_New/afm-vlm/data/raw/biology_chapter_3_3_treshhold_5/transcriptions\n",
      "2024-06-27 12:29:20.722 | INFO     | src.video_preprocessing.download_videos.download_utils:transcribe_single_file:346 - Transcription for biology_chapter_3_3_treshhold_5-Scene-073.wav saved in /Users/haseeb/Desktop/Prak_New/afm-vlm/data/raw/biology_chapter_3_3_treshhold_5/transcriptions\n",
      "2024-06-27 12:29:24.698 | INFO     | src.video_preprocessing.download_videos.download_utils:transcribe_single_file:346 - Transcription for biology_chapter_3_3_treshhold_5-Scene-043.wav saved in /Users/haseeb/Desktop/Prak_New/afm-vlm/data/raw/biology_chapter_3_3_treshhold_5/transcriptions\n",
      "2024-06-27 12:29:25.187 | INFO     | src.video_preprocessing.download_videos.download_utils:transcribe_single_file:346 - Transcription for biology_chapter_3_3_treshhold_5-Scene-080.wav saved in /Users/haseeb/Desktop/Prak_New/afm-vlm/data/raw/biology_chapter_3_3_treshhold_5/transcriptions\n",
      "2024-06-27 12:29:25.997 | INFO     | src.video_preprocessing.download_videos.download_utils:transcribe_single_file:346 - Transcription for biology_chapter_3_3_treshhold_5-Scene-081.wav saved in /Users/haseeb/Desktop/Prak_New/afm-vlm/data/raw/biology_chapter_3_3_treshhold_5/transcriptions\n",
      "2024-06-27 12:29:33.159 | INFO     | src.video_preprocessing.download_videos.download_utils:transcribe_single_file:346 - Transcription for biology_chapter_3_3_treshhold_5-Scene-068.wav saved in /Users/haseeb/Desktop/Prak_New/afm-vlm/data/raw/biology_chapter_3_3_treshhold_5/transcriptions\n",
      "2024-06-27 12:29:34.173 | INFO     | src.video_preprocessing.download_videos.download_utils:transcribe_single_file:346 - Transcription for biology_chapter_3_3_treshhold_5-Scene-083.wav saved in /Users/haseeb/Desktop/Prak_New/afm-vlm/data/raw/biology_chapter_3_3_treshhold_5/transcriptions\n",
      "2024-06-27 12:29:37.041 | INFO     | src.video_preprocessing.download_videos.download_utils:transcribe_single_file:346 - Transcription for biology_chapter_3_3_treshhold_5-Scene-042.wav saved in /Users/haseeb/Desktop/Prak_New/afm-vlm/data/raw/biology_chapter_3_3_treshhold_5/transcriptions\n",
      "2024-06-27 12:29:38.056 | INFO     | src.video_preprocessing.download_videos.download_utils:transcribe_single_file:346 - Transcription for biology_chapter_3_3_treshhold_5-Scene-040.wav saved in /Users/haseeb/Desktop/Prak_New/afm-vlm/data/raw/biology_chapter_3_3_treshhold_5/transcriptions\n",
      "2024-06-27 12:29:41.475 | INFO     | src.video_preprocessing.download_videos.download_utils:transcribe_single_file:346 - Transcription for biology_chapter_3_3_treshhold_5-Scene-059.wav saved in /Users/haseeb/Desktop/Prak_New/afm-vlm/data/raw/biology_chapter_3_3_treshhold_5/transcriptions\n",
      " 39%|███▉      | 33/85 [01:40<02:35,  3.00s/it]2024-06-27 12:29:43.834 | INFO     | src.video_preprocessing.download_videos.download_utils:transcribe_single_file:346 - Transcription for biology_chapter_3_3_treshhold_5-Scene-067.wav saved in /Users/haseeb/Desktop/Prak_New/afm-vlm/data/raw/biology_chapter_3_3_treshhold_5/transcriptions\n",
      " 42%|████▏     | 36/85 [01:42<02:06,  2.58s/it]2024-06-27 12:29:47.543 | INFO     | src.video_preprocessing.download_videos.download_utils:transcribe_single_file:346 - Transcription for biology_chapter_3_3_treshhold_5-Scene-055.wav saved in /Users/haseeb/Desktop/Prak_New/afm-vlm/data/raw/biology_chapter_3_3_treshhold_5/transcriptions\n",
      "2024-06-27 12:29:50.171 | INFO     | src.video_preprocessing.download_videos.download_utils:transcribe_single_file:346 - Transcription for biology_chapter_3_3_treshhold_5-Scene-082.wav saved in /Users/haseeb/Desktop/Prak_New/afm-vlm/data/raw/biology_chapter_3_3_treshhold_5/transcriptions\n",
      "2024-06-27 12:29:50.689 | INFO     | src.video_preprocessing.download_videos.download_utils:transcribe_single_file:346 - Transcription for biology_chapter_3_3_treshhold_5-Scene-079.wav saved in /Users/haseeb/Desktop/Prak_New/afm-vlm/data/raw/biology_chapter_3_3_treshhold_5/transcriptions\n",
      "2024-06-27 12:29:54.050 | INFO     | src.video_preprocessing.download_videos.download_utils:transcribe_single_file:346 - Transcription for biology_chapter_3_3_treshhold_5-Scene-069.wav saved in /Users/haseeb/Desktop/Prak_New/afm-vlm/data/raw/biology_chapter_3_3_treshhold_5/transcriptions\n",
      "2024-06-27 12:29:54.998 | INFO     | src.video_preprocessing.download_videos.download_utils:transcribe_single_file:346 - Transcription for biology_chapter_3_3_treshhold_5-Scene-054.wav saved in /Users/haseeb/Desktop/Prak_New/afm-vlm/data/raw/biology_chapter_3_3_treshhold_5/transcriptions\n",
      "2024-06-27 12:29:55.126 | INFO     | src.video_preprocessing.download_videos.download_utils:transcribe_single_file:346 - Transcription for biology_chapter_3_3_treshhold_5-Scene-045.wav saved in /Users/haseeb/Desktop/Prak_New/afm-vlm/data/raw/biology_chapter_3_3_treshhold_5/transcriptions\n",
      "2024-06-27 12:29:55.198 | INFO     | src.video_preprocessing.download_videos.download_utils:transcribe_single_file:346 - Transcription for biology_chapter_3_3_treshhold_5-Scene-051.wav saved in /Users/haseeb/Desktop/Prak_New/afm-vlm/data/raw/biology_chapter_3_3_treshhold_5/transcriptions\n",
      "2024-06-27 12:29:57.932 | INFO     | src.video_preprocessing.download_videos.download_utils:transcribe_single_file:346 - Transcription for biology_chapter_3_3_treshhold_5-Scene-066.wav saved in /Users/haseeb/Desktop/Prak_New/afm-vlm/data/raw/biology_chapter_3_3_treshhold_5/transcriptions\n",
      " 46%|████▌     | 39/85 [01:56<02:19,  3.03s/it]2024-06-27 12:30:00.894 | INFO     | src.video_preprocessing.download_videos.download_utils:transcribe_single_file:346 - Transcription for biology_chapter_3_3_treshhold_5-Scene-085.wav saved in /Users/haseeb/Desktop/Prak_New/afm-vlm/data/raw/biology_chapter_3_3_treshhold_5/transcriptions\n",
      "2024-06-27 12:30:01.565 | INFO     | src.video_preprocessing.download_videos.download_utils:transcribe_single_file:346 - Transcription for biology_chapter_3_3_treshhold_5-Scene-044.wav saved in /Users/haseeb/Desktop/Prak_New/afm-vlm/data/raw/biology_chapter_3_3_treshhold_5/transcriptions\n",
      "2024-06-27 12:30:02.266 | INFO     | src.video_preprocessing.download_videos.download_utils:transcribe_single_file:346 - Transcription for biology_chapter_3_3_treshhold_5-Scene-052.wav saved in /Users/haseeb/Desktop/Prak_New/afm-vlm/data/raw/biology_chapter_3_3_treshhold_5/transcriptions\n",
      "2024-06-27 12:30:07.261 | INFO     | src.video_preprocessing.download_videos.download_utils:transcribe_single_file:346 - Transcription for biology_chapter_3_3_treshhold_5-Scene-053.wav saved in /Users/haseeb/Desktop/Prak_New/afm-vlm/data/raw/biology_chapter_3_3_treshhold_5/transcriptions\n",
      "2024-06-27 12:30:07.787 | INFO     | src.video_preprocessing.download_videos.download_utils:transcribe_single_file:346 - Transcription for biology_chapter_3_3_treshhold_5-Scene-041.wav saved in /Users/haseeb/Desktop/Prak_New/afm-vlm/data/raw/biology_chapter_3_3_treshhold_5/transcriptions\n",
      " 60%|██████    | 51/85 [02:06<01:01,  1.82s/it]2024-06-27 12:30:07.849 | INFO     | src.video_preprocessing.download_videos.download_utils:transcribe_single_file:346 - Transcription for biology_chapter_3_3_treshhold_5-Scene-078.wav saved in /Users/haseeb/Desktop/Prak_New/afm-vlm/data/raw/biology_chapter_3_3_treshhold_5/transcriptions\n",
      "2024-06-27 12:30:09.232 | INFO     | src.video_preprocessing.download_videos.download_utils:transcribe_single_file:346 - Transcription for biology_chapter_3_3_treshhold_5-Scene-050.wav saved in /Users/haseeb/Desktop/Prak_New/afm-vlm/data/raw/biology_chapter_3_3_treshhold_5/transcriptions\n",
      " 69%|██████▉   | 59/85 [02:07<00:32,  1.26s/it]2024-06-27 12:30:12.645 | INFO     | src.video_preprocessing.download_videos.download_utils:transcribe_single_file:346 - Transcription for biology_chapter_3_3_treshhold_5-Scene-020.wav saved in /Users/haseeb/Desktop/Prak_New/afm-vlm/data/raw/biology_chapter_3_3_treshhold_5/transcriptions\n",
      "2024-06-27 12:30:13.237 | INFO     | src.video_preprocessing.download_videos.download_utils:transcribe_single_file:346 - Transcription for biology_chapter_3_3_treshhold_5-Scene-046.wav saved in /Users/haseeb/Desktop/Prak_New/afm-vlm/data/raw/biology_chapter_3_3_treshhold_5/transcriptions\n",
      " 71%|███████   | 60/85 [02:11<00:35,  1.42s/it]2024-06-27 12:30:14.958 | INFO     | src.video_preprocessing.download_videos.download_utils:transcribe_single_file:346 - Transcription for biology_chapter_3_3_treshhold_5-Scene-034.wav saved in /Users/haseeb/Desktop/Prak_New/afm-vlm/data/raw/biology_chapter_3_3_treshhold_5/transcriptions\n",
      "2024-06-27 12:30:15.517 | INFO     | src.video_preprocessing.download_videos.download_utils:transcribe_single_file:346 - Transcription for biology_chapter_3_3_treshhold_5-Scene-035.wav saved in /Users/haseeb/Desktop/Prak_New/afm-vlm/data/raw/biology_chapter_3_3_treshhold_5/transcriptions\n",
      "2024-06-27 12:30:16.414 | INFO     | src.video_preprocessing.download_videos.download_utils:transcribe_single_file:346 - Transcription for biology_chapter_3_3_treshhold_5-Scene-009.wav saved in /Users/haseeb/Desktop/Prak_New/afm-vlm/data/raw/biology_chapter_3_3_treshhold_5/transcriptions\n",
      "2024-06-27 12:30:18.448 | INFO     | src.video_preprocessing.download_videos.download_utils:transcribe_single_file:346 - Transcription for biology_chapter_3_3_treshhold_5-Scene-047.wav saved in /Users/haseeb/Desktop/Prak_New/afm-vlm/data/raw/biology_chapter_3_3_treshhold_5/transcriptions\n",
      "2024-06-27 12:30:23.428 | INFO     | src.video_preprocessing.download_videos.download_utils:transcribe_single_file:346 - Transcription for biology_chapter_3_3_treshhold_5-Scene-036.wav saved in /Users/haseeb/Desktop/Prak_New/afm-vlm/data/raw/biology_chapter_3_3_treshhold_5/transcriptions\n",
      "2024-06-27 12:30:25.479 | INFO     | src.video_preprocessing.download_videos.download_utils:transcribe_single_file:346 - Transcription for biology_chapter_3_3_treshhold_5-Scene-022.wav saved in /Users/haseeb/Desktop/Prak_New/afm-vlm/data/raw/biology_chapter_3_3_treshhold_5/transcriptions\n",
      "2024-06-27 12:30:28.398 | INFO     | src.video_preprocessing.download_videos.download_utils:transcribe_single_file:346 - Transcription for biology_chapter_3_3_treshhold_5-Scene-023.wav saved in /Users/haseeb/Desktop/Prak_New/afm-vlm/data/raw/biology_chapter_3_3_treshhold_5/transcriptions\n",
      "2024-06-27 12:30:28.989 | INFO     | src.video_preprocessing.download_videos.download_utils:transcribe_single_file:346 - Transcription for biology_chapter_3_3_treshhold_5-Scene-027.wav saved in /Users/haseeb/Desktop/Prak_New/afm-vlm/data/raw/biology_chapter_3_3_treshhold_5/transcriptions\n",
      "2024-06-27 12:30:31.225 | INFO     | src.video_preprocessing.download_videos.download_utils:transcribe_single_file:346 - Transcription for biology_chapter_3_3_treshhold_5-Scene-037.wav saved in /Users/haseeb/Desktop/Prak_New/afm-vlm/data/raw/biology_chapter_3_3_treshhold_5/transcriptions\n",
      "2024-06-27 12:30:36.361 | INFO     | src.video_preprocessing.download_videos.download_utils:transcribe_single_file:346 - Transcription for biology_chapter_3_3_treshhold_5-Scene-025.wav saved in /Users/haseeb/Desktop/Prak_New/afm-vlm/data/raw/biology_chapter_3_3_treshhold_5/transcriptions\n",
      "2024-06-27 12:30:36.928 | INFO     | src.video_preprocessing.download_videos.download_utils:transcribe_single_file:346 - Transcription for biology_chapter_3_3_treshhold_5-Scene-031.wav saved in /Users/haseeb/Desktop/Prak_New/afm-vlm/data/raw/biology_chapter_3_3_treshhold_5/transcriptions\n",
      "2024-06-27 12:30:39.286 | INFO     | src.video_preprocessing.download_videos.download_utils:transcribe_single_file:346 - Transcription for biology_chapter_3_3_treshhold_5-Scene-084.wav saved in /Users/haseeb/Desktop/Prak_New/afm-vlm/data/raw/biology_chapter_3_3_treshhold_5/transcriptions\n",
      " 74%|███████▍  | 63/85 [02:37<01:02,  2.86s/it]2024-06-27 12:30:41.329 | INFO     | src.video_preprocessing.download_videos.download_utils:transcribe_single_file:346 - Transcription for biology_chapter_3_3_treshhold_5-Scene-018.wav saved in /Users/haseeb/Desktop/Prak_New/afm-vlm/data/raw/biology_chapter_3_3_treshhold_5/transcriptions\n",
      "2024-06-27 12:30:41.639 | INFO     | src.video_preprocessing.download_videos.download_utils:transcribe_single_file:346 - Transcription for biology_chapter_3_3_treshhold_5-Scene-021.wav saved in /Users/haseeb/Desktop/Prak_New/afm-vlm/data/raw/biology_chapter_3_3_treshhold_5/transcriptions\n",
      "2024-06-27 12:30:42.154 | INFO     | src.video_preprocessing.download_videos.download_utils:transcribe_single_file:346 - Transcription for biology_chapter_3_3_treshhold_5-Scene-008.wav saved in /Users/haseeb/Desktop/Prak_New/afm-vlm/data/raw/biology_chapter_3_3_treshhold_5/transcriptions\n",
      " 78%|███████▊  | 66/85 [02:40<00:46,  2.44s/it]2024-06-27 12:30:42.653 | INFO     | src.video_preprocessing.download_videos.download_utils:transcribe_single_file:346 - Transcription for biology_chapter_3_3_treshhold_5-Scene-030.wav saved in /Users/haseeb/Desktop/Prak_New/afm-vlm/data/raw/biology_chapter_3_3_treshhold_5/transcriptions\n",
      "2024-06-27 12:30:42.989 | INFO     | src.video_preprocessing.download_videos.download_utils:transcribe_single_file:346 - Transcription for biology_chapter_3_3_treshhold_5-Scene-033.wav saved in /Users/haseeb/Desktop/Prak_New/afm-vlm/data/raw/biology_chapter_3_3_treshhold_5/transcriptions\n",
      "2024-06-27 12:30:43.938 | INFO     | src.video_preprocessing.download_videos.download_utils:transcribe_single_file:346 - Transcription for biology_chapter_3_3_treshhold_5-Scene-026.wav saved in /Users/haseeb/Desktop/Prak_New/afm-vlm/data/raw/biology_chapter_3_3_treshhold_5/transcriptions\n",
      "2024-06-27 12:30:44.246 | INFO     | src.video_preprocessing.download_videos.download_utils:transcribe_single_file:346 - Transcription for biology_chapter_3_3_treshhold_5-Scene-019.wav saved in /Users/haseeb/Desktop/Prak_New/afm-vlm/data/raw/biology_chapter_3_3_treshhold_5/transcriptions\n",
      "2024-06-27 12:30:44.551 | INFO     | src.video_preprocessing.download_videos.download_utils:transcribe_single_file:346 - Transcription for biology_chapter_3_3_treshhold_5-Scene-032.wav saved in /Users/haseeb/Desktop/Prak_New/afm-vlm/data/raw/biology_chapter_3_3_treshhold_5/transcriptions\n",
      " 89%|████████▉ | 76/85 [02:43<00:11,  1.31s/it]2024-06-27 12:30:46.511 | INFO     | src.video_preprocessing.download_videos.download_utils:transcribe_single_file:346 - Transcription for biology_chapter_3_3_treshhold_5-Scene-024.wav saved in /Users/haseeb/Desktop/Prak_New/afm-vlm/data/raw/biology_chapter_3_3_treshhold_5/transcriptions\n",
      "100%|██████████| 85/85 [02:45<00:00,  1.94s/it]\n"
     ]
    }
   ],
   "source": [
    "# Transcribe the different snippets:\n",
    "audio_dir = os.path.join(data_path, \"audio_chunks\")\n",
    "transcriptions_dir = os.path.join(data_path, \"transcriptions\")\n",
    "\n",
    "model_type = \"tiny\"  # change to 'large' if you want more accurate results,\n",
    "# change to 'medium.en' or 'large.en' for all english language tasks,\n",
    "# and change to 'small' or 'base' for faster inference\n",
    "lang = \"en\"\n",
    "\n",
    "# Run whisper on all .wav files in audio_dir\n",
    "transcribe_audio_files(audio_dir, transcriptions_dir, model_type=model_type, lang=lang)"
   ]
  },
  {
   "attachments": {},
   "cell_type": "markdown",
   "metadata": {},
   "source": [
    "# Load the CLIP Model"
   ]
  },
  {
   "cell_type": "code",
   "execution_count": null,
   "metadata": {
    "ExecuteTime": {
     "end_time": "2024-06-17T10:16:04.804524Z",
     "start_time": "2024-06-17T10:16:02.762522Z"
    }
   },
   "outputs": [],
   "source": [
    "# create instance\n",
    "clip_model = CLIPEmbeddingsModel()"
   ]
  },
  {
   "cell_type": "code",
   "execution_count": null,
   "metadata": {
    "ExecuteTime": {
     "end_time": "2024-06-17T10:41:02.487038Z",
     "start_time": "2024-06-17T10:41:02.392682Z"
    }
   },
   "outputs": [],
   "source": [
    "# get current directory\n",
    "# Get the path of the current notebook\n",
    "notebook_path = Path().resolve()\n",
    "image_path = os.path.join(notebook_path, \"data\", \"raw\", name, \"extracted_keyframes\")\n",
    "\n",
    "images = []\n",
    "# make a list out of the images\n",
    "for image in os.listdir(image_path):\n",
    "    if image.endswith(\".jpg\"):\n",
    "        images.append(os.path.join(image_path, image))\n",
    "\n",
    "# load and process the dataset\n",
    "image_dataset = clip_model.load_and_process_dataset(images)\n",
    "\n",
    "logger.info(f\"Image_dataset: {image_dataset}\")"
   ]
  },
  {
   "attachments": {},
   "cell_type": "markdown",
   "metadata": {},
   "source": [
    "# Starting the Analysis of the Information Contained in the Video\n",
    "\n",
    "### Inputs\n",
    "\n",
    "* **Transcriptions**: [insert description or link to transcription]\n",
    "* **Extraction from Slides using OCR**: [insert description or link to extracted content]\n",
    "* **Textual Interpretation of Visual Information using LLAVA**: [insert description or link to \n",
    "interpreted information]"
   ]
  },
  {
   "cell_type": "code",
   "execution_count": null,
   "metadata": {
    "ExecuteTime": {
     "end_time": "2024-06-17T21:02:14.765583Z",
     "start_time": "2024-06-17T21:02:10.955208Z"
    }
   },
   "outputs": [],
   "source": [
    "import json\n",
    "import tqdm\n",
    "\n",
    "# Transform transcription file\n",
    "keyframes = {}\n",
    "ocr_extracted_text = []\n",
    "\n",
    "timestamp_file_path = os.path.join(\n",
    "    os.path.dirname(image_path), \"extracted_keyframes\", name + \"-Scenes.csv\"\n",
    ")\n",
    "\n",
    "for filename in tqdm.tqdm(os.listdir(image_path)):\n",
    "    # Check if the file ends with the specified extension\n",
    "    if filename.endswith(\".jpg\"):\n",
    "        filepath = os.path.join(image_path, filename)\n",
    "        keyframe_num = int(filename.split(\"-\")[2])\n",
    "\n",
    "        transcription_file_path = os.path.join(\n",
    "            os.path.dirname(image_path),\n",
    "            \"transcriptions\",\n",
    "            filename.replace(\"-01.jpg\", \".csv\"),\n",
    "        )\n",
    "\n",
    "        transcription, timestamps = transcription_to_text(\n",
    "            keyframe_num, transcription_file_path, timestamp_file_path\n",
    "        )\n",
    "        # logger.info(f\"Transcription_text: {transcription}\")\n",
    "\n",
    "        # Extract text using OCR:\n",
    "        ocr_text = extract_text_from_image(filepath)\n",
    "        # logger.info(f\"OCR_results: {ocr_text}\")\n",
    "\n",
    "        # Extract textual understanding of Visual features using LLAVA:\n",
    "        # llava_results = generate_caption_using_llava(filepath)\n",
    "        # # logger.info(f\"LLava_results: {llava_results}\")\n",
    "\n",
    "        # clip_llm_summary = prompt_llm_summary(\n",
    "        #     slide_content=ocr_text,\n",
    "        #     transcription=transcription,\n",
    "        #     llava_output=llava_results,\n",
    "        # )\n",
    "\n",
    "        # extensive_summary = prompt_llm_extensive_summary(\n",
    "        #     slide_content=ocr_text,\n",
    "        #     transcription=transcription,\n",
    "        #     llava_output=llava_results,\n",
    "        # )\n",
    "\n",
    "        # # Alternative that goes faster.\n",
    "        # ocr_text = \"ocr_text\"\n",
    "        # llava_results = \"llava_results\"\n",
    "        # clip_llm_summary = \"ontrary to popular belief, Lorem Ipsum is not simply random text. It has roots in a piece of classical Latin literature from 45 BC, making it over 2000 years old. Richard McClintock, a Latin professor at Hampden-Sydney College in Virginia, looked up one of the more obscure Latin words, consectetur, from a Lorem Ipsum passage, and going through the cites of the word in classical literature, discovered the undoubtable source. Lorem Ipsum\"\n",
    "        # extensive_summary = \"extensive_summary\"\n",
    "\n",
    "        # generate embeddings\n",
    "        opened_image = Image.open(filepath)\n",
    "\n",
    "        embeddings = clip_model.generate_image_embeddings(\n",
    "            clip_llm_summary, opened_image\n",
    "        )\n",
    "        clip_text_embedding = embeddings[\"text_embeds\"]\n",
    "        clip_image_embedding = embeddings[\"image_embeds\"]\n",
    "\n",
    "        keyframe, keyframe_metadata = create_metadata(\n",
    "            keyframe_num,\n",
    "            filepath,\n",
    "            timestamps,\n",
    "            transcription,\n",
    "            ocr_text,\n",
    "            llava_results,\n",
    "            clip_llm_summary,\n",
    "            extensive_summary,\n",
    "            clip_text_embedding,\n",
    "            clip_image_embedding,\n",
    "        )\n",
    "        keyframes[keyframe] = keyframe_metadata\n",
    "        # print(keyframes)\n",
    "\n",
    "    # Save keyframes dictionary as Pickle\n",
    "\n",
    "# Save with pickle\n",
    "with open(\"bio_3_3_th5.pickle\", \"wb\") as file:\n",
    "    pickle.dump(keyframes, file)"
   ]
  },
  {
   "attachments": {},
   "cell_type": "markdown",
   "metadata": {},
   "source": [
    "# Test 1: Search for exact similar Text."
   ]
  },
  {
   "cell_type": "code",
   "execution_count": null,
   "metadata": {},
   "outputs": [],
   "source": [
    "test_image_path = os.path.join(\n",
    "    base_dir,\n",
    "    \"data\",\n",
    "    \"raw\",\n",
    "    \"biology_chapter_3_3\",\n",
    "    \"extracted_keyframes\",\n",
    "    \"biology_chapter_3_3-Scene-097-01.jpg\",\n",
    ")\n",
    "\n",
    "test_text_description = extract_text_from_image(test_image_path)\n",
    "# Search for similar images in database\n",
    "clip_model.search_similar_images(test_text_description)"
   ]
  },
  {
   "attachments": {},
   "cell_type": "markdown",
   "metadata": {},
   "source": [
    "# Test 2: Search for for a slightly different Text."
   ]
  },
  {
   "cell_type": "code",
   "execution_count": null,
   "metadata": {},
   "outputs": [],
   "source": [
    "query_text = \"plasma membrane and stuff going on\"\n",
    "\n",
    "clip_model.search_similar_images(query_text)"
   ]
  },
  {
   "cell_type": "code",
   "execution_count": null,
   "metadata": {},
   "outputs": [],
   "source": [
    "# #######OLD\n",
    "\n",
    "\n",
    "# # Generated one embedding?\n",
    "# def get_model_info(model_ID, device):\n",
    "#     # Save the model to device\n",
    "#     model = CLIPModel.from_pretrained(model_ID).to(device)\n",
    "#     # Get the processor\n",
    "#     processor = CLIPProcessor.from_pretrained(model_ID)\n",
    "#     # Get the tokenizer\n",
    "#     tokenizer = CLIPTokenizer.from_pretrained(model_ID)\n",
    "#     # Return model, processor & tokenizer\n",
    "#     return model, processor, tokenizer\n",
    "\n",
    "\n",
    "# # Set the device\n",
    "# device = \"cuda\" if torch.cuda.is_available() else \"cpu\"\n",
    "# # Define the model ID\n",
    "# model_ID = \"openai/clip-vit-base-patch32\"\n",
    "# # Get model, processor & tokenizer\n",
    "# model, processor, tokenizer = get_model_info(model_ID, device)\n",
    "\n",
    "\n",
    "# def get_image(image_path):\n",
    "#     image = Image.open(image_path)\n",
    "#     # Convert the image to RGB\n",
    "#     rgb_image = image.convert(\"RGB\")\n",
    "#     return rgb_image\n",
    "\n",
    "\n",
    "# def get_single_image_embedding(text, my_image, processor, model, device):\n",
    "#     image = processor(text=text, images=my_image, return_tensors=\"pt\")[\n",
    "#         \"pixel_values\"\n",
    "#     ].to(device)\n",
    "#     embedding = model.get_image_features(image)\n",
    "#     # convert the embeddings to numpy array\n",
    "#     return embedding.cpu().detach().numpy()\n",
    "\n",
    "\n",
    "# one_image = get_image(\n",
    "#     image_path=\"/Users/magic-rabbit/Documents/AFM/afm-vlm/data/raw/biology_chapter_3_3/extracted_keyframes/biology_chapter_3_3-Scene-055-01.jpg\"\n",
    "# )\n",
    "\n",
    "# one_vector = get_single_image_embedding(\n",
    "#     response, one_image, processor, model, device\n",
    "# )  # Simple test\n",
    "# print(one_vector)"
   ]
  }
 ],
 "metadata": {
  "kernelspec": {
   "display_name": "afm-vlm-JEfTnAR4-py3.12",
   "language": "python",
   "name": "python3"
  },
  "language_info": {
   "codemirror_mode": {
    "name": "ipython",
    "version": 3
   },
   "file_extension": ".py",
   "mimetype": "text/x-python",
   "name": "python",
   "nbconvert_exporter": "python",
   "pygments_lexer": "ipython3",
   "version": "3.10.9"
  }
 },
 "nbformat": 4,
 "nbformat_minor": 2
}
