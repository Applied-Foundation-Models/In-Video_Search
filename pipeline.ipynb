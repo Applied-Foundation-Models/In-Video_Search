{
 "cells": [
  {
   "cell_type": "code",
   "metadata": {
    "ExecuteTime": {
     "end_time": "2024-06-17T10:12:18.212321Z",
     "start_time": "2024-06-17T10:11:54.365201Z"
    }
   },
   "source": [
    "import os\n",
    "from src.video_preprocessing.download_videos.youtube_download import preprocess_video\n",
    "from src.video_preprocessing.scene_detection.scene_detect import detect_scenes\n",
    "from src.video_preprocessing.download_videos.download_utils import (\n",
    "    transcribe_audio_files,\n",
    "    extract_and_store_audio,\n",
    "    transcription_to_text,\n",
    "    create_metadata\n",
    ")\n",
    "from src.ocr.pytesseract_image_to_text import extract_text_from_image\n",
    "from transformers import CLIPProcessor, CLIPModel, CLIPTokenizer\n",
    "from PIL import Image\n",
    "\n",
    "import torch\n",
    "from loguru import logger\n",
    "import pickle\n",
    "\n",
    "from src.clip.clip_model import CLIPEmbeddingsModel"
   ],
   "outputs": [
    {
     "ename": "ModuleNotFoundError",
     "evalue": "No module named 'image_utils'",
     "output_type": "error",
     "traceback": [
      "\u001B[1;31m---------------------------------------------------------------------------\u001B[0m",
      "\u001B[1;31mModuleNotFoundError\u001B[0m                       Traceback (most recent call last)",
      "Cell \u001B[1;32mIn[1], line 18\u001B[0m\n\u001B[0;32m     15\u001B[0m \u001B[38;5;28;01mfrom\u001B[39;00m \u001B[38;5;21;01mloguru\u001B[39;00m \u001B[38;5;28;01mimport\u001B[39;00m logger\n\u001B[0;32m     16\u001B[0m \u001B[38;5;28;01mimport\u001B[39;00m \u001B[38;5;21;01mpickle\u001B[39;00m\n\u001B[1;32m---> 18\u001B[0m \u001B[38;5;28;01mfrom\u001B[39;00m \u001B[38;5;21;01msrc\u001B[39;00m\u001B[38;5;21;01m.\u001B[39;00m\u001B[38;5;21;01mclip\u001B[39;00m\u001B[38;5;21;01m.\u001B[39;00m\u001B[38;5;21;01mclip_model\u001B[39;00m \u001B[38;5;28;01mimport\u001B[39;00m CLIPEmbeddingsModel\n",
      "File \u001B[1;32m~\\PycharmProjects\\afm-vlm\\src\\clip\\clip_model.py:2\u001B[0m\n\u001B[0;32m      1\u001B[0m \u001B[38;5;28;01mfrom\u001B[39;00m \u001B[38;5;21;01mocr\u001B[39;00m\u001B[38;5;21;01m.\u001B[39;00m\u001B[38;5;21;01mpytesseract_image_to_text\u001B[39;00m \u001B[38;5;28;01mimport\u001B[39;00m extract_text_from_image\n\u001B[1;32m----> 2\u001B[0m \u001B[38;5;28;01mfrom\u001B[39;00m \u001B[38;5;21;01mimage_utils\u001B[39;00m \u001B[38;5;28;01mimport\u001B[39;00m load_images_from_path, generate_image_metadata\n\u001B[0;32m      3\u001B[0m \u001B[38;5;28;01mfrom\u001B[39;00m \u001B[38;5;21;01mtransformers\u001B[39;00m \u001B[38;5;28;01mimport\u001B[39;00m CLIPModel, CLIPProcessor\n\u001B[0;32m      4\u001B[0m \u001B[38;5;28;01mfrom\u001B[39;00m \u001B[38;5;21;01mloguru\u001B[39;00m \u001B[38;5;28;01mimport\u001B[39;00m logger\n",
      "\u001B[1;31mModuleNotFoundError\u001B[0m: No module named 'image_utils'"
     ]
    }
   ],
   "execution_count": 1
  },
  {
   "attachments": {},
   "cell_type": "markdown",
   "metadata": {},
   "source": [
    "# Download Pipeline\n",
    "Download a video from a specific URL on YouTube, then run:\n",
    "- Scene detection\n",
    "- Keyframe detection\n",
    "\n",
    "The resulting data will be stored under `/data/raw/<NAME>`"
   ]
  },
  {
   "cell_type": "code",
   "metadata": {
    "ExecuteTime": {
     "end_time": "2024-06-17T10:12:18.215983Z",
     "start_time": "2024-06-17T10:12:18.215983Z"
    }
   },
   "source": [
    "# Define options and input for downloading a video from youtube\n",
    "\n",
    "# INSERT video name here\n",
    "name = \"biology_chapter_3_3\"\n",
    "# INSERT video URL here\n",
    "url = \"https://youtu.be/DZSEErNZ1d4?si=f6YxKQ9rP6iqgTfk\"\n",
    "# INSERT chunk length in seconds 30s --> 30, no splitting: None\n",
    "chunks = None\n",
    "\n",
    "opts_aud = {\"format\": \"mp3/bestaudio/best\", \"keep-video\": True}\n",
    "opts_vid = {\"format\": \"mp4/bestvideo/best\"}"
   ],
   "outputs": [],
   "execution_count": null
  },
  {
   "cell_type": "code",
   "metadata": {
    "ExecuteTime": {
     "end_time": "2024-06-17T08:31:11.939839Z",
     "start_time": "2024-06-17T08:31:09.105885Z"
    }
   },
   "source": [
    "# Downloads the video creates the relevant datafolders and transcribes the video\n",
    "data_path = preprocess_video(\n",
    "    download=True,\n",
    "    uploaded_vid=\"ignore\",  # path to local file\n",
    "    url=url,\n",
    "    name=name,\n",
    "    aud_opts=opts_aud,\n",
    "    vid_opts=opts_vid,  # Video download settings\n",
    "    audio_file=name + \".mp3\",\n",
    "    input_file=name + \".mp4\",\n",
    "    output=\"output.mp4\",\n",
    "    split_length=chunks,\n",
    ")"
   ],
   "outputs": [
    {
     "name": "stderr",
     "output_type": "stream",
     "text": [
      "\u001B[32m2024-06-17 10:31:09.105\u001B[0m | \u001B[1mINFO    \u001B[0m | \u001B[36msrc.video_preprocessing.download_videos.youtube_download\u001B[0m:\u001B[36mpreprocess_video\u001B[0m:\u001B[36m49\u001B[0m - \u001B[1mStarting AutoCaptioning...\u001B[0m\n",
      "\u001B[32m2024-06-17 10:31:09.105\u001B[0m | \u001B[1mINFO    \u001B[0m | \u001B[36msrc.video_preprocessing.download_videos.youtube_download\u001B[0m:\u001B[36mpreprocess_video\u001B[0m:\u001B[36m50\u001B[0m - \u001B[1mResults will be stored in data/raw/biology_chapter_3_3\u001B[0m\n",
      "\u001B[32m2024-06-17 10:31:09.105\u001B[0m | \u001B[1mINFO    \u001B[0m | \u001B[36msrc.video_preprocessing.download_videos.youtube_download\u001B[0m:\u001B[36mpreprocess_video\u001B[0m:\u001B[36m58\u001B[0m - \u001B[1mCreated chunks folders\u001B[0m\n"
     ]
    },
    {
     "name": "stdout",
     "output_type": "stream",
     "text": [
      "[youtube] Extracting URL: https://youtu.be/DZSEErNZ1d4?si=f6YxKQ9rP6iqgTfk\n",
      "[youtube] DZSEErNZ1d4: Downloading webpage\n",
      "[youtube] DZSEErNZ1d4: Downloading ios player API JSON\n",
      "[youtube] DZSEErNZ1d4: Downloading m3u8 information\n",
      "[info] DZSEErNZ1d4: Downloading 1 format(s): 22\n",
      "[download] C:\\Users\\baatout\\PycharmProjects\\afm-vlm\\data\\raw\\biology_chapter_3_3\\biology_chapter_3_3.mp4 has already been downloaded\n",
      "[download] 100% of  126.17MiB\n"
     ]
    },
    {
     "name": "stderr",
     "output_type": "stream",
     "text": [
      "\u001B[32m2024-06-17 10:31:11.924\u001B[0m | \u001B[1mINFO    \u001B[0m | \u001B[36msrc.video_preprocessing.download_videos.youtube_download\u001B[0m:\u001B[36mpreprocess_video\u001B[0m:\u001B[36m91\u001B[0m - \u001B[1mVideo is not splitted:\u001B[0m\n",
      "\u001B[32m2024-06-17 10:31:11.924\u001B[0m | \u001B[1mINFO    \u001B[0m | \u001B[36msrc.video_preprocessing.download_videos.youtube_download\u001B[0m:\u001B[36mpreprocess_video\u001B[0m:\u001B[36m95\u001B[0m - \u001B[1mVideo downloaded successfully!\u001B[0m\n"
     ]
    }
   ],
   "execution_count": 4
  },
  {
   "cell_type": "code",
   "metadata": {
    "ExecuteTime": {
     "end_time": "2024-06-17T08:41:53.940840Z",
     "start_time": "2024-06-17T08:31:11.939839Z"
    }
   },
   "source": [
    "#  Now that we have downloaded the video we want to perform scene_Detection:\n",
    "detect_scenes(data_path)"
   ],
   "outputs": [
    {
     "name": "stderr",
     "output_type": "stream",
     "text": [
      "\u001B[32m2024-06-17 10:31:11.939\u001B[0m | \u001B[1mINFO    \u001B[0m | \u001B[36msrc.video_preprocessing.scene_detection.scene_detect\u001B[0m:\u001B[36mdetect_scenes\u001B[0m:\u001B[36m29\u001B[0m - \u001B[1mFound file\u001B[0m\n",
      "\u001B[32m2024-06-17 10:31:11.939\u001B[0m | \u001B[1mINFO    \u001B[0m | \u001B[36msrc.video_preprocessing.scene_detection.scene_detect\u001B[0m:\u001B[36mdetect_scenes\u001B[0m:\u001B[36m33\u001B[0m - \u001B[1mName:biology_chapter_3_3.mp4,dirname:C:\\Users\\baatout\\PycharmProjects\\afm-vlm\\data/raw\\biology_chapter_3_3\\biology_chapter_3_3.mp4\u001B[0m\n",
      "\u001B[32m2024-06-17 10:31:11.939\u001B[0m | \u001B[1mINFO    \u001B[0m | \u001B[36msrc.video_preprocessing.scene_detection.scene_detect\u001B[0m:\u001B[36mdetect_scenes\u001B[0m:\u001B[36m35\u001B[0m - \u001B[1mRunning scene_detection:\u001B[0m\n",
      "\u001B[32m2024-06-17 10:39:51.403\u001B[0m | \u001B[1mINFO    \u001B[0m | \u001B[36msrc.video_preprocessing.scene_detection.scene_detect\u001B[0m:\u001B[36mdetect_scenes\u001B[0m:\u001B[36m29\u001B[0m - \u001B[1mFound file\u001B[0m\n",
      "\u001B[32m2024-06-17 10:39:51.403\u001B[0m | \u001B[1mINFO    \u001B[0m | \u001B[36msrc.video_preprocessing.scene_detection.scene_detect\u001B[0m:\u001B[36mdetect_scenes\u001B[0m:\u001B[36m33\u001B[0m - \u001B[1mName:biology_chapter_3_3-Scene-001.mp4,dirname:C:\\Users\\baatout\\PycharmProjects\\afm-vlm\\data/raw\\biology_chapter_3_3\\biology_chapter_3_3-Scene-001.mp4\u001B[0m\n",
      "\u001B[32m2024-06-17 10:39:51.403\u001B[0m | \u001B[1mINFO    \u001B[0m | \u001B[36msrc.video_preprocessing.scene_detection.scene_detect\u001B[0m:\u001B[36mdetect_scenes\u001B[0m:\u001B[36m35\u001B[0m - \u001B[1mRunning scene_detection:\u001B[0m\n",
      "\u001B[32m2024-06-17 10:39:54.720\u001B[0m | \u001B[1mINFO    \u001B[0m | \u001B[36msrc.video_preprocessing.scene_detection.scene_detect\u001B[0m:\u001B[36mdetect_scenes\u001B[0m:\u001B[36m29\u001B[0m - \u001B[1mFound file\u001B[0m\n",
      "\u001B[32m2024-06-17 10:39:54.720\u001B[0m | \u001B[1mINFO    \u001B[0m | \u001B[36msrc.video_preprocessing.scene_detection.scene_detect\u001B[0m:\u001B[36mdetect_scenes\u001B[0m:\u001B[36m33\u001B[0m - \u001B[1mName:biology_chapter_3_3-Scene-002.mp4,dirname:C:\\Users\\baatout\\PycharmProjects\\afm-vlm\\data/raw\\biology_chapter_3_3\\biology_chapter_3_3-Scene-002.mp4\u001B[0m\n",
      "\u001B[32m2024-06-17 10:39:54.736\u001B[0m | \u001B[1mINFO    \u001B[0m | \u001B[36msrc.video_preprocessing.scene_detection.scene_detect\u001B[0m:\u001B[36mdetect_scenes\u001B[0m:\u001B[36m35\u001B[0m - \u001B[1mRunning scene_detection:\u001B[0m\n",
      "\u001B[32m2024-06-17 10:39:55.657\u001B[0m | \u001B[1mINFO    \u001B[0m | \u001B[36msrc.video_preprocessing.scene_detection.scene_detect\u001B[0m:\u001B[36mdetect_scenes\u001B[0m:\u001B[36m29\u001B[0m - \u001B[1mFound file\u001B[0m\n",
      "\u001B[32m2024-06-17 10:39:55.657\u001B[0m | \u001B[1mINFO    \u001B[0m | \u001B[36msrc.video_preprocessing.scene_detection.scene_detect\u001B[0m:\u001B[36mdetect_scenes\u001B[0m:\u001B[36m33\u001B[0m - \u001B[1mName:biology_chapter_3_3-Scene-003.mp4,dirname:C:\\Users\\baatout\\PycharmProjects\\afm-vlm\\data/raw\\biology_chapter_3_3\\biology_chapter_3_3-Scene-003.mp4\u001B[0m\n",
      "\u001B[32m2024-06-17 10:39:55.657\u001B[0m | \u001B[1mINFO    \u001B[0m | \u001B[36msrc.video_preprocessing.scene_detection.scene_detect\u001B[0m:\u001B[36mdetect_scenes\u001B[0m:\u001B[36m35\u001B[0m - \u001B[1mRunning scene_detection:\u001B[0m\n",
      "\u001B[32m2024-06-17 10:39:58.017\u001B[0m | \u001B[1mINFO    \u001B[0m | \u001B[36msrc.video_preprocessing.scene_detection.scene_detect\u001B[0m:\u001B[36mdetect_scenes\u001B[0m:\u001B[36m29\u001B[0m - \u001B[1mFound file\u001B[0m\n",
      "\u001B[32m2024-06-17 10:39:58.017\u001B[0m | \u001B[1mINFO    \u001B[0m | \u001B[36msrc.video_preprocessing.scene_detection.scene_detect\u001B[0m:\u001B[36mdetect_scenes\u001B[0m:\u001B[36m33\u001B[0m - \u001B[1mName:biology_chapter_3_3-Scene-004.mp4,dirname:C:\\Users\\baatout\\PycharmProjects\\afm-vlm\\data/raw\\biology_chapter_3_3\\biology_chapter_3_3-Scene-004.mp4\u001B[0m\n",
      "\u001B[32m2024-06-17 10:39:58.017\u001B[0m | \u001B[1mINFO    \u001B[0m | \u001B[36msrc.video_preprocessing.scene_detection.scene_detect\u001B[0m:\u001B[36mdetect_scenes\u001B[0m:\u001B[36m35\u001B[0m - \u001B[1mRunning scene_detection:\u001B[0m\n",
      "\u001B[32m2024-06-17 10:39:58.967\u001B[0m | \u001B[1mINFO    \u001B[0m | \u001B[36msrc.video_preprocessing.scene_detection.scene_detect\u001B[0m:\u001B[36mdetect_scenes\u001B[0m:\u001B[36m29\u001B[0m - \u001B[1mFound file\u001B[0m\n",
      "\u001B[32m2024-06-17 10:39:58.967\u001B[0m | \u001B[1mINFO    \u001B[0m | \u001B[36msrc.video_preprocessing.scene_detection.scene_detect\u001B[0m:\u001B[36mdetect_scenes\u001B[0m:\u001B[36m33\u001B[0m - \u001B[1mName:biology_chapter_3_3-Scene-005.mp4,dirname:C:\\Users\\baatout\\PycharmProjects\\afm-vlm\\data/raw\\biology_chapter_3_3\\biology_chapter_3_3-Scene-005.mp4\u001B[0m\n",
      "\u001B[32m2024-06-17 10:39:58.967\u001B[0m | \u001B[1mINFO    \u001B[0m | \u001B[36msrc.video_preprocessing.scene_detection.scene_detect\u001B[0m:\u001B[36mdetect_scenes\u001B[0m:\u001B[36m35\u001B[0m - \u001B[1mRunning scene_detection:\u001B[0m\n",
      "\u001B[32m2024-06-17 10:39:59.827\u001B[0m | \u001B[1mINFO    \u001B[0m | \u001B[36msrc.video_preprocessing.scene_detection.scene_detect\u001B[0m:\u001B[36mdetect_scenes\u001B[0m:\u001B[36m29\u001B[0m - \u001B[1mFound file\u001B[0m\n",
      "\u001B[32m2024-06-17 10:39:59.827\u001B[0m | \u001B[1mINFO    \u001B[0m | \u001B[36msrc.video_preprocessing.scene_detection.scene_detect\u001B[0m:\u001B[36mdetect_scenes\u001B[0m:\u001B[36m33\u001B[0m - \u001B[1mName:biology_chapter_3_3-Scene-006.mp4,dirname:C:\\Users\\baatout\\PycharmProjects\\afm-vlm\\data/raw\\biology_chapter_3_3\\biology_chapter_3_3-Scene-006.mp4\u001B[0m\n",
      "\u001B[32m2024-06-17 10:39:59.838\u001B[0m | \u001B[1mINFO    \u001B[0m | \u001B[36msrc.video_preprocessing.scene_detection.scene_detect\u001B[0m:\u001B[36mdetect_scenes\u001B[0m:\u001B[36m35\u001B[0m - \u001B[1mRunning scene_detection:\u001B[0m\n",
      "\u001B[32m2024-06-17 10:40:00.696\u001B[0m | \u001B[1mINFO    \u001B[0m | \u001B[36msrc.video_preprocessing.scene_detection.scene_detect\u001B[0m:\u001B[36mdetect_scenes\u001B[0m:\u001B[36m29\u001B[0m - \u001B[1mFound file\u001B[0m\n",
      "\u001B[32m2024-06-17 10:40:00.696\u001B[0m | \u001B[1mINFO    \u001B[0m | \u001B[36msrc.video_preprocessing.scene_detection.scene_detect\u001B[0m:\u001B[36mdetect_scenes\u001B[0m:\u001B[36m33\u001B[0m - \u001B[1mName:biology_chapter_3_3-Scene-007.mp4,dirname:C:\\Users\\baatout\\PycharmProjects\\afm-vlm\\data/raw\\biology_chapter_3_3\\biology_chapter_3_3-Scene-007.mp4\u001B[0m\n",
      "\u001B[32m2024-06-17 10:40:00.696\u001B[0m | \u001B[1mINFO    \u001B[0m | \u001B[36msrc.video_preprocessing.scene_detection.scene_detect\u001B[0m:\u001B[36mdetect_scenes\u001B[0m:\u001B[36m35\u001B[0m - \u001B[1mRunning scene_detection:\u001B[0m\n",
      "\u001B[32m2024-06-17 10:40:01.743\u001B[0m | \u001B[1mINFO    \u001B[0m | \u001B[36msrc.video_preprocessing.scene_detection.scene_detect\u001B[0m:\u001B[36mdetect_scenes\u001B[0m:\u001B[36m29\u001B[0m - \u001B[1mFound file\u001B[0m\n",
      "\u001B[32m2024-06-17 10:40:01.743\u001B[0m | \u001B[1mINFO    \u001B[0m | \u001B[36msrc.video_preprocessing.scene_detection.scene_detect\u001B[0m:\u001B[36mdetect_scenes\u001B[0m:\u001B[36m33\u001B[0m - \u001B[1mName:biology_chapter_3_3-Scene-008.mp4,dirname:C:\\Users\\baatout\\PycharmProjects\\afm-vlm\\data/raw\\biology_chapter_3_3\\biology_chapter_3_3-Scene-008.mp4\u001B[0m\n",
      "\u001B[32m2024-06-17 10:40:01.743\u001B[0m | \u001B[1mINFO    \u001B[0m | \u001B[36msrc.video_preprocessing.scene_detection.scene_detect\u001B[0m:\u001B[36mdetect_scenes\u001B[0m:\u001B[36m35\u001B[0m - \u001B[1mRunning scene_detection:\u001B[0m\n",
      "\u001B[32m2024-06-17 10:40:02.627\u001B[0m | \u001B[1mINFO    \u001B[0m | \u001B[36msrc.video_preprocessing.scene_detection.scene_detect\u001B[0m:\u001B[36mdetect_scenes\u001B[0m:\u001B[36m29\u001B[0m - \u001B[1mFound file\u001B[0m\n",
      "\u001B[32m2024-06-17 10:40:02.627\u001B[0m | \u001B[1mINFO    \u001B[0m | \u001B[36msrc.video_preprocessing.scene_detection.scene_detect\u001B[0m:\u001B[36mdetect_scenes\u001B[0m:\u001B[36m33\u001B[0m - \u001B[1mName:biology_chapter_3_3-Scene-009.mp4,dirname:C:\\Users\\baatout\\PycharmProjects\\afm-vlm\\data/raw\\biology_chapter_3_3\\biology_chapter_3_3-Scene-009.mp4\u001B[0m\n",
      "\u001B[32m2024-06-17 10:40:02.627\u001B[0m | \u001B[1mINFO    \u001B[0m | \u001B[36msrc.video_preprocessing.scene_detection.scene_detect\u001B[0m:\u001B[36mdetect_scenes\u001B[0m:\u001B[36m35\u001B[0m - \u001B[1mRunning scene_detection:\u001B[0m\n",
      "\u001B[32m2024-06-17 10:40:04.880\u001B[0m | \u001B[1mINFO    \u001B[0m | \u001B[36msrc.video_preprocessing.scene_detection.scene_detect\u001B[0m:\u001B[36mdetect_scenes\u001B[0m:\u001B[36m29\u001B[0m - \u001B[1mFound file\u001B[0m\n",
      "\u001B[32m2024-06-17 10:40:04.880\u001B[0m | \u001B[1mINFO    \u001B[0m | \u001B[36msrc.video_preprocessing.scene_detection.scene_detect\u001B[0m:\u001B[36mdetect_scenes\u001B[0m:\u001B[36m33\u001B[0m - \u001B[1mName:biology_chapter_3_3-Scene-010.mp4,dirname:C:\\Users\\baatout\\PycharmProjects\\afm-vlm\\data/raw\\biology_chapter_3_3\\biology_chapter_3_3-Scene-010.mp4\u001B[0m\n",
      "\u001B[32m2024-06-17 10:40:04.880\u001B[0m | \u001B[1mINFO    \u001B[0m | \u001B[36msrc.video_preprocessing.scene_detection.scene_detect\u001B[0m:\u001B[36mdetect_scenes\u001B[0m:\u001B[36m35\u001B[0m - \u001B[1mRunning scene_detection:\u001B[0m\n",
      "\u001B[32m2024-06-17 10:40:05.688\u001B[0m | \u001B[1mINFO    \u001B[0m | \u001B[36msrc.video_preprocessing.scene_detection.scene_detect\u001B[0m:\u001B[36mdetect_scenes\u001B[0m:\u001B[36m29\u001B[0m - \u001B[1mFound file\u001B[0m\n",
      "\u001B[32m2024-06-17 10:40:05.688\u001B[0m | \u001B[1mINFO    \u001B[0m | \u001B[36msrc.video_preprocessing.scene_detection.scene_detect\u001B[0m:\u001B[36mdetect_scenes\u001B[0m:\u001B[36m33\u001B[0m - \u001B[1mName:biology_chapter_3_3-Scene-011.mp4,dirname:C:\\Users\\baatout\\PycharmProjects\\afm-vlm\\data/raw\\biology_chapter_3_3\\biology_chapter_3_3-Scene-011.mp4\u001B[0m\n",
      "\u001B[32m2024-06-17 10:40:05.688\u001B[0m | \u001B[1mINFO    \u001B[0m | \u001B[36msrc.video_preprocessing.scene_detection.scene_detect\u001B[0m:\u001B[36mdetect_scenes\u001B[0m:\u001B[36m35\u001B[0m - \u001B[1mRunning scene_detection:\u001B[0m\n",
      "\u001B[32m2024-06-17 10:40:06.417\u001B[0m | \u001B[1mINFO    \u001B[0m | \u001B[36msrc.video_preprocessing.scene_detection.scene_detect\u001B[0m:\u001B[36mdetect_scenes\u001B[0m:\u001B[36m29\u001B[0m - \u001B[1mFound file\u001B[0m\n",
      "\u001B[32m2024-06-17 10:40:06.417\u001B[0m | \u001B[1mINFO    \u001B[0m | \u001B[36msrc.video_preprocessing.scene_detection.scene_detect\u001B[0m:\u001B[36mdetect_scenes\u001B[0m:\u001B[36m33\u001B[0m - \u001B[1mName:biology_chapter_3_3-Scene-012.mp4,dirname:C:\\Users\\baatout\\PycharmProjects\\afm-vlm\\data/raw\\biology_chapter_3_3\\biology_chapter_3_3-Scene-012.mp4\u001B[0m\n",
      "\u001B[32m2024-06-17 10:40:06.417\u001B[0m | \u001B[1mINFO    \u001B[0m | \u001B[36msrc.video_preprocessing.scene_detection.scene_detect\u001B[0m:\u001B[36mdetect_scenes\u001B[0m:\u001B[36m35\u001B[0m - \u001B[1mRunning scene_detection:\u001B[0m\n",
      "\u001B[32m2024-06-17 10:40:07.211\u001B[0m | \u001B[1mINFO    \u001B[0m | \u001B[36msrc.video_preprocessing.scene_detection.scene_detect\u001B[0m:\u001B[36mdetect_scenes\u001B[0m:\u001B[36m29\u001B[0m - \u001B[1mFound file\u001B[0m\n",
      "\u001B[32m2024-06-17 10:40:07.211\u001B[0m | \u001B[1mINFO    \u001B[0m | \u001B[36msrc.video_preprocessing.scene_detection.scene_detect\u001B[0m:\u001B[36mdetect_scenes\u001B[0m:\u001B[36m33\u001B[0m - \u001B[1mName:biology_chapter_3_3-Scene-013.mp4,dirname:C:\\Users\\baatout\\PycharmProjects\\afm-vlm\\data/raw\\biology_chapter_3_3\\biology_chapter_3_3-Scene-013.mp4\u001B[0m\n",
      "\u001B[32m2024-06-17 10:40:07.211\u001B[0m | \u001B[1mINFO    \u001B[0m | \u001B[36msrc.video_preprocessing.scene_detection.scene_detect\u001B[0m:\u001B[36mdetect_scenes\u001B[0m:\u001B[36m35\u001B[0m - \u001B[1mRunning scene_detection:\u001B[0m\n",
      "\u001B[32m2024-06-17 10:40:08.081\u001B[0m | \u001B[1mINFO    \u001B[0m | \u001B[36msrc.video_preprocessing.scene_detection.scene_detect\u001B[0m:\u001B[36mdetect_scenes\u001B[0m:\u001B[36m29\u001B[0m - \u001B[1mFound file\u001B[0m\n",
      "\u001B[32m2024-06-17 10:40:08.081\u001B[0m | \u001B[1mINFO    \u001B[0m | \u001B[36msrc.video_preprocessing.scene_detection.scene_detect\u001B[0m:\u001B[36mdetect_scenes\u001B[0m:\u001B[36m33\u001B[0m - \u001B[1mName:biology_chapter_3_3-Scene-014.mp4,dirname:C:\\Users\\baatout\\PycharmProjects\\afm-vlm\\data/raw\\biology_chapter_3_3\\biology_chapter_3_3-Scene-014.mp4\u001B[0m\n",
      "\u001B[32m2024-06-17 10:40:08.081\u001B[0m | \u001B[1mINFO    \u001B[0m | \u001B[36msrc.video_preprocessing.scene_detection.scene_detect\u001B[0m:\u001B[36mdetect_scenes\u001B[0m:\u001B[36m35\u001B[0m - \u001B[1mRunning scene_detection:\u001B[0m\n",
      "\u001B[32m2024-06-17 10:40:08.876\u001B[0m | \u001B[1mINFO    \u001B[0m | \u001B[36msrc.video_preprocessing.scene_detection.scene_detect\u001B[0m:\u001B[36mdetect_scenes\u001B[0m:\u001B[36m29\u001B[0m - \u001B[1mFound file\u001B[0m\n",
      "\u001B[32m2024-06-17 10:40:08.876\u001B[0m | \u001B[1mINFO    \u001B[0m | \u001B[36msrc.video_preprocessing.scene_detection.scene_detect\u001B[0m:\u001B[36mdetect_scenes\u001B[0m:\u001B[36m33\u001B[0m - \u001B[1mName:biology_chapter_3_3-Scene-015.mp4,dirname:C:\\Users\\baatout\\PycharmProjects\\afm-vlm\\data/raw\\biology_chapter_3_3\\biology_chapter_3_3-Scene-015.mp4\u001B[0m\n",
      "\u001B[32m2024-06-17 10:40:08.876\u001B[0m | \u001B[1mINFO    \u001B[0m | \u001B[36msrc.video_preprocessing.scene_detection.scene_detect\u001B[0m:\u001B[36mdetect_scenes\u001B[0m:\u001B[36m35\u001B[0m - \u001B[1mRunning scene_detection:\u001B[0m\n",
      "\u001B[32m2024-06-17 10:40:09.620\u001B[0m | \u001B[1mINFO    \u001B[0m | \u001B[36msrc.video_preprocessing.scene_detection.scene_detect\u001B[0m:\u001B[36mdetect_scenes\u001B[0m:\u001B[36m29\u001B[0m - \u001B[1mFound file\u001B[0m\n",
      "\u001B[32m2024-06-17 10:40:09.636\u001B[0m | \u001B[1mINFO    \u001B[0m | \u001B[36msrc.video_preprocessing.scene_detection.scene_detect\u001B[0m:\u001B[36mdetect_scenes\u001B[0m:\u001B[36m33\u001B[0m - \u001B[1mName:biology_chapter_3_3-Scene-016.mp4,dirname:C:\\Users\\baatout\\PycharmProjects\\afm-vlm\\data/raw\\biology_chapter_3_3\\biology_chapter_3_3-Scene-016.mp4\u001B[0m\n",
      "\u001B[32m2024-06-17 10:40:09.636\u001B[0m | \u001B[1mINFO    \u001B[0m | \u001B[36msrc.video_preprocessing.scene_detection.scene_detect\u001B[0m:\u001B[36mdetect_scenes\u001B[0m:\u001B[36m35\u001B[0m - \u001B[1mRunning scene_detection:\u001B[0m\n",
      "\u001B[32m2024-06-17 10:40:11.894\u001B[0m | \u001B[1mINFO    \u001B[0m | \u001B[36msrc.video_preprocessing.scene_detection.scene_detect\u001B[0m:\u001B[36mdetect_scenes\u001B[0m:\u001B[36m29\u001B[0m - \u001B[1mFound file\u001B[0m\n",
      "\u001B[32m2024-06-17 10:40:11.894\u001B[0m | \u001B[1mINFO    \u001B[0m | \u001B[36msrc.video_preprocessing.scene_detection.scene_detect\u001B[0m:\u001B[36mdetect_scenes\u001B[0m:\u001B[36m33\u001B[0m - \u001B[1mName:biology_chapter_3_3-Scene-017.mp4,dirname:C:\\Users\\baatout\\PycharmProjects\\afm-vlm\\data/raw\\biology_chapter_3_3\\biology_chapter_3_3-Scene-017.mp4\u001B[0m\n",
      "\u001B[32m2024-06-17 10:40:11.894\u001B[0m | \u001B[1mINFO    \u001B[0m | \u001B[36msrc.video_preprocessing.scene_detection.scene_detect\u001B[0m:\u001B[36mdetect_scenes\u001B[0m:\u001B[36m35\u001B[0m - \u001B[1mRunning scene_detection:\u001B[0m\n",
      "\u001B[32m2024-06-17 10:40:12.686\u001B[0m | \u001B[1mINFO    \u001B[0m | \u001B[36msrc.video_preprocessing.scene_detection.scene_detect\u001B[0m:\u001B[36mdetect_scenes\u001B[0m:\u001B[36m29\u001B[0m - \u001B[1mFound file\u001B[0m\n",
      "\u001B[32m2024-06-17 10:40:12.702\u001B[0m | \u001B[1mINFO    \u001B[0m | \u001B[36msrc.video_preprocessing.scene_detection.scene_detect\u001B[0m:\u001B[36mdetect_scenes\u001B[0m:\u001B[36m33\u001B[0m - \u001B[1mName:biology_chapter_3_3-Scene-018.mp4,dirname:C:\\Users\\baatout\\PycharmProjects\\afm-vlm\\data/raw\\biology_chapter_3_3\\biology_chapter_3_3-Scene-018.mp4\u001B[0m\n",
      "\u001B[32m2024-06-17 10:40:12.702\u001B[0m | \u001B[1mINFO    \u001B[0m | \u001B[36msrc.video_preprocessing.scene_detection.scene_detect\u001B[0m:\u001B[36mdetect_scenes\u001B[0m:\u001B[36m35\u001B[0m - \u001B[1mRunning scene_detection:\u001B[0m\n",
      "\u001B[32m2024-06-17 10:40:13.495\u001B[0m | \u001B[1mINFO    \u001B[0m | \u001B[36msrc.video_preprocessing.scene_detection.scene_detect\u001B[0m:\u001B[36mdetect_scenes\u001B[0m:\u001B[36m29\u001B[0m - \u001B[1mFound file\u001B[0m\n",
      "\u001B[32m2024-06-17 10:40:13.495\u001B[0m | \u001B[1mINFO    \u001B[0m | \u001B[36msrc.video_preprocessing.scene_detection.scene_detect\u001B[0m:\u001B[36mdetect_scenes\u001B[0m:\u001B[36m33\u001B[0m - \u001B[1mName:biology_chapter_3_3-Scene-019.mp4,dirname:C:\\Users\\baatout\\PycharmProjects\\afm-vlm\\data/raw\\biology_chapter_3_3\\biology_chapter_3_3-Scene-019.mp4\u001B[0m\n",
      "\u001B[32m2024-06-17 10:40:13.495\u001B[0m | \u001B[1mINFO    \u001B[0m | \u001B[36msrc.video_preprocessing.scene_detection.scene_detect\u001B[0m:\u001B[36mdetect_scenes\u001B[0m:\u001B[36m35\u001B[0m - \u001B[1mRunning scene_detection:\u001B[0m\n",
      "\u001B[32m2024-06-17 10:40:14.285\u001B[0m | \u001B[1mINFO    \u001B[0m | \u001B[36msrc.video_preprocessing.scene_detection.scene_detect\u001B[0m:\u001B[36mdetect_scenes\u001B[0m:\u001B[36m29\u001B[0m - \u001B[1mFound file\u001B[0m\n",
      "\u001B[32m2024-06-17 10:40:14.285\u001B[0m | \u001B[1mINFO    \u001B[0m | \u001B[36msrc.video_preprocessing.scene_detection.scene_detect\u001B[0m:\u001B[36mdetect_scenes\u001B[0m:\u001B[36m33\u001B[0m - \u001B[1mName:biology_chapter_3_3-Scene-020.mp4,dirname:C:\\Users\\baatout\\PycharmProjects\\afm-vlm\\data/raw\\biology_chapter_3_3\\biology_chapter_3_3-Scene-020.mp4\u001B[0m\n",
      "\u001B[32m2024-06-17 10:40:14.285\u001B[0m | \u001B[1mINFO    \u001B[0m | \u001B[36msrc.video_preprocessing.scene_detection.scene_detect\u001B[0m:\u001B[36mdetect_scenes\u001B[0m:\u001B[36m35\u001B[0m - \u001B[1mRunning scene_detection:\u001B[0m\n",
      "\u001B[32m2024-06-17 10:40:15.030\u001B[0m | \u001B[1mINFO    \u001B[0m | \u001B[36msrc.video_preprocessing.scene_detection.scene_detect\u001B[0m:\u001B[36mdetect_scenes\u001B[0m:\u001B[36m29\u001B[0m - \u001B[1mFound file\u001B[0m\n",
      "\u001B[32m2024-06-17 10:40:15.030\u001B[0m | \u001B[1mINFO    \u001B[0m | \u001B[36msrc.video_preprocessing.scene_detection.scene_detect\u001B[0m:\u001B[36mdetect_scenes\u001B[0m:\u001B[36m33\u001B[0m - \u001B[1mName:biology_chapter_3_3-Scene-021.mp4,dirname:C:\\Users\\baatout\\PycharmProjects\\afm-vlm\\data/raw\\biology_chapter_3_3\\biology_chapter_3_3-Scene-021.mp4\u001B[0m\n",
      "\u001B[32m2024-06-17 10:40:15.030\u001B[0m | \u001B[1mINFO    \u001B[0m | \u001B[36msrc.video_preprocessing.scene_detection.scene_detect\u001B[0m:\u001B[36mdetect_scenes\u001B[0m:\u001B[36m35\u001B[0m - \u001B[1mRunning scene_detection:\u001B[0m\n",
      "\u001B[32m2024-06-17 10:40:15.839\u001B[0m | \u001B[1mINFO    \u001B[0m | \u001B[36msrc.video_preprocessing.scene_detection.scene_detect\u001B[0m:\u001B[36mdetect_scenes\u001B[0m:\u001B[36m29\u001B[0m - \u001B[1mFound file\u001B[0m\n",
      "\u001B[32m2024-06-17 10:40:15.839\u001B[0m | \u001B[1mINFO    \u001B[0m | \u001B[36msrc.video_preprocessing.scene_detection.scene_detect\u001B[0m:\u001B[36mdetect_scenes\u001B[0m:\u001B[36m33\u001B[0m - \u001B[1mName:biology_chapter_3_3-Scene-022.mp4,dirname:C:\\Users\\baatout\\PycharmProjects\\afm-vlm\\data/raw\\biology_chapter_3_3\\biology_chapter_3_3-Scene-022.mp4\u001B[0m\n",
      "\u001B[32m2024-06-17 10:40:15.839\u001B[0m | \u001B[1mINFO    \u001B[0m | \u001B[36msrc.video_preprocessing.scene_detection.scene_detect\u001B[0m:\u001B[36mdetect_scenes\u001B[0m:\u001B[36m35\u001B[0m - \u001B[1mRunning scene_detection:\u001B[0m\n",
      "\u001B[32m2024-06-17 10:40:16.612\u001B[0m | \u001B[1mINFO    \u001B[0m | \u001B[36msrc.video_preprocessing.scene_detection.scene_detect\u001B[0m:\u001B[36mdetect_scenes\u001B[0m:\u001B[36m29\u001B[0m - \u001B[1mFound file\u001B[0m\n",
      "\u001B[32m2024-06-17 10:40:16.612\u001B[0m | \u001B[1mINFO    \u001B[0m | \u001B[36msrc.video_preprocessing.scene_detection.scene_detect\u001B[0m:\u001B[36mdetect_scenes\u001B[0m:\u001B[36m33\u001B[0m - \u001B[1mName:biology_chapter_3_3-Scene-023.mp4,dirname:C:\\Users\\baatout\\PycharmProjects\\afm-vlm\\data/raw\\biology_chapter_3_3\\biology_chapter_3_3-Scene-023.mp4\u001B[0m\n",
      "\u001B[32m2024-06-17 10:40:16.612\u001B[0m | \u001B[1mINFO    \u001B[0m | \u001B[36msrc.video_preprocessing.scene_detection.scene_detect\u001B[0m:\u001B[36mdetect_scenes\u001B[0m:\u001B[36m35\u001B[0m - \u001B[1mRunning scene_detection:\u001B[0m\n",
      "\u001B[32m2024-06-17 10:40:18.490\u001B[0m | \u001B[1mINFO    \u001B[0m | \u001B[36msrc.video_preprocessing.scene_detection.scene_detect\u001B[0m:\u001B[36mdetect_scenes\u001B[0m:\u001B[36m29\u001B[0m - \u001B[1mFound file\u001B[0m\n",
      "\u001B[32m2024-06-17 10:40:18.506\u001B[0m | \u001B[1mINFO    \u001B[0m | \u001B[36msrc.video_preprocessing.scene_detection.scene_detect\u001B[0m:\u001B[36mdetect_scenes\u001B[0m:\u001B[36m33\u001B[0m - \u001B[1mName:biology_chapter_3_3-Scene-024.mp4,dirname:C:\\Users\\baatout\\PycharmProjects\\afm-vlm\\data/raw\\biology_chapter_3_3\\biology_chapter_3_3-Scene-024.mp4\u001B[0m\n",
      "\u001B[32m2024-06-17 10:40:18.506\u001B[0m | \u001B[1mINFO    \u001B[0m | \u001B[36msrc.video_preprocessing.scene_detection.scene_detect\u001B[0m:\u001B[36mdetect_scenes\u001B[0m:\u001B[36m35\u001B[0m - \u001B[1mRunning scene_detection:\u001B[0m\n",
      "\u001B[32m2024-06-17 10:40:19.313\u001B[0m | \u001B[1mINFO    \u001B[0m | \u001B[36msrc.video_preprocessing.scene_detection.scene_detect\u001B[0m:\u001B[36mdetect_scenes\u001B[0m:\u001B[36m29\u001B[0m - \u001B[1mFound file\u001B[0m\n",
      "\u001B[32m2024-06-17 10:40:19.313\u001B[0m | \u001B[1mINFO    \u001B[0m | \u001B[36msrc.video_preprocessing.scene_detection.scene_detect\u001B[0m:\u001B[36mdetect_scenes\u001B[0m:\u001B[36m33\u001B[0m - \u001B[1mName:biology_chapter_3_3-Scene-025.mp4,dirname:C:\\Users\\baatout\\PycharmProjects\\afm-vlm\\data/raw\\biology_chapter_3_3\\biology_chapter_3_3-Scene-025.mp4\u001B[0m\n",
      "\u001B[32m2024-06-17 10:40:19.313\u001B[0m | \u001B[1mINFO    \u001B[0m | \u001B[36msrc.video_preprocessing.scene_detection.scene_detect\u001B[0m:\u001B[36mdetect_scenes\u001B[0m:\u001B[36m35\u001B[0m - \u001B[1mRunning scene_detection:\u001B[0m\n",
      "\u001B[32m2024-06-17 10:40:20.135\u001B[0m | \u001B[1mINFO    \u001B[0m | \u001B[36msrc.video_preprocessing.scene_detection.scene_detect\u001B[0m:\u001B[36mdetect_scenes\u001B[0m:\u001B[36m29\u001B[0m - \u001B[1mFound file\u001B[0m\n",
      "\u001B[32m2024-06-17 10:40:20.135\u001B[0m | \u001B[1mINFO    \u001B[0m | \u001B[36msrc.video_preprocessing.scene_detection.scene_detect\u001B[0m:\u001B[36mdetect_scenes\u001B[0m:\u001B[36m33\u001B[0m - \u001B[1mName:biology_chapter_3_3-Scene-026.mp4,dirname:C:\\Users\\baatout\\PycharmProjects\\afm-vlm\\data/raw\\biology_chapter_3_3\\biology_chapter_3_3-Scene-026.mp4\u001B[0m\n",
      "\u001B[32m2024-06-17 10:40:20.135\u001B[0m | \u001B[1mINFO    \u001B[0m | \u001B[36msrc.video_preprocessing.scene_detection.scene_detect\u001B[0m:\u001B[36mdetect_scenes\u001B[0m:\u001B[36m35\u001B[0m - \u001B[1mRunning scene_detection:\u001B[0m\n",
      "\u001B[32m2024-06-17 10:40:20.897\u001B[0m | \u001B[1mINFO    \u001B[0m | \u001B[36msrc.video_preprocessing.scene_detection.scene_detect\u001B[0m:\u001B[36mdetect_scenes\u001B[0m:\u001B[36m29\u001B[0m - \u001B[1mFound file\u001B[0m\n",
      "\u001B[32m2024-06-17 10:40:20.897\u001B[0m | \u001B[1mINFO    \u001B[0m | \u001B[36msrc.video_preprocessing.scene_detection.scene_detect\u001B[0m:\u001B[36mdetect_scenes\u001B[0m:\u001B[36m33\u001B[0m - \u001B[1mName:biology_chapter_3_3-Scene-027.mp4,dirname:C:\\Users\\baatout\\PycharmProjects\\afm-vlm\\data/raw\\biology_chapter_3_3\\biology_chapter_3_3-Scene-027.mp4\u001B[0m\n",
      "\u001B[32m2024-06-17 10:40:20.897\u001B[0m | \u001B[1mINFO    \u001B[0m | \u001B[36msrc.video_preprocessing.scene_detection.scene_detect\u001B[0m:\u001B[36mdetect_scenes\u001B[0m:\u001B[36m35\u001B[0m - \u001B[1mRunning scene_detection:\u001B[0m\n",
      "\u001B[32m2024-06-17 10:40:21.702\u001B[0m | \u001B[1mINFO    \u001B[0m | \u001B[36msrc.video_preprocessing.scene_detection.scene_detect\u001B[0m:\u001B[36mdetect_scenes\u001B[0m:\u001B[36m29\u001B[0m - \u001B[1mFound file\u001B[0m\n",
      "\u001B[32m2024-06-17 10:40:21.702\u001B[0m | \u001B[1mINFO    \u001B[0m | \u001B[36msrc.video_preprocessing.scene_detection.scene_detect\u001B[0m:\u001B[36mdetect_scenes\u001B[0m:\u001B[36m33\u001B[0m - \u001B[1mName:biology_chapter_3_3-Scene-028.mp4,dirname:C:\\Users\\baatout\\PycharmProjects\\afm-vlm\\data/raw\\biology_chapter_3_3\\biology_chapter_3_3-Scene-028.mp4\u001B[0m\n",
      "\u001B[32m2024-06-17 10:40:21.702\u001B[0m | \u001B[1mINFO    \u001B[0m | \u001B[36msrc.video_preprocessing.scene_detection.scene_detect\u001B[0m:\u001B[36mdetect_scenes\u001B[0m:\u001B[36m35\u001B[0m - \u001B[1mRunning scene_detection:\u001B[0m\n",
      "\u001B[32m2024-06-17 10:40:22.535\u001B[0m | \u001B[1mINFO    \u001B[0m | \u001B[36msrc.video_preprocessing.scene_detection.scene_detect\u001B[0m:\u001B[36mdetect_scenes\u001B[0m:\u001B[36m29\u001B[0m - \u001B[1mFound file\u001B[0m\n",
      "\u001B[32m2024-06-17 10:40:22.535\u001B[0m | \u001B[1mINFO    \u001B[0m | \u001B[36msrc.video_preprocessing.scene_detection.scene_detect\u001B[0m:\u001B[36mdetect_scenes\u001B[0m:\u001B[36m33\u001B[0m - \u001B[1mName:biology_chapter_3_3-Scene-029.mp4,dirname:C:\\Users\\baatout\\PycharmProjects\\afm-vlm\\data/raw\\biology_chapter_3_3\\biology_chapter_3_3-Scene-029.mp4\u001B[0m\n",
      "\u001B[32m2024-06-17 10:40:22.535\u001B[0m | \u001B[1mINFO    \u001B[0m | \u001B[36msrc.video_preprocessing.scene_detection.scene_detect\u001B[0m:\u001B[36mdetect_scenes\u001B[0m:\u001B[36m35\u001B[0m - \u001B[1mRunning scene_detection:\u001B[0m\n",
      "\u001B[32m2024-06-17 10:40:23.295\u001B[0m | \u001B[1mINFO    \u001B[0m | \u001B[36msrc.video_preprocessing.scene_detection.scene_detect\u001B[0m:\u001B[36mdetect_scenes\u001B[0m:\u001B[36m29\u001B[0m - \u001B[1mFound file\u001B[0m\n",
      "\u001B[32m2024-06-17 10:40:23.295\u001B[0m | \u001B[1mINFO    \u001B[0m | \u001B[36msrc.video_preprocessing.scene_detection.scene_detect\u001B[0m:\u001B[36mdetect_scenes\u001B[0m:\u001B[36m33\u001B[0m - \u001B[1mName:biology_chapter_3_3-Scene-030.mp4,dirname:C:\\Users\\baatout\\PycharmProjects\\afm-vlm\\data/raw\\biology_chapter_3_3\\biology_chapter_3_3-Scene-030.mp4\u001B[0m\n",
      "\u001B[32m2024-06-17 10:40:23.295\u001B[0m | \u001B[1mINFO    \u001B[0m | \u001B[36msrc.video_preprocessing.scene_detection.scene_detect\u001B[0m:\u001B[36mdetect_scenes\u001B[0m:\u001B[36m35\u001B[0m - \u001B[1mRunning scene_detection:\u001B[0m\n",
      "\u001B[32m2024-06-17 10:40:25.510\u001B[0m | \u001B[1mINFO    \u001B[0m | \u001B[36msrc.video_preprocessing.scene_detection.scene_detect\u001B[0m:\u001B[36mdetect_scenes\u001B[0m:\u001B[36m29\u001B[0m - \u001B[1mFound file\u001B[0m\n",
      "\u001B[32m2024-06-17 10:40:25.510\u001B[0m | \u001B[1mINFO    \u001B[0m | \u001B[36msrc.video_preprocessing.scene_detection.scene_detect\u001B[0m:\u001B[36mdetect_scenes\u001B[0m:\u001B[36m33\u001B[0m - \u001B[1mName:biology_chapter_3_3-Scene-031.mp4,dirname:C:\\Users\\baatout\\PycharmProjects\\afm-vlm\\data/raw\\biology_chapter_3_3\\biology_chapter_3_3-Scene-031.mp4\u001B[0m\n",
      "\u001B[32m2024-06-17 10:40:25.510\u001B[0m | \u001B[1mINFO    \u001B[0m | \u001B[36msrc.video_preprocessing.scene_detection.scene_detect\u001B[0m:\u001B[36mdetect_scenes\u001B[0m:\u001B[36m35\u001B[0m - \u001B[1mRunning scene_detection:\u001B[0m\n",
      "\u001B[32m2024-06-17 10:40:26.268\u001B[0m | \u001B[1mINFO    \u001B[0m | \u001B[36msrc.video_preprocessing.scene_detection.scene_detect\u001B[0m:\u001B[36mdetect_scenes\u001B[0m:\u001B[36m29\u001B[0m - \u001B[1mFound file\u001B[0m\n",
      "\u001B[32m2024-06-17 10:40:26.268\u001B[0m | \u001B[1mINFO    \u001B[0m | \u001B[36msrc.video_preprocessing.scene_detection.scene_detect\u001B[0m:\u001B[36mdetect_scenes\u001B[0m:\u001B[36m33\u001B[0m - \u001B[1mName:biology_chapter_3_3-Scene-032.mp4,dirname:C:\\Users\\baatout\\PycharmProjects\\afm-vlm\\data/raw\\biology_chapter_3_3\\biology_chapter_3_3-Scene-032.mp4\u001B[0m\n",
      "\u001B[32m2024-06-17 10:40:26.268\u001B[0m | \u001B[1mINFO    \u001B[0m | \u001B[36msrc.video_preprocessing.scene_detection.scene_detect\u001B[0m:\u001B[36mdetect_scenes\u001B[0m:\u001B[36m35\u001B[0m - \u001B[1mRunning scene_detection:\u001B[0m\n",
      "\u001B[32m2024-06-17 10:40:27.075\u001B[0m | \u001B[1mINFO    \u001B[0m | \u001B[36msrc.video_preprocessing.scene_detection.scene_detect\u001B[0m:\u001B[36mdetect_scenes\u001B[0m:\u001B[36m29\u001B[0m - \u001B[1mFound file\u001B[0m\n",
      "\u001B[32m2024-06-17 10:40:27.075\u001B[0m | \u001B[1mINFO    \u001B[0m | \u001B[36msrc.video_preprocessing.scene_detection.scene_detect\u001B[0m:\u001B[36mdetect_scenes\u001B[0m:\u001B[36m33\u001B[0m - \u001B[1mName:biology_chapter_3_3-Scene-033.mp4,dirname:C:\\Users\\baatout\\PycharmProjects\\afm-vlm\\data/raw\\biology_chapter_3_3\\biology_chapter_3_3-Scene-033.mp4\u001B[0m\n",
      "\u001B[32m2024-06-17 10:40:27.075\u001B[0m | \u001B[1mINFO    \u001B[0m | \u001B[36msrc.video_preprocessing.scene_detection.scene_detect\u001B[0m:\u001B[36mdetect_scenes\u001B[0m:\u001B[36m35\u001B[0m - \u001B[1mRunning scene_detection:\u001B[0m\n",
      "\u001B[32m2024-06-17 10:40:27.868\u001B[0m | \u001B[1mINFO    \u001B[0m | \u001B[36msrc.video_preprocessing.scene_detection.scene_detect\u001B[0m:\u001B[36mdetect_scenes\u001B[0m:\u001B[36m29\u001B[0m - \u001B[1mFound file\u001B[0m\n",
      "\u001B[32m2024-06-17 10:40:27.868\u001B[0m | \u001B[1mINFO    \u001B[0m | \u001B[36msrc.video_preprocessing.scene_detection.scene_detect\u001B[0m:\u001B[36mdetect_scenes\u001B[0m:\u001B[36m33\u001B[0m - \u001B[1mName:biology_chapter_3_3-Scene-034.mp4,dirname:C:\\Users\\baatout\\PycharmProjects\\afm-vlm\\data/raw\\biology_chapter_3_3\\biology_chapter_3_3-Scene-034.mp4\u001B[0m\n",
      "\u001B[32m2024-06-17 10:40:27.868\u001B[0m | \u001B[1mINFO    \u001B[0m | \u001B[36msrc.video_preprocessing.scene_detection.scene_detect\u001B[0m:\u001B[36mdetect_scenes\u001B[0m:\u001B[36m35\u001B[0m - \u001B[1mRunning scene_detection:\u001B[0m\n",
      "\u001B[32m2024-06-17 10:40:28.716\u001B[0m | \u001B[1mINFO    \u001B[0m | \u001B[36msrc.video_preprocessing.scene_detection.scene_detect\u001B[0m:\u001B[36mdetect_scenes\u001B[0m:\u001B[36m29\u001B[0m - \u001B[1mFound file\u001B[0m\n",
      "\u001B[32m2024-06-17 10:40:28.716\u001B[0m | \u001B[1mINFO    \u001B[0m | \u001B[36msrc.video_preprocessing.scene_detection.scene_detect\u001B[0m:\u001B[36mdetect_scenes\u001B[0m:\u001B[36m33\u001B[0m - \u001B[1mName:biology_chapter_3_3-Scene-035.mp4,dirname:C:\\Users\\baatout\\PycharmProjects\\afm-vlm\\data/raw\\biology_chapter_3_3\\biology_chapter_3_3-Scene-035.mp4\u001B[0m\n",
      "\u001B[32m2024-06-17 10:40:28.716\u001B[0m | \u001B[1mINFO    \u001B[0m | \u001B[36msrc.video_preprocessing.scene_detection.scene_detect\u001B[0m:\u001B[36mdetect_scenes\u001B[0m:\u001B[36m35\u001B[0m - \u001B[1mRunning scene_detection:\u001B[0m\n",
      "\u001B[32m2024-06-17 10:40:29.502\u001B[0m | \u001B[1mINFO    \u001B[0m | \u001B[36msrc.video_preprocessing.scene_detection.scene_detect\u001B[0m:\u001B[36mdetect_scenes\u001B[0m:\u001B[36m29\u001B[0m - \u001B[1mFound file\u001B[0m\n",
      "\u001B[32m2024-06-17 10:40:29.502\u001B[0m | \u001B[1mINFO    \u001B[0m | \u001B[36msrc.video_preprocessing.scene_detection.scene_detect\u001B[0m:\u001B[36mdetect_scenes\u001B[0m:\u001B[36m33\u001B[0m - \u001B[1mName:biology_chapter_3_3-Scene-036.mp4,dirname:C:\\Users\\baatout\\PycharmProjects\\afm-vlm\\data/raw\\biology_chapter_3_3\\biology_chapter_3_3-Scene-036.mp4\u001B[0m\n",
      "\u001B[32m2024-06-17 10:40:29.502\u001B[0m | \u001B[1mINFO    \u001B[0m | \u001B[36msrc.video_preprocessing.scene_detection.scene_detect\u001B[0m:\u001B[36mdetect_scenes\u001B[0m:\u001B[36m35\u001B[0m - \u001B[1mRunning scene_detection:\u001B[0m\n",
      "\u001B[32m2024-06-17 10:40:30.307\u001B[0m | \u001B[1mINFO    \u001B[0m | \u001B[36msrc.video_preprocessing.scene_detection.scene_detect\u001B[0m:\u001B[36mdetect_scenes\u001B[0m:\u001B[36m29\u001B[0m - \u001B[1mFound file\u001B[0m\n",
      "\u001B[32m2024-06-17 10:40:30.307\u001B[0m | \u001B[1mINFO    \u001B[0m | \u001B[36msrc.video_preprocessing.scene_detection.scene_detect\u001B[0m:\u001B[36mdetect_scenes\u001B[0m:\u001B[36m33\u001B[0m - \u001B[1mName:biology_chapter_3_3-Scene-037.mp4,dirname:C:\\Users\\baatout\\PycharmProjects\\afm-vlm\\data/raw\\biology_chapter_3_3\\biology_chapter_3_3-Scene-037.mp4\u001B[0m\n",
      "\u001B[32m2024-06-17 10:40:30.307\u001B[0m | \u001B[1mINFO    \u001B[0m | \u001B[36msrc.video_preprocessing.scene_detection.scene_detect\u001B[0m:\u001B[36mdetect_scenes\u001B[0m:\u001B[36m35\u001B[0m - \u001B[1mRunning scene_detection:\u001B[0m\n",
      "\u001B[32m2024-06-17 10:40:32.465\u001B[0m | \u001B[1mINFO    \u001B[0m | \u001B[36msrc.video_preprocessing.scene_detection.scene_detect\u001B[0m:\u001B[36mdetect_scenes\u001B[0m:\u001B[36m29\u001B[0m - \u001B[1mFound file\u001B[0m\n",
      "\u001B[32m2024-06-17 10:40:32.465\u001B[0m | \u001B[1mINFO    \u001B[0m | \u001B[36msrc.video_preprocessing.scene_detection.scene_detect\u001B[0m:\u001B[36mdetect_scenes\u001B[0m:\u001B[36m33\u001B[0m - \u001B[1mName:biology_chapter_3_3-Scene-038.mp4,dirname:C:\\Users\\baatout\\PycharmProjects\\afm-vlm\\data/raw\\biology_chapter_3_3\\biology_chapter_3_3-Scene-038.mp4\u001B[0m\n",
      "\u001B[32m2024-06-17 10:40:32.465\u001B[0m | \u001B[1mINFO    \u001B[0m | \u001B[36msrc.video_preprocessing.scene_detection.scene_detect\u001B[0m:\u001B[36mdetect_scenes\u001B[0m:\u001B[36m35\u001B[0m - \u001B[1mRunning scene_detection:\u001B[0m\n",
      "\u001B[32m2024-06-17 10:40:33.298\u001B[0m | \u001B[1mINFO    \u001B[0m | \u001B[36msrc.video_preprocessing.scene_detection.scene_detect\u001B[0m:\u001B[36mdetect_scenes\u001B[0m:\u001B[36m29\u001B[0m - \u001B[1mFound file\u001B[0m\n",
      "\u001B[32m2024-06-17 10:40:33.298\u001B[0m | \u001B[1mINFO    \u001B[0m | \u001B[36msrc.video_preprocessing.scene_detection.scene_detect\u001B[0m:\u001B[36mdetect_scenes\u001B[0m:\u001B[36m33\u001B[0m - \u001B[1mName:biology_chapter_3_3-Scene-039.mp4,dirname:C:\\Users\\baatout\\PycharmProjects\\afm-vlm\\data/raw\\biology_chapter_3_3\\biology_chapter_3_3-Scene-039.mp4\u001B[0m\n",
      "\u001B[32m2024-06-17 10:40:33.298\u001B[0m | \u001B[1mINFO    \u001B[0m | \u001B[36msrc.video_preprocessing.scene_detection.scene_detect\u001B[0m:\u001B[36mdetect_scenes\u001B[0m:\u001B[36m35\u001B[0m - \u001B[1mRunning scene_detection:\u001B[0m\n",
      "\u001B[32m2024-06-17 10:40:34.137\u001B[0m | \u001B[1mINFO    \u001B[0m | \u001B[36msrc.video_preprocessing.scene_detection.scene_detect\u001B[0m:\u001B[36mdetect_scenes\u001B[0m:\u001B[36m29\u001B[0m - \u001B[1mFound file\u001B[0m\n",
      "\u001B[32m2024-06-17 10:40:34.137\u001B[0m | \u001B[1mINFO    \u001B[0m | \u001B[36msrc.video_preprocessing.scene_detection.scene_detect\u001B[0m:\u001B[36mdetect_scenes\u001B[0m:\u001B[36m33\u001B[0m - \u001B[1mName:biology_chapter_3_3-Scene-040.mp4,dirname:C:\\Users\\baatout\\PycharmProjects\\afm-vlm\\data/raw\\biology_chapter_3_3\\biology_chapter_3_3-Scene-040.mp4\u001B[0m\n",
      "\u001B[32m2024-06-17 10:40:34.137\u001B[0m | \u001B[1mINFO    \u001B[0m | \u001B[36msrc.video_preprocessing.scene_detection.scene_detect\u001B[0m:\u001B[36mdetect_scenes\u001B[0m:\u001B[36m35\u001B[0m - \u001B[1mRunning scene_detection:\u001B[0m\n",
      "\u001B[32m2024-06-17 10:40:34.959\u001B[0m | \u001B[1mINFO    \u001B[0m | \u001B[36msrc.video_preprocessing.scene_detection.scene_detect\u001B[0m:\u001B[36mdetect_scenes\u001B[0m:\u001B[36m29\u001B[0m - \u001B[1mFound file\u001B[0m\n",
      "\u001B[32m2024-06-17 10:40:34.959\u001B[0m | \u001B[1mINFO    \u001B[0m | \u001B[36msrc.video_preprocessing.scene_detection.scene_detect\u001B[0m:\u001B[36mdetect_scenes\u001B[0m:\u001B[36m33\u001B[0m - \u001B[1mName:biology_chapter_3_3-Scene-041.mp4,dirname:C:\\Users\\baatout\\PycharmProjects\\afm-vlm\\data/raw\\biology_chapter_3_3\\biology_chapter_3_3-Scene-041.mp4\u001B[0m\n",
      "\u001B[32m2024-06-17 10:40:34.959\u001B[0m | \u001B[1mINFO    \u001B[0m | \u001B[36msrc.video_preprocessing.scene_detection.scene_detect\u001B[0m:\u001B[36mdetect_scenes\u001B[0m:\u001B[36m35\u001B[0m - \u001B[1mRunning scene_detection:\u001B[0m\n",
      "\u001B[32m2024-06-17 10:40:35.778\u001B[0m | \u001B[1mINFO    \u001B[0m | \u001B[36msrc.video_preprocessing.scene_detection.scene_detect\u001B[0m:\u001B[36mdetect_scenes\u001B[0m:\u001B[36m29\u001B[0m - \u001B[1mFound file\u001B[0m\n",
      "\u001B[32m2024-06-17 10:40:35.778\u001B[0m | \u001B[1mINFO    \u001B[0m | \u001B[36msrc.video_preprocessing.scene_detection.scene_detect\u001B[0m:\u001B[36mdetect_scenes\u001B[0m:\u001B[36m33\u001B[0m - \u001B[1mName:biology_chapter_3_3-Scene-042.mp4,dirname:C:\\Users\\baatout\\PycharmProjects\\afm-vlm\\data/raw\\biology_chapter_3_3\\biology_chapter_3_3-Scene-042.mp4\u001B[0m\n",
      "\u001B[32m2024-06-17 10:40:35.778\u001B[0m | \u001B[1mINFO    \u001B[0m | \u001B[36msrc.video_preprocessing.scene_detection.scene_detect\u001B[0m:\u001B[36mdetect_scenes\u001B[0m:\u001B[36m35\u001B[0m - \u001B[1mRunning scene_detection:\u001B[0m\n",
      "\u001B[32m2024-06-17 10:40:36.585\u001B[0m | \u001B[1mINFO    \u001B[0m | \u001B[36msrc.video_preprocessing.scene_detection.scene_detect\u001B[0m:\u001B[36mdetect_scenes\u001B[0m:\u001B[36m29\u001B[0m - \u001B[1mFound file\u001B[0m\n",
      "\u001B[32m2024-06-17 10:40:36.585\u001B[0m | \u001B[1mINFO    \u001B[0m | \u001B[36msrc.video_preprocessing.scene_detection.scene_detect\u001B[0m:\u001B[36mdetect_scenes\u001B[0m:\u001B[36m33\u001B[0m - \u001B[1mName:biology_chapter_3_3-Scene-043.mp4,dirname:C:\\Users\\baatout\\PycharmProjects\\afm-vlm\\data/raw\\biology_chapter_3_3\\biology_chapter_3_3-Scene-043.mp4\u001B[0m\n",
      "\u001B[32m2024-06-17 10:40:36.585\u001B[0m | \u001B[1mINFO    \u001B[0m | \u001B[36msrc.video_preprocessing.scene_detection.scene_detect\u001B[0m:\u001B[36mdetect_scenes\u001B[0m:\u001B[36m35\u001B[0m - \u001B[1mRunning scene_detection:\u001B[0m\n",
      "\u001B[32m2024-06-17 10:40:37.378\u001B[0m | \u001B[1mINFO    \u001B[0m | \u001B[36msrc.video_preprocessing.scene_detection.scene_detect\u001B[0m:\u001B[36mdetect_scenes\u001B[0m:\u001B[36m29\u001B[0m - \u001B[1mFound file\u001B[0m\n",
      "\u001B[32m2024-06-17 10:40:37.378\u001B[0m | \u001B[1mINFO    \u001B[0m | \u001B[36msrc.video_preprocessing.scene_detection.scene_detect\u001B[0m:\u001B[36mdetect_scenes\u001B[0m:\u001B[36m33\u001B[0m - \u001B[1mName:biology_chapter_3_3-Scene-044.mp4,dirname:C:\\Users\\baatout\\PycharmProjects\\afm-vlm\\data/raw\\biology_chapter_3_3\\biology_chapter_3_3-Scene-044.mp4\u001B[0m\n",
      "\u001B[32m2024-06-17 10:40:37.378\u001B[0m | \u001B[1mINFO    \u001B[0m | \u001B[36msrc.video_preprocessing.scene_detection.scene_detect\u001B[0m:\u001B[36mdetect_scenes\u001B[0m:\u001B[36m35\u001B[0m - \u001B[1mRunning scene_detection:\u001B[0m\n",
      "\u001B[32m2024-06-17 10:40:39.570\u001B[0m | \u001B[1mINFO    \u001B[0m | \u001B[36msrc.video_preprocessing.scene_detection.scene_detect\u001B[0m:\u001B[36mdetect_scenes\u001B[0m:\u001B[36m29\u001B[0m - \u001B[1mFound file\u001B[0m\n",
      "\u001B[32m2024-06-17 10:40:39.570\u001B[0m | \u001B[1mINFO    \u001B[0m | \u001B[36msrc.video_preprocessing.scene_detection.scene_detect\u001B[0m:\u001B[36mdetect_scenes\u001B[0m:\u001B[36m33\u001B[0m - \u001B[1mName:biology_chapter_3_3-Scene-045.mp4,dirname:C:\\Users\\baatout\\PycharmProjects\\afm-vlm\\data/raw\\biology_chapter_3_3\\biology_chapter_3_3-Scene-045.mp4\u001B[0m\n",
      "\u001B[32m2024-06-17 10:40:39.570\u001B[0m | \u001B[1mINFO    \u001B[0m | \u001B[36msrc.video_preprocessing.scene_detection.scene_detect\u001B[0m:\u001B[36mdetect_scenes\u001B[0m:\u001B[36m35\u001B[0m - \u001B[1mRunning scene_detection:\u001B[0m\n",
      "\u001B[32m2024-06-17 10:40:40.367\u001B[0m | \u001B[1mINFO    \u001B[0m | \u001B[36msrc.video_preprocessing.scene_detection.scene_detect\u001B[0m:\u001B[36mdetect_scenes\u001B[0m:\u001B[36m29\u001B[0m - \u001B[1mFound file\u001B[0m\n",
      "\u001B[32m2024-06-17 10:40:40.367\u001B[0m | \u001B[1mINFO    \u001B[0m | \u001B[36msrc.video_preprocessing.scene_detection.scene_detect\u001B[0m:\u001B[36mdetect_scenes\u001B[0m:\u001B[36m33\u001B[0m - \u001B[1mName:biology_chapter_3_3-Scene-046.mp4,dirname:C:\\Users\\baatout\\PycharmProjects\\afm-vlm\\data/raw\\biology_chapter_3_3\\biology_chapter_3_3-Scene-046.mp4\u001B[0m\n",
      "\u001B[32m2024-06-17 10:40:40.367\u001B[0m | \u001B[1mINFO    \u001B[0m | \u001B[36msrc.video_preprocessing.scene_detection.scene_detect\u001B[0m:\u001B[36mdetect_scenes\u001B[0m:\u001B[36m35\u001B[0m - \u001B[1mRunning scene_detection:\u001B[0m\n",
      "\u001B[32m2024-06-17 10:40:41.187\u001B[0m | \u001B[1mINFO    \u001B[0m | \u001B[36msrc.video_preprocessing.scene_detection.scene_detect\u001B[0m:\u001B[36mdetect_scenes\u001B[0m:\u001B[36m29\u001B[0m - \u001B[1mFound file\u001B[0m\n",
      "\u001B[32m2024-06-17 10:40:41.187\u001B[0m | \u001B[1mINFO    \u001B[0m | \u001B[36msrc.video_preprocessing.scene_detection.scene_detect\u001B[0m:\u001B[36mdetect_scenes\u001B[0m:\u001B[36m33\u001B[0m - \u001B[1mName:biology_chapter_3_3-Scene-047.mp4,dirname:C:\\Users\\baatout\\PycharmProjects\\afm-vlm\\data/raw\\biology_chapter_3_3\\biology_chapter_3_3-Scene-047.mp4\u001B[0m\n",
      "\u001B[32m2024-06-17 10:40:41.203\u001B[0m | \u001B[1mINFO    \u001B[0m | \u001B[36msrc.video_preprocessing.scene_detection.scene_detect\u001B[0m:\u001B[36mdetect_scenes\u001B[0m:\u001B[36m35\u001B[0m - \u001B[1mRunning scene_detection:\u001B[0m\n",
      "\u001B[32m2024-06-17 10:40:41.988\u001B[0m | \u001B[1mINFO    \u001B[0m | \u001B[36msrc.video_preprocessing.scene_detection.scene_detect\u001B[0m:\u001B[36mdetect_scenes\u001B[0m:\u001B[36m29\u001B[0m - \u001B[1mFound file\u001B[0m\n",
      "\u001B[32m2024-06-17 10:40:41.988\u001B[0m | \u001B[1mINFO    \u001B[0m | \u001B[36msrc.video_preprocessing.scene_detection.scene_detect\u001B[0m:\u001B[36mdetect_scenes\u001B[0m:\u001B[36m33\u001B[0m - \u001B[1mName:biology_chapter_3_3-Scene-048.mp4,dirname:C:\\Users\\baatout\\PycharmProjects\\afm-vlm\\data/raw\\biology_chapter_3_3\\biology_chapter_3_3-Scene-048.mp4\u001B[0m\n",
      "\u001B[32m2024-06-17 10:40:41.988\u001B[0m | \u001B[1mINFO    \u001B[0m | \u001B[36msrc.video_preprocessing.scene_detection.scene_detect\u001B[0m:\u001B[36mdetect_scenes\u001B[0m:\u001B[36m35\u001B[0m - \u001B[1mRunning scene_detection:\u001B[0m\n",
      "\u001B[32m2024-06-17 10:40:42.810\u001B[0m | \u001B[1mINFO    \u001B[0m | \u001B[36msrc.video_preprocessing.scene_detection.scene_detect\u001B[0m:\u001B[36mdetect_scenes\u001B[0m:\u001B[36m29\u001B[0m - \u001B[1mFound file\u001B[0m\n",
      "\u001B[32m2024-06-17 10:40:42.810\u001B[0m | \u001B[1mINFO    \u001B[0m | \u001B[36msrc.video_preprocessing.scene_detection.scene_detect\u001B[0m:\u001B[36mdetect_scenes\u001B[0m:\u001B[36m33\u001B[0m - \u001B[1mName:biology_chapter_3_3-Scene-049.mp4,dirname:C:\\Users\\baatout\\PycharmProjects\\afm-vlm\\data/raw\\biology_chapter_3_3\\biology_chapter_3_3-Scene-049.mp4\u001B[0m\n",
      "\u001B[32m2024-06-17 10:40:42.810\u001B[0m | \u001B[1mINFO    \u001B[0m | \u001B[36msrc.video_preprocessing.scene_detection.scene_detect\u001B[0m:\u001B[36mdetect_scenes\u001B[0m:\u001B[36m35\u001B[0m - \u001B[1mRunning scene_detection:\u001B[0m\n",
      "\u001B[32m2024-06-17 10:40:43.650\u001B[0m | \u001B[1mINFO    \u001B[0m | \u001B[36msrc.video_preprocessing.scene_detection.scene_detect\u001B[0m:\u001B[36mdetect_scenes\u001B[0m:\u001B[36m29\u001B[0m - \u001B[1mFound file\u001B[0m\n",
      "\u001B[32m2024-06-17 10:40:43.650\u001B[0m | \u001B[1mINFO    \u001B[0m | \u001B[36msrc.video_preprocessing.scene_detection.scene_detect\u001B[0m:\u001B[36mdetect_scenes\u001B[0m:\u001B[36m33\u001B[0m - \u001B[1mName:biology_chapter_3_3-Scene-050.mp4,dirname:C:\\Users\\baatout\\PycharmProjects\\afm-vlm\\data/raw\\biology_chapter_3_3\\biology_chapter_3_3-Scene-050.mp4\u001B[0m\n",
      "\u001B[32m2024-06-17 10:40:43.650\u001B[0m | \u001B[1mINFO    \u001B[0m | \u001B[36msrc.video_preprocessing.scene_detection.scene_detect\u001B[0m:\u001B[36mdetect_scenes\u001B[0m:\u001B[36m35\u001B[0m - \u001B[1mRunning scene_detection:\u001B[0m\n",
      "\u001B[32m2024-06-17 10:40:44.478\u001B[0m | \u001B[1mINFO    \u001B[0m | \u001B[36msrc.video_preprocessing.scene_detection.scene_detect\u001B[0m:\u001B[36mdetect_scenes\u001B[0m:\u001B[36m29\u001B[0m - \u001B[1mFound file\u001B[0m\n",
      "\u001B[32m2024-06-17 10:40:44.478\u001B[0m | \u001B[1mINFO    \u001B[0m | \u001B[36msrc.video_preprocessing.scene_detection.scene_detect\u001B[0m:\u001B[36mdetect_scenes\u001B[0m:\u001B[36m33\u001B[0m - \u001B[1mName:biology_chapter_3_3-Scene-051.mp4,dirname:C:\\Users\\baatout\\PycharmProjects\\afm-vlm\\data/raw\\biology_chapter_3_3\\biology_chapter_3_3-Scene-051.mp4\u001B[0m\n",
      "\u001B[32m2024-06-17 10:40:44.478\u001B[0m | \u001B[1mINFO    \u001B[0m | \u001B[36msrc.video_preprocessing.scene_detection.scene_detect\u001B[0m:\u001B[36mdetect_scenes\u001B[0m:\u001B[36m35\u001B[0m - \u001B[1mRunning scene_detection:\u001B[0m\n",
      "\u001B[32m2024-06-17 10:40:46.688\u001B[0m | \u001B[1mINFO    \u001B[0m | \u001B[36msrc.video_preprocessing.scene_detection.scene_detect\u001B[0m:\u001B[36mdetect_scenes\u001B[0m:\u001B[36m29\u001B[0m - \u001B[1mFound file\u001B[0m\n",
      "\u001B[32m2024-06-17 10:40:46.688\u001B[0m | \u001B[1mINFO    \u001B[0m | \u001B[36msrc.video_preprocessing.scene_detection.scene_detect\u001B[0m:\u001B[36mdetect_scenes\u001B[0m:\u001B[36m33\u001B[0m - \u001B[1mName:biology_chapter_3_3-Scene-052.mp4,dirname:C:\\Users\\baatout\\PycharmProjects\\afm-vlm\\data/raw\\biology_chapter_3_3\\biology_chapter_3_3-Scene-052.mp4\u001B[0m\n",
      "\u001B[32m2024-06-17 10:40:46.688\u001B[0m | \u001B[1mINFO    \u001B[0m | \u001B[36msrc.video_preprocessing.scene_detection.scene_detect\u001B[0m:\u001B[36mdetect_scenes\u001B[0m:\u001B[36m35\u001B[0m - \u001B[1mRunning scene_detection:\u001B[0m\n",
      "\u001B[32m2024-06-17 10:40:47.470\u001B[0m | \u001B[1mINFO    \u001B[0m | \u001B[36msrc.video_preprocessing.scene_detection.scene_detect\u001B[0m:\u001B[36mdetect_scenes\u001B[0m:\u001B[36m29\u001B[0m - \u001B[1mFound file\u001B[0m\n",
      "\u001B[32m2024-06-17 10:40:47.470\u001B[0m | \u001B[1mINFO    \u001B[0m | \u001B[36msrc.video_preprocessing.scene_detection.scene_detect\u001B[0m:\u001B[36mdetect_scenes\u001B[0m:\u001B[36m33\u001B[0m - \u001B[1mName:biology_chapter_3_3-Scene-053.mp4,dirname:C:\\Users\\baatout\\PycharmProjects\\afm-vlm\\data/raw\\biology_chapter_3_3\\biology_chapter_3_3-Scene-053.mp4\u001B[0m\n",
      "\u001B[32m2024-06-17 10:40:47.470\u001B[0m | \u001B[1mINFO    \u001B[0m | \u001B[36msrc.video_preprocessing.scene_detection.scene_detect\u001B[0m:\u001B[36mdetect_scenes\u001B[0m:\u001B[36m35\u001B[0m - \u001B[1mRunning scene_detection:\u001B[0m\n",
      "\u001B[32m2024-06-17 10:40:48.245\u001B[0m | \u001B[1mINFO    \u001B[0m | \u001B[36msrc.video_preprocessing.scene_detection.scene_detect\u001B[0m:\u001B[36mdetect_scenes\u001B[0m:\u001B[36m29\u001B[0m - \u001B[1mFound file\u001B[0m\n",
      "\u001B[32m2024-06-17 10:40:48.261\u001B[0m | \u001B[1mINFO    \u001B[0m | \u001B[36msrc.video_preprocessing.scene_detection.scene_detect\u001B[0m:\u001B[36mdetect_scenes\u001B[0m:\u001B[36m33\u001B[0m - \u001B[1mName:biology_chapter_3_3-Scene-054.mp4,dirname:C:\\Users\\baatout\\PycharmProjects\\afm-vlm\\data/raw\\biology_chapter_3_3\\biology_chapter_3_3-Scene-054.mp4\u001B[0m\n",
      "\u001B[32m2024-06-17 10:40:48.261\u001B[0m | \u001B[1mINFO    \u001B[0m | \u001B[36msrc.video_preprocessing.scene_detection.scene_detect\u001B[0m:\u001B[36mdetect_scenes\u001B[0m:\u001B[36m35\u001B[0m - \u001B[1mRunning scene_detection:\u001B[0m\n",
      "\u001B[32m2024-06-17 10:40:49.089\u001B[0m | \u001B[1mINFO    \u001B[0m | \u001B[36msrc.video_preprocessing.scene_detection.scene_detect\u001B[0m:\u001B[36mdetect_scenes\u001B[0m:\u001B[36m29\u001B[0m - \u001B[1mFound file\u001B[0m\n",
      "\u001B[32m2024-06-17 10:40:49.089\u001B[0m | \u001B[1mINFO    \u001B[0m | \u001B[36msrc.video_preprocessing.scene_detection.scene_detect\u001B[0m:\u001B[36mdetect_scenes\u001B[0m:\u001B[36m33\u001B[0m - \u001B[1mName:biology_chapter_3_3-Scene-055.mp4,dirname:C:\\Users\\baatout\\PycharmProjects\\afm-vlm\\data/raw\\biology_chapter_3_3\\biology_chapter_3_3-Scene-055.mp4\u001B[0m\n",
      "\u001B[32m2024-06-17 10:40:49.089\u001B[0m | \u001B[1mINFO    \u001B[0m | \u001B[36msrc.video_preprocessing.scene_detection.scene_detect\u001B[0m:\u001B[36mdetect_scenes\u001B[0m:\u001B[36m35\u001B[0m - \u001B[1mRunning scene_detection:\u001B[0m\n",
      "\u001B[32m2024-06-17 10:40:49.976\u001B[0m | \u001B[1mINFO    \u001B[0m | \u001B[36msrc.video_preprocessing.scene_detection.scene_detect\u001B[0m:\u001B[36mdetect_scenes\u001B[0m:\u001B[36m29\u001B[0m - \u001B[1mFound file\u001B[0m\n",
      "\u001B[32m2024-06-17 10:40:49.976\u001B[0m | \u001B[1mINFO    \u001B[0m | \u001B[36msrc.video_preprocessing.scene_detection.scene_detect\u001B[0m:\u001B[36mdetect_scenes\u001B[0m:\u001B[36m33\u001B[0m - \u001B[1mName:biology_chapter_3_3-Scene-056.mp4,dirname:C:\\Users\\baatout\\PycharmProjects\\afm-vlm\\data/raw\\biology_chapter_3_3\\biology_chapter_3_3-Scene-056.mp4\u001B[0m\n",
      "\u001B[32m2024-06-17 10:40:49.976\u001B[0m | \u001B[1mINFO    \u001B[0m | \u001B[36msrc.video_preprocessing.scene_detection.scene_detect\u001B[0m:\u001B[36mdetect_scenes\u001B[0m:\u001B[36m35\u001B[0m - \u001B[1mRunning scene_detection:\u001B[0m\n",
      "\u001B[32m2024-06-17 10:40:50.884\u001B[0m | \u001B[1mINFO    \u001B[0m | \u001B[36msrc.video_preprocessing.scene_detection.scene_detect\u001B[0m:\u001B[36mdetect_scenes\u001B[0m:\u001B[36m29\u001B[0m - \u001B[1mFound file\u001B[0m\n",
      "\u001B[32m2024-06-17 10:40:50.884\u001B[0m | \u001B[1mINFO    \u001B[0m | \u001B[36msrc.video_preprocessing.scene_detection.scene_detect\u001B[0m:\u001B[36mdetect_scenes\u001B[0m:\u001B[36m33\u001B[0m - \u001B[1mName:biology_chapter_3_3-Scene-057.mp4,dirname:C:\\Users\\baatout\\PycharmProjects\\afm-vlm\\data/raw\\biology_chapter_3_3\\biology_chapter_3_3-Scene-057.mp4\u001B[0m\n",
      "\u001B[32m2024-06-17 10:40:50.884\u001B[0m | \u001B[1mINFO    \u001B[0m | \u001B[36msrc.video_preprocessing.scene_detection.scene_detect\u001B[0m:\u001B[36mdetect_scenes\u001B[0m:\u001B[36m35\u001B[0m - \u001B[1mRunning scene_detection:\u001B[0m\n",
      "\u001B[32m2024-06-17 10:40:51.689\u001B[0m | \u001B[1mINFO    \u001B[0m | \u001B[36msrc.video_preprocessing.scene_detection.scene_detect\u001B[0m:\u001B[36mdetect_scenes\u001B[0m:\u001B[36m29\u001B[0m - \u001B[1mFound file\u001B[0m\n",
      "\u001B[32m2024-06-17 10:40:51.689\u001B[0m | \u001B[1mINFO    \u001B[0m | \u001B[36msrc.video_preprocessing.scene_detection.scene_detect\u001B[0m:\u001B[36mdetect_scenes\u001B[0m:\u001B[36m33\u001B[0m - \u001B[1mName:biology_chapter_3_3-Scene-058.mp4,dirname:C:\\Users\\baatout\\PycharmProjects\\afm-vlm\\data/raw\\biology_chapter_3_3\\biology_chapter_3_3-Scene-058.mp4\u001B[0m\n",
      "\u001B[32m2024-06-17 10:40:51.689\u001B[0m | \u001B[1mINFO    \u001B[0m | \u001B[36msrc.video_preprocessing.scene_detection.scene_detect\u001B[0m:\u001B[36mdetect_scenes\u001B[0m:\u001B[36m35\u001B[0m - \u001B[1mRunning scene_detection:\u001B[0m\n",
      "\u001B[32m2024-06-17 10:40:52.466\u001B[0m | \u001B[1mINFO    \u001B[0m | \u001B[36msrc.video_preprocessing.scene_detection.scene_detect\u001B[0m:\u001B[36mdetect_scenes\u001B[0m:\u001B[36m29\u001B[0m - \u001B[1mFound file\u001B[0m\n",
      "\u001B[32m2024-06-17 10:40:52.466\u001B[0m | \u001B[1mINFO    \u001B[0m | \u001B[36msrc.video_preprocessing.scene_detection.scene_detect\u001B[0m:\u001B[36mdetect_scenes\u001B[0m:\u001B[36m33\u001B[0m - \u001B[1mName:biology_chapter_3_3-Scene-059.mp4,dirname:C:\\Users\\baatout\\PycharmProjects\\afm-vlm\\data/raw\\biology_chapter_3_3\\biology_chapter_3_3-Scene-059.mp4\u001B[0m\n",
      "\u001B[32m2024-06-17 10:40:52.466\u001B[0m | \u001B[1mINFO    \u001B[0m | \u001B[36msrc.video_preprocessing.scene_detection.scene_detect\u001B[0m:\u001B[36mdetect_scenes\u001B[0m:\u001B[36m35\u001B[0m - \u001B[1mRunning scene_detection:\u001B[0m\n",
      "\u001B[32m2024-06-17 10:40:54.722\u001B[0m | \u001B[1mINFO    \u001B[0m | \u001B[36msrc.video_preprocessing.scene_detection.scene_detect\u001B[0m:\u001B[36mdetect_scenes\u001B[0m:\u001B[36m29\u001B[0m - \u001B[1mFound file\u001B[0m\n",
      "\u001B[32m2024-06-17 10:40:54.722\u001B[0m | \u001B[1mINFO    \u001B[0m | \u001B[36msrc.video_preprocessing.scene_detection.scene_detect\u001B[0m:\u001B[36mdetect_scenes\u001B[0m:\u001B[36m33\u001B[0m - \u001B[1mName:biology_chapter_3_3-Scene-060.mp4,dirname:C:\\Users\\baatout\\PycharmProjects\\afm-vlm\\data/raw\\biology_chapter_3_3\\biology_chapter_3_3-Scene-060.mp4\u001B[0m\n",
      "\u001B[32m2024-06-17 10:40:54.722\u001B[0m | \u001B[1mINFO    \u001B[0m | \u001B[36msrc.video_preprocessing.scene_detection.scene_detect\u001B[0m:\u001B[36mdetect_scenes\u001B[0m:\u001B[36m35\u001B[0m - \u001B[1mRunning scene_detection:\u001B[0m\n",
      "\u001B[32m2024-06-17 10:40:55.630\u001B[0m | \u001B[1mINFO    \u001B[0m | \u001B[36msrc.video_preprocessing.scene_detection.scene_detect\u001B[0m:\u001B[36mdetect_scenes\u001B[0m:\u001B[36m29\u001B[0m - \u001B[1mFound file\u001B[0m\n",
      "\u001B[32m2024-06-17 10:40:55.630\u001B[0m | \u001B[1mINFO    \u001B[0m | \u001B[36msrc.video_preprocessing.scene_detection.scene_detect\u001B[0m:\u001B[36mdetect_scenes\u001B[0m:\u001B[36m33\u001B[0m - \u001B[1mName:biology_chapter_3_3-Scene-061.mp4,dirname:C:\\Users\\baatout\\PycharmProjects\\afm-vlm\\data/raw\\biology_chapter_3_3\\biology_chapter_3_3-Scene-061.mp4\u001B[0m\n",
      "\u001B[32m2024-06-17 10:40:55.630\u001B[0m | \u001B[1mINFO    \u001B[0m | \u001B[36msrc.video_preprocessing.scene_detection.scene_detect\u001B[0m:\u001B[36mdetect_scenes\u001B[0m:\u001B[36m35\u001B[0m - \u001B[1mRunning scene_detection:\u001B[0m\n",
      "\u001B[32m2024-06-17 10:40:56.489\u001B[0m | \u001B[1mINFO    \u001B[0m | \u001B[36msrc.video_preprocessing.scene_detection.scene_detect\u001B[0m:\u001B[36mdetect_scenes\u001B[0m:\u001B[36m29\u001B[0m - \u001B[1mFound file\u001B[0m\n",
      "\u001B[32m2024-06-17 10:40:56.489\u001B[0m | \u001B[1mINFO    \u001B[0m | \u001B[36msrc.video_preprocessing.scene_detection.scene_detect\u001B[0m:\u001B[36mdetect_scenes\u001B[0m:\u001B[36m33\u001B[0m - \u001B[1mName:biology_chapter_3_3-Scene-062.mp4,dirname:C:\\Users\\baatout\\PycharmProjects\\afm-vlm\\data/raw\\biology_chapter_3_3\\biology_chapter_3_3-Scene-062.mp4\u001B[0m\n",
      "\u001B[32m2024-06-17 10:40:56.489\u001B[0m | \u001B[1mINFO    \u001B[0m | \u001B[36msrc.video_preprocessing.scene_detection.scene_detect\u001B[0m:\u001B[36mdetect_scenes\u001B[0m:\u001B[36m35\u001B[0m - \u001B[1mRunning scene_detection:\u001B[0m\n",
      "\u001B[32m2024-06-17 10:40:57.233\u001B[0m | \u001B[1mINFO    \u001B[0m | \u001B[36msrc.video_preprocessing.scene_detection.scene_detect\u001B[0m:\u001B[36mdetect_scenes\u001B[0m:\u001B[36m29\u001B[0m - \u001B[1mFound file\u001B[0m\n",
      "\u001B[32m2024-06-17 10:40:57.233\u001B[0m | \u001B[1mINFO    \u001B[0m | \u001B[36msrc.video_preprocessing.scene_detection.scene_detect\u001B[0m:\u001B[36mdetect_scenes\u001B[0m:\u001B[36m33\u001B[0m - \u001B[1mName:biology_chapter_3_3-Scene-063.mp4,dirname:C:\\Users\\baatout\\PycharmProjects\\afm-vlm\\data/raw\\biology_chapter_3_3\\biology_chapter_3_3-Scene-063.mp4\u001B[0m\n",
      "\u001B[32m2024-06-17 10:40:57.249\u001B[0m | \u001B[1mINFO    \u001B[0m | \u001B[36msrc.video_preprocessing.scene_detection.scene_detect\u001B[0m:\u001B[36mdetect_scenes\u001B[0m:\u001B[36m35\u001B[0m - \u001B[1mRunning scene_detection:\u001B[0m\n",
      "\u001B[32m2024-06-17 10:40:58.039\u001B[0m | \u001B[1mINFO    \u001B[0m | \u001B[36msrc.video_preprocessing.scene_detection.scene_detect\u001B[0m:\u001B[36mdetect_scenes\u001B[0m:\u001B[36m29\u001B[0m - \u001B[1mFound file\u001B[0m\n",
      "\u001B[32m2024-06-17 10:40:58.039\u001B[0m | \u001B[1mINFO    \u001B[0m | \u001B[36msrc.video_preprocessing.scene_detection.scene_detect\u001B[0m:\u001B[36mdetect_scenes\u001B[0m:\u001B[36m33\u001B[0m - \u001B[1mName:biology_chapter_3_3-Scene-064.mp4,dirname:C:\\Users\\baatout\\PycharmProjects\\afm-vlm\\data/raw\\biology_chapter_3_3\\biology_chapter_3_3-Scene-064.mp4\u001B[0m\n",
      "\u001B[32m2024-06-17 10:40:58.039\u001B[0m | \u001B[1mINFO    \u001B[0m | \u001B[36msrc.video_preprocessing.scene_detection.scene_detect\u001B[0m:\u001B[36mdetect_scenes\u001B[0m:\u001B[36m35\u001B[0m - \u001B[1mRunning scene_detection:\u001B[0m\n",
      "\u001B[32m2024-06-17 10:40:58.828\u001B[0m | \u001B[1mINFO    \u001B[0m | \u001B[36msrc.video_preprocessing.scene_detection.scene_detect\u001B[0m:\u001B[36mdetect_scenes\u001B[0m:\u001B[36m29\u001B[0m - \u001B[1mFound file\u001B[0m\n",
      "\u001B[32m2024-06-17 10:40:58.828\u001B[0m | \u001B[1mINFO    \u001B[0m | \u001B[36msrc.video_preprocessing.scene_detection.scene_detect\u001B[0m:\u001B[36mdetect_scenes\u001B[0m:\u001B[36m33\u001B[0m - \u001B[1mName:biology_chapter_3_3-Scene-065.mp4,dirname:C:\\Users\\baatout\\PycharmProjects\\afm-vlm\\data/raw\\biology_chapter_3_3\\biology_chapter_3_3-Scene-065.mp4\u001B[0m\n",
      "\u001B[32m2024-06-17 10:40:58.828\u001B[0m | \u001B[1mINFO    \u001B[0m | \u001B[36msrc.video_preprocessing.scene_detection.scene_detect\u001B[0m:\u001B[36mdetect_scenes\u001B[0m:\u001B[36m35\u001B[0m - \u001B[1mRunning scene_detection:\u001B[0m\n",
      "\u001B[32m2024-06-17 10:40:59.589\u001B[0m | \u001B[1mINFO    \u001B[0m | \u001B[36msrc.video_preprocessing.scene_detection.scene_detect\u001B[0m:\u001B[36mdetect_scenes\u001B[0m:\u001B[36m29\u001B[0m - \u001B[1mFound file\u001B[0m\n",
      "\u001B[32m2024-06-17 10:40:59.589\u001B[0m | \u001B[1mINFO    \u001B[0m | \u001B[36msrc.video_preprocessing.scene_detection.scene_detect\u001B[0m:\u001B[36mdetect_scenes\u001B[0m:\u001B[36m33\u001B[0m - \u001B[1mName:biology_chapter_3_3-Scene-066.mp4,dirname:C:\\Users\\baatout\\PycharmProjects\\afm-vlm\\data/raw\\biology_chapter_3_3\\biology_chapter_3_3-Scene-066.mp4\u001B[0m\n",
      "\u001B[32m2024-06-17 10:40:59.589\u001B[0m | \u001B[1mINFO    \u001B[0m | \u001B[36msrc.video_preprocessing.scene_detection.scene_detect\u001B[0m:\u001B[36mdetect_scenes\u001B[0m:\u001B[36m35\u001B[0m - \u001B[1mRunning scene_detection:\u001B[0m\n",
      "\u001B[32m2024-06-17 10:41:01.772\u001B[0m | \u001B[1mINFO    \u001B[0m | \u001B[36msrc.video_preprocessing.scene_detection.scene_detect\u001B[0m:\u001B[36mdetect_scenes\u001B[0m:\u001B[36m29\u001B[0m - \u001B[1mFound file\u001B[0m\n",
      "\u001B[32m2024-06-17 10:41:01.772\u001B[0m | \u001B[1mINFO    \u001B[0m | \u001B[36msrc.video_preprocessing.scene_detection.scene_detect\u001B[0m:\u001B[36mdetect_scenes\u001B[0m:\u001B[36m33\u001B[0m - \u001B[1mName:biology_chapter_3_3-Scene-067.mp4,dirname:C:\\Users\\baatout\\PycharmProjects\\afm-vlm\\data/raw\\biology_chapter_3_3\\biology_chapter_3_3-Scene-067.mp4\u001B[0m\n",
      "\u001B[32m2024-06-17 10:41:01.772\u001B[0m | \u001B[1mINFO    \u001B[0m | \u001B[36msrc.video_preprocessing.scene_detection.scene_detect\u001B[0m:\u001B[36mdetect_scenes\u001B[0m:\u001B[36m35\u001B[0m - \u001B[1mRunning scene_detection:\u001B[0m\n",
      "\u001B[32m2024-06-17 10:41:02.884\u001B[0m | \u001B[1mINFO    \u001B[0m | \u001B[36msrc.video_preprocessing.scene_detection.scene_detect\u001B[0m:\u001B[36mdetect_scenes\u001B[0m:\u001B[36m29\u001B[0m - \u001B[1mFound file\u001B[0m\n",
      "\u001B[32m2024-06-17 10:41:02.884\u001B[0m | \u001B[1mINFO    \u001B[0m | \u001B[36msrc.video_preprocessing.scene_detection.scene_detect\u001B[0m:\u001B[36mdetect_scenes\u001B[0m:\u001B[36m33\u001B[0m - \u001B[1mName:biology_chapter_3_3-Scene-068.mp4,dirname:C:\\Users\\baatout\\PycharmProjects\\afm-vlm\\data/raw\\biology_chapter_3_3\\biology_chapter_3_3-Scene-068.mp4\u001B[0m\n",
      "\u001B[32m2024-06-17 10:41:02.884\u001B[0m | \u001B[1mINFO    \u001B[0m | \u001B[36msrc.video_preprocessing.scene_detection.scene_detect\u001B[0m:\u001B[36mdetect_scenes\u001B[0m:\u001B[36m35\u001B[0m - \u001B[1mRunning scene_detection:\u001B[0m\n",
      "\u001B[32m2024-06-17 10:41:03.743\u001B[0m | \u001B[1mINFO    \u001B[0m | \u001B[36msrc.video_preprocessing.scene_detection.scene_detect\u001B[0m:\u001B[36mdetect_scenes\u001B[0m:\u001B[36m29\u001B[0m - \u001B[1mFound file\u001B[0m\n",
      "\u001B[32m2024-06-17 10:41:03.743\u001B[0m | \u001B[1mINFO    \u001B[0m | \u001B[36msrc.video_preprocessing.scene_detection.scene_detect\u001B[0m:\u001B[36mdetect_scenes\u001B[0m:\u001B[36m33\u001B[0m - \u001B[1mName:biology_chapter_3_3-Scene-069.mp4,dirname:C:\\Users\\baatout\\PycharmProjects\\afm-vlm\\data/raw\\biology_chapter_3_3\\biology_chapter_3_3-Scene-069.mp4\u001B[0m\n",
      "\u001B[32m2024-06-17 10:41:03.743\u001B[0m | \u001B[1mINFO    \u001B[0m | \u001B[36msrc.video_preprocessing.scene_detection.scene_detect\u001B[0m:\u001B[36mdetect_scenes\u001B[0m:\u001B[36m35\u001B[0m - \u001B[1mRunning scene_detection:\u001B[0m\n",
      "\u001B[32m2024-06-17 10:41:04.577\u001B[0m | \u001B[1mINFO    \u001B[0m | \u001B[36msrc.video_preprocessing.scene_detection.scene_detect\u001B[0m:\u001B[36mdetect_scenes\u001B[0m:\u001B[36m29\u001B[0m - \u001B[1mFound file\u001B[0m\n",
      "\u001B[32m2024-06-17 10:41:04.577\u001B[0m | \u001B[1mINFO    \u001B[0m | \u001B[36msrc.video_preprocessing.scene_detection.scene_detect\u001B[0m:\u001B[36mdetect_scenes\u001B[0m:\u001B[36m33\u001B[0m - \u001B[1mName:biology_chapter_3_3-Scene-070.mp4,dirname:C:\\Users\\baatout\\PycharmProjects\\afm-vlm\\data/raw\\biology_chapter_3_3\\biology_chapter_3_3-Scene-070.mp4\u001B[0m\n",
      "\u001B[32m2024-06-17 10:41:04.577\u001B[0m | \u001B[1mINFO    \u001B[0m | \u001B[36msrc.video_preprocessing.scene_detection.scene_detect\u001B[0m:\u001B[36mdetect_scenes\u001B[0m:\u001B[36m35\u001B[0m - \u001B[1mRunning scene_detection:\u001B[0m\n",
      "\u001B[32m2024-06-17 10:41:05.394\u001B[0m | \u001B[1mINFO    \u001B[0m | \u001B[36msrc.video_preprocessing.scene_detection.scene_detect\u001B[0m:\u001B[36mdetect_scenes\u001B[0m:\u001B[36m29\u001B[0m - \u001B[1mFound file\u001B[0m\n",
      "\u001B[32m2024-06-17 10:41:05.410\u001B[0m | \u001B[1mINFO    \u001B[0m | \u001B[36msrc.video_preprocessing.scene_detection.scene_detect\u001B[0m:\u001B[36mdetect_scenes\u001B[0m:\u001B[36m33\u001B[0m - \u001B[1mName:biology_chapter_3_3-Scene-071.mp4,dirname:C:\\Users\\baatout\\PycharmProjects\\afm-vlm\\data/raw\\biology_chapter_3_3\\biology_chapter_3_3-Scene-071.mp4\u001B[0m\n",
      "\u001B[32m2024-06-17 10:41:05.410\u001B[0m | \u001B[1mINFO    \u001B[0m | \u001B[36msrc.video_preprocessing.scene_detection.scene_detect\u001B[0m:\u001B[36mdetect_scenes\u001B[0m:\u001B[36m35\u001B[0m - \u001B[1mRunning scene_detection:\u001B[0m\n",
      "\u001B[32m2024-06-17 10:41:06.807\u001B[0m | \u001B[1mINFO    \u001B[0m | \u001B[36msrc.video_preprocessing.scene_detection.scene_detect\u001B[0m:\u001B[36mdetect_scenes\u001B[0m:\u001B[36m29\u001B[0m - \u001B[1mFound file\u001B[0m\n",
      "\u001B[32m2024-06-17 10:41:06.807\u001B[0m | \u001B[1mINFO    \u001B[0m | \u001B[36msrc.video_preprocessing.scene_detection.scene_detect\u001B[0m:\u001B[36mdetect_scenes\u001B[0m:\u001B[36m33\u001B[0m - \u001B[1mName:biology_chapter_3_3-Scene-072.mp4,dirname:C:\\Users\\baatout\\PycharmProjects\\afm-vlm\\data/raw\\biology_chapter_3_3\\biology_chapter_3_3-Scene-072.mp4\u001B[0m\n",
      "\u001B[32m2024-06-17 10:41:06.807\u001B[0m | \u001B[1mINFO    \u001B[0m | \u001B[36msrc.video_preprocessing.scene_detection.scene_detect\u001B[0m:\u001B[36mdetect_scenes\u001B[0m:\u001B[36m35\u001B[0m - \u001B[1mRunning scene_detection:\u001B[0m\n",
      "\u001B[32m2024-06-17 10:41:09.874\u001B[0m | \u001B[1mINFO    \u001B[0m | \u001B[36msrc.video_preprocessing.scene_detection.scene_detect\u001B[0m:\u001B[36mdetect_scenes\u001B[0m:\u001B[36m29\u001B[0m - \u001B[1mFound file\u001B[0m\n",
      "\u001B[32m2024-06-17 10:41:09.874\u001B[0m | \u001B[1mINFO    \u001B[0m | \u001B[36msrc.video_preprocessing.scene_detection.scene_detect\u001B[0m:\u001B[36mdetect_scenes\u001B[0m:\u001B[36m33\u001B[0m - \u001B[1mName:biology_chapter_3_3-Scene-073.mp4,dirname:C:\\Users\\baatout\\PycharmProjects\\afm-vlm\\data/raw\\biology_chapter_3_3\\biology_chapter_3_3-Scene-073.mp4\u001B[0m\n",
      "\u001B[32m2024-06-17 10:41:09.874\u001B[0m | \u001B[1mINFO    \u001B[0m | \u001B[36msrc.video_preprocessing.scene_detection.scene_detect\u001B[0m:\u001B[36mdetect_scenes\u001B[0m:\u001B[36m35\u001B[0m - \u001B[1mRunning scene_detection:\u001B[0m\n",
      "\u001B[32m2024-06-17 10:41:11.049\u001B[0m | \u001B[1mINFO    \u001B[0m | \u001B[36msrc.video_preprocessing.scene_detection.scene_detect\u001B[0m:\u001B[36mdetect_scenes\u001B[0m:\u001B[36m29\u001B[0m - \u001B[1mFound file\u001B[0m\n",
      "\u001B[32m2024-06-17 10:41:11.049\u001B[0m | \u001B[1mINFO    \u001B[0m | \u001B[36msrc.video_preprocessing.scene_detection.scene_detect\u001B[0m:\u001B[36mdetect_scenes\u001B[0m:\u001B[36m33\u001B[0m - \u001B[1mName:biology_chapter_3_3-Scene-074.mp4,dirname:C:\\Users\\baatout\\PycharmProjects\\afm-vlm\\data/raw\\biology_chapter_3_3\\biology_chapter_3_3-Scene-074.mp4\u001B[0m\n",
      "\u001B[32m2024-06-17 10:41:11.049\u001B[0m | \u001B[1mINFO    \u001B[0m | \u001B[36msrc.video_preprocessing.scene_detection.scene_detect\u001B[0m:\u001B[36mdetect_scenes\u001B[0m:\u001B[36m35\u001B[0m - \u001B[1mRunning scene_detection:\u001B[0m\n",
      "\u001B[32m2024-06-17 10:41:12.244\u001B[0m | \u001B[1mINFO    \u001B[0m | \u001B[36msrc.video_preprocessing.scene_detection.scene_detect\u001B[0m:\u001B[36mdetect_scenes\u001B[0m:\u001B[36m29\u001B[0m - \u001B[1mFound file\u001B[0m\n",
      "\u001B[32m2024-06-17 10:41:12.259\u001B[0m | \u001B[1mINFO    \u001B[0m | \u001B[36msrc.video_preprocessing.scene_detection.scene_detect\u001B[0m:\u001B[36mdetect_scenes\u001B[0m:\u001B[36m33\u001B[0m - \u001B[1mName:biology_chapter_3_3-Scene-075.mp4,dirname:C:\\Users\\baatout\\PycharmProjects\\afm-vlm\\data/raw\\biology_chapter_3_3\\biology_chapter_3_3-Scene-075.mp4\u001B[0m\n",
      "\u001B[32m2024-06-17 10:41:12.259\u001B[0m | \u001B[1mINFO    \u001B[0m | \u001B[36msrc.video_preprocessing.scene_detection.scene_detect\u001B[0m:\u001B[36mdetect_scenes\u001B[0m:\u001B[36m35\u001B[0m - \u001B[1mRunning scene_detection:\u001B[0m\n",
      "\u001B[32m2024-06-17 10:41:13.331\u001B[0m | \u001B[1mINFO    \u001B[0m | \u001B[36msrc.video_preprocessing.scene_detection.scene_detect\u001B[0m:\u001B[36mdetect_scenes\u001B[0m:\u001B[36m29\u001B[0m - \u001B[1mFound file\u001B[0m\n",
      "\u001B[32m2024-06-17 10:41:13.331\u001B[0m | \u001B[1mINFO    \u001B[0m | \u001B[36msrc.video_preprocessing.scene_detection.scene_detect\u001B[0m:\u001B[36mdetect_scenes\u001B[0m:\u001B[36m33\u001B[0m - \u001B[1mName:biology_chapter_3_3-Scene-076.mp4,dirname:C:\\Users\\baatout\\PycharmProjects\\afm-vlm\\data/raw\\biology_chapter_3_3\\biology_chapter_3_3-Scene-076.mp4\u001B[0m\n",
      "\u001B[32m2024-06-17 10:41:13.331\u001B[0m | \u001B[1mINFO    \u001B[0m | \u001B[36msrc.video_preprocessing.scene_detection.scene_detect\u001B[0m:\u001B[36mdetect_scenes\u001B[0m:\u001B[36m35\u001B[0m - \u001B[1mRunning scene_detection:\u001B[0m\n",
      "\u001B[32m2024-06-17 10:41:15.736\u001B[0m | \u001B[1mINFO    \u001B[0m | \u001B[36msrc.video_preprocessing.scene_detection.scene_detect\u001B[0m:\u001B[36mdetect_scenes\u001B[0m:\u001B[36m29\u001B[0m - \u001B[1mFound file\u001B[0m\n",
      "\u001B[32m2024-06-17 10:41:15.736\u001B[0m | \u001B[1mINFO    \u001B[0m | \u001B[36msrc.video_preprocessing.scene_detection.scene_detect\u001B[0m:\u001B[36mdetect_scenes\u001B[0m:\u001B[36m33\u001B[0m - \u001B[1mName:biology_chapter_3_3-Scene-077.mp4,dirname:C:\\Users\\baatout\\PycharmProjects\\afm-vlm\\data/raw\\biology_chapter_3_3\\biology_chapter_3_3-Scene-077.mp4\u001B[0m\n",
      "\u001B[32m2024-06-17 10:41:15.736\u001B[0m | \u001B[1mINFO    \u001B[0m | \u001B[36msrc.video_preprocessing.scene_detection.scene_detect\u001B[0m:\u001B[36mdetect_scenes\u001B[0m:\u001B[36m35\u001B[0m - \u001B[1mRunning scene_detection:\u001B[0m\n",
      "\u001B[32m2024-06-17 10:41:16.717\u001B[0m | \u001B[1mINFO    \u001B[0m | \u001B[36msrc.video_preprocessing.scene_detection.scene_detect\u001B[0m:\u001B[36mdetect_scenes\u001B[0m:\u001B[36m29\u001B[0m - \u001B[1mFound file\u001B[0m\n",
      "\u001B[32m2024-06-17 10:41:16.717\u001B[0m | \u001B[1mINFO    \u001B[0m | \u001B[36msrc.video_preprocessing.scene_detection.scene_detect\u001B[0m:\u001B[36mdetect_scenes\u001B[0m:\u001B[36m33\u001B[0m - \u001B[1mName:biology_chapter_3_3-Scene-078.mp4,dirname:C:\\Users\\baatout\\PycharmProjects\\afm-vlm\\data/raw\\biology_chapter_3_3\\biology_chapter_3_3-Scene-078.mp4\u001B[0m\n",
      "\u001B[32m2024-06-17 10:41:16.717\u001B[0m | \u001B[1mINFO    \u001B[0m | \u001B[36msrc.video_preprocessing.scene_detection.scene_detect\u001B[0m:\u001B[36mdetect_scenes\u001B[0m:\u001B[36m35\u001B[0m - \u001B[1mRunning scene_detection:\u001B[0m\n",
      "\u001B[32m2024-06-17 10:41:17.702\u001B[0m | \u001B[1mINFO    \u001B[0m | \u001B[36msrc.video_preprocessing.scene_detection.scene_detect\u001B[0m:\u001B[36mdetect_scenes\u001B[0m:\u001B[36m29\u001B[0m - \u001B[1mFound file\u001B[0m\n",
      "\u001B[32m2024-06-17 10:41:17.702\u001B[0m | \u001B[1mINFO    \u001B[0m | \u001B[36msrc.video_preprocessing.scene_detection.scene_detect\u001B[0m:\u001B[36mdetect_scenes\u001B[0m:\u001B[36m33\u001B[0m - \u001B[1mName:biology_chapter_3_3-Scene-079.mp4,dirname:C:\\Users\\baatout\\PycharmProjects\\afm-vlm\\data/raw\\biology_chapter_3_3\\biology_chapter_3_3-Scene-079.mp4\u001B[0m\n",
      "\u001B[32m2024-06-17 10:41:17.702\u001B[0m | \u001B[1mINFO    \u001B[0m | \u001B[36msrc.video_preprocessing.scene_detection.scene_detect\u001B[0m:\u001B[36mdetect_scenes\u001B[0m:\u001B[36m35\u001B[0m - \u001B[1mRunning scene_detection:\u001B[0m\n",
      "\u001B[32m2024-06-17 10:41:18.773\u001B[0m | \u001B[1mINFO    \u001B[0m | \u001B[36msrc.video_preprocessing.scene_detection.scene_detect\u001B[0m:\u001B[36mdetect_scenes\u001B[0m:\u001B[36m29\u001B[0m - \u001B[1mFound file\u001B[0m\n",
      "\u001B[32m2024-06-17 10:41:18.773\u001B[0m | \u001B[1mINFO    \u001B[0m | \u001B[36msrc.video_preprocessing.scene_detection.scene_detect\u001B[0m:\u001B[36mdetect_scenes\u001B[0m:\u001B[36m33\u001B[0m - \u001B[1mName:biology_chapter_3_3-Scene-080.mp4,dirname:C:\\Users\\baatout\\PycharmProjects\\afm-vlm\\data/raw\\biology_chapter_3_3\\biology_chapter_3_3-Scene-080.mp4\u001B[0m\n",
      "\u001B[32m2024-06-17 10:41:18.775\u001B[0m | \u001B[1mINFO    \u001B[0m | \u001B[36msrc.video_preprocessing.scene_detection.scene_detect\u001B[0m:\u001B[36mdetect_scenes\u001B[0m:\u001B[36m35\u001B[0m - \u001B[1mRunning scene_detection:\u001B[0m\n",
      "\u001B[32m2024-06-17 10:41:19.757\u001B[0m | \u001B[1mINFO    \u001B[0m | \u001B[36msrc.video_preprocessing.scene_detection.scene_detect\u001B[0m:\u001B[36mdetect_scenes\u001B[0m:\u001B[36m29\u001B[0m - \u001B[1mFound file\u001B[0m\n",
      "\u001B[32m2024-06-17 10:41:19.757\u001B[0m | \u001B[1mINFO    \u001B[0m | \u001B[36msrc.video_preprocessing.scene_detection.scene_detect\u001B[0m:\u001B[36mdetect_scenes\u001B[0m:\u001B[36m33\u001B[0m - \u001B[1mName:biology_chapter_3_3-Scene-081.mp4,dirname:C:\\Users\\baatout\\PycharmProjects\\afm-vlm\\data/raw\\biology_chapter_3_3\\biology_chapter_3_3-Scene-081.mp4\u001B[0m\n",
      "\u001B[32m2024-06-17 10:41:19.757\u001B[0m | \u001B[1mINFO    \u001B[0m | \u001B[36msrc.video_preprocessing.scene_detection.scene_detect\u001B[0m:\u001B[36mdetect_scenes\u001B[0m:\u001B[36m35\u001B[0m - \u001B[1mRunning scene_detection:\u001B[0m\n",
      "\u001B[32m2024-06-17 10:41:20.791\u001B[0m | \u001B[1mINFO    \u001B[0m | \u001B[36msrc.video_preprocessing.scene_detection.scene_detect\u001B[0m:\u001B[36mdetect_scenes\u001B[0m:\u001B[36m29\u001B[0m - \u001B[1mFound file\u001B[0m\n",
      "\u001B[32m2024-06-17 10:41:20.792\u001B[0m | \u001B[1mINFO    \u001B[0m | \u001B[36msrc.video_preprocessing.scene_detection.scene_detect\u001B[0m:\u001B[36mdetect_scenes\u001B[0m:\u001B[36m33\u001B[0m - \u001B[1mName:biology_chapter_3_3-Scene-082.mp4,dirname:C:\\Users\\baatout\\PycharmProjects\\afm-vlm\\data/raw\\biology_chapter_3_3\\biology_chapter_3_3-Scene-082.mp4\u001B[0m\n",
      "\u001B[32m2024-06-17 10:41:20.792\u001B[0m | \u001B[1mINFO    \u001B[0m | \u001B[36msrc.video_preprocessing.scene_detection.scene_detect\u001B[0m:\u001B[36mdetect_scenes\u001B[0m:\u001B[36m35\u001B[0m - \u001B[1mRunning scene_detection:\u001B[0m\n",
      "\u001B[32m2024-06-17 10:41:23.151\u001B[0m | \u001B[1mINFO    \u001B[0m | \u001B[36msrc.video_preprocessing.scene_detection.scene_detect\u001B[0m:\u001B[36mdetect_scenes\u001B[0m:\u001B[36m29\u001B[0m - \u001B[1mFound file\u001B[0m\n",
      "\u001B[32m2024-06-17 10:41:23.151\u001B[0m | \u001B[1mINFO    \u001B[0m | \u001B[36msrc.video_preprocessing.scene_detection.scene_detect\u001B[0m:\u001B[36mdetect_scenes\u001B[0m:\u001B[36m33\u001B[0m - \u001B[1mName:biology_chapter_3_3-Scene-083.mp4,dirname:C:\\Users\\baatout\\PycharmProjects\\afm-vlm\\data/raw\\biology_chapter_3_3\\biology_chapter_3_3-Scene-083.mp4\u001B[0m\n",
      "\u001B[32m2024-06-17 10:41:23.151\u001B[0m | \u001B[1mINFO    \u001B[0m | \u001B[36msrc.video_preprocessing.scene_detection.scene_detect\u001B[0m:\u001B[36mdetect_scenes\u001B[0m:\u001B[36m35\u001B[0m - \u001B[1mRunning scene_detection:\u001B[0m\n",
      "\u001B[32m2024-06-17 10:41:24.038\u001B[0m | \u001B[1mINFO    \u001B[0m | \u001B[36msrc.video_preprocessing.scene_detection.scene_detect\u001B[0m:\u001B[36mdetect_scenes\u001B[0m:\u001B[36m29\u001B[0m - \u001B[1mFound file\u001B[0m\n",
      "\u001B[32m2024-06-17 10:41:24.038\u001B[0m | \u001B[1mINFO    \u001B[0m | \u001B[36msrc.video_preprocessing.scene_detection.scene_detect\u001B[0m:\u001B[36mdetect_scenes\u001B[0m:\u001B[36m33\u001B[0m - \u001B[1mName:biology_chapter_3_3-Scene-084.mp4,dirname:C:\\Users\\baatout\\PycharmProjects\\afm-vlm\\data/raw\\biology_chapter_3_3\\biology_chapter_3_3-Scene-084.mp4\u001B[0m\n",
      "\u001B[32m2024-06-17 10:41:24.038\u001B[0m | \u001B[1mINFO    \u001B[0m | \u001B[36msrc.video_preprocessing.scene_detection.scene_detect\u001B[0m:\u001B[36mdetect_scenes\u001B[0m:\u001B[36m35\u001B[0m - \u001B[1mRunning scene_detection:\u001B[0m\n",
      "\u001B[32m2024-06-17 10:41:25.148\u001B[0m | \u001B[1mINFO    \u001B[0m | \u001B[36msrc.video_preprocessing.scene_detection.scene_detect\u001B[0m:\u001B[36mdetect_scenes\u001B[0m:\u001B[36m29\u001B[0m - \u001B[1mFound file\u001B[0m\n",
      "\u001B[32m2024-06-17 10:41:25.148\u001B[0m | \u001B[1mINFO    \u001B[0m | \u001B[36msrc.video_preprocessing.scene_detection.scene_detect\u001B[0m:\u001B[36mdetect_scenes\u001B[0m:\u001B[36m33\u001B[0m - \u001B[1mName:biology_chapter_3_3-Scene-085.mp4,dirname:C:\\Users\\baatout\\PycharmProjects\\afm-vlm\\data/raw\\biology_chapter_3_3\\biology_chapter_3_3-Scene-085.mp4\u001B[0m\n",
      "\u001B[32m2024-06-17 10:41:25.164\u001B[0m | \u001B[1mINFO    \u001B[0m | \u001B[36msrc.video_preprocessing.scene_detection.scene_detect\u001B[0m:\u001B[36mdetect_scenes\u001B[0m:\u001B[36m35\u001B[0m - \u001B[1mRunning scene_detection:\u001B[0m\n",
      "\u001B[32m2024-06-17 10:41:26.205\u001B[0m | \u001B[1mINFO    \u001B[0m | \u001B[36msrc.video_preprocessing.scene_detection.scene_detect\u001B[0m:\u001B[36mdetect_scenes\u001B[0m:\u001B[36m29\u001B[0m - \u001B[1mFound file\u001B[0m\n",
      "\u001B[32m2024-06-17 10:41:26.221\u001B[0m | \u001B[1mINFO    \u001B[0m | \u001B[36msrc.video_preprocessing.scene_detection.scene_detect\u001B[0m:\u001B[36mdetect_scenes\u001B[0m:\u001B[36m33\u001B[0m - \u001B[1mName:biology_chapter_3_3-Scene-086.mp4,dirname:C:\\Users\\baatout\\PycharmProjects\\afm-vlm\\data/raw\\biology_chapter_3_3\\biology_chapter_3_3-Scene-086.mp4\u001B[0m\n",
      "\u001B[32m2024-06-17 10:41:26.221\u001B[0m | \u001B[1mINFO    \u001B[0m | \u001B[36msrc.video_preprocessing.scene_detection.scene_detect\u001B[0m:\u001B[36mdetect_scenes\u001B[0m:\u001B[36m35\u001B[0m - \u001B[1mRunning scene_detection:\u001B[0m\n",
      "\u001B[32m2024-06-17 10:41:27.147\u001B[0m | \u001B[1mINFO    \u001B[0m | \u001B[36msrc.video_preprocessing.scene_detection.scene_detect\u001B[0m:\u001B[36mdetect_scenes\u001B[0m:\u001B[36m29\u001B[0m - \u001B[1mFound file\u001B[0m\n",
      "\u001B[32m2024-06-17 10:41:27.147\u001B[0m | \u001B[1mINFO    \u001B[0m | \u001B[36msrc.video_preprocessing.scene_detection.scene_detect\u001B[0m:\u001B[36mdetect_scenes\u001B[0m:\u001B[36m33\u001B[0m - \u001B[1mName:biology_chapter_3_3-Scene-087.mp4,dirname:C:\\Users\\baatout\\PycharmProjects\\afm-vlm\\data/raw\\biology_chapter_3_3\\biology_chapter_3_3-Scene-087.mp4\u001B[0m\n",
      "\u001B[32m2024-06-17 10:41:27.147\u001B[0m | \u001B[1mINFO    \u001B[0m | \u001B[36msrc.video_preprocessing.scene_detection.scene_detect\u001B[0m:\u001B[36mdetect_scenes\u001B[0m:\u001B[36m35\u001B[0m - \u001B[1mRunning scene_detection:\u001B[0m\n",
      "\u001B[32m2024-06-17 10:41:28.151\u001B[0m | \u001B[1mINFO    \u001B[0m | \u001B[36msrc.video_preprocessing.scene_detection.scene_detect\u001B[0m:\u001B[36mdetect_scenes\u001B[0m:\u001B[36m29\u001B[0m - \u001B[1mFound file\u001B[0m\n",
      "\u001B[32m2024-06-17 10:41:28.151\u001B[0m | \u001B[1mINFO    \u001B[0m | \u001B[36msrc.video_preprocessing.scene_detection.scene_detect\u001B[0m:\u001B[36mdetect_scenes\u001B[0m:\u001B[36m33\u001B[0m - \u001B[1mName:biology_chapter_3_3-Scene-088.mp4,dirname:C:\\Users\\baatout\\PycharmProjects\\afm-vlm\\data/raw\\biology_chapter_3_3\\biology_chapter_3_3-Scene-088.mp4\u001B[0m\n",
      "\u001B[32m2024-06-17 10:41:28.151\u001B[0m | \u001B[1mINFO    \u001B[0m | \u001B[36msrc.video_preprocessing.scene_detection.scene_detect\u001B[0m:\u001B[36mdetect_scenes\u001B[0m:\u001B[36m35\u001B[0m - \u001B[1mRunning scene_detection:\u001B[0m\n",
      "\u001B[32m2024-06-17 10:41:30.734\u001B[0m | \u001B[1mINFO    \u001B[0m | \u001B[36msrc.video_preprocessing.scene_detection.scene_detect\u001B[0m:\u001B[36mdetect_scenes\u001B[0m:\u001B[36m29\u001B[0m - \u001B[1mFound file\u001B[0m\n",
      "\u001B[32m2024-06-17 10:41:30.734\u001B[0m | \u001B[1mINFO    \u001B[0m | \u001B[36msrc.video_preprocessing.scene_detection.scene_detect\u001B[0m:\u001B[36mdetect_scenes\u001B[0m:\u001B[36m33\u001B[0m - \u001B[1mName:biology_chapter_3_3-Scene-089.mp4,dirname:C:\\Users\\baatout\\PycharmProjects\\afm-vlm\\data/raw\\biology_chapter_3_3\\biology_chapter_3_3-Scene-089.mp4\u001B[0m\n",
      "\u001B[32m2024-06-17 10:41:30.734\u001B[0m | \u001B[1mINFO    \u001B[0m | \u001B[36msrc.video_preprocessing.scene_detection.scene_detect\u001B[0m:\u001B[36mdetect_scenes\u001B[0m:\u001B[36m35\u001B[0m - \u001B[1mRunning scene_detection:\u001B[0m\n",
      "\u001B[32m2024-06-17 10:41:31.659\u001B[0m | \u001B[1mINFO    \u001B[0m | \u001B[36msrc.video_preprocessing.scene_detection.scene_detect\u001B[0m:\u001B[36mdetect_scenes\u001B[0m:\u001B[36m29\u001B[0m - \u001B[1mFound file\u001B[0m\n",
      "\u001B[32m2024-06-17 10:41:31.659\u001B[0m | \u001B[1mINFO    \u001B[0m | \u001B[36msrc.video_preprocessing.scene_detection.scene_detect\u001B[0m:\u001B[36mdetect_scenes\u001B[0m:\u001B[36m33\u001B[0m - \u001B[1mName:biology_chapter_3_3-Scene-090.mp4,dirname:C:\\Users\\baatout\\PycharmProjects\\afm-vlm\\data/raw\\biology_chapter_3_3\\biology_chapter_3_3-Scene-090.mp4\u001B[0m\n",
      "\u001B[32m2024-06-17 10:41:31.662\u001B[0m | \u001B[1mINFO    \u001B[0m | \u001B[36msrc.video_preprocessing.scene_detection.scene_detect\u001B[0m:\u001B[36mdetect_scenes\u001B[0m:\u001B[36m35\u001B[0m - \u001B[1mRunning scene_detection:\u001B[0m\n",
      "\u001B[32m2024-06-17 10:41:32.568\u001B[0m | \u001B[1mINFO    \u001B[0m | \u001B[36msrc.video_preprocessing.scene_detection.scene_detect\u001B[0m:\u001B[36mdetect_scenes\u001B[0m:\u001B[36m29\u001B[0m - \u001B[1mFound file\u001B[0m\n",
      "\u001B[32m2024-06-17 10:41:32.568\u001B[0m | \u001B[1mINFO    \u001B[0m | \u001B[36msrc.video_preprocessing.scene_detection.scene_detect\u001B[0m:\u001B[36mdetect_scenes\u001B[0m:\u001B[36m33\u001B[0m - \u001B[1mName:biology_chapter_3_3-Scene-091.mp4,dirname:C:\\Users\\baatout\\PycharmProjects\\afm-vlm\\data/raw\\biology_chapter_3_3\\biology_chapter_3_3-Scene-091.mp4\u001B[0m\n",
      "\u001B[32m2024-06-17 10:41:32.568\u001B[0m | \u001B[1mINFO    \u001B[0m | \u001B[36msrc.video_preprocessing.scene_detection.scene_detect\u001B[0m:\u001B[36mdetect_scenes\u001B[0m:\u001B[36m35\u001B[0m - \u001B[1mRunning scene_detection:\u001B[0m\n",
      "\u001B[32m2024-06-17 10:41:33.522\u001B[0m | \u001B[1mINFO    \u001B[0m | \u001B[36msrc.video_preprocessing.scene_detection.scene_detect\u001B[0m:\u001B[36mdetect_scenes\u001B[0m:\u001B[36m29\u001B[0m - \u001B[1mFound file\u001B[0m\n",
      "\u001B[32m2024-06-17 10:41:33.522\u001B[0m | \u001B[1mINFO    \u001B[0m | \u001B[36msrc.video_preprocessing.scene_detection.scene_detect\u001B[0m:\u001B[36mdetect_scenes\u001B[0m:\u001B[36m33\u001B[0m - \u001B[1mName:biology_chapter_3_3-Scene-092.mp4,dirname:C:\\Users\\baatout\\PycharmProjects\\afm-vlm\\data/raw\\biology_chapter_3_3\\biology_chapter_3_3-Scene-092.mp4\u001B[0m\n",
      "\u001B[32m2024-06-17 10:41:33.525\u001B[0m | \u001B[1mINFO    \u001B[0m | \u001B[36msrc.video_preprocessing.scene_detection.scene_detect\u001B[0m:\u001B[36mdetect_scenes\u001B[0m:\u001B[36m35\u001B[0m - \u001B[1mRunning scene_detection:\u001B[0m\n",
      "\u001B[32m2024-06-17 10:41:34.467\u001B[0m | \u001B[1mINFO    \u001B[0m | \u001B[36msrc.video_preprocessing.scene_detection.scene_detect\u001B[0m:\u001B[36mdetect_scenes\u001B[0m:\u001B[36m29\u001B[0m - \u001B[1mFound file\u001B[0m\n",
      "\u001B[32m2024-06-17 10:41:34.470\u001B[0m | \u001B[1mINFO    \u001B[0m | \u001B[36msrc.video_preprocessing.scene_detection.scene_detect\u001B[0m:\u001B[36mdetect_scenes\u001B[0m:\u001B[36m33\u001B[0m - \u001B[1mName:biology_chapter_3_3-Scene-093.mp4,dirname:C:\\Users\\baatout\\PycharmProjects\\afm-vlm\\data/raw\\biology_chapter_3_3\\biology_chapter_3_3-Scene-093.mp4\u001B[0m\n",
      "\u001B[32m2024-06-17 10:41:34.470\u001B[0m | \u001B[1mINFO    \u001B[0m | \u001B[36msrc.video_preprocessing.scene_detection.scene_detect\u001B[0m:\u001B[36mdetect_scenes\u001B[0m:\u001B[36m35\u001B[0m - \u001B[1mRunning scene_detection:\u001B[0m\n",
      "\u001B[32m2024-06-17 10:41:35.468\u001B[0m | \u001B[1mINFO    \u001B[0m | \u001B[36msrc.video_preprocessing.scene_detection.scene_detect\u001B[0m:\u001B[36mdetect_scenes\u001B[0m:\u001B[36m29\u001B[0m - \u001B[1mFound file\u001B[0m\n",
      "\u001B[32m2024-06-17 10:41:35.468\u001B[0m | \u001B[1mINFO    \u001B[0m | \u001B[36msrc.video_preprocessing.scene_detection.scene_detect\u001B[0m:\u001B[36mdetect_scenes\u001B[0m:\u001B[36m33\u001B[0m - \u001B[1mName:biology_chapter_3_3-Scene-094.mp4,dirname:C:\\Users\\baatout\\PycharmProjects\\afm-vlm\\data/raw\\biology_chapter_3_3\\biology_chapter_3_3-Scene-094.mp4\u001B[0m\n",
      "\u001B[32m2024-06-17 10:41:35.468\u001B[0m | \u001B[1mINFO    \u001B[0m | \u001B[36msrc.video_preprocessing.scene_detection.scene_detect\u001B[0m:\u001B[36mdetect_scenes\u001B[0m:\u001B[36m35\u001B[0m - \u001B[1mRunning scene_detection:\u001B[0m\n",
      "\u001B[32m2024-06-17 10:41:37.901\u001B[0m | \u001B[1mINFO    \u001B[0m | \u001B[36msrc.video_preprocessing.scene_detection.scene_detect\u001B[0m:\u001B[36mdetect_scenes\u001B[0m:\u001B[36m29\u001B[0m - \u001B[1mFound file\u001B[0m\n",
      "\u001B[32m2024-06-17 10:41:37.903\u001B[0m | \u001B[1mINFO    \u001B[0m | \u001B[36msrc.video_preprocessing.scene_detection.scene_detect\u001B[0m:\u001B[36mdetect_scenes\u001B[0m:\u001B[36m33\u001B[0m - \u001B[1mName:biology_chapter_3_3-Scene-095.mp4,dirname:C:\\Users\\baatout\\PycharmProjects\\afm-vlm\\data/raw\\biology_chapter_3_3\\biology_chapter_3_3-Scene-095.mp4\u001B[0m\n",
      "\u001B[32m2024-06-17 10:41:37.904\u001B[0m | \u001B[1mINFO    \u001B[0m | \u001B[36msrc.video_preprocessing.scene_detection.scene_detect\u001B[0m:\u001B[36mdetect_scenes\u001B[0m:\u001B[36m35\u001B[0m - \u001B[1mRunning scene_detection:\u001B[0m\n",
      "\u001B[32m2024-06-17 10:41:38.781\u001B[0m | \u001B[1mINFO    \u001B[0m | \u001B[36msrc.video_preprocessing.scene_detection.scene_detect\u001B[0m:\u001B[36mdetect_scenes\u001B[0m:\u001B[36m29\u001B[0m - \u001B[1mFound file\u001B[0m\n",
      "\u001B[32m2024-06-17 10:41:38.781\u001B[0m | \u001B[1mINFO    \u001B[0m | \u001B[36msrc.video_preprocessing.scene_detection.scene_detect\u001B[0m:\u001B[36mdetect_scenes\u001B[0m:\u001B[36m33\u001B[0m - \u001B[1mName:biology_chapter_3_3-Scene-096.mp4,dirname:C:\\Users\\baatout\\PycharmProjects\\afm-vlm\\data/raw\\biology_chapter_3_3\\biology_chapter_3_3-Scene-096.mp4\u001B[0m\n",
      "\u001B[32m2024-06-17 10:41:38.781\u001B[0m | \u001B[1mINFO    \u001B[0m | \u001B[36msrc.video_preprocessing.scene_detection.scene_detect\u001B[0m:\u001B[36mdetect_scenes\u001B[0m:\u001B[36m35\u001B[0m - \u001B[1mRunning scene_detection:\u001B[0m\n",
      "\u001B[32m2024-06-17 10:41:39.756\u001B[0m | \u001B[1mINFO    \u001B[0m | \u001B[36msrc.video_preprocessing.scene_detection.scene_detect\u001B[0m:\u001B[36mdetect_scenes\u001B[0m:\u001B[36m29\u001B[0m - \u001B[1mFound file\u001B[0m\n",
      "\u001B[32m2024-06-17 10:41:39.756\u001B[0m | \u001B[1mINFO    \u001B[0m | \u001B[36msrc.video_preprocessing.scene_detection.scene_detect\u001B[0m:\u001B[36mdetect_scenes\u001B[0m:\u001B[36m33\u001B[0m - \u001B[1mName:biology_chapter_3_3-Scene-097.mp4,dirname:C:\\Users\\baatout\\PycharmProjects\\afm-vlm\\data/raw\\biology_chapter_3_3\\biology_chapter_3_3-Scene-097.mp4\u001B[0m\n",
      "\u001B[32m2024-06-17 10:41:39.756\u001B[0m | \u001B[1mINFO    \u001B[0m | \u001B[36msrc.video_preprocessing.scene_detection.scene_detect\u001B[0m:\u001B[36mdetect_scenes\u001B[0m:\u001B[36m35\u001B[0m - \u001B[1mRunning scene_detection:\u001B[0m\n",
      "\u001B[32m2024-06-17 10:41:40.674\u001B[0m | \u001B[1mINFO    \u001B[0m | \u001B[36msrc.video_preprocessing.scene_detection.scene_detect\u001B[0m:\u001B[36mdetect_scenes\u001B[0m:\u001B[36m29\u001B[0m - \u001B[1mFound file\u001B[0m\n",
      "\u001B[32m2024-06-17 10:41:40.674\u001B[0m | \u001B[1mINFO    \u001B[0m | \u001B[36msrc.video_preprocessing.scene_detection.scene_detect\u001B[0m:\u001B[36mdetect_scenes\u001B[0m:\u001B[36m33\u001B[0m - \u001B[1mName:biology_chapter_3_3-Scene-098.mp4,dirname:C:\\Users\\baatout\\PycharmProjects\\afm-vlm\\data/raw\\biology_chapter_3_3\\biology_chapter_3_3-Scene-098.mp4\u001B[0m\n",
      "\u001B[32m2024-06-17 10:41:40.674\u001B[0m | \u001B[1mINFO    \u001B[0m | \u001B[36msrc.video_preprocessing.scene_detection.scene_detect\u001B[0m:\u001B[36mdetect_scenes\u001B[0m:\u001B[36m35\u001B[0m - \u001B[1mRunning scene_detection:\u001B[0m\n",
      "\u001B[32m2024-06-17 10:41:41.751\u001B[0m | \u001B[1mINFO    \u001B[0m | \u001B[36msrc.video_preprocessing.scene_detection.scene_detect\u001B[0m:\u001B[36mdetect_scenes\u001B[0m:\u001B[36m29\u001B[0m - \u001B[1mFound file\u001B[0m\n",
      "\u001B[32m2024-06-17 10:41:41.751\u001B[0m | \u001B[1mINFO    \u001B[0m | \u001B[36msrc.video_preprocessing.scene_detection.scene_detect\u001B[0m:\u001B[36mdetect_scenes\u001B[0m:\u001B[36m33\u001B[0m - \u001B[1mName:biology_chapter_3_3-Scene-099.mp4,dirname:C:\\Users\\baatout\\PycharmProjects\\afm-vlm\\data/raw\\biology_chapter_3_3\\biology_chapter_3_3-Scene-099.mp4\u001B[0m\n",
      "\u001B[32m2024-06-17 10:41:41.751\u001B[0m | \u001B[1mINFO    \u001B[0m | \u001B[36msrc.video_preprocessing.scene_detection.scene_detect\u001B[0m:\u001B[36mdetect_scenes\u001B[0m:\u001B[36m35\u001B[0m - \u001B[1mRunning scene_detection:\u001B[0m\n",
      "\u001B[32m2024-06-17 10:41:42.565\u001B[0m | \u001B[1mINFO    \u001B[0m | \u001B[36msrc.video_preprocessing.scene_detection.scene_detect\u001B[0m:\u001B[36mdetect_scenes\u001B[0m:\u001B[36m29\u001B[0m - \u001B[1mFound file\u001B[0m\n",
      "\u001B[32m2024-06-17 10:41:42.565\u001B[0m | \u001B[1mINFO    \u001B[0m | \u001B[36msrc.video_preprocessing.scene_detection.scene_detect\u001B[0m:\u001B[36mdetect_scenes\u001B[0m:\u001B[36m33\u001B[0m - \u001B[1mName:biology_chapter_3_3-Scene-100.mp4,dirname:C:\\Users\\baatout\\PycharmProjects\\afm-vlm\\data/raw\\biology_chapter_3_3\\biology_chapter_3_3-Scene-100.mp4\u001B[0m\n",
      "\u001B[32m2024-06-17 10:41:42.565\u001B[0m | \u001B[1mINFO    \u001B[0m | \u001B[36msrc.video_preprocessing.scene_detection.scene_detect\u001B[0m:\u001B[36mdetect_scenes\u001B[0m:\u001B[36m35\u001B[0m - \u001B[1mRunning scene_detection:\u001B[0m\n",
      "\u001B[32m2024-06-17 10:41:44.660\u001B[0m | \u001B[1mINFO    \u001B[0m | \u001B[36msrc.video_preprocessing.scene_detection.scene_detect\u001B[0m:\u001B[36mdetect_scenes\u001B[0m:\u001B[36m29\u001B[0m - \u001B[1mFound file\u001B[0m\n",
      "\u001B[32m2024-06-17 10:41:44.660\u001B[0m | \u001B[1mINFO    \u001B[0m | \u001B[36msrc.video_preprocessing.scene_detection.scene_detect\u001B[0m:\u001B[36mdetect_scenes\u001B[0m:\u001B[36m33\u001B[0m - \u001B[1mName:biology_chapter_3_3-Scene-101.mp4,dirname:C:\\Users\\baatout\\PycharmProjects\\afm-vlm\\data/raw\\biology_chapter_3_3\\biology_chapter_3_3-Scene-101.mp4\u001B[0m\n",
      "\u001B[32m2024-06-17 10:41:44.660\u001B[0m | \u001B[1mINFO    \u001B[0m | \u001B[36msrc.video_preprocessing.scene_detection.scene_detect\u001B[0m:\u001B[36mdetect_scenes\u001B[0m:\u001B[36m35\u001B[0m - \u001B[1mRunning scene_detection:\u001B[0m\n",
      "\u001B[32m2024-06-17 10:41:45.467\u001B[0m | \u001B[1mINFO    \u001B[0m | \u001B[36msrc.video_preprocessing.scene_detection.scene_detect\u001B[0m:\u001B[36mdetect_scenes\u001B[0m:\u001B[36m29\u001B[0m - \u001B[1mFound file\u001B[0m\n",
      "\u001B[32m2024-06-17 10:41:45.467\u001B[0m | \u001B[1mINFO    \u001B[0m | \u001B[36msrc.video_preprocessing.scene_detection.scene_detect\u001B[0m:\u001B[36mdetect_scenes\u001B[0m:\u001B[36m33\u001B[0m - \u001B[1mName:biology_chapter_3_3-Scene-102.mp4,dirname:C:\\Users\\baatout\\PycharmProjects\\afm-vlm\\data/raw\\biology_chapter_3_3\\biology_chapter_3_3-Scene-102.mp4\u001B[0m\n",
      "\u001B[32m2024-06-17 10:41:45.467\u001B[0m | \u001B[1mINFO    \u001B[0m | \u001B[36msrc.video_preprocessing.scene_detection.scene_detect\u001B[0m:\u001B[36mdetect_scenes\u001B[0m:\u001B[36m35\u001B[0m - \u001B[1mRunning scene_detection:\u001B[0m\n",
      "\u001B[32m2024-06-17 10:41:46.427\u001B[0m | \u001B[1mINFO    \u001B[0m | \u001B[36msrc.video_preprocessing.scene_detection.scene_detect\u001B[0m:\u001B[36mdetect_scenes\u001B[0m:\u001B[36m29\u001B[0m - \u001B[1mFound file\u001B[0m\n",
      "\u001B[32m2024-06-17 10:41:46.427\u001B[0m | \u001B[1mINFO    \u001B[0m | \u001B[36msrc.video_preprocessing.scene_detection.scene_detect\u001B[0m:\u001B[36mdetect_scenes\u001B[0m:\u001B[36m33\u001B[0m - \u001B[1mName:biology_chapter_3_3-Scene-103.mp4,dirname:C:\\Users\\baatout\\PycharmProjects\\afm-vlm\\data/raw\\biology_chapter_3_3\\biology_chapter_3_3-Scene-103.mp4\u001B[0m\n",
      "\u001B[32m2024-06-17 10:41:46.427\u001B[0m | \u001B[1mINFO    \u001B[0m | \u001B[36msrc.video_preprocessing.scene_detection.scene_detect\u001B[0m:\u001B[36mdetect_scenes\u001B[0m:\u001B[36m35\u001B[0m - \u001B[1mRunning scene_detection:\u001B[0m\n",
      "\u001B[32m2024-06-17 10:41:47.330\u001B[0m | \u001B[1mINFO    \u001B[0m | \u001B[36msrc.video_preprocessing.scene_detection.scene_detect\u001B[0m:\u001B[36mdetect_scenes\u001B[0m:\u001B[36m29\u001B[0m - \u001B[1mFound file\u001B[0m\n",
      "\u001B[32m2024-06-17 10:41:47.346\u001B[0m | \u001B[1mINFO    \u001B[0m | \u001B[36msrc.video_preprocessing.scene_detection.scene_detect\u001B[0m:\u001B[36mdetect_scenes\u001B[0m:\u001B[36m33\u001B[0m - \u001B[1mName:biology_chapter_3_3-Scene-104.mp4,dirname:C:\\Users\\baatout\\PycharmProjects\\afm-vlm\\data/raw\\biology_chapter_3_3\\biology_chapter_3_3-Scene-104.mp4\u001B[0m\n",
      "\u001B[32m2024-06-17 10:41:47.346\u001B[0m | \u001B[1mINFO    \u001B[0m | \u001B[36msrc.video_preprocessing.scene_detection.scene_detect\u001B[0m:\u001B[36mdetect_scenes\u001B[0m:\u001B[36m35\u001B[0m - \u001B[1mRunning scene_detection:\u001B[0m\n",
      "\u001B[32m2024-06-17 10:41:48.153\u001B[0m | \u001B[1mINFO    \u001B[0m | \u001B[36msrc.video_preprocessing.scene_detection.scene_detect\u001B[0m:\u001B[36mdetect_scenes\u001B[0m:\u001B[36m29\u001B[0m - \u001B[1mFound file\u001B[0m\n",
      "\u001B[32m2024-06-17 10:41:48.153\u001B[0m | \u001B[1mINFO    \u001B[0m | \u001B[36msrc.video_preprocessing.scene_detection.scene_detect\u001B[0m:\u001B[36mdetect_scenes\u001B[0m:\u001B[36m33\u001B[0m - \u001B[1mName:biology_chapter_3_3-Scene-105.mp4,dirname:C:\\Users\\baatout\\PycharmProjects\\afm-vlm\\data/raw\\biology_chapter_3_3\\biology_chapter_3_3-Scene-105.mp4\u001B[0m\n",
      "\u001B[32m2024-06-17 10:41:48.153\u001B[0m | \u001B[1mINFO    \u001B[0m | \u001B[36msrc.video_preprocessing.scene_detection.scene_detect\u001B[0m:\u001B[36mdetect_scenes\u001B[0m:\u001B[36m35\u001B[0m - \u001B[1mRunning scene_detection:\u001B[0m\n",
      "\u001B[32m2024-06-17 10:41:48.959\u001B[0m | \u001B[1mINFO    \u001B[0m | \u001B[36msrc.video_preprocessing.scene_detection.scene_detect\u001B[0m:\u001B[36mdetect_scenes\u001B[0m:\u001B[36m29\u001B[0m - \u001B[1mFound file\u001B[0m\n",
      "\u001B[32m2024-06-17 10:41:48.959\u001B[0m | \u001B[1mINFO    \u001B[0m | \u001B[36msrc.video_preprocessing.scene_detection.scene_detect\u001B[0m:\u001B[36mdetect_scenes\u001B[0m:\u001B[36m33\u001B[0m - \u001B[1mName:biology_chapter_3_3-Scene-106.mp4,dirname:C:\\Users\\baatout\\PycharmProjects\\afm-vlm\\data/raw\\biology_chapter_3_3\\biology_chapter_3_3-Scene-106.mp4\u001B[0m\n",
      "\u001B[32m2024-06-17 10:41:48.959\u001B[0m | \u001B[1mINFO    \u001B[0m | \u001B[36msrc.video_preprocessing.scene_detection.scene_detect\u001B[0m:\u001B[36mdetect_scenes\u001B[0m:\u001B[36m35\u001B[0m - \u001B[1mRunning scene_detection:\u001B[0m\n",
      "\u001B[32m2024-06-17 10:41:49.775\u001B[0m | \u001B[1mINFO    \u001B[0m | \u001B[36msrc.video_preprocessing.scene_detection.scene_detect\u001B[0m:\u001B[36mdetect_scenes\u001B[0m:\u001B[36m29\u001B[0m - \u001B[1mFound file\u001B[0m\n",
      "\u001B[32m2024-06-17 10:41:49.791\u001B[0m | \u001B[1mINFO    \u001B[0m | \u001B[36msrc.video_preprocessing.scene_detection.scene_detect\u001B[0m:\u001B[36mdetect_scenes\u001B[0m:\u001B[36m33\u001B[0m - \u001B[1mName:biology_chapter_3_3-Scene-107.mp4,dirname:C:\\Users\\baatout\\PycharmProjects\\afm-vlm\\data/raw\\biology_chapter_3_3\\biology_chapter_3_3-Scene-107.mp4\u001B[0m\n",
      "\u001B[32m2024-06-17 10:41:49.791\u001B[0m | \u001B[1mINFO    \u001B[0m | \u001B[36msrc.video_preprocessing.scene_detection.scene_detect\u001B[0m:\u001B[36mdetect_scenes\u001B[0m:\u001B[36m35\u001B[0m - \u001B[1mRunning scene_detection:\u001B[0m\n",
      "\u001B[32m2024-06-17 10:41:52.074\u001B[0m | \u001B[1mINFO    \u001B[0m | \u001B[36msrc.video_preprocessing.scene_detection.scene_detect\u001B[0m:\u001B[36mdetect_scenes\u001B[0m:\u001B[36m29\u001B[0m - \u001B[1mFound file\u001B[0m\n",
      "\u001B[32m2024-06-17 10:41:52.074\u001B[0m | \u001B[1mINFO    \u001B[0m | \u001B[36msrc.video_preprocessing.scene_detection.scene_detect\u001B[0m:\u001B[36mdetect_scenes\u001B[0m:\u001B[36m33\u001B[0m - \u001B[1mName:biology_chapter_3_3-Scene-108.mp4,dirname:C:\\Users\\baatout\\PycharmProjects\\afm-vlm\\data/raw\\biology_chapter_3_3\\biology_chapter_3_3-Scene-108.mp4\u001B[0m\n",
      "\u001B[32m2024-06-17 10:41:52.074\u001B[0m | \u001B[1mINFO    \u001B[0m | \u001B[36msrc.video_preprocessing.scene_detection.scene_detect\u001B[0m:\u001B[36mdetect_scenes\u001B[0m:\u001B[36m35\u001B[0m - \u001B[1mRunning scene_detection:\u001B[0m\n",
      "\u001B[32m2024-06-17 10:41:53.084\u001B[0m | \u001B[1mINFO    \u001B[0m | \u001B[36msrc.video_preprocessing.scene_detection.scene_detect\u001B[0m:\u001B[36mdetect_scenes\u001B[0m:\u001B[36m29\u001B[0m - \u001B[1mFound file\u001B[0m\n",
      "\u001B[32m2024-06-17 10:41:53.084\u001B[0m | \u001B[1mINFO    \u001B[0m | \u001B[36msrc.video_preprocessing.scene_detection.scene_detect\u001B[0m:\u001B[36mdetect_scenes\u001B[0m:\u001B[36m33\u001B[0m - \u001B[1mName:biology_chapter_3_3-Scene-109.mp4,dirname:C:\\Users\\baatout\\PycharmProjects\\afm-vlm\\data/raw\\biology_chapter_3_3\\biology_chapter_3_3-Scene-109.mp4\u001B[0m\n",
      "\u001B[32m2024-06-17 10:41:53.084\u001B[0m | \u001B[1mINFO    \u001B[0m | \u001B[36msrc.video_preprocessing.scene_detection.scene_detect\u001B[0m:\u001B[36mdetect_scenes\u001B[0m:\u001B[36m35\u001B[0m - \u001B[1mRunning scene_detection:\u001B[0m\n"
     ]
    }
   ],
   "execution_count": 5
  },
  {
   "cell_type": "code",
   "metadata": {
    "ExecuteTime": {
     "end_time": "2024-06-17T08:43:22.576364Z",
     "start_time": "2024-06-17T08:41:53.940840Z"
    }
   },
   "source": [
    "# Extract the audio per detected scene\n",
    "extract_and_store_audio(\n",
    "    os.path.join(data_path, \"scene_snippets\"),\n",
    "    os.path.join(data_path, \"audio_chunks\"),\n",
    ")"
   ],
   "outputs": [
    {
     "name": "stderr",
     "output_type": "stream",
     "text": [
      "  0%|          | 0/109 [00:00<?, ?it/s]"
     ]
    },
    {
     "name": "stdout",
     "output_type": "stream",
     "text": [
      "MoviePy - Writing audio in C:\\Users\\baatout\\PycharmProjects\\afm-vlm\\data/raw\\biology_chapter_3_3\\audio_chunks\\biology_chapter_3_3-Scene-001.wav\n"
     ]
    },
    {
     "name": "stderr",
     "output_type": "stream",
     "text": [
      "\n",
      "chunk:   0%|          | 0/113 [00:00<?, ?it/s, now=None]\u001B[A\n",
      "chunk:  11%|█         | 12/113 [00:00<00:00, 109.17it/s, now=None]\u001B[A\n",
      "  0%|          | 0/109 [00:00<?, ?it/s]                           \u001B[A\u001B[32m2024-06-17 10:41:54.644\u001B[0m | \u001B[1mINFO    \u001B[0m | \u001B[36msrc.video_preprocessing.download_videos.download_utils\u001B[0m:\u001B[36mextract_and_store_audio\u001B[0m:\u001B[36m287\u001B[0m - \u001B[1mAudio extracted and saved as C:\\Users\\baatout\\PycharmProjects\\afm-vlm\\data/raw\\biology_chapter_3_3\\audio_chunks\\biology_chapter_3_3-Scene-001.wav\u001B[0m\n",
      "  1%|          | 1/109 [00:00<01:16,  1.42it/s]"
     ]
    },
    {
     "name": "stdout",
     "output_type": "stream",
     "text": [
      "MoviePy - Done.\n"
     ]
    },
    {
     "name": "stderr",
     "output_type": "stream",
     "text": [
      "  1%|          | 1/109 [00:01<01:16,  1.42it/s]"
     ]
    },
    {
     "name": "stdout",
     "output_type": "stream",
     "text": [
      "MoviePy - Writing audio in C:\\Users\\baatout\\PycharmProjects\\afm-vlm\\data/raw\\biology_chapter_3_3\\audio_chunks\\biology_chapter_3_3-Scene-002.wav\n"
     ]
    },
    {
     "name": "stderr",
     "output_type": "stream",
     "text": [
      "\n",
      "chunk:   0%|          | 0/3387 [00:00<?, ?it/s, now=None]\u001B[A\n",
      "chunk:   1%|          | 29/3387 [00:00<00:12, 265.21it/s, now=None]\u001B[A\n",
      "chunk:  17%|█▋        | 561/3387 [00:00<00:00, 3114.38it/s, now=None]\u001B[A\n",
      "chunk:  33%|███▎      | 1111/3387 [00:00<00:00, 4003.89it/s, now=None]\u001B[A\n",
      "chunk:  48%|████▊     | 1623/3387 [00:00<00:00, 4261.22it/s, now=None]\u001B[A\n",
      "chunk:  65%|██████▍   | 2193/3387 [00:00<00:00, 4551.53it/s, now=None]\u001B[A\n",
      "chunk:  81%|████████▏ | 2752/3387 [00:00<00:00, 4722.63it/s, now=None]\u001B[A\n",
      "chunk:  96%|█████████▋| 3264/3387 [00:00<00:00, 4702.79it/s, now=None]\u001B[A\n",
      "  1%|          | 1/109 [00:02<01:16,  1.42it/s]                       \u001B[A\u001B[32m2024-06-17 10:41:55.971\u001B[0m | \u001B[1mINFO    \u001B[0m | \u001B[36msrc.video_preprocessing.download_videos.download_utils\u001B[0m:\u001B[36mextract_and_store_audio\u001B[0m:\u001B[36m287\u001B[0m - \u001B[1mAudio extracted and saved as C:\\Users\\baatout\\PycharmProjects\\afm-vlm\\data/raw\\biology_chapter_3_3\\audio_chunks\\biology_chapter_3_3-Scene-002.wav\u001B[0m\n",
      "  2%|▏         | 2/109 [00:02<01:54,  1.07s/it]"
     ]
    },
    {
     "name": "stdout",
     "output_type": "stream",
     "text": [
      "MoviePy - Done.\n"
     ]
    },
    {
     "name": "stderr",
     "output_type": "stream",
     "text": [
      "  2%|▏         | 2/109 [00:02<01:54,  1.07s/it]"
     ]
    },
    {
     "name": "stdout",
     "output_type": "stream",
     "text": [
      "MoviePy - Writing audio in C:\\Users\\baatout\\PycharmProjects\\afm-vlm\\data/raw\\biology_chapter_3_3\\audio_chunks\\biology_chapter_3_3-Scene-003.wav\n"
     ]
    },
    {
     "name": "stderr",
     "output_type": "stream",
     "text": [
      "\n",
      "chunk:   0%|          | 0/23 [00:00<?, ?it/s, now=None]\u001B[A\n",
      "  2%|▏         | 2/109 [00:02<01:54,  1.07s/it]        \u001B[A\u001B[32m2024-06-17 10:41:56.604\u001B[0m | \u001B[1mINFO    \u001B[0m | \u001B[36msrc.video_preprocessing.download_videos.download_utils\u001B[0m:\u001B[36mextract_and_store_audio\u001B[0m:\u001B[36m287\u001B[0m - \u001B[1mAudio extracted and saved as C:\\Users\\baatout\\PycharmProjects\\afm-vlm\\data/raw\\biology_chapter_3_3\\audio_chunks\\biology_chapter_3_3-Scene-003.wav\u001B[0m\n",
      "  3%|▎         | 3/109 [00:02<01:32,  1.15it/s]"
     ]
    },
    {
     "name": "stdout",
     "output_type": "stream",
     "text": [
      "MoviePy - Done.\n"
     ]
    },
    {
     "name": "stderr",
     "output_type": "stream",
     "text": [
      "  3%|▎         | 3/109 [00:03<01:32,  1.15it/s]"
     ]
    },
    {
     "name": "stdout",
     "output_type": "stream",
     "text": [
      "MoviePy - Writing audio in C:\\Users\\baatout\\PycharmProjects\\afm-vlm\\data/raw\\biology_chapter_3_3\\audio_chunks\\biology_chapter_3_3-Scene-004.wav\n"
     ]
    },
    {
     "name": "stderr",
     "output_type": "stream",
     "text": [
      "\n",
      "chunk:   0%|          | 0/294 [00:00<?, ?it/s, now=None]\u001B[A\n",
      "chunk:  52%|█████▏    | 153/294 [00:00<00:00, 1527.52it/s, now=None]\u001B[A\n",
      "  3%|▎         | 3/109 [00:03<01:32,  1.15it/s]                     \u001B[A\u001B[32m2024-06-17 10:41:57.287\u001B[0m | \u001B[1mINFO    \u001B[0m | \u001B[36msrc.video_preprocessing.download_videos.download_utils\u001B[0m:\u001B[36mextract_and_store_audio\u001B[0m:\u001B[36m287\u001B[0m - \u001B[1mAudio extracted and saved as C:\\Users\\baatout\\PycharmProjects\\afm-vlm\\data/raw\\biology_chapter_3_3\\audio_chunks\\biology_chapter_3_3-Scene-004.wav\u001B[0m\n",
      "  4%|▎         | 4/109 [00:03<01:23,  1.26it/s]"
     ]
    },
    {
     "name": "stdout",
     "output_type": "stream",
     "text": [
      "MoviePy - Done.\n"
     ]
    },
    {
     "name": "stderr",
     "output_type": "stream",
     "text": [
      "  4%|▎         | 4/109 [00:03<01:23,  1.26it/s]"
     ]
    },
    {
     "name": "stdout",
     "output_type": "stream",
     "text": [
      "MoviePy - Writing audio in C:\\Users\\baatout\\PycharmProjects\\afm-vlm\\data/raw\\biology_chapter_3_3\\audio_chunks\\biology_chapter_3_3-Scene-005.wav\n"
     ]
    },
    {
     "name": "stderr",
     "output_type": "stream",
     "text": [
      "\n",
      "chunk:   0%|          | 0/23 [00:00<?, ?it/s, now=None]\u001B[A\n",
      "  4%|▎         | 4/109 [00:03<01:23,  1.26it/s]        \u001B[A\u001B[32m2024-06-17 10:41:57.886\u001B[0m | \u001B[1mINFO    \u001B[0m | \u001B[36msrc.video_preprocessing.download_videos.download_utils\u001B[0m:\u001B[36mextract_and_store_audio\u001B[0m:\u001B[36m287\u001B[0m - \u001B[1mAudio extracted and saved as C:\\Users\\baatout\\PycharmProjects\\afm-vlm\\data/raw\\biology_chapter_3_3\\audio_chunks\\biology_chapter_3_3-Scene-005.wav\u001B[0m\n",
      "  5%|▍         | 5/109 [00:03<01:15,  1.38it/s]"
     ]
    },
    {
     "name": "stdout",
     "output_type": "stream",
     "text": [
      "MoviePy - Done.\n"
     ]
    },
    {
     "name": "stderr",
     "output_type": "stream",
     "text": [
      "  5%|▍         | 5/109 [00:04<01:15,  1.38it/s]"
     ]
    },
    {
     "name": "stdout",
     "output_type": "stream",
     "text": [
      "MoviePy - Writing audio in C:\\Users\\baatout\\PycharmProjects\\afm-vlm\\data/raw\\biology_chapter_3_3\\audio_chunks\\biology_chapter_3_3-Scene-006.wav\n"
     ]
    },
    {
     "name": "stderr",
     "output_type": "stream",
     "text": [
      "\n",
      "chunk:   0%|          | 0/279 [00:00<?, ?it/s, now=None]\u001B[A\n",
      "chunk:  24%|██▎       | 66/279 [00:00<00:00, 600.71it/s, now=None]\u001B[A\n",
      "  5%|▍         | 5/109 [00:04<01:15,  1.38it/s]                   \u001B[A\u001B[32m2024-06-17 10:41:58.536\u001B[0m | \u001B[1mINFO    \u001B[0m | \u001B[36msrc.video_preprocessing.download_videos.download_utils\u001B[0m:\u001B[36mextract_and_store_audio\u001B[0m:\u001B[36m287\u001B[0m - \u001B[1mAudio extracted and saved as C:\\Users\\baatout\\PycharmProjects\\afm-vlm\\data/raw\\biology_chapter_3_3\\audio_chunks\\biology_chapter_3_3-Scene-006.wav\u001B[0m\n",
      "  6%|▌         | 6/109 [00:04<01:12,  1.43it/s]"
     ]
    },
    {
     "name": "stdout",
     "output_type": "stream",
     "text": [
      "MoviePy - Done.\n"
     ]
    },
    {
     "name": "stderr",
     "output_type": "stream",
     "text": [
      "  6%|▌         | 6/109 [00:05<01:12,  1.43it/s]"
     ]
    },
    {
     "name": "stdout",
     "output_type": "stream",
     "text": [
      "MoviePy - Writing audio in C:\\Users\\baatout\\PycharmProjects\\afm-vlm\\data/raw\\biology_chapter_3_3\\audio_chunks\\biology_chapter_3_3-Scene-007.wav\n"
     ]
    },
    {
     "name": "stderr",
     "output_type": "stream",
     "text": [
      "\n",
      "chunk:   0%|          | 0/60 [00:00<?, ?it/s, now=None]\u001B[A\n",
      "  6%|▌         | 6/109 [00:05<01:12,  1.43it/s]        \u001B[A\u001B[32m2024-06-17 10:41:59.270\u001B[0m | \u001B[1mINFO    \u001B[0m | \u001B[36msrc.video_preprocessing.download_videos.download_utils\u001B[0m:\u001B[36mextract_and_store_audio\u001B[0m:\u001B[36m287\u001B[0m - \u001B[1mAudio extracted and saved as C:\\Users\\baatout\\PycharmProjects\\afm-vlm\\data/raw\\biology_chapter_3_3\\audio_chunks\\biology_chapter_3_3-Scene-007.wav\u001B[0m\n",
      "  6%|▋         | 7/109 [00:05<01:12,  1.41it/s]"
     ]
    },
    {
     "name": "stdout",
     "output_type": "stream",
     "text": [
      "MoviePy - Done.\n"
     ]
    },
    {
     "name": "stderr",
     "output_type": "stream",
     "text": [
      "  6%|▋         | 7/109 [00:05<01:12,  1.41it/s]"
     ]
    },
    {
     "name": "stdout",
     "output_type": "stream",
     "text": [
      "MoviePy - Writing audio in C:\\Users\\baatout\\PycharmProjects\\afm-vlm\\data/raw\\biology_chapter_3_3\\audio_chunks\\biology_chapter_3_3-Scene-008.wav\n"
     ]
    },
    {
     "name": "stderr",
     "output_type": "stream",
     "text": [
      "\n",
      "chunk:   0%|          | 0/208 [00:00<?, ?it/s, now=None]\u001B[A\n",
      "chunk:   1%|▏         | 3/208 [00:00<00:07, 27.03it/s, now=None]\u001B[A\n",
      "  6%|▋         | 7/109 [00:06<01:12,  1.41it/s]                 \u001B[A\u001B[32m2024-06-17 10:42:00.103\u001B[0m | \u001B[1mINFO    \u001B[0m | \u001B[36msrc.video_preprocessing.download_videos.download_utils\u001B[0m:\u001B[36mextract_and_store_audio\u001B[0m:\u001B[36m287\u001B[0m - \u001B[1mAudio extracted and saved as C:\\Users\\baatout\\PycharmProjects\\afm-vlm\\data/raw\\biology_chapter_3_3\\audio_chunks\\biology_chapter_3_3-Scene-008.wav\u001B[0m\n",
      "  7%|▋         | 8/109 [00:06<01:15,  1.33it/s]"
     ]
    },
    {
     "name": "stdout",
     "output_type": "stream",
     "text": [
      "MoviePy - Done.\n"
     ]
    },
    {
     "name": "stderr",
     "output_type": "stream",
     "text": [
      "  7%|▋         | 8/109 [00:06<01:15,  1.33it/s]"
     ]
    },
    {
     "name": "stdout",
     "output_type": "stream",
     "text": [
      "MoviePy - Writing audio in C:\\Users\\baatout\\PycharmProjects\\afm-vlm\\data/raw\\biology_chapter_3_3\\audio_chunks\\biology_chapter_3_3-Scene-009.wav\n"
     ]
    },
    {
     "name": "stderr",
     "output_type": "stream",
     "text": [
      "\n",
      "chunk:   0%|          | 0/1218 [00:00<?, ?it/s, now=None]\u001B[A\n",
      "chunk:   0%|          | 3/1218 [00:00<00:44, 27.32it/s, now=None]\u001B[A\n",
      "chunk:  42%|████▏     | 510/1218 [00:00<00:00, 2838.83it/s, now=None]\u001B[A\n",
      "chunk:  88%|████████▊ | 1071/1218 [00:00<00:00, 3898.16it/s, now=None]\u001B[A\n",
      "  7%|▋         | 8/109 [00:07<01:15,  1.33it/s]                       \u001B[A\u001B[32m2024-06-17 10:42:01.054\u001B[0m | \u001B[1mINFO    \u001B[0m | \u001B[36msrc.video_preprocessing.download_videos.download_utils\u001B[0m:\u001B[36mextract_and_store_audio\u001B[0m:\u001B[36m287\u001B[0m - \u001B[1mAudio extracted and saved as C:\\Users\\baatout\\PycharmProjects\\afm-vlm\\data/raw\\biology_chapter_3_3\\audio_chunks\\biology_chapter_3_3-Scene-009.wav\u001B[0m\n",
      "  8%|▊         | 9/109 [00:07<01:21,  1.22it/s]"
     ]
    },
    {
     "name": "stdout",
     "output_type": "stream",
     "text": [
      "MoviePy - Done.\n"
     ]
    },
    {
     "name": "stderr",
     "output_type": "stream",
     "text": [
      "  8%|▊         | 9/109 [00:07<01:21,  1.22it/s]"
     ]
    },
    {
     "name": "stdout",
     "output_type": "stream",
     "text": [
      "MoviePy - Writing audio in C:\\Users\\baatout\\PycharmProjects\\afm-vlm\\data/raw\\biology_chapter_3_3\\audio_chunks\\biology_chapter_3_3-Scene-010.wav\n"
     ]
    },
    {
     "name": "stderr",
     "output_type": "stream",
     "text": [
      "\n",
      "chunk:   0%|          | 0/44 [00:00<?, ?it/s, now=None]\u001B[A\n",
      "  8%|▊         | 9/109 [00:07<01:21,  1.22it/s]        \u001B[A\u001B[32m2024-06-17 10:42:01.750\u001B[0m | \u001B[1mINFO    \u001B[0m | \u001B[36msrc.video_preprocessing.download_videos.download_utils\u001B[0m:\u001B[36mextract_and_store_audio\u001B[0m:\u001B[36m287\u001B[0m - \u001B[1mAudio extracted and saved as C:\\Users\\baatout\\PycharmProjects\\afm-vlm\\data/raw\\biology_chapter_3_3\\audio_chunks\\biology_chapter_3_3-Scene-010.wav\u001B[0m\n",
      "  9%|▉         | 10/109 [00:07<01:16,  1.29it/s]"
     ]
    },
    {
     "name": "stdout",
     "output_type": "stream",
     "text": [
      "MoviePy - Done.\n"
     ]
    },
    {
     "name": "stderr",
     "output_type": "stream",
     "text": [
      "  9%|▉         | 10/109 [00:08<01:16,  1.29it/s]"
     ]
    },
    {
     "name": "stdout",
     "output_type": "stream",
     "text": [
      "MoviePy - Writing audio in C:\\Users\\baatout\\PycharmProjects\\afm-vlm\\data/raw\\biology_chapter_3_3\\audio_chunks\\biology_chapter_3_3-Scene-011.wav\n"
     ]
    },
    {
     "name": "stderr",
     "output_type": "stream",
     "text": [
      "\n",
      "chunk:   0%|          | 0/2604 [00:00<?, ?it/s, now=None]\u001B[A\n",
      "chunk:   0%|          | 3/2604 [00:00<01:35, 27.30it/s, now=None]\u001B[A\n",
      "chunk:  21%|██        | 544/2604 [00:00<00:00, 2908.52it/s, now=None]\u001B[A\n",
      "chunk:  43%|████▎     | 1119/2604 [00:00<00:00, 3971.91it/s, now=None]\u001B[A\n",
      "chunk:  65%|██████▍   | 1683/2604 [00:00<00:00, 4431.84it/s, now=None]\u001B[A\n",
      "chunk:  88%|████████▊ | 2295/2604 [00:00<00:00, 4788.00it/s, now=None]\u001B[A\n",
      "  9%|▉         | 10/109 [00:09<01:16,  1.29it/s]                      \u001B[A\u001B[32m2024-06-17 10:42:02.984\u001B[0m | \u001B[1mINFO    \u001B[0m | \u001B[36msrc.video_preprocessing.download_videos.download_utils\u001B[0m:\u001B[36mextract_and_store_audio\u001B[0m:\u001B[36m287\u001B[0m - \u001B[1mAudio extracted and saved as C:\\Users\\baatout\\PycharmProjects\\afm-vlm\\data/raw\\biology_chapter_3_3\\audio_chunks\\biology_chapter_3_3-Scene-011.wav\u001B[0m\n",
      " 10%|█         | 11/109 [00:09<01:29,  1.09it/s]"
     ]
    },
    {
     "name": "stdout",
     "output_type": "stream",
     "text": [
      "MoviePy - Done.\n"
     ]
    },
    {
     "name": "stderr",
     "output_type": "stream",
     "text": [
      " 10%|█         | 11/109 [00:09<01:29,  1.09it/s]"
     ]
    },
    {
     "name": "stdout",
     "output_type": "stream",
     "text": [
      "MoviePy - Writing audio in C:\\Users\\baatout\\PycharmProjects\\afm-vlm\\data/raw\\biology_chapter_3_3\\audio_chunks\\biology_chapter_3_3-Scene-012.wav\n"
     ]
    },
    {
     "name": "stderr",
     "output_type": "stream",
     "text": [
      "\n",
      "chunk:   0%|          | 0/106 [00:00<?, ?it/s, now=None]\u001B[A\n",
      "chunk:  51%|█████     | 54/106 [00:00<00:00, 493.49it/s, now=None]\u001B[A\n",
      " 10%|█         | 11/109 [00:09<01:29,  1.09it/s]                  \u001B[A\u001B[32m2024-06-17 10:42:03.715\u001B[0m | \u001B[1mINFO    \u001B[0m | \u001B[36msrc.video_preprocessing.download_videos.download_utils\u001B[0m:\u001B[36mextract_and_store_audio\u001B[0m:\u001B[36m287\u001B[0m - \u001B[1mAudio extracted and saved as C:\\Users\\baatout\\PycharmProjects\\afm-vlm\\data/raw\\biology_chapter_3_3\\audio_chunks\\biology_chapter_3_3-Scene-012.wav\u001B[0m\n",
      " 11%|█         | 12/109 [00:09<01:23,  1.16it/s]"
     ]
    },
    {
     "name": "stdout",
     "output_type": "stream",
     "text": [
      "MoviePy - Done.\n"
     ]
    },
    {
     "name": "stderr",
     "output_type": "stream",
     "text": [
      " 11%|█         | 12/109 [00:10<01:23,  1.16it/s]"
     ]
    },
    {
     "name": "stdout",
     "output_type": "stream",
     "text": [
      "MoviePy - Writing audio in C:\\Users\\baatout\\PycharmProjects\\afm-vlm\\data/raw\\biology_chapter_3_3\\audio_chunks\\biology_chapter_3_3-Scene-013.wav\n"
     ]
    },
    {
     "name": "stderr",
     "output_type": "stream",
     "text": [
      "\n",
      "chunk:   0%|          | 0/163 [00:00<?, ?it/s, now=None]\u001B[A\n",
      "chunk:  36%|███▌      | 59/163 [00:00<00:00, 563.52it/s, now=None]\u001B[A\n",
      " 11%|█         | 12/109 [00:10<01:23,  1.16it/s]                  \u001B[A\u001B[32m2024-06-17 10:42:04.505\u001B[0m | \u001B[1mINFO    \u001B[0m | \u001B[36msrc.video_preprocessing.download_videos.download_utils\u001B[0m:\u001B[36mextract_and_store_audio\u001B[0m:\u001B[36m287\u001B[0m - \u001B[1mAudio extracted and saved as C:\\Users\\baatout\\PycharmProjects\\afm-vlm\\data/raw\\biology_chapter_3_3\\audio_chunks\\biology_chapter_3_3-Scene-013.wav\u001B[0m\n",
      " 12%|█▏        | 13/109 [00:10<01:20,  1.19it/s]"
     ]
    },
    {
     "name": "stdout",
     "output_type": "stream",
     "text": [
      "MoviePy - Done.\n"
     ]
    },
    {
     "name": "stderr",
     "output_type": "stream",
     "text": [
      " 12%|█▏        | 13/109 [00:11<01:20,  1.19it/s]"
     ]
    },
    {
     "name": "stdout",
     "output_type": "stream",
     "text": [
      "MoviePy - Writing audio in C:\\Users\\baatout\\PycharmProjects\\afm-vlm\\data/raw\\biology_chapter_3_3\\audio_chunks\\biology_chapter_3_3-Scene-014.wav\n"
     ]
    },
    {
     "name": "stderr",
     "output_type": "stream",
     "text": [
      "\n",
      "chunk:   0%|          | 0/398 [00:00<?, ?it/s, now=None]\u001B[A\n",
      "chunk:  11%|█▏        | 45/398 [00:00<00:00, 409.63it/s, now=None]\u001B[A\n",
      " 12%|█▏        | 13/109 [00:11<01:20,  1.19it/s]                  \u001B[A\u001B[32m2024-06-17 10:42:05.314\u001B[0m | \u001B[1mINFO    \u001B[0m | \u001B[36msrc.video_preprocessing.download_videos.download_utils\u001B[0m:\u001B[36mextract_and_store_audio\u001B[0m:\u001B[36m287\u001B[0m - \u001B[1mAudio extracted and saved as C:\\Users\\baatout\\PycharmProjects\\afm-vlm\\data/raw\\biology_chapter_3_3\\audio_chunks\\biology_chapter_3_3-Scene-014.wav\u001B[0m\n",
      " 13%|█▎        | 14/109 [00:11<01:18,  1.20it/s]"
     ]
    },
    {
     "name": "stdout",
     "output_type": "stream",
     "text": [
      "MoviePy - Done.\n"
     ]
    },
    {
     "name": "stderr",
     "output_type": "stream",
     "text": [
      " 13%|█▎        | 14/109 [00:11<01:18,  1.20it/s]"
     ]
    },
    {
     "name": "stdout",
     "output_type": "stream",
     "text": [
      "MoviePy - Writing audio in C:\\Users\\baatout\\PycharmProjects\\afm-vlm\\data/raw\\biology_chapter_3_3\\audio_chunks\\biology_chapter_3_3-Scene-015.wav\n"
     ]
    },
    {
     "name": "stderr",
     "output_type": "stream",
     "text": [
      "\n",
      "chunk:   0%|          | 0/1917 [00:00<?, ?it/s, now=None]\u001B[A\n",
      "chunk:   2%|▏         | 29/1917 [00:00<00:07, 265.37it/s, now=None]\u001B[A\n",
      "chunk:  31%|███       | 588/1917 [00:00<00:00, 3110.60it/s, now=None]\u001B[A\n",
      "chunk:  61%|██████    | 1173/1917 [00:00<00:00, 4123.67it/s, now=None]\u001B[A\n",
      "chunk:  91%|█████████ | 1742/1917 [00:00<00:00, 4542.07it/s, now=None]\u001B[A\n",
      " 13%|█▎        | 14/109 [00:12<01:18,  1.20it/s]                      \u001B[A\u001B[32m2024-06-17 10:42:06.368\u001B[0m | \u001B[1mINFO    \u001B[0m | \u001B[36msrc.video_preprocessing.download_videos.download_utils\u001B[0m:\u001B[36mextract_and_store_audio\u001B[0m:\u001B[36m287\u001B[0m - \u001B[1mAudio extracted and saved as C:\\Users\\baatout\\PycharmProjects\\afm-vlm\\data/raw\\biology_chapter_3_3\\audio_chunks\\biology_chapter_3_3-Scene-015.wav\u001B[0m\n",
      " 14%|█▍        | 15/109 [00:12<01:24,  1.11it/s]"
     ]
    },
    {
     "name": "stdout",
     "output_type": "stream",
     "text": [
      "MoviePy - Done.\n"
     ]
    },
    {
     "name": "stderr",
     "output_type": "stream",
     "text": [
      " 14%|█▍        | 15/109 [00:13<01:24,  1.11it/s]"
     ]
    },
    {
     "name": "stdout",
     "output_type": "stream",
     "text": [
      "MoviePy - Writing audio in C:\\Users\\baatout\\PycharmProjects\\afm-vlm\\data/raw\\biology_chapter_3_3\\audio_chunks\\biology_chapter_3_3-Scene-016.wav\n"
     ]
    },
    {
     "name": "stderr",
     "output_type": "stream",
     "text": [
      "\n",
      "chunk:   0%|          | 0/1055 [00:00<?, ?it/s, now=None]\u001B[A\n",
      "chunk:   9%|▉         | 98/1055 [00:00<00:01, 892.33it/s, now=None]\u001B[A\n",
      "chunk:  60%|██████    | 638/1055 [00:00<00:00, 3260.20it/s, now=None]\u001B[A\n",
      " 14%|█▍        | 15/109 [00:13<01:24,  1.11it/s]                     \u001B[A\u001B[32m2024-06-17 10:42:07.279\u001B[0m | \u001B[1mINFO    \u001B[0m | \u001B[36msrc.video_preprocessing.download_videos.download_utils\u001B[0m:\u001B[36mextract_and_store_audio\u001B[0m:\u001B[36m287\u001B[0m - \u001B[1mAudio extracted and saved as C:\\Users\\baatout\\PycharmProjects\\afm-vlm\\data/raw\\biology_chapter_3_3\\audio_chunks\\biology_chapter_3_3-Scene-016.wav\u001B[0m\n",
      " 15%|█▍        | 16/109 [00:13<01:23,  1.11it/s]"
     ]
    },
    {
     "name": "stdout",
     "output_type": "stream",
     "text": [
      "MoviePy - Done.\n"
     ]
    },
    {
     "name": "stderr",
     "output_type": "stream",
     "text": [
      " 15%|█▍        | 16/109 [00:13<01:23,  1.11it/s]"
     ]
    },
    {
     "name": "stdout",
     "output_type": "stream",
     "text": [
      "MoviePy - Writing audio in C:\\Users\\baatout\\PycharmProjects\\afm-vlm\\data/raw\\biology_chapter_3_3\\audio_chunks\\biology_chapter_3_3-Scene-017.wav\n"
     ]
    },
    {
     "name": "stderr",
     "output_type": "stream",
     "text": [
      "\n",
      "chunk:   0%|          | 0/82 [00:00<?, ?it/s, now=None]\u001B[A\n",
      " 15%|█▍        | 16/109 [00:14<01:23,  1.11it/s]       \u001B[A\u001B[32m2024-06-17 10:42:08.162\u001B[0m | \u001B[1mINFO    \u001B[0m | \u001B[36msrc.video_preprocessing.download_videos.download_utils\u001B[0m:\u001B[36mextract_and_store_audio\u001B[0m:\u001B[36m287\u001B[0m - \u001B[1mAudio extracted and saved as C:\\Users\\baatout\\PycharmProjects\\afm-vlm\\data/raw\\biology_chapter_3_3\\audio_chunks\\biology_chapter_3_3-Scene-017.wav\u001B[0m\n",
      " 16%|█▌        | 17/109 [00:14<01:22,  1.12it/s]"
     ]
    },
    {
     "name": "stdout",
     "output_type": "stream",
     "text": [
      "MoviePy - Done.\n"
     ]
    },
    {
     "name": "stderr",
     "output_type": "stream",
     "text": [
      " 16%|█▌        | 17/109 [00:14<01:22,  1.12it/s]"
     ]
    },
    {
     "name": "stdout",
     "output_type": "stream",
     "text": [
      "MoviePy - Writing audio in C:\\Users\\baatout\\PycharmProjects\\afm-vlm\\data/raw\\biology_chapter_3_3\\audio_chunks\\biology_chapter_3_3-Scene-018.wav\n"
     ]
    },
    {
     "name": "stderr",
     "output_type": "stream",
     "text": [
      "\n",
      "chunk:   0%|          | 0/1425 [00:00<?, ?it/s, now=None]\u001B[A\n",
      "chunk:   2%|▏         | 29/1425 [00:00<00:04, 287.19it/s, now=None]\u001B[A\n",
      "chunk:  39%|███▉      | 561/1425 [00:00<00:00, 3176.91it/s, now=None]\u001B[A\n",
      "chunk:  79%|███████▉  | 1126/1425 [00:00<00:00, 4111.02it/s, now=None]\u001B[A\n",
      " 16%|█▌        | 17/109 [00:15<01:22,  1.12it/s]                      \u001B[A\u001B[32m2024-06-17 10:42:09.053\u001B[0m | \u001B[1mINFO    \u001B[0m | \u001B[36msrc.video_preprocessing.download_videos.download_utils\u001B[0m:\u001B[36mextract_and_store_audio\u001B[0m:\u001B[36m287\u001B[0m - \u001B[1mAudio extracted and saved as C:\\Users\\baatout\\PycharmProjects\\afm-vlm\\data/raw\\biology_chapter_3_3\\audio_chunks\\biology_chapter_3_3-Scene-018.wav\u001B[0m\n",
      " 17%|█▋        | 18/109 [00:15<01:21,  1.12it/s]"
     ]
    },
    {
     "name": "stdout",
     "output_type": "stream",
     "text": [
      "MoviePy - Done.\n"
     ]
    },
    {
     "name": "stderr",
     "output_type": "stream",
     "text": [
      " 17%|█▋        | 18/109 [00:15<01:21,  1.12it/s]"
     ]
    },
    {
     "name": "stdout",
     "output_type": "stream",
     "text": [
      "MoviePy - Writing audio in C:\\Users\\baatout\\PycharmProjects\\afm-vlm\\data/raw\\biology_chapter_3_3\\audio_chunks\\biology_chapter_3_3-Scene-019.wav\n"
     ]
    },
    {
     "name": "stderr",
     "output_type": "stream",
     "text": [
      "\n",
      "chunk:   0%|          | 0/44 [00:00<?, ?it/s, now=None]\u001B[A\n",
      " 17%|█▋        | 18/109 [00:15<01:21,  1.12it/s]       \u001B[A\u001B[32m2024-06-17 10:42:09.676\u001B[0m | \u001B[1mINFO    \u001B[0m | \u001B[36msrc.video_preprocessing.download_videos.download_utils\u001B[0m:\u001B[36mextract_and_store_audio\u001B[0m:\u001B[36m287\u001B[0m - \u001B[1mAudio extracted and saved as C:\\Users\\baatout\\PycharmProjects\\afm-vlm\\data/raw\\biology_chapter_3_3\\audio_chunks\\biology_chapter_3_3-Scene-019.wav\u001B[0m\n",
      " 17%|█▋        | 19/109 [00:15<01:13,  1.23it/s]"
     ]
    },
    {
     "name": "stdout",
     "output_type": "stream",
     "text": [
      "MoviePy - Done.\n"
     ]
    },
    {
     "name": "stderr",
     "output_type": "stream",
     "text": [
      " 17%|█▋        | 19/109 [00:16<01:13,  1.23it/s]"
     ]
    },
    {
     "name": "stdout",
     "output_type": "stream",
     "text": [
      "MoviePy - Writing audio in C:\\Users\\baatout\\PycharmProjects\\afm-vlm\\data/raw\\biology_chapter_3_3\\audio_chunks\\biology_chapter_3_3-Scene-020.wav\n"
     ]
    },
    {
     "name": "stderr",
     "output_type": "stream",
     "text": [
      "\n",
      "chunk:   0%|          | 0/864 [00:00<?, ?it/s, now=None]\u001B[A\n",
      "chunk:  12%|█▎        | 108/864 [00:00<00:00, 981.44it/s, now=None]\u001B[A\n",
      "chunk:  77%|███████▋  | 663/864 [00:00<00:00, 3375.76it/s, now=None]\u001B[A\n",
      " 17%|█▋        | 19/109 [00:16<01:13,  1.23it/s]                    \u001B[A\u001B[32m2024-06-17 10:42:10.467\u001B[0m | \u001B[1mINFO    \u001B[0m | \u001B[36msrc.video_preprocessing.download_videos.download_utils\u001B[0m:\u001B[36mextract_and_store_audio\u001B[0m:\u001B[36m287\u001B[0m - \u001B[1mAudio extracted and saved as C:\\Users\\baatout\\PycharmProjects\\afm-vlm\\data/raw\\biology_chapter_3_3\\audio_chunks\\biology_chapter_3_3-Scene-020.wav\u001B[0m\n",
      " 18%|█▊        | 20/109 [00:16<01:11,  1.24it/s]"
     ]
    },
    {
     "name": "stdout",
     "output_type": "stream",
     "text": [
      "MoviePy - Done.\n"
     ]
    },
    {
     "name": "stderr",
     "output_type": "stream",
     "text": [
      " 18%|█▊        | 20/109 [00:16<01:11,  1.24it/s]"
     ]
    },
    {
     "name": "stdout",
     "output_type": "stream",
     "text": [
      "MoviePy - Writing audio in C:\\Users\\baatout\\PycharmProjects\\afm-vlm\\data/raw\\biology_chapter_3_3\\audio_chunks\\biology_chapter_3_3-Scene-021.wav\n"
     ]
    },
    {
     "name": "stderr",
     "output_type": "stream",
     "text": [
      "\n",
      "chunk:   0%|          | 0/40 [00:00<?, ?it/s, now=None]\u001B[A\n",
      " 18%|█▊        | 20/109 [00:17<01:11,  1.24it/s]       \u001B[A\u001B[32m2024-06-17 10:42:11.060\u001B[0m | \u001B[1mINFO    \u001B[0m | \u001B[36msrc.video_preprocessing.download_videos.download_utils\u001B[0m:\u001B[36mextract_and_store_audio\u001B[0m:\u001B[36m287\u001B[0m - \u001B[1mAudio extracted and saved as C:\\Users\\baatout\\PycharmProjects\\afm-vlm\\data/raw\\biology_chapter_3_3\\audio_chunks\\biology_chapter_3_3-Scene-021.wav\u001B[0m\n",
      " 19%|█▉        | 21/109 [00:17<01:05,  1.35it/s]"
     ]
    },
    {
     "name": "stdout",
     "output_type": "stream",
     "text": [
      "MoviePy - Done.\n"
     ]
    },
    {
     "name": "stderr",
     "output_type": "stream",
     "text": [
      " 19%|█▉        | 21/109 [00:17<01:05,  1.35it/s]"
     ]
    },
    {
     "name": "stdout",
     "output_type": "stream",
     "text": [
      "MoviePy - Writing audio in C:\\Users\\baatout\\PycharmProjects\\afm-vlm\\data/raw\\biology_chapter_3_3\\audio_chunks\\biology_chapter_3_3-Scene-022.wav\n"
     ]
    },
    {
     "name": "stderr",
     "output_type": "stream",
     "text": [
      "\n",
      "chunk:   0%|          | 0/744 [00:00<?, ?it/s, now=None]\u001B[A\n",
      "chunk:  11%|█▏        | 84/744 [00:00<00:00, 766.11it/s, now=None]\u001B[A\n",
      "chunk:  88%|████████▊ | 653/744 [00:00<00:00, 3373.01it/s, now=None]\u001B[A\n",
      " 19%|█▉        | 21/109 [00:17<01:05,  1.35it/s]                    \u001B[A\u001B[32m2024-06-17 10:42:11.827\u001B[0m | \u001B[1mINFO    \u001B[0m | \u001B[36msrc.video_preprocessing.download_videos.download_utils\u001B[0m:\u001B[36mextract_and_store_audio\u001B[0m:\u001B[36m287\u001B[0m - \u001B[1mAudio extracted and saved as C:\\Users\\baatout\\PycharmProjects\\afm-vlm\\data/raw\\biology_chapter_3_3\\audio_chunks\\biology_chapter_3_3-Scene-022.wav\u001B[0m\n",
      " 20%|██        | 22/109 [00:17<01:05,  1.33it/s]"
     ]
    },
    {
     "name": "stdout",
     "output_type": "stream",
     "text": [
      "MoviePy - Done.\n"
     ]
    },
    {
     "name": "stderr",
     "output_type": "stream",
     "text": [
      " 20%|██        | 22/109 [00:18<01:05,  1.33it/s]"
     ]
    },
    {
     "name": "stdout",
     "output_type": "stream",
     "text": [
      "MoviePy - Writing audio in C:\\Users\\baatout\\PycharmProjects\\afm-vlm\\data/raw\\biology_chapter_3_3\\audio_chunks\\biology_chapter_3_3-Scene-023.wav\n"
     ]
    },
    {
     "name": "stderr",
     "output_type": "stream",
     "text": [
      "\n",
      "chunk:   0%|          | 0/1112 [00:00<?, ?it/s, now=None]\u001B[A\n",
      "chunk:   7%|▋         | 76/1112 [00:00<00:01, 691.53it/s, now=None]\u001B[A\n",
      "chunk:  57%|█████▋    | 639/1112 [00:00<00:00, 3300.17it/s, now=None]\u001B[A\n",
      " 20%|██        | 22/109 [00:18<01:05,  1.33it/s]                     \u001B[A\u001B[32m2024-06-17 10:42:12.664\u001B[0m | \u001B[1mINFO    \u001B[0m | \u001B[36msrc.video_preprocessing.download_videos.download_utils\u001B[0m:\u001B[36mextract_and_store_audio\u001B[0m:\u001B[36m287\u001B[0m - \u001B[1mAudio extracted and saved as C:\\Users\\baatout\\PycharmProjects\\afm-vlm\\data/raw\\biology_chapter_3_3\\audio_chunks\\biology_chapter_3_3-Scene-023.wav\u001B[0m\n",
      " 21%|██        | 23/109 [00:18<01:06,  1.29it/s]"
     ]
    },
    {
     "name": "stdout",
     "output_type": "stream",
     "text": [
      "MoviePy - Done.\n"
     ]
    },
    {
     "name": "stderr",
     "output_type": "stream",
     "text": [
      " 21%|██        | 23/109 [00:19<01:06,  1.29it/s]"
     ]
    },
    {
     "name": "stdout",
     "output_type": "stream",
     "text": [
      "MoviePy - Writing audio in C:\\Users\\baatout\\PycharmProjects\\afm-vlm\\data/raw\\biology_chapter_3_3\\audio_chunks\\biology_chapter_3_3-Scene-024.wav\n"
     ]
    },
    {
     "name": "stderr",
     "output_type": "stream",
     "text": [
      "\n",
      "chunk:   0%|          | 0/1471 [00:00<?, ?it/s, now=None]\u001B[A\n",
      "chunk:   8%|▊         | 115/1471 [00:00<00:01, 1148.22it/s, now=None]\u001B[A\n",
      "chunk:  28%|██▊       | 408/1471 [00:00<00:00, 2168.02it/s, now=None]\u001B[A\n",
      "chunk:  58%|█████▊    | 856/1471 [00:00<00:00, 3079.67it/s, now=None]\u001B[A\n",
      "chunk:  87%|████████▋ | 1275/1471 [00:00<00:00, 3305.95it/s, now=None]\u001B[A\n",
      " 21%|██        | 23/109 [00:19<01:06,  1.29it/s]                      \u001B[A\u001B[32m2024-06-17 10:42:13.746\u001B[0m | \u001B[1mINFO    \u001B[0m | \u001B[36msrc.video_preprocessing.download_videos.download_utils\u001B[0m:\u001B[36mextract_and_store_audio\u001B[0m:\u001B[36m287\u001B[0m - \u001B[1mAudio extracted and saved as C:\\Users\\baatout\\PycharmProjects\\afm-vlm\\data/raw\\biology_chapter_3_3\\audio_chunks\\biology_chapter_3_3-Scene-024.wav\u001B[0m\n",
      " 22%|██▏       | 24/109 [00:19<01:13,  1.15it/s]"
     ]
    },
    {
     "name": "stdout",
     "output_type": "stream",
     "text": [
      "MoviePy - Done.\n"
     ]
    },
    {
     "name": "stderr",
     "output_type": "stream",
     "text": [
      " 22%|██▏       | 24/109 [00:20<01:13,  1.15it/s]"
     ]
    },
    {
     "name": "stdout",
     "output_type": "stream",
     "text": [
      "MoviePy - Writing audio in C:\\Users\\baatout\\PycharmProjects\\afm-vlm\\data/raw\\biology_chapter_3_3\\audio_chunks\\biology_chapter_3_3-Scene-025.wav\n"
     ]
    },
    {
     "name": "stderr",
     "output_type": "stream",
     "text": [
      "\n",
      "chunk:   0%|          | 0/62 [00:00<?, ?it/s, now=None]\u001B[A\n",
      " 22%|██▏       | 24/109 [00:20<01:13,  1.15it/s]       \u001B[A\u001B[32m2024-06-17 10:42:14.410\u001B[0m | \u001B[1mINFO    \u001B[0m | \u001B[36msrc.video_preprocessing.download_videos.download_utils\u001B[0m:\u001B[36mextract_and_store_audio\u001B[0m:\u001B[36m287\u001B[0m - \u001B[1mAudio extracted and saved as C:\\Users\\baatout\\PycharmProjects\\afm-vlm\\data/raw\\biology_chapter_3_3\\audio_chunks\\biology_chapter_3_3-Scene-025.wav\u001B[0m\n",
      " 23%|██▎       | 25/109 [00:20<01:07,  1.24it/s]"
     ]
    },
    {
     "name": "stdout",
     "output_type": "stream",
     "text": [
      "MoviePy - Done.\n"
     ]
    },
    {
     "name": "stderr",
     "output_type": "stream",
     "text": [
      " 23%|██▎       | 25/109 [00:21<01:07,  1.24it/s]"
     ]
    },
    {
     "name": "stdout",
     "output_type": "stream",
     "text": [
      "MoviePy - Writing audio in C:\\Users\\baatout\\PycharmProjects\\afm-vlm\\data/raw\\biology_chapter_3_3\\audio_chunks\\biology_chapter_3_3-Scene-026.wav\n"
     ]
    },
    {
     "name": "stderr",
     "output_type": "stream",
     "text": [
      "\n",
      "chunk:   0%|          | 0/153 [00:00<?, ?it/s, now=None]\u001B[A\n",
      "chunk:  67%|██████▋   | 102/153 [00:00<00:00, 921.46it/s, now=None]\u001B[A\n",
      " 23%|██▎       | 25/109 [00:21<01:07,  1.24it/s]                   \u001B[A\u001B[32m2024-06-17 10:42:15.291\u001B[0m | \u001B[1mINFO    \u001B[0m | \u001B[36msrc.video_preprocessing.download_videos.download_utils\u001B[0m:\u001B[36mextract_and_store_audio\u001B[0m:\u001B[36m287\u001B[0m - \u001B[1mAudio extracted and saved as C:\\Users\\baatout\\PycharmProjects\\afm-vlm\\data/raw\\biology_chapter_3_3\\audio_chunks\\biology_chapter_3_3-Scene-026.wav\u001B[0m\n",
      " 24%|██▍       | 26/109 [00:21<01:08,  1.21it/s]"
     ]
    },
    {
     "name": "stdout",
     "output_type": "stream",
     "text": [
      "MoviePy - Done.\n"
     ]
    },
    {
     "name": "stderr",
     "output_type": "stream",
     "text": [
      " 24%|██▍       | 26/109 [00:21<01:08,  1.21it/s]"
     ]
    },
    {
     "name": "stdout",
     "output_type": "stream",
     "text": [
      "MoviePy - Writing audio in C:\\Users\\baatout\\PycharmProjects\\afm-vlm\\data/raw\\biology_chapter_3_3\\audio_chunks\\biology_chapter_3_3-Scene-027.wav\n"
     ]
    },
    {
     "name": "stderr",
     "output_type": "stream",
     "text": [
      "\n",
      "chunk:   0%|          | 0/74 [00:00<?, ?it/s, now=None]\u001B[A\n",
      " 24%|██▍       | 26/109 [00:22<01:08,  1.21it/s]       \u001B[A\u001B[32m2024-06-17 10:42:16.030\u001B[0m | \u001B[1mINFO    \u001B[0m | \u001B[36msrc.video_preprocessing.download_videos.download_utils\u001B[0m:\u001B[36mextract_and_store_audio\u001B[0m:\u001B[36m287\u001B[0m - \u001B[1mAudio extracted and saved as C:\\Users\\baatout\\PycharmProjects\\afm-vlm\\data/raw\\biology_chapter_3_3\\audio_chunks\\biology_chapter_3_3-Scene-027.wav\u001B[0m\n",
      " 25%|██▍       | 27/109 [00:22<01:05,  1.25it/s]"
     ]
    },
    {
     "name": "stdout",
     "output_type": "stream",
     "text": [
      "MoviePy - Done.\n"
     ]
    },
    {
     "name": "stderr",
     "output_type": "stream",
     "text": [
      " 25%|██▍       | 27/109 [00:22<01:05,  1.25it/s]"
     ]
    },
    {
     "name": "stdout",
     "output_type": "stream",
     "text": [
      "MoviePy - Writing audio in C:\\Users\\baatout\\PycharmProjects\\afm-vlm\\data/raw\\biology_chapter_3_3\\audio_chunks\\biology_chapter_3_3-Scene-028.wav\n"
     ]
    },
    {
     "name": "stderr",
     "output_type": "stream",
     "text": [
      "\n",
      "chunk:   0%|          | 0/719 [00:00<?, ?it/s, now=None]\u001B[A\n",
      "chunk:   0%|          | 3/719 [00:00<00:26, 27.32it/s, now=None]\u001B[A\n",
      "chunk:  78%|███████▊  | 561/719 [00:00<00:00, 3000.77it/s, now=None]\u001B[A\n",
      " 25%|██▍       | 27/109 [00:23<01:05,  1.25it/s]                    \u001B[A\u001B[32m2024-06-17 10:42:16.958\u001B[0m | \u001B[1mINFO    \u001B[0m | \u001B[36msrc.video_preprocessing.download_videos.download_utils\u001B[0m:\u001B[36mextract_and_store_audio\u001B[0m:\u001B[36m287\u001B[0m - \u001B[1mAudio extracted and saved as C:\\Users\\baatout\\PycharmProjects\\afm-vlm\\data/raw\\biology_chapter_3_3\\audio_chunks\\biology_chapter_3_3-Scene-028.wav\u001B[0m\n",
      " 26%|██▌       | 28/109 [00:23<01:08,  1.19it/s]"
     ]
    },
    {
     "name": "stdout",
     "output_type": "stream",
     "text": [
      "MoviePy - Done.\n"
     ]
    },
    {
     "name": "stderr",
     "output_type": "stream",
     "text": [
      " 26%|██▌       | 28/109 [00:23<01:08,  1.19it/s]"
     ]
    },
    {
     "name": "stdout",
     "output_type": "stream",
     "text": [
      "MoviePy - Writing audio in C:\\Users\\baatout\\PycharmProjects\\afm-vlm\\data/raw\\biology_chapter_3_3\\audio_chunks\\biology_chapter_3_3-Scene-029.wav\n"
     ]
    },
    {
     "name": "stderr",
     "output_type": "stream",
     "text": [
      "\n",
      "chunk:   0%|          | 0/405 [00:00<?, ?it/s, now=None]\u001B[A\n",
      "chunk:   1%|          | 4/405 [00:00<00:11, 36.41it/s, now=None]\u001B[A\n",
      " 26%|██▌       | 28/109 [00:23<01:08,  1.19it/s]                \u001B[A\u001B[32m2024-06-17 10:42:17.747\u001B[0m | \u001B[1mINFO    \u001B[0m | \u001B[36msrc.video_preprocessing.download_videos.download_utils\u001B[0m:\u001B[36mextract_and_store_audio\u001B[0m:\u001B[36m287\u001B[0m - \u001B[1mAudio extracted and saved as C:\\Users\\baatout\\PycharmProjects\\afm-vlm\\data/raw\\biology_chapter_3_3\\audio_chunks\\biology_chapter_3_3-Scene-029.wav\u001B[0m\n",
      " 27%|██▋       | 29/109 [00:23<01:05,  1.21it/s]"
     ]
    },
    {
     "name": "stdout",
     "output_type": "stream",
     "text": [
      "MoviePy - Done.\n"
     ]
    },
    {
     "name": "stderr",
     "output_type": "stream",
     "text": [
      " 27%|██▋       | 29/109 [00:24<01:05,  1.21it/s]"
     ]
    },
    {
     "name": "stdout",
     "output_type": "stream",
     "text": [
      "MoviePy - Writing audio in C:\\Users\\baatout\\PycharmProjects\\afm-vlm\\data/raw\\biology_chapter_3_3\\audio_chunks\\biology_chapter_3_3-Scene-030.wav\n"
     ]
    },
    {
     "name": "stderr",
     "output_type": "stream",
     "text": [
      "\n",
      "chunk:   0%|          | 0/1992 [00:00<?, ?it/s, now=None]\u001B[A\n",
      "chunk:   1%|▏         | 29/1992 [00:00<00:07, 264.16it/s, now=None]\u001B[A\n",
      "chunk:  31%|███       | 612/1992 [00:00<00:00, 3232.02it/s, now=None]\u001B[A\n",
      "chunk:  59%|█████▉    | 1173/1992 [00:00<00:00, 4079.18it/s, now=None]\u001B[A\n",
      "chunk:  82%|████████▏ | 1632/1992 [00:00<00:00, 4266.66it/s, now=None]\u001B[A\n",
      " 27%|██▋       | 29/109 [00:24<01:05,  1.21it/s]                      \u001B[A\u001B[32m2024-06-17 10:42:18.890\u001B[0m | \u001B[1mINFO    \u001B[0m | \u001B[36msrc.video_preprocessing.download_videos.download_utils\u001B[0m:\u001B[36mextract_and_store_audio\u001B[0m:\u001B[36m287\u001B[0m - \u001B[1mAudio extracted and saved as C:\\Users\\baatout\\PycharmProjects\\afm-vlm\\data/raw\\biology_chapter_3_3\\audio_chunks\\biology_chapter_3_3-Scene-030.wav\u001B[0m\n",
      " 28%|██▊       | 30/109 [00:24<01:12,  1.09it/s]"
     ]
    },
    {
     "name": "stdout",
     "output_type": "stream",
     "text": [
      "MoviePy - Done.\n"
     ]
    },
    {
     "name": "stderr",
     "output_type": "stream",
     "text": [
      " 28%|██▊       | 30/109 [00:25<01:12,  1.09it/s]"
     ]
    },
    {
     "name": "stdout",
     "output_type": "stream",
     "text": [
      "MoviePy - Writing audio in C:\\Users\\baatout\\PycharmProjects\\afm-vlm\\data/raw\\biology_chapter_3_3\\audio_chunks\\biology_chapter_3_3-Scene-031.wav\n"
     ]
    },
    {
     "name": "stderr",
     "output_type": "stream",
     "text": [
      "\n",
      "chunk:   0%|          | 0/470 [00:00<?, ?it/s, now=None]\u001B[A\n",
      "chunk:  14%|█▍        | 66/470 [00:00<00:00, 601.67it/s, now=None]\u001B[A\n",
      " 28%|██▊       | 30/109 [00:25<01:12,  1.09it/s]                  \u001B[A\u001B[32m2024-06-17 10:42:19.663\u001B[0m | \u001B[1mINFO    \u001B[0m | \u001B[36msrc.video_preprocessing.download_videos.download_utils\u001B[0m:\u001B[36mextract_and_store_audio\u001B[0m:\u001B[36m287\u001B[0m - \u001B[1mAudio extracted and saved as C:\\Users\\baatout\\PycharmProjects\\afm-vlm\\data/raw\\biology_chapter_3_3\\audio_chunks\\biology_chapter_3_3-Scene-031.wav\u001B[0m\n",
      " 28%|██▊       | 31/109 [00:25<01:08,  1.14it/s]"
     ]
    },
    {
     "name": "stdout",
     "output_type": "stream",
     "text": [
      "MoviePy - Done.\n"
     ]
    },
    {
     "name": "stderr",
     "output_type": "stream",
     "text": [
      " 28%|██▊       | 31/109 [00:26<01:08,  1.14it/s]"
     ]
    },
    {
     "name": "stdout",
     "output_type": "stream",
     "text": [
      "MoviePy - Writing audio in C:\\Users\\baatout\\PycharmProjects\\afm-vlm\\data/raw\\biology_chapter_3_3\\audio_chunks\\biology_chapter_3_3-Scene-032.wav\n"
     ]
    },
    {
     "name": "stderr",
     "output_type": "stream",
     "text": [
      "\n",
      "chunk:   0%|          | 0/29 [00:00<?, ?it/s, now=None]\u001B[A\n",
      " 28%|██▊       | 31/109 [00:26<01:08,  1.14it/s]       \u001B[A\u001B[32m2024-06-17 10:42:20.386\u001B[0m | \u001B[1mINFO    \u001B[0m | \u001B[36msrc.video_preprocessing.download_videos.download_utils\u001B[0m:\u001B[36mextract_and_store_audio\u001B[0m:\u001B[36m287\u001B[0m - \u001B[1mAudio extracted and saved as C:\\Users\\baatout\\PycharmProjects\\afm-vlm\\data/raw\\biology_chapter_3_3\\audio_chunks\\biology_chapter_3_3-Scene-032.wav\u001B[0m\n"
     ]
    },
    {
     "name": "stdout",
     "output_type": "stream",
     "text": [
      "MoviePy - Done.\n"
     ]
    },
    {
     "name": "stderr",
     "output_type": "stream",
     "text": [
      " 29%|██▉       | 32/109 [00:27<01:06,  1.16it/s]"
     ]
    },
    {
     "name": "stdout",
     "output_type": "stream",
     "text": [
      "MoviePy - Writing audio in C:\\Users\\baatout\\PycharmProjects\\afm-vlm\\data/raw\\biology_chapter_3_3\\audio_chunks\\biology_chapter_3_3-Scene-033.wav\n"
     ]
    },
    {
     "name": "stderr",
     "output_type": "stream",
     "text": [
      "\n",
      "chunk:   0%|          | 0/877 [00:00<?, ?it/s, now=None]\u001B[A\n",
      "chunk:  17%|█▋        | 152/877 [00:00<00:00, 1384.59it/s, now=None]\u001B[A\n",
      "chunk:  76%|███████▌  | 663/877 [00:00<00:00, 3322.67it/s, now=None]\u001B[A\n",
      " 29%|██▉       | 32/109 [00:27<01:06,  1.16it/s]                    \u001B[A\u001B[32m2024-06-17 10:42:21.274\u001B[0m | \u001B[1mINFO    \u001B[0m | \u001B[36msrc.video_preprocessing.download_videos.download_utils\u001B[0m:\u001B[36mextract_and_store_audio\u001B[0m:\u001B[36m287\u001B[0m - \u001B[1mAudio extracted and saved as C:\\Users\\baatout\\PycharmProjects\\afm-vlm\\data/raw\\biology_chapter_3_3\\audio_chunks\\biology_chapter_3_3-Scene-033.wav\u001B[0m\n",
      " 30%|███       | 33/109 [00:27<01:03,  1.19it/s]"
     ]
    },
    {
     "name": "stdout",
     "output_type": "stream",
     "text": [
      "MoviePy - Done.\n"
     ]
    },
    {
     "name": "stderr",
     "output_type": "stream",
     "text": [
      " 30%|███       | 33/109 [00:27<01:03,  1.19it/s]"
     ]
    },
    {
     "name": "stdout",
     "output_type": "stream",
     "text": [
      "MoviePy - Writing audio in C:\\Users\\baatout\\PycharmProjects\\afm-vlm\\data/raw\\biology_chapter_3_3\\audio_chunks\\biology_chapter_3_3-Scene-034.wav\n"
     ]
    },
    {
     "name": "stderr",
     "output_type": "stream",
     "text": [
      "\n",
      "chunk:   0%|          | 0/1512 [00:00<?, ?it/s, now=None]\u001B[A\n",
      "chunk:   7%|▋         | 109/1512 [00:00<00:01, 979.74it/s, now=None]\u001B[A\n",
      "chunk:  40%|████      | 612/1512 [00:00<00:00, 3077.92it/s, now=None]\u001B[A\n",
      "chunk:  74%|███████▍  | 1122/1512 [00:00<00:00, 3790.14it/s, now=None]\u001B[A\n",
      " 30%|███       | 33/109 [00:28<01:03,  1.19it/s]                      \u001B[A\u001B[32m2024-06-17 10:42:22.171\u001B[0m | \u001B[1mINFO    \u001B[0m | \u001B[36msrc.video_preprocessing.download_videos.download_utils\u001B[0m:\u001B[36mextract_and_store_audio\u001B[0m:\u001B[36m287\u001B[0m - \u001B[1mAudio extracted and saved as C:\\Users\\baatout\\PycharmProjects\\afm-vlm\\data/raw\\biology_chapter_3_3\\audio_chunks\\biology_chapter_3_3-Scene-034.wav\u001B[0m\n",
      " 31%|███       | 34/109 [00:28<01:04,  1.17it/s]"
     ]
    },
    {
     "name": "stdout",
     "output_type": "stream",
     "text": [
      "MoviePy - Done.\n"
     ]
    },
    {
     "name": "stderr",
     "output_type": "stream",
     "text": [
      " 31%|███       | 34/109 [00:28<01:04,  1.17it/s]"
     ]
    },
    {
     "name": "stdout",
     "output_type": "stream",
     "text": [
      "MoviePy - Writing audio in C:\\Users\\baatout\\PycharmProjects\\afm-vlm\\data/raw\\biology_chapter_3_3\\audio_chunks\\biology_chapter_3_3-Scene-035.wav\n"
     ]
    },
    {
     "name": "stderr",
     "output_type": "stream",
     "text": [
      "\n",
      "chunk:   0%|          | 0/705 [00:00<?, ?it/s, now=None]\u001B[A\n",
      "chunk:  22%|██▏       | 153/705 [00:00<00:00, 1393.60it/s, now=None]\u001B[A\n",
      "chunk:  94%|█████████▍| 663/705 [00:00<00:00, 3394.56it/s, now=None]\u001B[A\n",
      " 31%|███       | 34/109 [00:28<01:04,  1.17it/s]                    \u001B[A\u001B[32m2024-06-17 10:42:22.897\u001B[0m | \u001B[1mINFO    \u001B[0m | \u001B[36msrc.video_preprocessing.download_videos.download_utils\u001B[0m:\u001B[36mextract_and_store_audio\u001B[0m:\u001B[36m287\u001B[0m - \u001B[1mAudio extracted and saved as C:\\Users\\baatout\\PycharmProjects\\afm-vlm\\data/raw\\biology_chapter_3_3\\audio_chunks\\biology_chapter_3_3-Scene-035.wav\u001B[0m\n",
      " 32%|███▏      | 35/109 [00:28<01:00,  1.22it/s]"
     ]
    },
    {
     "name": "stdout",
     "output_type": "stream",
     "text": [
      "MoviePy - Done.\n"
     ]
    },
    {
     "name": "stderr",
     "output_type": "stream",
     "text": [
      " 32%|███▏      | 35/109 [00:29<01:00,  1.22it/s]"
     ]
    },
    {
     "name": "stdout",
     "output_type": "stream",
     "text": [
      "MoviePy - Writing audio in C:\\Users\\baatout\\PycharmProjects\\afm-vlm\\data/raw\\biology_chapter_3_3\\audio_chunks\\biology_chapter_3_3-Scene-036.wav\n"
     ]
    },
    {
     "name": "stderr",
     "output_type": "stream",
     "text": [
      "\n",
      "chunk:   0%|          | 0/1664 [00:00<?, ?it/s, now=None]\u001B[A\n",
      "chunk:   6%|▌         | 100/1664 [00:00<00:01, 997.28it/s, now=None]\u001B[A\n",
      "chunk:  32%|███▏      | 528/1664 [00:00<00:00, 2920.62it/s, now=None]\u001B[A\n",
      "chunk:  61%|██████▏   | 1020/1664 [00:00<00:00, 3826.97it/s, now=None]\u001B[A\n",
      "chunk:  90%|█████████ | 1503/1664 [00:00<00:00, 4219.53it/s, now=None]\u001B[A\n",
      " 32%|███▏      | 35/109 [00:29<01:00,  1.22it/s]                      \u001B[A\u001B[32m2024-06-17 10:42:23.828\u001B[0m | \u001B[1mINFO    \u001B[0m | \u001B[36msrc.video_preprocessing.download_videos.download_utils\u001B[0m:\u001B[36mextract_and_store_audio\u001B[0m:\u001B[36m287\u001B[0m - \u001B[1mAudio extracted and saved as C:\\Users\\baatout\\PycharmProjects\\afm-vlm\\data/raw\\biology_chapter_3_3\\audio_chunks\\biology_chapter_3_3-Scene-036.wav\u001B[0m\n",
      " 33%|███▎      | 36/109 [00:29<01:02,  1.18it/s]"
     ]
    },
    {
     "name": "stdout",
     "output_type": "stream",
     "text": [
      "MoviePy - Done.\n"
     ]
    },
    {
     "name": "stderr",
     "output_type": "stream",
     "text": [
      " 33%|███▎      | 36/109 [00:30<01:02,  1.18it/s]"
     ]
    },
    {
     "name": "stdout",
     "output_type": "stream",
     "text": [
      "MoviePy - Writing audio in C:\\Users\\baatout\\PycharmProjects\\afm-vlm\\data/raw\\biology_chapter_3_3\\audio_chunks\\biology_chapter_3_3-Scene-037.wav\n"
     ]
    },
    {
     "name": "stderr",
     "output_type": "stream",
     "text": [
      "\n",
      "chunk:   0%|          | 0/181 [00:00<?, ?it/s, now=None]\u001B[A\n",
      "chunk:  74%|███████▍  | 134/181 [00:00<00:00, 1328.03it/s, now=None]\u001B[A\n",
      " 33%|███▎      | 36/109 [00:30<01:02,  1.18it/s]                    \u001B[A\u001B[32m2024-06-17 10:42:24.437\u001B[0m | \u001B[1mINFO    \u001B[0m | \u001B[36msrc.video_preprocessing.download_videos.download_utils\u001B[0m:\u001B[36mextract_and_store_audio\u001B[0m:\u001B[36m287\u001B[0m - \u001B[1mAudio extracted and saved as C:\\Users\\baatout\\PycharmProjects\\afm-vlm\\data/raw\\biology_chapter_3_3\\audio_chunks\\biology_chapter_3_3-Scene-037.wav\u001B[0m\n",
      " 34%|███▍      | 37/109 [00:30<00:56,  1.28it/s]"
     ]
    },
    {
     "name": "stdout",
     "output_type": "stream",
     "text": [
      "MoviePy - Done.\n"
     ]
    },
    {
     "name": "stderr",
     "output_type": "stream",
     "text": [
      " 34%|███▍      | 37/109 [00:30<00:56,  1.28it/s]"
     ]
    },
    {
     "name": "stdout",
     "output_type": "stream",
     "text": [
      "MoviePy - Writing audio in C:\\Users\\baatout\\PycharmProjects\\afm-vlm\\data/raw\\biology_chapter_3_3\\audio_chunks\\biology_chapter_3_3-Scene-038.wav\n"
     ]
    },
    {
     "name": "stderr",
     "output_type": "stream",
     "text": [
      "\n",
      "chunk:   0%|          | 0/494 [00:00<?, ?it/s, now=None]\u001B[A\n",
      "chunk:  21%|██        | 102/494 [00:00<00:00, 933.85it/s, now=None]\u001B[A\n",
      " 34%|███▍      | 37/109 [00:31<00:56,  1.28it/s]                   \u001B[A\u001B[32m2024-06-17 10:42:25.135\u001B[0m | \u001B[1mINFO    \u001B[0m | \u001B[36msrc.video_preprocessing.download_videos.download_utils\u001B[0m:\u001B[36mextract_and_store_audio\u001B[0m:\u001B[36m287\u001B[0m - \u001B[1mAudio extracted and saved as C:\\Users\\baatout\\PycharmProjects\\afm-vlm\\data/raw\\biology_chapter_3_3\\audio_chunks\\biology_chapter_3_3-Scene-038.wav\u001B[0m\n",
      " 35%|███▍      | 38/109 [00:31<00:53,  1.33it/s]"
     ]
    },
    {
     "name": "stdout",
     "output_type": "stream",
     "text": [
      "MoviePy - Done.\n"
     ]
    },
    {
     "name": "stderr",
     "output_type": "stream",
     "text": [
      " 35%|███▍      | 38/109 [00:31<00:53,  1.33it/s]"
     ]
    },
    {
     "name": "stdout",
     "output_type": "stream",
     "text": [
      "MoviePy - Writing audio in C:\\Users\\baatout\\PycharmProjects\\afm-vlm\\data/raw\\biology_chapter_3_3\\audio_chunks\\biology_chapter_3_3-Scene-039.wav\n"
     ]
    },
    {
     "name": "stderr",
     "output_type": "stream",
     "text": [
      "\n",
      "chunk:   0%|          | 0/423 [00:00<?, ?it/s, now=None]\u001B[A\n",
      "chunk:  36%|███▌      | 153/423 [00:00<00:00, 1399.85it/s, now=None]\u001B[A\n",
      " 35%|███▍      | 38/109 [00:31<00:53,  1.33it/s]                    \u001B[A\u001B[32m2024-06-17 10:42:25.770\u001B[0m | \u001B[1mINFO    \u001B[0m | \u001B[36msrc.video_preprocessing.download_videos.download_utils\u001B[0m:\u001B[36mextract_and_store_audio\u001B[0m:\u001B[36m287\u001B[0m - \u001B[1mAudio extracted and saved as C:\\Users\\baatout\\PycharmProjects\\afm-vlm\\data/raw\\biology_chapter_3_3\\audio_chunks\\biology_chapter_3_3-Scene-039.wav\u001B[0m\n",
      " 36%|███▌      | 39/109 [00:31<00:50,  1.39it/s]"
     ]
    },
    {
     "name": "stdout",
     "output_type": "stream",
     "text": [
      "MoviePy - Done.\n"
     ]
    },
    {
     "name": "stderr",
     "output_type": "stream",
     "text": [
      " 36%|███▌      | 39/109 [00:32<00:50,  1.39it/s]"
     ]
    },
    {
     "name": "stdout",
     "output_type": "stream",
     "text": [
      "MoviePy - Writing audio in C:\\Users\\baatout\\PycharmProjects\\afm-vlm\\data/raw\\biology_chapter_3_3\\audio_chunks\\biology_chapter_3_3-Scene-040.wav\n"
     ]
    },
    {
     "name": "stderr",
     "output_type": "stream",
     "text": [
      "\n",
      "chunk:   0%|          | 0/2123 [00:00<?, ?it/s, now=None]\u001B[A\n",
      "chunk:   5%|▍         | 102/2123 [00:00<00:02, 928.94it/s, now=None]\u001B[A\n",
      "chunk:  28%|██▊       | 591/2123 [00:00<00:00, 3002.58it/s, now=None]\u001B[A\n",
      "chunk:  52%|█████▏    | 1097/2123 [00:00<00:00, 3817.48it/s, now=None]\u001B[A\n",
      "chunk:  72%|███████▏  | 1530/2123 [00:00<00:00, 3976.11it/s, now=None]\u001B[A\n",
      "chunk:  96%|█████████▋| 2045/2123 [00:00<00:00, 4307.60it/s, now=None]\u001B[A\n",
      " 36%|███▌      | 39/109 [00:32<00:50,  1.39it/s]                      \u001B[A\u001B[32m2024-06-17 10:42:26.814\u001B[0m | \u001B[1mINFO    \u001B[0m | \u001B[36msrc.video_preprocessing.download_videos.download_utils\u001B[0m:\u001B[36mextract_and_store_audio\u001B[0m:\u001B[36m287\u001B[0m - \u001B[1mAudio extracted and saved as C:\\Users\\baatout\\PycharmProjects\\afm-vlm\\data/raw\\biology_chapter_3_3\\audio_chunks\\biology_chapter_3_3-Scene-040.wav\u001B[0m\n",
      " 37%|███▋      | 40/109 [00:32<00:56,  1.23it/s]"
     ]
    },
    {
     "name": "stdout",
     "output_type": "stream",
     "text": [
      "MoviePy - Done.\n"
     ]
    },
    {
     "name": "stderr",
     "output_type": "stream",
     "text": [
      " 37%|███▋      | 40/109 [00:33<00:56,  1.23it/s]"
     ]
    },
    {
     "name": "stdout",
     "output_type": "stream",
     "text": [
      "MoviePy - Writing audio in C:\\Users\\baatout\\PycharmProjects\\afm-vlm\\data/raw\\biology_chapter_3_3\\audio_chunks\\biology_chapter_3_3-Scene-041.wav\n"
     ]
    },
    {
     "name": "stderr",
     "output_type": "stream",
     "text": [
      "\n",
      "chunk:   0%|          | 0/270 [00:00<?, ?it/s, now=None]\u001B[A\n",
      "chunk:  51%|█████     | 137/270 [00:00<00:00, 1247.82it/s, now=None]\u001B[A\n",
      " 37%|███▋      | 40/109 [00:33<00:56,  1.23it/s]                    \u001B[A\u001B[32m2024-06-17 10:42:27.418\u001B[0m | \u001B[1mINFO    \u001B[0m | \u001B[36msrc.video_preprocessing.download_videos.download_utils\u001B[0m:\u001B[36mextract_and_store_audio\u001B[0m:\u001B[36m287\u001B[0m - \u001B[1mAudio extracted and saved as C:\\Users\\baatout\\PycharmProjects\\afm-vlm\\data/raw\\biology_chapter_3_3\\audio_chunks\\biology_chapter_3_3-Scene-041.wav\u001B[0m\n",
      " 38%|███▊      | 41/109 [00:33<00:51,  1.33it/s]"
     ]
    },
    {
     "name": "stdout",
     "output_type": "stream",
     "text": [
      "MoviePy - Done.\n"
     ]
    },
    {
     "name": "stderr",
     "output_type": "stream",
     "text": [
      " 38%|███▊      | 41/109 [00:34<00:51,  1.33it/s]"
     ]
    },
    {
     "name": "stdout",
     "output_type": "stream",
     "text": [
      "MoviePy - Writing audio in C:\\Users\\baatout\\PycharmProjects\\afm-vlm\\data/raw\\biology_chapter_3_3\\audio_chunks\\biology_chapter_3_3-Scene-042.wav\n"
     ]
    },
    {
     "name": "stderr",
     "output_type": "stream",
     "text": [
      "\n",
      "chunk:   0%|          | 0/490 [00:00<?, ?it/s, now=None]\u001B[A\n",
      "chunk:  20%|██        | 99/490 [00:00<00:00, 950.36it/s, now=None]\u001B[A\n",
      "chunk:  94%|█████████▎| 459/490 [00:00<00:00, 2478.71it/s, now=None]\u001B[A\n",
      " 38%|███▊      | 41/109 [00:34<00:51,  1.33it/s]                    \u001B[A\u001B[32m2024-06-17 10:42:28.212\u001B[0m | \u001B[1mINFO    \u001B[0m | \u001B[36msrc.video_preprocessing.download_videos.download_utils\u001B[0m:\u001B[36mextract_and_store_audio\u001B[0m:\u001B[36m287\u001B[0m - \u001B[1mAudio extracted and saved as C:\\Users\\baatout\\PycharmProjects\\afm-vlm\\data/raw\\biology_chapter_3_3\\audio_chunks\\biology_chapter_3_3-Scene-042.wav\u001B[0m\n",
      " 39%|███▊      | 42/109 [00:34<00:51,  1.31it/s]"
     ]
    },
    {
     "name": "stdout",
     "output_type": "stream",
     "text": [
      "MoviePy - Done.\n"
     ]
    },
    {
     "name": "stderr",
     "output_type": "stream",
     "text": [
      " 39%|███▊      | 42/109 [00:34<00:51,  1.31it/s]"
     ]
    },
    {
     "name": "stdout",
     "output_type": "stream",
     "text": [
      "MoviePy - Writing audio in C:\\Users\\baatout\\PycharmProjects\\afm-vlm\\data/raw\\biology_chapter_3_3\\audio_chunks\\biology_chapter_3_3-Scene-043.wav\n"
     ]
    },
    {
     "name": "stderr",
     "output_type": "stream",
     "text": [
      "\n",
      "chunk:   0%|          | 0/71 [00:00<?, ?it/s, now=None]\u001B[A\n",
      " 39%|███▊      | 42/109 [00:34<00:51,  1.31it/s]       \u001B[A\u001B[32m2024-06-17 10:42:28.845\u001B[0m | \u001B[1mINFO    \u001B[0m | \u001B[36msrc.video_preprocessing.download_videos.download_utils\u001B[0m:\u001B[36mextract_and_store_audio\u001B[0m:\u001B[36m287\u001B[0m - \u001B[1mAudio extracted and saved as C:\\Users\\baatout\\PycharmProjects\\afm-vlm\\data/raw\\biology_chapter_3_3\\audio_chunks\\biology_chapter_3_3-Scene-043.wav\u001B[0m\n",
      " 39%|███▉      | 43/109 [00:34<00:47,  1.38it/s]"
     ]
    },
    {
     "name": "stdout",
     "output_type": "stream",
     "text": [
      "MoviePy - Done.\n"
     ]
    },
    {
     "name": "stderr",
     "output_type": "stream",
     "text": [
      " 39%|███▉      | 43/109 [00:35<00:47,  1.38it/s]"
     ]
    },
    {
     "name": "stdout",
     "output_type": "stream",
     "text": [
      "MoviePy - Writing audio in C:\\Users\\baatout\\PycharmProjects\\afm-vlm\\data/raw\\biology_chapter_3_3\\audio_chunks\\biology_chapter_3_3-Scene-044.wav\n"
     ]
    },
    {
     "name": "stderr",
     "output_type": "stream",
     "text": [
      "\n",
      "chunk:   0%|          | 0/2209 [00:00<?, ?it/s, now=None]\u001B[A\n",
      "chunk:   1%|▏         | 29/2209 [00:00<00:08, 263.69it/s, now=None]\u001B[A\n",
      "chunk:  28%|██▊       | 619/2209 [00:00<00:00, 3267.79it/s, now=None]\u001B[A\n",
      "chunk:  55%|█████▌    | 1220/2209 [00:00<00:00, 4274.90it/s, now=None]\u001B[A\n",
      "chunk:  81%|████████  | 1785/2209 [00:00<00:00, 4618.42it/s, now=None]\u001B[A\n",
      " 39%|███▉      | 43/109 [00:36<00:47,  1.38it/s]                      \u001B[A\u001B[32m2024-06-17 10:42:29.961\u001B[0m | \u001B[1mINFO    \u001B[0m | \u001B[36msrc.video_preprocessing.download_videos.download_utils\u001B[0m:\u001B[36mextract_and_store_audio\u001B[0m:\u001B[36m287\u001B[0m - \u001B[1mAudio extracted and saved as C:\\Users\\baatout\\PycharmProjects\\afm-vlm\\data/raw\\biology_chapter_3_3\\audio_chunks\\biology_chapter_3_3-Scene-044.wav\u001B[0m\n",
      " 40%|████      | 44/109 [00:36<00:54,  1.19it/s]"
     ]
    },
    {
     "name": "stdout",
     "output_type": "stream",
     "text": [
      "MoviePy - Done.\n"
     ]
    },
    {
     "name": "stderr",
     "output_type": "stream",
     "text": [
      " 40%|████      | 44/109 [00:36<00:54,  1.19it/s]"
     ]
    },
    {
     "name": "stdout",
     "output_type": "stream",
     "text": [
      "MoviePy - Writing audio in C:\\Users\\baatout\\PycharmProjects\\afm-vlm\\data/raw\\biology_chapter_3_3\\audio_chunks\\biology_chapter_3_3-Scene-045.wav\n"
     ]
    },
    {
     "name": "stderr",
     "output_type": "stream",
     "text": [
      "\n",
      "chunk:   0%|          | 0/1041 [00:00<?, ?it/s, now=None]\u001B[A\n",
      "chunk:   3%|▎         | 30/1041 [00:00<00:03, 273.88it/s, now=None]\u001B[A\n",
      "chunk:  59%|█████▉    | 618/1041 [00:00<00:00, 3266.17it/s, now=None]\u001B[A\n",
      " 40%|████      | 44/109 [00:36<00:54,  1.19it/s]                     \u001B[A\u001B[32m2024-06-17 10:42:30.870\u001B[0m | \u001B[1mINFO    \u001B[0m | \u001B[36msrc.video_preprocessing.download_videos.download_utils\u001B[0m:\u001B[36mextract_and_store_audio\u001B[0m:\u001B[36m287\u001B[0m - \u001B[1mAudio extracted and saved as C:\\Users\\baatout\\PycharmProjects\\afm-vlm\\data/raw\\biology_chapter_3_3\\audio_chunks\\biology_chapter_3_3-Scene-045.wav\u001B[0m\n",
      " 41%|████▏     | 45/109 [00:36<00:55,  1.16it/s]"
     ]
    },
    {
     "name": "stdout",
     "output_type": "stream",
     "text": [
      "MoviePy - Done.\n"
     ]
    },
    {
     "name": "stderr",
     "output_type": "stream",
     "text": [
      " 41%|████▏     | 45/109 [00:37<00:55,  1.16it/s]"
     ]
    },
    {
     "name": "stdout",
     "output_type": "stream",
     "text": [
      "MoviePy - Writing audio in C:\\Users\\baatout\\PycharmProjects\\afm-vlm\\data/raw\\biology_chapter_3_3\\audio_chunks\\biology_chapter_3_3-Scene-046.wav\n"
     ]
    },
    {
     "name": "stderr",
     "output_type": "stream",
     "text": [
      "\n",
      "chunk:   0%|          | 0/573 [00:00<?, ?it/s, now=None]\u001B[A\n",
      "chunk:   1%|          | 3/573 [00:00<00:20, 27.19it/s, now=None]\u001B[A\n",
      "chunk:  87%|████████▋ | 496/573 [00:00<00:00, 2592.23it/s, now=None]\u001B[A\n",
      " 41%|████▏     | 45/109 [00:37<00:55,  1.16it/s]                    \u001B[A\u001B[32m2024-06-17 10:42:31.704\u001B[0m | \u001B[1mINFO    \u001B[0m | \u001B[36msrc.video_preprocessing.download_videos.download_utils\u001B[0m:\u001B[36mextract_and_store_audio\u001B[0m:\u001B[36m287\u001B[0m - \u001B[1mAudio extracted and saved as C:\\Users\\baatout\\PycharmProjects\\afm-vlm\\data/raw\\biology_chapter_3_3\\audio_chunks\\biology_chapter_3_3-Scene-046.wav\u001B[0m\n",
      " 42%|████▏     | 46/109 [00:37<00:53,  1.17it/s]"
     ]
    },
    {
     "name": "stdout",
     "output_type": "stream",
     "text": [
      "MoviePy - Done.\n"
     ]
    },
    {
     "name": "stderr",
     "output_type": "stream",
     "text": [
      " 42%|████▏     | 46/109 [00:38<00:53,  1.17it/s]"
     ]
    },
    {
     "name": "stdout",
     "output_type": "stream",
     "text": [
      "MoviePy - Writing audio in C:\\Users\\baatout\\PycharmProjects\\afm-vlm\\data/raw\\biology_chapter_3_3\\audio_chunks\\biology_chapter_3_3-Scene-047.wav\n"
     ]
    },
    {
     "name": "stderr",
     "output_type": "stream",
     "text": [
      "\n",
      "chunk:   0%|          | 0/733 [00:00<?, ?it/s, now=None]\u001B[A\n",
      "chunk:   0%|          | 3/733 [00:00<00:26, 27.32it/s, now=None]\u001B[A\n",
      "chunk:   5%|▍         | 36/733 [00:00<00:04, 149.98it/s, now=None]\u001B[A\n",
      "chunk:  77%|███████▋  | 561/733 [00:00<00:00, 2031.31it/s, now=None]\u001B[A\n",
      " 42%|████▏     | 46/109 [00:38<00:53,  1.17it/s]                    \u001B[A\u001B[32m2024-06-17 10:42:32.687\u001B[0m | \u001B[1mINFO    \u001B[0m | \u001B[36msrc.video_preprocessing.download_videos.download_utils\u001B[0m:\u001B[36mextract_and_store_audio\u001B[0m:\u001B[36m287\u001B[0m - \u001B[1mAudio extracted and saved as C:\\Users\\baatout\\PycharmProjects\\afm-vlm\\data/raw\\biology_chapter_3_3\\audio_chunks\\biology_chapter_3_3-Scene-047.wav\u001B[0m\n",
      " 43%|████▎     | 47/109 [00:38<00:55,  1.12it/s]"
     ]
    },
    {
     "name": "stdout",
     "output_type": "stream",
     "text": [
      "MoviePy - Done.\n"
     ]
    },
    {
     "name": "stderr",
     "output_type": "stream",
     "text": [
      " 43%|████▎     | 47/109 [00:39<00:55,  1.12it/s]"
     ]
    },
    {
     "name": "stdout",
     "output_type": "stream",
     "text": [
      "MoviePy - Writing audio in C:\\Users\\baatout\\PycharmProjects\\afm-vlm\\data/raw\\biology_chapter_3_3\\audio_chunks\\biology_chapter_3_3-Scene-048.wav\n"
     ]
    },
    {
     "name": "stderr",
     "output_type": "stream",
     "text": [
      "\n",
      "chunk:   0%|          | 0/396 [00:00<?, ?it/s, now=None]\u001B[A\n",
      "chunk:  39%|███▊      | 153/396 [00:00<00:00, 1392.46it/s, now=None]\u001B[A\n",
      " 43%|████▎     | 47/109 [00:39<00:55,  1.12it/s]                    \u001B[A\u001B[32m2024-06-17 10:42:33.313\u001B[0m | \u001B[1mINFO    \u001B[0m | \u001B[36msrc.video_preprocessing.download_videos.download_utils\u001B[0m:\u001B[36mextract_and_store_audio\u001B[0m:\u001B[36m287\u001B[0m - \u001B[1mAudio extracted and saved as C:\\Users\\baatout\\PycharmProjects\\afm-vlm\\data/raw\\biology_chapter_3_3\\audio_chunks\\biology_chapter_3_3-Scene-048.wav\u001B[0m\n",
      " 44%|████▍     | 48/109 [00:39<00:49,  1.23it/s]"
     ]
    },
    {
     "name": "stdout",
     "output_type": "stream",
     "text": [
      "MoviePy - Done.\n"
     ]
    },
    {
     "name": "stderr",
     "output_type": "stream",
     "text": [
      " 44%|████▍     | 48/109 [00:39<00:49,  1.23it/s]"
     ]
    },
    {
     "name": "stdout",
     "output_type": "stream",
     "text": [
      "MoviePy - Writing audio in C:\\Users\\baatout\\PycharmProjects\\afm-vlm\\data/raw\\biology_chapter_3_3\\audio_chunks\\biology_chapter_3_3-Scene-049.wav\n"
     ]
    },
    {
     "name": "stderr",
     "output_type": "stream",
     "text": [
      "\n",
      "chunk:   0%|          | 0/1219 [00:00<?, ?it/s, now=None]\u001B[A\n",
      "chunk:   5%|▌         | 63/1219 [00:00<00:01, 628.54it/s, now=None]\u001B[A\n",
      "chunk:  46%|████▌     | 561/1219 [00:00<00:00, 3136.40it/s, now=None]\u001B[A\n",
      "chunk:  88%|████████▊ | 1071/1219 [00:00<00:00, 4010.11it/s, now=None]\u001B[A\n",
      " 44%|████▍     | 48/109 [00:40<00:49,  1.23it/s]                      \u001B[A\u001B[32m2024-06-17 10:42:34.143\u001B[0m | \u001B[1mINFO    \u001B[0m | \u001B[36msrc.video_preprocessing.download_videos.download_utils\u001B[0m:\u001B[36mextract_and_store_audio\u001B[0m:\u001B[36m287\u001B[0m - \u001B[1mAudio extracted and saved as C:\\Users\\baatout\\PycharmProjects\\afm-vlm\\data/raw\\biology_chapter_3_3\\audio_chunks\\biology_chapter_3_3-Scene-049.wav\u001B[0m\n",
      " 45%|████▍     | 49/109 [00:40<00:49,  1.22it/s]"
     ]
    },
    {
     "name": "stdout",
     "output_type": "stream",
     "text": [
      "MoviePy - Done.\n"
     ]
    },
    {
     "name": "stderr",
     "output_type": "stream",
     "text": [
      " 45%|████▍     | 49/109 [00:40<00:49,  1.22it/s]"
     ]
    },
    {
     "name": "stdout",
     "output_type": "stream",
     "text": [
      "MoviePy - Writing audio in C:\\Users\\baatout\\PycharmProjects\\afm-vlm\\data/raw\\biology_chapter_3_3\\audio_chunks\\biology_chapter_3_3-Scene-050.wav\n"
     ]
    },
    {
     "name": "stderr",
     "output_type": "stream",
     "text": [
      "\n",
      "chunk:   0%|          | 0/466 [00:00<?, ?it/s, now=None]\u001B[A\n",
      "chunk:  33%|███▎      | 153/466 [00:00<00:00, 1393.49it/s, now=None]\u001B[A\n",
      " 45%|████▍     | 49/109 [00:40<00:49,  1.22it/s]                    \u001B[A\u001B[32m2024-06-17 10:42:34.829\u001B[0m | \u001B[1mINFO    \u001B[0m | \u001B[36msrc.video_preprocessing.download_videos.download_utils\u001B[0m:\u001B[36mextract_and_store_audio\u001B[0m:\u001B[36m287\u001B[0m - \u001B[1mAudio extracted and saved as C:\\Users\\baatout\\PycharmProjects\\afm-vlm\\data/raw\\biology_chapter_3_3\\audio_chunks\\biology_chapter_3_3-Scene-050.wav\u001B[0m\n",
      " 46%|████▌     | 50/109 [00:40<00:45,  1.28it/s]"
     ]
    },
    {
     "name": "stdout",
     "output_type": "stream",
     "text": [
      "MoviePy - Done.\n"
     ]
    },
    {
     "name": "stderr",
     "output_type": "stream",
     "text": [
      " 46%|████▌     | 50/109 [00:41<00:45,  1.28it/s]"
     ]
    },
    {
     "name": "stdout",
     "output_type": "stream",
     "text": [
      "MoviePy - Writing audio in C:\\Users\\baatout\\PycharmProjects\\afm-vlm\\data/raw\\biology_chapter_3_3\\audio_chunks\\biology_chapter_3_3-Scene-051.wav\n"
     ]
    },
    {
     "name": "stderr",
     "output_type": "stream",
     "text": [
      "\n",
      "chunk:   0%|          | 0/28 [00:00<?, ?it/s, now=None]\u001B[A\n",
      " 46%|████▌     | 50/109 [00:41<00:45,  1.28it/s]       \u001B[A\u001B[32m2024-06-17 10:42:35.432\u001B[0m | \u001B[1mINFO    \u001B[0m | \u001B[36msrc.video_preprocessing.download_videos.download_utils\u001B[0m:\u001B[36mextract_and_store_audio\u001B[0m:\u001B[36m287\u001B[0m - \u001B[1mAudio extracted and saved as C:\\Users\\baatout\\PycharmProjects\\afm-vlm\\data/raw\\biology_chapter_3_3\\audio_chunks\\biology_chapter_3_3-Scene-051.wav\u001B[0m\n",
      " 47%|████▋     | 51/109 [00:41<00:42,  1.38it/s]"
     ]
    },
    {
     "name": "stdout",
     "output_type": "stream",
     "text": [
      "MoviePy - Done.\n"
     ]
    },
    {
     "name": "stderr",
     "output_type": "stream",
     "text": [
      " 47%|████▋     | 51/109 [00:41<00:42,  1.38it/s]"
     ]
    },
    {
     "name": "stdout",
     "output_type": "stream",
     "text": [
      "MoviePy - Writing audio in C:\\Users\\baatout\\PycharmProjects\\afm-vlm\\data/raw\\biology_chapter_3_3\\audio_chunks\\biology_chapter_3_3-Scene-052.wav\n"
     ]
    },
    {
     "name": "stderr",
     "output_type": "stream",
     "text": [
      "\n",
      "chunk:   0%|          | 0/255 [00:00<?, ?it/s, now=None]\u001B[A\n",
      "chunk:  40%|████      | 102/255 [00:00<00:00, 1003.25it/s, now=None]\u001B[A\n",
      " 47%|████▋     | 51/109 [00:42<00:42,  1.38it/s]                    \u001B[A\u001B[32m2024-06-17 10:42:36.053\u001B[0m | \u001B[1mINFO    \u001B[0m | \u001B[36msrc.video_preprocessing.download_videos.download_utils\u001B[0m:\u001B[36mextract_and_store_audio\u001B[0m:\u001B[36m287\u001B[0m - \u001B[1mAudio extracted and saved as C:\\Users\\baatout\\PycharmProjects\\afm-vlm\\data/raw\\biology_chapter_3_3\\audio_chunks\\biology_chapter_3_3-Scene-052.wav\u001B[0m\n",
      " 48%|████▊     | 52/109 [00:42<00:39,  1.44it/s]"
     ]
    },
    {
     "name": "stdout",
     "output_type": "stream",
     "text": [
      "MoviePy - Done.\n"
     ]
    },
    {
     "name": "stderr",
     "output_type": "stream",
     "text": [
      " 48%|████▊     | 52/109 [00:42<00:39,  1.44it/s]"
     ]
    },
    {
     "name": "stdout",
     "output_type": "stream",
     "text": [
      "MoviePy - Writing audio in C:\\Users\\baatout\\PycharmProjects\\afm-vlm\\data/raw\\biology_chapter_3_3\\audio_chunks\\biology_chapter_3_3-Scene-053.wav\n"
     ]
    },
    {
     "name": "stderr",
     "output_type": "stream",
     "text": [
      "\n",
      "chunk:   0%|          | 0/85 [00:00<?, ?it/s, now=None]\u001B[A\n",
      " 48%|████▊     | 52/109 [00:42<00:39,  1.44it/s]       \u001B[A\u001B[32m2024-06-17 10:42:36.641\u001B[0m | \u001B[1mINFO    \u001B[0m | \u001B[36msrc.video_preprocessing.download_videos.download_utils\u001B[0m:\u001B[36mextract_and_store_audio\u001B[0m:\u001B[36m287\u001B[0m - \u001B[1mAudio extracted and saved as C:\\Users\\baatout\\PycharmProjects\\afm-vlm\\data/raw\\biology_chapter_3_3\\audio_chunks\\biology_chapter_3_3-Scene-053.wav\u001B[0m\n",
      " 49%|████▊     | 53/109 [00:42<00:37,  1.51it/s]"
     ]
    },
    {
     "name": "stdout",
     "output_type": "stream",
     "text": [
      "MoviePy - Done.\n"
     ]
    },
    {
     "name": "stderr",
     "output_type": "stream",
     "text": [
      " 49%|████▊     | 53/109 [00:43<00:37,  1.51it/s]"
     ]
    },
    {
     "name": "stdout",
     "output_type": "stream",
     "text": [
      "MoviePy - Writing audio in C:\\Users\\baatout\\PycharmProjects\\afm-vlm\\data/raw\\biology_chapter_3_3\\audio_chunks\\biology_chapter_3_3-Scene-054.wav\n"
     ]
    },
    {
     "name": "stderr",
     "output_type": "stream",
     "text": [
      "\n",
      "chunk:   0%|          | 0/552 [00:00<?, ?it/s, now=None]\u001B[A\n",
      "chunk:  11%|█         | 61/552 [00:00<00:00, 555.45it/s, now=None]\u001B[A\n",
      " 49%|████▊     | 53/109 [00:43<00:37,  1.51it/s]                  \u001B[A\u001B[32m2024-06-17 10:42:37.376\u001B[0m | \u001B[1mINFO    \u001B[0m | \u001B[36msrc.video_preprocessing.download_videos.download_utils\u001B[0m:\u001B[36mextract_and_store_audio\u001B[0m:\u001B[36m287\u001B[0m - \u001B[1mAudio extracted and saved as C:\\Users\\baatout\\PycharmProjects\\afm-vlm\\data/raw\\biology_chapter_3_3\\audio_chunks\\biology_chapter_3_3-Scene-054.wav\u001B[0m\n",
      " 50%|████▉     | 54/109 [00:43<00:37,  1.46it/s]"
     ]
    },
    {
     "name": "stdout",
     "output_type": "stream",
     "text": [
      "MoviePy - Done.\n"
     ]
    },
    {
     "name": "stderr",
     "output_type": "stream",
     "text": [
      " 50%|████▉     | 54/109 [00:43<00:37,  1.46it/s]"
     ]
    },
    {
     "name": "stdout",
     "output_type": "stream",
     "text": [
      "MoviePy - Writing audio in C:\\Users\\baatout\\PycharmProjects\\afm-vlm\\data/raw\\biology_chapter_3_3\\audio_chunks\\biology_chapter_3_3-Scene-055.wav\n"
     ]
    },
    {
     "name": "stderr",
     "output_type": "stream",
     "text": [
      "\n",
      "chunk:   0%|          | 0/2165 [00:00<?, ?it/s, now=None]\u001B[A\n",
      "chunk:   5%|▍         | 102/2165 [00:00<00:02, 932.01it/s, now=None]\u001B[A\n",
      "chunk:  28%|██▊       | 599/2165 [00:00<00:00, 3178.05it/s, now=None]\u001B[A\n",
      "chunk:  54%|█████▍    | 1173/2165 [00:00<00:00, 4035.84it/s, now=None]\u001B[A\n",
      "chunk:  80%|████████  | 1734/2165 [00:00<00:00, 4455.78it/s, now=None]\u001B[A\n",
      " 50%|████▉     | 54/109 [00:44<00:37,  1.46it/s]                      \u001B[A\u001B[32m2024-06-17 10:42:38.434\u001B[0m | \u001B[1mINFO    \u001B[0m | \u001B[36msrc.video_preprocessing.download_videos.download_utils\u001B[0m:\u001B[36mextract_and_store_audio\u001B[0m:\u001B[36m287\u001B[0m - \u001B[1mAudio extracted and saved as C:\\Users\\baatout\\PycharmProjects\\afm-vlm\\data/raw\\biology_chapter_3_3\\audio_chunks\\biology_chapter_3_3-Scene-055.wav\u001B[0m\n",
      " 50%|█████     | 55/109 [00:44<00:42,  1.26it/s]"
     ]
    },
    {
     "name": "stdout",
     "output_type": "stream",
     "text": [
      "MoviePy - Done.\n"
     ]
    },
    {
     "name": "stderr",
     "output_type": "stream",
     "text": [
      " 50%|█████     | 55/109 [00:44<00:42,  1.26it/s]"
     ]
    },
    {
     "name": "stdout",
     "output_type": "stream",
     "text": [
      "MoviePy - Writing audio in C:\\Users\\baatout\\PycharmProjects\\afm-vlm\\data/raw\\biology_chapter_3_3\\audio_chunks\\biology_chapter_3_3-Scene-056.wav\n"
     ]
    },
    {
     "name": "stderr",
     "output_type": "stream",
     "text": [
      "\n",
      "chunk:   0%|          | 0/949 [00:00<?, ?it/s, now=None]\u001B[A\n",
      "chunk:  10%|█         | 96/949 [00:00<00:00, 874.58it/s, now=None]\u001B[A\n",
      "chunk:  64%|██████▍   | 612/949 [00:00<00:00, 3069.19it/s, now=None]\u001B[A\n",
      " 50%|█████     | 55/109 [00:45<00:42,  1.26it/s]                    \u001B[A\u001B[32m2024-06-17 10:42:39.231\u001B[0m | \u001B[1mINFO    \u001B[0m | \u001B[36msrc.video_preprocessing.download_videos.download_utils\u001B[0m:\u001B[36mextract_and_store_audio\u001B[0m:\u001B[36m287\u001B[0m - \u001B[1mAudio extracted and saved as C:\\Users\\baatout\\PycharmProjects\\afm-vlm\\data/raw\\biology_chapter_3_3\\audio_chunks\\biology_chapter_3_3-Scene-056.wav\u001B[0m\n",
      " 51%|█████▏    | 56/109 [00:45<00:42,  1.26it/s]"
     ]
    },
    {
     "name": "stdout",
     "output_type": "stream",
     "text": [
      "MoviePy - Done.\n"
     ]
    },
    {
     "name": "stderr",
     "output_type": "stream",
     "text": [
      " 51%|█████▏    | 56/109 [00:45<00:42,  1.26it/s]"
     ]
    },
    {
     "name": "stdout",
     "output_type": "stream",
     "text": [
      "MoviePy - Writing audio in C:\\Users\\baatout\\PycharmProjects\\afm-vlm\\data/raw\\biology_chapter_3_3\\audio_chunks\\biology_chapter_3_3-Scene-057.wav\n"
     ]
    },
    {
     "name": "stderr",
     "output_type": "stream",
     "text": [
      "\n",
      "chunk:   0%|          | 0/1578 [00:00<?, ?it/s, now=None]\u001B[A\n",
      "chunk:   3%|▎         | 44/1578 [00:00<00:03, 438.22it/s, now=None]\u001B[A\n",
      "chunk:  39%|███▉      | 612/1578 [00:00<00:00, 3325.47it/s, now=None]\u001B[A\n",
      "chunk:  71%|███████   | 1122/1578 [00:00<00:00, 3935.93it/s, now=None]\u001B[A\n",
      " 51%|█████▏    | 56/109 [00:46<00:42,  1.26it/s]                      \u001B[A\u001B[32m2024-06-17 10:42:40.127\u001B[0m | \u001B[1mINFO    \u001B[0m | \u001B[36msrc.video_preprocessing.download_videos.download_utils\u001B[0m:\u001B[36mextract_and_store_audio\u001B[0m:\u001B[36m287\u001B[0m - \u001B[1mAudio extracted and saved as C:\\Users\\baatout\\PycharmProjects\\afm-vlm\\data/raw\\biology_chapter_3_3\\audio_chunks\\biology_chapter_3_3-Scene-057.wav\u001B[0m\n",
      " 52%|█████▏    | 57/109 [00:46<00:42,  1.21it/s]"
     ]
    },
    {
     "name": "stdout",
     "output_type": "stream",
     "text": [
      "MoviePy - Done.\n"
     ]
    },
    {
     "name": "stderr",
     "output_type": "stream",
     "text": [
      " 52%|█████▏    | 57/109 [00:46<00:42,  1.21it/s]"
     ]
    },
    {
     "name": "stdout",
     "output_type": "stream",
     "text": [
      "MoviePy - Writing audio in C:\\Users\\baatout\\PycharmProjects\\afm-vlm\\data/raw\\biology_chapter_3_3\\audio_chunks\\biology_chapter_3_3-Scene-058.wav\n"
     ]
    },
    {
     "name": "stderr",
     "output_type": "stream",
     "text": [
      "\n",
      "chunk:   0%|          | 0/707 [00:00<?, ?it/s, now=None]\u001B[A\n",
      "chunk:  23%|██▎       | 166/707 [00:00<00:00, 1453.59it/s, now=None]\u001B[A\n",
      "chunk:  96%|█████████▋| 681/707 [00:00<00:00, 3374.25it/s, now=None]\u001B[A\n",
      " 52%|█████▏    | 57/109 [00:46<00:42,  1.21it/s]                    \u001B[A\u001B[32m2024-06-17 10:42:40.875\u001B[0m | \u001B[1mINFO    \u001B[0m | \u001B[36msrc.video_preprocessing.download_videos.download_utils\u001B[0m:\u001B[36mextract_and_store_audio\u001B[0m:\u001B[36m287\u001B[0m - \u001B[1mAudio extracted and saved as C:\\Users\\baatout\\PycharmProjects\\afm-vlm\\data/raw\\biology_chapter_3_3\\audio_chunks\\biology_chapter_3_3-Scene-058.wav\u001B[0m\n",
      " 53%|█████▎    | 58/109 [00:46<00:40,  1.25it/s]"
     ]
    },
    {
     "name": "stdout",
     "output_type": "stream",
     "text": [
      "MoviePy - Done.\n"
     ]
    },
    {
     "name": "stderr",
     "output_type": "stream",
     "text": [
      " 53%|█████▎    | 58/109 [00:47<00:40,  1.25it/s]"
     ]
    },
    {
     "name": "stdout",
     "output_type": "stream",
     "text": [
      "MoviePy - Writing audio in C:\\Users\\baatout\\PycharmProjects\\afm-vlm\\data/raw\\biology_chapter_3_3\\audio_chunks\\biology_chapter_3_3-Scene-059.wav\n"
     ]
    },
    {
     "name": "stderr",
     "output_type": "stream",
     "text": [
      "\n",
      "chunk:   0%|          | 0/788 [00:00<?, ?it/s, now=None]\u001B[A\n",
      "chunk:   0%|          | 3/788 [00:00<00:32, 23.89it/s, now=None]\u001B[A\n",
      "chunk:  71%|███████   | 561/788 [00:00<00:00, 2833.62it/s, now=None]\u001B[A\n",
      " 53%|█████▎    | 58/109 [00:47<00:40,  1.25it/s]                    \u001B[A\u001B[32m2024-06-17 10:42:41.775\u001B[0m | \u001B[1mINFO    \u001B[0m | \u001B[36msrc.video_preprocessing.download_videos.download_utils\u001B[0m:\u001B[36mextract_and_store_audio\u001B[0m:\u001B[36m287\u001B[0m - \u001B[1mAudio extracted and saved as C:\\Users\\baatout\\PycharmProjects\\afm-vlm\\data/raw\\biology_chapter_3_3\\audio_chunks\\biology_chapter_3_3-Scene-059.wav\u001B[0m\n",
      " 54%|█████▍    | 59/109 [00:47<00:41,  1.20it/s]"
     ]
    },
    {
     "name": "stdout",
     "output_type": "stream",
     "text": [
      "MoviePy - Done.\n"
     ]
    },
    {
     "name": "stderr",
     "output_type": "stream",
     "text": [
      " 54%|█████▍    | 59/109 [00:48<00:41,  1.20it/s]"
     ]
    },
    {
     "name": "stdout",
     "output_type": "stream",
     "text": [
      "MoviePy - Writing audio in C:\\Users\\baatout\\PycharmProjects\\afm-vlm\\data/raw\\biology_chapter_3_3\\audio_chunks\\biology_chapter_3_3-Scene-060.wav\n"
     ]
    },
    {
     "name": "stderr",
     "output_type": "stream",
     "text": [
      "\n",
      "chunk:   0%|          | 0/1377 [00:00<?, ?it/s, now=None]\u001B[A\n",
      "chunk:   0%|          | 3/1377 [00:00<00:58, 23.64it/s, now=None]\u001B[A\n",
      "chunk:  40%|███▉      | 550/1377 [00:00<00:00, 2794.23it/s, now=None]\u001B[A\n",
      "chunk:  77%|███████▋  | 1059/1377 [00:00<00:00, 3755.83it/s, now=None]\u001B[A\n",
      " 54%|█████▍    | 59/109 [00:48<00:41,  1.20it/s]                      \u001B[A\u001B[32m2024-06-17 10:42:42.796\u001B[0m | \u001B[1mINFO    \u001B[0m | \u001B[36msrc.video_preprocessing.download_videos.download_utils\u001B[0m:\u001B[36mextract_and_store_audio\u001B[0m:\u001B[36m287\u001B[0m - \u001B[1mAudio extracted and saved as C:\\Users\\baatout\\PycharmProjects\\afm-vlm\\data/raw\\biology_chapter_3_3\\audio_chunks\\biology_chapter_3_3-Scene-060.wav\u001B[0m\n",
      " 55%|█████▌    | 60/109 [00:48<00:43,  1.13it/s]"
     ]
    },
    {
     "name": "stdout",
     "output_type": "stream",
     "text": [
      "MoviePy - Done.\n"
     ]
    },
    {
     "name": "stderr",
     "output_type": "stream",
     "text": [
      " 55%|█████▌    | 60/109 [00:49<00:43,  1.13it/s]"
     ]
    },
    {
     "name": "stdout",
     "output_type": "stream",
     "text": [
      "MoviePy - Writing audio in C:\\Users\\baatout\\PycharmProjects\\afm-vlm\\data/raw\\biology_chapter_3_3\\audio_chunks\\biology_chapter_3_3-Scene-061.wav\n"
     ]
    },
    {
     "name": "stderr",
     "output_type": "stream",
     "text": [
      "\n",
      "chunk:   0%|          | 0/1353 [00:00<?, ?it/s, now=None]\u001B[A\n",
      "chunk:   0%|          | 3/1353 [00:00<00:48, 27.87it/s, now=None]\u001B[A\n",
      "chunk:  40%|████      | 544/1353 [00:00<00:00, 2982.93it/s, now=None]\u001B[A\n",
      "chunk:  80%|████████  | 1088/1353 [00:00<00:00, 3895.37it/s, now=None]\u001B[A\n",
      " 55%|█████▌    | 60/109 [00:49<00:43,  1.13it/s]                      \u001B[A\u001B[32m2024-06-17 10:42:43.771\u001B[0m | \u001B[1mINFO    \u001B[0m | \u001B[36msrc.video_preprocessing.download_videos.download_utils\u001B[0m:\u001B[36mextract_and_store_audio\u001B[0m:\u001B[36m287\u001B[0m - \u001B[1mAudio extracted and saved as C:\\Users\\baatout\\PycharmProjects\\afm-vlm\\data/raw\\biology_chapter_3_3\\audio_chunks\\biology_chapter_3_3-Scene-061.wav\u001B[0m\n",
      " 56%|█████▌    | 61/109 [00:49<00:43,  1.09it/s]"
     ]
    },
    {
     "name": "stdout",
     "output_type": "stream",
     "text": [
      "MoviePy - Done.\n"
     ]
    },
    {
     "name": "stderr",
     "output_type": "stream",
     "text": [
      " 56%|█████▌    | 61/109 [00:50<00:43,  1.09it/s]"
     ]
    },
    {
     "name": "stdout",
     "output_type": "stream",
     "text": [
      "MoviePy - Writing audio in C:\\Users\\baatout\\PycharmProjects\\afm-vlm\\data/raw\\biology_chapter_3_3\\audio_chunks\\biology_chapter_3_3-Scene-062.wav\n"
     ]
    },
    {
     "name": "stderr",
     "output_type": "stream",
     "text": [
      "\n",
      "chunk:   0%|          | 0/422 [00:00<?, ?it/s, now=None]\u001B[A\n",
      "chunk:   7%|▋         | 29/422 [00:00<00:01, 264.07it/s, now=None]\u001B[A\n",
      "chunk:  24%|██▍       | 102/422 [00:00<00:00, 459.67it/s, now=None]\u001B[A\n",
      " 56%|█████▌    | 61/109 [00:50<00:43,  1.09it/s]                   \u001B[A\u001B[32m2024-06-17 10:42:44.607\u001B[0m | \u001B[1mINFO    \u001B[0m | \u001B[36msrc.video_preprocessing.download_videos.download_utils\u001B[0m:\u001B[36mextract_and_store_audio\u001B[0m:\u001B[36m287\u001B[0m - \u001B[1mAudio extracted and saved as C:\\Users\\baatout\\PycharmProjects\\afm-vlm\\data/raw\\biology_chapter_3_3\\audio_chunks\\biology_chapter_3_3-Scene-062.wav\u001B[0m\n",
      " 57%|█████▋    | 62/109 [00:50<00:41,  1.12it/s]"
     ]
    },
    {
     "name": "stdout",
     "output_type": "stream",
     "text": [
      "MoviePy - Done.\n"
     ]
    },
    {
     "name": "stderr",
     "output_type": "stream",
     "text": [
      " 57%|█████▋    | 62/109 [00:51<00:41,  1.12it/s]"
     ]
    },
    {
     "name": "stdout",
     "output_type": "stream",
     "text": [
      "MoviePy - Writing audio in C:\\Users\\baatout\\PycharmProjects\\afm-vlm\\data/raw\\biology_chapter_3_3\\audio_chunks\\biology_chapter_3_3-Scene-063.wav\n"
     ]
    },
    {
     "name": "stderr",
     "output_type": "stream",
     "text": [
      "\n",
      "chunk:   0%|          | 0/943 [00:00<?, ?it/s, now=None]\u001B[A\n",
      "chunk:   7%|▋         | 70/943 [00:00<00:01, 676.76it/s, now=None]\u001B[A\n",
      "chunk:  67%|██████▋   | 631/943 [00:00<00:00, 3347.83it/s, now=None]\u001B[A\n",
      " 57%|█████▋    | 62/109 [00:51<00:41,  1.12it/s]                    \u001B[A\u001B[32m2024-06-17 10:42:45.402\u001B[0m | \u001B[1mINFO    \u001B[0m | \u001B[36msrc.video_preprocessing.download_videos.download_utils\u001B[0m:\u001B[36mextract_and_store_audio\u001B[0m:\u001B[36m287\u001B[0m - \u001B[1mAudio extracted and saved as C:\\Users\\baatout\\PycharmProjects\\afm-vlm\\data/raw\\biology_chapter_3_3\\audio_chunks\\biology_chapter_3_3-Scene-063.wav\u001B[0m\n",
      " 58%|█████▊    | 63/109 [00:51<00:39,  1.16it/s]"
     ]
    },
    {
     "name": "stdout",
     "output_type": "stream",
     "text": [
      "MoviePy - Done.\n"
     ]
    },
    {
     "name": "stderr",
     "output_type": "stream",
     "text": [
      " 58%|█████▊    | 63/109 [00:51<00:39,  1.16it/s]"
     ]
    },
    {
     "name": "stdout",
     "output_type": "stream",
     "text": [
      "MoviePy - Writing audio in C:\\Users\\baatout\\PycharmProjects\\afm-vlm\\data/raw\\biology_chapter_3_3\\audio_chunks\\biology_chapter_3_3-Scene-064.wav\n"
     ]
    },
    {
     "name": "stderr",
     "output_type": "stream",
     "text": [
      "\n",
      "chunk:   0%|          | 0/1087 [00:00<?, ?it/s, now=None]\u001B[A\n",
      "chunk:  10%|█         | 109/1087 [00:00<00:00, 992.89it/s, now=None]\u001B[A\n",
      "chunk:  56%|█████▋    | 612/1087 [00:00<00:00, 3103.27it/s, now=None]\u001B[A\n",
      "chunk:  98%|█████████▊| 1065/1087 [00:00<00:00, 3627.19it/s, now=None]\u001B[A\n",
      " 58%|█████▊    | 63/109 [00:52<00:39,  1.16it/s]                      \u001B[A\u001B[32m2024-06-17 10:42:46.249\u001B[0m | \u001B[1mINFO    \u001B[0m | \u001B[36msrc.video_preprocessing.download_videos.download_utils\u001B[0m:\u001B[36mextract_and_store_audio\u001B[0m:\u001B[36m287\u001B[0m - \u001B[1mAudio extracted and saved as C:\\Users\\baatout\\PycharmProjects\\afm-vlm\\data/raw\\biology_chapter_3_3\\audio_chunks\\biology_chapter_3_3-Scene-064.wav\u001B[0m\n",
      " 59%|█████▊    | 64/109 [00:52<00:38,  1.17it/s]"
     ]
    },
    {
     "name": "stdout",
     "output_type": "stream",
     "text": [
      "MoviePy - Done.\n"
     ]
    },
    {
     "name": "stderr",
     "output_type": "stream",
     "text": [
      " 59%|█████▊    | 64/109 [00:52<00:38,  1.17it/s]"
     ]
    },
    {
     "name": "stdout",
     "output_type": "stream",
     "text": [
      "MoviePy - Writing audio in C:\\Users\\baatout\\PycharmProjects\\afm-vlm\\data/raw\\biology_chapter_3_3\\audio_chunks\\biology_chapter_3_3-Scene-065.wav\n"
     ]
    },
    {
     "name": "stderr",
     "output_type": "stream",
     "text": [
      "\n",
      "chunk:   0%|          | 0/972 [00:00<?, ?it/s, now=None]\u001B[A\n",
      "chunk:  17%|█▋        | 166/972 [00:00<00:00, 1530.23it/s, now=None]\u001B[A\n",
      "chunk:  73%|███████▎  | 714/972 [00:00<00:00, 3568.52it/s, now=None]\u001B[A\n",
      " 59%|█████▊    | 64/109 [00:53<00:38,  1.17it/s]                    \u001B[A\u001B[32m2024-06-17 10:42:47.030\u001B[0m | \u001B[1mINFO    \u001B[0m | \u001B[36msrc.video_preprocessing.download_videos.download_utils\u001B[0m:\u001B[36mextract_and_store_audio\u001B[0m:\u001B[36m287\u001B[0m - \u001B[1mAudio extracted and saved as C:\\Users\\baatout\\PycharmProjects\\afm-vlm\\data/raw\\biology_chapter_3_3\\audio_chunks\\biology_chapter_3_3-Scene-065.wav\u001B[0m\n",
      " 60%|█████▉    | 65/109 [00:53<00:36,  1.20it/s]"
     ]
    },
    {
     "name": "stdout",
     "output_type": "stream",
     "text": [
      "MoviePy - Done.\n"
     ]
    },
    {
     "name": "stderr",
     "output_type": "stream",
     "text": [
      " 60%|█████▉    | 65/109 [00:53<00:36,  1.20it/s]"
     ]
    },
    {
     "name": "stdout",
     "output_type": "stream",
     "text": [
      "MoviePy - Writing audio in C:\\Users\\baatout\\PycharmProjects\\afm-vlm\\data/raw\\biology_chapter_3_3\\audio_chunks\\biology_chapter_3_3-Scene-066.wav\n"
     ]
    },
    {
     "name": "stderr",
     "output_type": "stream",
     "text": [
      "\n",
      "chunk:   0%|          | 0/464 [00:00<?, ?it/s, now=None]\u001B[A\n",
      "chunk:  22%|██▏       | 102/464 [00:00<00:00, 929.01it/s, now=None]\u001B[A\n",
      " 60%|█████▉    | 65/109 [00:53<00:36,  1.20it/s]                   \u001B[A\u001B[32m2024-06-17 10:42:47.734\u001B[0m | \u001B[1mINFO    \u001B[0m | \u001B[36msrc.video_preprocessing.download_videos.download_utils\u001B[0m:\u001B[36mextract_and_store_audio\u001B[0m:\u001B[36m287\u001B[0m - \u001B[1mAudio extracted and saved as C:\\Users\\baatout\\PycharmProjects\\afm-vlm\\data/raw\\biology_chapter_3_3\\audio_chunks\\biology_chapter_3_3-Scene-066.wav\u001B[0m\n",
      " 61%|██████    | 66/109 [00:53<00:34,  1.26it/s]"
     ]
    },
    {
     "name": "stdout",
     "output_type": "stream",
     "text": [
      "MoviePy - Done.\n"
     ]
    },
    {
     "name": "stderr",
     "output_type": "stream",
     "text": [
      " 61%|██████    | 66/109 [00:54<00:34,  1.26it/s]"
     ]
    },
    {
     "name": "stdout",
     "output_type": "stream",
     "text": [
      "MoviePy - Writing audio in C:\\Users\\baatout\\PycharmProjects\\afm-vlm\\data/raw\\biology_chapter_3_3\\audio_chunks\\biology_chapter_3_3-Scene-067.wav\n"
     ]
    },
    {
     "name": "stderr",
     "output_type": "stream",
     "text": [
      "\n",
      "chunk:   0%|          | 0/607 [00:00<?, ?it/s, now=None]\u001B[A\n",
      "chunk:   0%|          | 3/607 [00:00<00:21, 28.15it/s, now=None]\u001B[A\n",
      "chunk:  83%|████████▎ | 504/607 [00:00<00:00, 2733.33it/s, now=None]\u001B[A\n",
      " 61%|██████    | 66/109 [00:54<00:34,  1.26it/s]                    \u001B[A\u001B[32m2024-06-17 10:42:48.534\u001B[0m | \u001B[1mINFO    \u001B[0m | \u001B[36msrc.video_preprocessing.download_videos.download_utils\u001B[0m:\u001B[36mextract_and_store_audio\u001B[0m:\u001B[36m287\u001B[0m - \u001B[1mAudio extracted and saved as C:\\Users\\baatout\\PycharmProjects\\afm-vlm\\data/raw\\biology_chapter_3_3\\audio_chunks\\biology_chapter_3_3-Scene-067.wav\u001B[0m\n",
      " 61%|██████▏   | 67/109 [00:54<00:33,  1.25it/s]"
     ]
    },
    {
     "name": "stdout",
     "output_type": "stream",
     "text": [
      "MoviePy - Done.\n"
     ]
    },
    {
     "name": "stderr",
     "output_type": "stream",
     "text": [
      " 61%|██████▏   | 67/109 [00:55<00:33,  1.25it/s]"
     ]
    },
    {
     "name": "stdout",
     "output_type": "stream",
     "text": [
      "MoviePy - Writing audio in C:\\Users\\baatout\\PycharmProjects\\afm-vlm\\data/raw\\biology_chapter_3_3\\audio_chunks\\biology_chapter_3_3-Scene-068.wav\n"
     ]
    },
    {
     "name": "stderr",
     "output_type": "stream",
     "text": [
      "\n",
      "chunk:   0%|          | 0/1325 [00:00<?, ?it/s, now=None]\u001B[A\n",
      "chunk:   7%|▋         | 99/1325 [00:00<00:01, 899.12it/s, now=None]\u001B[A\n",
      "chunk:  48%|████▊     | 640/1325 [00:00<00:00, 3262.10it/s, now=None]\u001B[A\n",
      "chunk:  83%|████████▎ | 1103/1325 [00:00<00:00, 3844.05it/s, now=None]\u001B[A\n",
      " 61%|██████▏   | 67/109 [00:55<00:33,  1.25it/s]                      \u001B[A\u001B[32m2024-06-17 10:42:49.440\u001B[0m | \u001B[1mINFO    \u001B[0m | \u001B[36msrc.video_preprocessing.download_videos.download_utils\u001B[0m:\u001B[36mextract_and_store_audio\u001B[0m:\u001B[36m287\u001B[0m - \u001B[1mAudio extracted and saved as C:\\Users\\baatout\\PycharmProjects\\afm-vlm\\data/raw\\biology_chapter_3_3\\audio_chunks\\biology_chapter_3_3-Scene-068.wav\u001B[0m\n",
      " 62%|██████▏   | 68/109 [00:55<00:33,  1.21it/s]"
     ]
    },
    {
     "name": "stdout",
     "output_type": "stream",
     "text": [
      "MoviePy - Done.\n"
     ]
    },
    {
     "name": "stderr",
     "output_type": "stream",
     "text": [
      " 62%|██████▏   | 68/109 [00:55<00:33,  1.21it/s]"
     ]
    },
    {
     "name": "stdout",
     "output_type": "stream",
     "text": [
      "MoviePy - Writing audio in C:\\Users\\baatout\\PycharmProjects\\afm-vlm\\data/raw\\biology_chapter_3_3\\audio_chunks\\biology_chapter_3_3-Scene-069.wav\n"
     ]
    },
    {
     "name": "stderr",
     "output_type": "stream",
     "text": [
      "\n",
      "chunk:   0%|          | 0/491 [00:00<?, ?it/s, now=None]\u001B[A\n",
      "chunk:  21%|██        | 104/491 [00:00<00:00, 952.87it/s, now=None]\u001B[A\n",
      " 62%|██████▏   | 68/109 [00:56<00:33,  1.21it/s]                   \u001B[A\u001B[32m2024-06-17 10:42:50.140\u001B[0m | \u001B[1mINFO    \u001B[0m | \u001B[36msrc.video_preprocessing.download_videos.download_utils\u001B[0m:\u001B[36mextract_and_store_audio\u001B[0m:\u001B[36m287\u001B[0m - \u001B[1mAudio extracted and saved as C:\\Users\\baatout\\PycharmProjects\\afm-vlm\\data/raw\\biology_chapter_3_3\\audio_chunks\\biology_chapter_3_3-Scene-069.wav\u001B[0m\n",
      " 63%|██████▎   | 69/109 [00:56<00:31,  1.27it/s]"
     ]
    },
    {
     "name": "stdout",
     "output_type": "stream",
     "text": [
      "MoviePy - Done.\n"
     ]
    },
    {
     "name": "stderr",
     "output_type": "stream",
     "text": [
      " 63%|██████▎   | 69/109 [00:56<00:31,  1.27it/s]"
     ]
    },
    {
     "name": "stdout",
     "output_type": "stream",
     "text": [
      "MoviePy - Writing audio in C:\\Users\\baatout\\PycharmProjects\\afm-vlm\\data/raw\\biology_chapter_3_3\\audio_chunks\\biology_chapter_3_3-Scene-070.wav\n"
     ]
    },
    {
     "name": "stderr",
     "output_type": "stream",
     "text": [
      "\n",
      "chunk:   0%|          | 0/244 [00:00<?, ?it/s, now=None]\u001B[A\n",
      "chunk:  79%|███████▊  | 192/244 [00:00<00:00, 1750.64it/s, now=None]\u001B[A\n",
      " 63%|██████▎   | 69/109 [00:56<00:31,  1.27it/s]                    \u001B[A\u001B[32m2024-06-17 10:42:50.775\u001B[0m | \u001B[1mINFO    \u001B[0m | \u001B[36msrc.video_preprocessing.download_videos.download_utils\u001B[0m:\u001B[36mextract_and_store_audio\u001B[0m:\u001B[36m287\u001B[0m - \u001B[1mAudio extracted and saved as C:\\Users\\baatout\\PycharmProjects\\afm-vlm\\data/raw\\biology_chapter_3_3\\audio_chunks\\biology_chapter_3_3-Scene-070.wav\u001B[0m\n",
      " 64%|██████▍   | 70/109 [00:56<00:28,  1.35it/s]"
     ]
    },
    {
     "name": "stdout",
     "output_type": "stream",
     "text": [
      "MoviePy - Done.\n"
     ]
    },
    {
     "name": "stderr",
     "output_type": "stream",
     "text": [
      " 64%|██████▍   | 70/109 [00:57<00:28,  1.35it/s]"
     ]
    },
    {
     "name": "stdout",
     "output_type": "stream",
     "text": [
      "MoviePy - Writing audio in C:\\Users\\baatout\\PycharmProjects\\afm-vlm\\data/raw\\biology_chapter_3_3\\audio_chunks\\biology_chapter_3_3-Scene-071.wav\n"
     ]
    },
    {
     "name": "stderr",
     "output_type": "stream",
     "text": [
      "\n",
      "chunk:   0%|          | 0/150 [00:00<?, ?it/s, now=None]\u001B[A\n",
      "chunk:  68%|██████▊   | 102/150 [00:00<00:00, 964.01it/s, now=None]\u001B[A\n",
      " 64%|██████▍   | 70/109 [00:57<00:28,  1.35it/s]                   \u001B[A\u001B[32m2024-06-17 10:42:51.458\u001B[0m | \u001B[1mINFO    \u001B[0m | \u001B[36msrc.video_preprocessing.download_videos.download_utils\u001B[0m:\u001B[36mextract_and_store_audio\u001B[0m:\u001B[36m287\u001B[0m - \u001B[1mAudio extracted and saved as C:\\Users\\baatout\\PycharmProjects\\afm-vlm\\data/raw\\biology_chapter_3_3\\audio_chunks\\biology_chapter_3_3-Scene-071.wav\u001B[0m\n",
      " 65%|██████▌   | 71/109 [00:57<00:27,  1.38it/s]"
     ]
    },
    {
     "name": "stdout",
     "output_type": "stream",
     "text": [
      "MoviePy - Done.\n"
     ]
    },
    {
     "name": "stderr",
     "output_type": "stream",
     "text": [
      " 65%|██████▌   | 71/109 [00:58<00:27,  1.38it/s]"
     ]
    },
    {
     "name": "stdout",
     "output_type": "stream",
     "text": [
      "MoviePy - Writing audio in C:\\Users\\baatout\\PycharmProjects\\afm-vlm\\data/raw\\biology_chapter_3_3\\audio_chunks\\biology_chapter_3_3-Scene-072.wav\n"
     ]
    },
    {
     "name": "stderr",
     "output_type": "stream",
     "text": [
      "\n",
      "chunk:   0%|          | 0/758 [00:00<?, ?it/s, now=None]\u001B[A\n",
      "chunk:  13%|█▎        | 99/758 [00:00<00:00, 901.04it/s, now=None]\u001B[A\n",
      "chunk:  71%|███████   | 535/758 [00:00<00:00, 2824.48it/s, now=None]\u001B[A\n",
      " 65%|██████▌   | 71/109 [00:58<00:27,  1.38it/s]                    \u001B[A\u001B[32m2024-06-17 10:42:52.248\u001B[0m | \u001B[1mINFO    \u001B[0m | \u001B[36msrc.video_preprocessing.download_videos.download_utils\u001B[0m:\u001B[36mextract_and_store_audio\u001B[0m:\u001B[36m287\u001B[0m - \u001B[1mAudio extracted and saved as C:\\Users\\baatout\\PycharmProjects\\afm-vlm\\data/raw\\biology_chapter_3_3\\audio_chunks\\biology_chapter_3_3-Scene-072.wav\u001B[0m\n",
      " 66%|██████▌   | 72/109 [00:58<00:27,  1.34it/s]"
     ]
    },
    {
     "name": "stdout",
     "output_type": "stream",
     "text": [
      "MoviePy - Done.\n"
     ]
    },
    {
     "name": "stderr",
     "output_type": "stream",
     "text": [
      " 66%|██████▌   | 72/109 [00:58<00:27,  1.34it/s]"
     ]
    },
    {
     "name": "stdout",
     "output_type": "stream",
     "text": [
      "MoviePy - Writing audio in C:\\Users\\baatout\\PycharmProjects\\afm-vlm\\data/raw\\biology_chapter_3_3\\audio_chunks\\biology_chapter_3_3-Scene-073.wav\n"
     ]
    },
    {
     "name": "stderr",
     "output_type": "stream",
     "text": [
      "\n",
      "chunk:   0%|          | 0/2731 [00:00<?, ?it/s, now=None]\u001B[A\n",
      "chunk:   1%|          | 29/2731 [00:00<00:10, 264.05it/s, now=None]\u001B[A\n",
      "chunk:  20%|██        | 548/2731 [00:00<00:00, 2889.28it/s, now=None]\u001B[A\n",
      "chunk:  40%|███▉      | 1081/2731 [00:00<00:00, 3812.51it/s, now=None]\u001B[A\n",
      "chunk:  58%|█████▊    | 1581/2731 [00:00<00:00, 4255.84it/s, now=None]\u001B[A\n",
      "chunk:  75%|███████▍  | 2040/2731 [00:00<00:00, 4371.31it/s, now=None]\u001B[A\n",
      "chunk:  93%|█████████▎| 2545/2731 [00:00<00:00, 4592.52it/s, now=None]\u001B[A\n",
      " 66%|██████▌   | 72/109 [00:59<00:27,  1.34it/s]                      \u001B[A\u001B[32m2024-06-17 10:42:53.477\u001B[0m | \u001B[1mINFO    \u001B[0m | \u001B[36msrc.video_preprocessing.download_videos.download_utils\u001B[0m:\u001B[36mextract_and_store_audio\u001B[0m:\u001B[36m287\u001B[0m - \u001B[1mAudio extracted and saved as C:\\Users\\baatout\\PycharmProjects\\afm-vlm\\data/raw\\biology_chapter_3_3\\audio_chunks\\biology_chapter_3_3-Scene-073.wav\u001B[0m\n",
      " 67%|██████▋   | 73/109 [00:59<00:32,  1.12it/s]"
     ]
    },
    {
     "name": "stdout",
     "output_type": "stream",
     "text": [
      "MoviePy - Done.\n"
     ]
    },
    {
     "name": "stderr",
     "output_type": "stream",
     "text": [
      " 67%|██████▋   | 73/109 [01:00<00:32,  1.12it/s]"
     ]
    },
    {
     "name": "stdout",
     "output_type": "stream",
     "text": [
      "MoviePy - Writing audio in C:\\Users\\baatout\\PycharmProjects\\afm-vlm\\data/raw\\biology_chapter_3_3\\audio_chunks\\biology_chapter_3_3-Scene-074.wav\n"
     ]
    },
    {
     "name": "stderr",
     "output_type": "stream",
     "text": [
      "\n",
      "chunk:   0%|          | 0/103 [00:00<?, ?it/s, now=None]\u001B[A\n",
      "chunk:  99%|█████████▉| 102/103 [00:00<00:00, 1011.35it/s, now=None]\u001B[A\n",
      " 67%|██████▋   | 73/109 [01:00<00:32,  1.12it/s]                    \u001B[A\u001B[32m2024-06-17 10:42:54.125\u001B[0m | \u001B[1mINFO    \u001B[0m | \u001B[36msrc.video_preprocessing.download_videos.download_utils\u001B[0m:\u001B[36mextract_and_store_audio\u001B[0m:\u001B[36m287\u001B[0m - \u001B[1mAudio extracted and saved as C:\\Users\\baatout\\PycharmProjects\\afm-vlm\\data/raw\\biology_chapter_3_3\\audio_chunks\\biology_chapter_3_3-Scene-074.wav\u001B[0m\n",
      " 68%|██████▊   | 74/109 [01:00<00:28,  1.22it/s]"
     ]
    },
    {
     "name": "stdout",
     "output_type": "stream",
     "text": [
      "MoviePy - Done.\n"
     ]
    },
    {
     "name": "stderr",
     "output_type": "stream",
     "text": [
      " 68%|██████▊   | 74/109 [01:00<00:28,  1.22it/s]"
     ]
    },
    {
     "name": "stdout",
     "output_type": "stream",
     "text": [
      "MoviePy - Writing audio in C:\\Users\\baatout\\PycharmProjects\\afm-vlm\\data/raw\\biology_chapter_3_3\\audio_chunks\\biology_chapter_3_3-Scene-075.wav\n"
     ]
    },
    {
     "name": "stderr",
     "output_type": "stream",
     "text": [
      "\n",
      "chunk:   0%|          | 0/386 [00:00<?, ?it/s, now=None]\u001B[A\n",
      "chunk:   1%|          | 3/386 [00:00<00:13, 29.15it/s, now=None]\u001B[A\n",
      " 68%|██████▊   | 74/109 [01:01<00:28,  1.22it/s]                \u001B[A\u001B[32m2024-06-17 10:42:54.954\u001B[0m | \u001B[1mINFO    \u001B[0m | \u001B[36msrc.video_preprocessing.download_videos.download_utils\u001B[0m:\u001B[36mextract_and_store_audio\u001B[0m:\u001B[36m287\u001B[0m - \u001B[1mAudio extracted and saved as C:\\Users\\baatout\\PycharmProjects\\afm-vlm\\data/raw\\biology_chapter_3_3\\audio_chunks\\biology_chapter_3_3-Scene-075.wav\u001B[0m\n",
      " 69%|██████▉   | 75/109 [01:01<00:28,  1.21it/s]"
     ]
    },
    {
     "name": "stdout",
     "output_type": "stream",
     "text": [
      "MoviePy - Done.\n"
     ]
    },
    {
     "name": "stderr",
     "output_type": "stream",
     "text": [
      " 69%|██████▉   | 75/109 [01:01<00:28,  1.21it/s]"
     ]
    },
    {
     "name": "stdout",
     "output_type": "stream",
     "text": [
      "MoviePy - Writing audio in C:\\Users\\baatout\\PycharmProjects\\afm-vlm\\data/raw\\biology_chapter_3_3\\audio_chunks\\biology_chapter_3_3-Scene-076.wav\n"
     ]
    },
    {
     "name": "stderr",
     "output_type": "stream",
     "text": [
      "\n",
      "chunk:   0%|          | 0/180 [00:00<?, ?it/s, now=None]\u001B[A\n",
      "chunk:  37%|███▋      | 66/180 [00:00<00:00, 587.28it/s, now=None]\u001B[A\n",
      " 69%|██████▉   | 75/109 [01:01<00:28,  1.21it/s]                  \u001B[A\u001B[32m2024-06-17 10:42:55.722\u001B[0m | \u001B[1mINFO    \u001B[0m | \u001B[36msrc.video_preprocessing.download_videos.download_utils\u001B[0m:\u001B[36mextract_and_store_audio\u001B[0m:\u001B[36m287\u001B[0m - \u001B[1mAudio extracted and saved as C:\\Users\\baatout\\PycharmProjects\\afm-vlm\\data/raw\\biology_chapter_3_3\\audio_chunks\\biology_chapter_3_3-Scene-076.wav\u001B[0m\n",
      " 70%|██████▉   | 76/109 [01:01<00:26,  1.24it/s]"
     ]
    },
    {
     "name": "stdout",
     "output_type": "stream",
     "text": [
      "MoviePy - Done.\n"
     ]
    },
    {
     "name": "stderr",
     "output_type": "stream",
     "text": [
      " 70%|██████▉   | 76/109 [01:02<00:26,  1.24it/s]"
     ]
    },
    {
     "name": "stdout",
     "output_type": "stream",
     "text": [
      "MoviePy - Writing audio in C:\\Users\\baatout\\PycharmProjects\\afm-vlm\\data/raw\\biology_chapter_3_3\\audio_chunks\\biology_chapter_3_3-Scene-077.wav\n"
     ]
    },
    {
     "name": "stderr",
     "output_type": "stream",
     "text": [
      "\n",
      "chunk:   0%|          | 0/1184 [00:00<?, ?it/s, now=None]\u001B[A\n",
      "chunk:  13%|█▎        | 153/1184 [00:00<00:00, 1497.61it/s, now=None]\u001B[A\n",
      "chunk:  60%|██████    | 714/1184 [00:00<00:00, 3685.19it/s, now=None]\u001B[A\n",
      " 70%|██████▉   | 76/109 [01:02<00:26,  1.24it/s]                     \u001B[A\u001B[32m2024-06-17 10:42:56.491\u001B[0m | \u001B[1mINFO    \u001B[0m | \u001B[36msrc.video_preprocessing.download_videos.download_utils\u001B[0m:\u001B[36mextract_and_store_audio\u001B[0m:\u001B[36m287\u001B[0m - \u001B[1mAudio extracted and saved as C:\\Users\\baatout\\PycharmProjects\\afm-vlm\\data/raw\\biology_chapter_3_3\\audio_chunks\\biology_chapter_3_3-Scene-077.wav\u001B[0m\n",
      " 71%|███████   | 77/109 [01:02<00:25,  1.26it/s]"
     ]
    },
    {
     "name": "stdout",
     "output_type": "stream",
     "text": [
      "MoviePy - Done.\n"
     ]
    },
    {
     "name": "stderr",
     "output_type": "stream",
     "text": [
      " 71%|███████   | 77/109 [01:03<00:25,  1.26it/s]"
     ]
    },
    {
     "name": "stdout",
     "output_type": "stream",
     "text": [
      "MoviePy - Writing audio in C:\\Users\\baatout\\PycharmProjects\\afm-vlm\\data/raw\\biology_chapter_3_3\\audio_chunks\\biology_chapter_3_3-Scene-078.wav\n"
     ]
    },
    {
     "name": "stderr",
     "output_type": "stream",
     "text": [
      "\n",
      "chunk:   0%|          | 0/2023 [00:00<?, ?it/s, now=None]\u001B[A\n",
      "chunk:   4%|▍         | 80/2023 [00:00<00:02, 772.03it/s, now=None]\u001B[A\n",
      "chunk:  30%|██▉       | 605/2023 [00:00<00:00, 3250.40it/s, now=None]\u001B[A\n",
      "chunk:  54%|█████▍    | 1090/2023 [00:00<00:00, 3941.11it/s, now=None]\u001B[A\n",
      "chunk:  80%|███████▉  | 1617/2023 [00:00<00:00, 4290.65it/s, now=None]\u001B[A\n",
      " 71%|███████   | 77/109 [01:03<00:25,  1.26it/s]                      \u001B[A\u001B[32m2024-06-17 10:42:57.519\u001B[0m | \u001B[1mINFO    \u001B[0m | \u001B[36msrc.video_preprocessing.download_videos.download_utils\u001B[0m:\u001B[36mextract_and_store_audio\u001B[0m:\u001B[36m287\u001B[0m - \u001B[1mAudio extracted and saved as C:\\Users\\baatout\\PycharmProjects\\afm-vlm\\data/raw\\biology_chapter_3_3\\audio_chunks\\biology_chapter_3_3-Scene-078.wav\u001B[0m\n",
      " 72%|███████▏  | 78/109 [01:03<00:26,  1.16it/s]"
     ]
    },
    {
     "name": "stdout",
     "output_type": "stream",
     "text": [
      "MoviePy - Done.\n"
     ]
    },
    {
     "name": "stderr",
     "output_type": "stream",
     "text": [
      " 72%|███████▏  | 78/109 [01:04<00:26,  1.16it/s]"
     ]
    },
    {
     "name": "stdout",
     "output_type": "stream",
     "text": [
      "MoviePy - Writing audio in C:\\Users\\baatout\\PycharmProjects\\afm-vlm\\data/raw\\biology_chapter_3_3\\audio_chunks\\biology_chapter_3_3-Scene-079.wav\n"
     ]
    },
    {
     "name": "stderr",
     "output_type": "stream",
     "text": [
      "\n",
      "chunk:   0%|          | 0/68 [00:00<?, ?it/s, now=None]\u001B[A\n",
      " 72%|███████▏  | 78/109 [01:04<00:26,  1.16it/s]       \u001B[A\u001B[32m2024-06-17 10:42:58.104\u001B[0m | \u001B[1mINFO    \u001B[0m | \u001B[36msrc.video_preprocessing.download_videos.download_utils\u001B[0m:\u001B[36mextract_and_store_audio\u001B[0m:\u001B[36m287\u001B[0m - \u001B[1mAudio extracted and saved as C:\\Users\\baatout\\PycharmProjects\\afm-vlm\\data/raw\\biology_chapter_3_3\\audio_chunks\\biology_chapter_3_3-Scene-079.wav\u001B[0m\n",
      " 72%|███████▏  | 79/109 [01:04<00:23,  1.28it/s]"
     ]
    },
    {
     "name": "stdout",
     "output_type": "stream",
     "text": [
      "MoviePy - Done.\n"
     ]
    },
    {
     "name": "stderr",
     "output_type": "stream",
     "text": [
      " 72%|███████▏  | 79/109 [01:04<00:23,  1.28it/s]"
     ]
    },
    {
     "name": "stdout",
     "output_type": "stream",
     "text": [
      "MoviePy - Writing audio in C:\\Users\\baatout\\PycharmProjects\\afm-vlm\\data/raw\\biology_chapter_3_3\\audio_chunks\\biology_chapter_3_3-Scene-080.wav\n"
     ]
    },
    {
     "name": "stderr",
     "output_type": "stream",
     "text": [
      "\n",
      "chunk:   0%|          | 0/2369 [00:00<?, ?it/s, now=None]\u001B[A\n",
      "chunk:   3%|▎         | 64/2369 [00:00<00:03, 584.95it/s, now=None]\u001B[A\n",
      "chunk:  27%|██▋       | 640/2369 [00:00<00:00, 3301.39it/s, now=None]\u001B[A\n",
      "chunk:  48%|████▊     | 1138/2369 [00:00<00:00, 4009.81it/s, now=None]\u001B[A\n",
      "chunk:  72%|███████▏  | 1703/2369 [00:00<00:00, 4467.55it/s, now=None]\u001B[A\n",
      "chunk:  95%|█████████▍| 2244/2369 [00:00<00:00, 4604.85it/s, now=None]\u001B[A\n",
      " 72%|███████▏  | 79/109 [01:05<00:23,  1.28it/s]                      \u001B[A\u001B[32m2024-06-17 10:42:59.174\u001B[0m | \u001B[1mINFO    \u001B[0m | \u001B[36msrc.video_preprocessing.download_videos.download_utils\u001B[0m:\u001B[36mextract_and_store_audio\u001B[0m:\u001B[36m287\u001B[0m - \u001B[1mAudio extracted and saved as C:\\Users\\baatout\\PycharmProjects\\afm-vlm\\data/raw\\biology_chapter_3_3\\audio_chunks\\biology_chapter_3_3-Scene-080.wav\u001B[0m\n",
      " 73%|███████▎  | 80/109 [01:05<00:25,  1.15it/s]"
     ]
    },
    {
     "name": "stdout",
     "output_type": "stream",
     "text": [
      "MoviePy - Done.\n"
     ]
    },
    {
     "name": "stderr",
     "output_type": "stream",
     "text": [
      " 73%|███████▎  | 80/109 [01:05<00:25,  1.15it/s]"
     ]
    },
    {
     "name": "stdout",
     "output_type": "stream",
     "text": [
      "MoviePy - Writing audio in C:\\Users\\baatout\\PycharmProjects\\afm-vlm\\data/raw\\biology_chapter_3_3\\audio_chunks\\biology_chapter_3_3-Scene-081.wav\n"
     ]
    },
    {
     "name": "stderr",
     "output_type": "stream",
     "text": [
      "\n",
      "chunk:   0%|          | 0/1330 [00:00<?, ?it/s, now=None]\u001B[A\n",
      "chunk:   5%|▍         | 62/1330 [00:00<00:02, 564.43it/s, now=None]\u001B[A\n",
      "chunk:  46%|████▌     | 612/1330 [00:00<00:00, 3178.61it/s, now=None]\u001B[A\n",
      "chunk:  83%|████████▎ | 1102/1330 [00:00<00:00, 3781.02it/s, now=None]\u001B[A\n",
      " 73%|███████▎  | 80/109 [01:06<00:25,  1.15it/s]                      \u001B[A\u001B[32m2024-06-17 10:43:00.054\u001B[0m | \u001B[1mINFO    \u001B[0m | \u001B[36msrc.video_preprocessing.download_videos.download_utils\u001B[0m:\u001B[36mextract_and_store_audio\u001B[0m:\u001B[36m287\u001B[0m - \u001B[1mAudio extracted and saved as C:\\Users\\baatout\\PycharmProjects\\afm-vlm\\data/raw\\biology_chapter_3_3\\audio_chunks\\biology_chapter_3_3-Scene-081.wav\u001B[0m\n",
      " 74%|███████▍  | 81/109 [01:06<00:24,  1.15it/s]"
     ]
    },
    {
     "name": "stdout",
     "output_type": "stream",
     "text": [
      "MoviePy - Done.\n"
     ]
    },
    {
     "name": "stderr",
     "output_type": "stream",
     "text": [
      " 74%|███████▍  | 81/109 [01:06<00:24,  1.15it/s]"
     ]
    },
    {
     "name": "stdout",
     "output_type": "stream",
     "text": [
      "MoviePy - Writing audio in C:\\Users\\baatout\\PycharmProjects\\afm-vlm\\data/raw\\biology_chapter_3_3\\audio_chunks\\biology_chapter_3_3-Scene-082.wav\n"
     ]
    },
    {
     "name": "stderr",
     "output_type": "stream",
     "text": [
      "\n",
      "chunk:   0%|          | 0/915 [00:00<?, ?it/s, now=None]\u001B[A\n",
      "chunk:  15%|█▌        | 140/915 [00:00<00:00, 1397.71it/s, now=None]\u001B[A\n",
      "chunk:  67%|██████▋   | 612/915 [00:00<00:00, 3345.28it/s, now=None]\u001B[A\n",
      " 74%|███████▍  | 81/109 [01:06<00:24,  1.15it/s]                    \u001B[A\u001B[32m2024-06-17 10:43:00.820\u001B[0m | \u001B[1mINFO    \u001B[0m | \u001B[36msrc.video_preprocessing.download_videos.download_utils\u001B[0m:\u001B[36mextract_and_store_audio\u001B[0m:\u001B[36m287\u001B[0m - \u001B[1mAudio extracted and saved as C:\\Users\\baatout\\PycharmProjects\\afm-vlm\\data/raw\\biology_chapter_3_3\\audio_chunks\\biology_chapter_3_3-Scene-082.wav\u001B[0m\n",
      " 75%|███████▌  | 82/109 [01:06<00:22,  1.19it/s]"
     ]
    },
    {
     "name": "stdout",
     "output_type": "stream",
     "text": [
      "MoviePy - Done.\n"
     ]
    },
    {
     "name": "stderr",
     "output_type": "stream",
     "text": [
      " 75%|███████▌  | 82/109 [01:07<00:22,  1.19it/s]"
     ]
    },
    {
     "name": "stdout",
     "output_type": "stream",
     "text": [
      "MoviePy - Writing audio in C:\\Users\\baatout\\PycharmProjects\\afm-vlm\\data/raw\\biology_chapter_3_3\\audio_chunks\\biology_chapter_3_3-Scene-083.wav\n"
     ]
    },
    {
     "name": "stderr",
     "output_type": "stream",
     "text": [
      "\n",
      "chunk:   0%|          | 0/1067 [00:00<?, ?it/s, now=None]\u001B[A\n",
      "chunk:   3%|▎         | 30/1067 [00:00<00:03, 273.27it/s, now=None]\u001B[A\n",
      "chunk:  56%|█████▌    | 595/1067 [00:00<00:00, 3139.80it/s, now=None]\u001B[A\n",
      " 75%|███████▌  | 82/109 [01:07<00:22,  1.19it/s]                     \u001B[A\u001B[32m2024-06-17 10:43:01.650\u001B[0m | \u001B[1mINFO    \u001B[0m | \u001B[36msrc.video_preprocessing.download_videos.download_utils\u001B[0m:\u001B[36mextract_and_store_audio\u001B[0m:\u001B[36m287\u001B[0m - \u001B[1mAudio extracted and saved as C:\\Users\\baatout\\PycharmProjects\\afm-vlm\\data/raw\\biology_chapter_3_3\\audio_chunks\\biology_chapter_3_3-Scene-083.wav\u001B[0m\n",
      " 76%|███████▌  | 83/109 [01:07<00:21,  1.20it/s]"
     ]
    },
    {
     "name": "stdout",
     "output_type": "stream",
     "text": [
      "MoviePy - Done.\n"
     ]
    },
    {
     "name": "stderr",
     "output_type": "stream",
     "text": [
      " 76%|███████▌  | 83/109 [01:08<00:21,  1.20it/s]"
     ]
    },
    {
     "name": "stdout",
     "output_type": "stream",
     "text": [
      "MoviePy - Writing audio in C:\\Users\\baatout\\PycharmProjects\\afm-vlm\\data/raw\\biology_chapter_3_3\\audio_chunks\\biology_chapter_3_3-Scene-084.wav\n"
     ]
    },
    {
     "name": "stderr",
     "output_type": "stream",
     "text": [
      "\n",
      "chunk:   0%|          | 0/1834 [00:00<?, ?it/s, now=None]\u001B[A\n",
      "chunk:   6%|▌         | 102/1834 [00:00<00:01, 918.37it/s, now=None]\u001B[A\n",
      "chunk:  33%|███▎      | 614/1834 [00:00<00:00, 3119.33it/s, now=None]\u001B[A\n",
      "chunk:  64%|██████▎   | 1165/1834 [00:00<00:00, 3985.72it/s, now=None]\u001B[A\n",
      "chunk:  92%|█████████▏| 1683/1834 [00:00<00:00, 4271.03it/s, now=None]\u001B[A\n",
      " 76%|███████▌  | 83/109 [01:08<00:21,  1.20it/s]                      \u001B[A\u001B[32m2024-06-17 10:43:02.634\u001B[0m | \u001B[1mINFO    \u001B[0m | \u001B[36msrc.video_preprocessing.download_videos.download_utils\u001B[0m:\u001B[36mextract_and_store_audio\u001B[0m:\u001B[36m287\u001B[0m - \u001B[1mAudio extracted and saved as C:\\Users\\baatout\\PycharmProjects\\afm-vlm\\data/raw\\biology_chapter_3_3\\audio_chunks\\biology_chapter_3_3-Scene-084.wav\u001B[0m\n",
      " 77%|███████▋  | 84/109 [01:08<00:22,  1.14it/s]"
     ]
    },
    {
     "name": "stdout",
     "output_type": "stream",
     "text": [
      "MoviePy - Done.\n"
     ]
    },
    {
     "name": "stderr",
     "output_type": "stream",
     "text": [
      " 77%|███████▋  | 84/109 [01:09<00:22,  1.14it/s]"
     ]
    },
    {
     "name": "stdout",
     "output_type": "stream",
     "text": [
      "MoviePy - Writing audio in C:\\Users\\baatout\\PycharmProjects\\afm-vlm\\data/raw\\biology_chapter_3_3\\audio_chunks\\biology_chapter_3_3-Scene-085.wav\n"
     ]
    },
    {
     "name": "stderr",
     "output_type": "stream",
     "text": [
      "\n",
      "chunk:   0%|          | 0/1111 [00:00<?, ?it/s, now=None]\u001B[A\n",
      "chunk:   9%|▉         | 102/1111 [00:00<00:01, 997.43it/s, now=None]\u001B[A\n",
      "chunk:  58%|█████▊    | 641/1111 [00:00<00:00, 3471.52it/s, now=None]\u001B[A\n",
      " 77%|███████▋  | 84/109 [01:09<00:22,  1.14it/s]                     \u001B[A\u001B[32m2024-06-17 10:43:03.430\u001B[0m | \u001B[1mINFO    \u001B[0m | \u001B[36msrc.video_preprocessing.download_videos.download_utils\u001B[0m:\u001B[36mextract_and_store_audio\u001B[0m:\u001B[36m287\u001B[0m - \u001B[1mAudio extracted and saved as C:\\Users\\baatout\\PycharmProjects\\afm-vlm\\data/raw\\biology_chapter_3_3\\audio_chunks\\biology_chapter_3_3-Scene-085.wav\u001B[0m\n",
      " 78%|███████▊  | 85/109 [01:09<00:20,  1.17it/s]"
     ]
    },
    {
     "name": "stdout",
     "output_type": "stream",
     "text": [
      "MoviePy - Done.\n"
     ]
    },
    {
     "name": "stderr",
     "output_type": "stream",
     "text": [
      " 78%|███████▊  | 85/109 [01:10<00:20,  1.17it/s]"
     ]
    },
    {
     "name": "stdout",
     "output_type": "stream",
     "text": [
      "MoviePy - Writing audio in C:\\Users\\baatout\\PycharmProjects\\afm-vlm\\data/raw\\biology_chapter_3_3\\audio_chunks\\biology_chapter_3_3-Scene-086.wav\n"
     ]
    },
    {
     "name": "stderr",
     "output_type": "stream",
     "text": [
      "\n",
      "chunk:   0%|          | 0/1872 [00:00<?, ?it/s, now=None]\u001B[A\n",
      "chunk:   2%|▏         | 29/1872 [00:00<00:06, 264.15it/s, now=None]\u001B[A\n",
      "chunk:  30%|██▉       | 561/1872 [00:00<00:00, 2959.31it/s, now=None]\u001B[A\n",
      "chunk:  57%|█████▋    | 1071/1872 [00:00<00:00, 3729.18it/s, now=None]\u001B[A\n",
      "chunk:  88%|████████▊ | 1648/1872 [00:00<00:00, 4290.00it/s, now=None]\u001B[A\n",
      " 78%|███████▊  | 85/109 [01:10<00:20,  1.17it/s]                      \u001B[A\u001B[32m2024-06-17 10:43:04.453\u001B[0m | \u001B[1mINFO    \u001B[0m | \u001B[36msrc.video_preprocessing.download_videos.download_utils\u001B[0m:\u001B[36mextract_and_store_audio\u001B[0m:\u001B[36m287\u001B[0m - \u001B[1mAudio extracted and saved as C:\\Users\\baatout\\PycharmProjects\\afm-vlm\\data/raw\\biology_chapter_3_3\\audio_chunks\\biology_chapter_3_3-Scene-086.wav\u001B[0m\n",
      " 79%|███████▉  | 86/109 [01:10<00:20,  1.10it/s]"
     ]
    },
    {
     "name": "stdout",
     "output_type": "stream",
     "text": [
      "MoviePy - Done.\n"
     ]
    },
    {
     "name": "stderr",
     "output_type": "stream",
     "text": [
      " 79%|███████▉  | 86/109 [01:11<00:20,  1.10it/s]"
     ]
    },
    {
     "name": "stdout",
     "output_type": "stream",
     "text": [
      "MoviePy - Writing audio in C:\\Users\\baatout\\PycharmProjects\\afm-vlm\\data/raw\\biology_chapter_3_3\\audio_chunks\\biology_chapter_3_3-Scene-087.wav\n"
     ]
    },
    {
     "name": "stderr",
     "output_type": "stream",
     "text": [
      "\n",
      "chunk:   0%|          | 0/714 [00:00<?, ?it/s, now=None]\u001B[A\n",
      "chunk:  23%|██▎       | 165/714 [00:00<00:00, 1428.86it/s, now=None]\u001B[A\n",
      " 79%|███████▉  | 86/109 [01:11<00:20,  1.10it/s]                    \u001B[A\u001B[32m2024-06-17 10:43:05.197\u001B[0m | \u001B[1mINFO    \u001B[0m | \u001B[36msrc.video_preprocessing.download_videos.download_utils\u001B[0m:\u001B[36mextract_and_store_audio\u001B[0m:\u001B[36m287\u001B[0m - \u001B[1mAudio extracted and saved as C:\\Users\\baatout\\PycharmProjects\\afm-vlm\\data/raw\\biology_chapter_3_3\\audio_chunks\\biology_chapter_3_3-Scene-087.wav\u001B[0m\n",
      " 80%|███████▉  | 87/109 [01:11<00:18,  1.17it/s]"
     ]
    },
    {
     "name": "stdout",
     "output_type": "stream",
     "text": [
      "MoviePy - Done.\n"
     ]
    },
    {
     "name": "stderr",
     "output_type": "stream",
     "text": [
      " 80%|███████▉  | 87/109 [01:11<00:18,  1.17it/s]"
     ]
    },
    {
     "name": "stdout",
     "output_type": "stream",
     "text": [
      "MoviePy - Writing audio in C:\\Users\\baatout\\PycharmProjects\\afm-vlm\\data/raw\\biology_chapter_3_3\\audio_chunks\\biology_chapter_3_3-Scene-088.wav\n"
     ]
    },
    {
     "name": "stderr",
     "output_type": "stream",
     "text": [
      "\n",
      "chunk:   0%|          | 0/602 [00:00<?, ?it/s, now=None]\u001B[A\n",
      "chunk:  18%|█▊        | 110/602 [00:00<00:00, 1001.89it/s, now=None]\u001B[A\n",
      " 80%|███████▉  | 87/109 [01:12<00:18,  1.17it/s]                    \u001B[A\u001B[32m2024-06-17 10:43:05.956\u001B[0m | \u001B[1mINFO    \u001B[0m | \u001B[36msrc.video_preprocessing.download_videos.download_utils\u001B[0m:\u001B[36mextract_and_store_audio\u001B[0m:\u001B[36m287\u001B[0m - \u001B[1mAudio extracted and saved as C:\\Users\\baatout\\PycharmProjects\\afm-vlm\\data/raw\\biology_chapter_3_3\\audio_chunks\\biology_chapter_3_3-Scene-088.wav\u001B[0m\n",
      " 81%|████████  | 88/109 [01:12<00:17,  1.21it/s]"
     ]
    },
    {
     "name": "stdout",
     "output_type": "stream",
     "text": [
      "MoviePy - Done.\n"
     ]
    },
    {
     "name": "stderr",
     "output_type": "stream",
     "text": [
      " 81%|████████  | 88/109 [01:12<00:17,  1.21it/s]"
     ]
    },
    {
     "name": "stdout",
     "output_type": "stream",
     "text": [
      "MoviePy - Writing audio in C:\\Users\\baatout\\PycharmProjects\\afm-vlm\\data/raw\\biology_chapter_3_3\\audio_chunks\\biology_chapter_3_3-Scene-089.wav\n"
     ]
    },
    {
     "name": "stderr",
     "output_type": "stream",
     "text": [
      "\n",
      "chunk:   0%|          | 0/45 [00:00<?, ?it/s, now=None]\u001B[A\n",
      " 81%|████████  | 88/109 [01:12<00:17,  1.21it/s]       \u001B[A\u001B[32m2024-06-17 10:43:06.648\u001B[0m | \u001B[1mINFO    \u001B[0m | \u001B[36msrc.video_preprocessing.download_videos.download_utils\u001B[0m:\u001B[36mextract_and_store_audio\u001B[0m:\u001B[36m287\u001B[0m - \u001B[1mAudio extracted and saved as C:\\Users\\baatout\\PycharmProjects\\afm-vlm\\data/raw\\biology_chapter_3_3\\audio_chunks\\biology_chapter_3_3-Scene-089.wav\u001B[0m\n",
      " 82%|████████▏ | 89/109 [01:12<00:15,  1.27it/s]"
     ]
    },
    {
     "name": "stdout",
     "output_type": "stream",
     "text": [
      "MoviePy - Done.\n"
     ]
    },
    {
     "name": "stderr",
     "output_type": "stream",
     "text": [
      " 82%|████████▏ | 89/109 [01:13<00:15,  1.27it/s]"
     ]
    },
    {
     "name": "stdout",
     "output_type": "stream",
     "text": [
      "MoviePy - Writing audio in C:\\Users\\baatout\\PycharmProjects\\afm-vlm\\data/raw\\biology_chapter_3_3\\audio_chunks\\biology_chapter_3_3-Scene-090.wav\n"
     ]
    },
    {
     "name": "stderr",
     "output_type": "stream",
     "text": [
      "\n",
      "chunk:   0%|          | 0/152 [00:00<?, ?it/s, now=None]\u001B[A\n",
      "chunk:   2%|▏         | 3/152 [00:00<00:05, 27.31it/s, now=None]\u001B[A\n",
      " 82%|████████▏ | 89/109 [01:13<00:15,  1.27it/s]                \u001B[A\u001B[32m2024-06-17 10:43:07.383\u001B[0m | \u001B[1mINFO    \u001B[0m | \u001B[36msrc.video_preprocessing.download_videos.download_utils\u001B[0m:\u001B[36mextract_and_store_audio\u001B[0m:\u001B[36m287\u001B[0m - \u001B[1mAudio extracted and saved as C:\\Users\\baatout\\PycharmProjects\\afm-vlm\\data/raw\\biology_chapter_3_3\\audio_chunks\\biology_chapter_3_3-Scene-090.wav\u001B[0m\n",
      " 83%|████████▎ | 90/109 [01:13<00:14,  1.29it/s]"
     ]
    },
    {
     "name": "stdout",
     "output_type": "stream",
     "text": [
      "MoviePy - Done.\n"
     ]
    },
    {
     "name": "stderr",
     "output_type": "stream",
     "text": [
      " 83%|████████▎ | 90/109 [01:14<00:14,  1.29it/s]"
     ]
    },
    {
     "name": "stdout",
     "output_type": "stream",
     "text": [
      "MoviePy - Writing audio in C:\\Users\\baatout\\PycharmProjects\\afm-vlm\\data/raw\\biology_chapter_3_3\\audio_chunks\\biology_chapter_3_3-Scene-091.wav\n"
     ]
    },
    {
     "name": "stderr",
     "output_type": "stream",
     "text": [
      "\n",
      "chunk:   0%|          | 0/865 [00:00<?, ?it/s, now=None]\u001B[A\n",
      "chunk:   1%|▏         | 12/865 [00:00<00:07, 109.69it/s, now=None]\u001B[A\n",
      "chunk:   6%|▌         | 54/865 [00:00<00:03, 247.38it/s, now=None]\u001B[A\n",
      "chunk:  71%|███████   | 612/865 [00:00<00:00, 2350.48it/s, now=None]\u001B[A\n",
      " 83%|████████▎ | 90/109 [01:14<00:14,  1.29it/s]                    \u001B[A\u001B[32m2024-06-17 10:43:08.396\u001B[0m | \u001B[1mINFO    \u001B[0m | \u001B[36msrc.video_preprocessing.download_videos.download_utils\u001B[0m:\u001B[36mextract_and_store_audio\u001B[0m:\u001B[36m287\u001B[0m - \u001B[1mAudio extracted and saved as C:\\Users\\baatout\\PycharmProjects\\afm-vlm\\data/raw\\biology_chapter_3_3\\audio_chunks\\biology_chapter_3_3-Scene-091.wav\u001B[0m\n",
      " 83%|████████▎ | 91/109 [01:14<00:15,  1.19it/s]"
     ]
    },
    {
     "name": "stdout",
     "output_type": "stream",
     "text": [
      "MoviePy - Done.\n"
     ]
    },
    {
     "name": "stderr",
     "output_type": "stream",
     "text": [
      " 83%|████████▎ | 91/109 [01:14<00:15,  1.19it/s]"
     ]
    },
    {
     "name": "stdout",
     "output_type": "stream",
     "text": [
      "MoviePy - Writing audio in C:\\Users\\baatout\\PycharmProjects\\afm-vlm\\data/raw\\biology_chapter_3_3\\audio_chunks\\biology_chapter_3_3-Scene-092.wav\n"
     ]
    },
    {
     "name": "stderr",
     "output_type": "stream",
     "text": [
      "\n",
      "chunk:   0%|          | 0/559 [00:00<?, ?it/s, now=None]\u001B[A\n",
      "chunk:  27%|██▋       | 153/559 [00:00<00:00, 1393.39it/s, now=None]\u001B[A\n",
      " 83%|████████▎ | 91/109 [01:15<00:15,  1.19it/s]                    \u001B[A\u001B[32m2024-06-17 10:43:09.092\u001B[0m | \u001B[1mINFO    \u001B[0m | \u001B[36msrc.video_preprocessing.download_videos.download_utils\u001B[0m:\u001B[36mextract_and_store_audio\u001B[0m:\u001B[36m287\u001B[0m - \u001B[1mAudio extracted and saved as C:\\Users\\baatout\\PycharmProjects\\afm-vlm\\data/raw\\biology_chapter_3_3\\audio_chunks\\biology_chapter_3_3-Scene-092.wav\u001B[0m\n",
      " 84%|████████▍ | 92/109 [01:15<00:13,  1.25it/s]"
     ]
    },
    {
     "name": "stdout",
     "output_type": "stream",
     "text": [
      "MoviePy - Done.\n"
     ]
    },
    {
     "name": "stderr",
     "output_type": "stream",
     "text": [
      " 84%|████████▍ | 92/109 [01:15<00:13,  1.25it/s]"
     ]
    },
    {
     "name": "stdout",
     "output_type": "stream",
     "text": [
      "MoviePy - Writing audio in C:\\Users\\baatout\\PycharmProjects\\afm-vlm\\data/raw\\biology_chapter_3_3\\audio_chunks\\biology_chapter_3_3-Scene-093.wav\n"
     ]
    },
    {
     "name": "stderr",
     "output_type": "stream",
     "text": [
      "\n",
      "chunk:   0%|          | 0/325 [00:00<?, ?it/s, now=None]\u001B[A\n",
      "chunk:   1%|          | 3/325 [00:00<00:11, 27.27it/s, now=None]\u001B[A\n",
      " 84%|████████▍ | 92/109 [01:15<00:13,  1.25it/s]                \u001B[A\u001B[32m2024-06-17 10:43:09.827\u001B[0m | \u001B[1mINFO    \u001B[0m | \u001B[36msrc.video_preprocessing.download_videos.download_utils\u001B[0m:\u001B[36mextract_and_store_audio\u001B[0m:\u001B[36m287\u001B[0m - \u001B[1mAudio extracted and saved as C:\\Users\\baatout\\PycharmProjects\\afm-vlm\\data/raw\\biology_chapter_3_3\\audio_chunks\\biology_chapter_3_3-Scene-093.wav\u001B[0m\n",
      " 85%|████████▌ | 93/109 [01:15<00:12,  1.28it/s]"
     ]
    },
    {
     "name": "stdout",
     "output_type": "stream",
     "text": [
      "MoviePy - Done.\n"
     ]
    },
    {
     "name": "stderr",
     "output_type": "stream",
     "text": [
      " 85%|████████▌ | 93/109 [01:16<00:12,  1.28it/s]"
     ]
    },
    {
     "name": "stdout",
     "output_type": "stream",
     "text": [
      "MoviePy - Writing audio in C:\\Users\\baatout\\PycharmProjects\\afm-vlm\\data/raw\\biology_chapter_3_3\\audio_chunks\\biology_chapter_3_3-Scene-094.wav\n"
     ]
    },
    {
     "name": "stderr",
     "output_type": "stream",
     "text": [
      "\n",
      "chunk:   0%|          | 0/1823 [00:00<?, ?it/s, now=None]\u001B[A\n",
      "chunk:   6%|▌         | 102/1823 [00:00<00:01, 983.08it/s, now=None]\u001B[A\n",
      "chunk:  34%|███▎      | 612/1823 [00:00<00:00, 3362.38it/s, now=None]\u001B[A\n",
      "chunk:  62%|██████▏   | 1122/1823 [00:00<00:00, 4144.65it/s, now=None]\u001B[A\n",
      "chunk:  90%|████████▉ | 1632/1823 [00:00<00:00, 4514.42it/s, now=None]\u001B[A\n",
      " 85%|████████▌ | 93/109 [01:16<00:12,  1.28it/s]                      \u001B[A\u001B[32m2024-06-17 10:43:10.812\u001B[0m | \u001B[1mINFO    \u001B[0m | \u001B[36msrc.video_preprocessing.download_videos.download_utils\u001B[0m:\u001B[36mextract_and_store_audio\u001B[0m:\u001B[36m287\u001B[0m - \u001B[1mAudio extracted and saved as C:\\Users\\baatout\\PycharmProjects\\afm-vlm\\data/raw\\biology_chapter_3_3\\audio_chunks\\biology_chapter_3_3-Scene-094.wav\u001B[0m\n",
      " 86%|████████▌ | 94/109 [01:16<00:12,  1.19it/s]"
     ]
    },
    {
     "name": "stdout",
     "output_type": "stream",
     "text": [
      "MoviePy - Done.\n"
     ]
    },
    {
     "name": "stderr",
     "output_type": "stream",
     "text": [
      " 86%|████████▌ | 94/109 [01:17<00:12,  1.19it/s]"
     ]
    },
    {
     "name": "stdout",
     "output_type": "stream",
     "text": [
      "MoviePy - Writing audio in C:\\Users\\baatout\\PycharmProjects\\afm-vlm\\data/raw\\biology_chapter_3_3\\audio_chunks\\biology_chapter_3_3-Scene-095.wav\n"
     ]
    },
    {
     "name": "stderr",
     "output_type": "stream",
     "text": [
      "\n",
      "chunk:   0%|          | 0/520 [00:00<?, ?it/s, now=None]\u001B[A\n",
      "chunk:  20%|█▉        | 102/520 [00:00<00:00, 962.93it/s, now=None]\u001B[A\n",
      " 86%|████████▌ | 94/109 [01:17<00:12,  1.19it/s]                   \u001B[A\u001B[32m2024-06-17 10:43:11.517\u001B[0m | \u001B[1mINFO    \u001B[0m | \u001B[36msrc.video_preprocessing.download_videos.download_utils\u001B[0m:\u001B[36mextract_and_store_audio\u001B[0m:\u001B[36m287\u001B[0m - \u001B[1mAudio extracted and saved as C:\\Users\\baatout\\PycharmProjects\\afm-vlm\\data/raw\\biology_chapter_3_3\\audio_chunks\\biology_chapter_3_3-Scene-095.wav\u001B[0m\n",
      " 87%|████████▋ | 95/109 [01:17<00:11,  1.25it/s]"
     ]
    },
    {
     "name": "stdout",
     "output_type": "stream",
     "text": [
      "MoviePy - Done.\n"
     ]
    },
    {
     "name": "stderr",
     "output_type": "stream",
     "text": [
      " 87%|████████▋ | 95/109 [01:18<00:11,  1.25it/s]"
     ]
    },
    {
     "name": "stdout",
     "output_type": "stream",
     "text": [
      "MoviePy - Writing audio in C:\\Users\\baatout\\PycharmProjects\\afm-vlm\\data/raw\\biology_chapter_3_3\\audio_chunks\\biology_chapter_3_3-Scene-096.wav\n"
     ]
    },
    {
     "name": "stderr",
     "output_type": "stream",
     "text": [
      "\n",
      "chunk:   0%|          | 0/50 [00:00<?, ?it/s, now=None]\u001B[A\n",
      " 87%|████████▋ | 95/109 [01:18<00:11,  1.25it/s]       \u001B[A\u001B[32m2024-06-17 10:43:12.153\u001B[0m | \u001B[1mINFO    \u001B[0m | \u001B[36msrc.video_preprocessing.download_videos.download_utils\u001B[0m:\u001B[36mextract_and_store_audio\u001B[0m:\u001B[36m287\u001B[0m - \u001B[1mAudio extracted and saved as C:\\Users\\baatout\\PycharmProjects\\afm-vlm\\data/raw\\biology_chapter_3_3\\audio_chunks\\biology_chapter_3_3-Scene-096.wav\u001B[0m\n",
      " 88%|████████▊ | 96/109 [01:18<00:09,  1.33it/s]"
     ]
    },
    {
     "name": "stdout",
     "output_type": "stream",
     "text": [
      "MoviePy - Done.\n"
     ]
    },
    {
     "name": "stderr",
     "output_type": "stream",
     "text": [
      " 88%|████████▊ | 96/109 [01:18<00:09,  1.33it/s]"
     ]
    },
    {
     "name": "stdout",
     "output_type": "stream",
     "text": [
      "MoviePy - Writing audio in C:\\Users\\baatout\\PycharmProjects\\afm-vlm\\data/raw\\biology_chapter_3_3\\audio_chunks\\biology_chapter_3_3-Scene-097.wav\n"
     ]
    },
    {
     "name": "stderr",
     "output_type": "stream",
     "text": [
      "\n",
      "chunk:   0%|          | 0/283 [00:00<?, ?it/s, now=None]\u001B[A\n",
      "chunk:  49%|████▉     | 138/283 [00:00<00:00, 1377.42it/s, now=None]\u001B[A\n",
      " 88%|████████▊ | 96/109 [01:18<00:09,  1.33it/s]                    \u001B[A\u001B[32m2024-06-17 10:43:12.800\u001B[0m | \u001B[1mINFO    \u001B[0m | \u001B[36msrc.video_preprocessing.download_videos.download_utils\u001B[0m:\u001B[36mextract_and_store_audio\u001B[0m:\u001B[36m287\u001B[0m - \u001B[1mAudio extracted and saved as C:\\Users\\baatout\\PycharmProjects\\afm-vlm\\data/raw\\biology_chapter_3_3\\audio_chunks\\biology_chapter_3_3-Scene-097.wav\u001B[0m\n",
      " 89%|████████▉ | 97/109 [01:18<00:08,  1.39it/s]"
     ]
    },
    {
     "name": "stdout",
     "output_type": "stream",
     "text": [
      "MoviePy - Done.\n"
     ]
    },
    {
     "name": "stderr",
     "output_type": "stream",
     "text": [
      " 89%|████████▉ | 97/109 [01:19<00:08,  1.39it/s]"
     ]
    },
    {
     "name": "stdout",
     "output_type": "stream",
     "text": [
      "MoviePy - Writing audio in C:\\Users\\baatout\\PycharmProjects\\afm-vlm\\data/raw\\biology_chapter_3_3\\audio_chunks\\biology_chapter_3_3-Scene-098.wav\n"
     ]
    },
    {
     "name": "stderr",
     "output_type": "stream",
     "text": [
      "\n",
      "chunk:   0%|          | 0/1352 [00:00<?, ?it/s, now=None]\u001B[A\n",
      "chunk:  11%|█▏        | 153/1352 [00:00<00:00, 1389.99it/s, now=None]\u001B[A\n",
      "chunk:  54%|█████▍    | 736/1352 [00:00<00:00, 3692.66it/s, now=None]\u001B[A\n",
      "chunk:  94%|█████████▍| 1275/1352 [00:00<00:00, 4190.62it/s, now=None]\u001B[A\n",
      " 89%|████████▉ | 97/109 [01:19<00:08,  1.39it/s]                      \u001B[A\u001B[32m2024-06-17 10:43:13.683\u001B[0m | \u001B[1mINFO    \u001B[0m | \u001B[36msrc.video_preprocessing.download_videos.download_utils\u001B[0m:\u001B[36mextract_and_store_audio\u001B[0m:\u001B[36m287\u001B[0m - \u001B[1mAudio extracted and saved as C:\\Users\\baatout\\PycharmProjects\\afm-vlm\\data/raw\\biology_chapter_3_3\\audio_chunks\\biology_chapter_3_3-Scene-098.wav\u001B[0m\n",
      " 90%|████████▉ | 98/109 [01:19<00:08,  1.30it/s]"
     ]
    },
    {
     "name": "stdout",
     "output_type": "stream",
     "text": [
      "MoviePy - Done.\n"
     ]
    },
    {
     "name": "stderr",
     "output_type": "stream",
     "text": [
      " 90%|████████▉ | 98/109 [01:20<00:08,  1.30it/s]"
     ]
    },
    {
     "name": "stdout",
     "output_type": "stream",
     "text": [
      "MoviePy - Writing audio in C:\\Users\\baatout\\PycharmProjects\\afm-vlm\\data/raw\\biology_chapter_3_3\\audio_chunks\\biology_chapter_3_3-Scene-099.wav\n"
     ]
    },
    {
     "name": "stderr",
     "output_type": "stream",
     "text": [
      "\n",
      "chunk:   0%|          | 0/106 [00:00<?, ?it/s, now=None]\u001B[A\n",
      " 90%|████████▉ | 98/109 [01:20<00:08,  1.30it/s]        \u001B[A\u001B[32m2024-06-17 10:43:14.299\u001B[0m | \u001B[1mINFO    \u001B[0m | \u001B[36msrc.video_preprocessing.download_videos.download_utils\u001B[0m:\u001B[36mextract_and_store_audio\u001B[0m:\u001B[36m287\u001B[0m - \u001B[1mAudio extracted and saved as C:\\Users\\baatout\\PycharmProjects\\afm-vlm\\data/raw\\biology_chapter_3_3\\audio_chunks\\biology_chapter_3_3-Scene-099.wav\u001B[0m\n",
      " 91%|█████████ | 99/109 [01:20<00:07,  1.38it/s]"
     ]
    },
    {
     "name": "stdout",
     "output_type": "stream",
     "text": [
      "MoviePy - Done.\n"
     ]
    },
    {
     "name": "stderr",
     "output_type": "stream",
     "text": [
      " 91%|█████████ | 99/109 [01:20<00:07,  1.38it/s]"
     ]
    },
    {
     "name": "stdout",
     "output_type": "stream",
     "text": [
      "MoviePy - Writing audio in C:\\Users\\baatout\\PycharmProjects\\afm-vlm\\data/raw\\biology_chapter_3_3\\audio_chunks\\biology_chapter_3_3-Scene-100.wav\n"
     ]
    },
    {
     "name": "stderr",
     "output_type": "stream",
     "text": [
      "\n",
      "chunk:   0%|          | 0/1393 [00:00<?, ?it/s, now=None]\u001B[A\n",
      "chunk:   8%|▊         | 115/1393 [00:00<00:01, 1044.01it/s, now=None]\u001B[A\n",
      "chunk:  51%|█████▏    | 714/1393 [00:00<00:00, 3635.99it/s, now=None]\u001B[A\n",
      "chunk:  92%|█████████▏| 1275/1393 [00:00<00:00, 4308.63it/s, now=None]\u001B[A\n",
      " 91%|█████████ | 99/109 [01:21<00:07,  1.38it/s]                      \u001B[A\u001B[32m2024-06-17 10:43:15.169\u001B[0m | \u001B[1mINFO    \u001B[0m | \u001B[36msrc.video_preprocessing.download_videos.download_utils\u001B[0m:\u001B[36mextract_and_store_audio\u001B[0m:\u001B[36m287\u001B[0m - \u001B[1mAudio extracted and saved as C:\\Users\\baatout\\PycharmProjects\\afm-vlm\\data/raw\\biology_chapter_3_3\\audio_chunks\\biology_chapter_3_3-Scene-100.wav\u001B[0m\n",
      " 92%|█████████▏| 100/109 [01:21<00:06,  1.30it/s]"
     ]
    },
    {
     "name": "stdout",
     "output_type": "stream",
     "text": [
      "MoviePy - Done.\n"
     ]
    },
    {
     "name": "stderr",
     "output_type": "stream",
     "text": [
      " 92%|█████████▏| 100/109 [01:21<00:06,  1.30it/s]"
     ]
    },
    {
     "name": "stdout",
     "output_type": "stream",
     "text": [
      "MoviePy - Writing audio in C:\\Users\\baatout\\PycharmProjects\\afm-vlm\\data/raw\\biology_chapter_3_3\\audio_chunks\\biology_chapter_3_3-Scene-101.wav\n"
     ]
    },
    {
     "name": "stderr",
     "output_type": "stream",
     "text": [
      "\n",
      "chunk:   0%|          | 0/18 [00:00<?, ?it/s, now=None]\u001B[A\n",
      " 92%|█████████▏| 100/109 [01:21<00:06,  1.30it/s]      \u001B[A\u001B[32m2024-06-17 10:43:15.781\u001B[0m | \u001B[1mINFO    \u001B[0m | \u001B[36msrc.video_preprocessing.download_videos.download_utils\u001B[0m:\u001B[36mextract_and_store_audio\u001B[0m:\u001B[36m287\u001B[0m - \u001B[1mAudio extracted and saved as C:\\Users\\baatout\\PycharmProjects\\afm-vlm\\data/raw\\biology_chapter_3_3\\audio_chunks\\biology_chapter_3_3-Scene-101.wav\u001B[0m\n",
      " 93%|█████████▎| 101/109 [01:21<00:05,  1.39it/s]"
     ]
    },
    {
     "name": "stdout",
     "output_type": "stream",
     "text": [
      "MoviePy - Done.\n"
     ]
    },
    {
     "name": "stderr",
     "output_type": "stream",
     "text": [
      " 93%|█████████▎| 101/109 [01:22<00:05,  1.39it/s]"
     ]
    },
    {
     "name": "stdout",
     "output_type": "stream",
     "text": [
      "MoviePy - Writing audio in C:\\Users\\baatout\\PycharmProjects\\afm-vlm\\data/raw\\biology_chapter_3_3\\audio_chunks\\biology_chapter_3_3-Scene-102.wav\n"
     ]
    },
    {
     "name": "stderr",
     "output_type": "stream",
     "text": [
      "\n",
      "chunk:   0%|          | 0/1137 [00:00<?, ?it/s, now=None]\u001B[A\n",
      "chunk:   9%|▉         | 102/1137 [00:00<00:01, 998.38it/s, now=None]\u001B[A\n",
      "chunk:  58%|█████▊    | 663/1137 [00:00<00:00, 3488.27it/s, now=None]\u001B[A\n",
      " 93%|█████████▎| 101/109 [01:22<00:05,  1.39it/s]                    \u001B[A\u001B[32m2024-06-17 10:43:16.597\u001B[0m | \u001B[1mINFO    \u001B[0m | \u001B[36msrc.video_preprocessing.download_videos.download_utils\u001B[0m:\u001B[36mextract_and_store_audio\u001B[0m:\u001B[36m287\u001B[0m - \u001B[1mAudio extracted and saved as C:\\Users\\baatout\\PycharmProjects\\afm-vlm\\data/raw\\biology_chapter_3_3\\audio_chunks\\biology_chapter_3_3-Scene-102.wav\u001B[0m\n",
      " 94%|█████████▎| 102/109 [01:22<00:05,  1.33it/s]"
     ]
    },
    {
     "name": "stdout",
     "output_type": "stream",
     "text": [
      "MoviePy - Done.\n"
     ]
    },
    {
     "name": "stderr",
     "output_type": "stream",
     "text": [
      " 94%|█████████▎| 102/109 [01:23<00:05,  1.33it/s]"
     ]
    },
    {
     "name": "stdout",
     "output_type": "stream",
     "text": [
      "MoviePy - Writing audio in C:\\Users\\baatout\\PycharmProjects\\afm-vlm\\data/raw\\biology_chapter_3_3\\audio_chunks\\biology_chapter_3_3-Scene-103.wav\n"
     ]
    },
    {
     "name": "stderr",
     "output_type": "stream",
     "text": [
      "\n",
      "chunk:   0%|          | 0/1021 [00:00<?, ?it/s, now=None]\u001B[A\n",
      "chunk:  10%|▉         | 102/1021 [00:00<00:00, 927.43it/s, now=None]\u001B[A\n",
      "chunk:  50%|████▉     | 510/1021 [00:00<00:00, 2601.83it/s, now=None]\u001B[A\n",
      "chunk:  90%|████████▉ | 918/1021 [00:00<00:00, 3229.96it/s, now=None]\u001B[A\n",
      " 94%|█████████▎| 102/109 [01:23<00:05,  1.33it/s]                    \u001B[A\u001B[32m2024-06-17 10:43:17.543\u001B[0m | \u001B[1mINFO    \u001B[0m | \u001B[36msrc.video_preprocessing.download_videos.download_utils\u001B[0m:\u001B[36mextract_and_store_audio\u001B[0m:\u001B[36m287\u001B[0m - \u001B[1mAudio extracted and saved as C:\\Users\\baatout\\PycharmProjects\\afm-vlm\\data/raw\\biology_chapter_3_3\\audio_chunks\\biology_chapter_3_3-Scene-103.wav\u001B[0m\n",
      " 94%|█████████▍| 103/109 [01:23<00:04,  1.24it/s]"
     ]
    },
    {
     "name": "stdout",
     "output_type": "stream",
     "text": [
      "MoviePy - Done.\n"
     ]
    },
    {
     "name": "stderr",
     "output_type": "stream",
     "text": [
      " 94%|█████████▍| 103/109 [01:24<00:04,  1.24it/s]"
     ]
    },
    {
     "name": "stdout",
     "output_type": "stream",
     "text": [
      "MoviePy - Writing audio in C:\\Users\\baatout\\PycharmProjects\\afm-vlm\\data/raw\\biology_chapter_3_3\\audio_chunks\\biology_chapter_3_3-Scene-104.wav\n"
     ]
    },
    {
     "name": "stderr",
     "output_type": "stream",
     "text": [
      "\n",
      "chunk:   0%|          | 0/922 [00:00<?, ?it/s, now=None]\u001B[A\n",
      "chunk:  20%|█▉        | 184/922 [00:00<00:00, 1675.49it/s, now=None]\u001B[A\n",
      "chunk:  72%|███████▏  | 663/922 [00:00<00:00, 3413.73it/s, now=None]\u001B[A\n",
      " 94%|█████████▍| 103/109 [01:24<00:04,  1.24it/s]                   \u001B[A\u001B[32m2024-06-17 10:43:18.430\u001B[0m | \u001B[1mINFO    \u001B[0m | \u001B[36msrc.video_preprocessing.download_videos.download_utils\u001B[0m:\u001B[36mextract_and_store_audio\u001B[0m:\u001B[36m287\u001B[0m - \u001B[1mAudio extracted and saved as C:\\Users\\baatout\\PycharmProjects\\afm-vlm\\data/raw\\biology_chapter_3_3\\audio_chunks\\biology_chapter_3_3-Scene-104.wav\u001B[0m\n",
      " 95%|█████████▌| 104/109 [01:24<00:04,  1.20it/s]"
     ]
    },
    {
     "name": "stdout",
     "output_type": "stream",
     "text": [
      "MoviePy - Done.\n"
     ]
    },
    {
     "name": "stderr",
     "output_type": "stream",
     "text": [
      " 95%|█████████▌| 104/109 [01:25<00:04,  1.20it/s]"
     ]
    },
    {
     "name": "stdout",
     "output_type": "stream",
     "text": [
      "MoviePy - Writing audio in C:\\Users\\baatout\\PycharmProjects\\afm-vlm\\data/raw\\biology_chapter_3_3\\audio_chunks\\biology_chapter_3_3-Scene-105.wav\n"
     ]
    },
    {
     "name": "stderr",
     "output_type": "stream",
     "text": [
      "\n",
      "chunk:   0%|          | 0/95 [00:00<?, ?it/s, now=None]\u001B[A\n",
      " 95%|█████████▌| 104/109 [01:25<00:04,  1.20it/s]      \u001B[A\u001B[32m2024-06-17 10:43:19.158\u001B[0m | \u001B[1mINFO    \u001B[0m | \u001B[36msrc.video_preprocessing.download_videos.download_utils\u001B[0m:\u001B[36mextract_and_store_audio\u001B[0m:\u001B[36m287\u001B[0m - \u001B[1mAudio extracted and saved as C:\\Users\\baatout\\PycharmProjects\\afm-vlm\\data/raw\\biology_chapter_3_3\\audio_chunks\\biology_chapter_3_3-Scene-105.wav\u001B[0m\n",
      " 96%|█████████▋| 105/109 [01:25<00:03,  1.25it/s]"
     ]
    },
    {
     "name": "stdout",
     "output_type": "stream",
     "text": [
      "MoviePy - Done.\n"
     ]
    },
    {
     "name": "stderr",
     "output_type": "stream",
     "text": [
      " 96%|█████████▋| 105/109 [01:25<00:03,  1.25it/s]"
     ]
    },
    {
     "name": "stdout",
     "output_type": "stream",
     "text": [
      "MoviePy - Writing audio in C:\\Users\\baatout\\PycharmProjects\\afm-vlm\\data/raw\\biology_chapter_3_3\\audio_chunks\\biology_chapter_3_3-Scene-106.wav\n"
     ]
    },
    {
     "name": "stderr",
     "output_type": "stream",
     "text": [
      "\n",
      "chunk:   0%|          | 0/226 [00:00<?, ?it/s, now=None]\u001B[A\n",
      "chunk:  45%|████▌     | 102/226 [00:00<00:00, 926.64it/s, now=None]\u001B[A\n",
      "chunk: 100%|██████████| 226/226 [00:00<00:00, 943.51it/s, now=None]\u001B[A\n",
      " 96%|█████████▋| 105/109 [01:26<00:03,  1.25it/s]                  \u001B[A\u001B[32m2024-06-17 10:43:19.997\u001B[0m | \u001B[1mINFO    \u001B[0m | \u001B[36msrc.video_preprocessing.download_videos.download_utils\u001B[0m:\u001B[36mextract_and_store_audio\u001B[0m:\u001B[36m287\u001B[0m - \u001B[1mAudio extracted and saved as C:\\Users\\baatout\\PycharmProjects\\afm-vlm\\data/raw\\biology_chapter_3_3\\audio_chunks\\biology_chapter_3_3-Scene-106.wav\u001B[0m\n",
      " 97%|█████████▋| 106/109 [01:26<00:02,  1.23it/s]"
     ]
    },
    {
     "name": "stdout",
     "output_type": "stream",
     "text": [
      "MoviePy - Done.\n"
     ]
    },
    {
     "name": "stderr",
     "output_type": "stream",
     "text": [
      " 97%|█████████▋| 106/109 [01:26<00:02,  1.23it/s]"
     ]
    },
    {
     "name": "stdout",
     "output_type": "stream",
     "text": [
      "MoviePy - Writing audio in C:\\Users\\baatout\\PycharmProjects\\afm-vlm\\data/raw\\biology_chapter_3_3\\audio_chunks\\biology_chapter_3_3-Scene-107.wav\n"
     ]
    },
    {
     "name": "stderr",
     "output_type": "stream",
     "text": [
      "\n",
      "chunk:   0%|          | 0/109 [00:00<?, ?it/s, now=None]\u001B[A\n",
      "chunk:  42%|████▏     | 46/109 [00:00<00:00, 420.06it/s, now=None]\u001B[A\n",
      " 97%|█████████▋| 106/109 [01:26<00:02,  1.23it/s]                 \u001B[A\u001B[32m2024-06-17 10:43:20.679\u001B[0m | \u001B[1mINFO    \u001B[0m | \u001B[36msrc.video_preprocessing.download_videos.download_utils\u001B[0m:\u001B[36mextract_and_store_audio\u001B[0m:\u001B[36m287\u001B[0m - \u001B[1mAudio extracted and saved as C:\\Users\\baatout\\PycharmProjects\\afm-vlm\\data/raw\\biology_chapter_3_3\\audio_chunks\\biology_chapter_3_3-Scene-107.wav\u001B[0m\n",
      " 98%|█████████▊| 107/109 [01:26<00:01,  1.29it/s]"
     ]
    },
    {
     "name": "stdout",
     "output_type": "stream",
     "text": [
      "MoviePy - Done.\n"
     ]
    },
    {
     "name": "stderr",
     "output_type": "stream",
     "text": [
      " 98%|█████████▊| 107/109 [01:27<00:01,  1.29it/s]"
     ]
    },
    {
     "name": "stdout",
     "output_type": "stream",
     "text": [
      "MoviePy - Writing audio in C:\\Users\\baatout\\PycharmProjects\\afm-vlm\\data/raw\\biology_chapter_3_3\\audio_chunks\\biology_chapter_3_3-Scene-108.wav\n"
     ]
    },
    {
     "name": "stderr",
     "output_type": "stream",
     "text": [
      "\n",
      "chunk:   0%|          | 0/3009 [00:00<?, ?it/s, now=None]\u001B[A\n",
      "chunk:   4%|▎         | 107/3009 [00:00<00:02, 973.67it/s, now=None]\u001B[A\n",
      "chunk:  22%|██▏       | 663/3009 [00:00<00:00, 3377.48it/s, now=None]\u001B[A\n",
      "chunk:  42%|████▏     | 1264/3009 [00:00<00:00, 4334.77it/s, now=None]\u001B[A\n",
      "chunk:  61%|██████    | 1836/3009 [00:00<00:00, 4680.39it/s, now=None]\u001B[A\n",
      "chunk:  80%|███████▉  | 2397/3009 [00:00<00:00, 4752.53it/s, now=None]\u001B[A\n",
      "chunk:  99%|█████████▉| 2982/3009 [00:00<00:00, 4904.37it/s, now=None]\u001B[A\n",
      " 98%|█████████▊| 107/109 [01:27<00:01,  1.29it/s]                     \u001B[A\u001B[32m2024-06-17 10:43:21.893\u001B[0m | \u001B[1mINFO    \u001B[0m | \u001B[36msrc.video_preprocessing.download_videos.download_utils\u001B[0m:\u001B[36mextract_and_store_audio\u001B[0m:\u001B[36m287\u001B[0m - \u001B[1mAudio extracted and saved as C:\\Users\\baatout\\PycharmProjects\\afm-vlm\\data/raw\\biology_chapter_3_3\\audio_chunks\\biology_chapter_3_3-Scene-108.wav\u001B[0m\n",
      " 99%|█████████▉| 108/109 [01:27<00:00,  1.11it/s]"
     ]
    },
    {
     "name": "stdout",
     "output_type": "stream",
     "text": [
      "MoviePy - Done.\n"
     ]
    },
    {
     "name": "stderr",
     "output_type": "stream",
     "text": [
      " 99%|█████████▉| 108/109 [01:28<00:00,  1.11it/s]"
     ]
    },
    {
     "name": "stdout",
     "output_type": "stream",
     "text": [
      "MoviePy - Writing audio in C:\\Users\\baatout\\PycharmProjects\\afm-vlm\\data/raw\\biology_chapter_3_3\\audio_chunks\\biology_chapter_3_3-Scene-109.wav\n"
     ]
    },
    {
     "name": "stderr",
     "output_type": "stream",
     "text": [
      "\n",
      "chunk:   0%|          | 0/281 [00:00<?, ?it/s, now=None]\u001B[A\n",
      "chunk:  36%|███▋      | 102/281 [00:00<00:00, 929.06it/s, now=None]\u001B[A\n",
      " 99%|█████████▉| 108/109 [01:28<00:00,  1.11it/s]                  \u001B[A\u001B[32m2024-06-17 10:43:22.560\u001B[0m | \u001B[1mINFO    \u001B[0m | \u001B[36msrc.video_preprocessing.download_videos.download_utils\u001B[0m:\u001B[36mextract_and_store_audio\u001B[0m:\u001B[36m287\u001B[0m - \u001B[1mAudio extracted and saved as C:\\Users\\baatout\\PycharmProjects\\afm-vlm\\data/raw\\biology_chapter_3_3\\audio_chunks\\biology_chapter_3_3-Scene-109.wav\u001B[0m\n",
      "100%|██████████| 109/109 [01:28<00:00,  1.23it/s]"
     ]
    },
    {
     "name": "stdout",
     "output_type": "stream",
     "text": [
      "MoviePy - Done.\n"
     ]
    },
    {
     "name": "stderr",
     "output_type": "stream",
     "text": [
      "\n"
     ]
    }
   ],
   "execution_count": 6
  },
  {
   "attachments": {},
   "cell_type": "markdown",
   "metadata": {},
   "source": [
    "# Audio Transcription using Whisper\n",
    "\n",
    "For Faster Inference Please Use Tiny!"
   ]
  },
  {
   "cell_type": "code",
   "metadata": {
    "ExecuteTime": {
     "end_time": "2024-06-17T08:44:28.464003Z",
     "start_time": "2024-06-17T08:44:22.751722Z"
    }
   },
   "source": [
    "# Transcribe the different snippets:\n",
    "audio_dir = os.path.join(data_path, \"audio_chunks\")\n",
    "transcriptions_dir = os.path.join(data_path, \"transcriptions\")\n",
    "\n",
    "model_type = \"tiny\"  # change to 'large' if you want more accurate results,\n",
    "# change to 'medium.en' or 'large.en' for all english language tasks,\n",
    "# and change to 'small' or 'base' for faster inference\n",
    "lang = \"en\"\n",
    "\n",
    "# Run whisper on all .wav files in audio_dir\n",
    "transcribe_audio_files(audio_dir, transcriptions_dir, model_type=model_type, lang=lang)"
   ],
   "outputs": [
    {
     "name": "stderr",
     "output_type": "stream",
     "text": [
      "\u001B[32m2024-06-17 10:44:22.751\u001B[0m | \u001B[1mINFO    \u001B[0m | \u001B[36msrc.video_preprocessing.download_videos.download_utils\u001B[0m:\u001B[36mtranscribe_audio_files\u001B[0m:\u001B[36m362\u001B[0m - \u001B[1mStarting pooling:\u001B[0m\n",
      "  0%|          | 0/109 [00:05<?, ?it/s]\n"
     ]
    },
    {
     "ename": "AttributeError",
     "evalue": "module 'whisper' has no attribute 'load_model'",
     "output_type": "error",
     "traceback": [
      "\u001B[1;31m---------------------------------------------------------------------------\u001B[0m",
      "\u001B[1;31mRemoteTraceback\u001B[0m                           Traceback (most recent call last)",
      "\u001B[1;31mRemoteTraceback\u001B[0m: \n\"\"\"\nTraceback (most recent call last):\n  File \"C:\\Users\\baatout\\AppData\\Local\\Programs\\Python\\Python310\\lib\\multiprocessing\\pool.py\", line 125, in worker\n    result = (True, func(*args, **kwds))\n  File \"C:\\Users\\baatout\\PycharmProjects\\afm-vlm\\src\\video_preprocessing\\download_videos\\download_utils.py\", line 331, in transcribe_single_file\n    model = whisper.load_model(model_type)\nAttributeError: module 'whisper' has no attribute 'load_model'\n\"\"\"",
      "\nThe above exception was the direct cause of the following exception:\n",
      "\u001B[1;31mAttributeError\u001B[0m                            Traceback (most recent call last)",
      "Cell \u001B[1;32mIn[8], line 11\u001B[0m\n\u001B[0;32m      8\u001B[0m lang \u001B[38;5;241m=\u001B[39m \u001B[38;5;124m\"\u001B[39m\u001B[38;5;124men\u001B[39m\u001B[38;5;124m\"\u001B[39m\n\u001B[0;32m     10\u001B[0m \u001B[38;5;66;03m# Run whisper on all .wav files in audio_dir\u001B[39;00m\n\u001B[1;32m---> 11\u001B[0m \u001B[43mtranscribe_audio_files\u001B[49m\u001B[43m(\u001B[49m\u001B[43maudio_dir\u001B[49m\u001B[43m,\u001B[49m\u001B[43m \u001B[49m\u001B[43mtranscriptions_dir\u001B[49m\u001B[43m,\u001B[49m\u001B[43m \u001B[49m\u001B[43mmodel_type\u001B[49m\u001B[38;5;241;43m=\u001B[39;49m\u001B[43mmodel_type\u001B[49m\u001B[43m,\u001B[49m\u001B[43m \u001B[49m\u001B[43mlang\u001B[49m\u001B[38;5;241;43m=\u001B[39;49m\u001B[43mlang\u001B[49m\u001B[43m)\u001B[49m\n",
      "File \u001B[1;32m~\\PycharmProjects\\afm-vlm\\src\\video_preprocessing\\download_videos\\download_utils.py:364\u001B[0m, in \u001B[0;36mtranscribe_audio_files\u001B[1;34m(audio_dir, transcriptions_dir, model_type, lang)\u001B[0m\n\u001B[0;32m    362\u001B[0m logger\u001B[38;5;241m.\u001B[39minfo(\u001B[38;5;124m\"\u001B[39m\u001B[38;5;124mStarting pooling:\u001B[39m\u001B[38;5;124m\"\u001B[39m)\n\u001B[0;32m    363\u001B[0m \u001B[38;5;28;01mwith\u001B[39;00m Pool(processes\u001B[38;5;241m=\u001B[39mos\u001B[38;5;241m.\u001B[39mcpu_count()) \u001B[38;5;28;01mas\u001B[39;00m pool:\n\u001B[1;32m--> 364\u001B[0m     \u001B[38;5;28;43mlist\u001B[39;49m\u001B[43m(\u001B[49m\u001B[43mtqdm\u001B[49m\u001B[43m(\u001B[49m\u001B[43mpool\u001B[49m\u001B[38;5;241;43m.\u001B[39;49m\u001B[43mimap\u001B[49m\u001B[43m(\u001B[49m\u001B[43mtranscribe_single_file\u001B[49m\u001B[43m,\u001B[49m\u001B[43m \u001B[49m\u001B[43mtasks\u001B[49m\u001B[43m)\u001B[49m\u001B[43m,\u001B[49m\u001B[43m \u001B[49m\u001B[43mtotal\u001B[49m\u001B[38;5;241;43m=\u001B[39;49m\u001B[38;5;28;43mlen\u001B[39;49m\u001B[43m(\u001B[49m\u001B[43mtasks\u001B[49m\u001B[43m)\u001B[49m\u001B[43m)\u001B[49m\u001B[43m)\u001B[49m\n",
      "File \u001B[1;32m~\\AppData\\Local\\pypoetry\\Cache\\virtualenvs\\afm-vlm-y3Vw7rqv-py3.10\\lib\\site-packages\\tqdm\\std.py:1181\u001B[0m, in \u001B[0;36mtqdm.__iter__\u001B[1;34m(self)\u001B[0m\n\u001B[0;32m   1178\u001B[0m time \u001B[38;5;241m=\u001B[39m \u001B[38;5;28mself\u001B[39m\u001B[38;5;241m.\u001B[39m_time\n\u001B[0;32m   1180\u001B[0m \u001B[38;5;28;01mtry\u001B[39;00m:\n\u001B[1;32m-> 1181\u001B[0m     \u001B[38;5;28;01mfor\u001B[39;00m obj \u001B[38;5;129;01min\u001B[39;00m iterable:\n\u001B[0;32m   1182\u001B[0m         \u001B[38;5;28;01myield\u001B[39;00m obj\n\u001B[0;32m   1183\u001B[0m         \u001B[38;5;66;03m# Update and possibly print the progressbar.\u001B[39;00m\n\u001B[0;32m   1184\u001B[0m         \u001B[38;5;66;03m# Note: does not call self.update(1) for speed optimisation.\u001B[39;00m\n",
      "File \u001B[1;32m~\\AppData\\Local\\Programs\\Python\\Python310\\lib\\multiprocessing\\pool.py:873\u001B[0m, in \u001B[0;36mIMapIterator.next\u001B[1;34m(self, timeout)\u001B[0m\n\u001B[0;32m    871\u001B[0m \u001B[38;5;28;01mif\u001B[39;00m success:\n\u001B[0;32m    872\u001B[0m     \u001B[38;5;28;01mreturn\u001B[39;00m value\n\u001B[1;32m--> 873\u001B[0m \u001B[38;5;28;01mraise\u001B[39;00m value\n",
      "\u001B[1;31mAttributeError\u001B[0m: module 'whisper' has no attribute 'load_model'"
     ]
    }
   ],
   "execution_count": 8
  },
  {
   "metadata": {},
   "cell_type": "markdown",
   "source": "# Load the CLIP Model"
  },
  {
   "metadata": {
    "ExecuteTime": {
     "end_time": "2024-06-17T10:16:04.804524Z",
     "start_time": "2024-06-17T10:16:02.762522Z"
    }
   },
   "cell_type": "code",
   "source": [
    "from src.clip.clip_model import CLIPEmbeddingsModel\n",
    "\n",
    "# create instance\n",
    "clip_model = CLIPEmbeddingsModel()"
   ],
   "outputs": [
    {
     "data": {
      "text/plain": [
       "<Figure size 800x2000 with 0 Axes>"
      ]
     },
     "metadata": {},
     "output_type": "display_data"
    }
   ],
   "execution_count": 6
  },
  {
   "metadata": {
    "ExecuteTime": {
     "end_time": "2024-06-17T10:41:02.487038Z",
     "start_time": "2024-06-17T10:41:02.392682Z"
    }
   },
   "cell_type": "code",
   "source": [
    "import tqdm\n",
    "from pathlib import Path\n",
    "\n",
    "# get current directory\n",
    "# Get the path of the current notebook\n",
    "notebook_path = Path().resolve()\n",
    "image_path = os.path.join(notebook_path, 'data', 'raw', 'biology_chapter_3_3', 'extracted_keyframes')\n",
    "\n",
    "images = []\n",
    "# make a list out of the images\n",
    "for image in os.listdir(image_path):\n",
    "    if image.endswith(\".jpg\"):\n",
    "        images.append(os.path.join(image_path, image))\n",
    "\n",
    "# load and process the dataset\n",
    "image_dataset = clip_model.load_and_process_dataset(images)\n",
    "\n",
    "logger.info(f\"Image_dataset: {image_dataset}\")"
   ],
   "outputs": [
    {
     "name": "stderr",
     "output_type": "stream",
     "text": [
      "\u001B[32m2024-06-17 12:41:02.478\u001B[0m | \u001B[1mINFO    \u001B[0m | \u001B[36m__main__\u001B[0m:\u001B[36m<module>\u001B[0m:\u001B[36m18\u001B[0m - \u001B[1mImage_dataset: [<PIL.JpegImagePlugin.JpegImageFile image mode=RGB size=966x720 at 0x23F80D7FD00>, <PIL.JpegImagePlugin.JpegImageFile image mode=RGB size=966x720 at 0x23F80827C70>, <PIL.JpegImagePlugin.JpegImageFile image mode=RGB size=966x720 at 0x23F80826C80>, <PIL.JpegImagePlugin.JpegImageFile image mode=RGB size=966x720 at 0x23F80827E80>, <PIL.JpegImagePlugin.JpegImageFile image mode=RGB size=966x720 at 0x23F80825BD0>, <PIL.JpegImagePlugin.JpegImageFile image mode=RGB size=966x720 at 0x23F80826F50>, <PIL.JpegImagePlugin.JpegImageFile image mode=RGB size=966x720 at 0x23F80826F80>, <PIL.JpegImagePlugin.JpegImageFile image mode=RGB size=966x720 at 0x23F80826FB0>, <PIL.JpegImagePlugin.JpegImageFile image mode=RGB size=966x720 at 0x23F80826020>, <PIL.JpegImagePlugin.JpegImageFile image mode=RGB size=966x720 at 0x23F80825C60>, <PIL.JpegImagePlugin.JpegImageFile image mode=RGB size=966x720 at 0x23F80825EA0>, <PIL.JpegImagePlugin.JpegImageFile image mode=RGB size=966x720 at 0x23F80827A90>, <PIL.JpegImagePlugin.JpegImageFile image mode=RGB size=966x720 at 0x23F80826230>, <PIL.JpegImagePlugin.JpegImageFile image mode=RGB size=966x720 at 0x23F80827070>, <PIL.JpegImagePlugin.JpegImageFile image mode=RGB size=966x720 at 0x23F808273A0>, <PIL.JpegImagePlugin.JpegImageFile image mode=RGB size=966x720 at 0x23F808278B0>, <PIL.JpegImagePlugin.JpegImageFile image mode=RGB size=966x720 at 0x23F80826D40>, <PIL.JpegImagePlugin.JpegImageFile image mode=RGB size=966x720 at 0x23F80827370>, <PIL.JpegImagePlugin.JpegImageFile image mode=RGB size=966x720 at 0x23F80825B40>, <PIL.JpegImagePlugin.JpegImageFile image mode=RGB size=966x720 at 0x23F808273D0>, <PIL.JpegImagePlugin.JpegImageFile image mode=RGB size=966x720 at 0x23F808267A0>, <PIL.JpegImagePlugin.JpegImageFile image mode=RGB size=966x720 at 0x23F80827310>, <PIL.JpegImagePlugin.JpegImageFile image mode=RGB size=966x720 at 0x23F80827250>, <PIL.JpegImagePlugin.JpegImageFile image mode=RGB size=966x720 at 0x23F80826530>, <PIL.JpegImagePlugin.JpegImageFile image mode=RGB size=966x720 at 0x23F80825690>, <PIL.JpegImagePlugin.JpegImageFile image mode=RGB size=966x720 at 0x23F808259C0>, <PIL.JpegImagePlugin.JpegImageFile image mode=RGB size=966x720 at 0x23F808258D0>, <PIL.JpegImagePlugin.JpegImageFile image mode=RGB size=966x720 at 0x23F808256C0>, <PIL.JpegImagePlugin.JpegImageFile image mode=RGB size=966x720 at 0x23F80827550>, <PIL.JpegImagePlugin.JpegImageFile image mode=RGB size=966x720 at 0x23F80827FA0>, <PIL.JpegImagePlugin.JpegImageFile image mode=RGB size=966x720 at 0x23F80827FD0>, <PIL.JpegImagePlugin.JpegImageFile image mode=RGB size=966x720 at 0x23F808278E0>, <PIL.JpegImagePlugin.JpegImageFile image mode=RGB size=966x720 at 0x23F80827D90>, <PIL.JpegImagePlugin.JpegImageFile image mode=RGB size=966x720 at 0x23F80827430>, <PIL.JpegImagePlugin.JpegImageFile image mode=RGB size=966x720 at 0x23F80825780>, <PIL.JpegImagePlugin.JpegImageFile image mode=RGB size=966x720 at 0x23F80827E20>, <PIL.JpegImagePlugin.JpegImageFile image mode=RGB size=966x720 at 0x23F808279D0>, <PIL.JpegImagePlugin.JpegImageFile image mode=RGB size=966x720 at 0x23F808276D0>, <PIL.JpegImagePlugin.JpegImageFile image mode=RGB size=966x720 at 0x23F808259F0>, <PIL.JpegImagePlugin.JpegImageFile image mode=RGB size=966x720 at 0x23F80827160>, <PIL.JpegImagePlugin.JpegImageFile image mode=RGB size=966x720 at 0x23F80826980>, <PIL.JpegImagePlugin.JpegImageFile image mode=RGB size=966x720 at 0x23F80826DD0>, <PIL.JpegImagePlugin.JpegImageFile image mode=RGB size=966x720 at 0x23F80826D10>, <PIL.JpegImagePlugin.JpegImageFile image mode=RGB size=966x720 at 0x23F80826410>, <PIL.JpegImagePlugin.JpegImageFile image mode=RGB size=966x720 at 0x23F80827040>, <PIL.JpegImagePlugin.JpegImageFile image mode=RGB size=966x720 at 0x23F80826680>, <PIL.JpegImagePlugin.JpegImageFile image mode=RGB size=966x720 at 0x23F80826440>, <PIL.JpegImagePlugin.JpegImageFile image mode=RGB size=966x720 at 0x23F80827640>, <PIL.JpegImagePlugin.JpegImageFile image mode=RGB size=966x720 at 0x23F808270D0>, <PIL.JpegImagePlugin.JpegImageFile image mode=RGB size=966x720 at 0x23F80B91ED0>, <PIL.JpegImagePlugin.JpegImageFile image mode=RGB size=966x720 at 0x23F80B912A0>, <PIL.JpegImagePlugin.JpegImageFile image mode=RGB size=966x720 at 0x23F80B90490>, <PIL.JpegImagePlugin.JpegImageFile image mode=RGB size=966x720 at 0x23F80B92320>, <PIL.JpegImagePlugin.JpegImageFile image mode=RGB size=966x720 at 0x23F80B90190>, <PIL.JpegImagePlugin.JpegImageFile image mode=RGB size=966x720 at 0x23F80B90D60>, <PIL.JpegImagePlugin.JpegImageFile image mode=RGB size=966x720 at 0x23F80B90100>, <PIL.JpegImagePlugin.JpegImageFile image mode=RGB size=966x720 at 0x23F80B92470>, <PIL.JpegImagePlugin.JpegImageFile image mode=RGB size=966x720 at 0x23F80B91B70>, <PIL.JpegImagePlugin.JpegImageFile image mode=RGB size=966x720 at 0x23F80B90BB0>, <PIL.JpegImagePlugin.JpegImageFile image mode=RGB size=966x720 at 0x23F80B91BA0>, <PIL.JpegImagePlugin.JpegImageFile image mode=RGB size=966x720 at 0x23F80B90B20>, <PIL.JpegImagePlugin.JpegImageFile image mode=RGB size=966x720 at 0x23F80B91FC0>, <PIL.JpegImagePlugin.JpegImageFile image mode=RGB size=966x720 at 0x23F80B93E20>, <PIL.JpegImagePlugin.JpegImageFile image mode=RGB size=966x720 at 0x23F80B916F0>, <PIL.JpegImagePlugin.JpegImageFile image mode=RGB size=966x720 at 0x23F80B90D90>, <PIL.JpegImagePlugin.JpegImageFile image mode=RGB size=966x720 at 0x23F80B92380>, <PIL.JpegImagePlugin.JpegImageFile image mode=RGB size=966x720 at 0x23F80B912D0>, <PIL.JpegImagePlugin.JpegImageFile image mode=RGB size=966x720 at 0x23F80B923E0>, <PIL.JpegImagePlugin.JpegImageFile image mode=RGB size=966x720 at 0x23F80B93EB0>, <PIL.JpegImagePlugin.JpegImageFile image mode=RGB size=966x720 at 0x23F80B90C40>, <PIL.JpegImagePlugin.JpegImageFile image mode=RGB size=966x720 at 0x23F80B90700>, <PIL.JpegImagePlugin.JpegImageFile image mode=RGB size=966x720 at 0x23F80B92200>, <PIL.JpegImagePlugin.JpegImageFile image mode=RGB size=966x720 at 0x23F80B918A0>, <PIL.JpegImagePlugin.JpegImageFile image mode=RGB size=966x720 at 0x23F80B90910>, <PIL.JpegImagePlugin.JpegImageFile image mode=RGB size=966x720 at 0x23F80B90D00>, <PIL.JpegImagePlugin.JpegImageFile image mode=RGB size=966x720 at 0x23F80B91360>, <PIL.JpegImagePlugin.JpegImageFile image mode=RGB size=966x720 at 0x23F80B911B0>, <PIL.JpegImagePlugin.JpegImageFile image mode=RGB size=966x720 at 0x23F80B91C00>, <PIL.JpegImagePlugin.JpegImageFile image mode=RGB size=966x720 at 0x23F80B91E10>, <PIL.JpegImagePlugin.JpegImageFile image mode=RGB size=966x720 at 0x23F80B90160>, <PIL.JpegImagePlugin.JpegImageFile image mode=RGB size=966x720 at 0x23F80B93DF0>, <PIL.JpegImagePlugin.JpegImageFile image mode=RGB size=966x720 at 0x23F80B91C90>, <PIL.JpegImagePlugin.JpegImageFile image mode=RGB size=966x720 at 0x23F80B90A30>, <PIL.JpegImagePlugin.JpegImageFile image mode=RGB size=966x720 at 0x23F80B914E0>, <PIL.JpegImagePlugin.JpegImageFile image mode=RGB size=966x720 at 0x23F80B90C10>, <PIL.JpegImagePlugin.JpegImageFile image mode=RGB size=966x720 at 0x23F80B91930>, <PIL.JpegImagePlugin.JpegImageFile image mode=RGB size=966x720 at 0x23F80B906A0>, <PIL.JpegImagePlugin.JpegImageFile image mode=RGB size=966x720 at 0x23F7FFE16C0>, <PIL.JpegImagePlugin.JpegImageFile image mode=RGB size=966x720 at 0x23F7FFE1300>, <PIL.JpegImagePlugin.JpegImageFile image mode=RGB size=966x720 at 0x23F7FFE0400>, <PIL.JpegImagePlugin.JpegImageFile image mode=RGB size=966x720 at 0x23F7FFE12A0>, <PIL.JpegImagePlugin.JpegImageFile image mode=RGB size=966x720 at 0x23F7FFE3340>, <PIL.JpegImagePlugin.JpegImageFile image mode=RGB size=966x720 at 0x23F7FFE1030>, <PIL.JpegImagePlugin.JpegImageFile image mode=RGB size=966x720 at 0x23F7FFE3310>, <PIL.JpegImagePlugin.JpegImageFile image mode=RGB size=966x720 at 0x23F7FFE08E0>, <PIL.JpegImagePlugin.JpegImageFile image mode=RGB size=966x720 at 0x23F7FFE3460>, <PIL.JpegImagePlugin.JpegImageFile image mode=RGB size=966x720 at 0x23F7FFE1180>, <PIL.JpegImagePlugin.JpegImageFile image mode=RGB size=966x720 at 0x23F7FFE3370>, <PIL.JpegImagePlugin.JpegImageFile image mode=RGB size=966x720 at 0x23F7FFE0280>, <PIL.JpegImagePlugin.JpegImageFile image mode=RGB size=966x720 at 0x23F7FFE3160>, <PIL.JpegImagePlugin.JpegImageFile image mode=RGB size=966x720 at 0x23F7FFE3490>, <PIL.JpegImagePlugin.JpegImageFile image mode=RGB size=966x720 at 0x23F7FFE33A0>, <PIL.JpegImagePlugin.JpegImageFile image mode=RGB size=966x720 at 0x23F7FFE0100>, <PIL.JpegImagePlugin.JpegImageFile image mode=RGB size=966x720 at 0x23F7FFE1A80>, <PIL.JpegImagePlugin.JpegImageFile image mode=RGB size=966x720 at 0x23F7FFE1B10>, <PIL.JpegImagePlugin.JpegImageFile image mode=RGB size=966x720 at 0x23F7FFE0340>, <PIL.JpegImagePlugin.JpegImageFile image mode=RGB size=966x720 at 0x23F7FFE1840>, <PIL.JpegImagePlugin.JpegImageFile image mode=RGB size=966x720 at 0x23F7FFE3D90>, <PIL.JpegImagePlugin.JpegImageFile image mode=RGB size=966x720 at 0x23F7FFE1690>]\u001B[0m\n"
     ]
    }
   ],
   "execution_count": 24
  },
  {
   "metadata": {},
   "cell_type": "markdown",
   "source": [
    "# Starting the Analysis of the Information Contained in the Video\n",
    "\n",
    "### Inputs\n",
    "\n",
    "* **Transcriptions**: [insert description or link to transcription]\n",
    "* **Extraction from Slides using OCR**: [insert description or link to extracted content]\n",
    "* **Textual Interpretation of Visual Information using LLAVA**: [insert description or link to \n",
    "interpreted information]"
   ]
  },
  {
   "cell_type": "code",
   "metadata": {
    "ExecuteTime": {
     "end_time": "2024-06-17T21:02:14.765583Z",
     "start_time": "2024-06-17T21:02:10.955208Z"
    }
   },
   "source": [
    "import json\n",
    "import tqdm\n",
    "\n",
    "# Transform transcription file\n",
    "\n",
    "keyframes = {}\n",
    "ocr_extracted_text = []\n",
    "\n",
    "for filename in tqdm.tqdm(os.listdir(image_path)):\n",
    "    # Check if the file ends with the specified extension\n",
    "    if filename.endswith(\".jpg\"):\n",
    "        filepath = os.path.join(image_path, filename)\n",
    "        keyframe_num = int(filename.split(\"-\")[2])\n",
    "\n",
    "        # Extract text using OCR:\n",
    "        ocr_text = extract_text_from_image(filepath)\n",
    "        # TODO: DELETE THIS CODE - Crop the text to 50 characters\n",
    "        ocr_extracted_text.append(ocr_text)\n",
    "        logger.info(f\"OCR_results: {ocr_extracted_text}\")\n",
    "\n",
    "        transcription_file_path = os.path.join(\n",
    "            os.path.dirname(image_path),\n",
    "            \"transcriptions\",\n",
    "            filename.replace(\"-01.jpg\", \".csv\"),\n",
    "        )\n",
    "\n",
    "        transcription, timestamps = transcription_to_text(transcription_file_path)\n",
    "        logger.info(f\"Transcription_text: {transcription}\")\n",
    "\n",
    "        # Extract textual understanding of Visual features using LLAVA:\n",
    "\n",
    "        # llava_results = generate_caption_using_llava(filepath)\n",
    "        # logger.info(f\"LLava_results: {llava_results}\")\n",
    "\n",
    "        # clip_llm_summary = prompt_llm_summary(\n",
    "        #     slide_content=ocr_extracted_text,\n",
    "        #     transcription=transcription,\n",
    "        #     llava_output=llava_results,\n",
    "        # )\n",
    "\n",
    "        # extensive_summary = prompt_llm_extensive_summary(\n",
    "        #     slide_content=ocr_extracted_text,\n",
    "        #     transcription=transcription,\n",
    "        #     llava_output=llava_results,\n",
    "        # )\n",
    "\n",
    "        # Alternative that goes faster.\n",
    "        llava_results = \"llava_results\"\n",
    "        clip_llm_summary = \"clip_llm_summary\"\n",
    "        extensive_summary = \"extensive_summary\"\n",
    "        \n",
    "        # generate embeddings\n",
    "        opened_image = Image.open(filepath)\n",
    "        embeddings = clip_model.generate_image_embeddings(ocr_text, opened_image)\n",
    "        clip_text_embedding = embeddings['text_embeds']\n",
    "        clip_image_embedding = embeddings['image_embeds']\n",
    "\n",
    "        keyframe, keyframe_metadata = create_metadata(\n",
    "            keyframe_num,\n",
    "            filepath,\n",
    "            timestamps,\n",
    "            transcription,\n",
    "            ocr_extracted_text,\n",
    "            llava_results,\n",
    "            clip_llm_summary,\n",
    "            extensive_summary,\n",
    "            clip_text_embedding,\n",
    "            clip_image_embedding,\n",
    "        )\n",
    "        keyframes[keyframe] = keyframe_metadata\n",
    "        print(keyframes)\n",
    "\n",
    "    # Save keyframes dictionary as Pickle\n",
    "\n",
    "# Save with pickle\n",
    "with open(\"data.pickle\", \"wb\") as file:\n",
    "    pickle.dump(keyframes, file)"
   ],
   "outputs": [
    {
     "name": "stderr",
     "output_type": "stream",
     "text": [
      "  0%|          | 0/111 [00:00<?, ?it/s]\u001B[32m2024-06-17 23:02:11.504\u001B[0m | \u001B[1mINFO    \u001B[0m | \u001B[36msrc.ocr.pytesseract_image_to_text\u001B[0m:\u001B[36mextract_text_from_image\u001B[0m:\u001B[36m17\u001B[0m - \u001B[1mExtracted text: Chapter 3:\n",
      "\n",
      "Nutrients & Membrane Transport\n",
      "***Is It Possible to Supplement Your\n",
      "Way to Better Performance & Health?\n",
      "\n",
      "Biology 1020:\n",
      "CURRENT TOPICS IN\n",
      "BIOLOGY\n",
      "\n",
      "\u001B[0m\n",
      "\u001B[32m2024-06-17 23:02:11.504\u001B[0m | \u001B[1mINFO    \u001B[0m | \u001B[36m__main__\u001B[0m:\u001B[36m<module>\u001B[0m:\u001B[36m19\u001B[0m - \u001B[1mOCR_results: ['Chapter 3:\\n\\nNutrients & Membrane Transport\\n***Is It Possible to Supplement Your\\nWay to Better Performance & Health?\\n\\nBiology 1020:\\nCURRENT TOPICS IN\\nBIOLOGY\\n\\n']\u001B[0m\n",
      "\u001B[32m2024-06-17 23:02:11.504\u001B[0m | \u001B[1mINFO    \u001B[0m | \u001B[36m__main__\u001B[0m:\u001B[36m<module>\u001B[0m:\u001B[36m28\u001B[0m - \u001B[1mTranscription_text:  Welcome to Chapter 3, Nutrients, Membranes and Trin...\u001B[0m\n",
      "\u001B[32m2024-06-17 23:02:11.834\u001B[0m | \u001B[1mINFO    \u001B[0m | \u001B[36msrc.clip.clip_model\u001B[0m:\u001B[36mprocess_clip_tensors\u001B[0m:\u001B[36m90\u001B[0m - \u001B[1mImage embeddings shape: torch.Size([1, 512])\u001B[0m\n",
      "\u001B[32m2024-06-17 23:02:11.834\u001B[0m | \u001B[1mINFO    \u001B[0m | \u001B[36msrc.clip.clip_model\u001B[0m:\u001B[36mprocess_clip_tensors\u001B[0m:\u001B[36m91\u001B[0m - \u001B[1mText embeddings shape: torch.Size([1, 512])\u001B[0m\n",
      "\u001B[32m2024-06-17 23:02:11.863\u001B[0m | \u001B[1mINFO    \u001B[0m | \u001B[36msrc.clip.clip_model\u001B[0m:\u001B[36mgenerate_image_embeddings\u001B[0m:\u001B[36m74\u001B[0m - \u001B[1mEmbeddings: {'image_embeds': tensor([[-3.1177e-02,  9.0450e-03,  2.3851e-02,  3.9746e-04,  1.3134e-02,\n",
      "          1.5794e-02, -1.2453e-02,  1.6711e-02,  5.1623e-02,  8.5168e-02,\n",
      "         -4.0531e-02, -4.4618e-02,  5.2029e-02, -3.1989e-02,  3.6089e-03,\n",
      "          1.8241e-02,  3.0926e-02,  1.3763e-02,  2.8620e-02,  2.8722e-02,\n",
      "         -8.5925e-02,  4.8082e-02, -4.9664e-02, -1.0698e-02,  1.9102e-02,\n",
      "         -9.2912e-03,  1.4337e-02,  9.3732e-03,  3.5666e-02,  4.9427e-02,\n",
      "          1.9160e-02,  5.4924e-03, -8.0587e-03, -1.4838e-02,  3.8006e-02,\n",
      "          4.0205e-02, -5.9970e-02, -1.2445e-02,  1.8316e-02, -1.5773e-01,\n",
      "         -1.4848e-03, -3.4598e-02,  1.6242e-02,  3.7278e-03,  5.2501e-04,\n",
      "          6.6662e-02,  2.7929e-02, -2.5227e-02, -1.9019e-02, -7.9505e-02,\n",
      "          8.3269e-02,  6.0972e-02,  4.6651e-03, -7.0791e-02,  1.7106e-02,\n",
      "          9.7814e-02, -4.6949e-02, -2.6893e-02,  4.6194e-02, -4.4627e-02,\n",
      "         -3.3894e-02,  9.1518e-03, -2.3506e-03, -6.5051e-03,  2.3687e-02,\n",
      "         -5.3065e-03,  5.6387e-02,  6.6404e-02, -3.3069e-02, -5.8595e-03,\n",
      "          2.6182e-02, -5.4441e-03,  7.1331e-02,  5.0989e-03,  7.2619e-03,\n",
      "         -6.7610e-03, -4.8839e-02, -1.7100e-03, -4.3162e-03, -1.9557e-05,\n",
      "         -6.3444e-03, -2.8471e-02, -3.2039e-02, -1.9454e-02,  3.7304e-02,\n",
      "         -2.9084e-02,  4.4431e-03,  3.3072e-04,  5.2118e-02,  1.9965e-02,\n",
      "          4.8870e-03,  3.7313e-02, -2.9986e-01, -2.7228e-02,  2.0841e-02,\n",
      "         -8.0367e-02,  4.0727e-02,  5.7469e-02,  7.3958e-02,  2.8743e-02,\n",
      "         -3.5138e-02, -2.4833e-02, -1.9865e-04,  1.9777e-02, -6.2875e-02,\n",
      "          1.9315e-02, -9.6201e-02, -2.2818e-02, -9.3445e-02,  5.9641e-02,\n",
      "          2.0684e-02,  2.5747e-02,  1.6981e-02,  2.9970e-02,  1.9810e-02,\n",
      "         -9.5779e-03, -2.0592e-02, -5.3964e-03, -4.3954e-03,  2.6000e-02,\n",
      "          1.7542e-02,  3.0079e-02, -3.3832e-02,  2.5786e-02, -7.6592e-02,\n",
      "         -5.1587e-02,  2.6499e-02, -4.6627e-02,  3.7999e-02,  6.7957e-03,\n",
      "          3.3552e-02, -5.0037e-02,  3.7878e-03,  1.0134e-01, -4.5094e-03,\n",
      "         -9.4484e-03, -1.4419e-03, -9.0230e-02, -2.2901e-02, -2.4058e-02,\n",
      "          3.0766e-02, -7.6718e-03, -5.4843e-02,  2.9135e-02,  9.6977e-03,\n",
      "          1.0099e-02, -5.7199e-02,  6.3244e-02,  1.6370e-02,  3.0847e-02,\n",
      "         -9.1876e-02,  4.6987e-02,  1.7658e-01,  2.9821e-02,  2.2615e-02,\n",
      "         -1.7818e-02,  3.6858e-02,  2.0335e-02,  5.1662e-03,  1.1231e-02,\n",
      "          6.9515e-03, -6.0386e-02,  1.3539e-04,  4.5601e-03, -5.8691e-02,\n",
      "          1.8986e-02, -6.5437e-02, -1.5840e-02,  5.3584e-02, -6.2206e-05,\n",
      "          2.4769e-02,  5.2938e-03, -6.9968e-03,  4.8332e-02, -7.1836e-02,\n",
      "          3.5501e-02, -5.3958e-02, -3.9920e-02,  3.1859e-02, -2.7072e-02,\n",
      "          4.9650e-02, -2.9113e-03, -8.3199e-02,  1.8803e-02, -4.7220e-02,\n",
      "         -2.4310e-02, -4.8550e-02, -9.5612e-03, -1.4316e-02, -3.5176e-02,\n",
      "          5.9830e-03, -2.4823e-04,  2.4203e-03,  3.0661e-03, -6.6386e-03,\n",
      "         -9.1903e-03, -1.5974e-02, -2.9849e-02,  8.9354e-02, -2.1076e-02,\n",
      "          1.1637e-02, -2.6743e-02,  1.5008e-02,  4.0243e-03,  3.0056e-02,\n",
      "          2.7137e-02,  3.5440e-02,  2.3778e-02, -2.4766e-02,  1.1399e-02,\n",
      "         -2.2727e-02,  2.3245e-02,  1.0059e-02, -1.5123e-02,  1.2805e-03,\n",
      "          3.0069e-02, -2.6084e-03,  1.1119e-02, -1.9396e-02, -1.7535e-02,\n",
      "          7.3773e-03,  2.5971e-02, -1.1016e-03, -1.1273e-01, -1.2007e-02,\n",
      "          2.4497e-02, -3.1297e-04, -2.4008e-02, -3.8153e-02,  4.3760e-02,\n",
      "         -6.6946e-02, -3.0889e-02,  3.7549e-02,  1.8906e-02,  2.8422e-02,\n",
      "         -6.0438e-02, -5.9454e-03,  4.1255e-02, -8.4141e-03,  9.4583e-04,\n",
      "         -7.2000e-02,  4.4484e-02,  3.5797e-02, -6.3220e-02, -3.5798e-03,\n",
      "          5.7878e-02, -6.7324e-03,  6.2699e-02,  3.2075e-02, -2.4557e-02,\n",
      "          3.4509e-02,  4.8178e-02,  3.2690e-02,  2.5667e-02, -2.2153e-02,\n",
      "          4.6050e-02, -2.7570e-02, -1.0654e-02, -1.4873e-01, -4.6764e-02,\n",
      "         -7.1455e-02, -3.4613e-02,  1.4101e-02,  2.8308e-02,  7.1219e-02,\n",
      "          5.9699e-02, -1.7229e-02, -2.6287e-02, -2.6061e-02,  2.9782e-02,\n",
      "          1.0333e-02,  5.3754e-03, -5.7927e-02,  5.1807e-03,  1.0379e-02,\n",
      "         -1.3931e-02, -3.1378e-02, -3.2629e-02, -5.8070e-03,  1.5908e-02,\n",
      "          4.9521e-04, -2.6595e-04, -1.2433e-02,  1.6193e-02, -1.4205e-02,\n",
      "         -1.3462e-02, -1.6202e-01, -4.5236e-02,  1.8376e-02,  1.4838e-02,\n",
      "         -5.9940e-04,  5.5307e-02,  8.6545e-03,  7.1339e-03,  4.5830e-03,\n",
      "          4.4297e-03, -3.3102e-02, -5.9492e-02,  6.9413e-02,  3.0966e-02,\n",
      "         -1.4310e-03,  2.8243e-03, -1.6567e-02,  2.4021e-02,  2.3810e-02,\n",
      "          3.1913e-03,  2.4993e-02, -1.1308e-02, -2.0529e-05,  6.7136e-02,\n",
      "          1.3830e-02, -1.6201e-02,  1.0122e-01, -9.6859e-03, -7.8778e-03,\n",
      "         -4.9754e-02, -1.3476e-02,  1.9672e-02, -6.0451e-02,  2.0905e-02,\n",
      "          7.5179e-03,  2.1810e-02,  1.0875e-02, -7.1652e-02,  4.4602e-03,\n",
      "         -4.1116e-02,  4.8416e-04, -4.1413e-03,  8.4781e-04, -1.0244e-01,\n",
      "          5.0615e-02, -3.6644e-02,  2.7144e-02,  9.2832e-03,  3.7755e-02,\n",
      "         -2.8802e-02, -4.1622e-02, -1.6112e-02,  5.8531e-02,  5.2181e-02,\n",
      "         -2.5241e-02,  2.1018e-02, -3.1337e-02,  1.5991e-02, -1.3805e-02,\n",
      "         -5.0115e-02,  4.3666e-02,  4.8566e-02, -2.8520e-02,  8.3736e-03,\n",
      "          4.5385e-02, -1.4266e-02,  4.3343e-02, -1.0348e-02, -5.5242e-04,\n",
      "          8.0187e-02, -2.2995e-02, -4.5153e-02,  7.3001e-03, -3.1427e-02,\n",
      "          1.5073e-02,  2.5153e-03,  6.0146e-03, -8.8678e-02, -9.9930e-02,\n",
      "          3.3818e-03, -3.8649e-02, -9.9785e-02, -1.6271e-02, -1.9292e-02,\n",
      "         -2.5688e-03, -4.1651e-03,  9.8820e-02, -2.2918e-02, -4.7366e-02,\n",
      "         -9.2083e-03, -6.9860e-02, -1.2149e-02, -7.1299e-02,  9.4538e-02,\n",
      "         -1.7012e-02, -6.4489e-03, -1.1392e-01, -4.0745e-02,  2.0614e-02,\n",
      "          7.9703e-02,  9.5608e-03,  3.2107e-02, -3.3312e-02, -1.3411e-01,\n",
      "          1.1018e-02, -2.1719e-02,  7.6870e-03, -1.2558e-02, -8.6866e-02,\n",
      "          4.0860e-02,  3.6691e-03, -3.9694e-02, -9.6273e-03, -5.2964e-02,\n",
      "          9.3279e-02,  4.7762e-03, -2.1574e-02, -3.9458e-03, -4.8686e-02,\n",
      "         -5.8750e-02,  6.0780e-03, -2.4574e-02,  1.0831e-01,  6.7255e-03,\n",
      "         -7.8867e-02,  1.9767e-02, -2.6997e-02,  1.8663e-02, -7.1324e-03,\n",
      "         -3.1301e-02,  3.7320e-02,  1.4163e-02, -1.3180e-02, -2.7319e-02,\n",
      "         -1.0165e-01, -2.4879e-03, -4.5753e-02,  2.2013e-02,  1.7947e-02,\n",
      "          2.4414e-02,  2.1278e-02,  1.6018e-02,  2.5807e-02, -2.4823e-02,\n",
      "          3.1350e-02, -2.9905e-03, -4.9992e-02, -7.4367e-02,  2.4710e-02,\n",
      "         -3.3201e-02, -2.6299e-02,  4.6223e-02,  1.7579e-02,  8.1414e-03,\n",
      "         -2.2776e-02, -7.2220e-03, -3.4569e-03,  1.7753e-02, -3.0382e-03,\n",
      "          3.5121e-02, -8.1637e-04, -1.0359e-01, -5.7646e-02,  2.7411e-02,\n",
      "          5.0201e-02, -3.0144e-02,  2.3579e-02, -4.4272e-02,  3.6351e-02,\n",
      "         -6.2695e-02, -3.2844e-02,  9.0398e-03,  9.3663e-02,  4.7452e-02,\n",
      "          6.1457e-03,  2.7061e-02, -2.3468e-02, -4.1489e-02, -2.1922e-03,\n",
      "         -3.0513e-03, -5.0343e-02, -7.5248e-02, -1.5903e-02,  7.3350e-04,\n",
      "          1.3077e-02,  6.5543e-03,  6.2803e-03, -3.7511e-02, -3.6128e-02,\n",
      "         -9.3451e-03, -2.0327e-02, -3.0237e-02,  2.2960e-02, -4.6589e-04,\n",
      "         -5.4116e-03, -1.8544e-02,  7.8070e-02, -1.4011e-02,  9.5431e-03,\n",
      "          4.6644e-02, -3.4024e-02, -1.5877e-02,  2.1306e-02,  6.3783e-02,\n",
      "          4.3381e-02, -3.3925e-02,  7.6990e-02, -1.1836e-01, -4.3496e-02,\n",
      "         -3.8565e-02,  5.9214e-02, -3.7956e-02, -2.9954e-02, -2.0656e-02,\n",
      "         -6.5027e-03, -2.2966e-02,  2.7349e-02, -7.3690e-03,  1.1015e-01,\n",
      "         -1.1747e-02, -1.7574e-02,  4.0154e-02, -4.2588e-02,  5.7335e-02,\n",
      "          1.5476e-02,  7.4166e-03]], grad_fn=<DivBackward0>), 'text_embeds': tensor([[-6.3477e-03,  4.1144e-02, -6.2738e-03, -1.5998e-02, -1.5231e-02,\n",
      "          5.2521e-03,  2.1959e-03,  1.5892e-01,  6.9392e-02,  2.2310e-02,\n",
      "         -1.1350e-02,  2.7823e-03,  1.8811e-02,  2.6283e-02, -2.5208e-02,\n",
      "          5.3009e-02, -1.8662e-02,  3.6511e-02, -1.4450e-02,  6.5905e-04,\n",
      "         -9.1668e-02,  4.0422e-02,  4.8536e-03, -1.6253e-02,  1.2104e-02,\n",
      "         -6.4063e-03, -2.5818e-04,  7.8357e-03,  1.3944e-02, -2.4530e-02,\n",
      "         -3.0541e-02,  2.3742e-02, -5.3753e-02, -1.0094e-02, -1.5985e-02,\n",
      "         -1.0951e-02, -4.3780e-02, -2.2585e-03, -1.2670e-02, -2.9883e-02,\n",
      "         -4.5516e-03, -1.0703e-02, -2.1324e-02,  2.3193e-02,  2.2542e-02,\n",
      "          2.0227e-02,  3.8406e-02,  1.6753e-02,  8.8785e-03, -4.1160e-02,\n",
      "          6.1588e-03, -6.2438e-03, -9.6723e-03, -3.3283e-02, -3.2328e-02,\n",
      "         -2.9639e-02,  9.6561e-04,  9.2079e-03,  3.6435e-02, -1.4932e-02,\n",
      "          3.0821e-02, -2.3917e-02, -7.5037e-03, -1.9327e-02,  2.5158e-02,\n",
      "         -1.8954e-03,  3.4790e-03,  3.9322e-02, -3.1145e-02, -4.1234e-02,\n",
      "          2.5879e-02, -2.4266e-02,  2.0118e-02,  3.2723e-03, -8.9955e-03,\n",
      "          2.5346e-03, -2.9965e-02, -8.0737e-03, -5.3508e-03,  2.0337e-02,\n",
      "          7.4238e-02,  1.1257e-02,  1.2724e-02,  1.9417e-02,  1.2340e-02,\n",
      "         -3.1194e-02,  3.1476e-02,  4.3321e-02,  3.6186e-02, -1.9386e-02,\n",
      "          5.3800e-03, -3.8678e-04, -1.2635e-01,  1.6779e-02, -2.6446e-02,\n",
      "         -2.6393e-02,  3.9317e-02, -1.3166e-02,  3.8940e-03, -2.0278e-02,\n",
      "          2.6499e-02, -6.9405e-03, -1.3565e-02,  4.1338e-03,  5.2156e-03,\n",
      "          3.7779e-02, -8.6641e-03,  2.2599e-02, -5.9131e-03, -1.6489e-02,\n",
      "          3.1322e-02,  6.6637e-02,  8.6887e-03, -5.1872e-03,  2.1354e-02,\n",
      "          1.8026e-02,  1.4150e-02, -4.9365e-02, -1.7099e-02, -1.0120e-02,\n",
      "         -3.3688e-02,  1.6171e-02,  1.2844e-02,  1.3904e-02,  2.6263e-03,\n",
      "         -2.9792e-02,  3.0445e-02,  3.2023e-02, -1.2371e-02, -3.5112e-02,\n",
      "          1.0733e-02, -1.0997e-02,  4.4128e-02,  5.4559e-01,  2.1560e-03,\n",
      "          2.8481e-02, -2.0171e-02, -2.3194e-02, -1.5841e-03, -9.3022e-03,\n",
      "          2.2431e-02, -5.3322e-02, -2.4527e-02,  5.1466e-02,  4.3978e-02,\n",
      "          4.1204e-02,  1.5464e-04,  2.1855e-02, -2.2763e-02, -1.6357e-03,\n",
      "         -3.2405e-02,  4.1047e-03,  6.8837e-03,  1.0460e-02, -6.1573e-03,\n",
      "          1.2404e-02,  2.1393e-02,  1.7801e-02, -8.7439e-03,  2.3274e-02,\n",
      "          3.0896e-02, -2.7392e-03,  1.3699e-02, -1.8184e-02, -1.7068e-02,\n",
      "          3.1070e-02, -3.2563e-02,  3.5323e-02,  2.5902e-02,  2.5914e-03,\n",
      "          2.1705e-02,  3.5859e-03,  3.7607e-02,  2.7789e-02,  3.1296e-03,\n",
      "          1.6132e-02, -5.2873e-02, -3.6884e-02,  8.2131e-02,  2.2836e-02,\n",
      "         -2.6048e-02,  1.3491e-02, -1.9612e-02,  2.8756e-02,  2.1930e-02,\n",
      "          2.1865e-02,  7.9595e-03, -1.0123e-02, -2.1520e-02, -3.2854e-02,\n",
      "         -3.5127e-02,  2.0452e-02, -1.2671e-02, -4.1706e-02,  1.9293e-02,\n",
      "          1.5991e-02, -7.3391e-03, -3.5847e-02,  6.3183e-02, -9.6701e-04,\n",
      "          6.4125e-03, -3.4611e-02,  4.8292e-03,  6.8242e-03, -5.0418e-04,\n",
      "          1.7149e-02,  6.9932e-03, -3.5410e-03, -4.9607e-02,  2.1557e-02,\n",
      "         -6.2168e-03, -2.1150e-02, -1.0056e-02, -4.4356e-03,  3.2756e-02,\n",
      "          7.4397e-04, -2.2512e-02,  3.0232e-03,  1.6924e-02,  1.3130e-02,\n",
      "          1.1971e-02,  1.9855e-02,  1.5301e-02, -6.7348e-02, -2.1302e-02,\n",
      "         -3.1885e-03,  3.7937e-02, -3.6954e-02,  2.2395e-02, -9.7389e-03,\n",
      "         -1.1835e-03, -1.0562e-02, -7.9477e-03,  4.2406e-03, -2.6552e-02,\n",
      "         -3.2920e-02,  7.2192e-03, -5.6136e-03,  1.8466e-02, -1.4088e-02,\n",
      "         -3.6959e-02, -1.7506e-02,  2.1293e-02, -5.3767e-02,  6.1999e-03,\n",
      "          1.0972e-02, -2.1939e-03,  1.5132e-02, -5.5218e-03, -1.2882e-03,\n",
      "          2.8924e-03, -1.2053e-02,  4.4805e-03,  4.4188e-02, -2.1098e-02,\n",
      "          1.9886e-02,  3.6754e-02, -2.6687e-03, -2.0721e-02, -1.6653e-02,\n",
      "         -2.4820e-02,  3.2692e-03,  1.0258e-02,  8.5348e-03,  1.4101e-03,\n",
      "          4.8919e-02, -2.5462e-02, -1.7718e-02,  1.3577e-02,  1.3986e-02,\n",
      "          4.3795e-02,  1.4943e-02, -5.6494e-02,  4.3812e-03, -2.4511e-02,\n",
      "          1.3042e-03, -1.6836e-02, -2.3786e-02,  6.8622e-03, -1.0544e-02,\n",
      "          2.4705e-02, -3.3259e-02,  2.1442e-02, -7.8433e-03,  7.2804e-03,\n",
      "         -3.2788e-02, -5.8195e-03, -7.1960e-03,  4.0097e-02,  2.3466e-02,\n",
      "          2.9752e-02,  3.6697e-02,  2.9514e-03,  1.0334e-03, -1.5589e-02,\n",
      "         -2.3646e-02,  5.2072e-02,  1.0365e-02,  2.9974e-02, -7.3787e-03,\n",
      "         -1.0109e-02, -2.3258e-02,  1.3710e-03, -6.9190e-03,  1.4023e-02,\n",
      "          7.4681e-02, -2.5029e-03, -9.3630e-03, -8.4276e-03,  2.8861e-02,\n",
      "         -4.1396e-03, -3.8495e-02,  5.4632e-01, -7.0250e-03, -2.1558e-02,\n",
      "          2.3098e-02,  1.6878e-03, -5.6737e-02, -3.2951e-03, -2.6958e-02,\n",
      "         -1.7611e-03, -7.3081e-03,  3.4207e-02,  1.2158e-02, -8.1842e-03,\n",
      "          2.5524e-03, -5.8486e-03,  2.5709e-02, -1.3544e-02, -9.6948e-02,\n",
      "          2.8807e-02, -4.6801e-02, -6.6422e-03,  1.7124e-02,  3.4664e-02,\n",
      "         -7.9770e-03, -1.7429e-02, -2.8571e-02, -1.4369e-02,  5.2255e-03,\n",
      "         -6.7691e-03, -1.7460e-02, -3.1559e-02,  6.5152e-03,  1.1810e-02,\n",
      "          3.0003e-03,  1.6142e-02,  1.0571e-02,  3.9556e-04,  5.8873e-03,\n",
      "          2.0733e-02,  1.1923e-03,  3.3451e-02,  3.4292e-02,  9.0089e-03,\n",
      "          4.8864e-02, -2.9956e-02, -5.1423e-02,  2.5899e-02,  4.8071e-02,\n",
      "          3.4757e-03,  5.3912e-03, -2.9079e-02, -6.7200e-02, -8.5605e-03,\n",
      "          2.6901e-02, -4.0401e-02,  1.9092e-03,  5.3607e-03, -1.3071e-02,\n",
      "         -4.0069e-04,  1.9861e-03,  4.4650e-02, -1.9041e-03, -2.8208e-02,\n",
      "          2.1835e-02, -2.2027e-02, -1.8876e-03,  8.9097e-03,  1.1614e-02,\n",
      "         -2.6494e-02,  2.8079e-03, -4.4499e-02, -3.6418e-02,  5.7357e-02,\n",
      "          1.9512e-02,  1.2699e-02,  2.1679e-02, -3.2783e-02, -2.6571e-02,\n",
      "         -2.8367e-02,  1.3169e-02,  3.6687e-02, -2.2522e-02, -2.6436e-02,\n",
      "          8.1912e-03, -3.2308e-02,  1.9787e-03,  1.8264e-02,  6.2772e-02,\n",
      "          2.4573e-02, -2.1108e-02, -2.4111e-02, -2.1822e-02,  1.8217e-02,\n",
      "         -5.9054e-02, -2.1084e-02, -2.8208e-02,  4.4544e-02, -3.4030e-02,\n",
      "         -4.5454e-02,  3.1183e-02, -9.9294e-03, -7.4975e-03,  6.0213e-03,\n",
      "         -1.6923e-02,  2.5210e-03, -3.9728e-02, -7.9962e-04,  2.0323e-02,\n",
      "         -2.4279e-02,  8.1078e-03,  1.0194e-02, -2.8525e-02,  1.7299e-02,\n",
      "          2.7718e-02,  2.8365e-02, -5.5833e-02, -6.2758e-02, -4.6281e-02,\n",
      "         -2.0536e-03,  1.4150e-02,  4.2415e-02, -4.3209e-03,  2.1761e-02,\n",
      "         -4.4168e-02, -2.2648e-02,  3.8820e-03,  3.8014e-02, -1.5341e-02,\n",
      "          7.5532e-03, -1.5733e-02,  5.0844e-03, -1.2881e-02, -4.5639e-03,\n",
      "         -2.7363e-02,  3.9793e-03, -2.8245e-02,  7.1750e-03,  2.5391e-02,\n",
      "         -1.6894e-02,  1.9579e-02, -4.2844e-03,  6.9985e-03,  7.8465e-03,\n",
      "         -5.4349e-02, -4.2209e-03,  1.0650e-02,  2.9666e-03,  4.4577e-02,\n",
      "         -1.3901e-02, -1.9033e-02,  3.8347e-02, -1.9112e-02,  2.5048e-02,\n",
      "          1.0035e-02, -8.7113e-03, -2.3127e-02,  3.3350e-02,  2.6266e-03,\n",
      "          7.5072e-06,  3.8938e-03,  1.3143e-04,  3.3251e-02, -1.6534e-02,\n",
      "          3.4813e-02, -1.3597e-03,  3.1944e-03,  4.5998e-02,  6.7610e-03,\n",
      "         -5.2454e-03, -1.0020e-01,  3.0550e-02,  2.4885e-02,  2.8878e-03,\n",
      "          1.6664e-02, -3.6780e-02, -1.4193e-02,  4.3364e-02,  3.3462e-02,\n",
      "          3.8078e-02, -3.3250e-02,  1.5368e-02, -1.2224e-02,  2.0275e-02,\n",
      "         -4.1630e-03,  3.3960e-02,  3.1773e-02, -9.4614e-03, -2.9135e-02,\n",
      "         -1.3794e-02, -1.1571e-03,  4.0198e-03, -6.1378e-03,  4.0055e-02,\n",
      "          2.4896e-02, -2.1915e-02,  9.8915e-03,  1.3434e-02, -1.1247e-01,\n",
      "          1.1997e-02,  5.6684e-03]], grad_fn=<DivBackward0>)}\u001B[0m\n",
      "  1%|          | 1/111 [00:00<01:40,  1.10it/s]"
     ]
    },
    {
     "name": "stdout",
     "output_type": "stream",
     "text": [
      "{1: {'img_path': 'C:\\\\Users\\\\baatout\\\\PycharmProjects\\\\afm-vlm\\\\data\\\\raw\\\\biology_chapter_3_3\\\\extracted_keyframes\\\\biology_chapter_3_3-Scene-001-01.jpg', 'timestamps': [0, 5], 'transcription': ' Welcome to Chapter 3, Nutrients, Membranes and Trin...', 'ocr_extracted_text': ['Chapter 3:\\n\\nNutrients & Membrane Transport\\n***Is It Possible to Supplement Your\\nWay to Better Performance & Health?\\n\\nBiology 1020:\\nCURRENT TOPICS IN\\nBIOLOGY\\n\\n'], 'llava_result': 'llava_results', 'clip_text': 'clip_llm_summary', 'llm_long_summary': 'extensive_summary', 'clip_text_embedding': tensor([[-6.3477e-03,  4.1144e-02, -6.2738e-03, -1.5998e-02, -1.5231e-02,\n",
      "          5.2521e-03,  2.1959e-03,  1.5892e-01,  6.9392e-02,  2.2310e-02,\n",
      "         -1.1350e-02,  2.7823e-03,  1.8811e-02,  2.6283e-02, -2.5208e-02,\n",
      "          5.3009e-02, -1.8662e-02,  3.6511e-02, -1.4450e-02,  6.5905e-04,\n",
      "         -9.1668e-02,  4.0422e-02,  4.8536e-03, -1.6253e-02,  1.2104e-02,\n",
      "         -6.4063e-03, -2.5818e-04,  7.8357e-03,  1.3944e-02, -2.4530e-02,\n",
      "         -3.0541e-02,  2.3742e-02, -5.3753e-02, -1.0094e-02, -1.5985e-02,\n",
      "         -1.0951e-02, -4.3780e-02, -2.2585e-03, -1.2670e-02, -2.9883e-02,\n",
      "         -4.5516e-03, -1.0703e-02, -2.1324e-02,  2.3193e-02,  2.2542e-02,\n",
      "          2.0227e-02,  3.8406e-02,  1.6753e-02,  8.8785e-03, -4.1160e-02,\n",
      "          6.1588e-03, -6.2438e-03, -9.6723e-03, -3.3283e-02, -3.2328e-02,\n",
      "         -2.9639e-02,  9.6561e-04,  9.2079e-03,  3.6435e-02, -1.4932e-02,\n",
      "          3.0821e-02, -2.3917e-02, -7.5037e-03, -1.9327e-02,  2.5158e-02,\n",
      "         -1.8954e-03,  3.4790e-03,  3.9322e-02, -3.1145e-02, -4.1234e-02,\n",
      "          2.5879e-02, -2.4266e-02,  2.0118e-02,  3.2723e-03, -8.9955e-03,\n",
      "          2.5346e-03, -2.9965e-02, -8.0737e-03, -5.3508e-03,  2.0337e-02,\n",
      "          7.4238e-02,  1.1257e-02,  1.2724e-02,  1.9417e-02,  1.2340e-02,\n",
      "         -3.1194e-02,  3.1476e-02,  4.3321e-02,  3.6186e-02, -1.9386e-02,\n",
      "          5.3800e-03, -3.8678e-04, -1.2635e-01,  1.6779e-02, -2.6446e-02,\n",
      "         -2.6393e-02,  3.9317e-02, -1.3166e-02,  3.8940e-03, -2.0278e-02,\n",
      "          2.6499e-02, -6.9405e-03, -1.3565e-02,  4.1338e-03,  5.2156e-03,\n",
      "          3.7779e-02, -8.6641e-03,  2.2599e-02, -5.9131e-03, -1.6489e-02,\n",
      "          3.1322e-02,  6.6637e-02,  8.6887e-03, -5.1872e-03,  2.1354e-02,\n",
      "          1.8026e-02,  1.4150e-02, -4.9365e-02, -1.7099e-02, -1.0120e-02,\n",
      "         -3.3688e-02,  1.6171e-02,  1.2844e-02,  1.3904e-02,  2.6263e-03,\n",
      "         -2.9792e-02,  3.0445e-02,  3.2023e-02, -1.2371e-02, -3.5112e-02,\n",
      "          1.0733e-02, -1.0997e-02,  4.4128e-02,  5.4559e-01,  2.1560e-03,\n",
      "          2.8481e-02, -2.0171e-02, -2.3194e-02, -1.5841e-03, -9.3022e-03,\n",
      "          2.2431e-02, -5.3322e-02, -2.4527e-02,  5.1466e-02,  4.3978e-02,\n",
      "          4.1204e-02,  1.5464e-04,  2.1855e-02, -2.2763e-02, -1.6357e-03,\n",
      "         -3.2405e-02,  4.1047e-03,  6.8837e-03,  1.0460e-02, -6.1573e-03,\n",
      "          1.2404e-02,  2.1393e-02,  1.7801e-02, -8.7439e-03,  2.3274e-02,\n",
      "          3.0896e-02, -2.7392e-03,  1.3699e-02, -1.8184e-02, -1.7068e-02,\n",
      "          3.1070e-02, -3.2563e-02,  3.5323e-02,  2.5902e-02,  2.5914e-03,\n",
      "          2.1705e-02,  3.5859e-03,  3.7607e-02,  2.7789e-02,  3.1296e-03,\n",
      "          1.6132e-02, -5.2873e-02, -3.6884e-02,  8.2131e-02,  2.2836e-02,\n",
      "         -2.6048e-02,  1.3491e-02, -1.9612e-02,  2.8756e-02,  2.1930e-02,\n",
      "          2.1865e-02,  7.9595e-03, -1.0123e-02, -2.1520e-02, -3.2854e-02,\n",
      "         -3.5127e-02,  2.0452e-02, -1.2671e-02, -4.1706e-02,  1.9293e-02,\n",
      "          1.5991e-02, -7.3391e-03, -3.5847e-02,  6.3183e-02, -9.6701e-04,\n",
      "          6.4125e-03, -3.4611e-02,  4.8292e-03,  6.8242e-03, -5.0418e-04,\n",
      "          1.7149e-02,  6.9932e-03, -3.5410e-03, -4.9607e-02,  2.1557e-02,\n",
      "         -6.2168e-03, -2.1150e-02, -1.0056e-02, -4.4356e-03,  3.2756e-02,\n",
      "          7.4397e-04, -2.2512e-02,  3.0232e-03,  1.6924e-02,  1.3130e-02,\n",
      "          1.1971e-02,  1.9855e-02,  1.5301e-02, -6.7348e-02, -2.1302e-02,\n",
      "         -3.1885e-03,  3.7937e-02, -3.6954e-02,  2.2395e-02, -9.7389e-03,\n",
      "         -1.1835e-03, -1.0562e-02, -7.9477e-03,  4.2406e-03, -2.6552e-02,\n",
      "         -3.2920e-02,  7.2192e-03, -5.6136e-03,  1.8466e-02, -1.4088e-02,\n",
      "         -3.6959e-02, -1.7506e-02,  2.1293e-02, -5.3767e-02,  6.1999e-03,\n",
      "          1.0972e-02, -2.1939e-03,  1.5132e-02, -5.5218e-03, -1.2882e-03,\n",
      "          2.8924e-03, -1.2053e-02,  4.4805e-03,  4.4188e-02, -2.1098e-02,\n",
      "          1.9886e-02,  3.6754e-02, -2.6687e-03, -2.0721e-02, -1.6653e-02,\n",
      "         -2.4820e-02,  3.2692e-03,  1.0258e-02,  8.5348e-03,  1.4101e-03,\n",
      "          4.8919e-02, -2.5462e-02, -1.7718e-02,  1.3577e-02,  1.3986e-02,\n",
      "          4.3795e-02,  1.4943e-02, -5.6494e-02,  4.3812e-03, -2.4511e-02,\n",
      "          1.3042e-03, -1.6836e-02, -2.3786e-02,  6.8622e-03, -1.0544e-02,\n",
      "          2.4705e-02, -3.3259e-02,  2.1442e-02, -7.8433e-03,  7.2804e-03,\n",
      "         -3.2788e-02, -5.8195e-03, -7.1960e-03,  4.0097e-02,  2.3466e-02,\n",
      "          2.9752e-02,  3.6697e-02,  2.9514e-03,  1.0334e-03, -1.5589e-02,\n",
      "         -2.3646e-02,  5.2072e-02,  1.0365e-02,  2.9974e-02, -7.3787e-03,\n",
      "         -1.0109e-02, -2.3258e-02,  1.3710e-03, -6.9190e-03,  1.4023e-02,\n",
      "          7.4681e-02, -2.5029e-03, -9.3630e-03, -8.4276e-03,  2.8861e-02,\n",
      "         -4.1396e-03, -3.8495e-02,  5.4632e-01, -7.0250e-03, -2.1558e-02,\n",
      "          2.3098e-02,  1.6878e-03, -5.6737e-02, -3.2951e-03, -2.6958e-02,\n",
      "         -1.7611e-03, -7.3081e-03,  3.4207e-02,  1.2158e-02, -8.1842e-03,\n",
      "          2.5524e-03, -5.8486e-03,  2.5709e-02, -1.3544e-02, -9.6948e-02,\n",
      "          2.8807e-02, -4.6801e-02, -6.6422e-03,  1.7124e-02,  3.4664e-02,\n",
      "         -7.9770e-03, -1.7429e-02, -2.8571e-02, -1.4369e-02,  5.2255e-03,\n",
      "         -6.7691e-03, -1.7460e-02, -3.1559e-02,  6.5152e-03,  1.1810e-02,\n",
      "          3.0003e-03,  1.6142e-02,  1.0571e-02,  3.9556e-04,  5.8873e-03,\n",
      "          2.0733e-02,  1.1923e-03,  3.3451e-02,  3.4292e-02,  9.0089e-03,\n",
      "          4.8864e-02, -2.9956e-02, -5.1423e-02,  2.5899e-02,  4.8071e-02,\n",
      "          3.4757e-03,  5.3912e-03, -2.9079e-02, -6.7200e-02, -8.5605e-03,\n",
      "          2.6901e-02, -4.0401e-02,  1.9092e-03,  5.3607e-03, -1.3071e-02,\n",
      "         -4.0069e-04,  1.9861e-03,  4.4650e-02, -1.9041e-03, -2.8208e-02,\n",
      "          2.1835e-02, -2.2027e-02, -1.8876e-03,  8.9097e-03,  1.1614e-02,\n",
      "         -2.6494e-02,  2.8079e-03, -4.4499e-02, -3.6418e-02,  5.7357e-02,\n",
      "          1.9512e-02,  1.2699e-02,  2.1679e-02, -3.2783e-02, -2.6571e-02,\n",
      "         -2.8367e-02,  1.3169e-02,  3.6687e-02, -2.2522e-02, -2.6436e-02,\n",
      "          8.1912e-03, -3.2308e-02,  1.9787e-03,  1.8264e-02,  6.2772e-02,\n",
      "          2.4573e-02, -2.1108e-02, -2.4111e-02, -2.1822e-02,  1.8217e-02,\n",
      "         -5.9054e-02, -2.1084e-02, -2.8208e-02,  4.4544e-02, -3.4030e-02,\n",
      "         -4.5454e-02,  3.1183e-02, -9.9294e-03, -7.4975e-03,  6.0213e-03,\n",
      "         -1.6923e-02,  2.5210e-03, -3.9728e-02, -7.9962e-04,  2.0323e-02,\n",
      "         -2.4279e-02,  8.1078e-03,  1.0194e-02, -2.8525e-02,  1.7299e-02,\n",
      "          2.7718e-02,  2.8365e-02, -5.5833e-02, -6.2758e-02, -4.6281e-02,\n",
      "         -2.0536e-03,  1.4150e-02,  4.2415e-02, -4.3209e-03,  2.1761e-02,\n",
      "         -4.4168e-02, -2.2648e-02,  3.8820e-03,  3.8014e-02, -1.5341e-02,\n",
      "          7.5532e-03, -1.5733e-02,  5.0844e-03, -1.2881e-02, -4.5639e-03,\n",
      "         -2.7363e-02,  3.9793e-03, -2.8245e-02,  7.1750e-03,  2.5391e-02,\n",
      "         -1.6894e-02,  1.9579e-02, -4.2844e-03,  6.9985e-03,  7.8465e-03,\n",
      "         -5.4349e-02, -4.2209e-03,  1.0650e-02,  2.9666e-03,  4.4577e-02,\n",
      "         -1.3901e-02, -1.9033e-02,  3.8347e-02, -1.9112e-02,  2.5048e-02,\n",
      "          1.0035e-02, -8.7113e-03, -2.3127e-02,  3.3350e-02,  2.6266e-03,\n",
      "          7.5072e-06,  3.8938e-03,  1.3143e-04,  3.3251e-02, -1.6534e-02,\n",
      "          3.4813e-02, -1.3597e-03,  3.1944e-03,  4.5998e-02,  6.7610e-03,\n",
      "         -5.2454e-03, -1.0020e-01,  3.0550e-02,  2.4885e-02,  2.8878e-03,\n",
      "          1.6664e-02, -3.6780e-02, -1.4193e-02,  4.3364e-02,  3.3462e-02,\n",
      "          3.8078e-02, -3.3250e-02,  1.5368e-02, -1.2224e-02,  2.0275e-02,\n",
      "         -4.1630e-03,  3.3960e-02,  3.1773e-02, -9.4614e-03, -2.9135e-02,\n",
      "         -1.3794e-02, -1.1571e-03,  4.0198e-03, -6.1378e-03,  4.0055e-02,\n",
      "          2.4896e-02, -2.1915e-02,  9.8915e-03,  1.3434e-02, -1.1247e-01,\n",
      "          1.1997e-02,  5.6684e-03]], grad_fn=<DivBackward0>), 'clip_image_embedding': tensor([[-3.1177e-02,  9.0450e-03,  2.3851e-02,  3.9746e-04,  1.3134e-02,\n",
      "          1.5794e-02, -1.2453e-02,  1.6711e-02,  5.1623e-02,  8.5168e-02,\n",
      "         -4.0531e-02, -4.4618e-02,  5.2029e-02, -3.1989e-02,  3.6089e-03,\n",
      "          1.8241e-02,  3.0926e-02,  1.3763e-02,  2.8620e-02,  2.8722e-02,\n",
      "         -8.5925e-02,  4.8082e-02, -4.9664e-02, -1.0698e-02,  1.9102e-02,\n",
      "         -9.2912e-03,  1.4337e-02,  9.3732e-03,  3.5666e-02,  4.9427e-02,\n",
      "          1.9160e-02,  5.4924e-03, -8.0587e-03, -1.4838e-02,  3.8006e-02,\n",
      "          4.0205e-02, -5.9970e-02, -1.2445e-02,  1.8316e-02, -1.5773e-01,\n",
      "         -1.4848e-03, -3.4598e-02,  1.6242e-02,  3.7278e-03,  5.2501e-04,\n",
      "          6.6662e-02,  2.7929e-02, -2.5227e-02, -1.9019e-02, -7.9505e-02,\n",
      "          8.3269e-02,  6.0972e-02,  4.6651e-03, -7.0791e-02,  1.7106e-02,\n",
      "          9.7814e-02, -4.6949e-02, -2.6893e-02,  4.6194e-02, -4.4627e-02,\n",
      "         -3.3894e-02,  9.1518e-03, -2.3506e-03, -6.5051e-03,  2.3687e-02,\n",
      "         -5.3065e-03,  5.6387e-02,  6.6404e-02, -3.3069e-02, -5.8595e-03,\n",
      "          2.6182e-02, -5.4441e-03,  7.1331e-02,  5.0989e-03,  7.2619e-03,\n",
      "         -6.7610e-03, -4.8839e-02, -1.7100e-03, -4.3162e-03, -1.9557e-05,\n",
      "         -6.3444e-03, -2.8471e-02, -3.2039e-02, -1.9454e-02,  3.7304e-02,\n",
      "         -2.9084e-02,  4.4431e-03,  3.3072e-04,  5.2118e-02,  1.9965e-02,\n",
      "          4.8870e-03,  3.7313e-02, -2.9986e-01, -2.7228e-02,  2.0841e-02,\n",
      "         -8.0367e-02,  4.0727e-02,  5.7469e-02,  7.3958e-02,  2.8743e-02,\n",
      "         -3.5138e-02, -2.4833e-02, -1.9865e-04,  1.9777e-02, -6.2875e-02,\n",
      "          1.9315e-02, -9.6201e-02, -2.2818e-02, -9.3445e-02,  5.9641e-02,\n",
      "          2.0684e-02,  2.5747e-02,  1.6981e-02,  2.9970e-02,  1.9810e-02,\n",
      "         -9.5779e-03, -2.0592e-02, -5.3964e-03, -4.3954e-03,  2.6000e-02,\n",
      "          1.7542e-02,  3.0079e-02, -3.3832e-02,  2.5786e-02, -7.6592e-02,\n",
      "         -5.1587e-02,  2.6499e-02, -4.6627e-02,  3.7999e-02,  6.7957e-03,\n",
      "          3.3552e-02, -5.0037e-02,  3.7878e-03,  1.0134e-01, -4.5094e-03,\n",
      "         -9.4484e-03, -1.4419e-03, -9.0230e-02, -2.2901e-02, -2.4058e-02,\n",
      "          3.0766e-02, -7.6718e-03, -5.4843e-02,  2.9135e-02,  9.6977e-03,\n",
      "          1.0099e-02, -5.7199e-02,  6.3244e-02,  1.6370e-02,  3.0847e-02,\n",
      "         -9.1876e-02,  4.6987e-02,  1.7658e-01,  2.9821e-02,  2.2615e-02,\n",
      "         -1.7818e-02,  3.6858e-02,  2.0335e-02,  5.1662e-03,  1.1231e-02,\n",
      "          6.9515e-03, -6.0386e-02,  1.3539e-04,  4.5601e-03, -5.8691e-02,\n",
      "          1.8986e-02, -6.5437e-02, -1.5840e-02,  5.3584e-02, -6.2206e-05,\n",
      "          2.4769e-02,  5.2938e-03, -6.9968e-03,  4.8332e-02, -7.1836e-02,\n",
      "          3.5501e-02, -5.3958e-02, -3.9920e-02,  3.1859e-02, -2.7072e-02,\n",
      "          4.9650e-02, -2.9113e-03, -8.3199e-02,  1.8803e-02, -4.7220e-02,\n",
      "         -2.4310e-02, -4.8550e-02, -9.5612e-03, -1.4316e-02, -3.5176e-02,\n",
      "          5.9830e-03, -2.4823e-04,  2.4203e-03,  3.0661e-03, -6.6386e-03,\n",
      "         -9.1903e-03, -1.5974e-02, -2.9849e-02,  8.9354e-02, -2.1076e-02,\n",
      "          1.1637e-02, -2.6743e-02,  1.5008e-02,  4.0243e-03,  3.0056e-02,\n",
      "          2.7137e-02,  3.5440e-02,  2.3778e-02, -2.4766e-02,  1.1399e-02,\n",
      "         -2.2727e-02,  2.3245e-02,  1.0059e-02, -1.5123e-02,  1.2805e-03,\n",
      "          3.0069e-02, -2.6084e-03,  1.1119e-02, -1.9396e-02, -1.7535e-02,\n",
      "          7.3773e-03,  2.5971e-02, -1.1016e-03, -1.1273e-01, -1.2007e-02,\n",
      "          2.4497e-02, -3.1297e-04, -2.4008e-02, -3.8153e-02,  4.3760e-02,\n",
      "         -6.6946e-02, -3.0889e-02,  3.7549e-02,  1.8906e-02,  2.8422e-02,\n",
      "         -6.0438e-02, -5.9454e-03,  4.1255e-02, -8.4141e-03,  9.4583e-04,\n",
      "         -7.2000e-02,  4.4484e-02,  3.5797e-02, -6.3220e-02, -3.5798e-03,\n",
      "          5.7878e-02, -6.7324e-03,  6.2699e-02,  3.2075e-02, -2.4557e-02,\n",
      "          3.4509e-02,  4.8178e-02,  3.2690e-02,  2.5667e-02, -2.2153e-02,\n",
      "          4.6050e-02, -2.7570e-02, -1.0654e-02, -1.4873e-01, -4.6764e-02,\n",
      "         -7.1455e-02, -3.4613e-02,  1.4101e-02,  2.8308e-02,  7.1219e-02,\n",
      "          5.9699e-02, -1.7229e-02, -2.6287e-02, -2.6061e-02,  2.9782e-02,\n",
      "          1.0333e-02,  5.3754e-03, -5.7927e-02,  5.1807e-03,  1.0379e-02,\n",
      "         -1.3931e-02, -3.1378e-02, -3.2629e-02, -5.8070e-03,  1.5908e-02,\n",
      "          4.9521e-04, -2.6595e-04, -1.2433e-02,  1.6193e-02, -1.4205e-02,\n",
      "         -1.3462e-02, -1.6202e-01, -4.5236e-02,  1.8376e-02,  1.4838e-02,\n",
      "         -5.9940e-04,  5.5307e-02,  8.6545e-03,  7.1339e-03,  4.5830e-03,\n",
      "          4.4297e-03, -3.3102e-02, -5.9492e-02,  6.9413e-02,  3.0966e-02,\n",
      "         -1.4310e-03,  2.8243e-03, -1.6567e-02,  2.4021e-02,  2.3810e-02,\n",
      "          3.1913e-03,  2.4993e-02, -1.1308e-02, -2.0529e-05,  6.7136e-02,\n",
      "          1.3830e-02, -1.6201e-02,  1.0122e-01, -9.6859e-03, -7.8778e-03,\n",
      "         -4.9754e-02, -1.3476e-02,  1.9672e-02, -6.0451e-02,  2.0905e-02,\n",
      "          7.5179e-03,  2.1810e-02,  1.0875e-02, -7.1652e-02,  4.4602e-03,\n",
      "         -4.1116e-02,  4.8416e-04, -4.1413e-03,  8.4781e-04, -1.0244e-01,\n",
      "          5.0615e-02, -3.6644e-02,  2.7144e-02,  9.2832e-03,  3.7755e-02,\n",
      "         -2.8802e-02, -4.1622e-02, -1.6112e-02,  5.8531e-02,  5.2181e-02,\n",
      "         -2.5241e-02,  2.1018e-02, -3.1337e-02,  1.5991e-02, -1.3805e-02,\n",
      "         -5.0115e-02,  4.3666e-02,  4.8566e-02, -2.8520e-02,  8.3736e-03,\n",
      "          4.5385e-02, -1.4266e-02,  4.3343e-02, -1.0348e-02, -5.5242e-04,\n",
      "          8.0187e-02, -2.2995e-02, -4.5153e-02,  7.3001e-03, -3.1427e-02,\n",
      "          1.5073e-02,  2.5153e-03,  6.0146e-03, -8.8678e-02, -9.9930e-02,\n",
      "          3.3818e-03, -3.8649e-02, -9.9785e-02, -1.6271e-02, -1.9292e-02,\n",
      "         -2.5688e-03, -4.1651e-03,  9.8820e-02, -2.2918e-02, -4.7366e-02,\n",
      "         -9.2083e-03, -6.9860e-02, -1.2149e-02, -7.1299e-02,  9.4538e-02,\n",
      "         -1.7012e-02, -6.4489e-03, -1.1392e-01, -4.0745e-02,  2.0614e-02,\n",
      "          7.9703e-02,  9.5608e-03,  3.2107e-02, -3.3312e-02, -1.3411e-01,\n",
      "          1.1018e-02, -2.1719e-02,  7.6870e-03, -1.2558e-02, -8.6866e-02,\n",
      "          4.0860e-02,  3.6691e-03, -3.9694e-02, -9.6273e-03, -5.2964e-02,\n",
      "          9.3279e-02,  4.7762e-03, -2.1574e-02, -3.9458e-03, -4.8686e-02,\n",
      "         -5.8750e-02,  6.0780e-03, -2.4574e-02,  1.0831e-01,  6.7255e-03,\n",
      "         -7.8867e-02,  1.9767e-02, -2.6997e-02,  1.8663e-02, -7.1324e-03,\n",
      "         -3.1301e-02,  3.7320e-02,  1.4163e-02, -1.3180e-02, -2.7319e-02,\n",
      "         -1.0165e-01, -2.4879e-03, -4.5753e-02,  2.2013e-02,  1.7947e-02,\n",
      "          2.4414e-02,  2.1278e-02,  1.6018e-02,  2.5807e-02, -2.4823e-02,\n",
      "          3.1350e-02, -2.9905e-03, -4.9992e-02, -7.4367e-02,  2.4710e-02,\n",
      "         -3.3201e-02, -2.6299e-02,  4.6223e-02,  1.7579e-02,  8.1414e-03,\n",
      "         -2.2776e-02, -7.2220e-03, -3.4569e-03,  1.7753e-02, -3.0382e-03,\n",
      "          3.5121e-02, -8.1637e-04, -1.0359e-01, -5.7646e-02,  2.7411e-02,\n",
      "          5.0201e-02, -3.0144e-02,  2.3579e-02, -4.4272e-02,  3.6351e-02,\n",
      "         -6.2695e-02, -3.2844e-02,  9.0398e-03,  9.3663e-02,  4.7452e-02,\n",
      "          6.1457e-03,  2.7061e-02, -2.3468e-02, -4.1489e-02, -2.1922e-03,\n",
      "         -3.0513e-03, -5.0343e-02, -7.5248e-02, -1.5903e-02,  7.3350e-04,\n",
      "          1.3077e-02,  6.5543e-03,  6.2803e-03, -3.7511e-02, -3.6128e-02,\n",
      "         -9.3451e-03, -2.0327e-02, -3.0237e-02,  2.2960e-02, -4.6589e-04,\n",
      "         -5.4116e-03, -1.8544e-02,  7.8070e-02, -1.4011e-02,  9.5431e-03,\n",
      "          4.6644e-02, -3.4024e-02, -1.5877e-02,  2.1306e-02,  6.3783e-02,\n",
      "          4.3381e-02, -3.3925e-02,  7.6990e-02, -1.1836e-01, -4.3496e-02,\n",
      "         -3.8565e-02,  5.9214e-02, -3.7956e-02, -2.9954e-02, -2.0656e-02,\n",
      "         -6.5027e-03, -2.2966e-02,  2.7349e-02, -7.3690e-03,  1.1015e-01,\n",
      "         -1.1747e-02, -1.7574e-02,  4.0154e-02, -4.2588e-02,  5.7335e-02,\n",
      "          1.5476e-02,  7.4166e-03]], grad_fn=<DivBackward0>), 'long_description_embedding': ''}}\n"
     ]
    },
    {
     "name": "stderr",
     "output_type": "stream",
     "text": [
      "\u001B[32m2024-06-17 23:02:12.419\u001B[0m | \u001B[1mINFO    \u001B[0m | \u001B[36msrc.ocr.pytesseract_image_to_text\u001B[0m:\u001B[36mextract_text_from_image\u001B[0m:\u001B[36m17\u001B[0m - \u001B[1mExtracted text: Chapter 3:\n",
      "Nutrients & Membrane Transport\n",
      "\n",
      "***Is It Possible to Supplement Your\n",
      "Way to Better Performance & Health?\n",
      "\n",
      "Biology 1020:\n",
      "CURRENT TOPICS IN\n",
      "BIOLOGY\n",
      "\n",
      "\u001B[0m\n",
      "\u001B[32m2024-06-17 23:02:12.419\u001B[0m | \u001B[1mINFO    \u001B[0m | \u001B[36m__main__\u001B[0m:\u001B[36m<module>\u001B[0m:\u001B[36m19\u001B[0m - \u001B[1mOCR_results: ['Chapter 3:\\n\\nNutrients & Membrane Transport\\n***Is It Possible to Supplement Your\\nWay to Better Performance & Health?\\n\\nBiology 1020:\\nCURRENT TOPICS IN\\nBIOLOGY\\n\\n', 'Chapter 3:\\nNutrients & Membrane Transport\\n\\n***Is It Possible to Supplement Your\\nWay to Better Performance & Health?\\n\\nBiology 1020:\\nCURRENT TOPICS IN\\nBIOLOGY\\n\\n']\u001B[0m\n",
      "\u001B[32m2024-06-17 23:02:12.423\u001B[0m | \u001B[1mINFO    \u001B[0m | \u001B[36m__main__\u001B[0m:\u001B[36m<module>\u001B[0m:\u001B[36m28\u001B[0m - \u001B[1mTranscription_text:  transport. In this chapter we're going to look at those concepts but we're also going to be asking the question,  is it possible to supplement your way to better performance and health? We live in a world today  where supplements and vitamins and other nutrients are readily available to buy separately from the  foods that we eat. But do they really work? Do they make us healthier and do they make us perform better?  Ginkgo to improve memory, Kava to reduce stress, ginseng to boost energy and melatonin  to help you sleep. Sounds like a recipe for success doesn't it? For good measure,  chase those supplements down with some coconut water to slow aging and prevent cancer. You might  have heard claims like this before vitamins, minerals, herbs, yeast and even enzymes that are  claiming to help you be healthier or to perform better in different tasks in your life.  And another positive with these things is that they come in a bottle and they can stay on your shelf  and stay good with a longer expiration date than the fresh foods that you might buy from a grocery store.  Instead of going to a store every weekend and throwing away food that you never get around to eating,  you could stock your pantry with things like energy drinks, vitamin enriched waters,  protein powders, nutrition bars, and other bottles of vitamins and minerals.  You can even buy them in bulk if you like because they won't rot like fruits and vegetables.  But are they as good for you as you might think or as the advertisement might say?  Is it possible to supplement your way to enhanced academic performance and even better health  and even physical performance? It seems most Americans think so because we spend around  $6 billion a year in America on these items and more than two thirds of us are taking at least  one type of supplement. But let's investigate whether these products are really doing what we  hope that they're doing and while we're asking that question, we'll learn about biological concepts  like nutrients, cells and membrane transport.\u001B[0m\n",
      "\u001B[32m2024-06-17 23:02:12.659\u001B[0m | \u001B[1mINFO    \u001B[0m | \u001B[36msrc.clip.clip_model\u001B[0m:\u001B[36mprocess_clip_tensors\u001B[0m:\u001B[36m90\u001B[0m - \u001B[1mImage embeddings shape: torch.Size([1, 512])\u001B[0m\n",
      "\u001B[32m2024-06-17 23:02:12.659\u001B[0m | \u001B[1mINFO    \u001B[0m | \u001B[36msrc.clip.clip_model\u001B[0m:\u001B[36mprocess_clip_tensors\u001B[0m:\u001B[36m91\u001B[0m - \u001B[1mText embeddings shape: torch.Size([1, 512])\u001B[0m\n",
      "\u001B[32m2024-06-17 23:02:12.680\u001B[0m | \u001B[1mINFO    \u001B[0m | \u001B[36msrc.clip.clip_model\u001B[0m:\u001B[36mgenerate_image_embeddings\u001B[0m:\u001B[36m74\u001B[0m - \u001B[1mEmbeddings: {'image_embeds': tensor([[-2.8295e-02,  9.8216e-03,  2.2284e-02, -1.0075e-03,  1.7779e-02,\n",
      "          1.3625e-02, -1.3242e-02,  3.2091e-02,  5.5857e-02,  8.5306e-02,\n",
      "         -4.0976e-02, -4.2240e-02,  4.8958e-02, -3.3939e-02, -7.6673e-04,\n",
      "          1.7345e-02,  3.6627e-02,  1.2477e-02,  2.7963e-02,  3.2459e-02,\n",
      "         -8.9485e-02,  4.7647e-02, -5.4760e-02, -8.0933e-03,  1.9839e-02,\n",
      "         -8.7219e-03,  1.7713e-02,  9.3854e-03,  3.4105e-02,  5.1948e-02,\n",
      "          2.1702e-02,  5.4169e-03, -6.4893e-03, -8.6470e-03,  3.7607e-02,\n",
      "          4.1402e-02, -6.2906e-02, -1.5653e-02,  1.5697e-02, -1.6765e-01,\n",
      "          1.7646e-03, -3.5867e-02,  1.8759e-02,  6.6813e-03, -1.8361e-03,\n",
      "          6.2084e-02,  1.7628e-02, -2.8141e-02, -2.2973e-02, -8.1528e-02,\n",
      "          7.4067e-02,  6.2334e-02,  4.6497e-03, -6.8136e-02,  1.9451e-02,\n",
      "          9.2315e-02, -4.7406e-02, -2.5782e-02,  4.5813e-02, -4.8345e-02,\n",
      "         -3.5780e-02,  7.6449e-03, -7.5153e-03, -1.0342e-02,  2.7689e-02,\n",
      "         -6.3782e-03,  5.4552e-02,  6.4164e-02, -3.4068e-02,  5.9901e-04,\n",
      "          2.9442e-02, -7.5427e-03,  7.6538e-02,  7.8372e-03,  7.2167e-03,\n",
      "         -1.0117e-02, -5.4875e-02,  1.1710e-03, -7.2581e-03,  2.2637e-03,\n",
      "         -1.1003e-02, -2.5801e-02, -3.0021e-02, -2.1361e-02,  4.2300e-02,\n",
      "         -3.1316e-02,  5.1812e-03,  7.2776e-04,  4.8028e-02,  1.7927e-02,\n",
      "         -1.3269e-03,  3.6113e-02, -2.9607e-01, -2.0561e-02,  1.7196e-02,\n",
      "         -8.2118e-02,  3.5911e-02,  5.5603e-02,  7.2665e-02,  2.6742e-02,\n",
      "         -3.6261e-02, -2.5371e-02,  3.2031e-03,  1.2901e-02, -5.2494e-02,\n",
      "          1.7357e-02, -9.1566e-02, -2.5136e-02, -9.4463e-02,  5.3947e-02,\n",
      "          2.2156e-02,  3.3725e-02,  1.4481e-02,  2.9894e-02,  1.4887e-02,\n",
      "         -4.0852e-03, -1.8927e-02, -1.2647e-02, -3.4935e-03,  2.8084e-02,\n",
      "          1.2913e-02,  2.6737e-02, -3.9672e-02,  3.0844e-02, -7.8860e-02,\n",
      "         -5.7610e-02,  2.5321e-02, -4.6349e-02,  4.2543e-02,  8.4987e-03,\n",
      "          3.2545e-02, -5.2257e-02,  4.0397e-03,  1.0181e-01, -3.6365e-03,\n",
      "         -1.0178e-02, -1.3386e-03, -8.8050e-02, -2.1689e-02, -2.7639e-02,\n",
      "          3.6033e-02, -8.5860e-03, -6.4288e-02,  2.8490e-02,  8.7741e-03,\n",
      "          1.5516e-02, -5.3529e-02,  6.5526e-02,  1.3751e-02,  3.3483e-02,\n",
      "         -9.1822e-02,  4.6466e-02,  1.7383e-01,  2.9816e-02,  2.7459e-02,\n",
      "         -1.4849e-02,  3.8768e-02,  2.0186e-02,  7.0434e-03,  9.3222e-03,\n",
      "          1.2293e-02, -5.9614e-02,  5.8072e-03,  5.0072e-03, -5.8379e-02,\n",
      "          1.9087e-02, -5.7816e-02, -1.6379e-02,  5.2416e-02,  1.0927e-04,\n",
      "          2.3669e-02,  5.1591e-03, -5.7504e-03,  4.6019e-02, -7.1468e-02,\n",
      "          3.9289e-02, -4.5975e-02, -3.8139e-02,  2.9091e-02, -2.4333e-02,\n",
      "          4.2332e-02,  9.0731e-04, -8.6856e-02,  1.9248e-02, -4.8650e-02,\n",
      "         -2.8121e-02, -4.3859e-02, -1.3034e-02, -1.1599e-02, -3.5068e-02,\n",
      "          9.0482e-04, -4.7743e-03,  2.1986e-03,  3.7495e-03, -2.0563e-03,\n",
      "         -9.6452e-03, -1.8190e-02, -2.6571e-02,  9.4212e-02, -2.4238e-02,\n",
      "          6.6622e-03, -2.4946e-02,  1.7929e-02,  2.0101e-03,  2.7355e-02,\n",
      "          2.8181e-02,  4.0085e-02,  2.2786e-02, -2.3251e-02,  8.3491e-03,\n",
      "         -1.9501e-02,  1.7809e-02,  7.3210e-03, -1.6551e-02, -3.8876e-05,\n",
      "          3.0458e-02, -4.2691e-03,  6.6711e-03, -1.9906e-02, -2.0915e-02,\n",
      "          8.5745e-03,  2.5120e-02,  6.4921e-03, -1.1269e-01, -1.3946e-02,\n",
      "          2.2369e-02, -3.0609e-03, -2.8203e-02, -3.8148e-02,  4.5963e-02,\n",
      "         -6.2584e-02, -2.8323e-02,  3.9230e-02,  1.9277e-02,  2.9189e-02,\n",
      "         -6.8615e-02, -7.6662e-03,  3.7672e-02, -8.0314e-03, -2.4490e-03,\n",
      "         -6.8210e-02,  4.0260e-02,  3.5408e-02, -6.4573e-02, -4.8127e-03,\n",
      "          5.9662e-02, -9.0438e-03,  6.1017e-02,  3.2626e-02, -2.5746e-02,\n",
      "          3.4795e-02,  4.9575e-02,  2.9729e-02,  1.9817e-02, -1.7545e-02,\n",
      "          4.3087e-02, -2.5984e-02, -1.4282e-02, -1.6260e-01, -4.9689e-02,\n",
      "         -7.0517e-02, -3.8286e-02,  1.0686e-02,  2.0794e-02,  7.0085e-02,\n",
      "          6.0679e-02, -2.0112e-02, -2.9582e-02, -2.6984e-02,  3.0635e-02,\n",
      "          1.4577e-02,  4.5205e-03, -5.7860e-02,  7.8307e-03,  5.8671e-03,\n",
      "         -1.1729e-02, -2.9284e-02, -3.2233e-02, -9.9950e-03,  1.9677e-02,\n",
      "          4.8477e-04, -3.4197e-03, -1.9611e-02,  1.7930e-02, -1.4533e-02,\n",
      "         -1.3546e-02, -1.5827e-01, -3.8962e-02,  1.3937e-02,  1.6510e-02,\n",
      "         -1.2008e-03,  5.5935e-02,  3.1007e-03,  3.9447e-03,  1.1478e-02,\n",
      "          6.5433e-03, -3.4720e-02, -5.8261e-02,  6.6439e-02,  3.2417e-02,\n",
      "          2.8931e-03, -7.9384e-04, -1.8529e-02,  2.3003e-02,  2.5527e-02,\n",
      "          1.0363e-02,  1.9861e-02, -1.1794e-02, -1.3454e-04,  6.4800e-02,\n",
      "          1.9538e-02, -2.1183e-02,  1.0168e-01, -6.1664e-03, -1.1278e-02,\n",
      "         -4.7561e-02, -1.6463e-02,  2.0407e-02, -6.2022e-02,  2.3576e-02,\n",
      "          8.9290e-03,  2.2944e-02,  1.2088e-02, -6.6904e-02,  9.5576e-03,\n",
      "         -4.6897e-02,  1.5794e-03, -2.8296e-04, -1.9683e-03, -9.9314e-02,\n",
      "          4.1499e-02, -3.4035e-02,  2.7192e-02,  1.3713e-02,  4.4130e-02,\n",
      "         -3.3189e-02, -4.2960e-02, -1.7951e-02,  6.1097e-02,  4.7275e-02,\n",
      "         -2.6475e-02,  2.6054e-02, -3.1859e-02,  1.4064e-02, -1.5221e-02,\n",
      "         -5.2207e-02,  4.4547e-02,  5.1549e-02, -2.9529e-02,  6.9566e-03,\n",
      "          4.0077e-02, -1.0933e-02,  4.6686e-02, -1.3187e-02, -3.0834e-03,\n",
      "          8.0768e-02, -2.6032e-02, -4.6814e-02,  6.0486e-03, -2.8070e-02,\n",
      "          1.8291e-02,  2.3589e-03,  7.6991e-03, -9.1906e-02, -9.6592e-02,\n",
      "          1.4805e-03, -3.9440e-02, -1.0088e-01, -1.7182e-02, -2.7133e-02,\n",
      "         -9.5581e-04, -1.9015e-03,  9.5469e-02, -2.0369e-02, -4.7893e-02,\n",
      "         -8.6479e-03, -6.9324e-02, -1.5237e-02, -6.6976e-02,  9.4371e-02,\n",
      "         -1.8218e-02, -4.8935e-03, -1.1241e-01, -3.6957e-02,  1.6723e-02,\n",
      "          8.2685e-02,  6.5765e-03,  3.5108e-02, -3.5823e-02, -1.3707e-01,\n",
      "          1.2951e-02, -2.1915e-02,  8.7689e-03, -9.1651e-03, -8.4785e-02,\n",
      "          4.1213e-02,  3.0064e-03, -4.4360e-02, -1.0397e-02, -5.2103e-02,\n",
      "          8.5975e-02,  1.8518e-03, -1.9740e-02, -6.2304e-03, -4.5330e-02,\n",
      "         -6.2160e-02,  4.8048e-03, -2.3261e-02,  1.0464e-01,  4.7209e-03,\n",
      "         -7.8484e-02,  1.7094e-02, -2.2251e-02,  1.2303e-02, -3.3752e-03,\n",
      "         -2.9949e-02,  3.6576e-02,  1.5203e-02, -7.8138e-03, -2.7395e-02,\n",
      "         -1.0132e-01, -3.4718e-05, -4.7101e-02,  2.2100e-02,  1.7314e-02,\n",
      "          2.1905e-02,  1.7714e-02,  1.7668e-02,  2.8666e-02, -2.5171e-02,\n",
      "          3.4563e-02, -8.7969e-03, -4.8954e-02, -7.2047e-02,  2.4535e-02,\n",
      "         -2.4651e-02, -2.4901e-02,  4.4352e-02,  1.5792e-02,  1.0268e-02,\n",
      "         -2.2381e-02, -8.3291e-03, -5.3918e-03,  1.2999e-02, -8.8901e-03,\n",
      "          3.5680e-02, -7.3633e-03, -1.0393e-01, -5.8136e-02,  3.3291e-02,\n",
      "          4.5851e-02, -2.9521e-02,  2.6991e-02, -4.3992e-02,  3.6746e-02,\n",
      "         -6.3807e-02, -2.8189e-02,  6.1437e-03,  8.9413e-02,  5.0989e-02,\n",
      "          5.6916e-03,  2.5907e-02, -1.8746e-02, -3.5170e-02, -5.5458e-03,\n",
      "         -4.0566e-03, -4.8936e-02, -7.9254e-02, -1.7126e-02,  6.9340e-04,\n",
      "          1.6260e-02,  6.4950e-03,  7.3882e-03, -3.7998e-02, -3.7335e-02,\n",
      "         -5.4662e-03, -1.5712e-02, -3.5399e-02,  2.4967e-02,  2.6165e-03,\n",
      "         -5.3741e-03, -2.9934e-02,  7.8752e-02, -1.1410e-02,  5.2232e-03,\n",
      "          4.8921e-02, -3.1018e-02, -1.4650e-02,  2.4221e-02,  6.6913e-02,\n",
      "          4.8402e-02, -2.5686e-02,  7.4902e-02, -1.1910e-01, -4.3045e-02,\n",
      "         -3.5019e-02,  6.1732e-02, -3.6960e-02, -2.9883e-02, -2.5045e-02,\n",
      "         -7.7225e-03, -2.3477e-02,  2.7659e-02, -5.4706e-03,  1.1607e-01,\n",
      "         -5.7935e-03, -1.6364e-02,  3.6325e-02, -4.4451e-02,  4.2620e-02,\n",
      "          1.6913e-02,  8.8324e-03]], grad_fn=<DivBackward0>), 'text_embeds': tensor([[-6.3477e-03,  4.1144e-02, -6.2738e-03, -1.5998e-02, -1.5231e-02,\n",
      "          5.2521e-03,  2.1959e-03,  1.5892e-01,  6.9392e-02,  2.2310e-02,\n",
      "         -1.1350e-02,  2.7823e-03,  1.8811e-02,  2.6283e-02, -2.5208e-02,\n",
      "          5.3009e-02, -1.8662e-02,  3.6511e-02, -1.4450e-02,  6.5905e-04,\n",
      "         -9.1668e-02,  4.0422e-02,  4.8536e-03, -1.6253e-02,  1.2104e-02,\n",
      "         -6.4063e-03, -2.5818e-04,  7.8357e-03,  1.3944e-02, -2.4530e-02,\n",
      "         -3.0541e-02,  2.3742e-02, -5.3753e-02, -1.0094e-02, -1.5985e-02,\n",
      "         -1.0951e-02, -4.3780e-02, -2.2585e-03, -1.2670e-02, -2.9883e-02,\n",
      "         -4.5516e-03, -1.0703e-02, -2.1324e-02,  2.3193e-02,  2.2542e-02,\n",
      "          2.0227e-02,  3.8406e-02,  1.6753e-02,  8.8785e-03, -4.1160e-02,\n",
      "          6.1588e-03, -6.2438e-03, -9.6723e-03, -3.3283e-02, -3.2328e-02,\n",
      "         -2.9639e-02,  9.6561e-04,  9.2079e-03,  3.6435e-02, -1.4932e-02,\n",
      "          3.0821e-02, -2.3917e-02, -7.5037e-03, -1.9327e-02,  2.5158e-02,\n",
      "         -1.8954e-03,  3.4790e-03,  3.9322e-02, -3.1145e-02, -4.1234e-02,\n",
      "          2.5879e-02, -2.4266e-02,  2.0118e-02,  3.2723e-03, -8.9955e-03,\n",
      "          2.5346e-03, -2.9965e-02, -8.0737e-03, -5.3508e-03,  2.0337e-02,\n",
      "          7.4238e-02,  1.1257e-02,  1.2724e-02,  1.9417e-02,  1.2340e-02,\n",
      "         -3.1194e-02,  3.1476e-02,  4.3321e-02,  3.6186e-02, -1.9386e-02,\n",
      "          5.3800e-03, -3.8678e-04, -1.2635e-01,  1.6779e-02, -2.6446e-02,\n",
      "         -2.6393e-02,  3.9317e-02, -1.3166e-02,  3.8940e-03, -2.0278e-02,\n",
      "          2.6499e-02, -6.9405e-03, -1.3565e-02,  4.1338e-03,  5.2156e-03,\n",
      "          3.7779e-02, -8.6641e-03,  2.2599e-02, -5.9131e-03, -1.6489e-02,\n",
      "          3.1322e-02,  6.6637e-02,  8.6887e-03, -5.1872e-03,  2.1354e-02,\n",
      "          1.8026e-02,  1.4150e-02, -4.9365e-02, -1.7099e-02, -1.0120e-02,\n",
      "         -3.3688e-02,  1.6171e-02,  1.2844e-02,  1.3904e-02,  2.6263e-03,\n",
      "         -2.9792e-02,  3.0445e-02,  3.2023e-02, -1.2371e-02, -3.5112e-02,\n",
      "          1.0733e-02, -1.0997e-02,  4.4128e-02,  5.4559e-01,  2.1560e-03,\n",
      "          2.8481e-02, -2.0171e-02, -2.3194e-02, -1.5841e-03, -9.3022e-03,\n",
      "          2.2431e-02, -5.3322e-02, -2.4527e-02,  5.1466e-02,  4.3978e-02,\n",
      "          4.1204e-02,  1.5464e-04,  2.1855e-02, -2.2763e-02, -1.6357e-03,\n",
      "         -3.2405e-02,  4.1047e-03,  6.8837e-03,  1.0460e-02, -6.1573e-03,\n",
      "          1.2404e-02,  2.1393e-02,  1.7801e-02, -8.7439e-03,  2.3274e-02,\n",
      "          3.0896e-02, -2.7392e-03,  1.3699e-02, -1.8184e-02, -1.7068e-02,\n",
      "          3.1070e-02, -3.2563e-02,  3.5323e-02,  2.5902e-02,  2.5914e-03,\n",
      "          2.1705e-02,  3.5859e-03,  3.7607e-02,  2.7789e-02,  3.1296e-03,\n",
      "          1.6132e-02, -5.2873e-02, -3.6884e-02,  8.2131e-02,  2.2836e-02,\n",
      "         -2.6048e-02,  1.3491e-02, -1.9612e-02,  2.8756e-02,  2.1930e-02,\n",
      "          2.1865e-02,  7.9595e-03, -1.0123e-02, -2.1520e-02, -3.2854e-02,\n",
      "         -3.5127e-02,  2.0452e-02, -1.2671e-02, -4.1706e-02,  1.9293e-02,\n",
      "          1.5991e-02, -7.3391e-03, -3.5847e-02,  6.3183e-02, -9.6701e-04,\n",
      "          6.4125e-03, -3.4611e-02,  4.8292e-03,  6.8242e-03, -5.0418e-04,\n",
      "          1.7149e-02,  6.9932e-03, -3.5410e-03, -4.9607e-02,  2.1557e-02,\n",
      "         -6.2168e-03, -2.1150e-02, -1.0056e-02, -4.4356e-03,  3.2756e-02,\n",
      "          7.4397e-04, -2.2512e-02,  3.0232e-03,  1.6924e-02,  1.3130e-02,\n",
      "          1.1971e-02,  1.9855e-02,  1.5301e-02, -6.7348e-02, -2.1302e-02,\n",
      "         -3.1885e-03,  3.7937e-02, -3.6954e-02,  2.2395e-02, -9.7389e-03,\n",
      "         -1.1835e-03, -1.0562e-02, -7.9477e-03,  4.2406e-03, -2.6552e-02,\n",
      "         -3.2920e-02,  7.2192e-03, -5.6136e-03,  1.8466e-02, -1.4088e-02,\n",
      "         -3.6959e-02, -1.7506e-02,  2.1293e-02, -5.3767e-02,  6.1999e-03,\n",
      "          1.0972e-02, -2.1939e-03,  1.5132e-02, -5.5218e-03, -1.2882e-03,\n",
      "          2.8924e-03, -1.2053e-02,  4.4805e-03,  4.4188e-02, -2.1098e-02,\n",
      "          1.9886e-02,  3.6754e-02, -2.6687e-03, -2.0721e-02, -1.6653e-02,\n",
      "         -2.4820e-02,  3.2692e-03,  1.0258e-02,  8.5348e-03,  1.4101e-03,\n",
      "          4.8919e-02, -2.5462e-02, -1.7718e-02,  1.3577e-02,  1.3986e-02,\n",
      "          4.3795e-02,  1.4943e-02, -5.6494e-02,  4.3812e-03, -2.4511e-02,\n",
      "          1.3042e-03, -1.6836e-02, -2.3786e-02,  6.8622e-03, -1.0544e-02,\n",
      "          2.4705e-02, -3.3259e-02,  2.1442e-02, -7.8433e-03,  7.2804e-03,\n",
      "         -3.2788e-02, -5.8195e-03, -7.1960e-03,  4.0097e-02,  2.3466e-02,\n",
      "          2.9752e-02,  3.6697e-02,  2.9514e-03,  1.0334e-03, -1.5589e-02,\n",
      "         -2.3646e-02,  5.2072e-02,  1.0365e-02,  2.9974e-02, -7.3787e-03,\n",
      "         -1.0109e-02, -2.3258e-02,  1.3710e-03, -6.9190e-03,  1.4023e-02,\n",
      "          7.4681e-02, -2.5029e-03, -9.3630e-03, -8.4276e-03,  2.8861e-02,\n",
      "         -4.1396e-03, -3.8495e-02,  5.4632e-01, -7.0250e-03, -2.1558e-02,\n",
      "          2.3098e-02,  1.6878e-03, -5.6737e-02, -3.2951e-03, -2.6958e-02,\n",
      "         -1.7611e-03, -7.3081e-03,  3.4207e-02,  1.2158e-02, -8.1842e-03,\n",
      "          2.5524e-03, -5.8486e-03,  2.5709e-02, -1.3544e-02, -9.6948e-02,\n",
      "          2.8807e-02, -4.6801e-02, -6.6422e-03,  1.7124e-02,  3.4664e-02,\n",
      "         -7.9770e-03, -1.7429e-02, -2.8571e-02, -1.4369e-02,  5.2255e-03,\n",
      "         -6.7691e-03, -1.7460e-02, -3.1559e-02,  6.5152e-03,  1.1810e-02,\n",
      "          3.0003e-03,  1.6142e-02,  1.0571e-02,  3.9556e-04,  5.8873e-03,\n",
      "          2.0733e-02,  1.1923e-03,  3.3451e-02,  3.4292e-02,  9.0089e-03,\n",
      "          4.8864e-02, -2.9956e-02, -5.1423e-02,  2.5899e-02,  4.8071e-02,\n",
      "          3.4757e-03,  5.3912e-03, -2.9079e-02, -6.7200e-02, -8.5605e-03,\n",
      "          2.6901e-02, -4.0401e-02,  1.9092e-03,  5.3607e-03, -1.3071e-02,\n",
      "         -4.0069e-04,  1.9861e-03,  4.4650e-02, -1.9041e-03, -2.8208e-02,\n",
      "          2.1835e-02, -2.2027e-02, -1.8876e-03,  8.9097e-03,  1.1614e-02,\n",
      "         -2.6494e-02,  2.8079e-03, -4.4499e-02, -3.6418e-02,  5.7357e-02,\n",
      "          1.9512e-02,  1.2699e-02,  2.1679e-02, -3.2783e-02, -2.6571e-02,\n",
      "         -2.8367e-02,  1.3169e-02,  3.6687e-02, -2.2522e-02, -2.6436e-02,\n",
      "          8.1912e-03, -3.2308e-02,  1.9787e-03,  1.8264e-02,  6.2772e-02,\n",
      "          2.4573e-02, -2.1108e-02, -2.4111e-02, -2.1822e-02,  1.8217e-02,\n",
      "         -5.9054e-02, -2.1084e-02, -2.8208e-02,  4.4544e-02, -3.4030e-02,\n",
      "         -4.5454e-02,  3.1183e-02, -9.9294e-03, -7.4975e-03,  6.0213e-03,\n",
      "         -1.6923e-02,  2.5210e-03, -3.9728e-02, -7.9962e-04,  2.0323e-02,\n",
      "         -2.4279e-02,  8.1078e-03,  1.0194e-02, -2.8525e-02,  1.7299e-02,\n",
      "          2.7718e-02,  2.8365e-02, -5.5833e-02, -6.2758e-02, -4.6281e-02,\n",
      "         -2.0536e-03,  1.4150e-02,  4.2415e-02, -4.3209e-03,  2.1761e-02,\n",
      "         -4.4168e-02, -2.2648e-02,  3.8820e-03,  3.8014e-02, -1.5341e-02,\n",
      "          7.5532e-03, -1.5733e-02,  5.0844e-03, -1.2881e-02, -4.5639e-03,\n",
      "         -2.7363e-02,  3.9793e-03, -2.8245e-02,  7.1750e-03,  2.5391e-02,\n",
      "         -1.6894e-02,  1.9579e-02, -4.2844e-03,  6.9985e-03,  7.8465e-03,\n",
      "         -5.4349e-02, -4.2209e-03,  1.0650e-02,  2.9666e-03,  4.4577e-02,\n",
      "         -1.3901e-02, -1.9033e-02,  3.8347e-02, -1.9112e-02,  2.5048e-02,\n",
      "          1.0035e-02, -8.7113e-03, -2.3127e-02,  3.3350e-02,  2.6266e-03,\n",
      "          7.5072e-06,  3.8938e-03,  1.3143e-04,  3.3251e-02, -1.6534e-02,\n",
      "          3.4813e-02, -1.3597e-03,  3.1944e-03,  4.5998e-02,  6.7610e-03,\n",
      "         -5.2454e-03, -1.0020e-01,  3.0550e-02,  2.4885e-02,  2.8878e-03,\n",
      "          1.6664e-02, -3.6780e-02, -1.4193e-02,  4.3364e-02,  3.3462e-02,\n",
      "          3.8078e-02, -3.3250e-02,  1.5368e-02, -1.2224e-02,  2.0275e-02,\n",
      "         -4.1630e-03,  3.3960e-02,  3.1773e-02, -9.4614e-03, -2.9135e-02,\n",
      "         -1.3794e-02, -1.1571e-03,  4.0198e-03, -6.1378e-03,  4.0055e-02,\n",
      "          2.4896e-02, -2.1915e-02,  9.8915e-03,  1.3434e-02, -1.1247e-01,\n",
      "          1.1997e-02,  5.6684e-03]], grad_fn=<DivBackward0>)}\u001B[0m\n",
      "  2%|▏         | 2/111 [00:01<01:34,  1.15it/s]"
     ]
    },
    {
     "name": "stdout",
     "output_type": "stream",
     "text": [
      "{1: {'img_path': 'C:\\\\Users\\\\baatout\\\\PycharmProjects\\\\afm-vlm\\\\data\\\\raw\\\\biology_chapter_3_3\\\\extracted_keyframes\\\\biology_chapter_3_3-Scene-001-01.jpg', 'timestamps': [0, 5], 'transcription': ' Welcome to Chapter 3, Nutrients, Membranes and Trin...', 'ocr_extracted_text': ['Chapter 3:\\n\\nNutrients & Membrane Transport\\n***Is It Possible to Supplement Your\\nWay to Better Performance & Health?\\n\\nBiology 1020:\\nCURRENT TOPICS IN\\nBIOLOGY\\n\\n', 'Chapter 3:\\nNutrients & Membrane Transport\\n\\n***Is It Possible to Supplement Your\\nWay to Better Performance & Health?\\n\\nBiology 1020:\\nCURRENT TOPICS IN\\nBIOLOGY\\n\\n'], 'llava_result': 'llava_results', 'clip_text': 'clip_llm_summary', 'llm_long_summary': 'extensive_summary', 'clip_text_embedding': tensor([[-6.3477e-03,  4.1144e-02, -6.2738e-03, -1.5998e-02, -1.5231e-02,\n",
      "          5.2521e-03,  2.1959e-03,  1.5892e-01,  6.9392e-02,  2.2310e-02,\n",
      "         -1.1350e-02,  2.7823e-03,  1.8811e-02,  2.6283e-02, -2.5208e-02,\n",
      "          5.3009e-02, -1.8662e-02,  3.6511e-02, -1.4450e-02,  6.5905e-04,\n",
      "         -9.1668e-02,  4.0422e-02,  4.8536e-03, -1.6253e-02,  1.2104e-02,\n",
      "         -6.4063e-03, -2.5818e-04,  7.8357e-03,  1.3944e-02, -2.4530e-02,\n",
      "         -3.0541e-02,  2.3742e-02, -5.3753e-02, -1.0094e-02, -1.5985e-02,\n",
      "         -1.0951e-02, -4.3780e-02, -2.2585e-03, -1.2670e-02, -2.9883e-02,\n",
      "         -4.5516e-03, -1.0703e-02, -2.1324e-02,  2.3193e-02,  2.2542e-02,\n",
      "          2.0227e-02,  3.8406e-02,  1.6753e-02,  8.8785e-03, -4.1160e-02,\n",
      "          6.1588e-03, -6.2438e-03, -9.6723e-03, -3.3283e-02, -3.2328e-02,\n",
      "         -2.9639e-02,  9.6561e-04,  9.2079e-03,  3.6435e-02, -1.4932e-02,\n",
      "          3.0821e-02, -2.3917e-02, -7.5037e-03, -1.9327e-02,  2.5158e-02,\n",
      "         -1.8954e-03,  3.4790e-03,  3.9322e-02, -3.1145e-02, -4.1234e-02,\n",
      "          2.5879e-02, -2.4266e-02,  2.0118e-02,  3.2723e-03, -8.9955e-03,\n",
      "          2.5346e-03, -2.9965e-02, -8.0737e-03, -5.3508e-03,  2.0337e-02,\n",
      "          7.4238e-02,  1.1257e-02,  1.2724e-02,  1.9417e-02,  1.2340e-02,\n",
      "         -3.1194e-02,  3.1476e-02,  4.3321e-02,  3.6186e-02, -1.9386e-02,\n",
      "          5.3800e-03, -3.8678e-04, -1.2635e-01,  1.6779e-02, -2.6446e-02,\n",
      "         -2.6393e-02,  3.9317e-02, -1.3166e-02,  3.8940e-03, -2.0278e-02,\n",
      "          2.6499e-02, -6.9405e-03, -1.3565e-02,  4.1338e-03,  5.2156e-03,\n",
      "          3.7779e-02, -8.6641e-03,  2.2599e-02, -5.9131e-03, -1.6489e-02,\n",
      "          3.1322e-02,  6.6637e-02,  8.6887e-03, -5.1872e-03,  2.1354e-02,\n",
      "          1.8026e-02,  1.4150e-02, -4.9365e-02, -1.7099e-02, -1.0120e-02,\n",
      "         -3.3688e-02,  1.6171e-02,  1.2844e-02,  1.3904e-02,  2.6263e-03,\n",
      "         -2.9792e-02,  3.0445e-02,  3.2023e-02, -1.2371e-02, -3.5112e-02,\n",
      "          1.0733e-02, -1.0997e-02,  4.4128e-02,  5.4559e-01,  2.1560e-03,\n",
      "          2.8481e-02, -2.0171e-02, -2.3194e-02, -1.5841e-03, -9.3022e-03,\n",
      "          2.2431e-02, -5.3322e-02, -2.4527e-02,  5.1466e-02,  4.3978e-02,\n",
      "          4.1204e-02,  1.5464e-04,  2.1855e-02, -2.2763e-02, -1.6357e-03,\n",
      "         -3.2405e-02,  4.1047e-03,  6.8837e-03,  1.0460e-02, -6.1573e-03,\n",
      "          1.2404e-02,  2.1393e-02,  1.7801e-02, -8.7439e-03,  2.3274e-02,\n",
      "          3.0896e-02, -2.7392e-03,  1.3699e-02, -1.8184e-02, -1.7068e-02,\n",
      "          3.1070e-02, -3.2563e-02,  3.5323e-02,  2.5902e-02,  2.5914e-03,\n",
      "          2.1705e-02,  3.5859e-03,  3.7607e-02,  2.7789e-02,  3.1296e-03,\n",
      "          1.6132e-02, -5.2873e-02, -3.6884e-02,  8.2131e-02,  2.2836e-02,\n",
      "         -2.6048e-02,  1.3491e-02, -1.9612e-02,  2.8756e-02,  2.1930e-02,\n",
      "          2.1865e-02,  7.9595e-03, -1.0123e-02, -2.1520e-02, -3.2854e-02,\n",
      "         -3.5127e-02,  2.0452e-02, -1.2671e-02, -4.1706e-02,  1.9293e-02,\n",
      "          1.5991e-02, -7.3391e-03, -3.5847e-02,  6.3183e-02, -9.6701e-04,\n",
      "          6.4125e-03, -3.4611e-02,  4.8292e-03,  6.8242e-03, -5.0418e-04,\n",
      "          1.7149e-02,  6.9932e-03, -3.5410e-03, -4.9607e-02,  2.1557e-02,\n",
      "         -6.2168e-03, -2.1150e-02, -1.0056e-02, -4.4356e-03,  3.2756e-02,\n",
      "          7.4397e-04, -2.2512e-02,  3.0232e-03,  1.6924e-02,  1.3130e-02,\n",
      "          1.1971e-02,  1.9855e-02,  1.5301e-02, -6.7348e-02, -2.1302e-02,\n",
      "         -3.1885e-03,  3.7937e-02, -3.6954e-02,  2.2395e-02, -9.7389e-03,\n",
      "         -1.1835e-03, -1.0562e-02, -7.9477e-03,  4.2406e-03, -2.6552e-02,\n",
      "         -3.2920e-02,  7.2192e-03, -5.6136e-03,  1.8466e-02, -1.4088e-02,\n",
      "         -3.6959e-02, -1.7506e-02,  2.1293e-02, -5.3767e-02,  6.1999e-03,\n",
      "          1.0972e-02, -2.1939e-03,  1.5132e-02, -5.5218e-03, -1.2882e-03,\n",
      "          2.8924e-03, -1.2053e-02,  4.4805e-03,  4.4188e-02, -2.1098e-02,\n",
      "          1.9886e-02,  3.6754e-02, -2.6687e-03, -2.0721e-02, -1.6653e-02,\n",
      "         -2.4820e-02,  3.2692e-03,  1.0258e-02,  8.5348e-03,  1.4101e-03,\n",
      "          4.8919e-02, -2.5462e-02, -1.7718e-02,  1.3577e-02,  1.3986e-02,\n",
      "          4.3795e-02,  1.4943e-02, -5.6494e-02,  4.3812e-03, -2.4511e-02,\n",
      "          1.3042e-03, -1.6836e-02, -2.3786e-02,  6.8622e-03, -1.0544e-02,\n",
      "          2.4705e-02, -3.3259e-02,  2.1442e-02, -7.8433e-03,  7.2804e-03,\n",
      "         -3.2788e-02, -5.8195e-03, -7.1960e-03,  4.0097e-02,  2.3466e-02,\n",
      "          2.9752e-02,  3.6697e-02,  2.9514e-03,  1.0334e-03, -1.5589e-02,\n",
      "         -2.3646e-02,  5.2072e-02,  1.0365e-02,  2.9974e-02, -7.3787e-03,\n",
      "         -1.0109e-02, -2.3258e-02,  1.3710e-03, -6.9190e-03,  1.4023e-02,\n",
      "          7.4681e-02, -2.5029e-03, -9.3630e-03, -8.4276e-03,  2.8861e-02,\n",
      "         -4.1396e-03, -3.8495e-02,  5.4632e-01, -7.0250e-03, -2.1558e-02,\n",
      "          2.3098e-02,  1.6878e-03, -5.6737e-02, -3.2951e-03, -2.6958e-02,\n",
      "         -1.7611e-03, -7.3081e-03,  3.4207e-02,  1.2158e-02, -8.1842e-03,\n",
      "          2.5524e-03, -5.8486e-03,  2.5709e-02, -1.3544e-02, -9.6948e-02,\n",
      "          2.8807e-02, -4.6801e-02, -6.6422e-03,  1.7124e-02,  3.4664e-02,\n",
      "         -7.9770e-03, -1.7429e-02, -2.8571e-02, -1.4369e-02,  5.2255e-03,\n",
      "         -6.7691e-03, -1.7460e-02, -3.1559e-02,  6.5152e-03,  1.1810e-02,\n",
      "          3.0003e-03,  1.6142e-02,  1.0571e-02,  3.9556e-04,  5.8873e-03,\n",
      "          2.0733e-02,  1.1923e-03,  3.3451e-02,  3.4292e-02,  9.0089e-03,\n",
      "          4.8864e-02, -2.9956e-02, -5.1423e-02,  2.5899e-02,  4.8071e-02,\n",
      "          3.4757e-03,  5.3912e-03, -2.9079e-02, -6.7200e-02, -8.5605e-03,\n",
      "          2.6901e-02, -4.0401e-02,  1.9092e-03,  5.3607e-03, -1.3071e-02,\n",
      "         -4.0069e-04,  1.9861e-03,  4.4650e-02, -1.9041e-03, -2.8208e-02,\n",
      "          2.1835e-02, -2.2027e-02, -1.8876e-03,  8.9097e-03,  1.1614e-02,\n",
      "         -2.6494e-02,  2.8079e-03, -4.4499e-02, -3.6418e-02,  5.7357e-02,\n",
      "          1.9512e-02,  1.2699e-02,  2.1679e-02, -3.2783e-02, -2.6571e-02,\n",
      "         -2.8367e-02,  1.3169e-02,  3.6687e-02, -2.2522e-02, -2.6436e-02,\n",
      "          8.1912e-03, -3.2308e-02,  1.9787e-03,  1.8264e-02,  6.2772e-02,\n",
      "          2.4573e-02, -2.1108e-02, -2.4111e-02, -2.1822e-02,  1.8217e-02,\n",
      "         -5.9054e-02, -2.1084e-02, -2.8208e-02,  4.4544e-02, -3.4030e-02,\n",
      "         -4.5454e-02,  3.1183e-02, -9.9294e-03, -7.4975e-03,  6.0213e-03,\n",
      "         -1.6923e-02,  2.5210e-03, -3.9728e-02, -7.9962e-04,  2.0323e-02,\n",
      "         -2.4279e-02,  8.1078e-03,  1.0194e-02, -2.8525e-02,  1.7299e-02,\n",
      "          2.7718e-02,  2.8365e-02, -5.5833e-02, -6.2758e-02, -4.6281e-02,\n",
      "         -2.0536e-03,  1.4150e-02,  4.2415e-02, -4.3209e-03,  2.1761e-02,\n",
      "         -4.4168e-02, -2.2648e-02,  3.8820e-03,  3.8014e-02, -1.5341e-02,\n",
      "          7.5532e-03, -1.5733e-02,  5.0844e-03, -1.2881e-02, -4.5639e-03,\n",
      "         -2.7363e-02,  3.9793e-03, -2.8245e-02,  7.1750e-03,  2.5391e-02,\n",
      "         -1.6894e-02,  1.9579e-02, -4.2844e-03,  6.9985e-03,  7.8465e-03,\n",
      "         -5.4349e-02, -4.2209e-03,  1.0650e-02,  2.9666e-03,  4.4577e-02,\n",
      "         -1.3901e-02, -1.9033e-02,  3.8347e-02, -1.9112e-02,  2.5048e-02,\n",
      "          1.0035e-02, -8.7113e-03, -2.3127e-02,  3.3350e-02,  2.6266e-03,\n",
      "          7.5072e-06,  3.8938e-03,  1.3143e-04,  3.3251e-02, -1.6534e-02,\n",
      "          3.4813e-02, -1.3597e-03,  3.1944e-03,  4.5998e-02,  6.7610e-03,\n",
      "         -5.2454e-03, -1.0020e-01,  3.0550e-02,  2.4885e-02,  2.8878e-03,\n",
      "          1.6664e-02, -3.6780e-02, -1.4193e-02,  4.3364e-02,  3.3462e-02,\n",
      "          3.8078e-02, -3.3250e-02,  1.5368e-02, -1.2224e-02,  2.0275e-02,\n",
      "         -4.1630e-03,  3.3960e-02,  3.1773e-02, -9.4614e-03, -2.9135e-02,\n",
      "         -1.3794e-02, -1.1571e-03,  4.0198e-03, -6.1378e-03,  4.0055e-02,\n",
      "          2.4896e-02, -2.1915e-02,  9.8915e-03,  1.3434e-02, -1.1247e-01,\n",
      "          1.1997e-02,  5.6684e-03]], grad_fn=<DivBackward0>), 'clip_image_embedding': tensor([[-3.1177e-02,  9.0450e-03,  2.3851e-02,  3.9746e-04,  1.3134e-02,\n",
      "          1.5794e-02, -1.2453e-02,  1.6711e-02,  5.1623e-02,  8.5168e-02,\n",
      "         -4.0531e-02, -4.4618e-02,  5.2029e-02, -3.1989e-02,  3.6089e-03,\n",
      "          1.8241e-02,  3.0926e-02,  1.3763e-02,  2.8620e-02,  2.8722e-02,\n",
      "         -8.5925e-02,  4.8082e-02, -4.9664e-02, -1.0698e-02,  1.9102e-02,\n",
      "         -9.2912e-03,  1.4337e-02,  9.3732e-03,  3.5666e-02,  4.9427e-02,\n",
      "          1.9160e-02,  5.4924e-03, -8.0587e-03, -1.4838e-02,  3.8006e-02,\n",
      "          4.0205e-02, -5.9970e-02, -1.2445e-02,  1.8316e-02, -1.5773e-01,\n",
      "         -1.4848e-03, -3.4598e-02,  1.6242e-02,  3.7278e-03,  5.2501e-04,\n",
      "          6.6662e-02,  2.7929e-02, -2.5227e-02, -1.9019e-02, -7.9505e-02,\n",
      "          8.3269e-02,  6.0972e-02,  4.6651e-03, -7.0791e-02,  1.7106e-02,\n",
      "          9.7814e-02, -4.6949e-02, -2.6893e-02,  4.6194e-02, -4.4627e-02,\n",
      "         -3.3894e-02,  9.1518e-03, -2.3506e-03, -6.5051e-03,  2.3687e-02,\n",
      "         -5.3065e-03,  5.6387e-02,  6.6404e-02, -3.3069e-02, -5.8595e-03,\n",
      "          2.6182e-02, -5.4441e-03,  7.1331e-02,  5.0989e-03,  7.2619e-03,\n",
      "         -6.7610e-03, -4.8839e-02, -1.7100e-03, -4.3162e-03, -1.9557e-05,\n",
      "         -6.3444e-03, -2.8471e-02, -3.2039e-02, -1.9454e-02,  3.7304e-02,\n",
      "         -2.9084e-02,  4.4431e-03,  3.3072e-04,  5.2118e-02,  1.9965e-02,\n",
      "          4.8870e-03,  3.7313e-02, -2.9986e-01, -2.7228e-02,  2.0841e-02,\n",
      "         -8.0367e-02,  4.0727e-02,  5.7469e-02,  7.3958e-02,  2.8743e-02,\n",
      "         -3.5138e-02, -2.4833e-02, -1.9865e-04,  1.9777e-02, -6.2875e-02,\n",
      "          1.9315e-02, -9.6201e-02, -2.2818e-02, -9.3445e-02,  5.9641e-02,\n",
      "          2.0684e-02,  2.5747e-02,  1.6981e-02,  2.9970e-02,  1.9810e-02,\n",
      "         -9.5779e-03, -2.0592e-02, -5.3964e-03, -4.3954e-03,  2.6000e-02,\n",
      "          1.7542e-02,  3.0079e-02, -3.3832e-02,  2.5786e-02, -7.6592e-02,\n",
      "         -5.1587e-02,  2.6499e-02, -4.6627e-02,  3.7999e-02,  6.7957e-03,\n",
      "          3.3552e-02, -5.0037e-02,  3.7878e-03,  1.0134e-01, -4.5094e-03,\n",
      "         -9.4484e-03, -1.4419e-03, -9.0230e-02, -2.2901e-02, -2.4058e-02,\n",
      "          3.0766e-02, -7.6718e-03, -5.4843e-02,  2.9135e-02,  9.6977e-03,\n",
      "          1.0099e-02, -5.7199e-02,  6.3244e-02,  1.6370e-02,  3.0847e-02,\n",
      "         -9.1876e-02,  4.6987e-02,  1.7658e-01,  2.9821e-02,  2.2615e-02,\n",
      "         -1.7818e-02,  3.6858e-02,  2.0335e-02,  5.1662e-03,  1.1231e-02,\n",
      "          6.9515e-03, -6.0386e-02,  1.3539e-04,  4.5601e-03, -5.8691e-02,\n",
      "          1.8986e-02, -6.5437e-02, -1.5840e-02,  5.3584e-02, -6.2206e-05,\n",
      "          2.4769e-02,  5.2938e-03, -6.9968e-03,  4.8332e-02, -7.1836e-02,\n",
      "          3.5501e-02, -5.3958e-02, -3.9920e-02,  3.1859e-02, -2.7072e-02,\n",
      "          4.9650e-02, -2.9113e-03, -8.3199e-02,  1.8803e-02, -4.7220e-02,\n",
      "         -2.4310e-02, -4.8550e-02, -9.5612e-03, -1.4316e-02, -3.5176e-02,\n",
      "          5.9830e-03, -2.4823e-04,  2.4203e-03,  3.0661e-03, -6.6386e-03,\n",
      "         -9.1903e-03, -1.5974e-02, -2.9849e-02,  8.9354e-02, -2.1076e-02,\n",
      "          1.1637e-02, -2.6743e-02,  1.5008e-02,  4.0243e-03,  3.0056e-02,\n",
      "          2.7137e-02,  3.5440e-02,  2.3778e-02, -2.4766e-02,  1.1399e-02,\n",
      "         -2.2727e-02,  2.3245e-02,  1.0059e-02, -1.5123e-02,  1.2805e-03,\n",
      "          3.0069e-02, -2.6084e-03,  1.1119e-02, -1.9396e-02, -1.7535e-02,\n",
      "          7.3773e-03,  2.5971e-02, -1.1016e-03, -1.1273e-01, -1.2007e-02,\n",
      "          2.4497e-02, -3.1297e-04, -2.4008e-02, -3.8153e-02,  4.3760e-02,\n",
      "         -6.6946e-02, -3.0889e-02,  3.7549e-02,  1.8906e-02,  2.8422e-02,\n",
      "         -6.0438e-02, -5.9454e-03,  4.1255e-02, -8.4141e-03,  9.4583e-04,\n",
      "         -7.2000e-02,  4.4484e-02,  3.5797e-02, -6.3220e-02, -3.5798e-03,\n",
      "          5.7878e-02, -6.7324e-03,  6.2699e-02,  3.2075e-02, -2.4557e-02,\n",
      "          3.4509e-02,  4.8178e-02,  3.2690e-02,  2.5667e-02, -2.2153e-02,\n",
      "          4.6050e-02, -2.7570e-02, -1.0654e-02, -1.4873e-01, -4.6764e-02,\n",
      "         -7.1455e-02, -3.4613e-02,  1.4101e-02,  2.8308e-02,  7.1219e-02,\n",
      "          5.9699e-02, -1.7229e-02, -2.6287e-02, -2.6061e-02,  2.9782e-02,\n",
      "          1.0333e-02,  5.3754e-03, -5.7927e-02,  5.1807e-03,  1.0379e-02,\n",
      "         -1.3931e-02, -3.1378e-02, -3.2629e-02, -5.8070e-03,  1.5908e-02,\n",
      "          4.9521e-04, -2.6595e-04, -1.2433e-02,  1.6193e-02, -1.4205e-02,\n",
      "         -1.3462e-02, -1.6202e-01, -4.5236e-02,  1.8376e-02,  1.4838e-02,\n",
      "         -5.9940e-04,  5.5307e-02,  8.6545e-03,  7.1339e-03,  4.5830e-03,\n",
      "          4.4297e-03, -3.3102e-02, -5.9492e-02,  6.9413e-02,  3.0966e-02,\n",
      "         -1.4310e-03,  2.8243e-03, -1.6567e-02,  2.4021e-02,  2.3810e-02,\n",
      "          3.1913e-03,  2.4993e-02, -1.1308e-02, -2.0529e-05,  6.7136e-02,\n",
      "          1.3830e-02, -1.6201e-02,  1.0122e-01, -9.6859e-03, -7.8778e-03,\n",
      "         -4.9754e-02, -1.3476e-02,  1.9672e-02, -6.0451e-02,  2.0905e-02,\n",
      "          7.5179e-03,  2.1810e-02,  1.0875e-02, -7.1652e-02,  4.4602e-03,\n",
      "         -4.1116e-02,  4.8416e-04, -4.1413e-03,  8.4781e-04, -1.0244e-01,\n",
      "          5.0615e-02, -3.6644e-02,  2.7144e-02,  9.2832e-03,  3.7755e-02,\n",
      "         -2.8802e-02, -4.1622e-02, -1.6112e-02,  5.8531e-02,  5.2181e-02,\n",
      "         -2.5241e-02,  2.1018e-02, -3.1337e-02,  1.5991e-02, -1.3805e-02,\n",
      "         -5.0115e-02,  4.3666e-02,  4.8566e-02, -2.8520e-02,  8.3736e-03,\n",
      "          4.5385e-02, -1.4266e-02,  4.3343e-02, -1.0348e-02, -5.5242e-04,\n",
      "          8.0187e-02, -2.2995e-02, -4.5153e-02,  7.3001e-03, -3.1427e-02,\n",
      "          1.5073e-02,  2.5153e-03,  6.0146e-03, -8.8678e-02, -9.9930e-02,\n",
      "          3.3818e-03, -3.8649e-02, -9.9785e-02, -1.6271e-02, -1.9292e-02,\n",
      "         -2.5688e-03, -4.1651e-03,  9.8820e-02, -2.2918e-02, -4.7366e-02,\n",
      "         -9.2083e-03, -6.9860e-02, -1.2149e-02, -7.1299e-02,  9.4538e-02,\n",
      "         -1.7012e-02, -6.4489e-03, -1.1392e-01, -4.0745e-02,  2.0614e-02,\n",
      "          7.9703e-02,  9.5608e-03,  3.2107e-02, -3.3312e-02, -1.3411e-01,\n",
      "          1.1018e-02, -2.1719e-02,  7.6870e-03, -1.2558e-02, -8.6866e-02,\n",
      "          4.0860e-02,  3.6691e-03, -3.9694e-02, -9.6273e-03, -5.2964e-02,\n",
      "          9.3279e-02,  4.7762e-03, -2.1574e-02, -3.9458e-03, -4.8686e-02,\n",
      "         -5.8750e-02,  6.0780e-03, -2.4574e-02,  1.0831e-01,  6.7255e-03,\n",
      "         -7.8867e-02,  1.9767e-02, -2.6997e-02,  1.8663e-02, -7.1324e-03,\n",
      "         -3.1301e-02,  3.7320e-02,  1.4163e-02, -1.3180e-02, -2.7319e-02,\n",
      "         -1.0165e-01, -2.4879e-03, -4.5753e-02,  2.2013e-02,  1.7947e-02,\n",
      "          2.4414e-02,  2.1278e-02,  1.6018e-02,  2.5807e-02, -2.4823e-02,\n",
      "          3.1350e-02, -2.9905e-03, -4.9992e-02, -7.4367e-02,  2.4710e-02,\n",
      "         -3.3201e-02, -2.6299e-02,  4.6223e-02,  1.7579e-02,  8.1414e-03,\n",
      "         -2.2776e-02, -7.2220e-03, -3.4569e-03,  1.7753e-02, -3.0382e-03,\n",
      "          3.5121e-02, -8.1637e-04, -1.0359e-01, -5.7646e-02,  2.7411e-02,\n",
      "          5.0201e-02, -3.0144e-02,  2.3579e-02, -4.4272e-02,  3.6351e-02,\n",
      "         -6.2695e-02, -3.2844e-02,  9.0398e-03,  9.3663e-02,  4.7452e-02,\n",
      "          6.1457e-03,  2.7061e-02, -2.3468e-02, -4.1489e-02, -2.1922e-03,\n",
      "         -3.0513e-03, -5.0343e-02, -7.5248e-02, -1.5903e-02,  7.3350e-04,\n",
      "          1.3077e-02,  6.5543e-03,  6.2803e-03, -3.7511e-02, -3.6128e-02,\n",
      "         -9.3451e-03, -2.0327e-02, -3.0237e-02,  2.2960e-02, -4.6589e-04,\n",
      "         -5.4116e-03, -1.8544e-02,  7.8070e-02, -1.4011e-02,  9.5431e-03,\n",
      "          4.6644e-02, -3.4024e-02, -1.5877e-02,  2.1306e-02,  6.3783e-02,\n",
      "          4.3381e-02, -3.3925e-02,  7.6990e-02, -1.1836e-01, -4.3496e-02,\n",
      "         -3.8565e-02,  5.9214e-02, -3.7956e-02, -2.9954e-02, -2.0656e-02,\n",
      "         -6.5027e-03, -2.2966e-02,  2.7349e-02, -7.3690e-03,  1.1015e-01,\n",
      "         -1.1747e-02, -1.7574e-02,  4.0154e-02, -4.2588e-02,  5.7335e-02,\n",
      "          1.5476e-02,  7.4166e-03]], grad_fn=<DivBackward0>), 'long_description_embedding': ''}, 2: {'img_path': 'C:\\\\Users\\\\baatout\\\\PycharmProjects\\\\afm-vlm\\\\data\\\\raw\\\\biology_chapter_3_3\\\\extracted_keyframes\\\\biology_chapter_3_3-Scene-002-01.jpg', 'timestamps': [0, 157], 'transcription': \" transport. In this chapter we're going to look at those concepts but we're also going to be asking the question,  is it possible to supplement your way to better performance and health? We live in a world today  where supplements and vitamins and other nutrients are readily available to buy separately from the  foods that we eat. But do they really work? Do they make us healthier and do they make us perform better?  Ginkgo to improve memory, Kava to reduce stress, ginseng to boost energy and melatonin  to help you sleep. Sounds like a recipe for success doesn't it? For good measure,  chase those supplements down with some coconut water to slow aging and prevent cancer. You might  have heard claims like this before vitamins, minerals, herbs, yeast and even enzymes that are  claiming to help you be healthier or to perform better in different tasks in your life.  And another positive with these things is that they come in a bottle and they can stay on your shelf  and stay good with a longer expiration date than the fresh foods that you might buy from a grocery store.  Instead of going to a store every weekend and throwing away food that you never get around to eating,  you could stock your pantry with things like energy drinks, vitamin enriched waters,  protein powders, nutrition bars, and other bottles of vitamins and minerals.  You can even buy them in bulk if you like because they won't rot like fruits and vegetables.  But are they as good for you as you might think or as the advertisement might say?  Is it possible to supplement your way to enhanced academic performance and even better health  and even physical performance? It seems most Americans think so because we spend around  $6 billion a year in America on these items and more than two thirds of us are taking at least  one type of supplement. But let's investigate whether these products are really doing what we  hope that they're doing and while we're asking that question, we'll learn about biological concepts  like nutrients, cells and membrane transport.\", 'ocr_extracted_text': ['Chapter 3:\\n\\nNutrients & Membrane Transport\\n***Is It Possible to Supplement Your\\nWay to Better Performance & Health?\\n\\nBiology 1020:\\nCURRENT TOPICS IN\\nBIOLOGY\\n\\n', 'Chapter 3:\\nNutrients & Membrane Transport\\n\\n***Is It Possible to Supplement Your\\nWay to Better Performance & Health?\\n\\nBiology 1020:\\nCURRENT TOPICS IN\\nBIOLOGY\\n\\n'], 'llava_result': 'llava_results', 'clip_text': 'clip_llm_summary', 'llm_long_summary': 'extensive_summary', 'clip_text_embedding': tensor([[-6.3477e-03,  4.1144e-02, -6.2738e-03, -1.5998e-02, -1.5231e-02,\n",
      "          5.2521e-03,  2.1959e-03,  1.5892e-01,  6.9392e-02,  2.2310e-02,\n",
      "         -1.1350e-02,  2.7823e-03,  1.8811e-02,  2.6283e-02, -2.5208e-02,\n",
      "          5.3009e-02, -1.8662e-02,  3.6511e-02, -1.4450e-02,  6.5905e-04,\n",
      "         -9.1668e-02,  4.0422e-02,  4.8536e-03, -1.6253e-02,  1.2104e-02,\n",
      "         -6.4063e-03, -2.5818e-04,  7.8357e-03,  1.3944e-02, -2.4530e-02,\n",
      "         -3.0541e-02,  2.3742e-02, -5.3753e-02, -1.0094e-02, -1.5985e-02,\n",
      "         -1.0951e-02, -4.3780e-02, -2.2585e-03, -1.2670e-02, -2.9883e-02,\n",
      "         -4.5516e-03, -1.0703e-02, -2.1324e-02,  2.3193e-02,  2.2542e-02,\n",
      "          2.0227e-02,  3.8406e-02,  1.6753e-02,  8.8785e-03, -4.1160e-02,\n",
      "          6.1588e-03, -6.2438e-03, -9.6723e-03, -3.3283e-02, -3.2328e-02,\n",
      "         -2.9639e-02,  9.6561e-04,  9.2079e-03,  3.6435e-02, -1.4932e-02,\n",
      "          3.0821e-02, -2.3917e-02, -7.5037e-03, -1.9327e-02,  2.5158e-02,\n",
      "         -1.8954e-03,  3.4790e-03,  3.9322e-02, -3.1145e-02, -4.1234e-02,\n",
      "          2.5879e-02, -2.4266e-02,  2.0118e-02,  3.2723e-03, -8.9955e-03,\n",
      "          2.5346e-03, -2.9965e-02, -8.0737e-03, -5.3508e-03,  2.0337e-02,\n",
      "          7.4238e-02,  1.1257e-02,  1.2724e-02,  1.9417e-02,  1.2340e-02,\n",
      "         -3.1194e-02,  3.1476e-02,  4.3321e-02,  3.6186e-02, -1.9386e-02,\n",
      "          5.3800e-03, -3.8678e-04, -1.2635e-01,  1.6779e-02, -2.6446e-02,\n",
      "         -2.6393e-02,  3.9317e-02, -1.3166e-02,  3.8940e-03, -2.0278e-02,\n",
      "          2.6499e-02, -6.9405e-03, -1.3565e-02,  4.1338e-03,  5.2156e-03,\n",
      "          3.7779e-02, -8.6641e-03,  2.2599e-02, -5.9131e-03, -1.6489e-02,\n",
      "          3.1322e-02,  6.6637e-02,  8.6887e-03, -5.1872e-03,  2.1354e-02,\n",
      "          1.8026e-02,  1.4150e-02, -4.9365e-02, -1.7099e-02, -1.0120e-02,\n",
      "         -3.3688e-02,  1.6171e-02,  1.2844e-02,  1.3904e-02,  2.6263e-03,\n",
      "         -2.9792e-02,  3.0445e-02,  3.2023e-02, -1.2371e-02, -3.5112e-02,\n",
      "          1.0733e-02, -1.0997e-02,  4.4128e-02,  5.4559e-01,  2.1560e-03,\n",
      "          2.8481e-02, -2.0171e-02, -2.3194e-02, -1.5841e-03, -9.3022e-03,\n",
      "          2.2431e-02, -5.3322e-02, -2.4527e-02,  5.1466e-02,  4.3978e-02,\n",
      "          4.1204e-02,  1.5464e-04,  2.1855e-02, -2.2763e-02, -1.6357e-03,\n",
      "         -3.2405e-02,  4.1047e-03,  6.8837e-03,  1.0460e-02, -6.1573e-03,\n",
      "          1.2404e-02,  2.1393e-02,  1.7801e-02, -8.7439e-03,  2.3274e-02,\n",
      "          3.0896e-02, -2.7392e-03,  1.3699e-02, -1.8184e-02, -1.7068e-02,\n",
      "          3.1070e-02, -3.2563e-02,  3.5323e-02,  2.5902e-02,  2.5914e-03,\n",
      "          2.1705e-02,  3.5859e-03,  3.7607e-02,  2.7789e-02,  3.1296e-03,\n",
      "          1.6132e-02, -5.2873e-02, -3.6884e-02,  8.2131e-02,  2.2836e-02,\n",
      "         -2.6048e-02,  1.3491e-02, -1.9612e-02,  2.8756e-02,  2.1930e-02,\n",
      "          2.1865e-02,  7.9595e-03, -1.0123e-02, -2.1520e-02, -3.2854e-02,\n",
      "         -3.5127e-02,  2.0452e-02, -1.2671e-02, -4.1706e-02,  1.9293e-02,\n",
      "          1.5991e-02, -7.3391e-03, -3.5847e-02,  6.3183e-02, -9.6701e-04,\n",
      "          6.4125e-03, -3.4611e-02,  4.8292e-03,  6.8242e-03, -5.0418e-04,\n",
      "          1.7149e-02,  6.9932e-03, -3.5410e-03, -4.9607e-02,  2.1557e-02,\n",
      "         -6.2168e-03, -2.1150e-02, -1.0056e-02, -4.4356e-03,  3.2756e-02,\n",
      "          7.4397e-04, -2.2512e-02,  3.0232e-03,  1.6924e-02,  1.3130e-02,\n",
      "          1.1971e-02,  1.9855e-02,  1.5301e-02, -6.7348e-02, -2.1302e-02,\n",
      "         -3.1885e-03,  3.7937e-02, -3.6954e-02,  2.2395e-02, -9.7389e-03,\n",
      "         -1.1835e-03, -1.0562e-02, -7.9477e-03,  4.2406e-03, -2.6552e-02,\n",
      "         -3.2920e-02,  7.2192e-03, -5.6136e-03,  1.8466e-02, -1.4088e-02,\n",
      "         -3.6959e-02, -1.7506e-02,  2.1293e-02, -5.3767e-02,  6.1999e-03,\n",
      "          1.0972e-02, -2.1939e-03,  1.5132e-02, -5.5218e-03, -1.2882e-03,\n",
      "          2.8924e-03, -1.2053e-02,  4.4805e-03,  4.4188e-02, -2.1098e-02,\n",
      "          1.9886e-02,  3.6754e-02, -2.6687e-03, -2.0721e-02, -1.6653e-02,\n",
      "         -2.4820e-02,  3.2692e-03,  1.0258e-02,  8.5348e-03,  1.4101e-03,\n",
      "          4.8919e-02, -2.5462e-02, -1.7718e-02,  1.3577e-02,  1.3986e-02,\n",
      "          4.3795e-02,  1.4943e-02, -5.6494e-02,  4.3812e-03, -2.4511e-02,\n",
      "          1.3042e-03, -1.6836e-02, -2.3786e-02,  6.8622e-03, -1.0544e-02,\n",
      "          2.4705e-02, -3.3259e-02,  2.1442e-02, -7.8433e-03,  7.2804e-03,\n",
      "         -3.2788e-02, -5.8195e-03, -7.1960e-03,  4.0097e-02,  2.3466e-02,\n",
      "          2.9752e-02,  3.6697e-02,  2.9514e-03,  1.0334e-03, -1.5589e-02,\n",
      "         -2.3646e-02,  5.2072e-02,  1.0365e-02,  2.9974e-02, -7.3787e-03,\n",
      "         -1.0109e-02, -2.3258e-02,  1.3710e-03, -6.9190e-03,  1.4023e-02,\n",
      "          7.4681e-02, -2.5029e-03, -9.3630e-03, -8.4276e-03,  2.8861e-02,\n",
      "         -4.1396e-03, -3.8495e-02,  5.4632e-01, -7.0250e-03, -2.1558e-02,\n",
      "          2.3098e-02,  1.6878e-03, -5.6737e-02, -3.2951e-03, -2.6958e-02,\n",
      "         -1.7611e-03, -7.3081e-03,  3.4207e-02,  1.2158e-02, -8.1842e-03,\n",
      "          2.5524e-03, -5.8486e-03,  2.5709e-02, -1.3544e-02, -9.6948e-02,\n",
      "          2.8807e-02, -4.6801e-02, -6.6422e-03,  1.7124e-02,  3.4664e-02,\n",
      "         -7.9770e-03, -1.7429e-02, -2.8571e-02, -1.4369e-02,  5.2255e-03,\n",
      "         -6.7691e-03, -1.7460e-02, -3.1559e-02,  6.5152e-03,  1.1810e-02,\n",
      "          3.0003e-03,  1.6142e-02,  1.0571e-02,  3.9556e-04,  5.8873e-03,\n",
      "          2.0733e-02,  1.1923e-03,  3.3451e-02,  3.4292e-02,  9.0089e-03,\n",
      "          4.8864e-02, -2.9956e-02, -5.1423e-02,  2.5899e-02,  4.8071e-02,\n",
      "          3.4757e-03,  5.3912e-03, -2.9079e-02, -6.7200e-02, -8.5605e-03,\n",
      "          2.6901e-02, -4.0401e-02,  1.9092e-03,  5.3607e-03, -1.3071e-02,\n",
      "         -4.0069e-04,  1.9861e-03,  4.4650e-02, -1.9041e-03, -2.8208e-02,\n",
      "          2.1835e-02, -2.2027e-02, -1.8876e-03,  8.9097e-03,  1.1614e-02,\n",
      "         -2.6494e-02,  2.8079e-03, -4.4499e-02, -3.6418e-02,  5.7357e-02,\n",
      "          1.9512e-02,  1.2699e-02,  2.1679e-02, -3.2783e-02, -2.6571e-02,\n",
      "         -2.8367e-02,  1.3169e-02,  3.6687e-02, -2.2522e-02, -2.6436e-02,\n",
      "          8.1912e-03, -3.2308e-02,  1.9787e-03,  1.8264e-02,  6.2772e-02,\n",
      "          2.4573e-02, -2.1108e-02, -2.4111e-02, -2.1822e-02,  1.8217e-02,\n",
      "         -5.9054e-02, -2.1084e-02, -2.8208e-02,  4.4544e-02, -3.4030e-02,\n",
      "         -4.5454e-02,  3.1183e-02, -9.9294e-03, -7.4975e-03,  6.0213e-03,\n",
      "         -1.6923e-02,  2.5210e-03, -3.9728e-02, -7.9962e-04,  2.0323e-02,\n",
      "         -2.4279e-02,  8.1078e-03,  1.0194e-02, -2.8525e-02,  1.7299e-02,\n",
      "          2.7718e-02,  2.8365e-02, -5.5833e-02, -6.2758e-02, -4.6281e-02,\n",
      "         -2.0536e-03,  1.4150e-02,  4.2415e-02, -4.3209e-03,  2.1761e-02,\n",
      "         -4.4168e-02, -2.2648e-02,  3.8820e-03,  3.8014e-02, -1.5341e-02,\n",
      "          7.5532e-03, -1.5733e-02,  5.0844e-03, -1.2881e-02, -4.5639e-03,\n",
      "         -2.7363e-02,  3.9793e-03, -2.8245e-02,  7.1750e-03,  2.5391e-02,\n",
      "         -1.6894e-02,  1.9579e-02, -4.2844e-03,  6.9985e-03,  7.8465e-03,\n",
      "         -5.4349e-02, -4.2209e-03,  1.0650e-02,  2.9666e-03,  4.4577e-02,\n",
      "         -1.3901e-02, -1.9033e-02,  3.8347e-02, -1.9112e-02,  2.5048e-02,\n",
      "          1.0035e-02, -8.7113e-03, -2.3127e-02,  3.3350e-02,  2.6266e-03,\n",
      "          7.5072e-06,  3.8938e-03,  1.3143e-04,  3.3251e-02, -1.6534e-02,\n",
      "          3.4813e-02, -1.3597e-03,  3.1944e-03,  4.5998e-02,  6.7610e-03,\n",
      "         -5.2454e-03, -1.0020e-01,  3.0550e-02,  2.4885e-02,  2.8878e-03,\n",
      "          1.6664e-02, -3.6780e-02, -1.4193e-02,  4.3364e-02,  3.3462e-02,\n",
      "          3.8078e-02, -3.3250e-02,  1.5368e-02, -1.2224e-02,  2.0275e-02,\n",
      "         -4.1630e-03,  3.3960e-02,  3.1773e-02, -9.4614e-03, -2.9135e-02,\n",
      "         -1.3794e-02, -1.1571e-03,  4.0198e-03, -6.1378e-03,  4.0055e-02,\n",
      "          2.4896e-02, -2.1915e-02,  9.8915e-03,  1.3434e-02, -1.1247e-01,\n",
      "          1.1997e-02,  5.6684e-03]], grad_fn=<DivBackward0>), 'clip_image_embedding': tensor([[-2.8295e-02,  9.8216e-03,  2.2284e-02, -1.0075e-03,  1.7779e-02,\n",
      "          1.3625e-02, -1.3242e-02,  3.2091e-02,  5.5857e-02,  8.5306e-02,\n",
      "         -4.0976e-02, -4.2240e-02,  4.8958e-02, -3.3939e-02, -7.6673e-04,\n",
      "          1.7345e-02,  3.6627e-02,  1.2477e-02,  2.7963e-02,  3.2459e-02,\n",
      "         -8.9485e-02,  4.7647e-02, -5.4760e-02, -8.0933e-03,  1.9839e-02,\n",
      "         -8.7219e-03,  1.7713e-02,  9.3854e-03,  3.4105e-02,  5.1948e-02,\n",
      "          2.1702e-02,  5.4169e-03, -6.4893e-03, -8.6470e-03,  3.7607e-02,\n",
      "          4.1402e-02, -6.2906e-02, -1.5653e-02,  1.5697e-02, -1.6765e-01,\n",
      "          1.7646e-03, -3.5867e-02,  1.8759e-02,  6.6813e-03, -1.8361e-03,\n",
      "          6.2084e-02,  1.7628e-02, -2.8141e-02, -2.2973e-02, -8.1528e-02,\n",
      "          7.4067e-02,  6.2334e-02,  4.6497e-03, -6.8136e-02,  1.9451e-02,\n",
      "          9.2315e-02, -4.7406e-02, -2.5782e-02,  4.5813e-02, -4.8345e-02,\n",
      "         -3.5780e-02,  7.6449e-03, -7.5153e-03, -1.0342e-02,  2.7689e-02,\n",
      "         -6.3782e-03,  5.4552e-02,  6.4164e-02, -3.4068e-02,  5.9901e-04,\n",
      "          2.9442e-02, -7.5427e-03,  7.6538e-02,  7.8372e-03,  7.2167e-03,\n",
      "         -1.0117e-02, -5.4875e-02,  1.1710e-03, -7.2581e-03,  2.2637e-03,\n",
      "         -1.1003e-02, -2.5801e-02, -3.0021e-02, -2.1361e-02,  4.2300e-02,\n",
      "         -3.1316e-02,  5.1812e-03,  7.2776e-04,  4.8028e-02,  1.7927e-02,\n",
      "         -1.3269e-03,  3.6113e-02, -2.9607e-01, -2.0561e-02,  1.7196e-02,\n",
      "         -8.2118e-02,  3.5911e-02,  5.5603e-02,  7.2665e-02,  2.6742e-02,\n",
      "         -3.6261e-02, -2.5371e-02,  3.2031e-03,  1.2901e-02, -5.2494e-02,\n",
      "          1.7357e-02, -9.1566e-02, -2.5136e-02, -9.4463e-02,  5.3947e-02,\n",
      "          2.2156e-02,  3.3725e-02,  1.4481e-02,  2.9894e-02,  1.4887e-02,\n",
      "         -4.0852e-03, -1.8927e-02, -1.2647e-02, -3.4935e-03,  2.8084e-02,\n",
      "          1.2913e-02,  2.6737e-02, -3.9672e-02,  3.0844e-02, -7.8860e-02,\n",
      "         -5.7610e-02,  2.5321e-02, -4.6349e-02,  4.2543e-02,  8.4987e-03,\n",
      "          3.2545e-02, -5.2257e-02,  4.0397e-03,  1.0181e-01, -3.6365e-03,\n",
      "         -1.0178e-02, -1.3386e-03, -8.8050e-02, -2.1689e-02, -2.7639e-02,\n",
      "          3.6033e-02, -8.5860e-03, -6.4288e-02,  2.8490e-02,  8.7741e-03,\n",
      "          1.5516e-02, -5.3529e-02,  6.5526e-02,  1.3751e-02,  3.3483e-02,\n",
      "         -9.1822e-02,  4.6466e-02,  1.7383e-01,  2.9816e-02,  2.7459e-02,\n",
      "         -1.4849e-02,  3.8768e-02,  2.0186e-02,  7.0434e-03,  9.3222e-03,\n",
      "          1.2293e-02, -5.9614e-02,  5.8072e-03,  5.0072e-03, -5.8379e-02,\n",
      "          1.9087e-02, -5.7816e-02, -1.6379e-02,  5.2416e-02,  1.0927e-04,\n",
      "          2.3669e-02,  5.1591e-03, -5.7504e-03,  4.6019e-02, -7.1468e-02,\n",
      "          3.9289e-02, -4.5975e-02, -3.8139e-02,  2.9091e-02, -2.4333e-02,\n",
      "          4.2332e-02,  9.0731e-04, -8.6856e-02,  1.9248e-02, -4.8650e-02,\n",
      "         -2.8121e-02, -4.3859e-02, -1.3034e-02, -1.1599e-02, -3.5068e-02,\n",
      "          9.0482e-04, -4.7743e-03,  2.1986e-03,  3.7495e-03, -2.0563e-03,\n",
      "         -9.6452e-03, -1.8190e-02, -2.6571e-02,  9.4212e-02, -2.4238e-02,\n",
      "          6.6622e-03, -2.4946e-02,  1.7929e-02,  2.0101e-03,  2.7355e-02,\n",
      "          2.8181e-02,  4.0085e-02,  2.2786e-02, -2.3251e-02,  8.3491e-03,\n",
      "         -1.9501e-02,  1.7809e-02,  7.3210e-03, -1.6551e-02, -3.8876e-05,\n",
      "          3.0458e-02, -4.2691e-03,  6.6711e-03, -1.9906e-02, -2.0915e-02,\n",
      "          8.5745e-03,  2.5120e-02,  6.4921e-03, -1.1269e-01, -1.3946e-02,\n",
      "          2.2369e-02, -3.0609e-03, -2.8203e-02, -3.8148e-02,  4.5963e-02,\n",
      "         -6.2584e-02, -2.8323e-02,  3.9230e-02,  1.9277e-02,  2.9189e-02,\n",
      "         -6.8615e-02, -7.6662e-03,  3.7672e-02, -8.0314e-03, -2.4490e-03,\n",
      "         -6.8210e-02,  4.0260e-02,  3.5408e-02, -6.4573e-02, -4.8127e-03,\n",
      "          5.9662e-02, -9.0438e-03,  6.1017e-02,  3.2626e-02, -2.5746e-02,\n",
      "          3.4795e-02,  4.9575e-02,  2.9729e-02,  1.9817e-02, -1.7545e-02,\n",
      "          4.3087e-02, -2.5984e-02, -1.4282e-02, -1.6260e-01, -4.9689e-02,\n",
      "         -7.0517e-02, -3.8286e-02,  1.0686e-02,  2.0794e-02,  7.0085e-02,\n",
      "          6.0679e-02, -2.0112e-02, -2.9582e-02, -2.6984e-02,  3.0635e-02,\n",
      "          1.4577e-02,  4.5205e-03, -5.7860e-02,  7.8307e-03,  5.8671e-03,\n",
      "         -1.1729e-02, -2.9284e-02, -3.2233e-02, -9.9950e-03,  1.9677e-02,\n",
      "          4.8477e-04, -3.4197e-03, -1.9611e-02,  1.7930e-02, -1.4533e-02,\n",
      "         -1.3546e-02, -1.5827e-01, -3.8962e-02,  1.3937e-02,  1.6510e-02,\n",
      "         -1.2008e-03,  5.5935e-02,  3.1007e-03,  3.9447e-03,  1.1478e-02,\n",
      "          6.5433e-03, -3.4720e-02, -5.8261e-02,  6.6439e-02,  3.2417e-02,\n",
      "          2.8931e-03, -7.9384e-04, -1.8529e-02,  2.3003e-02,  2.5527e-02,\n",
      "          1.0363e-02,  1.9861e-02, -1.1794e-02, -1.3454e-04,  6.4800e-02,\n",
      "          1.9538e-02, -2.1183e-02,  1.0168e-01, -6.1664e-03, -1.1278e-02,\n",
      "         -4.7561e-02, -1.6463e-02,  2.0407e-02, -6.2022e-02,  2.3576e-02,\n",
      "          8.9290e-03,  2.2944e-02,  1.2088e-02, -6.6904e-02,  9.5576e-03,\n",
      "         -4.6897e-02,  1.5794e-03, -2.8296e-04, -1.9683e-03, -9.9314e-02,\n",
      "          4.1499e-02, -3.4035e-02,  2.7192e-02,  1.3713e-02,  4.4130e-02,\n",
      "         -3.3189e-02, -4.2960e-02, -1.7951e-02,  6.1097e-02,  4.7275e-02,\n",
      "         -2.6475e-02,  2.6054e-02, -3.1859e-02,  1.4064e-02, -1.5221e-02,\n",
      "         -5.2207e-02,  4.4547e-02,  5.1549e-02, -2.9529e-02,  6.9566e-03,\n",
      "          4.0077e-02, -1.0933e-02,  4.6686e-02, -1.3187e-02, -3.0834e-03,\n",
      "          8.0768e-02, -2.6032e-02, -4.6814e-02,  6.0486e-03, -2.8070e-02,\n",
      "          1.8291e-02,  2.3589e-03,  7.6991e-03, -9.1906e-02, -9.6592e-02,\n",
      "          1.4805e-03, -3.9440e-02, -1.0088e-01, -1.7182e-02, -2.7133e-02,\n",
      "         -9.5581e-04, -1.9015e-03,  9.5469e-02, -2.0369e-02, -4.7893e-02,\n",
      "         -8.6479e-03, -6.9324e-02, -1.5237e-02, -6.6976e-02,  9.4371e-02,\n",
      "         -1.8218e-02, -4.8935e-03, -1.1241e-01, -3.6957e-02,  1.6723e-02,\n",
      "          8.2685e-02,  6.5765e-03,  3.5108e-02, -3.5823e-02, -1.3707e-01,\n",
      "          1.2951e-02, -2.1915e-02,  8.7689e-03, -9.1651e-03, -8.4785e-02,\n",
      "          4.1213e-02,  3.0064e-03, -4.4360e-02, -1.0397e-02, -5.2103e-02,\n",
      "          8.5975e-02,  1.8518e-03, -1.9740e-02, -6.2304e-03, -4.5330e-02,\n",
      "         -6.2160e-02,  4.8048e-03, -2.3261e-02,  1.0464e-01,  4.7209e-03,\n",
      "         -7.8484e-02,  1.7094e-02, -2.2251e-02,  1.2303e-02, -3.3752e-03,\n",
      "         -2.9949e-02,  3.6576e-02,  1.5203e-02, -7.8138e-03, -2.7395e-02,\n",
      "         -1.0132e-01, -3.4718e-05, -4.7101e-02,  2.2100e-02,  1.7314e-02,\n",
      "          2.1905e-02,  1.7714e-02,  1.7668e-02,  2.8666e-02, -2.5171e-02,\n",
      "          3.4563e-02, -8.7969e-03, -4.8954e-02, -7.2047e-02,  2.4535e-02,\n",
      "         -2.4651e-02, -2.4901e-02,  4.4352e-02,  1.5792e-02,  1.0268e-02,\n",
      "         -2.2381e-02, -8.3291e-03, -5.3918e-03,  1.2999e-02, -8.8901e-03,\n",
      "          3.5680e-02, -7.3633e-03, -1.0393e-01, -5.8136e-02,  3.3291e-02,\n",
      "          4.5851e-02, -2.9521e-02,  2.6991e-02, -4.3992e-02,  3.6746e-02,\n",
      "         -6.3807e-02, -2.8189e-02,  6.1437e-03,  8.9413e-02,  5.0989e-02,\n",
      "          5.6916e-03,  2.5907e-02, -1.8746e-02, -3.5170e-02, -5.5458e-03,\n",
      "         -4.0566e-03, -4.8936e-02, -7.9254e-02, -1.7126e-02,  6.9340e-04,\n",
      "          1.6260e-02,  6.4950e-03,  7.3882e-03, -3.7998e-02, -3.7335e-02,\n",
      "         -5.4662e-03, -1.5712e-02, -3.5399e-02,  2.4967e-02,  2.6165e-03,\n",
      "         -5.3741e-03, -2.9934e-02,  7.8752e-02, -1.1410e-02,  5.2232e-03,\n",
      "          4.8921e-02, -3.1018e-02, -1.4650e-02,  2.4221e-02,  6.6913e-02,\n",
      "          4.8402e-02, -2.5686e-02,  7.4902e-02, -1.1910e-01, -4.3045e-02,\n",
      "         -3.5019e-02,  6.1732e-02, -3.6960e-02, -2.9883e-02, -2.5045e-02,\n",
      "         -7.7225e-03, -2.3477e-02,  2.7659e-02, -5.4706e-03,  1.1607e-01,\n",
      "         -5.7935e-03, -1.6364e-02,  3.6325e-02, -4.4451e-02,  4.2620e-02,\n",
      "          1.6913e-02,  8.8324e-03]], grad_fn=<DivBackward0>), 'long_description_embedding': ''}}\n"
     ]
    },
    {
     "name": "stderr",
     "output_type": "stream",
     "text": [
      "\u001B[32m2024-06-17 23:02:13.242\u001B[0m | \u001B[1mINFO    \u001B[0m | \u001B[36msrc.ocr.pytesseract_image_to_text\u001B[0m:\u001B[36mextract_text_from_image\u001B[0m:\u001B[36m17\u001B[0m - \u001B[1mExtracted text: Chapter 3:\n",
      "\n",
      "Nutrients & Membrane Transport\n",
      "***Is It Possible to Supplement Your\n",
      "Way to Better Performance & Health?\n",
      "\n",
      "Biology 1020:\n",
      "CURRENT TOPICS IN\n",
      "BIOLOGY\n",
      "\n",
      "\u001B[0m\n",
      "\u001B[32m2024-06-17 23:02:13.242\u001B[0m | \u001B[1mINFO    \u001B[0m | \u001B[36m__main__\u001B[0m:\u001B[36m<module>\u001B[0m:\u001B[36m19\u001B[0m - \u001B[1mOCR_results: ['Chapter 3:\\n\\nNutrients & Membrane Transport\\n***Is It Possible to Supplement Your\\nWay to Better Performance & Health?\\n\\nBiology 1020:\\nCURRENT TOPICS IN\\nBIOLOGY\\n\\n', 'Chapter 3:\\nNutrients & Membrane Transport\\n\\n***Is It Possible to Supplement Your\\nWay to Better Performance & Health?\\n\\nBiology 1020:\\nCURRENT TOPICS IN\\nBIOLOGY\\n\\n', 'Chapter 3:\\n\\nNutrients & Membrane Transport\\n***Is It Possible to Supplement Your\\nWay to Better Performance & Health?\\n\\nBiology 1020:\\nCURRENT TOPICS IN\\nBIOLOGY\\n\\n']\u001B[0m\n",
      "\u001B[32m2024-06-17 23:02:13.242\u001B[0m | \u001B[1mINFO    \u001B[0m | \u001B[36m__main__\u001B[0m:\u001B[36m<module>\u001B[0m:\u001B[36m28\u001B[0m - \u001B[1mTranscription_text: \u001B[0m\n",
      "\u001B[32m2024-06-17 23:02:13.462\u001B[0m | \u001B[1mINFO    \u001B[0m | \u001B[36msrc.clip.clip_model\u001B[0m:\u001B[36mprocess_clip_tensors\u001B[0m:\u001B[36m90\u001B[0m - \u001B[1mImage embeddings shape: torch.Size([1, 512])\u001B[0m\n",
      "\u001B[32m2024-06-17 23:02:13.477\u001B[0m | \u001B[1mINFO    \u001B[0m | \u001B[36msrc.clip.clip_model\u001B[0m:\u001B[36mprocess_clip_tensors\u001B[0m:\u001B[36m91\u001B[0m - \u001B[1mText embeddings shape: torch.Size([1, 512])\u001B[0m\n",
      "\u001B[32m2024-06-17 23:02:13.493\u001B[0m | \u001B[1mINFO    \u001B[0m | \u001B[36msrc.clip.clip_model\u001B[0m:\u001B[36mgenerate_image_embeddings\u001B[0m:\u001B[36m74\u001B[0m - \u001B[1mEmbeddings: {'image_embeds': tensor([[-2.8737e-02,  1.3289e-02,  2.4171e-02, -4.0741e-03,  1.5875e-02,\n",
      "          1.4022e-02, -9.7778e-03,  9.1794e-03,  5.1520e-02,  8.2550e-02,\n",
      "         -3.8890e-02, -4.2709e-02,  5.4469e-02, -2.9434e-02,  2.0166e-03,\n",
      "          1.8928e-02,  2.3184e-02,  1.2359e-02,  2.7391e-02,  2.5376e-02,\n",
      "         -8.0073e-02,  4.7406e-02, -5.0885e-02, -1.3473e-02,  1.8135e-02,\n",
      "         -9.9396e-03,  1.4218e-02,  1.0176e-02,  3.1438e-02,  4.4662e-02,\n",
      "          2.0476e-02,  6.7638e-03, -1.1306e-02, -1.8633e-02,  4.1857e-02,\n",
      "          4.0239e-02, -6.1268e-02, -1.1212e-02,  1.9806e-02, -1.6915e-01,\n",
      "         -3.9244e-04, -3.7932e-02,  1.1292e-02,  2.8936e-03, -2.4366e-03,\n",
      "          5.9550e-02,  3.2824e-02, -2.6367e-02, -2.1842e-02, -7.7667e-02,\n",
      "          8.9401e-02,  6.4144e-02,  7.1722e-03, -6.8438e-02,  1.7431e-02,\n",
      "          1.0094e-01, -4.1298e-02, -2.8345e-02,  4.3407e-02, -4.2688e-02,\n",
      "         -2.9319e-02,  6.2359e-03,  2.1382e-03, -4.5348e-03,  2.2362e-02,\n",
      "         -5.1122e-03,  5.5057e-02,  7.3519e-02, -3.8286e-02, -5.0244e-03,\n",
      "          2.5066e-02, -5.6936e-04,  7.0868e-02,  4.4179e-03,  9.6054e-03,\n",
      "         -8.4393e-03, -4.7210e-02,  8.3595e-04, -6.3876e-03, -8.1243e-04,\n",
      "         -5.5712e-03, -2.8380e-02, -3.5129e-02, -1.8477e-02,  3.6072e-02,\n",
      "         -2.8791e-02,  1.1725e-02,  1.6260e-03,  5.9106e-02,  2.0654e-02,\n",
      "          6.0020e-03,  3.8209e-02, -3.0252e-01, -2.9013e-02,  1.5108e-02,\n",
      "         -7.7464e-02,  3.9452e-02,  5.4382e-02,  7.7378e-02,  2.8678e-02,\n",
      "         -3.2926e-02, -2.4185e-02, -4.9332e-03,  1.7842e-02, -6.3855e-02,\n",
      "          1.9621e-02, -9.0815e-02, -1.9163e-02, -9.0836e-02,  6.0443e-02,\n",
      "          2.6505e-02,  2.3309e-02,  1.2495e-02,  2.9392e-02,  2.1220e-02,\n",
      "         -1.1001e-02, -2.0082e-02, -4.2974e-03, -2.4719e-03,  2.1833e-02,\n",
      "          1.8819e-02,  3.1344e-02, -3.2469e-02,  2.5090e-02, -7.7530e-02,\n",
      "         -4.8670e-02,  2.2515e-02, -4.8119e-02,  3.6723e-02,  4.4915e-03,\n",
      "          3.7605e-02, -5.0115e-02,  4.9478e-03,  1.0145e-01, -1.0220e-02,\n",
      "         -1.2441e-02, -3.0862e-03, -8.8067e-02, -2.5469e-02, -2.2434e-02,\n",
      "          2.7178e-02, -1.1369e-02, -5.5137e-02,  2.8606e-02,  6.1587e-03,\n",
      "          1.2327e-02, -5.9056e-02,  5.7746e-02,  1.9622e-02,  2.7978e-02,\n",
      "         -9.3125e-02,  4.9467e-02,  1.7815e-01,  3.1548e-02,  2.3879e-02,\n",
      "         -1.6744e-02,  3.5066e-02,  1.8044e-02,  5.1653e-03,  1.0997e-02,\n",
      "          5.1437e-06, -6.2438e-02, -6.4018e-04,  4.9810e-03, -5.7185e-02,\n",
      "          1.5004e-02, -6.8894e-02, -1.8619e-02,  5.1495e-02,  1.4989e-03,\n",
      "          1.9998e-02,  8.2231e-03, -6.5179e-03,  4.7030e-02, -7.1701e-02,\n",
      "          3.1253e-02, -5.7590e-02, -4.0461e-02,  3.9310e-02, -3.3134e-02,\n",
      "          4.8673e-02, -5.9595e-03, -8.7689e-02,  1.5620e-02, -4.6662e-02,\n",
      "         -1.7803e-02, -4.6852e-02, -1.0999e-02, -1.3226e-02, -3.6500e-02,\n",
      "          7.5703e-03,  2.3911e-03,  2.7641e-03,  4.2869e-03, -9.2333e-03,\n",
      "         -7.0280e-03, -1.8427e-02, -3.1717e-02,  8.7570e-02, -1.9671e-02,\n",
      "          1.0883e-02, -3.1034e-02,  1.4467e-02,  3.8880e-03,  3.0918e-02,\n",
      "          2.6242e-02,  3.0527e-02,  2.4373e-02, -2.7794e-02,  1.2562e-02,\n",
      "         -2.7098e-02,  2.3182e-02,  1.0979e-02, -1.5881e-02,  4.2182e-03,\n",
      "          3.2393e-02, -2.4024e-03,  1.3709e-02, -2.6083e-02, -2.0116e-02,\n",
      "          6.4609e-03,  2.6920e-02, -1.4526e-03, -1.1049e-01, -1.2643e-02,\n",
      "          2.0785e-02, -1.1510e-03, -2.2592e-02, -4.1640e-02,  4.1389e-02,\n",
      "         -6.5486e-02, -3.1075e-02,  3.4384e-02,  2.1030e-02,  2.8616e-02,\n",
      "         -5.7852e-02, -3.5475e-03,  4.3507e-02, -8.0181e-03,  1.3559e-03,\n",
      "         -7.1063e-02,  4.8314e-02,  3.1296e-02, -6.3938e-02, -1.2107e-03,\n",
      "          5.7928e-02, -6.1645e-03,  6.5721e-02,  3.4490e-02, -2.6284e-02,\n",
      "          3.4182e-02,  5.0151e-02,  3.7122e-02,  2.5476e-02, -2.5431e-02,\n",
      "          4.7843e-02, -2.9561e-02, -1.2491e-02, -1.5078e-01, -4.7475e-02,\n",
      "         -7.2811e-02, -3.3975e-02,  1.7777e-02,  3.5303e-02,  7.1947e-02,\n",
      "          6.1731e-02, -2.1928e-02, -2.6089e-02, -2.5924e-02,  2.8999e-02,\n",
      "          1.1545e-02,  1.2314e-02, -5.7832e-02,  7.6723e-03,  1.1069e-02,\n",
      "         -1.8066e-02, -2.9916e-02, -3.2132e-02, -9.5644e-03,  1.6277e-02,\n",
      "         -8.5846e-04, -3.6073e-04, -1.0784e-02,  1.7050e-02, -1.3045e-02,\n",
      "         -1.3429e-02, -1.5768e-01, -4.6058e-02,  1.7316e-02,  7.2633e-03,\n",
      "         -1.0679e-04,  5.8938e-02,  9.0705e-03,  6.5710e-03,  8.0071e-03,\n",
      "          5.9114e-03, -2.7793e-02, -5.7830e-02,  7.1461e-02,  2.7636e-02,\n",
      "         -4.2339e-03,  3.9587e-03, -1.5684e-02,  2.5540e-02,  2.0014e-02,\n",
      "          3.1462e-03,  2.3755e-02, -8.5129e-03,  5.0961e-03,  6.7229e-02,\n",
      "          1.2773e-02, -1.2112e-02,  1.0135e-01, -9.5642e-03, -7.5045e-03,\n",
      "         -5.1221e-02, -8.6758e-03,  1.8962e-02, -6.0679e-02,  2.0209e-02,\n",
      "          6.4322e-03,  2.7930e-02,  7.6269e-03, -7.3919e-02,  4.1854e-03,\n",
      "         -4.1310e-02, -1.9933e-03, -3.7102e-03, -2.7763e-04, -1.0019e-01,\n",
      "          5.3614e-02, -3.7023e-02,  3.0355e-02,  1.0726e-02,  3.4501e-02,\n",
      "         -2.9326e-02, -4.0708e-02, -9.2199e-03,  5.6201e-02,  5.1774e-02,\n",
      "         -1.9967e-02,  1.5753e-02, -3.2580e-02,  1.6901e-02, -1.6278e-02,\n",
      "         -4.8768e-02,  4.1337e-02,  4.9573e-02, -3.0203e-02,  1.0375e-02,\n",
      "          4.7763e-02, -1.2738e-02,  4.1922e-02, -7.6793e-03,  1.2428e-03,\n",
      "          7.9700e-02, -2.5995e-02, -3.8305e-02,  1.0012e-02, -3.2351e-02,\n",
      "          1.5012e-02,  5.3208e-03,  7.0812e-03, -9.1559e-02, -9.5598e-02,\n",
      "          4.9420e-03, -3.8580e-02, -1.0703e-01, -1.9188e-02, -1.9061e-02,\n",
      "         -2.7279e-03, -4.1858e-03,  9.8183e-02, -2.0887e-02, -4.7539e-02,\n",
      "         -1.1693e-02, -6.4305e-02, -9.3476e-03, -7.4451e-02,  8.9903e-02,\n",
      "         -1.9994e-02, -6.9331e-03, -1.1059e-01, -4.2741e-02,  2.6018e-02,\n",
      "          7.6222e-02,  1.3507e-02,  3.4059e-02, -3.2229e-02, -1.2503e-01,\n",
      "          9.5932e-03, -2.0029e-02,  7.1856e-03, -1.3770e-02, -8.7163e-02,\n",
      "          4.2838e-02,  2.3479e-03, -3.5689e-02, -1.0322e-02, -5.6238e-02,\n",
      "          9.8272e-02,  2.1663e-03, -2.5126e-02,  5.0394e-04, -4.7809e-02,\n",
      "         -5.6616e-02,  3.1337e-03, -2.4702e-02,  1.0789e-01,  5.6654e-03,\n",
      "         -7.9326e-02,  1.7501e-02, -3.2120e-02,  1.2008e-02, -4.0106e-03,\n",
      "         -2.7996e-02,  3.8225e-02,  1.3700e-02, -1.3827e-02, -2.8457e-02,\n",
      "         -1.0153e-01, -2.5786e-03, -4.3060e-02,  2.2002e-02,  1.4380e-02,\n",
      "          2.2187e-02,  2.2233e-02,  1.7201e-02,  1.0900e-02, -2.6873e-02,\n",
      "          2.8690e-02,  1.0644e-04, -3.7383e-02, -7.6337e-02,  2.2683e-02,\n",
      "         -3.2777e-02, -2.9592e-02,  4.9451e-02,  1.8349e-02,  1.0707e-02,\n",
      "         -2.2080e-02, -1.0480e-02, -3.8300e-03,  1.9579e-02, -7.1319e-04,\n",
      "          3.4213e-02, -5.2488e-03, -1.0110e-01, -5.6082e-02,  2.4044e-02,\n",
      "          5.2790e-02, -3.1015e-02,  2.3855e-02, -4.7487e-02,  3.3981e-02,\n",
      "         -6.4447e-02, -3.1601e-02,  1.0321e-02,  9.2285e-02,  4.8212e-02,\n",
      "          4.3875e-03,  2.8095e-02, -2.6684e-02, -4.6040e-02,  3.6896e-03,\n",
      "         -2.9345e-04, -5.0619e-02, -6.8054e-02, -1.8396e-02, -3.3865e-04,\n",
      "          1.4590e-02,  8.4689e-03,  7.0036e-03, -4.0090e-02, -3.1846e-02,\n",
      "         -6.6674e-03, -1.9726e-02, -3.0020e-02,  2.3227e-02, -1.6766e-03,\n",
      "         -9.5183e-03, -1.2446e-02,  7.2697e-02, -1.6771e-02,  8.7398e-03,\n",
      "          4.6453e-02, -3.4995e-02, -1.6194e-02,  1.6287e-02,  6.3684e-02,\n",
      "          4.1209e-02, -4.5358e-02,  7.7473e-02, -1.1594e-01, -4.2524e-02,\n",
      "         -3.7707e-02,  5.8173e-02, -3.5393e-02, -2.6542e-02, -2.3857e-02,\n",
      "         -1.0085e-02, -2.3577e-02,  2.6237e-02, -5.6266e-03,  1.1030e-01,\n",
      "         -1.0931e-02, -1.6731e-02,  4.0689e-02, -4.3440e-02,  6.2863e-02,\n",
      "          1.7050e-02,  8.1193e-03]], grad_fn=<DivBackward0>), 'text_embeds': tensor([[-6.3477e-03,  4.1144e-02, -6.2738e-03, -1.5998e-02, -1.5231e-02,\n",
      "          5.2521e-03,  2.1959e-03,  1.5892e-01,  6.9392e-02,  2.2310e-02,\n",
      "         -1.1350e-02,  2.7823e-03,  1.8811e-02,  2.6283e-02, -2.5208e-02,\n",
      "          5.3009e-02, -1.8662e-02,  3.6511e-02, -1.4450e-02,  6.5905e-04,\n",
      "         -9.1668e-02,  4.0422e-02,  4.8536e-03, -1.6253e-02,  1.2104e-02,\n",
      "         -6.4063e-03, -2.5818e-04,  7.8357e-03,  1.3944e-02, -2.4530e-02,\n",
      "         -3.0541e-02,  2.3742e-02, -5.3753e-02, -1.0094e-02, -1.5985e-02,\n",
      "         -1.0951e-02, -4.3780e-02, -2.2585e-03, -1.2670e-02, -2.9883e-02,\n",
      "         -4.5516e-03, -1.0703e-02, -2.1324e-02,  2.3193e-02,  2.2542e-02,\n",
      "          2.0227e-02,  3.8406e-02,  1.6753e-02,  8.8785e-03, -4.1160e-02,\n",
      "          6.1588e-03, -6.2438e-03, -9.6723e-03, -3.3283e-02, -3.2328e-02,\n",
      "         -2.9639e-02,  9.6561e-04,  9.2079e-03,  3.6435e-02, -1.4932e-02,\n",
      "          3.0821e-02, -2.3917e-02, -7.5037e-03, -1.9327e-02,  2.5158e-02,\n",
      "         -1.8954e-03,  3.4790e-03,  3.9322e-02, -3.1145e-02, -4.1234e-02,\n",
      "          2.5879e-02, -2.4266e-02,  2.0118e-02,  3.2723e-03, -8.9955e-03,\n",
      "          2.5346e-03, -2.9965e-02, -8.0737e-03, -5.3508e-03,  2.0337e-02,\n",
      "          7.4238e-02,  1.1257e-02,  1.2724e-02,  1.9417e-02,  1.2340e-02,\n",
      "         -3.1194e-02,  3.1476e-02,  4.3321e-02,  3.6186e-02, -1.9386e-02,\n",
      "          5.3800e-03, -3.8678e-04, -1.2635e-01,  1.6779e-02, -2.6446e-02,\n",
      "         -2.6393e-02,  3.9317e-02, -1.3166e-02,  3.8940e-03, -2.0278e-02,\n",
      "          2.6499e-02, -6.9405e-03, -1.3565e-02,  4.1338e-03,  5.2156e-03,\n",
      "          3.7779e-02, -8.6641e-03,  2.2599e-02, -5.9131e-03, -1.6489e-02,\n",
      "          3.1322e-02,  6.6637e-02,  8.6887e-03, -5.1872e-03,  2.1354e-02,\n",
      "          1.8026e-02,  1.4150e-02, -4.9365e-02, -1.7099e-02, -1.0120e-02,\n",
      "         -3.3688e-02,  1.6171e-02,  1.2844e-02,  1.3904e-02,  2.6263e-03,\n",
      "         -2.9792e-02,  3.0445e-02,  3.2023e-02, -1.2371e-02, -3.5112e-02,\n",
      "          1.0733e-02, -1.0997e-02,  4.4128e-02,  5.4559e-01,  2.1560e-03,\n",
      "          2.8481e-02, -2.0171e-02, -2.3194e-02, -1.5841e-03, -9.3022e-03,\n",
      "          2.2431e-02, -5.3322e-02, -2.4527e-02,  5.1466e-02,  4.3978e-02,\n",
      "          4.1204e-02,  1.5464e-04,  2.1855e-02, -2.2763e-02, -1.6357e-03,\n",
      "         -3.2405e-02,  4.1047e-03,  6.8837e-03,  1.0460e-02, -6.1573e-03,\n",
      "          1.2404e-02,  2.1393e-02,  1.7801e-02, -8.7439e-03,  2.3274e-02,\n",
      "          3.0896e-02, -2.7392e-03,  1.3699e-02, -1.8184e-02, -1.7068e-02,\n",
      "          3.1070e-02, -3.2563e-02,  3.5323e-02,  2.5902e-02,  2.5914e-03,\n",
      "          2.1705e-02,  3.5859e-03,  3.7607e-02,  2.7789e-02,  3.1296e-03,\n",
      "          1.6132e-02, -5.2873e-02, -3.6884e-02,  8.2131e-02,  2.2836e-02,\n",
      "         -2.6048e-02,  1.3491e-02, -1.9612e-02,  2.8756e-02,  2.1930e-02,\n",
      "          2.1865e-02,  7.9595e-03, -1.0123e-02, -2.1520e-02, -3.2854e-02,\n",
      "         -3.5127e-02,  2.0452e-02, -1.2671e-02, -4.1706e-02,  1.9293e-02,\n",
      "          1.5991e-02, -7.3391e-03, -3.5847e-02,  6.3183e-02, -9.6701e-04,\n",
      "          6.4125e-03, -3.4611e-02,  4.8292e-03,  6.8242e-03, -5.0418e-04,\n",
      "          1.7149e-02,  6.9932e-03, -3.5410e-03, -4.9607e-02,  2.1557e-02,\n",
      "         -6.2168e-03, -2.1150e-02, -1.0056e-02, -4.4356e-03,  3.2756e-02,\n",
      "          7.4397e-04, -2.2512e-02,  3.0232e-03,  1.6924e-02,  1.3130e-02,\n",
      "          1.1971e-02,  1.9855e-02,  1.5301e-02, -6.7348e-02, -2.1302e-02,\n",
      "         -3.1885e-03,  3.7937e-02, -3.6954e-02,  2.2395e-02, -9.7389e-03,\n",
      "         -1.1835e-03, -1.0562e-02, -7.9477e-03,  4.2406e-03, -2.6552e-02,\n",
      "         -3.2920e-02,  7.2192e-03, -5.6136e-03,  1.8466e-02, -1.4088e-02,\n",
      "         -3.6959e-02, -1.7506e-02,  2.1293e-02, -5.3767e-02,  6.1999e-03,\n",
      "          1.0972e-02, -2.1939e-03,  1.5132e-02, -5.5218e-03, -1.2882e-03,\n",
      "          2.8924e-03, -1.2053e-02,  4.4805e-03,  4.4188e-02, -2.1098e-02,\n",
      "          1.9886e-02,  3.6754e-02, -2.6687e-03, -2.0721e-02, -1.6653e-02,\n",
      "         -2.4820e-02,  3.2692e-03,  1.0258e-02,  8.5348e-03,  1.4101e-03,\n",
      "          4.8919e-02, -2.5462e-02, -1.7718e-02,  1.3577e-02,  1.3986e-02,\n",
      "          4.3795e-02,  1.4943e-02, -5.6494e-02,  4.3812e-03, -2.4511e-02,\n",
      "          1.3042e-03, -1.6836e-02, -2.3786e-02,  6.8622e-03, -1.0544e-02,\n",
      "          2.4705e-02, -3.3259e-02,  2.1442e-02, -7.8433e-03,  7.2804e-03,\n",
      "         -3.2788e-02, -5.8195e-03, -7.1960e-03,  4.0097e-02,  2.3466e-02,\n",
      "          2.9752e-02,  3.6697e-02,  2.9514e-03,  1.0334e-03, -1.5589e-02,\n",
      "         -2.3646e-02,  5.2072e-02,  1.0365e-02,  2.9974e-02, -7.3787e-03,\n",
      "         -1.0109e-02, -2.3258e-02,  1.3710e-03, -6.9190e-03,  1.4023e-02,\n",
      "          7.4681e-02, -2.5029e-03, -9.3630e-03, -8.4276e-03,  2.8861e-02,\n",
      "         -4.1396e-03, -3.8495e-02,  5.4632e-01, -7.0250e-03, -2.1558e-02,\n",
      "          2.3098e-02,  1.6878e-03, -5.6737e-02, -3.2951e-03, -2.6958e-02,\n",
      "         -1.7611e-03, -7.3081e-03,  3.4207e-02,  1.2158e-02, -8.1842e-03,\n",
      "          2.5524e-03, -5.8486e-03,  2.5709e-02, -1.3544e-02, -9.6948e-02,\n",
      "          2.8807e-02, -4.6801e-02, -6.6422e-03,  1.7124e-02,  3.4664e-02,\n",
      "         -7.9770e-03, -1.7429e-02, -2.8571e-02, -1.4369e-02,  5.2255e-03,\n",
      "         -6.7691e-03, -1.7460e-02, -3.1559e-02,  6.5152e-03,  1.1810e-02,\n",
      "          3.0003e-03,  1.6142e-02,  1.0571e-02,  3.9556e-04,  5.8873e-03,\n",
      "          2.0733e-02,  1.1923e-03,  3.3451e-02,  3.4292e-02,  9.0089e-03,\n",
      "          4.8864e-02, -2.9956e-02, -5.1423e-02,  2.5899e-02,  4.8071e-02,\n",
      "          3.4757e-03,  5.3912e-03, -2.9079e-02, -6.7200e-02, -8.5605e-03,\n",
      "          2.6901e-02, -4.0401e-02,  1.9092e-03,  5.3607e-03, -1.3071e-02,\n",
      "         -4.0069e-04,  1.9861e-03,  4.4650e-02, -1.9041e-03, -2.8208e-02,\n",
      "          2.1835e-02, -2.2027e-02, -1.8876e-03,  8.9097e-03,  1.1614e-02,\n",
      "         -2.6494e-02,  2.8079e-03, -4.4499e-02, -3.6418e-02,  5.7357e-02,\n",
      "          1.9512e-02,  1.2699e-02,  2.1679e-02, -3.2783e-02, -2.6571e-02,\n",
      "         -2.8367e-02,  1.3169e-02,  3.6687e-02, -2.2522e-02, -2.6436e-02,\n",
      "          8.1912e-03, -3.2308e-02,  1.9787e-03,  1.8264e-02,  6.2772e-02,\n",
      "          2.4573e-02, -2.1108e-02, -2.4111e-02, -2.1822e-02,  1.8217e-02,\n",
      "         -5.9054e-02, -2.1084e-02, -2.8208e-02,  4.4544e-02, -3.4030e-02,\n",
      "         -4.5454e-02,  3.1183e-02, -9.9294e-03, -7.4975e-03,  6.0213e-03,\n",
      "         -1.6923e-02,  2.5210e-03, -3.9728e-02, -7.9962e-04,  2.0323e-02,\n",
      "         -2.4279e-02,  8.1078e-03,  1.0194e-02, -2.8525e-02,  1.7299e-02,\n",
      "          2.7718e-02,  2.8365e-02, -5.5833e-02, -6.2758e-02, -4.6281e-02,\n",
      "         -2.0536e-03,  1.4150e-02,  4.2415e-02, -4.3209e-03,  2.1761e-02,\n",
      "         -4.4168e-02, -2.2648e-02,  3.8820e-03,  3.8014e-02, -1.5341e-02,\n",
      "          7.5532e-03, -1.5733e-02,  5.0844e-03, -1.2881e-02, -4.5639e-03,\n",
      "         -2.7363e-02,  3.9793e-03, -2.8245e-02,  7.1750e-03,  2.5391e-02,\n",
      "         -1.6894e-02,  1.9579e-02, -4.2844e-03,  6.9985e-03,  7.8465e-03,\n",
      "         -5.4349e-02, -4.2209e-03,  1.0650e-02,  2.9666e-03,  4.4577e-02,\n",
      "         -1.3901e-02, -1.9033e-02,  3.8347e-02, -1.9112e-02,  2.5048e-02,\n",
      "          1.0035e-02, -8.7113e-03, -2.3127e-02,  3.3350e-02,  2.6266e-03,\n",
      "          7.5072e-06,  3.8938e-03,  1.3143e-04,  3.3251e-02, -1.6534e-02,\n",
      "          3.4813e-02, -1.3597e-03,  3.1944e-03,  4.5998e-02,  6.7610e-03,\n",
      "         -5.2454e-03, -1.0020e-01,  3.0550e-02,  2.4885e-02,  2.8878e-03,\n",
      "          1.6664e-02, -3.6780e-02, -1.4193e-02,  4.3364e-02,  3.3462e-02,\n",
      "          3.8078e-02, -3.3250e-02,  1.5368e-02, -1.2224e-02,  2.0275e-02,\n",
      "         -4.1630e-03,  3.3960e-02,  3.1773e-02, -9.4614e-03, -2.9135e-02,\n",
      "         -1.3794e-02, -1.1571e-03,  4.0198e-03, -6.1378e-03,  4.0055e-02,\n",
      "          2.4896e-02, -2.1915e-02,  9.8915e-03,  1.3434e-02, -1.1247e-01,\n",
      "          1.1997e-02,  5.6684e-03]], grad_fn=<DivBackward0>)}\u001B[0m\n",
      "  3%|▎         | 3/111 [00:02<01:30,  1.19it/s]"
     ]
    },
    {
     "name": "stdout",
     "output_type": "stream",
     "text": [
      "{1: {'img_path': 'C:\\\\Users\\\\baatout\\\\PycharmProjects\\\\afm-vlm\\\\data\\\\raw\\\\biology_chapter_3_3\\\\extracted_keyframes\\\\biology_chapter_3_3-Scene-001-01.jpg', 'timestamps': [0, 5], 'transcription': ' Welcome to Chapter 3, Nutrients, Membranes and Trin...', 'ocr_extracted_text': ['Chapter 3:\\n\\nNutrients & Membrane Transport\\n***Is It Possible to Supplement Your\\nWay to Better Performance & Health?\\n\\nBiology 1020:\\nCURRENT TOPICS IN\\nBIOLOGY\\n\\n', 'Chapter 3:\\nNutrients & Membrane Transport\\n\\n***Is It Possible to Supplement Your\\nWay to Better Performance & Health?\\n\\nBiology 1020:\\nCURRENT TOPICS IN\\nBIOLOGY\\n\\n', 'Chapter 3:\\n\\nNutrients & Membrane Transport\\n***Is It Possible to Supplement Your\\nWay to Better Performance & Health?\\n\\nBiology 1020:\\nCURRENT TOPICS IN\\nBIOLOGY\\n\\n'], 'llava_result': 'llava_results', 'clip_text': 'clip_llm_summary', 'llm_long_summary': 'extensive_summary', 'clip_text_embedding': tensor([[-6.3477e-03,  4.1144e-02, -6.2738e-03, -1.5998e-02, -1.5231e-02,\n",
      "          5.2521e-03,  2.1959e-03,  1.5892e-01,  6.9392e-02,  2.2310e-02,\n",
      "         -1.1350e-02,  2.7823e-03,  1.8811e-02,  2.6283e-02, -2.5208e-02,\n",
      "          5.3009e-02, -1.8662e-02,  3.6511e-02, -1.4450e-02,  6.5905e-04,\n",
      "         -9.1668e-02,  4.0422e-02,  4.8536e-03, -1.6253e-02,  1.2104e-02,\n",
      "         -6.4063e-03, -2.5818e-04,  7.8357e-03,  1.3944e-02, -2.4530e-02,\n",
      "         -3.0541e-02,  2.3742e-02, -5.3753e-02, -1.0094e-02, -1.5985e-02,\n",
      "         -1.0951e-02, -4.3780e-02, -2.2585e-03, -1.2670e-02, -2.9883e-02,\n",
      "         -4.5516e-03, -1.0703e-02, -2.1324e-02,  2.3193e-02,  2.2542e-02,\n",
      "          2.0227e-02,  3.8406e-02,  1.6753e-02,  8.8785e-03, -4.1160e-02,\n",
      "          6.1588e-03, -6.2438e-03, -9.6723e-03, -3.3283e-02, -3.2328e-02,\n",
      "         -2.9639e-02,  9.6561e-04,  9.2079e-03,  3.6435e-02, -1.4932e-02,\n",
      "          3.0821e-02, -2.3917e-02, -7.5037e-03, -1.9327e-02,  2.5158e-02,\n",
      "         -1.8954e-03,  3.4790e-03,  3.9322e-02, -3.1145e-02, -4.1234e-02,\n",
      "          2.5879e-02, -2.4266e-02,  2.0118e-02,  3.2723e-03, -8.9955e-03,\n",
      "          2.5346e-03, -2.9965e-02, -8.0737e-03, -5.3508e-03,  2.0337e-02,\n",
      "          7.4238e-02,  1.1257e-02,  1.2724e-02,  1.9417e-02,  1.2340e-02,\n",
      "         -3.1194e-02,  3.1476e-02,  4.3321e-02,  3.6186e-02, -1.9386e-02,\n",
      "          5.3800e-03, -3.8678e-04, -1.2635e-01,  1.6779e-02, -2.6446e-02,\n",
      "         -2.6393e-02,  3.9317e-02, -1.3166e-02,  3.8940e-03, -2.0278e-02,\n",
      "          2.6499e-02, -6.9405e-03, -1.3565e-02,  4.1338e-03,  5.2156e-03,\n",
      "          3.7779e-02, -8.6641e-03,  2.2599e-02, -5.9131e-03, -1.6489e-02,\n",
      "          3.1322e-02,  6.6637e-02,  8.6887e-03, -5.1872e-03,  2.1354e-02,\n",
      "          1.8026e-02,  1.4150e-02, -4.9365e-02, -1.7099e-02, -1.0120e-02,\n",
      "         -3.3688e-02,  1.6171e-02,  1.2844e-02,  1.3904e-02,  2.6263e-03,\n",
      "         -2.9792e-02,  3.0445e-02,  3.2023e-02, -1.2371e-02, -3.5112e-02,\n",
      "          1.0733e-02, -1.0997e-02,  4.4128e-02,  5.4559e-01,  2.1560e-03,\n",
      "          2.8481e-02, -2.0171e-02, -2.3194e-02, -1.5841e-03, -9.3022e-03,\n",
      "          2.2431e-02, -5.3322e-02, -2.4527e-02,  5.1466e-02,  4.3978e-02,\n",
      "          4.1204e-02,  1.5464e-04,  2.1855e-02, -2.2763e-02, -1.6357e-03,\n",
      "         -3.2405e-02,  4.1047e-03,  6.8837e-03,  1.0460e-02, -6.1573e-03,\n",
      "          1.2404e-02,  2.1393e-02,  1.7801e-02, -8.7439e-03,  2.3274e-02,\n",
      "          3.0896e-02, -2.7392e-03,  1.3699e-02, -1.8184e-02, -1.7068e-02,\n",
      "          3.1070e-02, -3.2563e-02,  3.5323e-02,  2.5902e-02,  2.5914e-03,\n",
      "          2.1705e-02,  3.5859e-03,  3.7607e-02,  2.7789e-02,  3.1296e-03,\n",
      "          1.6132e-02, -5.2873e-02, -3.6884e-02,  8.2131e-02,  2.2836e-02,\n",
      "         -2.6048e-02,  1.3491e-02, -1.9612e-02,  2.8756e-02,  2.1930e-02,\n",
      "          2.1865e-02,  7.9595e-03, -1.0123e-02, -2.1520e-02, -3.2854e-02,\n",
      "         -3.5127e-02,  2.0452e-02, -1.2671e-02, -4.1706e-02,  1.9293e-02,\n",
      "          1.5991e-02, -7.3391e-03, -3.5847e-02,  6.3183e-02, -9.6701e-04,\n",
      "          6.4125e-03, -3.4611e-02,  4.8292e-03,  6.8242e-03, -5.0418e-04,\n",
      "          1.7149e-02,  6.9932e-03, -3.5410e-03, -4.9607e-02,  2.1557e-02,\n",
      "         -6.2168e-03, -2.1150e-02, -1.0056e-02, -4.4356e-03,  3.2756e-02,\n",
      "          7.4397e-04, -2.2512e-02,  3.0232e-03,  1.6924e-02,  1.3130e-02,\n",
      "          1.1971e-02,  1.9855e-02,  1.5301e-02, -6.7348e-02, -2.1302e-02,\n",
      "         -3.1885e-03,  3.7937e-02, -3.6954e-02,  2.2395e-02, -9.7389e-03,\n",
      "         -1.1835e-03, -1.0562e-02, -7.9477e-03,  4.2406e-03, -2.6552e-02,\n",
      "         -3.2920e-02,  7.2192e-03, -5.6136e-03,  1.8466e-02, -1.4088e-02,\n",
      "         -3.6959e-02, -1.7506e-02,  2.1293e-02, -5.3767e-02,  6.1999e-03,\n",
      "          1.0972e-02, -2.1939e-03,  1.5132e-02, -5.5218e-03, -1.2882e-03,\n",
      "          2.8924e-03, -1.2053e-02,  4.4805e-03,  4.4188e-02, -2.1098e-02,\n",
      "          1.9886e-02,  3.6754e-02, -2.6687e-03, -2.0721e-02, -1.6653e-02,\n",
      "         -2.4820e-02,  3.2692e-03,  1.0258e-02,  8.5348e-03,  1.4101e-03,\n",
      "          4.8919e-02, -2.5462e-02, -1.7718e-02,  1.3577e-02,  1.3986e-02,\n",
      "          4.3795e-02,  1.4943e-02, -5.6494e-02,  4.3812e-03, -2.4511e-02,\n",
      "          1.3042e-03, -1.6836e-02, -2.3786e-02,  6.8622e-03, -1.0544e-02,\n",
      "          2.4705e-02, -3.3259e-02,  2.1442e-02, -7.8433e-03,  7.2804e-03,\n",
      "         -3.2788e-02, -5.8195e-03, -7.1960e-03,  4.0097e-02,  2.3466e-02,\n",
      "          2.9752e-02,  3.6697e-02,  2.9514e-03,  1.0334e-03, -1.5589e-02,\n",
      "         -2.3646e-02,  5.2072e-02,  1.0365e-02,  2.9974e-02, -7.3787e-03,\n",
      "         -1.0109e-02, -2.3258e-02,  1.3710e-03, -6.9190e-03,  1.4023e-02,\n",
      "          7.4681e-02, -2.5029e-03, -9.3630e-03, -8.4276e-03,  2.8861e-02,\n",
      "         -4.1396e-03, -3.8495e-02,  5.4632e-01, -7.0250e-03, -2.1558e-02,\n",
      "          2.3098e-02,  1.6878e-03, -5.6737e-02, -3.2951e-03, -2.6958e-02,\n",
      "         -1.7611e-03, -7.3081e-03,  3.4207e-02,  1.2158e-02, -8.1842e-03,\n",
      "          2.5524e-03, -5.8486e-03,  2.5709e-02, -1.3544e-02, -9.6948e-02,\n",
      "          2.8807e-02, -4.6801e-02, -6.6422e-03,  1.7124e-02,  3.4664e-02,\n",
      "         -7.9770e-03, -1.7429e-02, -2.8571e-02, -1.4369e-02,  5.2255e-03,\n",
      "         -6.7691e-03, -1.7460e-02, -3.1559e-02,  6.5152e-03,  1.1810e-02,\n",
      "          3.0003e-03,  1.6142e-02,  1.0571e-02,  3.9556e-04,  5.8873e-03,\n",
      "          2.0733e-02,  1.1923e-03,  3.3451e-02,  3.4292e-02,  9.0089e-03,\n",
      "          4.8864e-02, -2.9956e-02, -5.1423e-02,  2.5899e-02,  4.8071e-02,\n",
      "          3.4757e-03,  5.3912e-03, -2.9079e-02, -6.7200e-02, -8.5605e-03,\n",
      "          2.6901e-02, -4.0401e-02,  1.9092e-03,  5.3607e-03, -1.3071e-02,\n",
      "         -4.0069e-04,  1.9861e-03,  4.4650e-02, -1.9041e-03, -2.8208e-02,\n",
      "          2.1835e-02, -2.2027e-02, -1.8876e-03,  8.9097e-03,  1.1614e-02,\n",
      "         -2.6494e-02,  2.8079e-03, -4.4499e-02, -3.6418e-02,  5.7357e-02,\n",
      "          1.9512e-02,  1.2699e-02,  2.1679e-02, -3.2783e-02, -2.6571e-02,\n",
      "         -2.8367e-02,  1.3169e-02,  3.6687e-02, -2.2522e-02, -2.6436e-02,\n",
      "          8.1912e-03, -3.2308e-02,  1.9787e-03,  1.8264e-02,  6.2772e-02,\n",
      "          2.4573e-02, -2.1108e-02, -2.4111e-02, -2.1822e-02,  1.8217e-02,\n",
      "         -5.9054e-02, -2.1084e-02, -2.8208e-02,  4.4544e-02, -3.4030e-02,\n",
      "         -4.5454e-02,  3.1183e-02, -9.9294e-03, -7.4975e-03,  6.0213e-03,\n",
      "         -1.6923e-02,  2.5210e-03, -3.9728e-02, -7.9962e-04,  2.0323e-02,\n",
      "         -2.4279e-02,  8.1078e-03,  1.0194e-02, -2.8525e-02,  1.7299e-02,\n",
      "          2.7718e-02,  2.8365e-02, -5.5833e-02, -6.2758e-02, -4.6281e-02,\n",
      "         -2.0536e-03,  1.4150e-02,  4.2415e-02, -4.3209e-03,  2.1761e-02,\n",
      "         -4.4168e-02, -2.2648e-02,  3.8820e-03,  3.8014e-02, -1.5341e-02,\n",
      "          7.5532e-03, -1.5733e-02,  5.0844e-03, -1.2881e-02, -4.5639e-03,\n",
      "         -2.7363e-02,  3.9793e-03, -2.8245e-02,  7.1750e-03,  2.5391e-02,\n",
      "         -1.6894e-02,  1.9579e-02, -4.2844e-03,  6.9985e-03,  7.8465e-03,\n",
      "         -5.4349e-02, -4.2209e-03,  1.0650e-02,  2.9666e-03,  4.4577e-02,\n",
      "         -1.3901e-02, -1.9033e-02,  3.8347e-02, -1.9112e-02,  2.5048e-02,\n",
      "          1.0035e-02, -8.7113e-03, -2.3127e-02,  3.3350e-02,  2.6266e-03,\n",
      "          7.5072e-06,  3.8938e-03,  1.3143e-04,  3.3251e-02, -1.6534e-02,\n",
      "          3.4813e-02, -1.3597e-03,  3.1944e-03,  4.5998e-02,  6.7610e-03,\n",
      "         -5.2454e-03, -1.0020e-01,  3.0550e-02,  2.4885e-02,  2.8878e-03,\n",
      "          1.6664e-02, -3.6780e-02, -1.4193e-02,  4.3364e-02,  3.3462e-02,\n",
      "          3.8078e-02, -3.3250e-02,  1.5368e-02, -1.2224e-02,  2.0275e-02,\n",
      "         -4.1630e-03,  3.3960e-02,  3.1773e-02, -9.4614e-03, -2.9135e-02,\n",
      "         -1.3794e-02, -1.1571e-03,  4.0198e-03, -6.1378e-03,  4.0055e-02,\n",
      "          2.4896e-02, -2.1915e-02,  9.8915e-03,  1.3434e-02, -1.1247e-01,\n",
      "          1.1997e-02,  5.6684e-03]], grad_fn=<DivBackward0>), 'clip_image_embedding': tensor([[-3.1177e-02,  9.0450e-03,  2.3851e-02,  3.9746e-04,  1.3134e-02,\n",
      "          1.5794e-02, -1.2453e-02,  1.6711e-02,  5.1623e-02,  8.5168e-02,\n",
      "         -4.0531e-02, -4.4618e-02,  5.2029e-02, -3.1989e-02,  3.6089e-03,\n",
      "          1.8241e-02,  3.0926e-02,  1.3763e-02,  2.8620e-02,  2.8722e-02,\n",
      "         -8.5925e-02,  4.8082e-02, -4.9664e-02, -1.0698e-02,  1.9102e-02,\n",
      "         -9.2912e-03,  1.4337e-02,  9.3732e-03,  3.5666e-02,  4.9427e-02,\n",
      "          1.9160e-02,  5.4924e-03, -8.0587e-03, -1.4838e-02,  3.8006e-02,\n",
      "          4.0205e-02, -5.9970e-02, -1.2445e-02,  1.8316e-02, -1.5773e-01,\n",
      "         -1.4848e-03, -3.4598e-02,  1.6242e-02,  3.7278e-03,  5.2501e-04,\n",
      "          6.6662e-02,  2.7929e-02, -2.5227e-02, -1.9019e-02, -7.9505e-02,\n",
      "          8.3269e-02,  6.0972e-02,  4.6651e-03, -7.0791e-02,  1.7106e-02,\n",
      "          9.7814e-02, -4.6949e-02, -2.6893e-02,  4.6194e-02, -4.4627e-02,\n",
      "         -3.3894e-02,  9.1518e-03, -2.3506e-03, -6.5051e-03,  2.3687e-02,\n",
      "         -5.3065e-03,  5.6387e-02,  6.6404e-02, -3.3069e-02, -5.8595e-03,\n",
      "          2.6182e-02, -5.4441e-03,  7.1331e-02,  5.0989e-03,  7.2619e-03,\n",
      "         -6.7610e-03, -4.8839e-02, -1.7100e-03, -4.3162e-03, -1.9557e-05,\n",
      "         -6.3444e-03, -2.8471e-02, -3.2039e-02, -1.9454e-02,  3.7304e-02,\n",
      "         -2.9084e-02,  4.4431e-03,  3.3072e-04,  5.2118e-02,  1.9965e-02,\n",
      "          4.8870e-03,  3.7313e-02, -2.9986e-01, -2.7228e-02,  2.0841e-02,\n",
      "         -8.0367e-02,  4.0727e-02,  5.7469e-02,  7.3958e-02,  2.8743e-02,\n",
      "         -3.5138e-02, -2.4833e-02, -1.9865e-04,  1.9777e-02, -6.2875e-02,\n",
      "          1.9315e-02, -9.6201e-02, -2.2818e-02, -9.3445e-02,  5.9641e-02,\n",
      "          2.0684e-02,  2.5747e-02,  1.6981e-02,  2.9970e-02,  1.9810e-02,\n",
      "         -9.5779e-03, -2.0592e-02, -5.3964e-03, -4.3954e-03,  2.6000e-02,\n",
      "          1.7542e-02,  3.0079e-02, -3.3832e-02,  2.5786e-02, -7.6592e-02,\n",
      "         -5.1587e-02,  2.6499e-02, -4.6627e-02,  3.7999e-02,  6.7957e-03,\n",
      "          3.3552e-02, -5.0037e-02,  3.7878e-03,  1.0134e-01, -4.5094e-03,\n",
      "         -9.4484e-03, -1.4419e-03, -9.0230e-02, -2.2901e-02, -2.4058e-02,\n",
      "          3.0766e-02, -7.6718e-03, -5.4843e-02,  2.9135e-02,  9.6977e-03,\n",
      "          1.0099e-02, -5.7199e-02,  6.3244e-02,  1.6370e-02,  3.0847e-02,\n",
      "         -9.1876e-02,  4.6987e-02,  1.7658e-01,  2.9821e-02,  2.2615e-02,\n",
      "         -1.7818e-02,  3.6858e-02,  2.0335e-02,  5.1662e-03,  1.1231e-02,\n",
      "          6.9515e-03, -6.0386e-02,  1.3539e-04,  4.5601e-03, -5.8691e-02,\n",
      "          1.8986e-02, -6.5437e-02, -1.5840e-02,  5.3584e-02, -6.2206e-05,\n",
      "          2.4769e-02,  5.2938e-03, -6.9968e-03,  4.8332e-02, -7.1836e-02,\n",
      "          3.5501e-02, -5.3958e-02, -3.9920e-02,  3.1859e-02, -2.7072e-02,\n",
      "          4.9650e-02, -2.9113e-03, -8.3199e-02,  1.8803e-02, -4.7220e-02,\n",
      "         -2.4310e-02, -4.8550e-02, -9.5612e-03, -1.4316e-02, -3.5176e-02,\n",
      "          5.9830e-03, -2.4823e-04,  2.4203e-03,  3.0661e-03, -6.6386e-03,\n",
      "         -9.1903e-03, -1.5974e-02, -2.9849e-02,  8.9354e-02, -2.1076e-02,\n",
      "          1.1637e-02, -2.6743e-02,  1.5008e-02,  4.0243e-03,  3.0056e-02,\n",
      "          2.7137e-02,  3.5440e-02,  2.3778e-02, -2.4766e-02,  1.1399e-02,\n",
      "         -2.2727e-02,  2.3245e-02,  1.0059e-02, -1.5123e-02,  1.2805e-03,\n",
      "          3.0069e-02, -2.6084e-03,  1.1119e-02, -1.9396e-02, -1.7535e-02,\n",
      "          7.3773e-03,  2.5971e-02, -1.1016e-03, -1.1273e-01, -1.2007e-02,\n",
      "          2.4497e-02, -3.1297e-04, -2.4008e-02, -3.8153e-02,  4.3760e-02,\n",
      "         -6.6946e-02, -3.0889e-02,  3.7549e-02,  1.8906e-02,  2.8422e-02,\n",
      "         -6.0438e-02, -5.9454e-03,  4.1255e-02, -8.4141e-03,  9.4583e-04,\n",
      "         -7.2000e-02,  4.4484e-02,  3.5797e-02, -6.3220e-02, -3.5798e-03,\n",
      "          5.7878e-02, -6.7324e-03,  6.2699e-02,  3.2075e-02, -2.4557e-02,\n",
      "          3.4509e-02,  4.8178e-02,  3.2690e-02,  2.5667e-02, -2.2153e-02,\n",
      "          4.6050e-02, -2.7570e-02, -1.0654e-02, -1.4873e-01, -4.6764e-02,\n",
      "         -7.1455e-02, -3.4613e-02,  1.4101e-02,  2.8308e-02,  7.1219e-02,\n",
      "          5.9699e-02, -1.7229e-02, -2.6287e-02, -2.6061e-02,  2.9782e-02,\n",
      "          1.0333e-02,  5.3754e-03, -5.7927e-02,  5.1807e-03,  1.0379e-02,\n",
      "         -1.3931e-02, -3.1378e-02, -3.2629e-02, -5.8070e-03,  1.5908e-02,\n",
      "          4.9521e-04, -2.6595e-04, -1.2433e-02,  1.6193e-02, -1.4205e-02,\n",
      "         -1.3462e-02, -1.6202e-01, -4.5236e-02,  1.8376e-02,  1.4838e-02,\n",
      "         -5.9940e-04,  5.5307e-02,  8.6545e-03,  7.1339e-03,  4.5830e-03,\n",
      "          4.4297e-03, -3.3102e-02, -5.9492e-02,  6.9413e-02,  3.0966e-02,\n",
      "         -1.4310e-03,  2.8243e-03, -1.6567e-02,  2.4021e-02,  2.3810e-02,\n",
      "          3.1913e-03,  2.4993e-02, -1.1308e-02, -2.0529e-05,  6.7136e-02,\n",
      "          1.3830e-02, -1.6201e-02,  1.0122e-01, -9.6859e-03, -7.8778e-03,\n",
      "         -4.9754e-02, -1.3476e-02,  1.9672e-02, -6.0451e-02,  2.0905e-02,\n",
      "          7.5179e-03,  2.1810e-02,  1.0875e-02, -7.1652e-02,  4.4602e-03,\n",
      "         -4.1116e-02,  4.8416e-04, -4.1413e-03,  8.4781e-04, -1.0244e-01,\n",
      "          5.0615e-02, -3.6644e-02,  2.7144e-02,  9.2832e-03,  3.7755e-02,\n",
      "         -2.8802e-02, -4.1622e-02, -1.6112e-02,  5.8531e-02,  5.2181e-02,\n",
      "         -2.5241e-02,  2.1018e-02, -3.1337e-02,  1.5991e-02, -1.3805e-02,\n",
      "         -5.0115e-02,  4.3666e-02,  4.8566e-02, -2.8520e-02,  8.3736e-03,\n",
      "          4.5385e-02, -1.4266e-02,  4.3343e-02, -1.0348e-02, -5.5242e-04,\n",
      "          8.0187e-02, -2.2995e-02, -4.5153e-02,  7.3001e-03, -3.1427e-02,\n",
      "          1.5073e-02,  2.5153e-03,  6.0146e-03, -8.8678e-02, -9.9930e-02,\n",
      "          3.3818e-03, -3.8649e-02, -9.9785e-02, -1.6271e-02, -1.9292e-02,\n",
      "         -2.5688e-03, -4.1651e-03,  9.8820e-02, -2.2918e-02, -4.7366e-02,\n",
      "         -9.2083e-03, -6.9860e-02, -1.2149e-02, -7.1299e-02,  9.4538e-02,\n",
      "         -1.7012e-02, -6.4489e-03, -1.1392e-01, -4.0745e-02,  2.0614e-02,\n",
      "          7.9703e-02,  9.5608e-03,  3.2107e-02, -3.3312e-02, -1.3411e-01,\n",
      "          1.1018e-02, -2.1719e-02,  7.6870e-03, -1.2558e-02, -8.6866e-02,\n",
      "          4.0860e-02,  3.6691e-03, -3.9694e-02, -9.6273e-03, -5.2964e-02,\n",
      "          9.3279e-02,  4.7762e-03, -2.1574e-02, -3.9458e-03, -4.8686e-02,\n",
      "         -5.8750e-02,  6.0780e-03, -2.4574e-02,  1.0831e-01,  6.7255e-03,\n",
      "         -7.8867e-02,  1.9767e-02, -2.6997e-02,  1.8663e-02, -7.1324e-03,\n",
      "         -3.1301e-02,  3.7320e-02,  1.4163e-02, -1.3180e-02, -2.7319e-02,\n",
      "         -1.0165e-01, -2.4879e-03, -4.5753e-02,  2.2013e-02,  1.7947e-02,\n",
      "          2.4414e-02,  2.1278e-02,  1.6018e-02,  2.5807e-02, -2.4823e-02,\n",
      "          3.1350e-02, -2.9905e-03, -4.9992e-02, -7.4367e-02,  2.4710e-02,\n",
      "         -3.3201e-02, -2.6299e-02,  4.6223e-02,  1.7579e-02,  8.1414e-03,\n",
      "         -2.2776e-02, -7.2220e-03, -3.4569e-03,  1.7753e-02, -3.0382e-03,\n",
      "          3.5121e-02, -8.1637e-04, -1.0359e-01, -5.7646e-02,  2.7411e-02,\n",
      "          5.0201e-02, -3.0144e-02,  2.3579e-02, -4.4272e-02,  3.6351e-02,\n",
      "         -6.2695e-02, -3.2844e-02,  9.0398e-03,  9.3663e-02,  4.7452e-02,\n",
      "          6.1457e-03,  2.7061e-02, -2.3468e-02, -4.1489e-02, -2.1922e-03,\n",
      "         -3.0513e-03, -5.0343e-02, -7.5248e-02, -1.5903e-02,  7.3350e-04,\n",
      "          1.3077e-02,  6.5543e-03,  6.2803e-03, -3.7511e-02, -3.6128e-02,\n",
      "         -9.3451e-03, -2.0327e-02, -3.0237e-02,  2.2960e-02, -4.6589e-04,\n",
      "         -5.4116e-03, -1.8544e-02,  7.8070e-02, -1.4011e-02,  9.5431e-03,\n",
      "          4.6644e-02, -3.4024e-02, -1.5877e-02,  2.1306e-02,  6.3783e-02,\n",
      "          4.3381e-02, -3.3925e-02,  7.6990e-02, -1.1836e-01, -4.3496e-02,\n",
      "         -3.8565e-02,  5.9214e-02, -3.7956e-02, -2.9954e-02, -2.0656e-02,\n",
      "         -6.5027e-03, -2.2966e-02,  2.7349e-02, -7.3690e-03,  1.1015e-01,\n",
      "         -1.1747e-02, -1.7574e-02,  4.0154e-02, -4.2588e-02,  5.7335e-02,\n",
      "          1.5476e-02,  7.4166e-03]], grad_fn=<DivBackward0>), 'long_description_embedding': ''}, 2: {'img_path': 'C:\\\\Users\\\\baatout\\\\PycharmProjects\\\\afm-vlm\\\\data\\\\raw\\\\biology_chapter_3_3\\\\extracted_keyframes\\\\biology_chapter_3_3-Scene-002-01.jpg', 'timestamps': [0, 157], 'transcription': \" transport. In this chapter we're going to look at those concepts but we're also going to be asking the question,  is it possible to supplement your way to better performance and health? We live in a world today  where supplements and vitamins and other nutrients are readily available to buy separately from the  foods that we eat. But do they really work? Do they make us healthier and do they make us perform better?  Ginkgo to improve memory, Kava to reduce stress, ginseng to boost energy and melatonin  to help you sleep. Sounds like a recipe for success doesn't it? For good measure,  chase those supplements down with some coconut water to slow aging and prevent cancer. You might  have heard claims like this before vitamins, minerals, herbs, yeast and even enzymes that are  claiming to help you be healthier or to perform better in different tasks in your life.  And another positive with these things is that they come in a bottle and they can stay on your shelf  and stay good with a longer expiration date than the fresh foods that you might buy from a grocery store.  Instead of going to a store every weekend and throwing away food that you never get around to eating,  you could stock your pantry with things like energy drinks, vitamin enriched waters,  protein powders, nutrition bars, and other bottles of vitamins and minerals.  You can even buy them in bulk if you like because they won't rot like fruits and vegetables.  But are they as good for you as you might think or as the advertisement might say?  Is it possible to supplement your way to enhanced academic performance and even better health  and even physical performance? It seems most Americans think so because we spend around  $6 billion a year in America on these items and more than two thirds of us are taking at least  one type of supplement. But let's investigate whether these products are really doing what we  hope that they're doing and while we're asking that question, we'll learn about biological concepts  like nutrients, cells and membrane transport.\", 'ocr_extracted_text': ['Chapter 3:\\n\\nNutrients & Membrane Transport\\n***Is It Possible to Supplement Your\\nWay to Better Performance & Health?\\n\\nBiology 1020:\\nCURRENT TOPICS IN\\nBIOLOGY\\n\\n', 'Chapter 3:\\nNutrients & Membrane Transport\\n\\n***Is It Possible to Supplement Your\\nWay to Better Performance & Health?\\n\\nBiology 1020:\\nCURRENT TOPICS IN\\nBIOLOGY\\n\\n', 'Chapter 3:\\n\\nNutrients & Membrane Transport\\n***Is It Possible to Supplement Your\\nWay to Better Performance & Health?\\n\\nBiology 1020:\\nCURRENT TOPICS IN\\nBIOLOGY\\n\\n'], 'llava_result': 'llava_results', 'clip_text': 'clip_llm_summary', 'llm_long_summary': 'extensive_summary', 'clip_text_embedding': tensor([[-6.3477e-03,  4.1144e-02, -6.2738e-03, -1.5998e-02, -1.5231e-02,\n",
      "          5.2521e-03,  2.1959e-03,  1.5892e-01,  6.9392e-02,  2.2310e-02,\n",
      "         -1.1350e-02,  2.7823e-03,  1.8811e-02,  2.6283e-02, -2.5208e-02,\n",
      "          5.3009e-02, -1.8662e-02,  3.6511e-02, -1.4450e-02,  6.5905e-04,\n",
      "         -9.1668e-02,  4.0422e-02,  4.8536e-03, -1.6253e-02,  1.2104e-02,\n",
      "         -6.4063e-03, -2.5818e-04,  7.8357e-03,  1.3944e-02, -2.4530e-02,\n",
      "         -3.0541e-02,  2.3742e-02, -5.3753e-02, -1.0094e-02, -1.5985e-02,\n",
      "         -1.0951e-02, -4.3780e-02, -2.2585e-03, -1.2670e-02, -2.9883e-02,\n",
      "         -4.5516e-03, -1.0703e-02, -2.1324e-02,  2.3193e-02,  2.2542e-02,\n",
      "          2.0227e-02,  3.8406e-02,  1.6753e-02,  8.8785e-03, -4.1160e-02,\n",
      "          6.1588e-03, -6.2438e-03, -9.6723e-03, -3.3283e-02, -3.2328e-02,\n",
      "         -2.9639e-02,  9.6561e-04,  9.2079e-03,  3.6435e-02, -1.4932e-02,\n",
      "          3.0821e-02, -2.3917e-02, -7.5037e-03, -1.9327e-02,  2.5158e-02,\n",
      "         -1.8954e-03,  3.4790e-03,  3.9322e-02, -3.1145e-02, -4.1234e-02,\n",
      "          2.5879e-02, -2.4266e-02,  2.0118e-02,  3.2723e-03, -8.9955e-03,\n",
      "          2.5346e-03, -2.9965e-02, -8.0737e-03, -5.3508e-03,  2.0337e-02,\n",
      "          7.4238e-02,  1.1257e-02,  1.2724e-02,  1.9417e-02,  1.2340e-02,\n",
      "         -3.1194e-02,  3.1476e-02,  4.3321e-02,  3.6186e-02, -1.9386e-02,\n",
      "          5.3800e-03, -3.8678e-04, -1.2635e-01,  1.6779e-02, -2.6446e-02,\n",
      "         -2.6393e-02,  3.9317e-02, -1.3166e-02,  3.8940e-03, -2.0278e-02,\n",
      "          2.6499e-02, -6.9405e-03, -1.3565e-02,  4.1338e-03,  5.2156e-03,\n",
      "          3.7779e-02, -8.6641e-03,  2.2599e-02, -5.9131e-03, -1.6489e-02,\n",
      "          3.1322e-02,  6.6637e-02,  8.6887e-03, -5.1872e-03,  2.1354e-02,\n",
      "          1.8026e-02,  1.4150e-02, -4.9365e-02, -1.7099e-02, -1.0120e-02,\n",
      "         -3.3688e-02,  1.6171e-02,  1.2844e-02,  1.3904e-02,  2.6263e-03,\n",
      "         -2.9792e-02,  3.0445e-02,  3.2023e-02, -1.2371e-02, -3.5112e-02,\n",
      "          1.0733e-02, -1.0997e-02,  4.4128e-02,  5.4559e-01,  2.1560e-03,\n",
      "          2.8481e-02, -2.0171e-02, -2.3194e-02, -1.5841e-03, -9.3022e-03,\n",
      "          2.2431e-02, -5.3322e-02, -2.4527e-02,  5.1466e-02,  4.3978e-02,\n",
      "          4.1204e-02,  1.5464e-04,  2.1855e-02, -2.2763e-02, -1.6357e-03,\n",
      "         -3.2405e-02,  4.1047e-03,  6.8837e-03,  1.0460e-02, -6.1573e-03,\n",
      "          1.2404e-02,  2.1393e-02,  1.7801e-02, -8.7439e-03,  2.3274e-02,\n",
      "          3.0896e-02, -2.7392e-03,  1.3699e-02, -1.8184e-02, -1.7068e-02,\n",
      "          3.1070e-02, -3.2563e-02,  3.5323e-02,  2.5902e-02,  2.5914e-03,\n",
      "          2.1705e-02,  3.5859e-03,  3.7607e-02,  2.7789e-02,  3.1296e-03,\n",
      "          1.6132e-02, -5.2873e-02, -3.6884e-02,  8.2131e-02,  2.2836e-02,\n",
      "         -2.6048e-02,  1.3491e-02, -1.9612e-02,  2.8756e-02,  2.1930e-02,\n",
      "          2.1865e-02,  7.9595e-03, -1.0123e-02, -2.1520e-02, -3.2854e-02,\n",
      "         -3.5127e-02,  2.0452e-02, -1.2671e-02, -4.1706e-02,  1.9293e-02,\n",
      "          1.5991e-02, -7.3391e-03, -3.5847e-02,  6.3183e-02, -9.6701e-04,\n",
      "          6.4125e-03, -3.4611e-02,  4.8292e-03,  6.8242e-03, -5.0418e-04,\n",
      "          1.7149e-02,  6.9932e-03, -3.5410e-03, -4.9607e-02,  2.1557e-02,\n",
      "         -6.2168e-03, -2.1150e-02, -1.0056e-02, -4.4356e-03,  3.2756e-02,\n",
      "          7.4397e-04, -2.2512e-02,  3.0232e-03,  1.6924e-02,  1.3130e-02,\n",
      "          1.1971e-02,  1.9855e-02,  1.5301e-02, -6.7348e-02, -2.1302e-02,\n",
      "         -3.1885e-03,  3.7937e-02, -3.6954e-02,  2.2395e-02, -9.7389e-03,\n",
      "         -1.1835e-03, -1.0562e-02, -7.9477e-03,  4.2406e-03, -2.6552e-02,\n",
      "         -3.2920e-02,  7.2192e-03, -5.6136e-03,  1.8466e-02, -1.4088e-02,\n",
      "         -3.6959e-02, -1.7506e-02,  2.1293e-02, -5.3767e-02,  6.1999e-03,\n",
      "          1.0972e-02, -2.1939e-03,  1.5132e-02, -5.5218e-03, -1.2882e-03,\n",
      "          2.8924e-03, -1.2053e-02,  4.4805e-03,  4.4188e-02, -2.1098e-02,\n",
      "          1.9886e-02,  3.6754e-02, -2.6687e-03, -2.0721e-02, -1.6653e-02,\n",
      "         -2.4820e-02,  3.2692e-03,  1.0258e-02,  8.5348e-03,  1.4101e-03,\n",
      "          4.8919e-02, -2.5462e-02, -1.7718e-02,  1.3577e-02,  1.3986e-02,\n",
      "          4.3795e-02,  1.4943e-02, -5.6494e-02,  4.3812e-03, -2.4511e-02,\n",
      "          1.3042e-03, -1.6836e-02, -2.3786e-02,  6.8622e-03, -1.0544e-02,\n",
      "          2.4705e-02, -3.3259e-02,  2.1442e-02, -7.8433e-03,  7.2804e-03,\n",
      "         -3.2788e-02, -5.8195e-03, -7.1960e-03,  4.0097e-02,  2.3466e-02,\n",
      "          2.9752e-02,  3.6697e-02,  2.9514e-03,  1.0334e-03, -1.5589e-02,\n",
      "         -2.3646e-02,  5.2072e-02,  1.0365e-02,  2.9974e-02, -7.3787e-03,\n",
      "         -1.0109e-02, -2.3258e-02,  1.3710e-03, -6.9190e-03,  1.4023e-02,\n",
      "          7.4681e-02, -2.5029e-03, -9.3630e-03, -8.4276e-03,  2.8861e-02,\n",
      "         -4.1396e-03, -3.8495e-02,  5.4632e-01, -7.0250e-03, -2.1558e-02,\n",
      "          2.3098e-02,  1.6878e-03, -5.6737e-02, -3.2951e-03, -2.6958e-02,\n",
      "         -1.7611e-03, -7.3081e-03,  3.4207e-02,  1.2158e-02, -8.1842e-03,\n",
      "          2.5524e-03, -5.8486e-03,  2.5709e-02, -1.3544e-02, -9.6948e-02,\n",
      "          2.8807e-02, -4.6801e-02, -6.6422e-03,  1.7124e-02,  3.4664e-02,\n",
      "         -7.9770e-03, -1.7429e-02, -2.8571e-02, -1.4369e-02,  5.2255e-03,\n",
      "         -6.7691e-03, -1.7460e-02, -3.1559e-02,  6.5152e-03,  1.1810e-02,\n",
      "          3.0003e-03,  1.6142e-02,  1.0571e-02,  3.9556e-04,  5.8873e-03,\n",
      "          2.0733e-02,  1.1923e-03,  3.3451e-02,  3.4292e-02,  9.0089e-03,\n",
      "          4.8864e-02, -2.9956e-02, -5.1423e-02,  2.5899e-02,  4.8071e-02,\n",
      "          3.4757e-03,  5.3912e-03, -2.9079e-02, -6.7200e-02, -8.5605e-03,\n",
      "          2.6901e-02, -4.0401e-02,  1.9092e-03,  5.3607e-03, -1.3071e-02,\n",
      "         -4.0069e-04,  1.9861e-03,  4.4650e-02, -1.9041e-03, -2.8208e-02,\n",
      "          2.1835e-02, -2.2027e-02, -1.8876e-03,  8.9097e-03,  1.1614e-02,\n",
      "         -2.6494e-02,  2.8079e-03, -4.4499e-02, -3.6418e-02,  5.7357e-02,\n",
      "          1.9512e-02,  1.2699e-02,  2.1679e-02, -3.2783e-02, -2.6571e-02,\n",
      "         -2.8367e-02,  1.3169e-02,  3.6687e-02, -2.2522e-02, -2.6436e-02,\n",
      "          8.1912e-03, -3.2308e-02,  1.9787e-03,  1.8264e-02,  6.2772e-02,\n",
      "          2.4573e-02, -2.1108e-02, -2.4111e-02, -2.1822e-02,  1.8217e-02,\n",
      "         -5.9054e-02, -2.1084e-02, -2.8208e-02,  4.4544e-02, -3.4030e-02,\n",
      "         -4.5454e-02,  3.1183e-02, -9.9294e-03, -7.4975e-03,  6.0213e-03,\n",
      "         -1.6923e-02,  2.5210e-03, -3.9728e-02, -7.9962e-04,  2.0323e-02,\n",
      "         -2.4279e-02,  8.1078e-03,  1.0194e-02, -2.8525e-02,  1.7299e-02,\n",
      "          2.7718e-02,  2.8365e-02, -5.5833e-02, -6.2758e-02, -4.6281e-02,\n",
      "         -2.0536e-03,  1.4150e-02,  4.2415e-02, -4.3209e-03,  2.1761e-02,\n",
      "         -4.4168e-02, -2.2648e-02,  3.8820e-03,  3.8014e-02, -1.5341e-02,\n",
      "          7.5532e-03, -1.5733e-02,  5.0844e-03, -1.2881e-02, -4.5639e-03,\n",
      "         -2.7363e-02,  3.9793e-03, -2.8245e-02,  7.1750e-03,  2.5391e-02,\n",
      "         -1.6894e-02,  1.9579e-02, -4.2844e-03,  6.9985e-03,  7.8465e-03,\n",
      "         -5.4349e-02, -4.2209e-03,  1.0650e-02,  2.9666e-03,  4.4577e-02,\n",
      "         -1.3901e-02, -1.9033e-02,  3.8347e-02, -1.9112e-02,  2.5048e-02,\n",
      "          1.0035e-02, -8.7113e-03, -2.3127e-02,  3.3350e-02,  2.6266e-03,\n",
      "          7.5072e-06,  3.8938e-03,  1.3143e-04,  3.3251e-02, -1.6534e-02,\n",
      "          3.4813e-02, -1.3597e-03,  3.1944e-03,  4.5998e-02,  6.7610e-03,\n",
      "         -5.2454e-03, -1.0020e-01,  3.0550e-02,  2.4885e-02,  2.8878e-03,\n",
      "          1.6664e-02, -3.6780e-02, -1.4193e-02,  4.3364e-02,  3.3462e-02,\n",
      "          3.8078e-02, -3.3250e-02,  1.5368e-02, -1.2224e-02,  2.0275e-02,\n",
      "         -4.1630e-03,  3.3960e-02,  3.1773e-02, -9.4614e-03, -2.9135e-02,\n",
      "         -1.3794e-02, -1.1571e-03,  4.0198e-03, -6.1378e-03,  4.0055e-02,\n",
      "          2.4896e-02, -2.1915e-02,  9.8915e-03,  1.3434e-02, -1.1247e-01,\n",
      "          1.1997e-02,  5.6684e-03]], grad_fn=<DivBackward0>), 'clip_image_embedding': tensor([[-2.8295e-02,  9.8216e-03,  2.2284e-02, -1.0075e-03,  1.7779e-02,\n",
      "          1.3625e-02, -1.3242e-02,  3.2091e-02,  5.5857e-02,  8.5306e-02,\n",
      "         -4.0976e-02, -4.2240e-02,  4.8958e-02, -3.3939e-02, -7.6673e-04,\n",
      "          1.7345e-02,  3.6627e-02,  1.2477e-02,  2.7963e-02,  3.2459e-02,\n",
      "         -8.9485e-02,  4.7647e-02, -5.4760e-02, -8.0933e-03,  1.9839e-02,\n",
      "         -8.7219e-03,  1.7713e-02,  9.3854e-03,  3.4105e-02,  5.1948e-02,\n",
      "          2.1702e-02,  5.4169e-03, -6.4893e-03, -8.6470e-03,  3.7607e-02,\n",
      "          4.1402e-02, -6.2906e-02, -1.5653e-02,  1.5697e-02, -1.6765e-01,\n",
      "          1.7646e-03, -3.5867e-02,  1.8759e-02,  6.6813e-03, -1.8361e-03,\n",
      "          6.2084e-02,  1.7628e-02, -2.8141e-02, -2.2973e-02, -8.1528e-02,\n",
      "          7.4067e-02,  6.2334e-02,  4.6497e-03, -6.8136e-02,  1.9451e-02,\n",
      "          9.2315e-02, -4.7406e-02, -2.5782e-02,  4.5813e-02, -4.8345e-02,\n",
      "         -3.5780e-02,  7.6449e-03, -7.5153e-03, -1.0342e-02,  2.7689e-02,\n",
      "         -6.3782e-03,  5.4552e-02,  6.4164e-02, -3.4068e-02,  5.9901e-04,\n",
      "          2.9442e-02, -7.5427e-03,  7.6538e-02,  7.8372e-03,  7.2167e-03,\n",
      "         -1.0117e-02, -5.4875e-02,  1.1710e-03, -7.2581e-03,  2.2637e-03,\n",
      "         -1.1003e-02, -2.5801e-02, -3.0021e-02, -2.1361e-02,  4.2300e-02,\n",
      "         -3.1316e-02,  5.1812e-03,  7.2776e-04,  4.8028e-02,  1.7927e-02,\n",
      "         -1.3269e-03,  3.6113e-02, -2.9607e-01, -2.0561e-02,  1.7196e-02,\n",
      "         -8.2118e-02,  3.5911e-02,  5.5603e-02,  7.2665e-02,  2.6742e-02,\n",
      "         -3.6261e-02, -2.5371e-02,  3.2031e-03,  1.2901e-02, -5.2494e-02,\n",
      "          1.7357e-02, -9.1566e-02, -2.5136e-02, -9.4463e-02,  5.3947e-02,\n",
      "          2.2156e-02,  3.3725e-02,  1.4481e-02,  2.9894e-02,  1.4887e-02,\n",
      "         -4.0852e-03, -1.8927e-02, -1.2647e-02, -3.4935e-03,  2.8084e-02,\n",
      "          1.2913e-02,  2.6737e-02, -3.9672e-02,  3.0844e-02, -7.8860e-02,\n",
      "         -5.7610e-02,  2.5321e-02, -4.6349e-02,  4.2543e-02,  8.4987e-03,\n",
      "          3.2545e-02, -5.2257e-02,  4.0397e-03,  1.0181e-01, -3.6365e-03,\n",
      "         -1.0178e-02, -1.3386e-03, -8.8050e-02, -2.1689e-02, -2.7639e-02,\n",
      "          3.6033e-02, -8.5860e-03, -6.4288e-02,  2.8490e-02,  8.7741e-03,\n",
      "          1.5516e-02, -5.3529e-02,  6.5526e-02,  1.3751e-02,  3.3483e-02,\n",
      "         -9.1822e-02,  4.6466e-02,  1.7383e-01,  2.9816e-02,  2.7459e-02,\n",
      "         -1.4849e-02,  3.8768e-02,  2.0186e-02,  7.0434e-03,  9.3222e-03,\n",
      "          1.2293e-02, -5.9614e-02,  5.8072e-03,  5.0072e-03, -5.8379e-02,\n",
      "          1.9087e-02, -5.7816e-02, -1.6379e-02,  5.2416e-02,  1.0927e-04,\n",
      "          2.3669e-02,  5.1591e-03, -5.7504e-03,  4.6019e-02, -7.1468e-02,\n",
      "          3.9289e-02, -4.5975e-02, -3.8139e-02,  2.9091e-02, -2.4333e-02,\n",
      "          4.2332e-02,  9.0731e-04, -8.6856e-02,  1.9248e-02, -4.8650e-02,\n",
      "         -2.8121e-02, -4.3859e-02, -1.3034e-02, -1.1599e-02, -3.5068e-02,\n",
      "          9.0482e-04, -4.7743e-03,  2.1986e-03,  3.7495e-03, -2.0563e-03,\n",
      "         -9.6452e-03, -1.8190e-02, -2.6571e-02,  9.4212e-02, -2.4238e-02,\n",
      "          6.6622e-03, -2.4946e-02,  1.7929e-02,  2.0101e-03,  2.7355e-02,\n",
      "          2.8181e-02,  4.0085e-02,  2.2786e-02, -2.3251e-02,  8.3491e-03,\n",
      "         -1.9501e-02,  1.7809e-02,  7.3210e-03, -1.6551e-02, -3.8876e-05,\n",
      "          3.0458e-02, -4.2691e-03,  6.6711e-03, -1.9906e-02, -2.0915e-02,\n",
      "          8.5745e-03,  2.5120e-02,  6.4921e-03, -1.1269e-01, -1.3946e-02,\n",
      "          2.2369e-02, -3.0609e-03, -2.8203e-02, -3.8148e-02,  4.5963e-02,\n",
      "         -6.2584e-02, -2.8323e-02,  3.9230e-02,  1.9277e-02,  2.9189e-02,\n",
      "         -6.8615e-02, -7.6662e-03,  3.7672e-02, -8.0314e-03, -2.4490e-03,\n",
      "         -6.8210e-02,  4.0260e-02,  3.5408e-02, -6.4573e-02, -4.8127e-03,\n",
      "          5.9662e-02, -9.0438e-03,  6.1017e-02,  3.2626e-02, -2.5746e-02,\n",
      "          3.4795e-02,  4.9575e-02,  2.9729e-02,  1.9817e-02, -1.7545e-02,\n",
      "          4.3087e-02, -2.5984e-02, -1.4282e-02, -1.6260e-01, -4.9689e-02,\n",
      "         -7.0517e-02, -3.8286e-02,  1.0686e-02,  2.0794e-02,  7.0085e-02,\n",
      "          6.0679e-02, -2.0112e-02, -2.9582e-02, -2.6984e-02,  3.0635e-02,\n",
      "          1.4577e-02,  4.5205e-03, -5.7860e-02,  7.8307e-03,  5.8671e-03,\n",
      "         -1.1729e-02, -2.9284e-02, -3.2233e-02, -9.9950e-03,  1.9677e-02,\n",
      "          4.8477e-04, -3.4197e-03, -1.9611e-02,  1.7930e-02, -1.4533e-02,\n",
      "         -1.3546e-02, -1.5827e-01, -3.8962e-02,  1.3937e-02,  1.6510e-02,\n",
      "         -1.2008e-03,  5.5935e-02,  3.1007e-03,  3.9447e-03,  1.1478e-02,\n",
      "          6.5433e-03, -3.4720e-02, -5.8261e-02,  6.6439e-02,  3.2417e-02,\n",
      "          2.8931e-03, -7.9384e-04, -1.8529e-02,  2.3003e-02,  2.5527e-02,\n",
      "          1.0363e-02,  1.9861e-02, -1.1794e-02, -1.3454e-04,  6.4800e-02,\n",
      "          1.9538e-02, -2.1183e-02,  1.0168e-01, -6.1664e-03, -1.1278e-02,\n",
      "         -4.7561e-02, -1.6463e-02,  2.0407e-02, -6.2022e-02,  2.3576e-02,\n",
      "          8.9290e-03,  2.2944e-02,  1.2088e-02, -6.6904e-02,  9.5576e-03,\n",
      "         -4.6897e-02,  1.5794e-03, -2.8296e-04, -1.9683e-03, -9.9314e-02,\n",
      "          4.1499e-02, -3.4035e-02,  2.7192e-02,  1.3713e-02,  4.4130e-02,\n",
      "         -3.3189e-02, -4.2960e-02, -1.7951e-02,  6.1097e-02,  4.7275e-02,\n",
      "         -2.6475e-02,  2.6054e-02, -3.1859e-02,  1.4064e-02, -1.5221e-02,\n",
      "         -5.2207e-02,  4.4547e-02,  5.1549e-02, -2.9529e-02,  6.9566e-03,\n",
      "          4.0077e-02, -1.0933e-02,  4.6686e-02, -1.3187e-02, -3.0834e-03,\n",
      "          8.0768e-02, -2.6032e-02, -4.6814e-02,  6.0486e-03, -2.8070e-02,\n",
      "          1.8291e-02,  2.3589e-03,  7.6991e-03, -9.1906e-02, -9.6592e-02,\n",
      "          1.4805e-03, -3.9440e-02, -1.0088e-01, -1.7182e-02, -2.7133e-02,\n",
      "         -9.5581e-04, -1.9015e-03,  9.5469e-02, -2.0369e-02, -4.7893e-02,\n",
      "         -8.6479e-03, -6.9324e-02, -1.5237e-02, -6.6976e-02,  9.4371e-02,\n",
      "         -1.8218e-02, -4.8935e-03, -1.1241e-01, -3.6957e-02,  1.6723e-02,\n",
      "          8.2685e-02,  6.5765e-03,  3.5108e-02, -3.5823e-02, -1.3707e-01,\n",
      "          1.2951e-02, -2.1915e-02,  8.7689e-03, -9.1651e-03, -8.4785e-02,\n",
      "          4.1213e-02,  3.0064e-03, -4.4360e-02, -1.0397e-02, -5.2103e-02,\n",
      "          8.5975e-02,  1.8518e-03, -1.9740e-02, -6.2304e-03, -4.5330e-02,\n",
      "         -6.2160e-02,  4.8048e-03, -2.3261e-02,  1.0464e-01,  4.7209e-03,\n",
      "         -7.8484e-02,  1.7094e-02, -2.2251e-02,  1.2303e-02, -3.3752e-03,\n",
      "         -2.9949e-02,  3.6576e-02,  1.5203e-02, -7.8138e-03, -2.7395e-02,\n",
      "         -1.0132e-01, -3.4718e-05, -4.7101e-02,  2.2100e-02,  1.7314e-02,\n",
      "          2.1905e-02,  1.7714e-02,  1.7668e-02,  2.8666e-02, -2.5171e-02,\n",
      "          3.4563e-02, -8.7969e-03, -4.8954e-02, -7.2047e-02,  2.4535e-02,\n",
      "         -2.4651e-02, -2.4901e-02,  4.4352e-02,  1.5792e-02,  1.0268e-02,\n",
      "         -2.2381e-02, -8.3291e-03, -5.3918e-03,  1.2999e-02, -8.8901e-03,\n",
      "          3.5680e-02, -7.3633e-03, -1.0393e-01, -5.8136e-02,  3.3291e-02,\n",
      "          4.5851e-02, -2.9521e-02,  2.6991e-02, -4.3992e-02,  3.6746e-02,\n",
      "         -6.3807e-02, -2.8189e-02,  6.1437e-03,  8.9413e-02,  5.0989e-02,\n",
      "          5.6916e-03,  2.5907e-02, -1.8746e-02, -3.5170e-02, -5.5458e-03,\n",
      "         -4.0566e-03, -4.8936e-02, -7.9254e-02, -1.7126e-02,  6.9340e-04,\n",
      "          1.6260e-02,  6.4950e-03,  7.3882e-03, -3.7998e-02, -3.7335e-02,\n",
      "         -5.4662e-03, -1.5712e-02, -3.5399e-02,  2.4967e-02,  2.6165e-03,\n",
      "         -5.3741e-03, -2.9934e-02,  7.8752e-02, -1.1410e-02,  5.2232e-03,\n",
      "          4.8921e-02, -3.1018e-02, -1.4650e-02,  2.4221e-02,  6.6913e-02,\n",
      "          4.8402e-02, -2.5686e-02,  7.4902e-02, -1.1910e-01, -4.3045e-02,\n",
      "         -3.5019e-02,  6.1732e-02, -3.6960e-02, -2.9883e-02, -2.5045e-02,\n",
      "         -7.7225e-03, -2.3477e-02,  2.7659e-02, -5.4706e-03,  1.1607e-01,\n",
      "         -5.7935e-03, -1.6364e-02,  3.6325e-02, -4.4451e-02,  4.2620e-02,\n",
      "          1.6913e-02,  8.8324e-03]], grad_fn=<DivBackward0>), 'long_description_embedding': ''}, 3: {'img_path': 'C:\\\\Users\\\\baatout\\\\PycharmProjects\\\\afm-vlm\\\\data\\\\raw\\\\biology_chapter_3_3\\\\extracted_keyframes\\\\biology_chapter_3_3-Scene-003-01.jpg', 'timestamps': [0, 0], 'transcription': '', 'ocr_extracted_text': ['Chapter 3:\\n\\nNutrients & Membrane Transport\\n***Is It Possible to Supplement Your\\nWay to Better Performance & Health?\\n\\nBiology 1020:\\nCURRENT TOPICS IN\\nBIOLOGY\\n\\n', 'Chapter 3:\\nNutrients & Membrane Transport\\n\\n***Is It Possible to Supplement Your\\nWay to Better Performance & Health?\\n\\nBiology 1020:\\nCURRENT TOPICS IN\\nBIOLOGY\\n\\n', 'Chapter 3:\\n\\nNutrients & Membrane Transport\\n***Is It Possible to Supplement Your\\nWay to Better Performance & Health?\\n\\nBiology 1020:\\nCURRENT TOPICS IN\\nBIOLOGY\\n\\n'], 'llava_result': 'llava_results', 'clip_text': 'clip_llm_summary', 'llm_long_summary': 'extensive_summary', 'clip_text_embedding': tensor([[-6.3477e-03,  4.1144e-02, -6.2738e-03, -1.5998e-02, -1.5231e-02,\n",
      "          5.2521e-03,  2.1959e-03,  1.5892e-01,  6.9392e-02,  2.2310e-02,\n",
      "         -1.1350e-02,  2.7823e-03,  1.8811e-02,  2.6283e-02, -2.5208e-02,\n",
      "          5.3009e-02, -1.8662e-02,  3.6511e-02, -1.4450e-02,  6.5905e-04,\n",
      "         -9.1668e-02,  4.0422e-02,  4.8536e-03, -1.6253e-02,  1.2104e-02,\n",
      "         -6.4063e-03, -2.5818e-04,  7.8357e-03,  1.3944e-02, -2.4530e-02,\n",
      "         -3.0541e-02,  2.3742e-02, -5.3753e-02, -1.0094e-02, -1.5985e-02,\n",
      "         -1.0951e-02, -4.3780e-02, -2.2585e-03, -1.2670e-02, -2.9883e-02,\n",
      "         -4.5516e-03, -1.0703e-02, -2.1324e-02,  2.3193e-02,  2.2542e-02,\n",
      "          2.0227e-02,  3.8406e-02,  1.6753e-02,  8.8785e-03, -4.1160e-02,\n",
      "          6.1588e-03, -6.2438e-03, -9.6723e-03, -3.3283e-02, -3.2328e-02,\n",
      "         -2.9639e-02,  9.6561e-04,  9.2079e-03,  3.6435e-02, -1.4932e-02,\n",
      "          3.0821e-02, -2.3917e-02, -7.5037e-03, -1.9327e-02,  2.5158e-02,\n",
      "         -1.8954e-03,  3.4790e-03,  3.9322e-02, -3.1145e-02, -4.1234e-02,\n",
      "          2.5879e-02, -2.4266e-02,  2.0118e-02,  3.2723e-03, -8.9955e-03,\n",
      "          2.5346e-03, -2.9965e-02, -8.0737e-03, -5.3508e-03,  2.0337e-02,\n",
      "          7.4238e-02,  1.1257e-02,  1.2724e-02,  1.9417e-02,  1.2340e-02,\n",
      "         -3.1194e-02,  3.1476e-02,  4.3321e-02,  3.6186e-02, -1.9386e-02,\n",
      "          5.3800e-03, -3.8678e-04, -1.2635e-01,  1.6779e-02, -2.6446e-02,\n",
      "         -2.6393e-02,  3.9317e-02, -1.3166e-02,  3.8940e-03, -2.0278e-02,\n",
      "          2.6499e-02, -6.9405e-03, -1.3565e-02,  4.1338e-03,  5.2156e-03,\n",
      "          3.7779e-02, -8.6641e-03,  2.2599e-02, -5.9131e-03, -1.6489e-02,\n",
      "          3.1322e-02,  6.6637e-02,  8.6887e-03, -5.1872e-03,  2.1354e-02,\n",
      "          1.8026e-02,  1.4150e-02, -4.9365e-02, -1.7099e-02, -1.0120e-02,\n",
      "         -3.3688e-02,  1.6171e-02,  1.2844e-02,  1.3904e-02,  2.6263e-03,\n",
      "         -2.9792e-02,  3.0445e-02,  3.2023e-02, -1.2371e-02, -3.5112e-02,\n",
      "          1.0733e-02, -1.0997e-02,  4.4128e-02,  5.4559e-01,  2.1560e-03,\n",
      "          2.8481e-02, -2.0171e-02, -2.3194e-02, -1.5841e-03, -9.3022e-03,\n",
      "          2.2431e-02, -5.3322e-02, -2.4527e-02,  5.1466e-02,  4.3978e-02,\n",
      "          4.1204e-02,  1.5464e-04,  2.1855e-02, -2.2763e-02, -1.6357e-03,\n",
      "         -3.2405e-02,  4.1047e-03,  6.8837e-03,  1.0460e-02, -6.1573e-03,\n",
      "          1.2404e-02,  2.1393e-02,  1.7801e-02, -8.7439e-03,  2.3274e-02,\n",
      "          3.0896e-02, -2.7392e-03,  1.3699e-02, -1.8184e-02, -1.7068e-02,\n",
      "          3.1070e-02, -3.2563e-02,  3.5323e-02,  2.5902e-02,  2.5914e-03,\n",
      "          2.1705e-02,  3.5859e-03,  3.7607e-02,  2.7789e-02,  3.1296e-03,\n",
      "          1.6132e-02, -5.2873e-02, -3.6884e-02,  8.2131e-02,  2.2836e-02,\n",
      "         -2.6048e-02,  1.3491e-02, -1.9612e-02,  2.8756e-02,  2.1930e-02,\n",
      "          2.1865e-02,  7.9595e-03, -1.0123e-02, -2.1520e-02, -3.2854e-02,\n",
      "         -3.5127e-02,  2.0452e-02, -1.2671e-02, -4.1706e-02,  1.9293e-02,\n",
      "          1.5991e-02, -7.3391e-03, -3.5847e-02,  6.3183e-02, -9.6701e-04,\n",
      "          6.4125e-03, -3.4611e-02,  4.8292e-03,  6.8242e-03, -5.0418e-04,\n",
      "          1.7149e-02,  6.9932e-03, -3.5410e-03, -4.9607e-02,  2.1557e-02,\n",
      "         -6.2168e-03, -2.1150e-02, -1.0056e-02, -4.4356e-03,  3.2756e-02,\n",
      "          7.4397e-04, -2.2512e-02,  3.0232e-03,  1.6924e-02,  1.3130e-02,\n",
      "          1.1971e-02,  1.9855e-02,  1.5301e-02, -6.7348e-02, -2.1302e-02,\n",
      "         -3.1885e-03,  3.7937e-02, -3.6954e-02,  2.2395e-02, -9.7389e-03,\n",
      "         -1.1835e-03, -1.0562e-02, -7.9477e-03,  4.2406e-03, -2.6552e-02,\n",
      "         -3.2920e-02,  7.2192e-03, -5.6136e-03,  1.8466e-02, -1.4088e-02,\n",
      "         -3.6959e-02, -1.7506e-02,  2.1293e-02, -5.3767e-02,  6.1999e-03,\n",
      "          1.0972e-02, -2.1939e-03,  1.5132e-02, -5.5218e-03, -1.2882e-03,\n",
      "          2.8924e-03, -1.2053e-02,  4.4805e-03,  4.4188e-02, -2.1098e-02,\n",
      "          1.9886e-02,  3.6754e-02, -2.6687e-03, -2.0721e-02, -1.6653e-02,\n",
      "         -2.4820e-02,  3.2692e-03,  1.0258e-02,  8.5348e-03,  1.4101e-03,\n",
      "          4.8919e-02, -2.5462e-02, -1.7718e-02,  1.3577e-02,  1.3986e-02,\n",
      "          4.3795e-02,  1.4943e-02, -5.6494e-02,  4.3812e-03, -2.4511e-02,\n",
      "          1.3042e-03, -1.6836e-02, -2.3786e-02,  6.8622e-03, -1.0544e-02,\n",
      "          2.4705e-02, -3.3259e-02,  2.1442e-02, -7.8433e-03,  7.2804e-03,\n",
      "         -3.2788e-02, -5.8195e-03, -7.1960e-03,  4.0097e-02,  2.3466e-02,\n",
      "          2.9752e-02,  3.6697e-02,  2.9514e-03,  1.0334e-03, -1.5589e-02,\n",
      "         -2.3646e-02,  5.2072e-02,  1.0365e-02,  2.9974e-02, -7.3787e-03,\n",
      "         -1.0109e-02, -2.3258e-02,  1.3710e-03, -6.9190e-03,  1.4023e-02,\n",
      "          7.4681e-02, -2.5029e-03, -9.3630e-03, -8.4276e-03,  2.8861e-02,\n",
      "         -4.1396e-03, -3.8495e-02,  5.4632e-01, -7.0250e-03, -2.1558e-02,\n",
      "          2.3098e-02,  1.6878e-03, -5.6737e-02, -3.2951e-03, -2.6958e-02,\n",
      "         -1.7611e-03, -7.3081e-03,  3.4207e-02,  1.2158e-02, -8.1842e-03,\n",
      "          2.5524e-03, -5.8486e-03,  2.5709e-02, -1.3544e-02, -9.6948e-02,\n",
      "          2.8807e-02, -4.6801e-02, -6.6422e-03,  1.7124e-02,  3.4664e-02,\n",
      "         -7.9770e-03, -1.7429e-02, -2.8571e-02, -1.4369e-02,  5.2255e-03,\n",
      "         -6.7691e-03, -1.7460e-02, -3.1559e-02,  6.5152e-03,  1.1810e-02,\n",
      "          3.0003e-03,  1.6142e-02,  1.0571e-02,  3.9556e-04,  5.8873e-03,\n",
      "          2.0733e-02,  1.1923e-03,  3.3451e-02,  3.4292e-02,  9.0089e-03,\n",
      "          4.8864e-02, -2.9956e-02, -5.1423e-02,  2.5899e-02,  4.8071e-02,\n",
      "          3.4757e-03,  5.3912e-03, -2.9079e-02, -6.7200e-02, -8.5605e-03,\n",
      "          2.6901e-02, -4.0401e-02,  1.9092e-03,  5.3607e-03, -1.3071e-02,\n",
      "         -4.0069e-04,  1.9861e-03,  4.4650e-02, -1.9041e-03, -2.8208e-02,\n",
      "          2.1835e-02, -2.2027e-02, -1.8876e-03,  8.9097e-03,  1.1614e-02,\n",
      "         -2.6494e-02,  2.8079e-03, -4.4499e-02, -3.6418e-02,  5.7357e-02,\n",
      "          1.9512e-02,  1.2699e-02,  2.1679e-02, -3.2783e-02, -2.6571e-02,\n",
      "         -2.8367e-02,  1.3169e-02,  3.6687e-02, -2.2522e-02, -2.6436e-02,\n",
      "          8.1912e-03, -3.2308e-02,  1.9787e-03,  1.8264e-02,  6.2772e-02,\n",
      "          2.4573e-02, -2.1108e-02, -2.4111e-02, -2.1822e-02,  1.8217e-02,\n",
      "         -5.9054e-02, -2.1084e-02, -2.8208e-02,  4.4544e-02, -3.4030e-02,\n",
      "         -4.5454e-02,  3.1183e-02, -9.9294e-03, -7.4975e-03,  6.0213e-03,\n",
      "         -1.6923e-02,  2.5210e-03, -3.9728e-02, -7.9962e-04,  2.0323e-02,\n",
      "         -2.4279e-02,  8.1078e-03,  1.0194e-02, -2.8525e-02,  1.7299e-02,\n",
      "          2.7718e-02,  2.8365e-02, -5.5833e-02, -6.2758e-02, -4.6281e-02,\n",
      "         -2.0536e-03,  1.4150e-02,  4.2415e-02, -4.3209e-03,  2.1761e-02,\n",
      "         -4.4168e-02, -2.2648e-02,  3.8820e-03,  3.8014e-02, -1.5341e-02,\n",
      "          7.5532e-03, -1.5733e-02,  5.0844e-03, -1.2881e-02, -4.5639e-03,\n",
      "         -2.7363e-02,  3.9793e-03, -2.8245e-02,  7.1750e-03,  2.5391e-02,\n",
      "         -1.6894e-02,  1.9579e-02, -4.2844e-03,  6.9985e-03,  7.8465e-03,\n",
      "         -5.4349e-02, -4.2209e-03,  1.0650e-02,  2.9666e-03,  4.4577e-02,\n",
      "         -1.3901e-02, -1.9033e-02,  3.8347e-02, -1.9112e-02,  2.5048e-02,\n",
      "          1.0035e-02, -8.7113e-03, -2.3127e-02,  3.3350e-02,  2.6266e-03,\n",
      "          7.5072e-06,  3.8938e-03,  1.3143e-04,  3.3251e-02, -1.6534e-02,\n",
      "          3.4813e-02, -1.3597e-03,  3.1944e-03,  4.5998e-02,  6.7610e-03,\n",
      "         -5.2454e-03, -1.0020e-01,  3.0550e-02,  2.4885e-02,  2.8878e-03,\n",
      "          1.6664e-02, -3.6780e-02, -1.4193e-02,  4.3364e-02,  3.3462e-02,\n",
      "          3.8078e-02, -3.3250e-02,  1.5368e-02, -1.2224e-02,  2.0275e-02,\n",
      "         -4.1630e-03,  3.3960e-02,  3.1773e-02, -9.4614e-03, -2.9135e-02,\n",
      "         -1.3794e-02, -1.1571e-03,  4.0198e-03, -6.1378e-03,  4.0055e-02,\n",
      "          2.4896e-02, -2.1915e-02,  9.8915e-03,  1.3434e-02, -1.1247e-01,\n",
      "          1.1997e-02,  5.6684e-03]], grad_fn=<DivBackward0>), 'clip_image_embedding': tensor([[-2.8737e-02,  1.3289e-02,  2.4171e-02, -4.0741e-03,  1.5875e-02,\n",
      "          1.4022e-02, -9.7778e-03,  9.1794e-03,  5.1520e-02,  8.2550e-02,\n",
      "         -3.8890e-02, -4.2709e-02,  5.4469e-02, -2.9434e-02,  2.0166e-03,\n",
      "          1.8928e-02,  2.3184e-02,  1.2359e-02,  2.7391e-02,  2.5376e-02,\n",
      "         -8.0073e-02,  4.7406e-02, -5.0885e-02, -1.3473e-02,  1.8135e-02,\n",
      "         -9.9396e-03,  1.4218e-02,  1.0176e-02,  3.1438e-02,  4.4662e-02,\n",
      "          2.0476e-02,  6.7638e-03, -1.1306e-02, -1.8633e-02,  4.1857e-02,\n",
      "          4.0239e-02, -6.1268e-02, -1.1212e-02,  1.9806e-02, -1.6915e-01,\n",
      "         -3.9244e-04, -3.7932e-02,  1.1292e-02,  2.8936e-03, -2.4366e-03,\n",
      "          5.9550e-02,  3.2824e-02, -2.6367e-02, -2.1842e-02, -7.7667e-02,\n",
      "          8.9401e-02,  6.4144e-02,  7.1722e-03, -6.8438e-02,  1.7431e-02,\n",
      "          1.0094e-01, -4.1298e-02, -2.8345e-02,  4.3407e-02, -4.2688e-02,\n",
      "         -2.9319e-02,  6.2359e-03,  2.1382e-03, -4.5348e-03,  2.2362e-02,\n",
      "         -5.1122e-03,  5.5057e-02,  7.3519e-02, -3.8286e-02, -5.0244e-03,\n",
      "          2.5066e-02, -5.6936e-04,  7.0868e-02,  4.4179e-03,  9.6054e-03,\n",
      "         -8.4393e-03, -4.7210e-02,  8.3595e-04, -6.3876e-03, -8.1243e-04,\n",
      "         -5.5712e-03, -2.8380e-02, -3.5129e-02, -1.8477e-02,  3.6072e-02,\n",
      "         -2.8791e-02,  1.1725e-02,  1.6260e-03,  5.9106e-02,  2.0654e-02,\n",
      "          6.0020e-03,  3.8209e-02, -3.0252e-01, -2.9013e-02,  1.5108e-02,\n",
      "         -7.7464e-02,  3.9452e-02,  5.4382e-02,  7.7378e-02,  2.8678e-02,\n",
      "         -3.2926e-02, -2.4185e-02, -4.9332e-03,  1.7842e-02, -6.3855e-02,\n",
      "          1.9621e-02, -9.0815e-02, -1.9163e-02, -9.0836e-02,  6.0443e-02,\n",
      "          2.6505e-02,  2.3309e-02,  1.2495e-02,  2.9392e-02,  2.1220e-02,\n",
      "         -1.1001e-02, -2.0082e-02, -4.2974e-03, -2.4719e-03,  2.1833e-02,\n",
      "          1.8819e-02,  3.1344e-02, -3.2469e-02,  2.5090e-02, -7.7530e-02,\n",
      "         -4.8670e-02,  2.2515e-02, -4.8119e-02,  3.6723e-02,  4.4915e-03,\n",
      "          3.7605e-02, -5.0115e-02,  4.9478e-03,  1.0145e-01, -1.0220e-02,\n",
      "         -1.2441e-02, -3.0862e-03, -8.8067e-02, -2.5469e-02, -2.2434e-02,\n",
      "          2.7178e-02, -1.1369e-02, -5.5137e-02,  2.8606e-02,  6.1587e-03,\n",
      "          1.2327e-02, -5.9056e-02,  5.7746e-02,  1.9622e-02,  2.7978e-02,\n",
      "         -9.3125e-02,  4.9467e-02,  1.7815e-01,  3.1548e-02,  2.3879e-02,\n",
      "         -1.6744e-02,  3.5066e-02,  1.8044e-02,  5.1653e-03,  1.0997e-02,\n",
      "          5.1437e-06, -6.2438e-02, -6.4018e-04,  4.9810e-03, -5.7185e-02,\n",
      "          1.5004e-02, -6.8894e-02, -1.8619e-02,  5.1495e-02,  1.4989e-03,\n",
      "          1.9998e-02,  8.2231e-03, -6.5179e-03,  4.7030e-02, -7.1701e-02,\n",
      "          3.1253e-02, -5.7590e-02, -4.0461e-02,  3.9310e-02, -3.3134e-02,\n",
      "          4.8673e-02, -5.9595e-03, -8.7689e-02,  1.5620e-02, -4.6662e-02,\n",
      "         -1.7803e-02, -4.6852e-02, -1.0999e-02, -1.3226e-02, -3.6500e-02,\n",
      "          7.5703e-03,  2.3911e-03,  2.7641e-03,  4.2869e-03, -9.2333e-03,\n",
      "         -7.0280e-03, -1.8427e-02, -3.1717e-02,  8.7570e-02, -1.9671e-02,\n",
      "          1.0883e-02, -3.1034e-02,  1.4467e-02,  3.8880e-03,  3.0918e-02,\n",
      "          2.6242e-02,  3.0527e-02,  2.4373e-02, -2.7794e-02,  1.2562e-02,\n",
      "         -2.7098e-02,  2.3182e-02,  1.0979e-02, -1.5881e-02,  4.2182e-03,\n",
      "          3.2393e-02, -2.4024e-03,  1.3709e-02, -2.6083e-02, -2.0116e-02,\n",
      "          6.4609e-03,  2.6920e-02, -1.4526e-03, -1.1049e-01, -1.2643e-02,\n",
      "          2.0785e-02, -1.1510e-03, -2.2592e-02, -4.1640e-02,  4.1389e-02,\n",
      "         -6.5486e-02, -3.1075e-02,  3.4384e-02,  2.1030e-02,  2.8616e-02,\n",
      "         -5.7852e-02, -3.5475e-03,  4.3507e-02, -8.0181e-03,  1.3559e-03,\n",
      "         -7.1063e-02,  4.8314e-02,  3.1296e-02, -6.3938e-02, -1.2107e-03,\n",
      "          5.7928e-02, -6.1645e-03,  6.5721e-02,  3.4490e-02, -2.6284e-02,\n",
      "          3.4182e-02,  5.0151e-02,  3.7122e-02,  2.5476e-02, -2.5431e-02,\n",
      "          4.7843e-02, -2.9561e-02, -1.2491e-02, -1.5078e-01, -4.7475e-02,\n",
      "         -7.2811e-02, -3.3975e-02,  1.7777e-02,  3.5303e-02,  7.1947e-02,\n",
      "          6.1731e-02, -2.1928e-02, -2.6089e-02, -2.5924e-02,  2.8999e-02,\n",
      "          1.1545e-02,  1.2314e-02, -5.7832e-02,  7.6723e-03,  1.1069e-02,\n",
      "         -1.8066e-02, -2.9916e-02, -3.2132e-02, -9.5644e-03,  1.6277e-02,\n",
      "         -8.5846e-04, -3.6073e-04, -1.0784e-02,  1.7050e-02, -1.3045e-02,\n",
      "         -1.3429e-02, -1.5768e-01, -4.6058e-02,  1.7316e-02,  7.2633e-03,\n",
      "         -1.0679e-04,  5.8938e-02,  9.0705e-03,  6.5710e-03,  8.0071e-03,\n",
      "          5.9114e-03, -2.7793e-02, -5.7830e-02,  7.1461e-02,  2.7636e-02,\n",
      "         -4.2339e-03,  3.9587e-03, -1.5684e-02,  2.5540e-02,  2.0014e-02,\n",
      "          3.1462e-03,  2.3755e-02, -8.5129e-03,  5.0961e-03,  6.7229e-02,\n",
      "          1.2773e-02, -1.2112e-02,  1.0135e-01, -9.5642e-03, -7.5045e-03,\n",
      "         -5.1221e-02, -8.6758e-03,  1.8962e-02, -6.0679e-02,  2.0209e-02,\n",
      "          6.4322e-03,  2.7930e-02,  7.6269e-03, -7.3919e-02,  4.1854e-03,\n",
      "         -4.1310e-02, -1.9933e-03, -3.7102e-03, -2.7763e-04, -1.0019e-01,\n",
      "          5.3614e-02, -3.7023e-02,  3.0355e-02,  1.0726e-02,  3.4501e-02,\n",
      "         -2.9326e-02, -4.0708e-02, -9.2199e-03,  5.6201e-02,  5.1774e-02,\n",
      "         -1.9967e-02,  1.5753e-02, -3.2580e-02,  1.6901e-02, -1.6278e-02,\n",
      "         -4.8768e-02,  4.1337e-02,  4.9573e-02, -3.0203e-02,  1.0375e-02,\n",
      "          4.7763e-02, -1.2738e-02,  4.1922e-02, -7.6793e-03,  1.2428e-03,\n",
      "          7.9700e-02, -2.5995e-02, -3.8305e-02,  1.0012e-02, -3.2351e-02,\n",
      "          1.5012e-02,  5.3208e-03,  7.0812e-03, -9.1559e-02, -9.5598e-02,\n",
      "          4.9420e-03, -3.8580e-02, -1.0703e-01, -1.9188e-02, -1.9061e-02,\n",
      "         -2.7279e-03, -4.1858e-03,  9.8183e-02, -2.0887e-02, -4.7539e-02,\n",
      "         -1.1693e-02, -6.4305e-02, -9.3476e-03, -7.4451e-02,  8.9903e-02,\n",
      "         -1.9994e-02, -6.9331e-03, -1.1059e-01, -4.2741e-02,  2.6018e-02,\n",
      "          7.6222e-02,  1.3507e-02,  3.4059e-02, -3.2229e-02, -1.2503e-01,\n",
      "          9.5932e-03, -2.0029e-02,  7.1856e-03, -1.3770e-02, -8.7163e-02,\n",
      "          4.2838e-02,  2.3479e-03, -3.5689e-02, -1.0322e-02, -5.6238e-02,\n",
      "          9.8272e-02,  2.1663e-03, -2.5126e-02,  5.0394e-04, -4.7809e-02,\n",
      "         -5.6616e-02,  3.1337e-03, -2.4702e-02,  1.0789e-01,  5.6654e-03,\n",
      "         -7.9326e-02,  1.7501e-02, -3.2120e-02,  1.2008e-02, -4.0106e-03,\n",
      "         -2.7996e-02,  3.8225e-02,  1.3700e-02, -1.3827e-02, -2.8457e-02,\n",
      "         -1.0153e-01, -2.5786e-03, -4.3060e-02,  2.2002e-02,  1.4380e-02,\n",
      "          2.2187e-02,  2.2233e-02,  1.7201e-02,  1.0900e-02, -2.6873e-02,\n",
      "          2.8690e-02,  1.0644e-04, -3.7383e-02, -7.6337e-02,  2.2683e-02,\n",
      "         -3.2777e-02, -2.9592e-02,  4.9451e-02,  1.8349e-02,  1.0707e-02,\n",
      "         -2.2080e-02, -1.0480e-02, -3.8300e-03,  1.9579e-02, -7.1319e-04,\n",
      "          3.4213e-02, -5.2488e-03, -1.0110e-01, -5.6082e-02,  2.4044e-02,\n",
      "          5.2790e-02, -3.1015e-02,  2.3855e-02, -4.7487e-02,  3.3981e-02,\n",
      "         -6.4447e-02, -3.1601e-02,  1.0321e-02,  9.2285e-02,  4.8212e-02,\n",
      "          4.3875e-03,  2.8095e-02, -2.6684e-02, -4.6040e-02,  3.6896e-03,\n",
      "         -2.9345e-04, -5.0619e-02, -6.8054e-02, -1.8396e-02, -3.3865e-04,\n",
      "          1.4590e-02,  8.4689e-03,  7.0036e-03, -4.0090e-02, -3.1846e-02,\n",
      "         -6.6674e-03, -1.9726e-02, -3.0020e-02,  2.3227e-02, -1.6766e-03,\n",
      "         -9.5183e-03, -1.2446e-02,  7.2697e-02, -1.6771e-02,  8.7398e-03,\n",
      "          4.6453e-02, -3.4995e-02, -1.6194e-02,  1.6287e-02,  6.3684e-02,\n",
      "          4.1209e-02, -4.5358e-02,  7.7473e-02, -1.1594e-01, -4.2524e-02,\n",
      "         -3.7707e-02,  5.8173e-02, -3.5393e-02, -2.6542e-02, -2.3857e-02,\n",
      "         -1.0085e-02, -2.3577e-02,  2.6237e-02, -5.6266e-03,  1.1030e-01,\n",
      "         -1.0931e-02, -1.6731e-02,  4.0689e-02, -4.3440e-02,  6.2863e-02,\n",
      "          1.7050e-02,  8.1193e-03]], grad_fn=<DivBackward0>), 'long_description_embedding': ''}}\n"
     ]
    },
    {
     "name": "stderr",
     "output_type": "stream",
     "text": [
      "\u001B[32m2024-06-17 23:02:14.272\u001B[0m | \u001B[1mINFO    \u001B[0m | \u001B[36msrc.ocr.pytesseract_image_to_text\u001B[0m:\u001B[36mextract_text_from_image\u001B[0m:\u001B[36m17\u001B[0m - \u001B[1mExtracted text: Learning Outcomes\n",
      "\n",
      "Describe the role of nutrients in the body.\n",
      "Describe the function of water in the body.\n",
      "\n",
      "Describe the major dietary macronutrients and discuss the\n",
      "functions of each.\n",
      "\n",
      "List the major dietary micronutrients and describe their\n",
      "functions.\n",
      "\n",
      "Describe the structure and function of the plasma membrane.\n",
      "\n",
      "Describe the structure and function of the subcellular\n",
      "organelles.\n",
      "\n",
      "Distinguish between passive transport and active transport.\n",
      "\n",
      "Describe the processes of endocytosis and exocytosis.\n",
      "\u001B[0m\n",
      "\u001B[32m2024-06-17 23:02:14.272\u001B[0m | \u001B[1mINFO    \u001B[0m | \u001B[36m__main__\u001B[0m:\u001B[36m<module>\u001B[0m:\u001B[36m19\u001B[0m - \u001B[1mOCR_results: ['Chapter 3:\\n\\nNutrients & Membrane Transport\\n***Is It Possible to Supplement Your\\nWay to Better Performance & Health?\\n\\nBiology 1020:\\nCURRENT TOPICS IN\\nBIOLOGY\\n\\n', 'Chapter 3:\\nNutrients & Membrane Transport\\n\\n***Is It Possible to Supplement Your\\nWay to Better Performance & Health?\\n\\nBiology 1020:\\nCURRENT TOPICS IN\\nBIOLOGY\\n\\n', 'Chapter 3:\\n\\nNutrients & Membrane Transport\\n***Is It Possible to Supplement Your\\nWay to Better Performance & Health?\\n\\nBiology 1020:\\nCURRENT TOPICS IN\\nBIOLOGY\\n\\n', 'Learning Outcomes\\n\\nDescribe the role of nutrients in the body.\\nDescribe the function of water in the body.\\n\\nDescribe the major dietary macronutrients and discuss the\\nfunctions of each.\\n\\nList the major dietary micronutrients and describe their\\nfunctions.\\n\\nDescribe the structure and function of the plasma membrane.\\n\\nDescribe the structure and function of the subcellular\\norganelles.\\n\\nDistinguish between passive transport and active transport.\\n\\nDescribe the processes of endocytosis and exocytosis.\\n']\u001B[0m\n",
      "\u001B[32m2024-06-17 23:02:14.314\u001B[0m | \u001B[1mINFO    \u001B[0m | \u001B[36m__main__\u001B[0m:\u001B[36m<module>\u001B[0m:\u001B[36m28\u001B[0m - \u001B[1mTranscription_text:  Here's our learning outcomes as stated in the textbook of this chapter. Be sure to read through them and recognize them as you come across them in your notes in your reading.\u001B[0m\n",
      "  3%|▎         | 3/111 [00:03<02:07,  1.18s/it]\n"
     ]
    },
    {
     "ename": "RuntimeError",
     "evalue": "The size of tensor a (93) must match the size of tensor b (77) at non-singleton dimension 1",
     "output_type": "error",
     "traceback": [
      "\u001B[1;31m---------------------------------------------------------------------------\u001B[0m",
      "\u001B[1;31mRuntimeError\u001B[0m                              Traceback (most recent call last)",
      "Cell \u001B[1;32mIn[33], line 54\u001B[0m\n\u001B[0;32m     52\u001B[0m \u001B[38;5;66;03m# generate embeddings\u001B[39;00m\n\u001B[0;32m     53\u001B[0m opened_image \u001B[38;5;241m=\u001B[39m Image\u001B[38;5;241m.\u001B[39mopen(filepath)\n\u001B[1;32m---> 54\u001B[0m embeddings \u001B[38;5;241m=\u001B[39m \u001B[43mclip_model\u001B[49m\u001B[38;5;241;43m.\u001B[39;49m\u001B[43mgenerate_image_embeddings\u001B[49m\u001B[43m(\u001B[49m\u001B[43mocr_text\u001B[49m\u001B[43m,\u001B[49m\u001B[43m \u001B[49m\u001B[43mopened_image\u001B[49m\u001B[43m)\u001B[49m\n\u001B[0;32m     55\u001B[0m clip_text_embedding \u001B[38;5;241m=\u001B[39m embeddings[\u001B[38;5;124m'\u001B[39m\u001B[38;5;124mtext_embeds\u001B[39m\u001B[38;5;124m'\u001B[39m]\n\u001B[0;32m     56\u001B[0m clip_image_embedding \u001B[38;5;241m=\u001B[39m embeddings[\u001B[38;5;124m'\u001B[39m\u001B[38;5;124mimage_embeds\u001B[39m\u001B[38;5;124m'\u001B[39m]\n",
      "File \u001B[1;32m~\\PycharmProjects\\afm-vlm\\src\\clip\\clip_model.py:70\u001B[0m, in \u001B[0;36mCLIPEmbeddingsModel.generate_image_embeddings\u001B[1;34m(self, text_transcription, image)\u001B[0m\n\u001B[0;32m     68\u001B[0m \u001B[38;5;28;01mdef\u001B[39;00m \u001B[38;5;21mgenerate_image_embeddings\u001B[39m(\u001B[38;5;28mself\u001B[39m, text_transcription, image):\n\u001B[0;32m     69\u001B[0m     inputs \u001B[38;5;241m=\u001B[39m \u001B[38;5;28mself\u001B[39m\u001B[38;5;241m.\u001B[39mprocessor(text\u001B[38;5;241m=\u001B[39mtext_transcription, images\u001B[38;5;241m=\u001B[39mimage, return_tensors\u001B[38;5;241m=\u001B[39m\u001B[38;5;124m\"\u001B[39m\u001B[38;5;124mpt\u001B[39m\u001B[38;5;124m\"\u001B[39m, padding\u001B[38;5;241m=\u001B[39m\u001B[38;5;28;01mTrue\u001B[39;00m)\n\u001B[1;32m---> 70\u001B[0m     outputs \u001B[38;5;241m=\u001B[39m \u001B[38;5;28mself\u001B[39m\u001B[38;5;241m.\u001B[39mmodel(\u001B[38;5;241m*\u001B[39m\u001B[38;5;241m*\u001B[39minputs)\n\u001B[0;32m     72\u001B[0m     embeddings \u001B[38;5;241m=\u001B[39m \u001B[38;5;28mself\u001B[39m\u001B[38;5;241m.\u001B[39mprocess_clip_tensors(outputs)\n\u001B[0;32m     74\u001B[0m     logger\u001B[38;5;241m.\u001B[39minfo(\u001B[38;5;124mf\u001B[39m\u001B[38;5;124m\"\u001B[39m\u001B[38;5;124mEmbeddings: \u001B[39m\u001B[38;5;132;01m{\u001B[39;00membeddings\u001B[38;5;132;01m}\u001B[39;00m\u001B[38;5;124m\"\u001B[39m)\n",
      "File \u001B[1;32m~\\AppData\\Local\\pypoetry\\Cache\\virtualenvs\\afm-vlm-y3Vw7rqv-py3.10\\lib\\site-packages\\torch\\nn\\modules\\module.py:1532\u001B[0m, in \u001B[0;36mModule._wrapped_call_impl\u001B[1;34m(self, *args, **kwargs)\u001B[0m\n\u001B[0;32m   1530\u001B[0m     \u001B[38;5;28;01mreturn\u001B[39;00m \u001B[38;5;28mself\u001B[39m\u001B[38;5;241m.\u001B[39m_compiled_call_impl(\u001B[38;5;241m*\u001B[39margs, \u001B[38;5;241m*\u001B[39m\u001B[38;5;241m*\u001B[39mkwargs)  \u001B[38;5;66;03m# type: ignore[misc]\u001B[39;00m\n\u001B[0;32m   1531\u001B[0m \u001B[38;5;28;01melse\u001B[39;00m:\n\u001B[1;32m-> 1532\u001B[0m     \u001B[38;5;28;01mreturn\u001B[39;00m \u001B[38;5;28mself\u001B[39m\u001B[38;5;241m.\u001B[39m_call_impl(\u001B[38;5;241m*\u001B[39margs, \u001B[38;5;241m*\u001B[39m\u001B[38;5;241m*\u001B[39mkwargs)\n",
      "File \u001B[1;32m~\\AppData\\Local\\pypoetry\\Cache\\virtualenvs\\afm-vlm-y3Vw7rqv-py3.10\\lib\\site-packages\\torch\\nn\\modules\\module.py:1541\u001B[0m, in \u001B[0;36mModule._call_impl\u001B[1;34m(self, *args, **kwargs)\u001B[0m\n\u001B[0;32m   1536\u001B[0m \u001B[38;5;66;03m# If we don't have any hooks, we want to skip the rest of the logic in\u001B[39;00m\n\u001B[0;32m   1537\u001B[0m \u001B[38;5;66;03m# this function, and just call forward.\u001B[39;00m\n\u001B[0;32m   1538\u001B[0m \u001B[38;5;28;01mif\u001B[39;00m \u001B[38;5;129;01mnot\u001B[39;00m (\u001B[38;5;28mself\u001B[39m\u001B[38;5;241m.\u001B[39m_backward_hooks \u001B[38;5;129;01mor\u001B[39;00m \u001B[38;5;28mself\u001B[39m\u001B[38;5;241m.\u001B[39m_backward_pre_hooks \u001B[38;5;129;01mor\u001B[39;00m \u001B[38;5;28mself\u001B[39m\u001B[38;5;241m.\u001B[39m_forward_hooks \u001B[38;5;129;01mor\u001B[39;00m \u001B[38;5;28mself\u001B[39m\u001B[38;5;241m.\u001B[39m_forward_pre_hooks\n\u001B[0;32m   1539\u001B[0m         \u001B[38;5;129;01mor\u001B[39;00m _global_backward_pre_hooks \u001B[38;5;129;01mor\u001B[39;00m _global_backward_hooks\n\u001B[0;32m   1540\u001B[0m         \u001B[38;5;129;01mor\u001B[39;00m _global_forward_hooks \u001B[38;5;129;01mor\u001B[39;00m _global_forward_pre_hooks):\n\u001B[1;32m-> 1541\u001B[0m     \u001B[38;5;28;01mreturn\u001B[39;00m forward_call(\u001B[38;5;241m*\u001B[39margs, \u001B[38;5;241m*\u001B[39m\u001B[38;5;241m*\u001B[39mkwargs)\n\u001B[0;32m   1543\u001B[0m \u001B[38;5;28;01mtry\u001B[39;00m:\n\u001B[0;32m   1544\u001B[0m     result \u001B[38;5;241m=\u001B[39m \u001B[38;5;28;01mNone\u001B[39;00m\n",
      "File \u001B[1;32m~\\AppData\\Local\\pypoetry\\Cache\\virtualenvs\\afm-vlm-y3Vw7rqv-py3.10\\lib\\site-packages\\transformers\\models\\clip\\modeling_clip.py:1118\u001B[0m, in \u001B[0;36mCLIPModel.forward\u001B[1;34m(self, input_ids, pixel_values, attention_mask, position_ids, return_loss, output_attentions, output_hidden_states, return_dict)\u001B[0m\n\u001B[0;32m   1109\u001B[0m return_dict \u001B[38;5;241m=\u001B[39m return_dict \u001B[38;5;28;01mif\u001B[39;00m return_dict \u001B[38;5;129;01mis\u001B[39;00m \u001B[38;5;129;01mnot\u001B[39;00m \u001B[38;5;28;01mNone\u001B[39;00m \u001B[38;5;28;01melse\u001B[39;00m \u001B[38;5;28mself\u001B[39m\u001B[38;5;241m.\u001B[39mconfig\u001B[38;5;241m.\u001B[39muse_return_dict\n\u001B[0;32m   1111\u001B[0m vision_outputs \u001B[38;5;241m=\u001B[39m \u001B[38;5;28mself\u001B[39m\u001B[38;5;241m.\u001B[39mvision_model(\n\u001B[0;32m   1112\u001B[0m     pixel_values\u001B[38;5;241m=\u001B[39mpixel_values,\n\u001B[0;32m   1113\u001B[0m     output_attentions\u001B[38;5;241m=\u001B[39moutput_attentions,\n\u001B[0;32m   1114\u001B[0m     output_hidden_states\u001B[38;5;241m=\u001B[39moutput_hidden_states,\n\u001B[0;32m   1115\u001B[0m     return_dict\u001B[38;5;241m=\u001B[39mreturn_dict,\n\u001B[0;32m   1116\u001B[0m )\n\u001B[1;32m-> 1118\u001B[0m text_outputs \u001B[38;5;241m=\u001B[39m \u001B[38;5;28;43mself\u001B[39;49m\u001B[38;5;241;43m.\u001B[39;49m\u001B[43mtext_model\u001B[49m\u001B[43m(\u001B[49m\n\u001B[0;32m   1119\u001B[0m \u001B[43m    \u001B[49m\u001B[43minput_ids\u001B[49m\u001B[38;5;241;43m=\u001B[39;49m\u001B[43minput_ids\u001B[49m\u001B[43m,\u001B[49m\n\u001B[0;32m   1120\u001B[0m \u001B[43m    \u001B[49m\u001B[43mattention_mask\u001B[49m\u001B[38;5;241;43m=\u001B[39;49m\u001B[43mattention_mask\u001B[49m\u001B[43m,\u001B[49m\n\u001B[0;32m   1121\u001B[0m \u001B[43m    \u001B[49m\u001B[43mposition_ids\u001B[49m\u001B[38;5;241;43m=\u001B[39;49m\u001B[43mposition_ids\u001B[49m\u001B[43m,\u001B[49m\n\u001B[0;32m   1122\u001B[0m \u001B[43m    \u001B[49m\u001B[43moutput_attentions\u001B[49m\u001B[38;5;241;43m=\u001B[39;49m\u001B[43moutput_attentions\u001B[49m\u001B[43m,\u001B[49m\n\u001B[0;32m   1123\u001B[0m \u001B[43m    \u001B[49m\u001B[43moutput_hidden_states\u001B[49m\u001B[38;5;241;43m=\u001B[39;49m\u001B[43moutput_hidden_states\u001B[49m\u001B[43m,\u001B[49m\n\u001B[0;32m   1124\u001B[0m \u001B[43m    \u001B[49m\u001B[43mreturn_dict\u001B[49m\u001B[38;5;241;43m=\u001B[39;49m\u001B[43mreturn_dict\u001B[49m\u001B[43m,\u001B[49m\n\u001B[0;32m   1125\u001B[0m \u001B[43m\u001B[49m\u001B[43m)\u001B[49m\n\u001B[0;32m   1127\u001B[0m image_embeds \u001B[38;5;241m=\u001B[39m vision_outputs[\u001B[38;5;241m1\u001B[39m]\n\u001B[0;32m   1128\u001B[0m image_embeds \u001B[38;5;241m=\u001B[39m \u001B[38;5;28mself\u001B[39m\u001B[38;5;241m.\u001B[39mvisual_projection(image_embeds)\n",
      "File \u001B[1;32m~\\AppData\\Local\\pypoetry\\Cache\\virtualenvs\\afm-vlm-y3Vw7rqv-py3.10\\lib\\site-packages\\torch\\nn\\modules\\module.py:1532\u001B[0m, in \u001B[0;36mModule._wrapped_call_impl\u001B[1;34m(self, *args, **kwargs)\u001B[0m\n\u001B[0;32m   1530\u001B[0m     \u001B[38;5;28;01mreturn\u001B[39;00m \u001B[38;5;28mself\u001B[39m\u001B[38;5;241m.\u001B[39m_compiled_call_impl(\u001B[38;5;241m*\u001B[39margs, \u001B[38;5;241m*\u001B[39m\u001B[38;5;241m*\u001B[39mkwargs)  \u001B[38;5;66;03m# type: ignore[misc]\u001B[39;00m\n\u001B[0;32m   1531\u001B[0m \u001B[38;5;28;01melse\u001B[39;00m:\n\u001B[1;32m-> 1532\u001B[0m     \u001B[38;5;28;01mreturn\u001B[39;00m \u001B[38;5;28mself\u001B[39m\u001B[38;5;241m.\u001B[39m_call_impl(\u001B[38;5;241m*\u001B[39margs, \u001B[38;5;241m*\u001B[39m\u001B[38;5;241m*\u001B[39mkwargs)\n",
      "File \u001B[1;32m~\\AppData\\Local\\pypoetry\\Cache\\virtualenvs\\afm-vlm-y3Vw7rqv-py3.10\\lib\\site-packages\\torch\\nn\\modules\\module.py:1541\u001B[0m, in \u001B[0;36mModule._call_impl\u001B[1;34m(self, *args, **kwargs)\u001B[0m\n\u001B[0;32m   1536\u001B[0m \u001B[38;5;66;03m# If we don't have any hooks, we want to skip the rest of the logic in\u001B[39;00m\n\u001B[0;32m   1537\u001B[0m \u001B[38;5;66;03m# this function, and just call forward.\u001B[39;00m\n\u001B[0;32m   1538\u001B[0m \u001B[38;5;28;01mif\u001B[39;00m \u001B[38;5;129;01mnot\u001B[39;00m (\u001B[38;5;28mself\u001B[39m\u001B[38;5;241m.\u001B[39m_backward_hooks \u001B[38;5;129;01mor\u001B[39;00m \u001B[38;5;28mself\u001B[39m\u001B[38;5;241m.\u001B[39m_backward_pre_hooks \u001B[38;5;129;01mor\u001B[39;00m \u001B[38;5;28mself\u001B[39m\u001B[38;5;241m.\u001B[39m_forward_hooks \u001B[38;5;129;01mor\u001B[39;00m \u001B[38;5;28mself\u001B[39m\u001B[38;5;241m.\u001B[39m_forward_pre_hooks\n\u001B[0;32m   1539\u001B[0m         \u001B[38;5;129;01mor\u001B[39;00m _global_backward_pre_hooks \u001B[38;5;129;01mor\u001B[39;00m _global_backward_hooks\n\u001B[0;32m   1540\u001B[0m         \u001B[38;5;129;01mor\u001B[39;00m _global_forward_hooks \u001B[38;5;129;01mor\u001B[39;00m _global_forward_pre_hooks):\n\u001B[1;32m-> 1541\u001B[0m     \u001B[38;5;28;01mreturn\u001B[39;00m forward_call(\u001B[38;5;241m*\u001B[39margs, \u001B[38;5;241m*\u001B[39m\u001B[38;5;241m*\u001B[39mkwargs)\n\u001B[0;32m   1543\u001B[0m \u001B[38;5;28;01mtry\u001B[39;00m:\n\u001B[0;32m   1544\u001B[0m     result \u001B[38;5;241m=\u001B[39m \u001B[38;5;28;01mNone\u001B[39;00m\n",
      "File \u001B[1;32m~\\AppData\\Local\\pypoetry\\Cache\\virtualenvs\\afm-vlm-y3Vw7rqv-py3.10\\lib\\site-packages\\transformers\\models\\clip\\modeling_clip.py:699\u001B[0m, in \u001B[0;36mCLIPTextTransformer.forward\u001B[1;34m(self, input_ids, attention_mask, position_ids, output_attentions, output_hidden_states, return_dict)\u001B[0m\n\u001B[0;32m    696\u001B[0m input_shape \u001B[38;5;241m=\u001B[39m input_ids\u001B[38;5;241m.\u001B[39msize()\n\u001B[0;32m    697\u001B[0m input_ids \u001B[38;5;241m=\u001B[39m input_ids\u001B[38;5;241m.\u001B[39mview(\u001B[38;5;241m-\u001B[39m\u001B[38;5;241m1\u001B[39m, input_shape[\u001B[38;5;241m-\u001B[39m\u001B[38;5;241m1\u001B[39m])\n\u001B[1;32m--> 699\u001B[0m hidden_states \u001B[38;5;241m=\u001B[39m \u001B[38;5;28;43mself\u001B[39;49m\u001B[38;5;241;43m.\u001B[39;49m\u001B[43membeddings\u001B[49m\u001B[43m(\u001B[49m\u001B[43minput_ids\u001B[49m\u001B[38;5;241;43m=\u001B[39;49m\u001B[43minput_ids\u001B[49m\u001B[43m,\u001B[49m\u001B[43m \u001B[49m\u001B[43mposition_ids\u001B[49m\u001B[38;5;241;43m=\u001B[39;49m\u001B[43mposition_ids\u001B[49m\u001B[43m)\u001B[49m\n\u001B[0;32m    701\u001B[0m \u001B[38;5;66;03m# CLIP's text model uses causal mask, prepare it here.\u001B[39;00m\n\u001B[0;32m    702\u001B[0m \u001B[38;5;66;03m# https://github.com/openai/CLIP/blob/cfcffb90e69f37bf2ff1e988237a0fbe41f33c04/clip/model.py#L324\u001B[39;00m\n\u001B[0;32m    703\u001B[0m causal_attention_mask \u001B[38;5;241m=\u001B[39m _create_4d_causal_attention_mask(\n\u001B[0;32m    704\u001B[0m     input_shape, hidden_states\u001B[38;5;241m.\u001B[39mdtype, device\u001B[38;5;241m=\u001B[39mhidden_states\u001B[38;5;241m.\u001B[39mdevice\n\u001B[0;32m    705\u001B[0m )\n",
      "File \u001B[1;32m~\\AppData\\Local\\pypoetry\\Cache\\virtualenvs\\afm-vlm-y3Vw7rqv-py3.10\\lib\\site-packages\\torch\\nn\\modules\\module.py:1532\u001B[0m, in \u001B[0;36mModule._wrapped_call_impl\u001B[1;34m(self, *args, **kwargs)\u001B[0m\n\u001B[0;32m   1530\u001B[0m     \u001B[38;5;28;01mreturn\u001B[39;00m \u001B[38;5;28mself\u001B[39m\u001B[38;5;241m.\u001B[39m_compiled_call_impl(\u001B[38;5;241m*\u001B[39margs, \u001B[38;5;241m*\u001B[39m\u001B[38;5;241m*\u001B[39mkwargs)  \u001B[38;5;66;03m# type: ignore[misc]\u001B[39;00m\n\u001B[0;32m   1531\u001B[0m \u001B[38;5;28;01melse\u001B[39;00m:\n\u001B[1;32m-> 1532\u001B[0m     \u001B[38;5;28;01mreturn\u001B[39;00m \u001B[38;5;28mself\u001B[39m\u001B[38;5;241m.\u001B[39m_call_impl(\u001B[38;5;241m*\u001B[39margs, \u001B[38;5;241m*\u001B[39m\u001B[38;5;241m*\u001B[39mkwargs)\n",
      "File \u001B[1;32m~\\AppData\\Local\\pypoetry\\Cache\\virtualenvs\\afm-vlm-y3Vw7rqv-py3.10\\lib\\site-packages\\torch\\nn\\modules\\module.py:1541\u001B[0m, in \u001B[0;36mModule._call_impl\u001B[1;34m(self, *args, **kwargs)\u001B[0m\n\u001B[0;32m   1536\u001B[0m \u001B[38;5;66;03m# If we don't have any hooks, we want to skip the rest of the logic in\u001B[39;00m\n\u001B[0;32m   1537\u001B[0m \u001B[38;5;66;03m# this function, and just call forward.\u001B[39;00m\n\u001B[0;32m   1538\u001B[0m \u001B[38;5;28;01mif\u001B[39;00m \u001B[38;5;129;01mnot\u001B[39;00m (\u001B[38;5;28mself\u001B[39m\u001B[38;5;241m.\u001B[39m_backward_hooks \u001B[38;5;129;01mor\u001B[39;00m \u001B[38;5;28mself\u001B[39m\u001B[38;5;241m.\u001B[39m_backward_pre_hooks \u001B[38;5;129;01mor\u001B[39;00m \u001B[38;5;28mself\u001B[39m\u001B[38;5;241m.\u001B[39m_forward_hooks \u001B[38;5;129;01mor\u001B[39;00m \u001B[38;5;28mself\u001B[39m\u001B[38;5;241m.\u001B[39m_forward_pre_hooks\n\u001B[0;32m   1539\u001B[0m         \u001B[38;5;129;01mor\u001B[39;00m _global_backward_pre_hooks \u001B[38;5;129;01mor\u001B[39;00m _global_backward_hooks\n\u001B[0;32m   1540\u001B[0m         \u001B[38;5;129;01mor\u001B[39;00m _global_forward_hooks \u001B[38;5;129;01mor\u001B[39;00m _global_forward_pre_hooks):\n\u001B[1;32m-> 1541\u001B[0m     \u001B[38;5;28;01mreturn\u001B[39;00m forward_call(\u001B[38;5;241m*\u001B[39margs, \u001B[38;5;241m*\u001B[39m\u001B[38;5;241m*\u001B[39mkwargs)\n\u001B[0;32m   1543\u001B[0m \u001B[38;5;28;01mtry\u001B[39;00m:\n\u001B[0;32m   1544\u001B[0m     result \u001B[38;5;241m=\u001B[39m \u001B[38;5;28;01mNone\u001B[39;00m\n",
      "File \u001B[1;32m~\\AppData\\Local\\pypoetry\\Cache\\virtualenvs\\afm-vlm-y3Vw7rqv-py3.10\\lib\\site-packages\\transformers\\models\\clip\\modeling_clip.py:222\u001B[0m, in \u001B[0;36mCLIPTextEmbeddings.forward\u001B[1;34m(self, input_ids, position_ids, inputs_embeds)\u001B[0m\n\u001B[0;32m    219\u001B[0m     inputs_embeds \u001B[38;5;241m=\u001B[39m \u001B[38;5;28mself\u001B[39m\u001B[38;5;241m.\u001B[39mtoken_embedding(input_ids)\n\u001B[0;32m    221\u001B[0m position_embeddings \u001B[38;5;241m=\u001B[39m \u001B[38;5;28mself\u001B[39m\u001B[38;5;241m.\u001B[39mposition_embedding(position_ids)\n\u001B[1;32m--> 222\u001B[0m embeddings \u001B[38;5;241m=\u001B[39m \u001B[43minputs_embeds\u001B[49m\u001B[43m \u001B[49m\u001B[38;5;241;43m+\u001B[39;49m\u001B[43m \u001B[49m\u001B[43mposition_embeddings\u001B[49m\n\u001B[0;32m    224\u001B[0m \u001B[38;5;28;01mreturn\u001B[39;00m embeddings\n",
      "\u001B[1;31mRuntimeError\u001B[0m: The size of tensor a (93) must match the size of tensor b (77) at non-singleton dimension 1"
     ]
    }
   ],
   "execution_count": 33
  },
  {
   "cell_type": "code",
   "execution_count": null,
   "metadata": {},
   "outputs": [],
   "source": [
    "# Assuming keyframes is your dictionary\n",
    "keyframes_count = len(keyframes)\n",
    "print(\"Number of keyframes:\", keyframes_count)"
   ]
  },
  {
   "cell_type": "code",
   "execution_count": null,
   "metadata": {},
   "outputs": [],
   "source": [
    "def get_model_info(model_ID, device):\n",
    "    # Save the model to device\n",
    "    model = CLIPModel.from_pretrained(model_ID).to(device)\n",
    "    # Get the processor\n",
    "    processor = CLIPProcessor.from_pretrained(model_ID)\n",
    "    # Get the tokenizer\n",
    "    tokenizer = CLIPTokenizer.from_pretrained(model_ID)\n",
    "    # Return model, processor & tokenizer\n",
    "    return model, processor, tokenizer\n",
    "\n",
    "\n",
    "# Set the device\n",
    "device = \"cuda\" if torch.cuda.is_available() else \"cpu\"\n",
    "# Define the model ID\n",
    "model_ID = \"openai/clip-vit-base-patch32\"\n",
    "# Get model, processor & tokenizer\n",
    "model, processor, tokenizer = get_model_info(model_ID, device)\n",
    "\n",
    "\n",
    "def get_image(image_path):\n",
    "    image = Image.open(image_path)\n",
    "    # Convert the image to RGB\n",
    "    rgb_image = image.convert(\"RGB\")\n",
    "    return rgb_image\n",
    "\n",
    "\n",
    "def get_single_image_embedding(text, my_image, processor, model, device):\n",
    "    image = processor(text=text, images=my_image, return_tensors=\"pt\")[\n",
    "        \"pixel_values\"\n",
    "    ].to(device)\n",
    "    embedding = model.get_image_features(image)\n",
    "    # convert the embeddings to numpy array\n",
    "    return embedding.cpu().detach().numpy()\n",
    "\n",
    "\n",
    "one_image = get_image(\n",
    "    image_path=\"/Users/magic-rabbit/Documents/AFM/afm-vlm/data/raw/biology_chapter_3_3/extracted_keyframes/biology_chapter_3_3-Scene-055-01.jpg\"\n",
    ")\n",
    "\n",
    "one_vector = get_single_image_embedding(\n",
    "    response, one_image, processor, model, device\n",
    ")  # Simple test"
   ]
  },
  {
   "cell_type": "code",
   "execution_count": null,
   "metadata": {},
   "outputs": [],
   "source": [
    "# Generated one embedding?\n",
    "\n",
    "print(one_vector)"
   ]
  },
  {
   "metadata": {},
   "cell_type": "markdown",
   "source": "# Load the CLIP Model"
  },
  {
   "metadata": {},
   "cell_type": "markdown",
   "source": "# Generate embeddings"
  },
  {
   "metadata": {},
   "cell_type": "markdown",
   "source": "# Generate Dataset Metadata"
  },
  {
   "metadata": {},
   "cell_type": "markdown",
   "source": "# Store Dataset Locally"
  },
  {
   "metadata": {},
   "cell_type": "markdown",
   "source": ""
  },
  {
   "metadata": {},
   "cell_type": "markdown",
   "source": ""
  },
  {
   "metadata": {},
   "cell_type": "markdown",
   "source": ""
  },
  {
   "metadata": {},
   "cell_type": "markdown",
   "source": "# Test 1: Search for exact similar Text."
  },
  {
   "metadata": {},
   "cell_type": "code",
   "outputs": [],
   "execution_count": null,
   "source": [
    "test_image_path = os.path.join(base_dir, 'data', 'raw', 'biology_chapter_3_3', 'extracted_keyframes',\n",
    "                               'biology_chapter_3_3-Scene-097-01.jpg')\n",
    "\n",
    "test_text_description = extract_text_from_image(test_image_path)\n",
    "# Search for similar images in database\n",
    "clip_model.search_similar_images(test_text_description)"
   ]
  },
  {
   "metadata": {},
   "cell_type": "markdown",
   "source": "# Test 2: Search for for a slightly different Text."
  },
  {
   "metadata": {},
   "cell_type": "code",
   "outputs": [],
   "execution_count": null,
   "source": [
    "query_text = \"plasma membrane and stuff going on\"\n",
    "\n",
    "clip_model.search_similar_images(query_text)"
   ]
  },
  {
   "metadata": {},
   "cell_type": "code",
   "outputs": [],
   "execution_count": null,
   "source": ""
  },
  {
   "metadata": {},
   "cell_type": "code",
   "outputs": [],
   "execution_count": null,
   "source": ""
  },
  {
   "metadata": {},
   "cell_type": "code",
   "outputs": [],
   "execution_count": null,
   "source": ""
  },
  {
   "metadata": {},
   "cell_type": "code",
   "outputs": [],
   "execution_count": null,
   "source": ""
  }
 ],
 "metadata": {
  "kernelspec": {
   "display_name": "afm-vlm-JEfTnAR4-py3.12",
   "language": "python",
   "name": "python3"
  },
  "language_info": {
   "codemirror_mode": {
    "name": "ipython",
    "version": 3
   },
   "file_extension": ".py",
   "mimetype": "text/x-python",
   "name": "python",
   "nbconvert_exporter": "python",
   "pygments_lexer": "ipython3",
   "version": "3.12.3"
  }
 },
 "nbformat": 4,
 "nbformat_minor": 2
}
