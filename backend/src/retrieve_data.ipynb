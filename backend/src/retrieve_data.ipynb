{
 "cells": [
  {
   "cell_type": "markdown",
   "id": "d63f8969e935e5d2",
   "metadata": {},
   "source": [
    "# TESTING NOTEBOOK"
   ]
  },
  {
   "cell_type": "markdown",
   "id": "ef9f4d1b4d7c5d01",
   "metadata": {},
   "source": []
  },
  {
   "cell_type": "code",
   "execution_count": null,
   "id": "initial_id",
   "metadata": {
    "ExecuteTime": {
     "end_time": "2024-07-29T11:01:05.533437Z",
     "start_time": "2024-07-29T11:01:04.555605Z"
    }
   },
   "outputs": [],
   "source": [
    "%load_ext autoreload\n",
    "%autoreload 2\n",
    "\n",
    "import pandas as pd\n",
    "from loguru import logger\n",
    "from src.text_embedder.embedder import EmbeddingsModel\n",
    "\n",
    "from pathlib import Path\n",
    "from app.app_helper import (\n",
    "    load_pickle,\n",
    "    create_tensor_and_mapping,\n",
    "    retrieve_keys_from_indices,\n",
    ")\n",
    "import os"
   ]
  },
  {
   "cell_type": "markdown",
   "id": "8f5f4242726abe54",
   "metadata": {},
   "source": []
  },
  {
   "cell_type": "markdown",
   "id": "b0100cb8baa9438c",
   "metadata": {},
   "source": [
    "# TEST With Own Prompt"
   ]
  },
  {
   "cell_type": "code",
   "execution_count": null,
   "id": "7e7f4112da087891",
   "metadata": {
    "ExecuteTime": {
     "end_time": "2024-07-29T11:01:05.780776Z",
     "start_time": "2024-07-29T11:01:05.533437Z"
    }
   },
   "outputs": [],
   "source": [
    "ENTRY = \"Enter your prompt here\""
   ]
  },
  {
   "cell_type": "markdown",
   "id": "84ba422a3c494cdb",
   "metadata": {},
   "source": []
  },
  {
   "cell_type": "markdown",
   "id": "d1c020b880cd5d12",
   "metadata": {},
   "source": [
    "# LOAD DATA"
   ]
  },
  {
   "cell_type": "code",
   "execution_count": null,
   "id": "52d80ecc3437a551",
   "metadata": {
    "ExecuteTime": {
     "end_time": "2024-07-29T11:01:06.019265Z",
     "start_time": "2024-07-29T11:01:05.782120Z"
    }
   },
   "outputs": [],
   "source": [
    "# load pickle\n",
    "pickle_file = \"app/embeddings/biology_chapter_3_3_treshhold_5.pickle\"\n",
    "project_path = os.getcwd()\n",
    "data = load_pickle(os.path.join(project_path, pickle_file))\n",
    "\n",
    "# load embeddings\n",
    "text_embeddings, mapping = create_tensor_and_mapping(\n",
    "    data, key=\"extensive_text_embedding\"\n",
    ")\n",
    "\n",
    "logger.info(text_embeddings)\n",
    "logger.info(mapping)"
   ]
  },
  {
   "cell_type": "markdown",
   "id": "ad246519796e73a7",
   "metadata": {},
   "source": []
  },
  {
   "cell_type": "markdown",
   "id": "de1329e0f1fef7f0",
   "metadata": {},
   "source": [
    "# LOAD MODEL"
   ]
  },
  {
   "cell_type": "code",
   "execution_count": null,
   "id": "e7edab6f411d9d4f",
   "metadata": {
    "ExecuteTime": {
     "end_time": "2024-07-29T11:01:15.375277Z",
     "start_time": "2024-07-29T11:01:12.201998Z"
    }
   },
   "outputs": [],
   "source": [
    "from cgitb import text\n",
    "from torch import embedding\n",
    "\n",
    "\n",
    "embedding_model = EmbeddingsModel()\n",
    "embedding_model.text_embeddings = text_embeddings"
   ]
  },
  {
   "cell_type": "markdown",
   "id": "ea4a9164fa2ac638",
   "metadata": {},
   "source": []
  },
  {
   "cell_type": "markdown",
   "id": "47693ab51f54d792",
   "metadata": {},
   "source": [
    "# LOAD RESULTS "
   ]
  },
  {
   "cell_type": "code",
   "execution_count": null,
   "id": "cff3ba5cd22dc0ef",
   "metadata": {},
   "outputs": [],
   "source": [
    "from app.app_helper import query_video_data\n",
    "\n",
    "top_three_results_index = embedding_model.retreive_top_3_similar_images(ENTRY)\n",
    "top_three_results = retrieve_keys_from_indices(top_three_results_index, mapping)\n",
    "logger.info(f\"Top three results: {top_three_results}\")\n",
    "\n",
    "for i in top_three_results:\n",
    "    query_video_data(data, i, \"img_path\")"
   ]
  }
 ],
 "metadata": {
  "kernelspec": {
   "display_name": "Python 3",
   "language": "python",
   "name": "python3"
  },
  "language_info": {
   "codemirror_mode": {
    "name": "ipython",
    "version": 3
   },
   "file_extension": ".py",
   "mimetype": "text/x-python",
   "name": "python",
   "nbconvert_exporter": "python",
   "pygments_lexer": "ipython3",
   "version": "3.12.4"
  }
 },
 "nbformat": 4,
 "nbformat_minor": 5
}
