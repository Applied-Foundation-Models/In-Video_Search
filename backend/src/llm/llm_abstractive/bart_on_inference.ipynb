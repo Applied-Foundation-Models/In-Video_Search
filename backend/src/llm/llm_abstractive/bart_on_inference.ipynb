{
 "cells": [
  {
   "cell_type": "code",
   "execution_count": 1,
   "id": "initial_id",
   "metadata": {
    "ExecuteTime": {
     "end_time": "2024-06-01T10:43:49.067715Z",
     "start_time": "2024-06-01T10:43:43.587822Z"
    },
    "collapsed": true
   },
   "outputs": [],
   "source": [
    "# Import necessary libraries\n",
    "from transformers import BartForConditionalGeneration, BartTokenizer\n",
    "import torch"
   ]
  },
  {
   "cell_type": "code",
   "execution_count": 6,
   "id": "7e1282bb22597695",
   "metadata": {
    "ExecuteTime": {
     "end_time": "2024-06-01T10:46:34.886890Z",
     "start_time": "2024-06-01T10:46:30.830917Z"
    }
   },
   "outputs": [],
   "source": [
    "# Load the BART model\n",
    "model_name = \"facebook/bart-large-cnn\"\n",
    "tokenizer = BartTokenizer.from_pretrained(model_name)\n",
    "model = BartForConditionalGeneration.from_pretrained(model_name)\n",
    "\n",
    "# Example text\n",
    "text = \"The cat (Felis catus), commonly referred to as the domestic cat or house cat, is a small domesticated carnivorous mammal. It is the only domesticated species of the family Felidae. Recent advances in archaeology and genetics have shown that the domestication of the cat occurred in the Near East around 7500 BC.\""
   ]
  },
  {
   "cell_type": "code",
   "execution_count": 7,
   "id": "35ccdfc73b559f31",
   "metadata": {
    "ExecuteTime": {
     "end_time": "2024-06-01T10:46:34.902958Z",
     "start_time": "2024-06-01T10:46:34.890877Z"
    }
   },
   "outputs": [],
   "source": [
    "# Tokenize and prepare the input\n",
    "inputs = tokenizer(\n",
    "    [text], max_length=1024, return_tensors=\"pt\", truncation=True, padding=\"max_length\"\n",
    ")"
   ]
  },
  {
   "cell_type": "code",
   "execution_count": 8,
   "id": "8e1a9860bdcf49e0",
   "metadata": {
    "ExecuteTime": {
     "end_time": "2024-06-01T10:46:47.022809Z",
     "start_time": "2024-06-01T10:46:34.903958Z"
    }
   },
   "outputs": [],
   "source": [
    "# Generate summary\n",
    "summary_ids = model.generate(\n",
    "    inputs[\"input_ids\"], num_beams=4, max_length=150, early_stopping=True\n",
    ")\n",
    "summary = tokenizer.decode(summary_ids[0], skip_special_tokens=True)"
   ]
  },
  {
   "cell_type": "code",
   "execution_count": 9,
   "id": "67433a634ec2015b",
   "metadata": {
    "ExecuteTime": {
     "end_time": "2024-06-01T10:46:47.038922Z",
     "start_time": "2024-06-01T10:46:47.024809Z"
    }
   },
   "outputs": [
    {
     "name": "stdout",
     "output_type": "stream",
     "text": [
      "Summary: The cat (Felis catus) is a small domesticated carnivorous mammal. Recent advances in archaeology and genetics have shown that the domestication of the cat occurred in the Near East around 7500 BC. It is the only domesticated species of the family Felidae.\n"
     ]
    }
   ],
   "source": [
    "# Output the generated summary\n",
    "print(\"Summary:\", summary)"
   ]
  },
  {
   "cell_type": "code",
   "execution_count": null,
   "id": "91f741b215a01a27",
   "metadata": {},
   "outputs": [],
   "source": []
  }
 ],
 "metadata": {
  "kernelspec": {
   "display_name": "Python 3",
   "language": "python",
   "name": "python3"
  },
  "language_info": {
   "codemirror_mode": {
    "name": "ipython",
    "version": 2
   },
   "file_extension": ".py",
   "mimetype": "text/x-python",
   "name": "python",
   "nbconvert_exporter": "python",
   "pygments_lexer": "ipython2",
   "version": "3.12.4"
  }
 },
 "nbformat": 4,
 "nbformat_minor": 5
}
