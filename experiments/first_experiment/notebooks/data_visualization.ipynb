{
 "cells": [
  {
   "cell_type": "code",
   "execution_count": 6,
   "id": "initial_id",
   "metadata": {
    "ExecuteTime": {
     "end_time": "2024-07-03T17:21:36.819028Z",
     "start_time": "2024-07-03T17:21:36.811489Z"
    },
    "collapsed": true
   },
   "outputs": [],
   "source": [
    "import pandas as pd\n",
    "import matplotlib.pyplot as plt\n",
    "import os"
   ]
  },
  {
   "cell_type": "code",
   "execution_count": 7,
   "id": "e9778387cc8fbfb7",
   "metadata": {
    "ExecuteTime": {
     "end_time": "2024-07-03T17:21:37.172456Z",
     "start_time": "2024-07-03T17:21:37.149284Z"
    }
   },
   "outputs": [
    {
     "data": {
      "text/html": [
       "<div>\n",
       "<style scoped>\n",
       "    .dataframe tbody tr th:only-of-type {\n",
       "        vertical-align: middle;\n",
       "    }\n",
       "\n",
       "    .dataframe tbody tr th {\n",
       "        vertical-align: top;\n",
       "    }\n",
       "\n",
       "    .dataframe thead th {\n",
       "        text-align: right;\n",
       "    }\n",
       "</style>\n",
       "<table border=\"1\" class=\"dataframe\">\n",
       "  <thead>\n",
       "    <tr style=\"text-align: right;\">\n",
       "      <th></th>\n",
       "      <th>Prompt</th>\n",
       "      <th>GT_Keyframe</th>\n",
       "      <th>Top_1</th>\n",
       "      <th>Top_2</th>\n",
       "      <th>Top_3</th>\n",
       "    </tr>\n",
       "  </thead>\n",
       "  <tbody>\n",
       "    <tr>\n",
       "      <th>0</th>\n",
       "      <td>learning outcomes</td>\n",
       "      <td>3</td>\n",
       "      <td>32</td>\n",
       "      <td>3</td>\n",
       "      <td>85</td>\n",
       "    </tr>\n",
       "    <tr>\n",
       "      <th>1</th>\n",
       "      <td>What are the learning outcomes from the lecture?</td>\n",
       "      <td>3</td>\n",
       "      <td>85</td>\n",
       "      <td>3</td>\n",
       "      <td>6</td>\n",
       "    </tr>\n",
       "    <tr>\n",
       "      <th>2</th>\n",
       "      <td>explain proteins in macronutrients</td>\n",
       "      <td>27</td>\n",
       "      <td>23</td>\n",
       "      <td>25</td>\n",
       "      <td>27</td>\n",
       "    </tr>\n",
       "    <tr>\n",
       "      <th>3</th>\n",
       "      <td>I did not understand the function of proteins ...</td>\n",
       "      <td>27</td>\n",
       "      <td>23</td>\n",
       "      <td>25</td>\n",
       "      <td>24</td>\n",
       "    </tr>\n",
       "    <tr>\n",
       "      <th>4</th>\n",
       "      <td>fish oil capsules</td>\n",
       "      <td>30</td>\n",
       "      <td>30</td>\n",
       "      <td>34</td>\n",
       "      <td>36</td>\n",
       "    </tr>\n",
       "  </tbody>\n",
       "</table>\n",
       "</div>"
      ],
      "text/plain": [
       "                                              Prompt  GT_Keyframe  Top_1  \\\n",
       "0                                  learning outcomes            3     32   \n",
       "1   What are the learning outcomes from the lecture?            3     85   \n",
       "2                 explain proteins in macronutrients           27     23   \n",
       "3  I did not understand the function of proteins ...           27     23   \n",
       "4                                  fish oil capsules           30     30   \n",
       "\n",
       "   Top_2  Top_3  \n",
       "0      3     85  \n",
       "1      3      6  \n",
       "2     25     27  \n",
       "3     25     24  \n",
       "4     34     36  "
      ]
     },
     "execution_count": 7,
     "metadata": {},
     "output_type": "execute_result"
    }
   ],
   "source": [
    "# read data from csv file\n",
    "data = pd.read_csv(\"experiments/first_experiment/df_ocr_only.csv\")\n",
    "data.head()"
   ]
  },
  {
   "cell_type": "code",
   "execution_count": 8,
   "id": "b20e1dde717e4699",
   "metadata": {
    "ExecuteTime": {
     "end_time": "2024-07-03T17:21:38.112623Z",
     "start_time": "2024-07-03T17:21:37.586554Z"
    }
   },
   "outputs": [
    {
     "name": "stdout",
     "output_type": "stream",
     "text": [
      "GT_Keyframe in Top 1: 42.11%\n",
      "GT_Keyframe in Top 2: 21.05%\n",
      "GT_Keyframe in Top 3: 10.53%\n"
     ]
    },
    {
     "data": {
      "text/plain": [
       "<Figure size 1000x600 with 0 Axes>"
      ]
     },
     "metadata": {},
     "output_type": "display_data"
    },
    {
     "data": {
      "image/png": "[encoded data removed]",
      "text/plain": [
       "<Figure size 800x500 with 1 Axes>"
      ]
     },
     "metadata": {},
     "output_type": "display_data"
    }
   ],
   "source": [
    "def calculate_and_plot_gt_keyframe_percentage(data):\n",
    "    # Convert data to a DataFrame\n",
    "    df = pd.DataFrame(data)\n",
    "\n",
    "    # Plotting\n",
    "    plt.figure(figsize=(10, 6))\n",
    "\n",
    "    total = len(df)\n",
    "    top_1_count = 0\n",
    "    top_2_count = 0\n",
    "    top_3_count = 0\n",
    "\n",
    "    # Iterate through the DataFrame to count the occurrences\n",
    "    for index, row in df.iterrows():\n",
    "        if row[\"GT_Keyframe\"] == row[\"Top_1\"]:\n",
    "            top_1_count += 1\n",
    "        elif row[\"GT_Keyframe\"] == row[\"Top_2\"]:\n",
    "            top_2_count += 1\n",
    "        elif row[\"GT_Keyframe\"] == row[\"Top_3\"]:\n",
    "            top_3_count += 1\n",
    "\n",
    "    # Calculate percentages\n",
    "    top_1_percentage = (top_1_count / total) * 100\n",
    "    top_2_percentage = (top_2_count / total) * 100\n",
    "    top_3_percentage = (top_3_count / total) * 100\n",
    "\n",
    "    # Print the results\n",
    "    print(f\"GT_Keyframe in Top 1: {top_1_percentage:.2f}%\")\n",
    "    print(f\"GT_Keyframe in Top 2: {top_2_percentage:.2f}%\")\n",
    "    print(f\"GT_Keyframe in Top 3: {top_3_percentage:.2f}%\")\n",
    "\n",
    "    # Data for plotting\n",
    "    labels = [\"Top 1\", \"Top 2\", \"Top 3\"]\n",
    "    percentages = [top_1_percentage, top_2_percentage, top_3_percentage]\n",
    "\n",
    "    # Create the plot\n",
    "    plt.figure(figsize=(8, 5))\n",
    "    plt.bar(labels, percentages, color=[\"blue\", \"green\", \"red\"])\n",
    "    plt.xlabel(\"Position\")\n",
    "    plt.ylabel(\"Percentage\")\n",
    "    plt.title(\"Percentage of GT_Keyframe in Top Positions \\n (OCR Only)\")\n",
    "    plt.ylim(0, 100)\n",
    "\n",
    "\n",
    "# call\n",
    "calculate_and_plot_gt_keyframe_percentage(data)"
   ]
  },
  {
   "cell_type": "code",
   "execution_count": 9,
   "id": "e8915696b5e8f18c",
   "metadata": {
    "ExecuteTime": {
     "end_time": "2024-07-03T17:21:47.416520Z",
     "start_time": "2024-07-03T17:21:47.385174Z"
    }
   },
   "outputs": [
    {
     "data": {
      "text/html": [
       "<div>\n",
       "<style scoped>\n",
       "    .dataframe tbody tr th:only-of-type {\n",
       "        vertical-align: middle;\n",
       "    }\n",
       "\n",
       "    .dataframe tbody tr th {\n",
       "        vertical-align: top;\n",
       "    }\n",
       "\n",
       "    .dataframe thead th {\n",
       "        text-align: right;\n",
       "    }\n",
       "</style>\n",
       "<table border=\"1\" class=\"dataframe\">\n",
       "  <thead>\n",
       "    <tr style=\"text-align: right;\">\n",
       "      <th></th>\n",
       "      <th>Prompt</th>\n",
       "      <th>GT_Keyframe</th>\n",
       "      <th>Top_1</th>\n",
       "      <th>Top_2</th>\n",
       "      <th>Top_3</th>\n",
       "    </tr>\n",
       "  </thead>\n",
       "  <tbody>\n",
       "    <tr>\n",
       "      <th>0</th>\n",
       "      <td>learning outcomes</td>\n",
       "      <td>3</td>\n",
       "      <td>32</td>\n",
       "      <td>3</td>\n",
       "      <td>85</td>\n",
       "    </tr>\n",
       "    <tr>\n",
       "      <th>1</th>\n",
       "      <td>retrieve the main learning outcomes from the l...</td>\n",
       "      <td>3</td>\n",
       "      <td>85</td>\n",
       "      <td>3</td>\n",
       "      <td>32</td>\n",
       "    </tr>\n",
       "    <tr>\n",
       "      <th>2</th>\n",
       "      <td>explain proteins in macronutrients</td>\n",
       "      <td>27</td>\n",
       "      <td>23</td>\n",
       "      <td>25</td>\n",
       "      <td>27</td>\n",
       "    </tr>\n",
       "    <tr>\n",
       "      <th>3</th>\n",
       "      <td>I did not understand the function of proteins ...</td>\n",
       "      <td>27</td>\n",
       "      <td>23</td>\n",
       "      <td>25</td>\n",
       "      <td>24</td>\n",
       "    </tr>\n",
       "    <tr>\n",
       "      <th>4</th>\n",
       "      <td>fish oil capsules</td>\n",
       "      <td>30</td>\n",
       "      <td>30</td>\n",
       "      <td>34</td>\n",
       "      <td>36</td>\n",
       "    </tr>\n",
       "  </tbody>\n",
       "</table>\n",
       "</div>"
      ],
      "text/plain": [
       "                                              Prompt  GT_Keyframe  Top_1  \\\n",
       "0                                  learning outcomes            3     32   \n",
       "1  retrieve the main learning outcomes from the l...            3     85   \n",
       "2                 explain proteins in macronutrients           27     23   \n",
       "3  I did not understand the function of proteins ...           27     23   \n",
       "4                                  fish oil capsules           30     30   \n",
       "\n",
       "   Top_2  Top_3  \n",
       "0      3     85  \n",
       "1      3     32  \n",
       "2     25     27  \n",
       "3     25     24  \n",
       "4     34     36  "
      ]
     },
     "execution_count": 9,
     "metadata": {},
     "output_type": "execute_result"
    }
   ],
   "source": [
    "# read data from csv file\n",
    "data_ocr_lava = pd.read_csv(\"experiments/first_experiment/df_ocr_lava.csv\")\n",
    "data_ocr_lava.head()"
   ]
  },
  {
   "cell_type": "code",
   "execution_count": 10,
   "id": "3ab6719b348fd451",
   "metadata": {
    "ExecuteTime": {
     "end_time": "2024-07-03T17:21:48.177179Z",
     "start_time": "2024-07-03T17:21:47.920972Z"
    }
   },
   "outputs": [
    {
     "name": "stdout",
     "output_type": "stream",
     "text": [
      "GT_Keyframe in Top 1: 42.11%\n",
      "GT_Keyframe in Top 2: 21.05%\n",
      "GT_Keyframe in Top 3: 10.53%\n"
     ]
    },
    {
     "data": {
      "text/plain": [
       "<Figure size 1000x600 with 0 Axes>"
      ]
     },
     "metadata": {},
     "output_type": "display_data"
    },
    {
     "data": {
      "image/png": "[encoded data removed]",
      "text/plain": [
       "<Figure size 800x500 with 1 Axes>"
      ]
     },
     "metadata": {},
     "output_type": "display_data"
    }
   ],
   "source": [
    "# call\n",
    "calculate_and_plot_gt_keyframe_percentage(data_ocr_lava)"
   ]
  },
  {
   "cell_type": "code",
   "execution_count": 11,
   "id": "80db1f084d7a50c0",
   "metadata": {
    "ExecuteTime": {
     "end_time": "2024-07-03T17:21:48.472659Z",
     "start_time": "2024-07-03T17:21:48.440787Z"
    }
   },
   "outputs": [
    {
     "data": {
      "text/html": [
       "<div>\n",
       "<style scoped>\n",
       "    .dataframe tbody tr th:only-of-type {\n",
       "        vertical-align: middle;\n",
       "    }\n",
       "\n",
       "    .dataframe tbody tr th {\n",
       "        vertical-align: top;\n",
       "    }\n",
       "\n",
       "    .dataframe thead th {\n",
       "        text-align: right;\n",
       "    }\n",
       "</style>\n",
       "<table border=\"1\" class=\"dataframe\">\n",
       "  <thead>\n",
       "    <tr style=\"text-align: right;\">\n",
       "      <th></th>\n",
       "      <th>Prompt</th>\n",
       "      <th>GT_Keyframe</th>\n",
       "      <th>Top_1</th>\n",
       "      <th>Top_2</th>\n",
       "      <th>Top_3</th>\n",
       "    </tr>\n",
       "  </thead>\n",
       "  <tbody>\n",
       "    <tr>\n",
       "      <th>0</th>\n",
       "      <td>learning outcomes</td>\n",
       "      <td>3</td>\n",
       "      <td>32</td>\n",
       "      <td>3</td>\n",
       "      <td>85</td>\n",
       "    </tr>\n",
       "    <tr>\n",
       "      <th>1</th>\n",
       "      <td>retrieve the main learning outcomes from the l...</td>\n",
       "      <td>3</td>\n",
       "      <td>85</td>\n",
       "      <td>3</td>\n",
       "      <td>32</td>\n",
       "    </tr>\n",
       "    <tr>\n",
       "      <th>2</th>\n",
       "      <td>explain proteins in macronutrients</td>\n",
       "      <td>27</td>\n",
       "      <td>23</td>\n",
       "      <td>25</td>\n",
       "      <td>27</td>\n",
       "    </tr>\n",
       "    <tr>\n",
       "      <th>3</th>\n",
       "      <td>I did not understand the function of proteins ...</td>\n",
       "      <td>27</td>\n",
       "      <td>23</td>\n",
       "      <td>25</td>\n",
       "      <td>24</td>\n",
       "    </tr>\n",
       "    <tr>\n",
       "      <th>4</th>\n",
       "      <td>fish oil capsules</td>\n",
       "      <td>30</td>\n",
       "      <td>30</td>\n",
       "      <td>34</td>\n",
       "      <td>36</td>\n",
       "    </tr>\n",
       "  </tbody>\n",
       "</table>\n",
       "</div>"
      ],
      "text/plain": [
       "                                              Prompt  GT_Keyframe  Top_1  \\\n",
       "0                                  learning outcomes            3     32   \n",
       "1  retrieve the main learning outcomes from the l...            3     85   \n",
       "2                 explain proteins in macronutrients           27     23   \n",
       "3  I did not understand the function of proteins ...           27     23   \n",
       "4                                  fish oil capsules           30     30   \n",
       "\n",
       "   Top_2  Top_3  \n",
       "0      3     85  \n",
       "1      3     32  \n",
       "2     25     27  \n",
       "3     25     24  \n",
       "4     34     36  "
      ]
     },
     "execution_count": 11,
     "metadata": {},
     "output_type": "execute_result"
    }
   ],
   "source": [
    "# read data from csv file\n",
    "data_ocr_transcription = pd.read_csv(\n",
    "    \"experiments/first_experiment/df_ocr_transcriptions.csv\"\n",
    ")\n",
    "data_ocr_transcription.head()"
   ]
  },
  {
   "cell_type": "code",
   "execution_count": 12,
   "id": "6efa71b20ff7e470",
   "metadata": {
    "ExecuteTime": {
     "end_time": "2024-07-03T17:21:49.022812Z",
     "start_time": "2024-07-03T17:21:48.775615Z"
    }
   },
   "outputs": [
    {
     "name": "stdout",
     "output_type": "stream",
     "text": [
      "GT_Keyframe in Top 1: 42.11%\n",
      "GT_Keyframe in Top 2: 21.05%\n",
      "GT_Keyframe in Top 3: 10.53%\n"
     ]
    },
    {
     "data": {
      "text/plain": [
       "<Figure size 1000x600 with 0 Axes>"
      ]
     },
     "metadata": {},
     "output_type": "display_data"
    },
    {
     "data": {
      "image/png": "[encoded data removed]",
      "text/plain": [
       "<Figure size 800x500 with 1 Axes>"
      ]
     },
     "metadata": {},
     "output_type": "display_data"
    }
   ],
   "source": [
    "# call\n",
    "calculate_and_plot_gt_keyframe_percentage(data_ocr_transcription)"
   ]
  },
  {
   "cell_type": "code",
   "execution_count": 13,
   "id": "ea27443f9c013f6e",
   "metadata": {
    "ExecuteTime": {
     "end_time": "2024-07-03T17:21:49.239606Z",
     "start_time": "2024-07-03T17:21:49.225322Z"
    }
   },
   "outputs": [
    {
     "data": {
      "text/html": [
       "<div>\n",
       "<style scoped>\n",
       "    .dataframe tbody tr th:only-of-type {\n",
       "        vertical-align: middle;\n",
       "    }\n",
       "\n",
       "    .dataframe tbody tr th {\n",
       "        vertical-align: top;\n",
       "    }\n",
       "\n",
       "    .dataframe thead th {\n",
       "        text-align: right;\n",
       "    }\n",
       "</style>\n",
       "<table border=\"1\" class=\"dataframe\">\n",
       "  <thead>\n",
       "    <tr style=\"text-align: right;\">\n",
       "      <th></th>\n",
       "      <th>Prompt</th>\n",
       "      <th>GT_Keyframe</th>\n",
       "      <th>Top_1</th>\n",
       "      <th>Top_2</th>\n",
       "      <th>Top_3</th>\n",
       "    </tr>\n",
       "  </thead>\n",
       "  <tbody>\n",
       "    <tr>\n",
       "      <th>0</th>\n",
       "      <td>learning outcomes</td>\n",
       "      <td>3</td>\n",
       "      <td>3</td>\n",
       "      <td>85</td>\n",
       "      <td>1</td>\n",
       "    </tr>\n",
       "    <tr>\n",
       "      <th>1</th>\n",
       "      <td>What are the learning outcomes from the lecture?</td>\n",
       "      <td>3</td>\n",
       "      <td>3</td>\n",
       "      <td>85</td>\n",
       "      <td>1</td>\n",
       "    </tr>\n",
       "    <tr>\n",
       "      <th>2</th>\n",
       "      <td>explain proteins in macronutrients</td>\n",
       "      <td>27</td>\n",
       "      <td>23</td>\n",
       "      <td>27</td>\n",
       "      <td>37</td>\n",
       "    </tr>\n",
       "    <tr>\n",
       "      <th>3</th>\n",
       "      <td>I did not understand the function of proteins ...</td>\n",
       "      <td>27</td>\n",
       "      <td>23</td>\n",
       "      <td>24</td>\n",
       "      <td>27</td>\n",
       "    </tr>\n",
       "    <tr>\n",
       "      <th>4</th>\n",
       "      <td>fish oil capsules</td>\n",
       "      <td>30</td>\n",
       "      <td>30</td>\n",
       "      <td>29</td>\n",
       "      <td>34</td>\n",
       "    </tr>\n",
       "  </tbody>\n",
       "</table>\n",
       "</div>"
      ],
      "text/plain": [
       "                                              Prompt  GT_Keyframe  Top_1  \\\n",
       "0                                  learning outcomes            3      3   \n",
       "1   What are the learning outcomes from the lecture?            3      3   \n",
       "2                 explain proteins in macronutrients           27     23   \n",
       "3  I did not understand the function of proteins ...           27     23   \n",
       "4                                  fish oil capsules           30     30   \n",
       "\n",
       "   Top_2  Top_3  \n",
       "0     85      1  \n",
       "1     85      1  \n",
       "2     27     37  \n",
       "3     24     27  \n",
       "4     29     34  "
      ]
     },
     "execution_count": 13,
     "metadata": {},
     "output_type": "execute_result"
    }
   ],
   "source": [
    "df_standard_llm_long_summary = pd.read_csv(\n",
    "    \"experiments/first_experiment/df_standard_llm_long_summary.csv\"\n",
    ")\n",
    "df_standard_llm_long_summary.head()"
   ]
  },
  {
   "cell_type": "code",
   "execution_count": 14,
   "id": "199142302befe683",
   "metadata": {
    "ExecuteTime": {
     "end_time": "2024-07-03T17:21:49.741092Z",
     "start_time": "2024-07-03T17:21:49.521431Z"
    }
   },
   "outputs": [
    {
     "name": "stdout",
     "output_type": "stream",
     "text": [
      "GT_Keyframe in Top 1: 52.63%\n",
      "GT_Keyframe in Top 2: 5.26%\n",
      "GT_Keyframe in Top 3: 10.53%\n"
     ]
    },
    {
     "data": {
      "text/plain": [
       "<Figure size 1000x600 with 0 Axes>"
      ]
     },
     "metadata": {},
     "output_type": "display_data"
    },
    {
     "data": {
      "image/png": "[encoded data removed]",
      "text/plain": [
       "<Figure size 800x500 with 1 Axes>"
      ]
     },
     "metadata": {},
     "output_type": "display_data"
    }
   ],
   "source": [
    "# call\n",
    "calculate_and_plot_gt_keyframe_percentage(df_standard_llm_long_summary)"
   ]
  },
  {
   "cell_type": "code",
   "execution_count": 14,
   "id": "e7fe0bd46ee60055",
   "metadata": {
    "ExecuteTime": {
     "end_time": "2024-07-03T17:21:50.008001Z",
     "start_time": "2024-07-03T17:21:50.000941Z"
    }
   },
   "outputs": [],
   "source": []
  },
  {
   "cell_type": "code",
   "execution_count": null,
   "id": "13e18f2a1b921e08",
   "metadata": {},
   "outputs": [],
   "source": []
  }
 ],
 "metadata": {
  "kernelspec": {
   "display_name": "Python 3",
   "language": "python",
   "name": "python3"
  },
  "language_info": {
   "codemirror_mode": {
    "name": "ipython",
    "version": 2
   },
   "file_extension": ".py",
   "mimetype": "text/x-python",
   "name": "python",
   "nbconvert_exporter": "python",
   "pygments_lexer": "ipython2",
   "version": "2.7.6"
  }
 },
 "nbformat": 4,
 "nbformat_minor": 5
}
