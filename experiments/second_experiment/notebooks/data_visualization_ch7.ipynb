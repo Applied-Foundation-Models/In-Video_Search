{
 "cells": [
  {
   "cell_type": "code",
   "id": "initial_id",
   "metadata": {
    "collapsed": true,
    "ExecuteTime": {
     "end_time": "2024-07-13T11:22:41.225475Z",
     "start_time": "2024-07-13T11:22:39.084520Z"
    }
   },
   "source": [
    "import pandas as pd\n",
    "import matplotlib.pyplot as plt\n",
    "from pathlib import Path\n",
    "from loguru import logger"
   ],
   "outputs": [],
   "execution_count": 1
  },
  {
   "metadata": {},
   "cell_type": "markdown",
   "source": "",
   "id": "5e64ba9cd139c77c"
  },
  {
   "metadata": {},
   "cell_type": "markdown",
   "source": "# OCR Only",
   "id": "e878cdd5850af551"
  },
  {
   "metadata": {
    "ExecuteTime": {
     "end_time": "2024-07-13T11:22:41.243802Z",
     "start_time": "2024-07-13T11:22:41.227084Z"
    }
   },
   "cell_type": "code",
   "source": [
    "notebook_path = Path().resolve().parent\n",
    "print(notebook_path)\n",
    "\n",
    "# Construct the filename relative to the new path\n",
    "filename = notebook_path / \"notebooks/new_data/df_standard_ocr_only_ch7.csv\"\n",
    "\n",
    "# Read the CSV file\n",
    "df_standard_ocr_only = pd.read_csv(filename)\n",
    "print(df_standard_ocr_only)"
   ],
   "id": "d3c4ecf46b92093c",
   "outputs": [
    {
     "name": "stdout",
     "output_type": "stream",
     "text": [
      "C:\\Users\\baatout\\PycharmProjects\\afm-vlm\\experiments\\second_experiment\n",
      "                                               Prompt  GT_Keyframe  Top_1  \\\n",
      "0                                  What are feedlots?           47     47   \n",
      "1                                 What is weathering?           17     19   \n",
      "2   What is desertification and how much productiv...           22     22   \n",
      "3   What is the conservation reserve programm of 1...           29     31   \n",
      "4           GM crops today are engineered to resist:            56     56   \n",
      "5   90% of energy is lost from one trophic level t...           45     45   \n",
      "6                                Risks of biocontrol?           40     40   \n",
      "7   As the populations increases pesticides lose t...           38     39   \n",
      "8   Substainable fertilizer use involves monitorin...           36     36   \n",
      "9                                What is overgrazing?           29     21   \n",
      "10                   Why does the USDA issues labels?           71     63   \n",
      "11                 How productive is organic farming?           69     69   \n",
      "12           What does soil in organic plots contain?           68     18   \n",
      "13  3 out of 4 Americans buy organic food at least...           65     65   \n",
      "14                      What are the farmer benefits?           64     31   \n",
      "15                         What are the farmer risks?           64     64   \n",
      "16              What are the obstacles for consumers?           64     51   \n",
      "17                                  What is terracing           26     21   \n",
      "18  people think that \"tinkering\" with food but ot...           61     61   \n",
      "19  gm foos resistance to the week killer is being...           59     59   \n",
      "20                 When dod the dust bowl took place?           23     23   \n",
      "\n",
      "    Top_2  Top_3  \n",
      "0      48     18  \n",
      "1       1     23  \n",
      "2      23     20  \n",
      "3      24     27  \n",
      "4      11     60  \n",
      "5       6      3  \n",
      "6      62     59  \n",
      "7      38     58  \n",
      "8      35     34  \n",
      "9      50     29  \n",
      "10     71     66  \n",
      "11     67     65  \n",
      "12     17     16  \n",
      "13     63     64  \n",
      "14     30     64  \n",
      "15     48     30  \n",
      "16     50      5  \n",
      "17     22     18  \n",
      "18     14      4  \n",
      "19     60     56  \n",
      "20     12      1  \n"
     ]
    }
   ],
   "execution_count": 2
  },
  {
   "metadata": {
    "ExecuteTime": {
     "end_time": "2024-07-13T11:22:41.256584Z",
     "start_time": "2024-07-13T11:22:41.243802Z"
    }
   },
   "cell_type": "code",
   "source": [
    "def calculate_and_plot_gt_keyframe_percentage(data):\n",
    "    # Convert data to a DataFrame\n",
    "    df = pd.DataFrame(data)\n",
    "    \n",
    "    # Plotting\n",
    "    plt.figure(figsize=(10, 6))\n",
    "    \n",
    "    total = len(df)\n",
    "    top_1_count = 0\n",
    "    top_2_count = 0\n",
    "    top_3_count = 0\n",
    "    \n",
    "    # Iterate through the DataFrame to count the occurrences\n",
    "    for index, row in df.iterrows():\n",
    "        if row['GT_Keyframe'] == row['Top_1']:\n",
    "            top_1_count += 1\n",
    "        elif row['GT_Keyframe'] == row['Top_2']:\n",
    "            top_2_count += 1\n",
    "        elif row['GT_Keyframe'] == row['Top_3']:\n",
    "            top_3_count += 1\n",
    "    \n",
    "    # Calculate percentages\n",
    "    top_1_percentage = (top_1_count / total) * 100\n",
    "    top_2_percentage = (top_2_count / total) * 100\n",
    "    top_3_percentage = (top_3_count / total) * 100\n",
    "    \n",
    "    # Print the results\n",
    "    print(f\"GT_Keyframe in Top 1: {top_1_percentage:.2f}%\")\n",
    "    print(f\"GT_Keyframe in Top 2: {top_2_percentage:.2f}%\")\n",
    "    print(f\"GT_Keyframe in Top 3: {top_3_percentage:.2f}%\")\n",
    "    \n",
    "    # Data for plotting\n",
    "    labels = ['Top 1', 'Top 2', 'Top 3']\n",
    "    percentages = [top_1_percentage, top_2_percentage, top_3_percentage]\n",
    "    \n",
    "    # Create the plot\n",
    "    plt.figure(figsize=(8, 5))\n",
    "    plt.bar(labels, percentages, color=['blue', 'green', 'red'])\n",
    "    plt.xlabel('Position')\n",
    "    plt.ylabel('Percentage')\n",
    "    plt.title('Percentage of GT_Keyframe in Top Positions \\n (OCR Only)')\n",
    "    plt.ylim(0, 100)\n",
    "\n",
    "img_paths = 150\n",
    "\n",
    "def check_proximity_keyframes(gt):\n",
    "    proximity_kf = []\n",
    "\n",
    "    # Define the boundaries for the image paths\n",
    "    max_index = img_paths - 1\n",
    "\n",
    "    if gt == 0:\n",
    "        logger.info(\"No proximity - Invalid GT\")\n",
    "    elif gt == 1:\n",
    "        proximity_kf.extend(range(1, 5))\n",
    "    elif gt >= max_index:\n",
    "        proximity_kf.extend(range(max_index, max_index - 5, -1))\n",
    "    else:\n",
    "        proximity_kf.extend([gt - 2, gt - 1, gt, gt + 1, gt + 2])\n",
    "\n",
    "    # Ensure all indexes are within valid range\n",
    "    proximity_kf = [i for i in proximity_kf if 0 <= i <= max_index]\n",
    "\n",
    "    return proximity_kf\n"
   ],
   "id": "b20e1dde717e4699",
   "outputs": [],
   "execution_count": 3
  },
  {
   "metadata": {
    "ExecuteTime": {
     "end_time": "2024-07-13T11:22:41.668166Z",
     "start_time": "2024-07-13T11:22:41.259096Z"
    }
   },
   "cell_type": "code",
   "source": [
    "# call\n",
    "calculate_and_plot_gt_keyframe_percentage(df_standard_ocr_only)"
   ],
   "id": "f94dd6be045f015b",
   "outputs": [
    {
     "name": "stdout",
     "output_type": "stream",
     "text": [
      "GT_Keyframe in Top 1: 57.14%\n",
      "GT_Keyframe in Top 2: 9.52%\n",
      "GT_Keyframe in Top 3: 9.52%\n"
     ]
    },
    {
     "data": {
      "text/plain": [
       "<Figure size 1000x600 with 0 Axes>"
      ]
     },
     "metadata": {},
     "output_type": "display_data"
    },
    {
     "data": {
      "text/plain": [
       "<Figure size 800x500 with 1 Axes>"
      ],
      "image/png": "[encoded data removed]"
     },
     "metadata": {},
     "output_type": "display_data"
    }
   ],
   "execution_count": 4
  },
  {
   "metadata": {
    "ExecuteTime": {
     "end_time": "2024-07-13T11:22:41.720257Z",
     "start_time": "2024-07-13T11:22:41.668166Z"
    }
   },
   "cell_type": "code",
   "source": [
    "# iterate through data frame \n",
    "df = df_standard_ocr_only\n",
    "res = []\n",
    "for _, row in df.iterrows():\n",
    "        logger.info(row['Prompt'])\n",
    "        gt_keyframe = row['GT_Keyframe']\n",
    "        prox =check_proximity_keyframes(gt_keyframe)\n",
    "        res.append(prox)\n",
    "\n",
    "prox_yes_no = []\n",
    "for i, row in df.iterrows():\n",
    "    if row['Top_1'] in res[i] or row['Top_2'] in res[i] or row['Top_3'] in res[i]: \n",
    "        prox_yes_no.append(1)\n",
    "    else: \n",
    "        prox_yes_no.append(0)\n",
    "\n",
    "print(prox_yes_no)"
   ],
   "id": "ed8ff162c4e509bd",
   "outputs": [
    {
     "name": "stderr",
     "output_type": "stream",
     "text": [
      "\u001B[32m2024-07-13 13:22:41.674\u001B[0m | \u001B[1mINFO    \u001B[0m | \u001B[36m__main__\u001B[0m:\u001B[36m<module>\u001B[0m:\u001B[36m5\u001B[0m - \u001B[1mWhat are feedlots?\u001B[0m\n",
      "\u001B[32m2024-07-13 13:22:41.674\u001B[0m | \u001B[1mINFO    \u001B[0m | \u001B[36m__main__\u001B[0m:\u001B[36m<module>\u001B[0m:\u001B[36m5\u001B[0m - \u001B[1mWhat is weathering?\u001B[0m\n",
      "\u001B[32m2024-07-13 13:22:41.674\u001B[0m | \u001B[1mINFO    \u001B[0m | \u001B[36m__main__\u001B[0m:\u001B[36m<module>\u001B[0m:\u001B[36m5\u001B[0m - \u001B[1mWhat is desertification and how much productivity loss does it cause to arid lands?\u001B[0m\n",
      "\u001B[32m2024-07-13 13:22:41.674\u001B[0m | \u001B[1mINFO    \u001B[0m | \u001B[36m__main__\u001B[0m:\u001B[36m<module>\u001B[0m:\u001B[36m5\u001B[0m - \u001B[1mWhat is the conservation reserve programm of 1985?\u001B[0m\n",
      "\u001B[32m2024-07-13 13:22:41.674\u001B[0m | \u001B[1mINFO    \u001B[0m | \u001B[36m__main__\u001B[0m:\u001B[36m<module>\u001B[0m:\u001B[36m5\u001B[0m - \u001B[1mGM crops today are engineered to resist: \u001B[0m\n",
      "\u001B[32m2024-07-13 13:22:41.674\u001B[0m | \u001B[1mINFO    \u001B[0m | \u001B[36m__main__\u001B[0m:\u001B[36m<module>\u001B[0m:\u001B[36m5\u001B[0m - \u001B[1m90% of energy is lost from one trophic level to the next\u001B[0m\n",
      "\u001B[32m2024-07-13 13:22:41.674\u001B[0m | \u001B[1mINFO    \u001B[0m | \u001B[36m__main__\u001B[0m:\u001B[36m<module>\u001B[0m:\u001B[36m5\u001B[0m - \u001B[1mRisks of biocontrol?\u001B[0m\n",
      "\u001B[32m2024-07-13 13:22:41.674\u001B[0m | \u001B[1mINFO    \u001B[0m | \u001B[36m__main__\u001B[0m:\u001B[36m<module>\u001B[0m:\u001B[36m5\u001B[0m - \u001B[1mAs the populations increases pesticides lose their effectiveness\u001B[0m\n",
      "\u001B[32m2024-07-13 13:22:41.690\u001B[0m | \u001B[1mINFO    \u001B[0m | \u001B[36m__main__\u001B[0m:\u001B[36m<module>\u001B[0m:\u001B[36m5\u001B[0m - \u001B[1mSubstainable fertilizer use involves monitoring and targeting nutriets\u001B[0m\n",
      "\u001B[32m2024-07-13 13:22:41.690\u001B[0m | \u001B[1mINFO    \u001B[0m | \u001B[36m__main__\u001B[0m:\u001B[36m<module>\u001B[0m:\u001B[36m5\u001B[0m - \u001B[1mWhat is overgrazing?\u001B[0m\n",
      "\u001B[32m2024-07-13 13:22:41.690\u001B[0m | \u001B[1mINFO    \u001B[0m | \u001B[36m__main__\u001B[0m:\u001B[36m<module>\u001B[0m:\u001B[36m5\u001B[0m - \u001B[1mWhy does the USDA issues labels?\u001B[0m\n",
      "\u001B[32m2024-07-13 13:22:41.690\u001B[0m | \u001B[1mINFO    \u001B[0m | \u001B[36m__main__\u001B[0m:\u001B[36m<module>\u001B[0m:\u001B[36m5\u001B[0m - \u001B[1mHow productive is organic farming?\u001B[0m\n",
      "\u001B[32m2024-07-13 13:22:41.690\u001B[0m | \u001B[1mINFO    \u001B[0m | \u001B[36m__main__\u001B[0m:\u001B[36m<module>\u001B[0m:\u001B[36m5\u001B[0m - \u001B[1mWhat does soil in organic plots contain?\u001B[0m\n",
      "\u001B[32m2024-07-13 13:22:41.690\u001B[0m | \u001B[1mINFO    \u001B[0m | \u001B[36m__main__\u001B[0m:\u001B[36m<module>\u001B[0m:\u001B[36m5\u001B[0m - \u001B[1m3 out of 4 Americans buy organic food at least occasionally\u001B[0m\n",
      "\u001B[32m2024-07-13 13:22:41.690\u001B[0m | \u001B[1mINFO    \u001B[0m | \u001B[36m__main__\u001B[0m:\u001B[36m<module>\u001B[0m:\u001B[36m5\u001B[0m - \u001B[1mWhat are the farmer benefits?\u001B[0m\n",
      "\u001B[32m2024-07-13 13:22:41.690\u001B[0m | \u001B[1mINFO    \u001B[0m | \u001B[36m__main__\u001B[0m:\u001B[36m<module>\u001B[0m:\u001B[36m5\u001B[0m - \u001B[1mWhat are the farmer risks?\u001B[0m\n",
      "\u001B[32m2024-07-13 13:22:41.705\u001B[0m | \u001B[1mINFO    \u001B[0m | \u001B[36m__main__\u001B[0m:\u001B[36m<module>\u001B[0m:\u001B[36m5\u001B[0m - \u001B[1mWhat are the obstacles for consumers?\u001B[0m\n",
      "\u001B[32m2024-07-13 13:22:41.705\u001B[0m | \u001B[1mINFO    \u001B[0m | \u001B[36m__main__\u001B[0m:\u001B[36m<module>\u001B[0m:\u001B[36m5\u001B[0m - \u001B[1mWhat is terracing\u001B[0m\n",
      "\u001B[32m2024-07-13 13:22:41.705\u001B[0m | \u001B[1mINFO    \u001B[0m | \u001B[36m__main__\u001B[0m:\u001B[36m<module>\u001B[0m:\u001B[36m5\u001B[0m - \u001B[1mpeople think that \"tinkering\" with food but other fear that food supply is dominated by large corporations\u001B[0m\n",
      "\u001B[32m2024-07-13 13:22:41.705\u001B[0m | \u001B[1mINFO    \u001B[0m | \u001B[36m__main__\u001B[0m:\u001B[36m<module>\u001B[0m:\u001B[36m5\u001B[0m - \u001B[1mgm foos resistance to the week killer is being documented\u001B[0m\n",
      "\u001B[32m2024-07-13 13:22:41.713\u001B[0m | \u001B[1mINFO    \u001B[0m | \u001B[36m__main__\u001B[0m:\u001B[36m<module>\u001B[0m:\u001B[36m5\u001B[0m - \u001B[1mWhen dod the dust bowl took place?\u001B[0m\n"
     ]
    },
    {
     "name": "stdout",
     "output_type": "stream",
     "text": [
      "[1, 1, 1, 1, 1, 1, 1, 1, 1, 1, 1, 1, 0, 1, 1, 1, 0, 0, 1, 1, 1]\n"
     ]
    }
   ],
   "execution_count": 5
  },
  {
   "metadata": {},
   "cell_type": "markdown",
   "source": "",
   "id": "a2725d115684d053"
  },
  {
   "metadata": {},
   "cell_type": "markdown",
   "source": "# OCR LAVA",
   "id": "761615c516b3463"
  },
  {
   "metadata": {
    "ExecuteTime": {
     "end_time": "2024-07-13T11:22:41.756793Z",
     "start_time": "2024-07-13T11:22:41.721771Z"
    }
   },
   "cell_type": "code",
   "source": [
    "# read data from csv file\n",
    "notebook_path = Path().resolve().parent\n",
    "print(notebook_path)\n",
    "\n",
    "# Construct the filename relative to the new path\n",
    "filename = notebook_path / \"notebooks/new_data/df_standard_ocr_lava_ch7.csv\"\n",
    "df_ocr_lava = pd.read_csv(filename)\n",
    "df_ocr_lava.head()"
   ],
   "id": "e8915696b5e8f18c",
   "outputs": [
    {
     "name": "stdout",
     "output_type": "stream",
     "text": [
      "C:\\Users\\baatout\\PycharmProjects\\afm-vlm\\experiments\\second_experiment\n"
     ]
    },
    {
     "data": {
      "text/plain": [
       "                                              Prompt  GT_Keyframe  Top_1  \\\n",
       "0                                 What are feedlots?           47     47   \n",
       "1                                What is weathering?           17     19   \n",
       "2  What is desertification and how much productiv...           22     22   \n",
       "3  What is the conservation reserve programm of 1...           29     31   \n",
       "4          GM crops today are engineered to resist:            56     56   \n",
       "\n",
       "   Top_2  Top_3  \n",
       "0     54     48  \n",
       "1     26     23  \n",
       "2     20     32  \n",
       "3     24     27  \n",
       "4     11     60  "
      ],
      "text/html": [
       "<div>\n",
       "<style scoped>\n",
       "    .dataframe tbody tr th:only-of-type {\n",
       "        vertical-align: middle;\n",
       "    }\n",
       "\n",
       "    .dataframe tbody tr th {\n",
       "        vertical-align: top;\n",
       "    }\n",
       "\n",
       "    .dataframe thead th {\n",
       "        text-align: right;\n",
       "    }\n",
       "</style>\n",
       "<table border=\"1\" class=\"dataframe\">\n",
       "  <thead>\n",
       "    <tr style=\"text-align: right;\">\n",
       "      <th></th>\n",
       "      <th>Prompt</th>\n",
       "      <th>GT_Keyframe</th>\n",
       "      <th>Top_1</th>\n",
       "      <th>Top_2</th>\n",
       "      <th>Top_3</th>\n",
       "    </tr>\n",
       "  </thead>\n",
       "  <tbody>\n",
       "    <tr>\n",
       "      <th>0</th>\n",
       "      <td>What are feedlots?</td>\n",
       "      <td>47</td>\n",
       "      <td>47</td>\n",
       "      <td>54</td>\n",
       "      <td>48</td>\n",
       "    </tr>\n",
       "    <tr>\n",
       "      <th>1</th>\n",
       "      <td>What is weathering?</td>\n",
       "      <td>17</td>\n",
       "      <td>19</td>\n",
       "      <td>26</td>\n",
       "      <td>23</td>\n",
       "    </tr>\n",
       "    <tr>\n",
       "      <th>2</th>\n",
       "      <td>What is desertification and how much productiv...</td>\n",
       "      <td>22</td>\n",
       "      <td>22</td>\n",
       "      <td>20</td>\n",
       "      <td>32</td>\n",
       "    </tr>\n",
       "    <tr>\n",
       "      <th>3</th>\n",
       "      <td>What is the conservation reserve programm of 1...</td>\n",
       "      <td>29</td>\n",
       "      <td>31</td>\n",
       "      <td>24</td>\n",
       "      <td>27</td>\n",
       "    </tr>\n",
       "    <tr>\n",
       "      <th>4</th>\n",
       "      <td>GM crops today are engineered to resist:</td>\n",
       "      <td>56</td>\n",
       "      <td>56</td>\n",
       "      <td>11</td>\n",
       "      <td>60</td>\n",
       "    </tr>\n",
       "  </tbody>\n",
       "</table>\n",
       "</div>"
      ]
     },
     "execution_count": 6,
     "metadata": {},
     "output_type": "execute_result"
    }
   ],
   "execution_count": 6
  },
  {
   "metadata": {
    "ExecuteTime": {
     "end_time": "2024-07-13T11:22:42.087893Z",
     "start_time": "2024-07-13T11:22:41.756793Z"
    }
   },
   "cell_type": "code",
   "source": [
    "# call\n",
    "calculate_and_plot_gt_keyframe_percentage(df_ocr_lava)"
   ],
   "id": "3ab6719b348fd451",
   "outputs": [
    {
     "name": "stdout",
     "output_type": "stream",
     "text": [
      "GT_Keyframe in Top 1: 52.38%\n",
      "GT_Keyframe in Top 2: 14.29%\n",
      "GT_Keyframe in Top 3: 4.76%\n"
     ]
    },
    {
     "data": {
      "text/plain": [
       "<Figure size 1000x600 with 0 Axes>"
      ]
     },
     "metadata": {},
     "output_type": "display_data"
    },
    {
     "data": {
      "text/plain": [
       "<Figure size 800x500 with 1 Axes>"
      ],
      "image/png": "[encoded data removed]"
     },
     "metadata": {},
     "output_type": "display_data"
    }
   ],
   "execution_count": 7
  },
  {
   "metadata": {
    "ExecuteTime": {
     "end_time": "2024-07-13T11:22:42.133913Z",
     "start_time": "2024-07-13T11:22:42.091221Z"
    }
   },
   "cell_type": "code",
   "source": [
    "# iterate through data frame \n",
    "df = df_ocr_lava\n",
    "# iterate through data frame \n",
    "res = []\n",
    "for _, row in df.iterrows():\n",
    "        logger.info(row['Prompt'])\n",
    "        gt_keyframe = row['GT_Keyframe']\n",
    "        prox =check_proximity_keyframes(gt_keyframe)\n",
    "        res.append(prox)\n",
    "\n",
    "prox_yes_no = []\n",
    "for i, row in df.iterrows():\n",
    "    if row['Top_1'] in res[i] or row['Top_2'] in res[i] or row['Top_3'] in res[i]: \n",
    "        prox_yes_no.append(1)\n",
    "    else: \n",
    "        prox_yes_no.append(0)\n",
    "\n",
    "print(prox_yes_no)"
   ],
   "id": "9df455fefb3a519a",
   "outputs": [
    {
     "name": "stderr",
     "output_type": "stream",
     "text": [
      "\u001B[32m2024-07-13 13:22:42.091\u001B[0m | \u001B[1mINFO    \u001B[0m | \u001B[36m__main__\u001B[0m:\u001B[36m<module>\u001B[0m:\u001B[36m6\u001B[0m - \u001B[1mWhat are feedlots?\u001B[0m\n",
      "\u001B[32m2024-07-13 13:22:42.091\u001B[0m | \u001B[1mINFO    \u001B[0m | \u001B[36m__main__\u001B[0m:\u001B[36m<module>\u001B[0m:\u001B[36m6\u001B[0m - \u001B[1mWhat is weathering?\u001B[0m\n",
      "\u001B[32m2024-07-13 13:22:42.091\u001B[0m | \u001B[1mINFO    \u001B[0m | \u001B[36m__main__\u001B[0m:\u001B[36m<module>\u001B[0m:\u001B[36m6\u001B[0m - \u001B[1mWhat is desertification and how much productivity loss does it cause to arid lands?\u001B[0m\n",
      "\u001B[32m2024-07-13 13:22:42.091\u001B[0m | \u001B[1mINFO    \u001B[0m | \u001B[36m__main__\u001B[0m:\u001B[36m<module>\u001B[0m:\u001B[36m6\u001B[0m - \u001B[1mWhat is the conservation reserve programm of 1985?\u001B[0m\n",
      "\u001B[32m2024-07-13 13:22:42.091\u001B[0m | \u001B[1mINFO    \u001B[0m | \u001B[36m__main__\u001B[0m:\u001B[36m<module>\u001B[0m:\u001B[36m6\u001B[0m - \u001B[1mGM crops today are engineered to resist: \u001B[0m\n",
      "\u001B[32m2024-07-13 13:22:42.091\u001B[0m | \u001B[1mINFO    \u001B[0m | \u001B[36m__main__\u001B[0m:\u001B[36m<module>\u001B[0m:\u001B[36m6\u001B[0m - \u001B[1m90% of energy is lost from one trophic level to the next\u001B[0m\n",
      "\u001B[32m2024-07-13 13:22:42.106\u001B[0m | \u001B[1mINFO    \u001B[0m | \u001B[36m__main__\u001B[0m:\u001B[36m<module>\u001B[0m:\u001B[36m6\u001B[0m - \u001B[1mRisks of biocontrol?\u001B[0m\n",
      "\u001B[32m2024-07-13 13:22:42.109\u001B[0m | \u001B[1mINFO    \u001B[0m | \u001B[36m__main__\u001B[0m:\u001B[36m<module>\u001B[0m:\u001B[36m6\u001B[0m - \u001B[1mAs the populations increases pesticides lose their effectiveness\u001B[0m\n",
      "\u001B[32m2024-07-13 13:22:42.109\u001B[0m | \u001B[1mINFO    \u001B[0m | \u001B[36m__main__\u001B[0m:\u001B[36m<module>\u001B[0m:\u001B[36m6\u001B[0m - \u001B[1mSubstainable fertilizer use involves monitoring and targeting nutriets\u001B[0m\n",
      "\u001B[32m2024-07-13 13:22:42.109\u001B[0m | \u001B[1mINFO    \u001B[0m | \u001B[36m__main__\u001B[0m:\u001B[36m<module>\u001B[0m:\u001B[36m6\u001B[0m - \u001B[1mWhat is overgrazing?\u001B[0m\n",
      "\u001B[32m2024-07-13 13:22:42.109\u001B[0m | \u001B[1mINFO    \u001B[0m | \u001B[36m__main__\u001B[0m:\u001B[36m<module>\u001B[0m:\u001B[36m6\u001B[0m - \u001B[1mWhy does the USDA issues labels?\u001B[0m\n",
      "\u001B[32m2024-07-13 13:22:42.113\u001B[0m | \u001B[1mINFO    \u001B[0m | \u001B[36m__main__\u001B[0m:\u001B[36m<module>\u001B[0m:\u001B[36m6\u001B[0m - \u001B[1mHow productive is organic farming?\u001B[0m\n",
      "\u001B[32m2024-07-13 13:22:42.113\u001B[0m | \u001B[1mINFO    \u001B[0m | \u001B[36m__main__\u001B[0m:\u001B[36m<module>\u001B[0m:\u001B[36m6\u001B[0m - \u001B[1mWhat does soil in organic plots contain?\u001B[0m\n",
      "\u001B[32m2024-07-13 13:22:42.113\u001B[0m | \u001B[1mINFO    \u001B[0m | \u001B[36m__main__\u001B[0m:\u001B[36m<module>\u001B[0m:\u001B[36m6\u001B[0m - \u001B[1m3 out of 4 Americans buy organic food at least occasionally\u001B[0m\n",
      "\u001B[32m2024-07-13 13:22:42.113\u001B[0m | \u001B[1mINFO    \u001B[0m | \u001B[36m__main__\u001B[0m:\u001B[36m<module>\u001B[0m:\u001B[36m6\u001B[0m - \u001B[1mWhat are the farmer benefits?\u001B[0m\n",
      "\u001B[32m2024-07-13 13:22:42.113\u001B[0m | \u001B[1mINFO    \u001B[0m | \u001B[36m__main__\u001B[0m:\u001B[36m<module>\u001B[0m:\u001B[36m6\u001B[0m - \u001B[1mWhat are the farmer risks?\u001B[0m\n",
      "\u001B[32m2024-07-13 13:22:42.113\u001B[0m | \u001B[1mINFO    \u001B[0m | \u001B[36m__main__\u001B[0m:\u001B[36m<module>\u001B[0m:\u001B[36m6\u001B[0m - \u001B[1mWhat are the obstacles for consumers?\u001B[0m\n",
      "\u001B[32m2024-07-13 13:22:42.113\u001B[0m | \u001B[1mINFO    \u001B[0m | \u001B[36m__main__\u001B[0m:\u001B[36m<module>\u001B[0m:\u001B[36m6\u001B[0m - \u001B[1mWhat is terracing\u001B[0m\n",
      "\u001B[32m2024-07-13 13:22:42.113\u001B[0m | \u001B[1mINFO    \u001B[0m | \u001B[36m__main__\u001B[0m:\u001B[36m<module>\u001B[0m:\u001B[36m6\u001B[0m - \u001B[1mpeople think that \"tinkering\" with food but other fear that food supply is dominated by large corporations\u001B[0m\n",
      "\u001B[32m2024-07-13 13:22:42.124\u001B[0m | \u001B[1mINFO    \u001B[0m | \u001B[36m__main__\u001B[0m:\u001B[36m<module>\u001B[0m:\u001B[36m6\u001B[0m - \u001B[1mgm foos resistance to the week killer is being documented\u001B[0m\n",
      "\u001B[32m2024-07-13 13:22:42.124\u001B[0m | \u001B[1mINFO    \u001B[0m | \u001B[36m__main__\u001B[0m:\u001B[36m<module>\u001B[0m:\u001B[36m6\u001B[0m - \u001B[1mWhen dod the dust bowl took place?\u001B[0m\n"
     ]
    },
    {
     "name": "stdout",
     "output_type": "stream",
     "text": [
      "[1, 1, 1, 1, 1, 1, 1, 1, 1, 1, 1, 1, 0, 1, 1, 1, 0, 0, 1, 1, 1]\n"
     ]
    }
   ],
   "execution_count": 8
  },
  {
   "metadata": {},
   "cell_type": "markdown",
   "source": "",
   "id": "4e1451ddfe56c66"
  },
  {
   "metadata": {},
   "cell_type": "markdown",
   "source": "# LLM Long Summary",
   "id": "7b24d14ced6b0717"
  },
  {
   "metadata": {
    "ExecuteTime": {
     "end_time": "2024-07-13T11:22:42.154516Z",
     "start_time": "2024-07-13T11:22:42.133913Z"
    }
   },
   "cell_type": "code",
   "source": [
    "# read data from csv file\n",
    "notebook_path = Path().resolve().parent\n",
    "print(notebook_path)\n",
    "\n",
    "# Construct the filename relative to the new path\n",
    "filename = notebook_path / \"notebooks/new_data/df_standard_llm_long_summary_ch7.csv\"\n",
    "df_long_summary = pd.read_csv(filename)\n",
    "df_long_summary.head()"
   ],
   "id": "80db1f084d7a50c0",
   "outputs": [
    {
     "name": "stdout",
     "output_type": "stream",
     "text": [
      "C:\\Users\\baatout\\PycharmProjects\\afm-vlm\\experiments\\second_experiment\n"
     ]
    },
    {
     "data": {
      "text/plain": [
       "                                              Prompt  GT_Keyframe  Top_1  \\\n",
       "0                                 What are feedlots?           47     47   \n",
       "1                                What is weathering?           17     27   \n",
       "2  What is desertification and how much productiv...           22     22   \n",
       "3  What is the conservation reserve programm of 1...           29     31   \n",
       "4          GM crops today are engineered to resist:            56     56   \n",
       "\n",
       "   Top_2  Top_3  \n",
       "0     48     54  \n",
       "1     26     23  \n",
       "2     29     21  \n",
       "3     24     72  \n",
       "4     11     58  "
      ],
      "text/html": [
       "<div>\n",
       "<style scoped>\n",
       "    .dataframe tbody tr th:only-of-type {\n",
       "        vertical-align: middle;\n",
       "    }\n",
       "\n",
       "    .dataframe tbody tr th {\n",
       "        vertical-align: top;\n",
       "    }\n",
       "\n",
       "    .dataframe thead th {\n",
       "        text-align: right;\n",
       "    }\n",
       "</style>\n",
       "<table border=\"1\" class=\"dataframe\">\n",
       "  <thead>\n",
       "    <tr style=\"text-align: right;\">\n",
       "      <th></th>\n",
       "      <th>Prompt</th>\n",
       "      <th>GT_Keyframe</th>\n",
       "      <th>Top_1</th>\n",
       "      <th>Top_2</th>\n",
       "      <th>Top_3</th>\n",
       "    </tr>\n",
       "  </thead>\n",
       "  <tbody>\n",
       "    <tr>\n",
       "      <th>0</th>\n",
       "      <td>What are feedlots?</td>\n",
       "      <td>47</td>\n",
       "      <td>47</td>\n",
       "      <td>48</td>\n",
       "      <td>54</td>\n",
       "    </tr>\n",
       "    <tr>\n",
       "      <th>1</th>\n",
       "      <td>What is weathering?</td>\n",
       "      <td>17</td>\n",
       "      <td>27</td>\n",
       "      <td>26</td>\n",
       "      <td>23</td>\n",
       "    </tr>\n",
       "    <tr>\n",
       "      <th>2</th>\n",
       "      <td>What is desertification and how much productiv...</td>\n",
       "      <td>22</td>\n",
       "      <td>22</td>\n",
       "      <td>29</td>\n",
       "      <td>21</td>\n",
       "    </tr>\n",
       "    <tr>\n",
       "      <th>3</th>\n",
       "      <td>What is the conservation reserve programm of 1...</td>\n",
       "      <td>29</td>\n",
       "      <td>31</td>\n",
       "      <td>24</td>\n",
       "      <td>72</td>\n",
       "    </tr>\n",
       "    <tr>\n",
       "      <th>4</th>\n",
       "      <td>GM crops today are engineered to resist:</td>\n",
       "      <td>56</td>\n",
       "      <td>56</td>\n",
       "      <td>11</td>\n",
       "      <td>58</td>\n",
       "    </tr>\n",
       "  </tbody>\n",
       "</table>\n",
       "</div>"
      ]
     },
     "execution_count": 9,
     "metadata": {},
     "output_type": "execute_result"
    }
   ],
   "execution_count": 9
  },
  {
   "metadata": {
    "ExecuteTime": {
     "end_time": "2024-07-13T11:22:42.369280Z",
     "start_time": "2024-07-13T11:22:42.156248Z"
    }
   },
   "cell_type": "code",
   "source": [
    "# call\n",
    "calculate_and_plot_gt_keyframe_percentage(df_long_summary)"
   ],
   "id": "6efa71b20ff7e470",
   "outputs": [
    {
     "name": "stdout",
     "output_type": "stream",
     "text": [
      "GT_Keyframe in Top 1: 71.43%\n",
      "GT_Keyframe in Top 2: 4.76%\n",
      "GT_Keyframe in Top 3: 4.76%\n"
     ]
    },
    {
     "data": {
      "text/plain": [
       "<Figure size 1000x600 with 0 Axes>"
      ]
     },
     "metadata": {},
     "output_type": "display_data"
    },
    {
     "data": {
      "text/plain": [
       "<Figure size 800x500 with 1 Axes>"
      ],
      "image/png": "[encoded data removed]"
     },
     "metadata": {},
     "output_type": "display_data"
    }
   ],
   "execution_count": 10
  },
  {
   "metadata": {},
   "cell_type": "markdown",
   "source": "",
   "id": "15dd2fbc69921133"
  },
  {
   "metadata": {
    "ExecuteTime": {
     "end_time": "2024-07-13T11:22:42.462191Z",
     "start_time": "2024-07-13T11:22:42.369280Z"
    }
   },
   "cell_type": "code",
   "source": [
    "# iterate through data frame \n",
    "df = df_long_summary\n",
    "res = []\n",
    "for _, row in df.iterrows():\n",
    "        logger.info(row['Prompt'])\n",
    "        gt_keyframe = row['GT_Keyframe']\n",
    "        prox =check_proximity_keyframes(gt_keyframe)\n",
    "        res.append(prox)\n",
    "\n",
    "prox_yes_no = []\n",
    "for i, row in df.iterrows():\n",
    "    if row['Top_1'] in res[i] or row['Top_2'] in res[i] or row['Top_3'] in res[i]: \n",
    "        prox_yes_no.append(1)\n",
    "    else: \n",
    "        prox_yes_no.append(0)\n",
    "\n",
    "print(prox_yes_no)"
   ],
   "id": "1e5707a909f3b6fa",
   "outputs": [
    {
     "name": "stderr",
     "output_type": "stream",
     "text": [
      "\u001B[32m2024-07-13 13:22:42.373\u001B[0m | \u001B[1mINFO    \u001B[0m | \u001B[36m__main__\u001B[0m:\u001B[36m<module>\u001B[0m:\u001B[36m5\u001B[0m - \u001B[1mWhat are feedlots?\u001B[0m\n",
      "\u001B[32m2024-07-13 13:22:42.376\u001B[0m | \u001B[1mINFO    \u001B[0m | \u001B[36m__main__\u001B[0m:\u001B[36m<module>\u001B[0m:\u001B[36m5\u001B[0m - \u001B[1mWhat is weathering?\u001B[0m\n",
      "\u001B[32m2024-07-13 13:22:42.376\u001B[0m | \u001B[1mINFO    \u001B[0m | \u001B[36m__main__\u001B[0m:\u001B[36m<module>\u001B[0m:\u001B[36m5\u001B[0m - \u001B[1mWhat is desertification and how much productivity loss does it cause to arid lands?\u001B[0m\n",
      "\u001B[32m2024-07-13 13:22:42.376\u001B[0m | \u001B[1mINFO    \u001B[0m | \u001B[36m__main__\u001B[0m:\u001B[36m<module>\u001B[0m:\u001B[36m5\u001B[0m - \u001B[1mWhat is the conservation reserve programm of 1985?\u001B[0m\n",
      "\u001B[32m2024-07-13 13:22:42.376\u001B[0m | \u001B[1mINFO    \u001B[0m | \u001B[36m__main__\u001B[0m:\u001B[36m<module>\u001B[0m:\u001B[36m5\u001B[0m - \u001B[1mGM crops today are engineered to resist: \u001B[0m\n",
      "\u001B[32m2024-07-13 13:22:42.376\u001B[0m | \u001B[1mINFO    \u001B[0m | \u001B[36m__main__\u001B[0m:\u001B[36m<module>\u001B[0m:\u001B[36m5\u001B[0m - \u001B[1m90% of energy is lost from one trophic level to the next\u001B[0m\n",
      "\u001B[32m2024-07-13 13:22:42.376\u001B[0m | \u001B[1mINFO    \u001B[0m | \u001B[36m__main__\u001B[0m:\u001B[36m<module>\u001B[0m:\u001B[36m5\u001B[0m - \u001B[1mRisks of biocontrol?\u001B[0m\n",
      "\u001B[32m2024-07-13 13:22:42.376\u001B[0m | \u001B[1mINFO    \u001B[0m | \u001B[36m__main__\u001B[0m:\u001B[36m<module>\u001B[0m:\u001B[36m5\u001B[0m - \u001B[1mAs the populations increases pesticides lose their effectiveness\u001B[0m\n",
      "\u001B[32m2024-07-13 13:22:42.376\u001B[0m | \u001B[1mINFO    \u001B[0m | \u001B[36m__main__\u001B[0m:\u001B[36m<module>\u001B[0m:\u001B[36m5\u001B[0m - \u001B[1mSubstainable fertilizer use involves monitoring and targeting nutriets\u001B[0m\n",
      "\u001B[32m2024-07-13 13:22:42.376\u001B[0m | \u001B[1mINFO    \u001B[0m | \u001B[36m__main__\u001B[0m:\u001B[36m<module>\u001B[0m:\u001B[36m5\u001B[0m - \u001B[1mWhat is overgrazing?\u001B[0m\n",
      "\u001B[32m2024-07-13 13:22:42.376\u001B[0m | \u001B[1mINFO    \u001B[0m | \u001B[36m__main__\u001B[0m:\u001B[36m<module>\u001B[0m:\u001B[36m5\u001B[0m - \u001B[1mWhy does the USDA issues labels?\u001B[0m\n",
      "\u001B[32m2024-07-13 13:22:42.376\u001B[0m | \u001B[1mINFO    \u001B[0m | \u001B[36m__main__\u001B[0m:\u001B[36m<module>\u001B[0m:\u001B[36m5\u001B[0m - \u001B[1mHow productive is organic farming?\u001B[0m\n",
      "\u001B[32m2024-07-13 13:22:42.376\u001B[0m | \u001B[1mINFO    \u001B[0m | \u001B[36m__main__\u001B[0m:\u001B[36m<module>\u001B[0m:\u001B[36m5\u001B[0m - \u001B[1mWhat does soil in organic plots contain?\u001B[0m\n",
      "\u001B[32m2024-07-13 13:22:42.389\u001B[0m | \u001B[1mINFO    \u001B[0m | \u001B[36m__main__\u001B[0m:\u001B[36m<module>\u001B[0m:\u001B[36m5\u001B[0m - \u001B[1m3 out of 4 Americans buy organic food at least occasionally\u001B[0m\n",
      "\u001B[32m2024-07-13 13:22:42.389\u001B[0m | \u001B[1mINFO    \u001B[0m | \u001B[36m__main__\u001B[0m:\u001B[36m<module>\u001B[0m:\u001B[36m5\u001B[0m - \u001B[1mWhat are the farmer benefits?\u001B[0m\n",
      "\u001B[32m2024-07-13 13:22:42.389\u001B[0m | \u001B[1mINFO    \u001B[0m | \u001B[36m__main__\u001B[0m:\u001B[36m<module>\u001B[0m:\u001B[36m5\u001B[0m - \u001B[1mWhat are the farmer risks?\u001B[0m\n",
      "\u001B[32m2024-07-13 13:22:42.389\u001B[0m | \u001B[1mINFO    \u001B[0m | \u001B[36m__main__\u001B[0m:\u001B[36m<module>\u001B[0m:\u001B[36m5\u001B[0m - \u001B[1mWhat are the obstacles for consumers?\u001B[0m\n",
      "\u001B[32m2024-07-13 13:22:42.389\u001B[0m | \u001B[1mINFO    \u001B[0m | \u001B[36m__main__\u001B[0m:\u001B[36m<module>\u001B[0m:\u001B[36m5\u001B[0m - \u001B[1mWhat is terracing\u001B[0m\n",
      "\u001B[32m2024-07-13 13:22:42.389\u001B[0m | \u001B[1mINFO    \u001B[0m | \u001B[36m__main__\u001B[0m:\u001B[36m<module>\u001B[0m:\u001B[36m5\u001B[0m - \u001B[1mpeople think that \"tinkering\" with food but other fear that food supply is dominated by large corporations\u001B[0m\n",
      "\u001B[32m2024-07-13 13:22:42.389\u001B[0m | \u001B[1mINFO    \u001B[0m | \u001B[36m__main__\u001B[0m:\u001B[36m<module>\u001B[0m:\u001B[36m5\u001B[0m - \u001B[1mgm foos resistance to the week killer is being documented\u001B[0m\n",
      "\u001B[32m2024-07-13 13:22:42.389\u001B[0m | \u001B[1mINFO    \u001B[0m | \u001B[36m__main__\u001B[0m:\u001B[36m<module>\u001B[0m:\u001B[36m5\u001B[0m - \u001B[1mWhen dod the dust bowl took place?\u001B[0m\n"
     ]
    },
    {
     "name": "stdout",
     "output_type": "stream",
     "text": [
      "[1, 0, 1, 1, 1, 1, 1, 1, 1, 1, 1, 1, 0, 1, 1, 1, 0, 1, 1, 1, 1]\n"
     ]
    }
   ],
   "execution_count": 11
  },
  {
   "metadata": {},
   "cell_type": "markdown",
   "source": "# OCR TRANSCRIPTIONS ",
   "id": "e93e5e5fc5c70dfc"
  },
  {
   "metadata": {
    "ExecuteTime": {
     "end_time": "2024-07-13T11:22:42.484828Z",
     "start_time": "2024-07-13T11:22:42.462191Z"
    }
   },
   "cell_type": "code",
   "source": [
    "filename = notebook_path / \"notebooks/new_data/df_standard_df_ocr_transcriptions_ch7.csv\"\n",
    "\n",
    "df_ocr_transcriptions = pd.read_csv(filename)\n",
    "df_ocr_transcriptions.head()"
   ],
   "id": "ea27443f9c013f6e",
   "outputs": [
    {
     "data": {
      "text/plain": [
       "                                              Prompt  GT_Keyframe  Top_1  \\\n",
       "0                                 What are feedlots?           47     47   \n",
       "1                                What is weathering?           17     19   \n",
       "2  What is desertification and how much productiv...           22     22   \n",
       "3  What is the conservation reserve programm of 1...           29     31   \n",
       "4          GM crops today are engineered to resist:            56     56   \n",
       "\n",
       "   Top_2  Top_3  \n",
       "0     48     17  \n",
       "1     27     21  \n",
       "2     21     20  \n",
       "3     24     26  \n",
       "4     11     60  "
      ],
      "text/html": [
       "<div>\n",
       "<style scoped>\n",
       "    .dataframe tbody tr th:only-of-type {\n",
       "        vertical-align: middle;\n",
       "    }\n",
       "\n",
       "    .dataframe tbody tr th {\n",
       "        vertical-align: top;\n",
       "    }\n",
       "\n",
       "    .dataframe thead th {\n",
       "        text-align: right;\n",
       "    }\n",
       "</style>\n",
       "<table border=\"1\" class=\"dataframe\">\n",
       "  <thead>\n",
       "    <tr style=\"text-align: right;\">\n",
       "      <th></th>\n",
       "      <th>Prompt</th>\n",
       "      <th>GT_Keyframe</th>\n",
       "      <th>Top_1</th>\n",
       "      <th>Top_2</th>\n",
       "      <th>Top_3</th>\n",
       "    </tr>\n",
       "  </thead>\n",
       "  <tbody>\n",
       "    <tr>\n",
       "      <th>0</th>\n",
       "      <td>What are feedlots?</td>\n",
       "      <td>47</td>\n",
       "      <td>47</td>\n",
       "      <td>48</td>\n",
       "      <td>17</td>\n",
       "    </tr>\n",
       "    <tr>\n",
       "      <th>1</th>\n",
       "      <td>What is weathering?</td>\n",
       "      <td>17</td>\n",
       "      <td>19</td>\n",
       "      <td>27</td>\n",
       "      <td>21</td>\n",
       "    </tr>\n",
       "    <tr>\n",
       "      <th>2</th>\n",
       "      <td>What is desertification and how much productiv...</td>\n",
       "      <td>22</td>\n",
       "      <td>22</td>\n",
       "      <td>21</td>\n",
       "      <td>20</td>\n",
       "    </tr>\n",
       "    <tr>\n",
       "      <th>3</th>\n",
       "      <td>What is the conservation reserve programm of 1...</td>\n",
       "      <td>29</td>\n",
       "      <td>31</td>\n",
       "      <td>24</td>\n",
       "      <td>26</td>\n",
       "    </tr>\n",
       "    <tr>\n",
       "      <th>4</th>\n",
       "      <td>GM crops today are engineered to resist:</td>\n",
       "      <td>56</td>\n",
       "      <td>56</td>\n",
       "      <td>11</td>\n",
       "      <td>60</td>\n",
       "    </tr>\n",
       "  </tbody>\n",
       "</table>\n",
       "</div>"
      ]
     },
     "execution_count": 12,
     "metadata": {},
     "output_type": "execute_result"
    }
   ],
   "execution_count": 12
  },
  {
   "metadata": {
    "ExecuteTime": {
     "end_time": "2024-07-13T11:22:42.787053Z",
     "start_time": "2024-07-13T11:22:42.484828Z"
    }
   },
   "cell_type": "code",
   "source": [
    "# call\n",
    "calculate_and_plot_gt_keyframe_percentage(df_ocr_transcriptions)"
   ],
   "id": "199142302befe683",
   "outputs": [
    {
     "name": "stdout",
     "output_type": "stream",
     "text": [
      "GT_Keyframe in Top 1: 66.67%\n",
      "GT_Keyframe in Top 2: 9.52%\n",
      "GT_Keyframe in Top 3: 4.76%\n"
     ]
    },
    {
     "data": {
      "text/plain": [
       "<Figure size 1000x600 with 0 Axes>"
      ]
     },
     "metadata": {},
     "output_type": "display_data"
    },
    {
     "data": {
      "text/plain": [
       "<Figure size 800x500 with 1 Axes>"
      ],
      "image/png": "[encoded data removed]"
     },
     "metadata": {},
     "output_type": "display_data"
    }
   ],
   "execution_count": 13
  },
  {
   "metadata": {
    "ExecuteTime": {
     "end_time": "2024-07-13T11:22:42.841458Z",
     "start_time": "2024-07-13T11:22:42.787053Z"
    }
   },
   "cell_type": "code",
   "source": [
    "df = df_ocr_transcriptions\n",
    "res = []\n",
    "for _, row in df.iterrows():\n",
    "        logger.info(row['Prompt'])\n",
    "        gt_keyframe = row['GT_Keyframe']\n",
    "        prox =check_proximity_keyframes(gt_keyframe)\n",
    "        res.append(prox)\n",
    "\n",
    "prox_yes_no = []\n",
    "for i, row in df.iterrows():\n",
    "    if row['Top_1'] in res[i] or row['Top_2'] in res[i] or row['Top_3'] in res[i]: \n",
    "        prox_yes_no.append(1)\n",
    "    else: \n",
    "        prox_yes_no.append(0)\n",
    "\n",
    "print(prox_yes_no)"
   ],
   "id": "7e6aea4159f6f7a0",
   "outputs": [
    {
     "name": "stderr",
     "output_type": "stream",
     "text": [
      "\u001B[32m2024-07-13 13:22:42.794\u001B[0m | \u001B[1mINFO    \u001B[0m | \u001B[36m__main__\u001B[0m:\u001B[36m<module>\u001B[0m:\u001B[36m4\u001B[0m - \u001B[1mWhat are feedlots?\u001B[0m\n",
      "\u001B[32m2024-07-13 13:22:42.794\u001B[0m | \u001B[1mINFO    \u001B[0m | \u001B[36m__main__\u001B[0m:\u001B[36m<module>\u001B[0m:\u001B[36m4\u001B[0m - \u001B[1mWhat is weathering?\u001B[0m\n",
      "\u001B[32m2024-07-13 13:22:42.794\u001B[0m | \u001B[1mINFO    \u001B[0m | \u001B[36m__main__\u001B[0m:\u001B[36m<module>\u001B[0m:\u001B[36m4\u001B[0m - \u001B[1mWhat is desertification and how much productivity loss does it cause to arid lands?\u001B[0m\n",
      "\u001B[32m2024-07-13 13:22:42.794\u001B[0m | \u001B[1mINFO    \u001B[0m | \u001B[36m__main__\u001B[0m:\u001B[36m<module>\u001B[0m:\u001B[36m4\u001B[0m - \u001B[1mWhat is the conservation reserve programm of 1985?\u001B[0m\n",
      "\u001B[32m2024-07-13 13:22:42.794\u001B[0m | \u001B[1mINFO    \u001B[0m | \u001B[36m__main__\u001B[0m:\u001B[36m<module>\u001B[0m:\u001B[36m4\u001B[0m - \u001B[1mGM crops today are engineered to resist: \u001B[0m\n",
      "\u001B[32m2024-07-13 13:22:42.794\u001B[0m | \u001B[1mINFO    \u001B[0m | \u001B[36m__main__\u001B[0m:\u001B[36m<module>\u001B[0m:\u001B[36m4\u001B[0m - \u001B[1m90% of energy is lost from one trophic level to the next\u001B[0m\n",
      "\u001B[32m2024-07-13 13:22:42.810\u001B[0m | \u001B[1mINFO    \u001B[0m | \u001B[36m__main__\u001B[0m:\u001B[36m<module>\u001B[0m:\u001B[36m4\u001B[0m - \u001B[1mRisks of biocontrol?\u001B[0m\n",
      "\u001B[32m2024-07-13 13:22:42.810\u001B[0m | \u001B[1mINFO    \u001B[0m | \u001B[36m__main__\u001B[0m:\u001B[36m<module>\u001B[0m:\u001B[36m4\u001B[0m - \u001B[1mAs the populations increases pesticides lose their effectiveness\u001B[0m\n",
      "\u001B[32m2024-07-13 13:22:42.810\u001B[0m | \u001B[1mINFO    \u001B[0m | \u001B[36m__main__\u001B[0m:\u001B[36m<module>\u001B[0m:\u001B[36m4\u001B[0m - \u001B[1mSubstainable fertilizer use involves monitoring and targeting nutriets\u001B[0m\n",
      "\u001B[32m2024-07-13 13:22:42.815\u001B[0m | \u001B[1mINFO    \u001B[0m | \u001B[36m__main__\u001B[0m:\u001B[36m<module>\u001B[0m:\u001B[36m4\u001B[0m - \u001B[1mWhat is overgrazing?\u001B[0m\n",
      "\u001B[32m2024-07-13 13:22:42.815\u001B[0m | \u001B[1mINFO    \u001B[0m | \u001B[36m__main__\u001B[0m:\u001B[36m<module>\u001B[0m:\u001B[36m4\u001B[0m - \u001B[1mWhy does the USDA issues labels?\u001B[0m\n",
      "\u001B[32m2024-07-13 13:22:42.815\u001B[0m | \u001B[1mINFO    \u001B[0m | \u001B[36m__main__\u001B[0m:\u001B[36m<module>\u001B[0m:\u001B[36m4\u001B[0m - \u001B[1mHow productive is organic farming?\u001B[0m\n",
      "\u001B[32m2024-07-13 13:22:42.815\u001B[0m | \u001B[1mINFO    \u001B[0m | \u001B[36m__main__\u001B[0m:\u001B[36m<module>\u001B[0m:\u001B[36m4\u001B[0m - \u001B[1mWhat does soil in organic plots contain?\u001B[0m\n",
      "\u001B[32m2024-07-13 13:22:42.815\u001B[0m | \u001B[1mINFO    \u001B[0m | \u001B[36m__main__\u001B[0m:\u001B[36m<module>\u001B[0m:\u001B[36m4\u001B[0m - \u001B[1m3 out of 4 Americans buy organic food at least occasionally\u001B[0m\n",
      "\u001B[32m2024-07-13 13:22:42.826\u001B[0m | \u001B[1mINFO    \u001B[0m | \u001B[36m__main__\u001B[0m:\u001B[36m<module>\u001B[0m:\u001B[36m4\u001B[0m - \u001B[1mWhat are the farmer benefits?\u001B[0m\n",
      "\u001B[32m2024-07-13 13:22:42.826\u001B[0m | \u001B[1mINFO    \u001B[0m | \u001B[36m__main__\u001B[0m:\u001B[36m<module>\u001B[0m:\u001B[36m4\u001B[0m - \u001B[1mWhat are the farmer risks?\u001B[0m\n",
      "\u001B[32m2024-07-13 13:22:42.826\u001B[0m | \u001B[1mINFO    \u001B[0m | \u001B[36m__main__\u001B[0m:\u001B[36m<module>\u001B[0m:\u001B[36m4\u001B[0m - \u001B[1mWhat are the obstacles for consumers?\u001B[0m\n",
      "\u001B[32m2024-07-13 13:22:42.826\u001B[0m | \u001B[1mINFO    \u001B[0m | \u001B[36m__main__\u001B[0m:\u001B[36m<module>\u001B[0m:\u001B[36m4\u001B[0m - \u001B[1mWhat is terracing\u001B[0m\n",
      "\u001B[32m2024-07-13 13:22:42.826\u001B[0m | \u001B[1mINFO    \u001B[0m | \u001B[36m__main__\u001B[0m:\u001B[36m<module>\u001B[0m:\u001B[36m4\u001B[0m - \u001B[1mpeople think that \"tinkering\" with food but other fear that food supply is dominated by large corporations\u001B[0m\n",
      "\u001B[32m2024-07-13 13:22:42.826\u001B[0m | \u001B[1mINFO    \u001B[0m | \u001B[36m__main__\u001B[0m:\u001B[36m<module>\u001B[0m:\u001B[36m4\u001B[0m - \u001B[1mgm foos resistance to the week killer is being documented\u001B[0m\n",
      "\u001B[32m2024-07-13 13:22:42.826\u001B[0m | \u001B[1mINFO    \u001B[0m | \u001B[36m__main__\u001B[0m:\u001B[36m<module>\u001B[0m:\u001B[36m4\u001B[0m - \u001B[1mWhen dod the dust bowl took place?\u001B[0m\n"
     ]
    },
    {
     "name": "stdout",
     "output_type": "stream",
     "text": [
      "[1, 1, 1, 1, 1, 1, 1, 1, 1, 1, 1, 1, 0, 1, 1, 1, 0, 1, 1, 1, 1]\n"
     ]
    }
   ],
   "execution_count": 14
  },
  {
   "metadata": {
    "ExecuteTime": {
     "end_time": "2024-07-13T11:22:42.848542Z",
     "start_time": "2024-07-13T11:22:42.841458Z"
    }
   },
   "cell_type": "code",
   "source": "",
   "id": "db7da707ad314ac7",
   "outputs": [],
   "execution_count": 14
  }
 ],
 "metadata": {
  "kernelspec": {
   "display_name": "Python 3",
   "language": "python",
   "name": "python3"
  },
  "language_info": {
   "codemirror_mode": {
    "name": "ipython",
    "version": 2
   },
   "file_extension": ".py",
   "mimetype": "text/x-python",
   "name": "python",
   "nbconvert_exporter": "python",
   "pygments_lexer": "ipython2",
   "version": "2.7.6"
  }
 },
 "nbformat": 4,
 "nbformat_minor": 5
}
