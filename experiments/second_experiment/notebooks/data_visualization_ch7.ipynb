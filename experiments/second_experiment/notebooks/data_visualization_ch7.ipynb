{
 "cells": [
  {
   "cell_type": "code",
   "execution_count": 98,
   "id": "initial_id",
   "metadata": {
    "ExecuteTime": {
     "end_time": "2024-07-14T15:54:45.345144Z",
     "start_time": "2024-07-14T15:54:45.337514Z"
    },
    "collapsed": true
   },
   "outputs": [],
   "source": [
    "import pandas as pd\n",
    "import matplotlib.pyplot as plt\n",
    "from pathlib import Path\n",
    "from loguru import logger"
   ]
  },
  {
   "cell_type": "markdown",
   "id": "5e64ba9cd139c77c",
   "metadata": {},
   "source": ""
  },
  {
   "cell_type": "markdown",
   "id": "e878cdd5850af551",
   "metadata": {},
   "source": "# OCR Only"
  },
  {
   "cell_type": "code",
   "execution_count": 99,
   "id": "d3c4ecf46b92093c",
   "metadata": {
    "ExecuteTime": {
     "end_time": "2024-07-14T15:54:45.471635Z",
     "start_time": "2024-07-14T15:54:45.459773Z"
    }
   },
   "outputs": [
    {
     "name": "stdout",
     "output_type": "stream",
     "text": [
      "C:\\Users\\baatout\\PycharmProjects\\afm-vlm\\experiments\\second_experiment\n",
      "                                               Prompt  GT_Keyframe  Top_1  \\\n",
      "0                                  What are feedlots?           47     47   \n",
      "1                                 What is weathering?           17     19   \n",
      "2   What is desertification and how much productiv...           22     22   \n",
      "3   What is the conservation reserve programm of 1...           29     31   \n",
      "4           GM crops today are engineered to resist:            56     56   \n",
      "5   90% of energy is lost from one trophic level t...           45     45   \n",
      "6                                Risks of biocontrol?           40     40   \n",
      "7   As the populations increases pesticides lose t...           38     39   \n",
      "8   Substainable fertilizer use involves monitorin...           36     36   \n",
      "9                                What is overgrazing?           29     21   \n",
      "10                   Why does the USDA issues labels?           71     63   \n",
      "11                 How productive is organic farming?           69     69   \n",
      "12           What does soil in organic plots contain?           68     18   \n",
      "13  3 out of 4 Americans buy organic food at least...           65     65   \n",
      "14                      What are the farmer benefits?           64     31   \n",
      "15                         What are the farmer risks?           64     64   \n",
      "16              What are the obstacles for consumers?           64     51   \n",
      "17                                  What is terracing           26     21   \n",
      "18  people think that \"tinkering\" with food but ot...           61     61   \n",
      "19  gm foos resistance to the week killer is being...           59     59   \n",
      "20                 When dod the dust bowl took place?           23     23   \n",
      "\n",
      "    Top_2  Top_3  \n",
      "0      48     18  \n",
      "1       1     23  \n",
      "2      23     20  \n",
      "3      24     27  \n",
      "4      11     60  \n",
      "5       6      3  \n",
      "6      62     59  \n",
      "7      38     58  \n",
      "8      35     34  \n",
      "9      50     29  \n",
      "10     71     66  \n",
      "11     67     65  \n",
      "12     17     16  \n",
      "13     63     64  \n",
      "14     30     64  \n",
      "15     48     30  \n",
      "16     50      5  \n",
      "17     22     18  \n",
      "18     14      4  \n",
      "19     60     56  \n",
      "20     12      1  \n"
     ]
    }
   ],
   "source": [
    "notebook_path = Path().resolve().parent\n",
    "print(notebook_path)\n",
    "\n",
    "# Construct the filename relative to the new path\n",
    "filename = notebook_path / \"notebooks/new_data/df_standard_ocr_only_ch7.csv\"\n",
    "\n",
    "# Read the CSV file\n",
    "df_standard_ocr_only = pd.read_csv(filename)\n",
    "print(df_standard_ocr_only)"
   ]
  },
  {
   "cell_type": "code",
   "execution_count": 100,
   "id": "b846df351a9ae529",
   "metadata": {
    "ExecuteTime": {
     "end_time": "2024-07-14T15:54:45.488598Z",
     "start_time": "2024-07-14T15:54:45.471635Z"
    }
   },
   "outputs": [],
   "source": [
    "import numpy as np\n",
    "\n",
    "\n",
    "def total_top_3_percentage_plot(\n",
    "    data_1, data_2, data_3, data_4, prox_1, prox_2, prox_3, prox_4\n",
    "):\n",
    "    def calculate_top_3_percentages(df):\n",
    "        total = len(df)\n",
    "        top_1_count = (df[\"GT_Keyframe\"] == df[\"Top_1\"]).sum()\n",
    "        top_2_count = (df[\"GT_Keyframe\"] == df[\"Top_2\"]).sum()\n",
    "        top_3_count = (df[\"GT_Keyframe\"] == df[\"Top_3\"]).sum()\n",
    "\n",
    "        top_1_percentage = (top_1_count / total) * 100\n",
    "        top_2_percentage = (top_2_count / total) * 100\n",
    "        top_3_percentage = (top_3_count / total) * 100\n",
    "\n",
    "        return top_1_percentage, top_2_percentage, top_3_percentage\n",
    "\n",
    "    def count(data):\n",
    "        count_greater_than_zero = sum(1 for x in data if x > 0)\n",
    "\n",
    "        # Calculate the total number of elements\n",
    "        total_elements = len(data)\n",
    "\n",
    "        # Calculate the percentage\n",
    "        percentage = (count_greater_than_zero / total_elements) * 100\n",
    "\n",
    "        return percentage\n",
    "\n",
    "    c_prox_1 = count(prox_1)\n",
    "    c_prox_2 = count(prox_2)\n",
    "    c_prox_3 = count(prox_3)\n",
    "    c_prox_4 = count(prox_4)\n",
    "\n",
    "    # Convert data to DataFrames\n",
    "    df1 = pd.DataFrame(data_1)\n",
    "    df2 = pd.DataFrame(data_2)\n",
    "    df3 = pd.DataFrame(data_3)\n",
    "    df4 = pd.DataFrame(data_4)\n",
    "\n",
    "    # Calculate percentages for each DataFrame\n",
    "    percentages_1 = calculate_top_3_percentages(df1)\n",
    "    percentages_2 = calculate_top_3_percentages(df2)\n",
    "    percentages_3 = calculate_top_3_percentages(df3)\n",
    "    percentages_4 = calculate_top_3_percentages(df4)\n",
    "\n",
    "    total_1 = sum(percentages_1)\n",
    "    total_2 = sum(percentages_2)\n",
    "    total_3 = sum(percentages_3)\n",
    "    total_4 = sum(percentages_4)\n",
    "\n",
    "    # Data for plotting\n",
    "    labels = [\"OCR Only\", \"OCR + LLaVa\", \"OCR + Transcriptions\", \"Extensive Summary\"]\n",
    "    percentages_group1 = [total_1, total_2, total_3, total_4]\n",
    "    percentages_group2 = [c_prox_1, c_prox_2, c_prox_3, c_prox_4]\n",
    "\n",
    "    x = np.arange(len(labels))  # Label locations\n",
    "    width = 0.35  # Width of the bars\n",
    "\n",
    "    # Create the plot\n",
    "    fig, ax = plt.subplots(figsize=(8, 5))\n",
    "\n",
    "    bars1 = ax.bar(\n",
    "        x - width / 2,\n",
    "        percentages_group1,\n",
    "        width,\n",
    "        label=\"Keyframe in Top 3 Positions\",\n",
    "        color=\"blue\",\n",
    "    )\n",
    "    bars2 = ax.bar(\n",
    "        x + width / 2,\n",
    "        percentages_group2,\n",
    "        width,\n",
    "        label=\"Keyframe in Proximity Set\",\n",
    "        color=\"green\",\n",
    "    )\n",
    "\n",
    "    # Add some text for labels, title and custom x-axis tick labels, etc.\n",
    "    ax.set_xlabel(\"Agriculture Lecture\")\n",
    "    ax.set_ylabel(\"Percentage\")\n",
    "    ax.set_title(\"Total Percentage of Extracted Keyframes to GT\")\n",
    "    ax.set_xticks(x)\n",
    "    ax.set_xticklabels(labels)\n",
    "    ax.legend()\n",
    "    # Save the plot\n",
    "    plt.savefig(\"total_top_3_percentage_plot_bar_ch7.png\")\n",
    "    # Show the plot\n",
    "    plt.show()"
   ]
  },
  {
   "cell_type": "code",
   "execution_count": 101,
   "id": "82146d58e9d5e12",
   "metadata": {
    "ExecuteTime": {
     "end_time": "2024-07-14T15:54:45.501615Z",
     "start_time": "2024-07-14T15:54:45.489405Z"
    }
   },
   "outputs": [],
   "source": [
    "def calculate_and_plot_gt_keyframe_percentage(data):\n",
    "    # Convert data to a DataFrame\n",
    "    df = pd.DataFrame(data)\n",
    "\n",
    "    # Plotting\n",
    "    plt.figure(figsize=(10, 6))\n",
    "\n",
    "    total = len(df)\n",
    "    top_1_count = 0\n",
    "    top_2_count = 0\n",
    "    top_3_count = 0\n",
    "\n",
    "    # Iterate through the DataFrame to count the occurrences\n",
    "    for index, row in df.iterrows():\n",
    "        if row[\"GT_Keyframe\"] == row[\"Top_1\"]:\n",
    "            top_1_count += 1\n",
    "        elif row[\"GT_Keyframe\"] == row[\"Top_2\"]:\n",
    "            top_2_count += 1\n",
    "        elif row[\"GT_Keyframe\"] == row[\"Top_3\"]:\n",
    "            top_3_count += 1\n",
    "\n",
    "    # Calculate percentages\n",
    "    top_1_percentage = (top_1_count / total) * 100\n",
    "    top_2_percentage = (top_2_count / total) * 100\n",
    "    top_3_percentage = (top_3_count / total) * 100\n",
    "\n",
    "    # Print the results\n",
    "    print(f\"GT_Keyframe in Top 1: {top_1_percentage:.2f}%\")\n",
    "    print(f\"GT_Keyframe in Top 2: {top_2_percentage:.2f}%\")\n",
    "    print(f\"GT_Keyframe in Top 3: {top_3_percentage:.2f}%\")\n",
    "\n",
    "    # Data for plotting\n",
    "    labels = [\"Top 1\", \"Top 2\", \"Top 3\"]\n",
    "    percentages = [top_1_percentage, top_2_percentage, top_3_percentage]\n",
    "\n",
    "    # Create the plot\n",
    "    plt.figure(figsize=(8, 5))\n",
    "    plt.bar(labels, percentages, color=[\"blue\", \"green\", \"red\"])\n",
    "    plt.xlabel(\"Position\")\n",
    "    plt.ylabel(\"Percentage\")\n",
    "    plt.title(\"Percentage of GT_Keyframe in Top Positions \\n (OCR Only)\")\n",
    "    plt.ylim(0, 100)\n",
    "\n",
    "\n",
    "img_paths = 150\n",
    "\n",
    "\n",
    "def check_proximity_keyframes(gt):\n",
    "    proximity_kf = []\n",
    "\n",
    "    # Define the boundaries for the image paths\n",
    "    max_index = img_paths - 1\n",
    "\n",
    "    if gt == 0:\n",
    "        logger.info(\"No proximity - Invalid GT\")\n",
    "    elif gt == 1:\n",
    "        proximity_kf.extend(range(1, 5))\n",
    "    elif gt >= max_index:\n",
    "        proximity_kf.extend(range(max_index, max_index - 5, -1))\n",
    "    else:\n",
    "        proximity_kf.extend([gt - 2, gt - 1, gt, gt + 1, gt + 2])\n",
    "\n",
    "    # Ensure all indexes are within valid range\n",
    "    proximity_kf = [i for i in proximity_kf if 0 <= i <= max_index]\n",
    "\n",
    "    return proximity_kf"
   ]
  },
  {
   "cell_type": "code",
   "execution_count": 102,
   "id": "f94dd6be045f015b",
   "metadata": {
    "ExecuteTime": {
     "end_time": "2024-07-14T15:54:45.693211Z",
     "start_time": "2024-07-14T15:54:45.504302Z"
    }
   },
   "outputs": [
    {
     "name": "stdout",
     "output_type": "stream",
     "text": [
      "GT_Keyframe in Top 1: 57.14%\n",
      "GT_Keyframe in Top 2: 9.52%\n",
      "GT_Keyframe in Top 3: 9.52%\n"
     ]
    },
    {
     "data": {
      "text/plain": [
       "<Figure size 1000x600 with 0 Axes>"
      ]
     },
     "metadata": {},
     "output_type": "display_data"
    },
    {
     "data": {
      "image/png": "[encoded data removed]",
      "text/plain": [
       "<Figure size 800x500 with 1 Axes>"
      ]
     },
     "metadata": {},
     "output_type": "display_data"
    }
   ],
   "source": [
    "# call\n",
    "calculate_and_plot_gt_keyframe_percentage(df_standard_ocr_only)"
   ]
  },
  {
   "cell_type": "code",
   "execution_count": 103,
   "id": "ed8ff162c4e509bd",
   "metadata": {
    "ExecuteTime": {
     "end_time": "2024-07-14T15:54:45.739917Z",
     "start_time": "2024-07-14T15:54:45.693211Z"
    }
   },
   "outputs": [
    {
     "name": "stderr",
     "output_type": "stream",
     "text": [
      "\u001b[32m2024-07-14 17:54:45.702\u001b[0m | \u001b[1mINFO    \u001b[0m | \u001b[36m__main__\u001b[0m:\u001b[36m<module>\u001b[0m:\u001b[36m5\u001b[0m - \u001b[1mWhat are feedlots?\u001b[0m\n",
      "\u001b[32m2024-07-14 17:54:45.704\u001b[0m | \u001b[1mINFO    \u001b[0m | \u001b[36m__main__\u001b[0m:\u001b[36m<module>\u001b[0m:\u001b[36m5\u001b[0m - \u001b[1mWhat is weathering?\u001b[0m\n",
      "\u001b[32m2024-07-14 17:54:45.704\u001b[0m | \u001b[1mINFO    \u001b[0m | \u001b[36m__main__\u001b[0m:\u001b[36m<module>\u001b[0m:\u001b[36m5\u001b[0m - \u001b[1mWhat is desertification and how much productivity loss does it cause to arid lands?\u001b[0m\n",
      "\u001b[32m2024-07-14 17:54:45.704\u001b[0m | \u001b[1mINFO    \u001b[0m | \u001b[36m__main__\u001b[0m:\u001b[36m<module>\u001b[0m:\u001b[36m5\u001b[0m - \u001b[1mWhat is the conservation reserve programm of 1985?\u001b[0m\n",
      "\u001b[32m2024-07-14 17:54:45.704\u001b[0m | \u001b[1mINFO    \u001b[0m | \u001b[36m__main__\u001b[0m:\u001b[36m<module>\u001b[0m:\u001b[36m5\u001b[0m - \u001b[1mGM crops today are engineered to resist: \u001b[0m\n",
      "\u001b[32m2024-07-14 17:54:45.711\u001b[0m | \u001b[1mINFO    \u001b[0m | \u001b[36m__main__\u001b[0m:\u001b[36m<module>\u001b[0m:\u001b[36m5\u001b[0m - \u001b[1m90% of energy is lost from one trophic level to the next\u001b[0m\n",
      "\u001b[32m2024-07-14 17:54:45.714\u001b[0m | \u001b[1mINFO    \u001b[0m | \u001b[36m__main__\u001b[0m:\u001b[36m<module>\u001b[0m:\u001b[36m5\u001b[0m - \u001b[1mRisks of biocontrol?\u001b[0m\n",
      "\u001b[32m2024-07-14 17:54:45.715\u001b[0m | \u001b[1mINFO    \u001b[0m | \u001b[36m__main__\u001b[0m:\u001b[36m<module>\u001b[0m:\u001b[36m5\u001b[0m - \u001b[1mAs the populations increases pesticides lose their effectiveness\u001b[0m\n",
      "\u001b[32m2024-07-14 17:54:45.717\u001b[0m | \u001b[1mINFO    \u001b[0m | \u001b[36m__main__\u001b[0m:\u001b[36m<module>\u001b[0m:\u001b[36m5\u001b[0m - \u001b[1mSubstainable fertilizer use involves monitoring and targeting nutriets\u001b[0m\n",
      "\u001b[32m2024-07-14 17:54:45.718\u001b[0m | \u001b[1mINFO    \u001b[0m | \u001b[36m__main__\u001b[0m:\u001b[36m<module>\u001b[0m:\u001b[36m5\u001b[0m - \u001b[1mWhat is overgrazing?\u001b[0m\n",
      "\u001b[32m2024-07-14 17:54:45.718\u001b[0m | \u001b[1mINFO    \u001b[0m | \u001b[36m__main__\u001b[0m:\u001b[36m<module>\u001b[0m:\u001b[36m5\u001b[0m - \u001b[1mWhy does the USDA issues labels?\u001b[0m\n",
      "\u001b[32m2024-07-14 17:54:45.718\u001b[0m | \u001b[1mINFO    \u001b[0m | \u001b[36m__main__\u001b[0m:\u001b[36m<module>\u001b[0m:\u001b[36m5\u001b[0m - \u001b[1mHow productive is organic farming?\u001b[0m\n",
      "\u001b[32m2024-07-14 17:54:45.722\u001b[0m | \u001b[1mINFO    \u001b[0m | \u001b[36m__main__\u001b[0m:\u001b[36m<module>\u001b[0m:\u001b[36m5\u001b[0m - \u001b[1mWhat does soil in organic plots contain?\u001b[0m\n",
      "\u001b[32m2024-07-14 17:54:45.722\u001b[0m | \u001b[1mINFO    \u001b[0m | \u001b[36m__main__\u001b[0m:\u001b[36m<module>\u001b[0m:\u001b[36m5\u001b[0m - \u001b[1m3 out of 4 Americans buy organic food at least occasionally\u001b[0m\n",
      "\u001b[32m2024-07-14 17:54:45.722\u001b[0m | \u001b[1mINFO    \u001b[0m | \u001b[36m__main__\u001b[0m:\u001b[36m<module>\u001b[0m:\u001b[36m5\u001b[0m - \u001b[1mWhat are the farmer benefits?\u001b[0m\n",
      "\u001b[32m2024-07-14 17:54:45.722\u001b[0m | \u001b[1mINFO    \u001b[0m | \u001b[36m__main__\u001b[0m:\u001b[36m<module>\u001b[0m:\u001b[36m5\u001b[0m - \u001b[1mWhat are the farmer risks?\u001b[0m\n",
      "\u001b[32m2024-07-14 17:54:45.722\u001b[0m | \u001b[1mINFO    \u001b[0m | \u001b[36m__main__\u001b[0m:\u001b[36m<module>\u001b[0m:\u001b[36m5\u001b[0m - \u001b[1mWhat are the obstacles for consumers?\u001b[0m\n",
      "\u001b[32m2024-07-14 17:54:45.722\u001b[0m | \u001b[1mINFO    \u001b[0m | \u001b[36m__main__\u001b[0m:\u001b[36m<module>\u001b[0m:\u001b[36m5\u001b[0m - \u001b[1mWhat is terracing\u001b[0m\n",
      "\u001b[32m2024-07-14 17:54:45.722\u001b[0m | \u001b[1mINFO    \u001b[0m | \u001b[36m__main__\u001b[0m:\u001b[36m<module>\u001b[0m:\u001b[36m5\u001b[0m - \u001b[1mpeople think that \"tinkering\" with food but other fear that food supply is dominated by large corporations\u001b[0m\n",
      "\u001b[32m2024-07-14 17:54:45.732\u001b[0m | \u001b[1mINFO    \u001b[0m | \u001b[36m__main__\u001b[0m:\u001b[36m<module>\u001b[0m:\u001b[36m5\u001b[0m - \u001b[1mgm foos resistance to the week killer is being documented\u001b[0m\n",
      "\u001b[32m2024-07-14 17:54:45.732\u001b[0m | \u001b[1mINFO    \u001b[0m | \u001b[36m__main__\u001b[0m:\u001b[36m<module>\u001b[0m:\u001b[36m5\u001b[0m - \u001b[1mWhen dod the dust bowl took place?\u001b[0m\n"
     ]
    },
    {
     "name": "stdout",
     "output_type": "stream",
     "text": [
      "[1, 1, 1, 1, 1, 1, 1, 1, 1, 3, 2, 1, 0, 1, 3, 1, 0, 0, 1, 1, 1]\n",
      "21\n"
     ]
    }
   ],
   "source": [
    "# iterate through data frame\n",
    "df = df_standard_ocr_only\n",
    "res = []\n",
    "for _, row in df.iterrows():\n",
    "    logger.info(row[\"Prompt\"])\n",
    "    gt_keyframe = row[\"GT_Keyframe\"]\n",
    "    prox = check_proximity_keyframes(gt_keyframe)\n",
    "    res.append(prox)\n",
    "\n",
    "prox_yes_no_ocr_only = []\n",
    "for i, row in df.iterrows():\n",
    "    if row[\"Top_1\"] in res[i]:\n",
    "        prox_yes_no_ocr_only.append(1)\n",
    "    elif row[\"Top_2\"] in res[i]:\n",
    "        prox_yes_no_ocr_only.append(2)\n",
    "    elif row[\"Top_3\"] in res[i]:\n",
    "        prox_yes_no_ocr_only.append(3)\n",
    "    else:\n",
    "        prox_yes_no_ocr_only.append(0)\n",
    "\n",
    "print(prox_yes_no_ocr_only)\n",
    "print(len(prox_yes_no_ocr_only))"
   ]
  },
  {
   "cell_type": "markdown",
   "id": "a2725d115684d053",
   "metadata": {},
   "source": ""
  },
  {
   "cell_type": "markdown",
   "id": "761615c516b3463",
   "metadata": {},
   "source": "# OCR LAVA"
  },
  {
   "cell_type": "code",
   "execution_count": 104,
   "id": "e8915696b5e8f18c",
   "metadata": {
    "ExecuteTime": {
     "end_time": "2024-07-14T15:54:45.754572Z",
     "start_time": "2024-07-14T15:54:45.739917Z"
    }
   },
   "outputs": [
    {
     "name": "stdout",
     "output_type": "stream",
     "text": [
      "C:\\Users\\baatout\\PycharmProjects\\afm-vlm\\experiments\\second_experiment\n"
     ]
    },
    {
     "data": {
      "text/html": [
       "<div>\n",
       "<style scoped>\n",
       "    .dataframe tbody tr th:only-of-type {\n",
       "        vertical-align: middle;\n",
       "    }\n",
       "\n",
       "    .dataframe tbody tr th {\n",
       "        vertical-align: top;\n",
       "    }\n",
       "\n",
       "    .dataframe thead th {\n",
       "        text-align: right;\n",
       "    }\n",
       "</style>\n",
       "<table border=\"1\" class=\"dataframe\">\n",
       "  <thead>\n",
       "    <tr style=\"text-align: right;\">\n",
       "      <th></th>\n",
       "      <th>Prompt</th>\n",
       "      <th>GT_Keyframe</th>\n",
       "      <th>Top_1</th>\n",
       "      <th>Top_2</th>\n",
       "      <th>Top_3</th>\n",
       "    </tr>\n",
       "  </thead>\n",
       "  <tbody>\n",
       "    <tr>\n",
       "      <th>0</th>\n",
       "      <td>What are feedlots?</td>\n",
       "      <td>47</td>\n",
       "      <td>47</td>\n",
       "      <td>54</td>\n",
       "      <td>48</td>\n",
       "    </tr>\n",
       "    <tr>\n",
       "      <th>1</th>\n",
       "      <td>What is weathering?</td>\n",
       "      <td>17</td>\n",
       "      <td>19</td>\n",
       "      <td>26</td>\n",
       "      <td>23</td>\n",
       "    </tr>\n",
       "    <tr>\n",
       "      <th>2</th>\n",
       "      <td>What is desertification and how much productiv...</td>\n",
       "      <td>22</td>\n",
       "      <td>22</td>\n",
       "      <td>20</td>\n",
       "      <td>32</td>\n",
       "    </tr>\n",
       "    <tr>\n",
       "      <th>3</th>\n",
       "      <td>What is the conservation reserve programm of 1...</td>\n",
       "      <td>29</td>\n",
       "      <td>31</td>\n",
       "      <td>24</td>\n",
       "      <td>27</td>\n",
       "    </tr>\n",
       "    <tr>\n",
       "      <th>4</th>\n",
       "      <td>GM crops today are engineered to resist:</td>\n",
       "      <td>56</td>\n",
       "      <td>56</td>\n",
       "      <td>11</td>\n",
       "      <td>60</td>\n",
       "    </tr>\n",
       "  </tbody>\n",
       "</table>\n",
       "</div>"
      ],
      "text/plain": [
       "                                              Prompt  GT_Keyframe  Top_1  \\\n",
       "0                                 What are feedlots?           47     47   \n",
       "1                                What is weathering?           17     19   \n",
       "2  What is desertification and how much productiv...           22     22   \n",
       "3  What is the conservation reserve programm of 1...           29     31   \n",
       "4          GM crops today are engineered to resist:            56     56   \n",
       "\n",
       "   Top_2  Top_3  \n",
       "0     54     48  \n",
       "1     26     23  \n",
       "2     20     32  \n",
       "3     24     27  \n",
       "4     11     60  "
      ]
     },
     "execution_count": 104,
     "metadata": {},
     "output_type": "execute_result"
    }
   ],
   "source": [
    "# read data from csv file\n",
    "notebook_path = Path().resolve().parent\n",
    "print(notebook_path)\n",
    "\n",
    "# Construct the filename relative to the new path\n",
    "filename = notebook_path / \"notebooks/new_data/df_standard_ocr_lava_ch7.csv\"\n",
    "df_ocr_lava = pd.read_csv(filename)\n",
    "df_ocr_lava.head()"
   ]
  },
  {
   "cell_type": "code",
   "execution_count": 105,
   "id": "3ab6719b348fd451",
   "metadata": {
    "ExecuteTime": {
     "end_time": "2024-07-14T15:54:45.952197Z",
     "start_time": "2024-07-14T15:54:45.754572Z"
    }
   },
   "outputs": [
    {
     "name": "stdout",
     "output_type": "stream",
     "text": [
      "GT_Keyframe in Top 1: 52.38%\n",
      "GT_Keyframe in Top 2: 14.29%\n",
      "GT_Keyframe in Top 3: 4.76%\n"
     ]
    },
    {
     "data": {
      "text/plain": [
       "<Figure size 1000x600 with 0 Axes>"
      ]
     },
     "metadata": {},
     "output_type": "display_data"
    },
    {
     "data": {
      "image/png": "[encoded data removed]",
      "text/plain": [
       "<Figure size 800x500 with 1 Axes>"
      ]
     },
     "metadata": {},
     "output_type": "display_data"
    }
   ],
   "source": [
    "# call\n",
    "calculate_and_plot_gt_keyframe_percentage(df_ocr_lava)"
   ]
  },
  {
   "cell_type": "code",
   "execution_count": 106,
   "id": "9df455fefb3a519a",
   "metadata": {
    "ExecuteTime": {
     "end_time": "2024-07-14T15:54:45.989985Z",
     "start_time": "2024-07-14T15:54:45.953809Z"
    }
   },
   "outputs": [
    {
     "name": "stderr",
     "output_type": "stream",
     "text": [
      "\u001b[32m2024-07-14 17:54:45.955\u001b[0m | \u001b[1mINFO    \u001b[0m | \u001b[36m__main__\u001b[0m:\u001b[36m<module>\u001b[0m:\u001b[36m6\u001b[0m - \u001b[1mWhat are feedlots?\u001b[0m\n",
      "\u001b[32m2024-07-14 17:54:45.959\u001b[0m | \u001b[1mINFO    \u001b[0m | \u001b[36m__main__\u001b[0m:\u001b[36m<module>\u001b[0m:\u001b[36m6\u001b[0m - \u001b[1mWhat is weathering?\u001b[0m\n",
      "\u001b[32m2024-07-14 17:54:45.961\u001b[0m | \u001b[1mINFO    \u001b[0m | \u001b[36m__main__\u001b[0m:\u001b[36m<module>\u001b[0m:\u001b[36m6\u001b[0m - \u001b[1mWhat is desertification and how much productivity loss does it cause to arid lands?\u001b[0m\n",
      "\u001b[32m2024-07-14 17:54:45.961\u001b[0m | \u001b[1mINFO    \u001b[0m | \u001b[36m__main__\u001b[0m:\u001b[36m<module>\u001b[0m:\u001b[36m6\u001b[0m - \u001b[1mWhat is the conservation reserve programm of 1985?\u001b[0m\n",
      "\u001b[32m2024-07-14 17:54:45.963\u001b[0m | \u001b[1mINFO    \u001b[0m | \u001b[36m__main__\u001b[0m:\u001b[36m<module>\u001b[0m:\u001b[36m6\u001b[0m - \u001b[1mGM crops today are engineered to resist: \u001b[0m\n",
      "\u001b[32m2024-07-14 17:54:45.965\u001b[0m | \u001b[1mINFO    \u001b[0m | \u001b[36m__main__\u001b[0m:\u001b[36m<module>\u001b[0m:\u001b[36m6\u001b[0m - \u001b[1m90% of energy is lost from one trophic level to the next\u001b[0m\n",
      "\u001b[32m2024-07-14 17:54:45.965\u001b[0m | \u001b[1mINFO    \u001b[0m | \u001b[36m__main__\u001b[0m:\u001b[36m<module>\u001b[0m:\u001b[36m6\u001b[0m - \u001b[1mRisks of biocontrol?\u001b[0m\n",
      "\u001b[32m2024-07-14 17:54:45.967\u001b[0m | \u001b[1mINFO    \u001b[0m | \u001b[36m__main__\u001b[0m:\u001b[36m<module>\u001b[0m:\u001b[36m6\u001b[0m - \u001b[1mAs the populations increases pesticides lose their effectiveness\u001b[0m\n",
      "\u001b[32m2024-07-14 17:54:45.967\u001b[0m | \u001b[1mINFO    \u001b[0m | \u001b[36m__main__\u001b[0m:\u001b[36m<module>\u001b[0m:\u001b[36m6\u001b[0m - \u001b[1mSubstainable fertilizer use involves monitoring and targeting nutriets\u001b[0m\n",
      "\u001b[32m2024-07-14 17:54:45.969\u001b[0m | \u001b[1mINFO    \u001b[0m | \u001b[36m__main__\u001b[0m:\u001b[36m<module>\u001b[0m:\u001b[36m6\u001b[0m - \u001b[1mWhat is overgrazing?\u001b[0m\n",
      "\u001b[32m2024-07-14 17:54:45.969\u001b[0m | \u001b[1mINFO    \u001b[0m | \u001b[36m__main__\u001b[0m:\u001b[36m<module>\u001b[0m:\u001b[36m6\u001b[0m - \u001b[1mWhy does the USDA issues labels?\u001b[0m\n",
      "\u001b[32m2024-07-14 17:54:45.972\u001b[0m | \u001b[1mINFO    \u001b[0m | \u001b[36m__main__\u001b[0m:\u001b[36m<module>\u001b[0m:\u001b[36m6\u001b[0m - \u001b[1mHow productive is organic farming?\u001b[0m\n",
      "\u001b[32m2024-07-14 17:54:45.972\u001b[0m | \u001b[1mINFO    \u001b[0m | \u001b[36m__main__\u001b[0m:\u001b[36m<module>\u001b[0m:\u001b[36m6\u001b[0m - \u001b[1mWhat does soil in organic plots contain?\u001b[0m\n",
      "\u001b[32m2024-07-14 17:54:45.972\u001b[0m | \u001b[1mINFO    \u001b[0m | \u001b[36m__main__\u001b[0m:\u001b[36m<module>\u001b[0m:\u001b[36m6\u001b[0m - \u001b[1m3 out of 4 Americans buy organic food at least occasionally\u001b[0m\n",
      "\u001b[32m2024-07-14 17:54:45.977\u001b[0m | \u001b[1mINFO    \u001b[0m | \u001b[36m__main__\u001b[0m:\u001b[36m<module>\u001b[0m:\u001b[36m6\u001b[0m - \u001b[1mWhat are the farmer benefits?\u001b[0m\n",
      "\u001b[32m2024-07-14 17:54:45.977\u001b[0m | \u001b[1mINFO    \u001b[0m | \u001b[36m__main__\u001b[0m:\u001b[36m<module>\u001b[0m:\u001b[36m6\u001b[0m - \u001b[1mWhat are the farmer risks?\u001b[0m\n",
      "\u001b[32m2024-07-14 17:54:45.977\u001b[0m | \u001b[1mINFO    \u001b[0m | \u001b[36m__main__\u001b[0m:\u001b[36m<module>\u001b[0m:\u001b[36m6\u001b[0m - \u001b[1mWhat are the obstacles for consumers?\u001b[0m\n",
      "\u001b[32m2024-07-14 17:54:45.977\u001b[0m | \u001b[1mINFO    \u001b[0m | \u001b[36m__main__\u001b[0m:\u001b[36m<module>\u001b[0m:\u001b[36m6\u001b[0m - \u001b[1mWhat is terracing\u001b[0m\n",
      "\u001b[32m2024-07-14 17:54:45.977\u001b[0m | \u001b[1mINFO    \u001b[0m | \u001b[36m__main__\u001b[0m:\u001b[36m<module>\u001b[0m:\u001b[36m6\u001b[0m - \u001b[1mpeople think that \"tinkering\" with food but other fear that food supply is dominated by large corporations\u001b[0m\n",
      "\u001b[32m2024-07-14 17:54:45.977\u001b[0m | \u001b[1mINFO    \u001b[0m | \u001b[36m__main__\u001b[0m:\u001b[36m<module>\u001b[0m:\u001b[36m6\u001b[0m - \u001b[1mgm foos resistance to the week killer is being documented\u001b[0m\n",
      "\u001b[32m2024-07-14 17:54:45.984\u001b[0m | \u001b[1mINFO    \u001b[0m | \u001b[36m__main__\u001b[0m:\u001b[36m<module>\u001b[0m:\u001b[36m6\u001b[0m - \u001b[1mWhen dod the dust bowl took place?\u001b[0m\n"
     ]
    },
    {
     "name": "stdout",
     "output_type": "stream",
     "text": [
      "[1, 1, 1, 1, 1, 1, 1, 1, 1, 2, 1, 1, 0, 1, 3, 2, 0, 0, 1, 1, 1]\n"
     ]
    }
   ],
   "source": [
    "# iterate through data frame\n",
    "df = df_ocr_lava\n",
    "# iterate through data frame\n",
    "res = []\n",
    "for _, row in df.iterrows():\n",
    "    logger.info(row[\"Prompt\"])\n",
    "    gt_keyframe = row[\"GT_Keyframe\"]\n",
    "    prox = check_proximity_keyframes(gt_keyframe)\n",
    "    res.append(prox)\n",
    "\n",
    "prox_yes_no_ocr_lava = []\n",
    "for i, row in df.iterrows():\n",
    "    if row[\"Top_1\"] in res[i]:\n",
    "        prox_yes_no_ocr_lava.append(1)\n",
    "    elif row[\"Top_2\"] in res[i]:\n",
    "        prox_yes_no_ocr_lava.append(2)\n",
    "    elif row[\"Top_3\"] in res[i]:\n",
    "        prox_yes_no_ocr_lava.append(3)\n",
    "    else:\n",
    "        prox_yes_no_ocr_lava.append(0)\n",
    "\n",
    "print(prox_yes_no_ocr_lava)"
   ]
  },
  {
   "cell_type": "markdown",
   "id": "4e1451ddfe56c66",
   "metadata": {},
   "source": ""
  },
  {
   "cell_type": "markdown",
   "id": "7b24d14ced6b0717",
   "metadata": {},
   "source": "# LLM Long Summary"
  },
  {
   "cell_type": "code",
   "execution_count": 107,
   "id": "80db1f084d7a50c0",
   "metadata": {
    "ExecuteTime": {
     "end_time": "2024-07-14T15:54:46.007651Z",
     "start_time": "2024-07-14T15:54:45.989985Z"
    }
   },
   "outputs": [
    {
     "name": "stdout",
     "output_type": "stream",
     "text": [
      "C:\\Users\\baatout\\PycharmProjects\\afm-vlm\\experiments\\second_experiment\n"
     ]
    },
    {
     "data": {
      "text/html": [
       "<div>\n",
       "<style scoped>\n",
       "    .dataframe tbody tr th:only-of-type {\n",
       "        vertical-align: middle;\n",
       "    }\n",
       "\n",
       "    .dataframe tbody tr th {\n",
       "        vertical-align: top;\n",
       "    }\n",
       "\n",
       "    .dataframe thead th {\n",
       "        text-align: right;\n",
       "    }\n",
       "</style>\n",
       "<table border=\"1\" class=\"dataframe\">\n",
       "  <thead>\n",
       "    <tr style=\"text-align: right;\">\n",
       "      <th></th>\n",
       "      <th>Prompt</th>\n",
       "      <th>GT_Keyframe</th>\n",
       "      <th>Top_1</th>\n",
       "      <th>Top_2</th>\n",
       "      <th>Top_3</th>\n",
       "    </tr>\n",
       "  </thead>\n",
       "  <tbody>\n",
       "    <tr>\n",
       "      <th>0</th>\n",
       "      <td>What are feedlots?</td>\n",
       "      <td>47</td>\n",
       "      <td>47</td>\n",
       "      <td>48</td>\n",
       "      <td>54</td>\n",
       "    </tr>\n",
       "    <tr>\n",
       "      <th>1</th>\n",
       "      <td>What is weathering?</td>\n",
       "      <td>17</td>\n",
       "      <td>27</td>\n",
       "      <td>26</td>\n",
       "      <td>23</td>\n",
       "    </tr>\n",
       "    <tr>\n",
       "      <th>2</th>\n",
       "      <td>What is desertification and how much productiv...</td>\n",
       "      <td>22</td>\n",
       "      <td>22</td>\n",
       "      <td>29</td>\n",
       "      <td>21</td>\n",
       "    </tr>\n",
       "    <tr>\n",
       "      <th>3</th>\n",
       "      <td>What is the conservation reserve programm of 1...</td>\n",
       "      <td>29</td>\n",
       "      <td>31</td>\n",
       "      <td>24</td>\n",
       "      <td>72</td>\n",
       "    </tr>\n",
       "    <tr>\n",
       "      <th>4</th>\n",
       "      <td>GM crops today are engineered to resist:</td>\n",
       "      <td>56</td>\n",
       "      <td>56</td>\n",
       "      <td>11</td>\n",
       "      <td>58</td>\n",
       "    </tr>\n",
       "  </tbody>\n",
       "</table>\n",
       "</div>"
      ],
      "text/plain": [
       "                                              Prompt  GT_Keyframe  Top_1  \\\n",
       "0                                 What are feedlots?           47     47   \n",
       "1                                What is weathering?           17     27   \n",
       "2  What is desertification and how much productiv...           22     22   \n",
       "3  What is the conservation reserve programm of 1...           29     31   \n",
       "4          GM crops today are engineered to resist:            56     56   \n",
       "\n",
       "   Top_2  Top_3  \n",
       "0     48     54  \n",
       "1     26     23  \n",
       "2     29     21  \n",
       "3     24     72  \n",
       "4     11     58  "
      ]
     },
     "execution_count": 107,
     "metadata": {},
     "output_type": "execute_result"
    }
   ],
   "source": [
    "# read data from csv file\n",
    "notebook_path = Path().resolve().parent\n",
    "print(notebook_path)\n",
    "\n",
    "# Construct the filename relative to the new path\n",
    "filename = notebook_path / \"notebooks/new_data/df_standard_llm_long_summary_ch7.csv\"\n",
    "df_long_summary = pd.read_csv(filename)\n",
    "df_long_summary.head()"
   ]
  },
  {
   "cell_type": "code",
   "execution_count": 108,
   "id": "6efa71b20ff7e470",
   "metadata": {
    "ExecuteTime": {
     "end_time": "2024-07-14T15:54:46.223320Z",
     "start_time": "2024-07-14T15:54:46.007651Z"
    }
   },
   "outputs": [
    {
     "name": "stdout",
     "output_type": "stream",
     "text": [
      "GT_Keyframe in Top 1: 71.43%\n",
      "GT_Keyframe in Top 2: 4.76%\n",
      "GT_Keyframe in Top 3: 4.76%\n"
     ]
    },
    {
     "data": {
      "text/plain": [
       "<Figure size 1000x600 with 0 Axes>"
      ]
     },
     "metadata": {},
     "output_type": "display_data"
    },
    {
     "data": {
      "image/png": "[encoded data removed]",
      "text/plain": [
       "<Figure size 800x500 with 1 Axes>"
      ]
     },
     "metadata": {},
     "output_type": "display_data"
    }
   ],
   "source": [
    "# call\n",
    "calculate_and_plot_gt_keyframe_percentage(df_long_summary)"
   ]
  },
  {
   "cell_type": "markdown",
   "id": "15dd2fbc69921133",
   "metadata": {},
   "source": ""
  },
  {
   "cell_type": "code",
   "execution_count": 109,
   "id": "1e5707a909f3b6fa",
   "metadata": {
    "ExecuteTime": {
     "end_time": "2024-07-14T15:54:46.255541Z",
     "start_time": "2024-07-14T15:54:46.223320Z"
    }
   },
   "outputs": [
    {
     "name": "stderr",
     "output_type": "stream",
     "text": [
      "\u001b[32m2024-07-14 17:54:46.223\u001b[0m | \u001b[1mINFO    \u001b[0m | \u001b[36m__main__\u001b[0m:\u001b[36m<module>\u001b[0m:\u001b[36m5\u001b[0m - \u001b[1mWhat are feedlots?\u001b[0m\n",
      "\u001b[32m2024-07-14 17:54:46.223\u001b[0m | \u001b[1mINFO    \u001b[0m | \u001b[36m__main__\u001b[0m:\u001b[36m<module>\u001b[0m:\u001b[36m5\u001b[0m - \u001b[1mWhat is weathering?\u001b[0m\n",
      "\u001b[32m2024-07-14 17:54:46.223\u001b[0m | \u001b[1mINFO    \u001b[0m | \u001b[36m__main__\u001b[0m:\u001b[36m<module>\u001b[0m:\u001b[36m5\u001b[0m - \u001b[1mWhat is desertification and how much productivity loss does it cause to arid lands?\u001b[0m\n",
      "\u001b[32m2024-07-14 17:54:46.223\u001b[0m | \u001b[1mINFO    \u001b[0m | \u001b[36m__main__\u001b[0m:\u001b[36m<module>\u001b[0m:\u001b[36m5\u001b[0m - \u001b[1mWhat is the conservation reserve programm of 1985?\u001b[0m\n",
      "\u001b[32m2024-07-14 17:54:46.233\u001b[0m | \u001b[1mINFO    \u001b[0m | \u001b[36m__main__\u001b[0m:\u001b[36m<module>\u001b[0m:\u001b[36m5\u001b[0m - \u001b[1mGM crops today are engineered to resist: \u001b[0m\n",
      "\u001b[32m2024-07-14 17:54:46.233\u001b[0m | \u001b[1mINFO    \u001b[0m | \u001b[36m__main__\u001b[0m:\u001b[36m<module>\u001b[0m:\u001b[36m5\u001b[0m - \u001b[1m90% of energy is lost from one trophic level to the next\u001b[0m\n",
      "\u001b[32m2024-07-14 17:54:46.233\u001b[0m | \u001b[1mINFO    \u001b[0m | \u001b[36m__main__\u001b[0m:\u001b[36m<module>\u001b[0m:\u001b[36m5\u001b[0m - \u001b[1mRisks of biocontrol?\u001b[0m\n",
      "\u001b[32m2024-07-14 17:54:46.237\u001b[0m | \u001b[1mINFO    \u001b[0m | \u001b[36m__main__\u001b[0m:\u001b[36m<module>\u001b[0m:\u001b[36m5\u001b[0m - \u001b[1mAs the populations increases pesticides lose their effectiveness\u001b[0m\n",
      "\u001b[32m2024-07-14 17:54:46.237\u001b[0m | \u001b[1mINFO    \u001b[0m | \u001b[36m__main__\u001b[0m:\u001b[36m<module>\u001b[0m:\u001b[36m5\u001b[0m - \u001b[1mSubstainable fertilizer use involves monitoring and targeting nutriets\u001b[0m\n",
      "\u001b[32m2024-07-14 17:54:46.238\u001b[0m | \u001b[1mINFO    \u001b[0m | \u001b[36m__main__\u001b[0m:\u001b[36m<module>\u001b[0m:\u001b[36m5\u001b[0m - \u001b[1mWhat is overgrazing?\u001b[0m\n",
      "\u001b[32m2024-07-14 17:54:46.238\u001b[0m | \u001b[1mINFO    \u001b[0m | \u001b[36m__main__\u001b[0m:\u001b[36m<module>\u001b[0m:\u001b[36m5\u001b[0m - \u001b[1mWhy does the USDA issues labels?\u001b[0m\n",
      "\u001b[32m2024-07-14 17:54:46.242\u001b[0m | \u001b[1mINFO    \u001b[0m | \u001b[36m__main__\u001b[0m:\u001b[36m<module>\u001b[0m:\u001b[36m5\u001b[0m - \u001b[1mHow productive is organic farming?\u001b[0m\n",
      "\u001b[32m2024-07-14 17:54:46.242\u001b[0m | \u001b[1mINFO    \u001b[0m | \u001b[36m__main__\u001b[0m:\u001b[36m<module>\u001b[0m:\u001b[36m5\u001b[0m - \u001b[1mWhat does soil in organic plots contain?\u001b[0m\n",
      "\u001b[32m2024-07-14 17:54:46.243\u001b[0m | \u001b[1mINFO    \u001b[0m | \u001b[36m__main__\u001b[0m:\u001b[36m<module>\u001b[0m:\u001b[36m5\u001b[0m - \u001b[1m3 out of 4 Americans buy organic food at least occasionally\u001b[0m\n",
      "\u001b[32m2024-07-14 17:54:46.244\u001b[0m | \u001b[1mINFO    \u001b[0m | \u001b[36m__main__\u001b[0m:\u001b[36m<module>\u001b[0m:\u001b[36m5\u001b[0m - \u001b[1mWhat are the farmer benefits?\u001b[0m\n",
      "\u001b[32m2024-07-14 17:54:46.245\u001b[0m | \u001b[1mINFO    \u001b[0m | \u001b[36m__main__\u001b[0m:\u001b[36m<module>\u001b[0m:\u001b[36m5\u001b[0m - \u001b[1mWhat are the farmer risks?\u001b[0m\n",
      "\u001b[32m2024-07-14 17:54:46.245\u001b[0m | \u001b[1mINFO    \u001b[0m | \u001b[36m__main__\u001b[0m:\u001b[36m<module>\u001b[0m:\u001b[36m5\u001b[0m - \u001b[1mWhat are the obstacles for consumers?\u001b[0m\n",
      "\u001b[32m2024-07-14 17:54:46.247\u001b[0m | \u001b[1mINFO    \u001b[0m | \u001b[36m__main__\u001b[0m:\u001b[36m<module>\u001b[0m:\u001b[36m5\u001b[0m - \u001b[1mWhat is terracing\u001b[0m\n",
      "\u001b[32m2024-07-14 17:54:46.247\u001b[0m | \u001b[1mINFO    \u001b[0m | \u001b[36m__main__\u001b[0m:\u001b[36m<module>\u001b[0m:\u001b[36m5\u001b[0m - \u001b[1mpeople think that \"tinkering\" with food but other fear that food supply is dominated by large corporations\u001b[0m\n",
      "\u001b[32m2024-07-14 17:54:46.247\u001b[0m | \u001b[1mINFO    \u001b[0m | \u001b[36m__main__\u001b[0m:\u001b[36m<module>\u001b[0m:\u001b[36m5\u001b[0m - \u001b[1mgm foos resistance to the week killer is being documented\u001b[0m\n",
      "\u001b[32m2024-07-14 17:54:46.247\u001b[0m | \u001b[1mINFO    \u001b[0m | \u001b[36m__main__\u001b[0m:\u001b[36m<module>\u001b[0m:\u001b[36m5\u001b[0m - \u001b[1mWhen dod the dust bowl took place?\u001b[0m\n"
     ]
    },
    {
     "name": "stdout",
     "output_type": "stream",
     "text": [
      "[1, 0, 1, 1, 1, 1, 1, 1, 1, 3, 1, 1, 0, 1, 2, 1, 0, 1, 1, 1, 1]\n"
     ]
    }
   ],
   "source": [
    "# iterate through data frame\n",
    "df = df_long_summary\n",
    "res = []\n",
    "for _, row in df.iterrows():\n",
    "    logger.info(row[\"Prompt\"])\n",
    "    gt_keyframe = row[\"GT_Keyframe\"]\n",
    "    prox = check_proximity_keyframes(gt_keyframe)\n",
    "    res.append(prox)\n",
    "\n",
    "prox_yes_no_long_summary = []\n",
    "for i, row in df.iterrows():\n",
    "    if row[\"Top_1\"] in res[i]:\n",
    "        prox_yes_no_long_summary.append(1)\n",
    "    elif row[\"Top_2\"] in res[i]:\n",
    "        prox_yes_no_long_summary.append(2)\n",
    "    elif row[\"Top_3\"] in res[i]:\n",
    "        prox_yes_no_long_summary.append(3)\n",
    "    else:\n",
    "        prox_yes_no_long_summary.append(0)\n",
    "\n",
    "print(prox_yes_no_long_summary)"
   ]
  },
  {
   "cell_type": "markdown",
   "id": "e93e5e5fc5c70dfc",
   "metadata": {},
   "source": "# OCR TRANSCRIPTIONS "
  },
  {
   "cell_type": "code",
   "execution_count": 110,
   "id": "ea27443f9c013f6e",
   "metadata": {
    "ExecuteTime": {
     "end_time": "2024-07-14T15:54:46.270542Z",
     "start_time": "2024-07-14T15:54:46.255541Z"
    }
   },
   "outputs": [
    {
     "data": {
      "text/html": [
       "<div>\n",
       "<style scoped>\n",
       "    .dataframe tbody tr th:only-of-type {\n",
       "        vertical-align: middle;\n",
       "    }\n",
       "\n",
       "    .dataframe tbody tr th {\n",
       "        vertical-align: top;\n",
       "    }\n",
       "\n",
       "    .dataframe thead th {\n",
       "        text-align: right;\n",
       "    }\n",
       "</style>\n",
       "<table border=\"1\" class=\"dataframe\">\n",
       "  <thead>\n",
       "    <tr style=\"text-align: right;\">\n",
       "      <th></th>\n",
       "      <th>Prompt</th>\n",
       "      <th>GT_Keyframe</th>\n",
       "      <th>Top_1</th>\n",
       "      <th>Top_2</th>\n",
       "      <th>Top_3</th>\n",
       "    </tr>\n",
       "  </thead>\n",
       "  <tbody>\n",
       "    <tr>\n",
       "      <th>0</th>\n",
       "      <td>What are feedlots?</td>\n",
       "      <td>47</td>\n",
       "      <td>47</td>\n",
       "      <td>48</td>\n",
       "      <td>17</td>\n",
       "    </tr>\n",
       "    <tr>\n",
       "      <th>1</th>\n",
       "      <td>What is weathering?</td>\n",
       "      <td>17</td>\n",
       "      <td>19</td>\n",
       "      <td>27</td>\n",
       "      <td>21</td>\n",
       "    </tr>\n",
       "    <tr>\n",
       "      <th>2</th>\n",
       "      <td>What is desertification and how much productiv...</td>\n",
       "      <td>22</td>\n",
       "      <td>22</td>\n",
       "      <td>21</td>\n",
       "      <td>20</td>\n",
       "    </tr>\n",
       "    <tr>\n",
       "      <th>3</th>\n",
       "      <td>What is the conservation reserve programm of 1...</td>\n",
       "      <td>29</td>\n",
       "      <td>31</td>\n",
       "      <td>24</td>\n",
       "      <td>26</td>\n",
       "    </tr>\n",
       "    <tr>\n",
       "      <th>4</th>\n",
       "      <td>GM crops today are engineered to resist:</td>\n",
       "      <td>56</td>\n",
       "      <td>56</td>\n",
       "      <td>11</td>\n",
       "      <td>60</td>\n",
       "    </tr>\n",
       "  </tbody>\n",
       "</table>\n",
       "</div>"
      ],
      "text/plain": [
       "                                              Prompt  GT_Keyframe  Top_1  \\\n",
       "0                                 What are feedlots?           47     47   \n",
       "1                                What is weathering?           17     19   \n",
       "2  What is desertification and how much productiv...           22     22   \n",
       "3  What is the conservation reserve programm of 1...           29     31   \n",
       "4          GM crops today are engineered to resist:            56     56   \n",
       "\n",
       "   Top_2  Top_3  \n",
       "0     48     17  \n",
       "1     27     21  \n",
       "2     21     20  \n",
       "3     24     26  \n",
       "4     11     60  "
      ]
     },
     "execution_count": 110,
     "metadata": {},
     "output_type": "execute_result"
    }
   ],
   "source": [
    "filename = (\n",
    "    notebook_path / \"notebooks/new_data/df_standard_df_ocr_transcriptions_ch7.csv\"\n",
    ")\n",
    "\n",
    "df_ocr_transcriptions = pd.read_csv(filename)\n",
    "df_ocr_transcriptions.head()"
   ]
  },
  {
   "cell_type": "code",
   "execution_count": 111,
   "id": "199142302befe683",
   "metadata": {
    "ExecuteTime": {
     "end_time": "2024-07-14T15:54:46.491401Z",
     "start_time": "2024-07-14T15:54:46.270542Z"
    }
   },
   "outputs": [
    {
     "name": "stdout",
     "output_type": "stream",
     "text": [
      "GT_Keyframe in Top 1: 66.67%\n",
      "GT_Keyframe in Top 2: 9.52%\n",
      "GT_Keyframe in Top 3: 4.76%\n"
     ]
    },
    {
     "data": {
      "text/plain": [
       "<Figure size 1000x600 with 0 Axes>"
      ]
     },
     "metadata": {},
     "output_type": "display_data"
    },
    {
     "data": {
      "image/png": "[encoded data removed]",
      "text/plain": [
       "<Figure size 800x500 with 1 Axes>"
      ]
     },
     "metadata": {},
     "output_type": "display_data"
    }
   ],
   "source": [
    "# call\n",
    "calculate_and_plot_gt_keyframe_percentage(df_ocr_transcriptions)"
   ]
  },
  {
   "cell_type": "code",
   "execution_count": 112,
   "id": "7e6aea4159f6f7a0",
   "metadata": {
    "ExecuteTime": {
     "end_time": "2024-07-14T15:54:46.530233Z",
     "start_time": "2024-07-14T15:54:46.491401Z"
    }
   },
   "outputs": [
    {
     "name": "stderr",
     "output_type": "stream",
     "text": [
      "\u001b[32m2024-07-14 17:54:46.495\u001b[0m | \u001b[1mINFO    \u001b[0m | \u001b[36m__main__\u001b[0m:\u001b[36m<module>\u001b[0m:\u001b[36m4\u001b[0m - \u001b[1mWhat are feedlots?\u001b[0m\n",
      "\u001b[32m2024-07-14 17:54:46.495\u001b[0m | \u001b[1mINFO    \u001b[0m | \u001b[36m__main__\u001b[0m:\u001b[36m<module>\u001b[0m:\u001b[36m4\u001b[0m - \u001b[1mWhat is weathering?\u001b[0m\n",
      "\u001b[32m2024-07-14 17:54:46.501\u001b[0m | \u001b[1mINFO    \u001b[0m | \u001b[36m__main__\u001b[0m:\u001b[36m<module>\u001b[0m:\u001b[36m4\u001b[0m - \u001b[1mWhat is desertification and how much productivity loss does it cause to arid lands?\u001b[0m\n",
      "\u001b[32m2024-07-14 17:54:46.501\u001b[0m | \u001b[1mINFO    \u001b[0m | \u001b[36m__main__\u001b[0m:\u001b[36m<module>\u001b[0m:\u001b[36m4\u001b[0m - \u001b[1mWhat is the conservation reserve programm of 1985?\u001b[0m\n",
      "\u001b[32m2024-07-14 17:54:46.504\u001b[0m | \u001b[1mINFO    \u001b[0m | \u001b[36m__main__\u001b[0m:\u001b[36m<module>\u001b[0m:\u001b[36m4\u001b[0m - \u001b[1mGM crops today are engineered to resist: \u001b[0m\n",
      "\u001b[32m2024-07-14 17:54:46.504\u001b[0m | \u001b[1mINFO    \u001b[0m | \u001b[36m__main__\u001b[0m:\u001b[36m<module>\u001b[0m:\u001b[36m4\u001b[0m - \u001b[1m90% of energy is lost from one trophic level to the next\u001b[0m\n",
      "\u001b[32m2024-07-14 17:54:46.504\u001b[0m | \u001b[1mINFO    \u001b[0m | \u001b[36m__main__\u001b[0m:\u001b[36m<module>\u001b[0m:\u001b[36m4\u001b[0m - \u001b[1mRisks of biocontrol?\u001b[0m\n",
      "\u001b[32m2024-07-14 17:54:46.504\u001b[0m | \u001b[1mINFO    \u001b[0m | \u001b[36m__main__\u001b[0m:\u001b[36m<module>\u001b[0m:\u001b[36m4\u001b[0m - \u001b[1mAs the populations increases pesticides lose their effectiveness\u001b[0m\n",
      "\u001b[32m2024-07-14 17:54:46.504\u001b[0m | \u001b[1mINFO    \u001b[0m | \u001b[36m__main__\u001b[0m:\u001b[36m<module>\u001b[0m:\u001b[36m4\u001b[0m - \u001b[1mSubstainable fertilizer use involves monitoring and targeting nutriets\u001b[0m\n",
      "\u001b[32m2024-07-14 17:54:46.504\u001b[0m | \u001b[1mINFO    \u001b[0m | \u001b[36m__main__\u001b[0m:\u001b[36m<module>\u001b[0m:\u001b[36m4\u001b[0m - \u001b[1mWhat is overgrazing?\u001b[0m\n",
      "\u001b[32m2024-07-14 17:54:46.504\u001b[0m | \u001b[1mINFO    \u001b[0m | \u001b[36m__main__\u001b[0m:\u001b[36m<module>\u001b[0m:\u001b[36m4\u001b[0m - \u001b[1mWhy does the USDA issues labels?\u001b[0m\n",
      "\u001b[32m2024-07-14 17:54:46.504\u001b[0m | \u001b[1mINFO    \u001b[0m | \u001b[36m__main__\u001b[0m:\u001b[36m<module>\u001b[0m:\u001b[36m4\u001b[0m - \u001b[1mHow productive is organic farming?\u001b[0m\n",
      "\u001b[32m2024-07-14 17:54:46.504\u001b[0m | \u001b[1mINFO    \u001b[0m | \u001b[36m__main__\u001b[0m:\u001b[36m<module>\u001b[0m:\u001b[36m4\u001b[0m - \u001b[1mWhat does soil in organic plots contain?\u001b[0m\n",
      "\u001b[32m2024-07-14 17:54:46.504\u001b[0m | \u001b[1mINFO    \u001b[0m | \u001b[36m__main__\u001b[0m:\u001b[36m<module>\u001b[0m:\u001b[36m4\u001b[0m - \u001b[1m3 out of 4 Americans buy organic food at least occasionally\u001b[0m\n",
      "\u001b[32m2024-07-14 17:54:46.517\u001b[0m | \u001b[1mINFO    \u001b[0m | \u001b[36m__main__\u001b[0m:\u001b[36m<module>\u001b[0m:\u001b[36m4\u001b[0m - \u001b[1mWhat are the farmer benefits?\u001b[0m\n",
      "\u001b[32m2024-07-14 17:54:46.518\u001b[0m | \u001b[1mINFO    \u001b[0m | \u001b[36m__main__\u001b[0m:\u001b[36m<module>\u001b[0m:\u001b[36m4\u001b[0m - \u001b[1mWhat are the farmer risks?\u001b[0m\n",
      "\u001b[32m2024-07-14 17:54:46.518\u001b[0m | \u001b[1mINFO    \u001b[0m | \u001b[36m__main__\u001b[0m:\u001b[36m<module>\u001b[0m:\u001b[36m4\u001b[0m - \u001b[1mWhat are the obstacles for consumers?\u001b[0m\n",
      "\u001b[32m2024-07-14 17:54:46.518\u001b[0m | \u001b[1mINFO    \u001b[0m | \u001b[36m__main__\u001b[0m:\u001b[36m<module>\u001b[0m:\u001b[36m4\u001b[0m - \u001b[1mWhat is terracing\u001b[0m\n",
      "\u001b[32m2024-07-14 17:54:46.518\u001b[0m | \u001b[1mINFO    \u001b[0m | \u001b[36m__main__\u001b[0m:\u001b[36m<module>\u001b[0m:\u001b[36m4\u001b[0m - \u001b[1mpeople think that \"tinkering\" with food but other fear that food supply is dominated by large corporations\u001b[0m\n",
      "\u001b[32m2024-07-14 17:54:46.518\u001b[0m | \u001b[1mINFO    \u001b[0m | \u001b[36m__main__\u001b[0m:\u001b[36m<module>\u001b[0m:\u001b[36m4\u001b[0m - \u001b[1mgm foos resistance to the week killer is being documented\u001b[0m\n",
      "\u001b[32m2024-07-14 17:54:46.518\u001b[0m | \u001b[1mINFO    \u001b[0m | \u001b[36m__main__\u001b[0m:\u001b[36m<module>\u001b[0m:\u001b[36m4\u001b[0m - \u001b[1mWhen dod the dust bowl took place?\u001b[0m\n"
     ]
    },
    {
     "name": "stdout",
     "output_type": "stream",
     "text": [
      "[1, 1, 1, 1, 1, 1, 1, 1, 1, 3, 1, 1, 0, 1, 2, 1, 0, 1, 1, 1, 1]\n"
     ]
    }
   ],
   "source": [
    "df = df_ocr_transcriptions\n",
    "res = []\n",
    "for _, row in df.iterrows():\n",
    "    logger.info(row[\"Prompt\"])\n",
    "    gt_keyframe = row[\"GT_Keyframe\"]\n",
    "    prox = check_proximity_keyframes(gt_keyframe)\n",
    "    res.append(prox)\n",
    "\n",
    "prox_yes_no_ocr_transcriptions = []\n",
    "for i, row in df.iterrows():\n",
    "    if row[\"Top_1\"] in res[i]:\n",
    "        prox_yes_no_ocr_transcriptions.append(1)\n",
    "    elif row[\"Top_2\"] in res[i]:\n",
    "        prox_yes_no_ocr_transcriptions.append(2)\n",
    "    elif row[\"Top_3\"] in res[i]:\n",
    "        prox_yes_no_ocr_transcriptions.append(3)\n",
    "    else:\n",
    "        prox_yes_no_ocr_transcriptions.append(0)\n",
    "\n",
    "print(prox_yes_no_ocr_transcriptions)"
   ]
  },
  {
   "cell_type": "code",
   "execution_count": 113,
   "id": "db7da707ad314ac7",
   "metadata": {
    "ExecuteTime": {
     "end_time": "2024-07-14T15:54:46.912689Z",
     "start_time": "2024-07-14T15:54:46.530233Z"
    }
   },
   "outputs": [
    {
     "data": {
      "image/png": "[encoded data removed]",
      "text/plain": [
       "<Figure size 800x500 with 1 Axes>"
      ]
     },
     "metadata": {},
     "output_type": "display_data"
    }
   ],
   "source": [
    "total_top_3_percentage_plot(\n",
    "    df_standard_ocr_only,\n",
    "    df_ocr_lava,\n",
    "    df_ocr_transcriptions,\n",
    "    df_long_summary,\n",
    "    prox_yes_no_ocr_only,\n",
    "    prox_yes_no_ocr_lava,\n",
    "    prox_yes_no_ocr_transcriptions,\n",
    "    prox_yes_no_long_summary,\n",
    ")\n",
    "# save the plot on disk"
   ]
  },
  {
   "cell_type": "code",
   "execution_count": 113,
   "id": "d23d4b29a44a5a7b",
   "metadata": {
    "ExecuteTime": {
     "end_time": "2024-07-14T15:54:46.918084Z",
     "start_time": "2024-07-14T15:54:46.913996Z"
    }
   },
   "outputs": [],
   "source": []
  }
 ],
 "metadata": {
  "kernelspec": {
   "display_name": "Python 3",
   "language": "python",
   "name": "python3"
  },
  "language_info": {
   "codemirror_mode": {
    "name": "ipython",
    "version": 2
   },
   "file_extension": ".py",
   "mimetype": "text/x-python",
   "name": "python",
   "nbconvert_exporter": "python",
   "pygments_lexer": "ipython2",
   "version": "2.7.6"
  }
 },
 "nbformat": 4,
 "nbformat_minor": 5
}
