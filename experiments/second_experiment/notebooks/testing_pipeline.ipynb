{
 "cells": [
  {
   "cell_type": "code",
   "id": "initial_id",
   "metadata": {
    "collapsed": true,
    "ExecuteTime": {
     "end_time": "2024-07-03T17:44:39.381474Z",
     "start_time": "2024-07-03T17:44:39.112253Z"
    }
   },
   "source": [
    "%load_ext autoreload\n",
    "%autoreload 2\n",
    "import os\n",
    "\n",
    "from sentence_transformers import SentenceTransformer\n",
    "from src.text_embedder.embedder import text_to_embedding_transformer\n",
    "\n",
    "import pandas as pd\n",
    "import torch\n",
    "from loguru import logger\n",
    "import pickle\n",
    "\n",
    "from src.text_embedder.embedder import EmbeddingsModel\n",
    "\n",
    "import tqdm\n",
    "from pathlib import Path\n",
    "import os"
   ],
   "outputs": [
    {
     "name": "stdout",
     "output_type": "stream",
     "text": [
      "The autoreload extension is already loaded. To reload it, use:\n",
      "  %reload_ext autoreload\n"
     ]
    }
   ],
   "execution_count": 8
  },
  {
   "metadata": {},
   "cell_type": "markdown",
   "source": "",
   "id": "ed097945bf783f0"
  },
  {
   "metadata": {},
   "cell_type": "markdown",
   "source": "# Load Data",
   "id": "18eb4cd1dfbcf75c"
  },
  {
   "metadata": {
    "ExecuteTime": {
     "end_time": "2024-07-03T17:44:53.623106Z",
     "start_time": "2024-07-03T17:44:53.031940Z"
    }
   },
   "cell_type": "code",
   "source": [
    "# Load csv file\n",
    "# get current path\n",
    "\n",
    "notebook_path = Path().resolve()\n",
    "print(notebook_path)\n",
    "\n",
    "image_path = os.path.join(\n",
    "    notebook_path,\n",
    "    \"data\",\n",
    "    \"raw\",\n",
    "    \"biology_chapter_3_3_treshhold_5\",\n",
    "    \"extracted_keyframes\",\n",
    ")\n",
    "\n",
    "\n",
    "filename = \"experiments/first_experiment/test_frames_gt_new.csv\"\n",
    "df = pd.read_csv(filename)\n",
    "df"
   ],
   "id": "4a36f9c86e3e18ac",
   "outputs": [
    {
     "name": "stdout",
     "output_type": "stream",
     "text": [
      "C:\\Users\\baatout\\PycharmProjects\\afm-vlm\\experiments\\second_experiment\\notebooks\n"
     ]
    },
    {
     "ename": "FileNotFoundError",
     "evalue": "[Errno 2] No such file or directory: 'experiments/first_experiment/test_frames_gt_new.csv'",
     "output_type": "error",
     "traceback": [
      "\u001B[1;31m---------------------------------------------------------------------------\u001B[0m",
      "\u001B[1;31mFileNotFoundError\u001B[0m                         Traceback (most recent call last)",
      "Cell \u001B[1;32mIn[9], line 17\u001B[0m\n\u001B[0;32m      7\u001B[0m image_path \u001B[38;5;241m=\u001B[39m os\u001B[38;5;241m.\u001B[39mpath\u001B[38;5;241m.\u001B[39mjoin(\n\u001B[0;32m      8\u001B[0m     notebook_path,\n\u001B[0;32m      9\u001B[0m     \u001B[38;5;124m\"\u001B[39m\u001B[38;5;124mdata\u001B[39m\u001B[38;5;124m\"\u001B[39m,\n\u001B[1;32m   (...)\u001B[0m\n\u001B[0;32m     12\u001B[0m     \u001B[38;5;124m\"\u001B[39m\u001B[38;5;124mextracted_keyframes\u001B[39m\u001B[38;5;124m\"\u001B[39m,\n\u001B[0;32m     13\u001B[0m )\n\u001B[0;32m     16\u001B[0m filename \u001B[38;5;241m=\u001B[39m \u001B[38;5;124m\"\u001B[39m\u001B[38;5;124mexperiments/first_experiment/test_frames_gt_new.csv\u001B[39m\u001B[38;5;124m\"\u001B[39m\n\u001B[1;32m---> 17\u001B[0m df \u001B[38;5;241m=\u001B[39m \u001B[43mpd\u001B[49m\u001B[38;5;241;43m.\u001B[39;49m\u001B[43mread_csv\u001B[49m\u001B[43m(\u001B[49m\u001B[43mfilename\u001B[49m\u001B[43m)\u001B[49m\n\u001B[0;32m     18\u001B[0m df\n",
      "File \u001B[1;32m~\\PycharmProjects\\afm-vlm\\.venv\\Lib\\site-packages\\pandas\\io\\parsers\\readers.py:1026\u001B[0m, in \u001B[0;36mread_csv\u001B[1;34m(filepath_or_buffer, sep, delimiter, header, names, index_col, usecols, dtype, engine, converters, true_values, false_values, skipinitialspace, skiprows, skipfooter, nrows, na_values, keep_default_na, na_filter, verbose, skip_blank_lines, parse_dates, infer_datetime_format, keep_date_col, date_parser, date_format, dayfirst, cache_dates, iterator, chunksize, compression, thousands, decimal, lineterminator, quotechar, quoting, doublequote, escapechar, comment, encoding, encoding_errors, dialect, on_bad_lines, delim_whitespace, low_memory, memory_map, float_precision, storage_options, dtype_backend)\u001B[0m\n\u001B[0;32m   1013\u001B[0m kwds_defaults \u001B[38;5;241m=\u001B[39m _refine_defaults_read(\n\u001B[0;32m   1014\u001B[0m     dialect,\n\u001B[0;32m   1015\u001B[0m     delimiter,\n\u001B[1;32m   (...)\u001B[0m\n\u001B[0;32m   1022\u001B[0m     dtype_backend\u001B[38;5;241m=\u001B[39mdtype_backend,\n\u001B[0;32m   1023\u001B[0m )\n\u001B[0;32m   1024\u001B[0m kwds\u001B[38;5;241m.\u001B[39mupdate(kwds_defaults)\n\u001B[1;32m-> 1026\u001B[0m \u001B[38;5;28;01mreturn\u001B[39;00m \u001B[43m_read\u001B[49m\u001B[43m(\u001B[49m\u001B[43mfilepath_or_buffer\u001B[49m\u001B[43m,\u001B[49m\u001B[43m \u001B[49m\u001B[43mkwds\u001B[49m\u001B[43m)\u001B[49m\n",
      "File \u001B[1;32m~\\PycharmProjects\\afm-vlm\\.venv\\Lib\\site-packages\\pandas\\io\\parsers\\readers.py:620\u001B[0m, in \u001B[0;36m_read\u001B[1;34m(filepath_or_buffer, kwds)\u001B[0m\n\u001B[0;32m    617\u001B[0m _validate_names(kwds\u001B[38;5;241m.\u001B[39mget(\u001B[38;5;124m\"\u001B[39m\u001B[38;5;124mnames\u001B[39m\u001B[38;5;124m\"\u001B[39m, \u001B[38;5;28;01mNone\u001B[39;00m))\n\u001B[0;32m    619\u001B[0m \u001B[38;5;66;03m# Create the parser.\u001B[39;00m\n\u001B[1;32m--> 620\u001B[0m parser \u001B[38;5;241m=\u001B[39m \u001B[43mTextFileReader\u001B[49m\u001B[43m(\u001B[49m\u001B[43mfilepath_or_buffer\u001B[49m\u001B[43m,\u001B[49m\u001B[43m \u001B[49m\u001B[38;5;241;43m*\u001B[39;49m\u001B[38;5;241;43m*\u001B[39;49m\u001B[43mkwds\u001B[49m\u001B[43m)\u001B[49m\n\u001B[0;32m    622\u001B[0m \u001B[38;5;28;01mif\u001B[39;00m chunksize \u001B[38;5;129;01mor\u001B[39;00m iterator:\n\u001B[0;32m    623\u001B[0m     \u001B[38;5;28;01mreturn\u001B[39;00m parser\n",
      "File \u001B[1;32m~\\PycharmProjects\\afm-vlm\\.venv\\Lib\\site-packages\\pandas\\io\\parsers\\readers.py:1620\u001B[0m, in \u001B[0;36mTextFileReader.__init__\u001B[1;34m(self, f, engine, **kwds)\u001B[0m\n\u001B[0;32m   1617\u001B[0m     \u001B[38;5;28mself\u001B[39m\u001B[38;5;241m.\u001B[39moptions[\u001B[38;5;124m\"\u001B[39m\u001B[38;5;124mhas_index_names\u001B[39m\u001B[38;5;124m\"\u001B[39m] \u001B[38;5;241m=\u001B[39m kwds[\u001B[38;5;124m\"\u001B[39m\u001B[38;5;124mhas_index_names\u001B[39m\u001B[38;5;124m\"\u001B[39m]\n\u001B[0;32m   1619\u001B[0m \u001B[38;5;28mself\u001B[39m\u001B[38;5;241m.\u001B[39mhandles: IOHandles \u001B[38;5;241m|\u001B[39m \u001B[38;5;28;01mNone\u001B[39;00m \u001B[38;5;241m=\u001B[39m \u001B[38;5;28;01mNone\u001B[39;00m\n\u001B[1;32m-> 1620\u001B[0m \u001B[38;5;28mself\u001B[39m\u001B[38;5;241m.\u001B[39m_engine \u001B[38;5;241m=\u001B[39m \u001B[38;5;28;43mself\u001B[39;49m\u001B[38;5;241;43m.\u001B[39;49m\u001B[43m_make_engine\u001B[49m\u001B[43m(\u001B[49m\u001B[43mf\u001B[49m\u001B[43m,\u001B[49m\u001B[43m \u001B[49m\u001B[38;5;28;43mself\u001B[39;49m\u001B[38;5;241;43m.\u001B[39;49m\u001B[43mengine\u001B[49m\u001B[43m)\u001B[49m\n",
      "File \u001B[1;32m~\\PycharmProjects\\afm-vlm\\.venv\\Lib\\site-packages\\pandas\\io\\parsers\\readers.py:1880\u001B[0m, in \u001B[0;36mTextFileReader._make_engine\u001B[1;34m(self, f, engine)\u001B[0m\n\u001B[0;32m   1878\u001B[0m     \u001B[38;5;28;01mif\u001B[39;00m \u001B[38;5;124m\"\u001B[39m\u001B[38;5;124mb\u001B[39m\u001B[38;5;124m\"\u001B[39m \u001B[38;5;129;01mnot\u001B[39;00m \u001B[38;5;129;01min\u001B[39;00m mode:\n\u001B[0;32m   1879\u001B[0m         mode \u001B[38;5;241m+\u001B[39m\u001B[38;5;241m=\u001B[39m \u001B[38;5;124m\"\u001B[39m\u001B[38;5;124mb\u001B[39m\u001B[38;5;124m\"\u001B[39m\n\u001B[1;32m-> 1880\u001B[0m \u001B[38;5;28mself\u001B[39m\u001B[38;5;241m.\u001B[39mhandles \u001B[38;5;241m=\u001B[39m \u001B[43mget_handle\u001B[49m\u001B[43m(\u001B[49m\n\u001B[0;32m   1881\u001B[0m \u001B[43m    \u001B[49m\u001B[43mf\u001B[49m\u001B[43m,\u001B[49m\n\u001B[0;32m   1882\u001B[0m \u001B[43m    \u001B[49m\u001B[43mmode\u001B[49m\u001B[43m,\u001B[49m\n\u001B[0;32m   1883\u001B[0m \u001B[43m    \u001B[49m\u001B[43mencoding\u001B[49m\u001B[38;5;241;43m=\u001B[39;49m\u001B[38;5;28;43mself\u001B[39;49m\u001B[38;5;241;43m.\u001B[39;49m\u001B[43moptions\u001B[49m\u001B[38;5;241;43m.\u001B[39;49m\u001B[43mget\u001B[49m\u001B[43m(\u001B[49m\u001B[38;5;124;43m\"\u001B[39;49m\u001B[38;5;124;43mencoding\u001B[39;49m\u001B[38;5;124;43m\"\u001B[39;49m\u001B[43m,\u001B[49m\u001B[43m \u001B[49m\u001B[38;5;28;43;01mNone\u001B[39;49;00m\u001B[43m)\u001B[49m\u001B[43m,\u001B[49m\n\u001B[0;32m   1884\u001B[0m \u001B[43m    \u001B[49m\u001B[43mcompression\u001B[49m\u001B[38;5;241;43m=\u001B[39;49m\u001B[38;5;28;43mself\u001B[39;49m\u001B[38;5;241;43m.\u001B[39;49m\u001B[43moptions\u001B[49m\u001B[38;5;241;43m.\u001B[39;49m\u001B[43mget\u001B[49m\u001B[43m(\u001B[49m\u001B[38;5;124;43m\"\u001B[39;49m\u001B[38;5;124;43mcompression\u001B[39;49m\u001B[38;5;124;43m\"\u001B[39;49m\u001B[43m,\u001B[49m\u001B[43m \u001B[49m\u001B[38;5;28;43;01mNone\u001B[39;49;00m\u001B[43m)\u001B[49m\u001B[43m,\u001B[49m\n\u001B[0;32m   1885\u001B[0m \u001B[43m    \u001B[49m\u001B[43mmemory_map\u001B[49m\u001B[38;5;241;43m=\u001B[39;49m\u001B[38;5;28;43mself\u001B[39;49m\u001B[38;5;241;43m.\u001B[39;49m\u001B[43moptions\u001B[49m\u001B[38;5;241;43m.\u001B[39;49m\u001B[43mget\u001B[49m\u001B[43m(\u001B[49m\u001B[38;5;124;43m\"\u001B[39;49m\u001B[38;5;124;43mmemory_map\u001B[39;49m\u001B[38;5;124;43m\"\u001B[39;49m\u001B[43m,\u001B[49m\u001B[43m \u001B[49m\u001B[38;5;28;43;01mFalse\u001B[39;49;00m\u001B[43m)\u001B[49m\u001B[43m,\u001B[49m\n\u001B[0;32m   1886\u001B[0m \u001B[43m    \u001B[49m\u001B[43mis_text\u001B[49m\u001B[38;5;241;43m=\u001B[39;49m\u001B[43mis_text\u001B[49m\u001B[43m,\u001B[49m\n\u001B[0;32m   1887\u001B[0m \u001B[43m    \u001B[49m\u001B[43merrors\u001B[49m\u001B[38;5;241;43m=\u001B[39;49m\u001B[38;5;28;43mself\u001B[39;49m\u001B[38;5;241;43m.\u001B[39;49m\u001B[43moptions\u001B[49m\u001B[38;5;241;43m.\u001B[39;49m\u001B[43mget\u001B[49m\u001B[43m(\u001B[49m\u001B[38;5;124;43m\"\u001B[39;49m\u001B[38;5;124;43mencoding_errors\u001B[39;49m\u001B[38;5;124;43m\"\u001B[39;49m\u001B[43m,\u001B[49m\u001B[43m \u001B[49m\u001B[38;5;124;43m\"\u001B[39;49m\u001B[38;5;124;43mstrict\u001B[39;49m\u001B[38;5;124;43m\"\u001B[39;49m\u001B[43m)\u001B[49m\u001B[43m,\u001B[49m\n\u001B[0;32m   1888\u001B[0m \u001B[43m    \u001B[49m\u001B[43mstorage_options\u001B[49m\u001B[38;5;241;43m=\u001B[39;49m\u001B[38;5;28;43mself\u001B[39;49m\u001B[38;5;241;43m.\u001B[39;49m\u001B[43moptions\u001B[49m\u001B[38;5;241;43m.\u001B[39;49m\u001B[43mget\u001B[49m\u001B[43m(\u001B[49m\u001B[38;5;124;43m\"\u001B[39;49m\u001B[38;5;124;43mstorage_options\u001B[39;49m\u001B[38;5;124;43m\"\u001B[39;49m\u001B[43m,\u001B[49m\u001B[43m \u001B[49m\u001B[38;5;28;43;01mNone\u001B[39;49;00m\u001B[43m)\u001B[49m\u001B[43m,\u001B[49m\n\u001B[0;32m   1889\u001B[0m \u001B[43m\u001B[49m\u001B[43m)\u001B[49m\n\u001B[0;32m   1890\u001B[0m \u001B[38;5;28;01massert\u001B[39;00m \u001B[38;5;28mself\u001B[39m\u001B[38;5;241m.\u001B[39mhandles \u001B[38;5;129;01mis\u001B[39;00m \u001B[38;5;129;01mnot\u001B[39;00m \u001B[38;5;28;01mNone\u001B[39;00m\n\u001B[0;32m   1891\u001B[0m f \u001B[38;5;241m=\u001B[39m \u001B[38;5;28mself\u001B[39m\u001B[38;5;241m.\u001B[39mhandles\u001B[38;5;241m.\u001B[39mhandle\n",
      "File \u001B[1;32m~\\PycharmProjects\\afm-vlm\\.venv\\Lib\\site-packages\\pandas\\io\\common.py:873\u001B[0m, in \u001B[0;36mget_handle\u001B[1;34m(path_or_buf, mode, encoding, compression, memory_map, is_text, errors, storage_options)\u001B[0m\n\u001B[0;32m    868\u001B[0m \u001B[38;5;28;01melif\u001B[39;00m \u001B[38;5;28misinstance\u001B[39m(handle, \u001B[38;5;28mstr\u001B[39m):\n\u001B[0;32m    869\u001B[0m     \u001B[38;5;66;03m# Check whether the filename is to be opened in binary mode.\u001B[39;00m\n\u001B[0;32m    870\u001B[0m     \u001B[38;5;66;03m# Binary mode does not support 'encoding' and 'newline'.\u001B[39;00m\n\u001B[0;32m    871\u001B[0m     \u001B[38;5;28;01mif\u001B[39;00m ioargs\u001B[38;5;241m.\u001B[39mencoding \u001B[38;5;129;01mand\u001B[39;00m \u001B[38;5;124m\"\u001B[39m\u001B[38;5;124mb\u001B[39m\u001B[38;5;124m\"\u001B[39m \u001B[38;5;129;01mnot\u001B[39;00m \u001B[38;5;129;01min\u001B[39;00m ioargs\u001B[38;5;241m.\u001B[39mmode:\n\u001B[0;32m    872\u001B[0m         \u001B[38;5;66;03m# Encoding\u001B[39;00m\n\u001B[1;32m--> 873\u001B[0m         handle \u001B[38;5;241m=\u001B[39m \u001B[38;5;28;43mopen\u001B[39;49m\u001B[43m(\u001B[49m\n\u001B[0;32m    874\u001B[0m \u001B[43m            \u001B[49m\u001B[43mhandle\u001B[49m\u001B[43m,\u001B[49m\n\u001B[0;32m    875\u001B[0m \u001B[43m            \u001B[49m\u001B[43mioargs\u001B[49m\u001B[38;5;241;43m.\u001B[39;49m\u001B[43mmode\u001B[49m\u001B[43m,\u001B[49m\n\u001B[0;32m    876\u001B[0m \u001B[43m            \u001B[49m\u001B[43mencoding\u001B[49m\u001B[38;5;241;43m=\u001B[39;49m\u001B[43mioargs\u001B[49m\u001B[38;5;241;43m.\u001B[39;49m\u001B[43mencoding\u001B[49m\u001B[43m,\u001B[49m\n\u001B[0;32m    877\u001B[0m \u001B[43m            \u001B[49m\u001B[43merrors\u001B[49m\u001B[38;5;241;43m=\u001B[39;49m\u001B[43merrors\u001B[49m\u001B[43m,\u001B[49m\n\u001B[0;32m    878\u001B[0m \u001B[43m            \u001B[49m\u001B[43mnewline\u001B[49m\u001B[38;5;241;43m=\u001B[39;49m\u001B[38;5;124;43m\"\u001B[39;49m\u001B[38;5;124;43m\"\u001B[39;49m\u001B[43m,\u001B[49m\n\u001B[0;32m    879\u001B[0m \u001B[43m        \u001B[49m\u001B[43m)\u001B[49m\n\u001B[0;32m    880\u001B[0m     \u001B[38;5;28;01melse\u001B[39;00m:\n\u001B[0;32m    881\u001B[0m         \u001B[38;5;66;03m# Binary mode\u001B[39;00m\n\u001B[0;32m    882\u001B[0m         handle \u001B[38;5;241m=\u001B[39m \u001B[38;5;28mopen\u001B[39m(handle, ioargs\u001B[38;5;241m.\u001B[39mmode)\n",
      "\u001B[1;31mFileNotFoundError\u001B[0m: [Errno 2] No such file or directory: 'experiments/first_experiment/test_frames_gt_new.csv'"
     ]
    }
   ],
   "execution_count": 9
  },
  {
   "metadata": {
    "ExecuteTime": {
     "end_time": "2024-07-03T17:42:11.582156Z",
     "start_time": "2024-07-03T17:42:11.577639Z"
    }
   },
   "cell_type": "code",
   "source": [
    "# print pickle file \n",
    "with open(\"experiments/first_experiment/bio_3_3_th5.pickle\", \"rb\") as file:\n",
    "    data = pickle.load(file)\n",
    "\n",
    "logger.info(f\"new_pickle: {data}\")"
   ],
   "id": "a7e3891b6d32bf22",
   "outputs": [],
   "execution_count": null
  },
  {
   "metadata": {
    "ExecuteTime": {
     "end_time": "2024-07-03T17:18:31.515771Z",
     "start_time": "2024-07-03T17:18:20.715339Z"
    }
   },
   "cell_type": "code",
   "source": [
    "\n",
    "# set image paths for the experiments\n",
    "\n",
    "embedding_model = EmbeddingsModel()\n",
    "\n",
    "extracted_data_path = [data[key]['img_path'] for key in data.keys() if\n",
    "                       'img_path' in data[key]]\n",
    "\n",
    "embedding_model.img_paths = None\n",
    "\n",
    "embedding_model.img_paths = extracted_data_path\n",
    "\n",
    "extracted_data_ocr_text = [data[key]['ocr_extracted_text'] for key in data.keys() if\n",
    "                           'ocr_extracted_text' in data[key]]\n",
    "\n",
    "logger.info(f\"Extracted_data_ocr_text: {extracted_data_ocr_text}\")\n",
    "\n",
    "logger.info(f\"extracted_data_path: {extracted_data_path}\")\n",
    "\n",
    "# Note: the data is correctly mapped \n",
    "print(extracted_data_path[0])\n",
    "print(extracted_data_ocr_text[0])"
   ],
   "id": "7eed7ee4744bd9d0",
   "outputs": [
    {
     "name": "stderr",
     "output_type": "stream",
     "text": [
      "INFO:sentence_transformers.SentenceTransformer:Use pytorch device_name: cpu\n",
      "INFO:sentence_transformers.SentenceTransformer:Load pretrained SentenceTransformer: paraphrase-multilingual-MiniLM-L12-v2\n",
      "\u001B[32m2024-07-03 19:18:31.495\u001B[0m | \u001B[1mINFO    \u001B[0m | \u001B[36m__main__\u001B[0m:\u001B[36m<module>\u001B[0m:\u001B[36m15\u001B[0m - \u001B[1mExtracted_data_ocr_text: ['Transport Across Membranes\\n\\n+ Exocytosis: a membrane-bound vesicle fuses with the\\nmembrane and expels the large molecule outside the cell\\n\\n(2) Exocytosis\\n\\n', 'Do you use any of these supplements?\\n\\n>\\n\\ngingko\\nkava\\nginseng\\n\\nmelatonin\\n\\nmooo\\n\\ncoconut water\\n\\n‘$0 YOU WAVE VITAMINS, AND THEN YOU HAVE \"HERBAL\\nSUPPLEMENTS.\" WHICH ARE WOT FDA APPROVED.\\n\\nL\\n‘AND JUST FOR REFERENCE, THE TWINKIE IS.\\n\\n', 'Transport Across Membranes\\n\\n* Membrane transport\\n— Plasma membrane:\\nphospholipid bilayer is\\ndifferentially permeable\\n= Hydrophobic substances\\n\\n', 'Nutrients: Macronutrients\\n\\n* Carbohydrates: main energy\\n\\nsource Fructose e\\n+ Possible structural composition: =\\n— Single-unit simple sugars\\n(monosaccharides)\\n~ Many sugar subunits o\\n(polysaccharides) (s)crapefined 2) Grapes\\nuy\\n\\n* arranged in branching chains\\n\\nSuppiement\\n(complex carbohydrates)\\n', \"Which process uses transport proteins to move\\nhydrophilic molecules through the plasma membrane?\\nA. exocytosis\\n\\n. facilitated diffusion\\n\\nosmosis\\n\\ngon\\n\\npassive diffusion\\n\\nag\\nYou know you can't just pass\\nthrough the cell membra\\n\\n\", 'Nutrients: Macronutrients\\n\\n» Water\\n— Disperses nutrients\\n— Dissolves and eliminates waste products\\n\\n™_ ae\\n\\n', 'Nutrients: Macronutrients\\n\\n* Whole foods\\n— Unprocessed foods not stripped of nutrition\\n— E.g. whole grains, beans, many fruits and vegetables\\n\\n', 'Nutrients: Micronutrients\\n\\n+ Water-soluble vitamins + Fat-soluble vitamins\\n\\n-BandC ~A,D,E,andk\\n— Not stored by the body — May be stored in fat\\n—Leached out by boiling — Excess accumulation can\\n* Fresh vegetables are a be toxic\\nbetter source * Increased risks\\n\\n~ Certain cancers\\n—Heart disease\\nDeath\\n', '', 'Cell Structure\\n\\n+ Cytoplasm: includes cytosol “=\\n\\nand organelles\\n~ Organelles: perform specific\\n\\njobs required by the cell and\\n\\nwork with other organelles\\n\\n— Cytosol: watery matrix with\\n\\nsalts and enzymes; houses oes\\n\\nthe organelles eat\\n\\n', 'How do I know if supplements are getting\\ntransported into cells and doing something\\nworthwhile for my health?\\n+ FDArequires scientific testing before approving it for public use\\n— Not true for dietary supplements\\n* even though people are using them as medicines\\n~ Claims made on bottles are not necessarily tested or proven\\n~ Look for these notices\\n* ‘these statements are not evaluated by the FDA\\n\\n* oF “this product is not intended to diagnose, treat, cure, or prevent\\nany disease\\n— Evaluate the claims before you decide to use any supplement\\n* Consult your physician or trustworthy source\\n* FDA keeps a record of supplements on their website that are under\\nreview for causing adverse effects\\n\\n— It makes more sense to eat a healthy diet than use high does of\\nexpensive pills, powders and potions\\n', 'Which Describes Active Transport?\\n\\nA. K+ will move from high concentration\\nto low concentration; ATP is used.\\n\\nB. K+ will move from low\\nconcentration to high\\nconcentration; ATP is used.\\n\\nC. K+ will move from high concentration\\nto low concentration; ATP is not\\nused.\\n\\nrs «\\nD. K+ will move from low concentration\\n\\nto high concentration; ATP is not\\n\\nused.\\n', '3.3 Transport Across Membranes « of9)\\n\\n+ Diffusion: passive transport from area of high\\nconcentration to low concentration\\n\\n~ Very small, hydrophobic molecules\\n\\nOe alin PH\\ncareeneaten SP 9,\\n', 'What molecules are the major source of\\nenergy for cells?\\n\\nA\\n\\nB.\\ncs\\nD.\\n\\namino acids\\n\\n. carbohydrates\\n\\ndietary fiber\\nvitamins\\n\\nEAT JUNK FOOD ALL DAY LONG AND\\nNOBODY,BATSIAN EYE\\n\\ni ne\\n\\n#7\" DRINK,ONEPROTEIN SHAKE IN\\nPUBLIC AND EVERYONELOSES THEIR\\nMINDS\\n\\n', 'Cell Structure\\n\\n+ Supplements and cell structures\\n— Creatine — used in protein synthesis and cellular\\nrespiration\\n\\n= Supplemented by athletes\\n— increase muscle mass?\\n~ provide more powerful bursts of energy?\\n\\n* Effects of supplementing not well studied\\n~ Excess may result in kidney failure\\n', 'What are processed foods?\\n\\nA\\n\\nB.\\nCc.\\nD.\\n\\nfoods that contain genetic material\\nmanufactured foods with complete nutrition\\n\\nnatural foods that need extra processing for digestion\\n\\n|. refined foods stripped of nutritional value\\n\\nREAL FOOD|DOESN\\'T.NEED\\ni INGREDIENTS LIST?\\n\\nA = Ac\", *s\\nREALFOOD THE INGREDIENT,\\n', 'Introduction\\n\\n+ How helpful are nutritional\\nsupplements?\\n— Americans spend $6 billion per\\nyear\\n— Two-thirds of the American\\npopulation take at least one\\nsupplement\\n\\n+ Do these supplements improve\\n\\nhealth & athletic performance?\\n', 'Cell Structure\\n\\n* Plasma membrane\\n— Determines materials to be\\nallowed in or out\\n= Semipermeable: some\\nmolecules can cross and\\n‘some are prevented from\\ncrossing\\n\\n', 'Fish Oil Capsules?\\n\\n+ Do not contain all the other vitamins and nutrients that\\neating fish do\\n\\n', \"Nutrients: Micronutrients\\n\\n+ Vitamins: organic substances\\n— Usually function as coenzymes\\n« Help to speed up body's chemical reactions\\n— Only vitamin D can be synthesized in the body\\n= Sunlight required\\n= Supplementation in areas of low sunlight\\n— Other vitamins are supplied by foods\\n\", 'Fiber bars?\\n\\n+ May be rich in fiber\\n+ Also usually rich in processed sugar and additives\\n\\n+ Best to get fiber from whole foods\\n', 'Which Describes Active Transport?\\n\\nA. K+ will move from high concentration\\nto low concentration; ATP is used.\\n\\nB. K+ will move from low\\nconcentration to high\\nconcentration; ATP is used.\\n\\nC. K+ will move from high concentration\\nto low concentration; ATP is not\\nused.\\n\\nD. K+ will move from low concentration\\nto high concentration; ATP is not\\nused.\\n', 'Nutrients: Macronutrients\\n+» Fats\\n— Hydrogenation\\n* Process adds hydrogen atoms to solidify unsaturated fat\\n~ Trans fats\\n= Produced by incomplete hydrogenation\\n— Double bonds are flat and not kinked\\n* Increased health risks\\n— Clogged arteries\\n— Heart disease\\n— Diabetes\\n+ Fat contains more stored energy per gram than carbs or proteins...\\n— excess fat intake is associated with several diseases\\n~ Limit intake overall in your diet\\n', 'Nutrients: Micronutrients\\n\\nClick to add text 7a\\n\\n', 'Adding protein powder to your post-workout\\nsnack is always a healthy way to add muscle.\\nA. True\\n\\nB. False ?\\n\\nSLID\\n\\nWANT IRONAILUEAT;\\nIRON\\n\\n', 'Cell Structure\\n\\n* Plasma membrane\\n— Determines materials to be\\nallowed in or out\\n= Semipermeable: some\\nmolecules can cross and\\n‘some are prevented from\\ncrossing\\n\\n', 'Nutrients: Macronutrients\\n\\n+ Fats\\n\\n— Polyunsaturated fats\\n= Many double bonds prevent tight packing\\n\\n', 'Nutrients: Micronutrients\\nBest benefit comes from whole foods, not supplements\\n\\n--most likely due to the balance of both antioxidants and\\nfree radicals for optimal health since some free radicals\\nare needed to kill cancer cells, bacteria and invaders\\n\\n‘rane sand vegeta,\\n\\n‘regenareeecorscune fe\\n‘ont horgeet pomp\\n‘cower eon ta,\\nton\\n\\negtrtsandonetties, Tote nigelenenting with apane\\nIcringtomsoc and” haat oes oonatohoe ay ce\\nmeme sete\\n', 'Cell Structure\\n\\n+ Subcellular structures\\n— Cell wall: protection outside the plasma membrane for\\nplants, fungi, and bacteria; provides structural support\\n— Nucleus: holds chromatin (DNA and proteins) in\\neukaryotic cells; surrounded by nuclear envelope\\n— Nucleolus: synthesizes ribosomes; inside nucleus\\n\\n', 'Chapter 3:\\n\\nNutrients & Membrane Transport\\n***Is It Possible to Supplement Your\\nWay to Better Performance & Health?\\n\\nBiology 1020:\\nCURRENT TOPICS IN\\nBIOLOGY\\n\\n', 'Transport Across Membranes\\n\\n+ Osmosis: diffusion of water across a membrane from high\\nto low concentration\\n\\npet once\\n', 'Nutrients: Macronutrients\\n\\n» Water\\n— 3 liters lost each day in sweat, urine, feces\\n= 1.5 replaced by food\\n= 1.5 Lneeded from other sources\\n\\n', 'Nutrients: Macronutrients\\n\\n+ Fats\\n\\n— Polyunsaturated fats\\n= Many double bonds prevent tight packing\\n\\n', 'Nutrients: Macronutrients\\n\\n+ Fats: source of stored energy\\n\\n* Food sources:\\n—Meat\\n— Milk\\n— Cheese\\n— Vegetable oils\\n—Nuts\\n\\n', 'Cell Structure\\n\\n* Plasma membrane\\n\\n~ Determines materials to be\\nallowed in or out\\n* Semipermeable: some\\nmolecules can cross and\\nsome are prevented from\\ncrossing\\n\\n', 'Nutrients: Macronutrients\\n\\n+ Proteins: parts of cellular “~*~\\nstructures and processes fio =\\n* Structural composition:\\n\\n— Polymers of amino acids “=\\n\\n+ Essential amino acids: *\\ncannot be made in the body;\\nmust be obtained from food\\n', 'Cell Structure\\n\\n+ Cell structure\\n\\n', 'Nutrients: Micronutrients\\n\\n+ Antioxidants\\n— Most beneficial in whole foods\\n— Prevent cell damage by free radicals\\n» Damage to DNA, arterial linings, and cell membranes\\n\\n~ May inhibit normal cell processes producing free\\nradicals\\n\\n', 'Bottled water is cleaner than tap water.\\n\\nA. True\\nB. False\\n\\n', 'Transport Across Membranes\\n\\n* Faci\\nproteins help move hydrophilic\\nand charged molecules across\\nthe membrane\\n\\n— From high to low\\nconcentration\\n— Without using energy\\n\\nited diffusion: transport ».\\n\\n', 'Cell Structure\\n\\n+ Subcellular structures\\n\\n— Ribosomes: assemble proteins;\\nfree floating or attached to ER\\n\\n— Rough endoplasmic reticulum\\n(rough ER): membrane network\\nwith ribosomes attached for\\nprotein synthesis\\n\\n— Smooth endoplasmic\\nreticulum (smooth ER):\\ninvolved in lipid synthesis or\\ndetoxification; lacks ribosomes\\n\\n~ Golgi apparatus: modifies,\\nsorts, and packages proteins\\n\\n', 'Transport Across Membranes\\n\\n+ Endocytosis: a vesicle pinches the plasma membrane\\ninward and brings a large molecule into the cell\\n\\n(b) Endocytosis\\n\\n©.€ @\\n\\n', 'Nutrients: Micronutrients\\n\\n‘Commonly supplemented vitamins and whole foods that contain them.\\n\\n', 'Nutrients: Macronutrients\\n\\n+ Fiber (roughage): indigestible complex carbohydrates\\n— Some digested by bacteria in large intestine\\n— Adds bulk to feces in large intestine\\n— Lowers cholesterol and reduces cancer risk\\n— Fiber bars contain too much sugar and additives\\n\\n', 'Cells\\n\\n+ Some supplements are composed of extracts produced by\\ngrinding and breaking open plant cells\\n\\n+ Others are made to affect a particular subcellular structure\\nin human cells\\n+ Cells are the basic unit of life\\n— Plant and animal cells evolved from common ancestor\\n~ Share many characteristics\\n* Cell structures and organelles\\n\\n+ **Let’s take a look at cells and their structures next,\\nthen examine some supplements made from plant\\ncells and some that inhibit organelle function\\n', 'Nutrients: Macronutrients\\n\\n+ Saturated fats + Unsaturated fats\\n\\n~ Fatty acid carbons bond — Fewer hydrogens are\\nto as much hydrogen as bound to carbons\\npossible — Contain double bonds\\n\\n— Lack double bonds = Kinks in the tails\\n\\n— Solid at room temperature — Liquid at room\\n\\n— Most animal fats are temperature\\nsaturated — Most plant fats (oils)\\n\\nare unsaturated or\\npolyunsaturated\\n', 'Cell Structure\\n\\n* Supplements and cell\\nstructures\\n— Elite cyclists ingested liquid\\nsupplements during a 1-week\\ntraining camp.\\n* One group had only\\ncarbohydrates.\\n= The other group had protein\\nand carbohydrates.\\n— What does the data tell us\\nabout their average power\\nusage on Day 1? On Day 6?\\n\\nDa eens\\n\\n‘Average power (W) used by eylists in 5 minute race\\n\\ncoronas\\n\\nBH carorerate\\n\\nDay6\\n', 'Do you use any of these supplements?\\n\\n>\\n\\ngingko\\nkava\\nginseng\\n\\nmelatonin\\n\\nmooo\\n\\ncoconut water\\n‘$0 YOU WAVE VITAMINS, AND THEN YOU HAVE \"HERBAL\\nSUPPLEMENTS.\" WHICH ARE WOT FRA APPROVED.\\n°\\n\\n1.\\nAND JUST FOR REFERENCE THE TWINKIE IS,\\n\\n', 'Transport Across Membranes\\n\\n+ Active transport\\n\\n— Uses proteins to move molecules from low to high\\nconcentration\\n\\n~ Powered by energy from ATP\\n\\natv anspor\\n\\n', 'How many liters of water are lost by an\\naverage human each day?\\n\\n& 3 FIGHTEATIGUE\\nB. 2 Wi ar\\n\\nC3 ez\\n\\nD4 4 >\\n»\\n\\nage\\n\\ni YOUWILL\\n\\n', 'Transport Across Membranes\\n\\n* Passive transport: movement of molecules\\nwithout energy\\n— Diffusion\\n— Facilitated diffusion\\n— Osmosis\\n\\n', 'Nutrients: Macronutrients\\n\\n+ Carbohydrates: main energy source\\n\\n* Digestion:\\n— Simple sugars — digested and into\\nthe bloodstream quickly\\n+ E.g. found in milk, juice, honey,\\nrefined foods\\n~ Complex carbohydrates — digested\\nslowly as multiple chemical bonds\\nare broken\\n* Eg. found in fruits, vegetables,\\nbreads, legumes, pasta\\n\\n', 'A fatty acid tail contains carbon that is double bonded\\nto another carbon. Which fat has this structure?\\n\\nA.\\nB.\\nCc.\\nD. unsaturated fat\\n\\nphospholipid\\nsaturated fat\\n\\ntrans fat\\n', 'Cell Structure\\n\\n+ Plasma membrane\\n— Encloses all cells\\n— Defines outer boundary of\\ncells\\n— Isolates cell contents from\\nenvironment\\n\\n', \"Nutrients: Macronutrients Wy\\n\\n* Proteins: parts of cellular structures and take part in\\nmost body processes\\n\\nDLIKE A QUADRUPLE BACON\\nCHEESEBURGER WITH EXTRA BACON.\\n* Food sources:\\n— Beef\\n>\\n~Poultry wD, i\\n— Fish ee Se wi\\n~ Beans i |\\nSS\\nEggs HOLD THE BREAD, I'M ON\\n— Nuts ADIET.\\n\\n— Dairy products (milk, yogurt, cheese)\\n\", 'Nutrients: Micronutrients\\n\\n* Micronutrients: required in small quantities\\n— Vitamins\\n— Minerals\\n— Not broken down by the body\\n— Not burned for energy\\n\\n', 'Nutrients: Macronutrients\\n\\n* Carbohydrates: main energy source\\n\\n* Food sources:\\n—Bread\\n— Cereal\\n—Rice\\n—Pasta\\n— Fruits\\nVegetables\\n\\n', 'Transport Across Membranes\\n\\n* Passive transport: movement of molecules\\nwithout energy\\n— Diffusion\\n— Facilitated diffusion\\n— Osmosis\\n\\n', 'How does water move if a cell is placed in\\nsaltwater?\\n\\nA. Equal amounts of water move in and out of the cell.\\nB. No water will move into or out of the cell.\\n\\nC. Osmosis will cause water to move into the cell.\\n\\nD. Osmosis will cause water to move out of the cell.\\n', 'Nutrients: Macronutrients\\n\\n+ Nutrients\\n— Substances in food\\n— Provide structural materials or energy\\n\\nHEN)\\n\\n* Macronutrients\\n— Required in large amounts\\n= Water\\n* Carbohydrates\\n* Proteins\\n= Fats\\n\\n', 'Nutrients: Macronutrients\\n\\n* Processed food\\n— Extensive refinement\\n~ Stripped of nutritional value\\n\\n1S MAYONAISE\\n\\noo\\n\\n(a) Grape-flavored\\ndietary\\nsupplement\\n', 'Cell Structure\\n\\n+ Subcellular structures\\n\\n— Centrioles: move\\nchromosomes during animal\\ncell division\\n\\n— Cytoskeletal elements: form\\ncytoskeleton for maintaining\\nshape and structural support\\n\\n~ Central vacuole: stores\\nwater, sugars, and pigments in\\n\\nplant cells\\n', 'Review of Learning Outcomes\\nCan you describe the role of nutrients in the body?\\n‘Can you describe the function of water in the body?\\n\\nCan you describe the major dietary macronutrients and discuss the\\nfunctions of each?\\n\\nCan you list the major dietary micronutrients and describe their functions?\\nCan you describe the structure and function of the plasma membrane?\\n\\nCan you describe the structure and function of the subcellular\\norganelles?\\n\\nCan you distinguish between passive transport and active transport?\\n\\n‘Can you describe the processes of endocytosis and exocytosis?\\n', 'Learning Outcomes\\nDescribe the role of nutrients in the body.\\nDescribe the function of water in the body.\\n\\nDescribe the major dietary macronutrients and discuss the\\nfunctions of each.\\n\\nList the major dietary micronutrients and describe their\\nfunctions.\\n\\nDescribe the structure and function of the plasma membrane.\\n\\nDescribe the structure and function of the subcellular\\norganelles.\\n\\nDistinguish between passive transport and active transport.\\n\\nDescribe the processes of endocytosis and exocytosis.\\n', 'Which organelle is found only in plant cells?\\n\\nA.\\n\\nB.\\nCc.\\nD.\\n\\ncentriole\\n. Chloroplast\\ns EVERYTHING | ATE THIS\\nmitochondrion WEEKEND:\\n. tibosome\\n\\n~e]\\n2. |\\n\\nWERE GOING TO PRETEND THAT’\\nIT DIDNT HAPPEN.\\n\\n', 'Nutrients: Macronutrients\\n« Water\\n— Decreased water intake — dehydration\\n\\n+ Minor symptoms * Severe symptoms\\n=< Muscle cramps — Hallucinations\\n— Fatigue fecisek\\n- Er\\n~ Headache Sanat\\n~ Dizziness — May result in death\\n— Nausea\\n— Confusion\\n\\n— Increased heart rate\\n', 'Transport Across Membranes\\n\\n* Passive transport: movement of molecules\\nwithout energy\\n— Diffusion\\n— Facilitated diffusion (o)\\n— Osmosis women aan\\n\\n', 'Nutrients: Macronutrients\\n\\n* Proteins: parts of cellular structures and processes\\n— Protein powder supplements\\n= Used to rebuild muscle after workouts\\n\\n= Excess protein may not lead to extra muscle ee\\n= Stored body fat\\n\\n~ Health problems\\n+ Bone loss\\n+ Kidney damage\\n\\n— Proteins can be obtained from a healthy diet.\\n\\n(,)\\nYY\\n', 'Nutrients: Micronutrients\\n\\n* Minerals: inorganic substances\\n\\n— Do not contain carbon\\n\\n— Water soluble\\n\\n~ Supplied through diet\\n\\n— Essential for cell and body functions\\n= Fluid balance\\n= Muscle contraction\\n= Conduction of nerve impulses\\n* Building bones and teeth\\n', 'What vitamin can be synthesized by the\\nhuman body?\\n\\nA. vitamin A\\nSwann ESSENTIALLY THE ESSENTIALNESS\\nC. vitamin (OFEATING ESSENTIAL NUTRIENTS;\\nD. vitamin K\\n\\nMIS QUITEESSENTIAL\\n', 'Nutrients: Micronutrients\\n\\nClick to add text bt)\\n\\n‘edtntsandwegeies, Tose iptenenting th agent\\nIrcogtomatcesand haat cn oonatohawe ay Se\\n', 'Nutrients: Macronutrients\\n\\n+ Fats\\n— Hydrogenation\\n= Process adds hydrogen atoms to solidify unsaturated fat\\n~ Trans fats\\n= Produced by incomplete hydrogenation\\n— Double bonds are flat and not kinked\\n* Increased health risks\\n— Clogged arteries\\n~ Heart disease\\n~ Diabetes\\n', 'Cell Structure\\n\\n* Membrane structure\\n\\n—Fluid properties\\n* Allow lipids and proteins to\\nslide laterally\\n~ Phospholipid bilayer\\n+ Hydrophilic heads maximize\\nexposure to water\\n* Hydrophobic tails interact\\nwith each other; exclude\\nwater\\n\\nHosa]\\n\\nb Tats\\n\\nPhospholipid\\n', 'Transport Across Membranes\\n\\n. Bgeeytesis: a membrane-bound vesicle fuses with the\\nrane and expels the large molecule outside the cell\\n\\n{) Exocytosis\\n\\n', \"BioFlix: Membrane Transport\\n\\n\\\\ BioF lix\\nMembrane Transport\\n\\nhttps://youtu.be/YfoiHiv5760\\n‘You can also view this video on YouTube.com if it doesn't play within the PowerPoint.\\n\", 'Transport Across Membranes\\n\\n* Passive transport: movement of molecules\\nwithout energy\\n— Diffusion\\n— Facilitated diffusion\\n\\n~— Osmosis\\n\\n', 'Nutrients: Macronutrients\\n\\n* Sports drinks\\n— Provide unneeded calories\\n— Have additives with unknown benefits\\n— More costly than water\\n\\n', 'Cell Structure\\n\\n+ Subcellular structures\\n\\n— Mitochondrion: produces\\nenergy for the cell through\\ncellular respiration\\n\\n— Chloroplast: produces\\nsugars through\\nphotosynthesis in plant cells\\n\\n— Lysosome: contains &\\ndigestive enzymes to recycle\\nmolecules\\n\\n', 'Chapter 3:\\n\\nNutrients & Membrane Transport\\n***Is It Possible to Supplement Your\\nWay to Better Performance & Health?\\n\\nBiology 1020:\\nCURRENT TOPICS IN\\nBIOLOGY\\n\\n', 'Cell Structure\\n\\n* Membrane structure\\n\\n—Fluid properties )\\n* Allow lipids and proteins to\\nslide laterally\\n— Phospholipid bilayer\\n* Hydrophilic heads maximize\\nexposure to water\\n\\n* Hydrophobic tails interact\\nwith each other; exclude\\nwater\\n\\nPhospholipid\\n\\n', 'Nutrients: Macronutrients\\n\\n* Fats: source of stored energy\\n— Cushion and protect vital organs\\n— Insulate the body in cold weather\\n* Structural composition:\\n— Consist of a glycerol attached to fatty acid tails\\n= Essential fatty acids: cannot be made in the body\\n~ E.g., omega-3 and omega-6\\n— Obtained from eating fish\\n— Possible protection against heart disease\\n', 'Nutrients: Macronutrients\\n\\n+ Fats\\n— Hydrogenation\\n= Process adds hydrogen atoms to solidify unsaturated fat\\n~ Trans fats\\n= Produced by incomplete hydrogenation\\n— Double bonds are flat and not kinked\\n* Increased health risks\\n— Clogged arteries\\n~ Heart disease\\n~ Diabetes\\n', 'Nutrients: Micronutrients\\n\\n* Calcium\\n— Commonly supplemented mineral for\\n* Blood clotting\\n= Muscle contraction\\n= Nerve impulses\\n= Healthy bone structure\\n— Require 1000 mg/day\\n= Combination of these foods:\\n~ Yogurt (8 02)\\n— Cheese (1.5 02)\\n— Milk (one glass)\\n\\n', 'Cell Structure\\n\\n* Membrane structure\\n— Embedded proteins\\n= Carry out enzymatic functions\\n* Serve as receptors for outside substances\\n= Help transport substances throughout cell\\n\\n= Sugar\\nf. chans\\n\\nPhospholipie\\nbilayer\\n\\n~ Protein\\n', 'Nutrients: Macronutrients\\n\\n+ Proteins: parts of cellular structures and processes\\n\\n— Complete proteins: contain all essential amino\\nacids\\n\\n* More likely found in meat\\n= Combinations of plant proteins\\n\\n']\u001B[0m\n",
      "\u001B[32m2024-07-03 19:18:31.500\u001B[0m | \u001B[1mINFO    \u001B[0m | \u001B[36m__main__\u001B[0m:\u001B[36m<module>\u001B[0m:\u001B[36m17\u001B[0m - \u001B[1mextracted_data_path: ['/Users/magic-rabbit/Documents/AFM/afm-vlm/data/raw/biology_chapter_3_3_treshhold_5/extracted_keyframes/biology_chapter_3_3_treshhold_5-Scene-079-01.jpg', '/Users/magic-rabbit/Documents/AFM/afm-vlm/data/raw/biology_chapter_3_3_treshhold_5/extracted_keyframes/biology_chapter_3_3_treshhold_5-Scene-004-01.jpg', '/Users/magic-rabbit/Documents/AFM/afm-vlm/data/raw/biology_chapter_3_3_treshhold_5/extracted_keyframes/biology_chapter_3_3_treshhold_5-Scene-067-01.jpg', '/Users/magic-rabbit/Documents/AFM/afm-vlm/data/raw/biology_chapter_3_3_treshhold_5/extracted_keyframes/biology_chapter_3_3_treshhold_5-Scene-016-01.jpg', '/Users/magic-rabbit/Documents/AFM/afm-vlm/data/raw/biology_chapter_3_3_treshhold_5/extracted_keyframes/biology_chapter_3_3_treshhold_5-Scene-075-01.jpg', '/Users/magic-rabbit/Documents/AFM/afm-vlm/data/raw/biology_chapter_3_3_treshhold_5/extracted_keyframes/biology_chapter_3_3_treshhold_5-Scene-008-01.jpg', '/Users/magic-rabbit/Documents/AFM/afm-vlm/data/raw/biology_chapter_3_3_treshhold_5/extracted_keyframes/biology_chapter_3_3_treshhold_5-Scene-020-01.jpg', '/Users/magic-rabbit/Documents/AFM/afm-vlm/data/raw/biology_chapter_3_3_treshhold_5/extracted_keyframes/biology_chapter_3_3_treshhold_5-Scene-043-01.jpg', '/Users/magic-rabbit/Documents/AFM/afm-vlm/data/raw/biology_chapter_3_3_treshhold_5/extracted_keyframes/biology_chapter_3_3_treshhold_5-Scene-032-01.jpg', '/Users/magic-rabbit/Documents/AFM/afm-vlm/data/raw/biology_chapter_3_3_treshhold_5/extracted_keyframes/biology_chapter_3_3_treshhold_5-Scene-051-01.jpg', '/Users/magic-rabbit/Documents/AFM/afm-vlm/data/raw/biology_chapter_3_3_treshhold_5/extracted_keyframes/biology_chapter_3_3_treshhold_5-Scene-084-01.jpg', '/Users/magic-rabbit/Documents/AFM/afm-vlm/data/raw/biology_chapter_3_3_treshhold_5/extracted_keyframes/biology_chapter_3_3_treshhold_5-Scene-077-01.jpg', '/Users/magic-rabbit/Documents/AFM/afm-vlm/data/raw/biology_chapter_3_3_treshhold_5/extracted_keyframes/biology_chapter_3_3_treshhold_5-Scene-069-01.jpg', '/Users/magic-rabbit/Documents/AFM/afm-vlm/data/raw/biology_chapter_3_3_treshhold_5/extracted_keyframes/biology_chapter_3_3_treshhold_5-Scene-014-01.jpg', '/Users/magic-rabbit/Documents/AFM/afm-vlm/data/raw/biology_chapter_3_3_treshhold_5/extracted_keyframes/biology_chapter_3_3_treshhold_5-Scene-065-01.jpg', '/Users/magic-rabbit/Documents/AFM/afm-vlm/data/raw/biology_chapter_3_3_treshhold_5/extracted_keyframes/biology_chapter_3_3_treshhold_5-Scene-018-01.jpg', '/Users/magic-rabbit/Documents/AFM/afm-vlm/data/raw/biology_chapter_3_3_treshhold_5/extracted_keyframes/biology_chapter_3_3_treshhold_5-Scene-006-01.jpg', '/Users/magic-rabbit/Documents/AFM/afm-vlm/data/raw/biology_chapter_3_3_treshhold_5/extracted_keyframes/biology_chapter_3_3_treshhold_5-Scene-053-01.jpg', '/Users/magic-rabbit/Documents/AFM/afm-vlm/data/raw/biology_chapter_3_3_treshhold_5/extracted_keyframes/biology_chapter_3_3_treshhold_5-Scene-030-01.jpg', '/Users/magic-rabbit/Documents/AFM/afm-vlm/data/raw/biology_chapter_3_3_treshhold_5/extracted_keyframes/biology_chapter_3_3_treshhold_5-Scene-041-01.jpg', '/Users/magic-rabbit/Documents/AFM/afm-vlm/data/raw/biology_chapter_3_3_treshhold_5/extracted_keyframes/biology_chapter_3_3_treshhold_5-Scene-022-01.jpg', '/Users/magic-rabbit/Documents/AFM/afm-vlm/data/raw/biology_chapter_3_3_treshhold_5/extracted_keyframes/biology_chapter_3_3_treshhold_5-Scene-080-01.jpg', '/Users/magic-rabbit/Documents/AFM/afm-vlm/data/raw/biology_chapter_3_3_treshhold_5/extracted_keyframes/biology_chapter_3_3_treshhold_5-Scene-038-01.jpg', '/Users/magic-rabbit/Documents/AFM/afm-vlm/data/raw/biology_chapter_3_3_treshhold_5/extracted_keyframes/biology_chapter_3_3_treshhold_5-Scene-045-01.jpg', '/Users/magic-rabbit/Documents/AFM/afm-vlm/data/raw/biology_chapter_3_3_treshhold_5/extracted_keyframes/biology_chapter_3_3_treshhold_5-Scene-026-01.jpg', '/Users/magic-rabbit/Documents/AFM/afm-vlm/data/raw/biology_chapter_3_3_treshhold_5/extracted_keyframes/biology_chapter_3_3_treshhold_5-Scene-057-01.jpg', '/Users/magic-rabbit/Documents/AFM/afm-vlm/data/raw/biology_chapter_3_3_treshhold_5/extracted_keyframes/biology_chapter_3_3_treshhold_5-Scene-034-01.jpg', '/Users/magic-rabbit/Documents/AFM/afm-vlm/data/raw/biology_chapter_3_3_treshhold_5/extracted_keyframes/biology_chapter_3_3_treshhold_5-Scene-049-01.jpg', '/Users/magic-rabbit/Documents/AFM/afm-vlm/data/raw/biology_chapter_3_3_treshhold_5/extracted_keyframes/biology_chapter_3_3_treshhold_5-Scene-061-01.jpg', '/Users/magic-rabbit/Documents/AFM/afm-vlm/data/raw/biology_chapter_3_3_treshhold_5/extracted_keyframes/biology_chapter_3_3_treshhold_5-Scene-002-01.jpg', '/Users/magic-rabbit/Documents/AFM/afm-vlm/data/raw/biology_chapter_3_3_treshhold_5/extracted_keyframes/biology_chapter_3_3_treshhold_5-Scene-073-01.jpg', '/Users/magic-rabbit/Documents/AFM/afm-vlm/data/raw/biology_chapter_3_3_treshhold_5/extracted_keyframes/biology_chapter_3_3_treshhold_5-Scene-010-01.jpg', '/Users/magic-rabbit/Documents/AFM/afm-vlm/data/raw/biology_chapter_3_3_treshhold_5/extracted_keyframes/biology_chapter_3_3_treshhold_5-Scene-036-01.jpg', '/Users/magic-rabbit/Documents/AFM/afm-vlm/data/raw/biology_chapter_3_3_treshhold_5/extracted_keyframes/biology_chapter_3_3_treshhold_5-Scene-028-01.jpg', '/Users/magic-rabbit/Documents/AFM/afm-vlm/data/raw/biology_chapter_3_3_treshhold_5/extracted_keyframes/biology_chapter_3_3_treshhold_5-Scene-055-01.jpg', '/Users/magic-rabbit/Documents/AFM/afm-vlm/data/raw/biology_chapter_3_3_treshhold_5/extracted_keyframes/biology_chapter_3_3_treshhold_5-Scene-024-01.jpg', '/Users/magic-rabbit/Documents/AFM/afm-vlm/data/raw/biology_chapter_3_3_treshhold_5/extracted_keyframes/biology_chapter_3_3_treshhold_5-Scene-059-01.jpg', '/Users/magic-rabbit/Documents/AFM/afm-vlm/data/raw/biology_chapter_3_3_treshhold_5/extracted_keyframes/biology_chapter_3_3_treshhold_5-Scene-047-01.jpg', '/Users/magic-rabbit/Documents/AFM/afm-vlm/data/raw/biology_chapter_3_3_treshhold_5/extracted_keyframes/biology_chapter_3_3_treshhold_5-Scene-012-01.jpg', '/Users/magic-rabbit/Documents/AFM/afm-vlm/data/raw/biology_chapter_3_3_treshhold_5/extracted_keyframes/biology_chapter_3_3_treshhold_5-Scene-071-01.jpg', '/Users/magic-rabbit/Documents/AFM/afm-vlm/data/raw/biology_chapter_3_3_treshhold_5/extracted_keyframes/biology_chapter_3_3_treshhold_5-Scene-063-01.jpg', '/Users/magic-rabbit/Documents/AFM/afm-vlm/data/raw/biology_chapter_3_3_treshhold_5/extracted_keyframes/biology_chapter_3_3_treshhold_5-Scene-082-01.jpg', '/Users/magic-rabbit/Documents/AFM/afm-vlm/data/raw/biology_chapter_3_3_treshhold_5/extracted_keyframes/biology_chapter_3_3_treshhold_5-Scene-042-01.jpg', '/Users/magic-rabbit/Documents/AFM/afm-vlm/data/raw/biology_chapter_3_3_treshhold_5/extracted_keyframes/biology_chapter_3_3_treshhold_5-Scene-021-01.jpg', '/Users/magic-rabbit/Documents/AFM/afm-vlm/data/raw/biology_chapter_3_3_treshhold_5/extracted_keyframes/biology_chapter_3_3_treshhold_5-Scene-050-01.jpg', '/Users/magic-rabbit/Documents/AFM/afm-vlm/data/raw/biology_chapter_3_3_treshhold_5/extracted_keyframes/biology_chapter_3_3_treshhold_5-Scene-033-01.jpg', '/Users/magic-rabbit/Documents/AFM/afm-vlm/data/raw/biology_chapter_3_3_treshhold_5/extracted_keyframes/biology_chapter_3_3_treshhold_5-Scene-066-01.jpg', '/Users/magic-rabbit/Documents/AFM/afm-vlm/data/raw/biology_chapter_3_3_treshhold_5/extracted_keyframes/biology_chapter_3_3_treshhold_5-Scene-005-01.jpg', '/Users/magic-rabbit/Documents/AFM/afm-vlm/data/raw/biology_chapter_3_3_treshhold_5/extracted_keyframes/biology_chapter_3_3_treshhold_5-Scene-078-01.jpg', '/Users/magic-rabbit/Documents/AFM/afm-vlm/data/raw/biology_chapter_3_3_treshhold_5/extracted_keyframes/biology_chapter_3_3_treshhold_5-Scene-009-01.jpg', '/Users/magic-rabbit/Documents/AFM/afm-vlm/data/raw/biology_chapter_3_3_treshhold_5/extracted_keyframes/biology_chapter_3_3_treshhold_5-Scene-074-01.jpg', '/Users/magic-rabbit/Documents/AFM/afm-vlm/data/raw/biology_chapter_3_3_treshhold_5/extracted_keyframes/biology_chapter_3_3_treshhold_5-Scene-017-01.jpg', '/Users/magic-rabbit/Documents/AFM/afm-vlm/data/raw/biology_chapter_3_3_treshhold_5/extracted_keyframes/biology_chapter_3_3_treshhold_5-Scene-031-01.jpg', '/Users/magic-rabbit/Documents/AFM/afm-vlm/data/raw/biology_chapter_3_3_treshhold_5/extracted_keyframes/biology_chapter_3_3_treshhold_5-Scene-052-01.jpg', '/Users/magic-rabbit/Documents/AFM/afm-vlm/data/raw/biology_chapter_3_3_treshhold_5/extracted_keyframes/biology_chapter_3_3_treshhold_5-Scene-023-01.jpg', '/Users/magic-rabbit/Documents/AFM/afm-vlm/data/raw/biology_chapter_3_3_treshhold_5/extracted_keyframes/biology_chapter_3_3_treshhold_5-Scene-040-01.jpg', '/Users/magic-rabbit/Documents/AFM/afm-vlm/data/raw/biology_chapter_3_3_treshhold_5/extracted_keyframes/biology_chapter_3_3_treshhold_5-Scene-015-01.jpg', '/Users/magic-rabbit/Documents/AFM/afm-vlm/data/raw/biology_chapter_3_3_treshhold_5/extracted_keyframes/biology_chapter_3_3_treshhold_5-Scene-068-01.jpg', '/Users/magic-rabbit/Documents/AFM/afm-vlm/data/raw/biology_chapter_3_3_treshhold_5/extracted_keyframes/biology_chapter_3_3_treshhold_5-Scene-076-01.jpg', '/Users/magic-rabbit/Documents/AFM/afm-vlm/data/raw/biology_chapter_3_3_treshhold_5/extracted_keyframes/biology_chapter_3_3_treshhold_5-Scene-007-01.jpg', '/Users/magic-rabbit/Documents/AFM/afm-vlm/data/raw/biology_chapter_3_3_treshhold_5/extracted_keyframes/biology_chapter_3_3_treshhold_5-Scene-019-01.jpg', '/Users/magic-rabbit/Documents/AFM/afm-vlm/data/raw/biology_chapter_3_3_treshhold_5/extracted_keyframes/biology_chapter_3_3_treshhold_5-Scene-064-01.jpg', '/Users/magic-rabbit/Documents/AFM/afm-vlm/data/raw/biology_chapter_3_3_treshhold_5/extracted_keyframes/biology_chapter_3_3_treshhold_5-Scene-085-01.jpg', '/Users/magic-rabbit/Documents/AFM/afm-vlm/data/raw/biology_chapter_3_3_treshhold_5/extracted_keyframes/biology_chapter_3_3_treshhold_5-Scene-003-01.jpg', '/Users/magic-rabbit/Documents/AFM/afm-vlm/data/raw/biology_chapter_3_3_treshhold_5/extracted_keyframes/biology_chapter_3_3_treshhold_5-Scene-060-01.jpg', '/Users/magic-rabbit/Documents/AFM/afm-vlm/data/raw/biology_chapter_3_3_treshhold_5/extracted_keyframes/biology_chapter_3_3_treshhold_5-Scene-011-01.jpg', '/Users/magic-rabbit/Documents/AFM/afm-vlm/data/raw/biology_chapter_3_3_treshhold_5/extracted_keyframes/biology_chapter_3_3_treshhold_5-Scene-072-01.jpg', '/Users/magic-rabbit/Documents/AFM/afm-vlm/data/raw/biology_chapter_3_3_treshhold_5/extracted_keyframes/biology_chapter_3_3_treshhold_5-Scene-027-01.jpg', '/Users/magic-rabbit/Documents/AFM/afm-vlm/data/raw/biology_chapter_3_3_treshhold_5/extracted_keyframes/biology_chapter_3_3_treshhold_5-Scene-044-01.jpg', '/Users/magic-rabbit/Documents/AFM/afm-vlm/data/raw/biology_chapter_3_3_treshhold_5/extracted_keyframes/biology_chapter_3_3_treshhold_5-Scene-039-01.jpg', '/Users/magic-rabbit/Documents/AFM/afm-vlm/data/raw/biology_chapter_3_3_treshhold_5/extracted_keyframes/biology_chapter_3_3_treshhold_5-Scene-048-01.jpg', '/Users/magic-rabbit/Documents/AFM/afm-vlm/data/raw/biology_chapter_3_3_treshhold_5/extracted_keyframes/biology_chapter_3_3_treshhold_5-Scene-035-01.jpg', '/Users/magic-rabbit/Documents/AFM/afm-vlm/data/raw/biology_chapter_3_3_treshhold_5/extracted_keyframes/biology_chapter_3_3_treshhold_5-Scene-056-01.jpg', '/Users/magic-rabbit/Documents/AFM/afm-vlm/data/raw/biology_chapter_3_3_treshhold_5/extracted_keyframes/biology_chapter_3_3_treshhold_5-Scene-081-01.jpg', '/Users/magic-rabbit/Documents/AFM/afm-vlm/data/raw/biology_chapter_3_3_treshhold_5/extracted_keyframes/biology_chapter_3_3_treshhold_5-Scene-083-01.jpg', '/Users/magic-rabbit/Documents/AFM/afm-vlm/data/raw/biology_chapter_3_3_treshhold_5/extracted_keyframes/biology_chapter_3_3_treshhold_5-Scene-070-01.jpg', '/Users/magic-rabbit/Documents/AFM/afm-vlm/data/raw/biology_chapter_3_3_treshhold_5/extracted_keyframes/biology_chapter_3_3_treshhold_5-Scene-013-01.jpg', '/Users/magic-rabbit/Documents/AFM/afm-vlm/data/raw/biology_chapter_3_3_treshhold_5/extracted_keyframes/biology_chapter_3_3_treshhold_5-Scene-062-01.jpg', '/Users/magic-rabbit/Documents/AFM/afm-vlm/data/raw/biology_chapter_3_3_treshhold_5/extracted_keyframes/biology_chapter_3_3_treshhold_5-Scene-001-01.jpg', '/Users/magic-rabbit/Documents/AFM/afm-vlm/data/raw/biology_chapter_3_3_treshhold_5/extracted_keyframes/biology_chapter_3_3_treshhold_5-Scene-054-01.jpg', '/Users/magic-rabbit/Documents/AFM/afm-vlm/data/raw/biology_chapter_3_3_treshhold_5/extracted_keyframes/biology_chapter_3_3_treshhold_5-Scene-029-01.jpg', '/Users/magic-rabbit/Documents/AFM/afm-vlm/data/raw/biology_chapter_3_3_treshhold_5/extracted_keyframes/biology_chapter_3_3_treshhold_5-Scene-037-01.jpg', '/Users/magic-rabbit/Documents/AFM/afm-vlm/data/raw/biology_chapter_3_3_treshhold_5/extracted_keyframes/biology_chapter_3_3_treshhold_5-Scene-046-01.jpg', '/Users/magic-rabbit/Documents/AFM/afm-vlm/data/raw/biology_chapter_3_3_treshhold_5/extracted_keyframes/biology_chapter_3_3_treshhold_5-Scene-058-01.jpg', '/Users/magic-rabbit/Documents/AFM/afm-vlm/data/raw/biology_chapter_3_3_treshhold_5/extracted_keyframes/biology_chapter_3_3_treshhold_5-Scene-025-01.jpg']\u001B[0m\n"
     ]
    },
    {
     "name": "stdout",
     "output_type": "stream",
     "text": [
      "/Users/magic-rabbit/Documents/AFM/afm-vlm/data/raw/biology_chapter_3_3_treshhold_5/extracted_keyframes/biology_chapter_3_3_treshhold_5-Scene-079-01.jpg\n",
      "Transport Across Membranes\n",
      "\n",
      "+ Exocytosis: a membrane-bound vesicle fuses with the\n",
      "membrane and expels the large molecule outside the cell\n",
      "\n",
      "(2) Exocytosis\n",
      "\n",
      "\n"
     ]
    },
    {
     "data": {
      "text/plain": [
       "<Figure size 800x2000 with 0 Axes>"
      ]
     },
     "metadata": {},
     "output_type": "display_data"
    }
   ],
   "execution_count": 76
  },
  {
   "metadata": {
    "ExecuteTime": {
     "end_time": "2024-07-03T17:18:31.522916Z",
     "start_time": "2024-07-03T17:18:31.517803Z"
    }
   },
   "cell_type": "code",
   "source": "",
   "id": "9409909faeade6ab",
   "outputs": [],
   "execution_count": 76
  },
  {
   "metadata": {
    "ExecuteTime": {
     "end_time": "2024-07-03T17:42:11.587922Z",
     "start_time": "2024-07-03T17:42:11.584875Z"
    }
   },
   "cell_type": "code",
   "source": [
    "# create dataframe to save results of the experiments\n",
    "columns = ['Prompt', 'GT_Keyframe', 'Top_1', 'Top_2', 'Top_3']\n",
    "\n",
    "df_test = pd.DataFrame(columns=columns)\n",
    "\n",
    "df_ocr_only = df_test\n",
    "df_ocr_lava = df_test\n",
    "df_ocr_transcriptions = df_test\n",
    "\n",
    "df_short_llm_summary = df_test\n",
    "df_extensive_summary = df_test\n",
    "\n",
    "df_clip_llm_summary = df_test\n",
    "df_clip_extensive_summary = df_test"
   ],
   "id": "64578e40fcd3a6ed",
   "outputs": [],
   "execution_count": null
  },
  {
   "metadata": {
    "ExecuteTime": {
     "end_time": "2024-07-03T17:42:11.591416Z",
     "start_time": "2024-07-03T17:42:11.591416Z"
    }
   },
   "cell_type": "code",
   "source": [
    "def add_to_df(prompt, gt_keyframe, result):\n",
    "    # Create a new row with the provided data\n",
    "    return {\n",
    "        'Prompt': prompt,\n",
    "        'GT_Keyframe': gt_keyframe,\n",
    "        'Top_1': extract_keyframe_number(result[0]) if len(result) > 0 else None,\n",
    "        'Top_2': extract_keyframe_number(result[1]) if len(result) > 1 else None,\n",
    "        'Top_3': extract_keyframe_number(result[2]) if len(result) > 2 else None\n",
    "    }\n",
    "\n",
    "\n",
    "# ietrate over the dataframe and get the results\n",
    "def get_results(df):\n",
    "    for _, row in df.iterrows():\n",
    "        logger.info(row['Prompt'])\n",
    "        prompt = row['Prompt']\n",
    "        gt_keyframe = row['GT_Keyframe']\n",
    "\n",
    "        # Search for similar images\n",
    "        output = embedding_model.search_similar_images_top_k(prompt, gt_keyframe, 3)\n",
    "        res_row = add_to_df(prompt, gt_keyframe, output)\n",
    "        rows.append(res_row)\n",
    "\n",
    "    return rows\n",
    "\n",
    "\n",
    "def extract_keyframe_number(path):\n",
    "    \"\"\"\n",
    "    Extracts the scene number from the given file path.\n",
    "\n",
    "    Parameters:\n",
    "    path (str): The full path of the file.\n",
    "\n",
    "    Returns:\n",
    "    str: The extracted scene number.\n",
    "    \"\"\"\n",
    "    # Get filename without extension\n",
    "    filename = os.path.splitext(os.path.basename(path))[0]\n",
    "\n",
    "    # Extract '032' from filename\n",
    "    scene_number = filename.split('-Scene-')[-1].split('-')[0]\n",
    "\n",
    "    return scene_number"
   ],
   "id": "b9b4e99d4b8ea54",
   "outputs": [],
   "execution_count": null
  },
  {
   "metadata": {
    "ExecuteTime": {
     "end_time": "2024-07-03T17:19:08.100243Z",
     "start_time": "2024-07-03T17:19:00.155976Z"
    }
   },
   "cell_type": "code",
   "source": [
    "# Embedded with standard Tokenizer: Only OCR\n",
    "embedding_model.text_embeddings = None\n",
    "\n",
    "logger.info(f\"Embedded with standard Tokenizer: Only OCR\")\n",
    "\n",
    "extracted_data_ocr_text = [data[key]['ocr_extracted_text'] for key in data.keys() if\n",
    "                           'ocr_extracted_text' in data[key]]\n",
    "\n",
    "#logger.info(extracted_data_ocr_text)\n",
    "\n",
    "# get the embedder model\n",
    "embedder_model = SentenceTransformer('paraphrase-multilingual-MiniLM-L12-v2')\n",
    "\n",
    "ocr_embeddings = text_to_embedding_transformer(extracted_data_ocr_text, embedder_model)\n",
    "\n",
    "#logger.info('OCR Embeddings: ', ocr_embeddings)\n",
    "\n",
    "embedding_model.text_embeddings = ocr_embeddings\n",
    "\n",
    "rows = []\n",
    "\n",
    "rows = get_results(df)\n",
    "\n",
    "df_ocr_only = pd.DataFrame(rows, columns=['Prompt', 'GT_Keyframe', 'Top_1', 'Top_2', 'Top_3'])\n",
    "\n",
    "# Save dataframe to CSV\n",
    "df_ocr_only.to_csv('df_ocr_only.csv', index=False)"
   ],
   "id": "3e9c5eb48242c71c",
   "outputs": [
    {
     "name": "stderr",
     "output_type": "stream",
     "text": [
      "\u001B[32m2024-07-03 19:19:00.426\u001B[0m | \u001B[1mINFO    \u001B[0m | \u001B[36m__main__\u001B[0m:\u001B[36m<module>\u001B[0m:\u001B[36m4\u001B[0m - \u001B[1mEmbedded with standard Tokenizer: Only OCR\u001B[0m\n",
      "INFO:sentence_transformers.SentenceTransformer:Use pytorch device_name: cpu\n",
      "INFO:sentence_transformers.SentenceTransformer:Load pretrained SentenceTransformer: paraphrase-multilingual-MiniLM-L12-v2\n"
     ]
    },
    {
     "data": {
      "text/plain": [
       "Batches:   0%|          | 0/3 [00:00<?, ?it/s]"
      ],
      "application/vnd.jupyter.widget-view+json": {
       "version_major": 2,
       "version_minor": 0,
       "model_id": "b6f722ea75d04fb5b4d17b6fe7ab4cf6"
      }
     },
     "metadata": {},
     "output_type": "display_data"
    },
    {
     "name": "stderr",
     "output_type": "stream",
     "text": [
      "\u001B[32m2024-07-03 19:19:06.585\u001B[0m | \u001B[1mINFO    \u001B[0m | \u001B[36m__main__\u001B[0m:\u001B[36mget_results\u001B[0m:\u001B[36m15\u001B[0m - \u001B[1mlearning outcomes\u001B[0m\n"
     ]
    },
    {
     "data": {
      "text/plain": [
       "Batches:   0%|          | 0/1 [00:00<?, ?it/s]"
      ],
      "application/vnd.jupyter.widget-view+json": {
       "version_major": 2,
       "version_minor": 0,
       "model_id": "07ff777203664d42b710c2b8d88b6eb3"
      }
     },
     "metadata": {},
     "output_type": "display_data"
    },
    {
     "name": "stderr",
     "output_type": "stream",
     "text": [
      "\u001B[32m2024-07-03 19:19:06.646\u001B[0m | \u001B[1mINFO    \u001B[0m | \u001B[36msrc.text_embedder.embedder\u001B[0m:\u001B[36msearch_similar_images_top_k\u001B[0m:\u001B[36m167\u001B[0m - \u001B[1mQuery text embedding shape: torch.Size([384])\u001B[0m\n",
      "\u001B[32m2024-07-03 19:19:06.646\u001B[0m | \u001B[1mINFO    \u001B[0m | \u001B[36msrc.text_embedder.embedder\u001B[0m:\u001B[36msearch_similar_images_top_k\u001B[0m:\u001B[36m168\u001B[0m - \u001B[1mText embeddings shape: torch.Size([85, 384])\u001B[0m\n",
      "\u001B[32m2024-07-03 19:19:06.650\u001B[0m | \u001B[1mINFO    \u001B[0m | \u001B[36msrc.text_embedder.embedder\u001B[0m:\u001B[36msearch_similar_images_top_k\u001B[0m:\u001B[36m175\u001B[0m - \u001B[1mTop 3 Similarity scores: torch.return_types.topk(\n",
      "values=tensor([0.3722, 0.2852, 0.2718]),\n",
      "indices=tensor([ 8, 63, 62])) - GT is keyframe number 3\u001B[0m\n",
      "\u001B[32m2024-07-03 19:19:06.650\u001B[0m | \u001B[1mINFO    \u001B[0m | \u001B[36msrc.text_embedder.embedder\u001B[0m:\u001B[36msearch_similar_images_top_k\u001B[0m:\u001B[36m177\u001B[0m - \u001B[1mLength of img paths: 85\u001B[0m\n",
      "\u001B[32m2024-07-03 19:19:06.654\u001B[0m | \u001B[1mINFO    \u001B[0m | \u001B[36msrc.text_embedder.embedder\u001B[0m:\u001B[36msearch_similar_images_top_k\u001B[0m:\u001B[36m185\u001B[0m - \u001B[1m#####GT is keyframe number 3#####\u001B[0m\n",
      "\u001B[32m2024-07-03 19:19:06.655\u001B[0m | \u001B[1mINFO    \u001B[0m | \u001B[36msrc.text_embedder.embedder\u001B[0m:\u001B[36msearch_similar_images_top_k\u001B[0m:\u001B[36m186\u001B[0m - \u001B[1mMax similarity for index 8 is the keyframe /Users/magic-rabbit/Documents/AFM/afm-vlm/data/raw/biology_chapter_3_3_treshhold_5/extracted_keyframes/biology_chapter_3_3_treshhold_5-Scene-032-01.jpg\u001B[0m\n",
      "\u001B[32m2024-07-03 19:19:06.657\u001B[0m | \u001B[1mINFO    \u001B[0m | \u001B[36msrc.text_embedder.embedder\u001B[0m:\u001B[36msearch_similar_images_top_k\u001B[0m:\u001B[36m185\u001B[0m - \u001B[1m#####GT is keyframe number 3#####\u001B[0m\n",
      "\u001B[32m2024-07-03 19:19:06.657\u001B[0m | \u001B[1mINFO    \u001B[0m | \u001B[36msrc.text_embedder.embedder\u001B[0m:\u001B[36msearch_similar_images_top_k\u001B[0m:\u001B[36m186\u001B[0m - \u001B[1mMax similarity for index 63 is the keyframe /Users/magic-rabbit/Documents/AFM/afm-vlm/data/raw/biology_chapter_3_3_treshhold_5/extracted_keyframes/biology_chapter_3_3_treshhold_5-Scene-003-01.jpg\u001B[0m\n",
      "\u001B[32m2024-07-03 19:19:06.657\u001B[0m | \u001B[1mINFO    \u001B[0m | \u001B[36msrc.text_embedder.embedder\u001B[0m:\u001B[36msearch_similar_images_top_k\u001B[0m:\u001B[36m185\u001B[0m - \u001B[1m#####GT is keyframe number 3#####\u001B[0m\n",
      "\u001B[32m2024-07-03 19:19:06.661\u001B[0m | \u001B[1mINFO    \u001B[0m | \u001B[36msrc.text_embedder.embedder\u001B[0m:\u001B[36msearch_similar_images_top_k\u001B[0m:\u001B[36m186\u001B[0m - \u001B[1mMax similarity for index 62 is the keyframe /Users/magic-rabbit/Documents/AFM/afm-vlm/data/raw/biology_chapter_3_3_treshhold_5/extracted_keyframes/biology_chapter_3_3_treshhold_5-Scene-085-01.jpg\u001B[0m\n",
      "\u001B[32m2024-07-03 19:19:06.661\u001B[0m | \u001B[1mINFO    \u001B[0m | \u001B[36m__main__\u001B[0m:\u001B[36mget_results\u001B[0m:\u001B[36m15\u001B[0m - \u001B[1mWhat are the learning outcomes from the lecture?\u001B[0m\n"
     ]
    },
    {
     "data": {
      "text/plain": [
       "Batches:   0%|          | 0/1 [00:00<?, ?it/s]"
      ],
      "application/vnd.jupyter.widget-view+json": {
       "version_major": 2,
       "version_minor": 0,
       "model_id": "2e26b04e710f46d1aeda82e21d87d8ae"
      }
     },
     "metadata": {},
     "output_type": "display_data"
    },
    {
     "name": "stderr",
     "output_type": "stream",
     "text": [
      "\u001B[32m2024-07-03 19:19:06.721\u001B[0m | \u001B[1mINFO    \u001B[0m | \u001B[36msrc.text_embedder.embedder\u001B[0m:\u001B[36msearch_similar_images_top_k\u001B[0m:\u001B[36m167\u001B[0m - \u001B[1mQuery text embedding shape: torch.Size([384])\u001B[0m\n",
      "\u001B[32m2024-07-03 19:19:06.725\u001B[0m | \u001B[1mINFO    \u001B[0m | \u001B[36msrc.text_embedder.embedder\u001B[0m:\u001B[36msearch_similar_images_top_k\u001B[0m:\u001B[36m168\u001B[0m - \u001B[1mText embeddings shape: torch.Size([85, 384])\u001B[0m\n",
      "\u001B[32m2024-07-03 19:19:06.728\u001B[0m | \u001B[1mINFO    \u001B[0m | \u001B[36msrc.text_embedder.embedder\u001B[0m:\u001B[36msearch_similar_images_top_k\u001B[0m:\u001B[36m175\u001B[0m - \u001B[1mTop 3 Similarity scores: torch.return_types.topk(\n",
      "values=tensor([0.3269, 0.2907, 0.1746]),\n",
      "indices=tensor([62, 63, 16])) - GT is keyframe number 3\u001B[0m\n",
      "\u001B[32m2024-07-03 19:19:06.729\u001B[0m | \u001B[1mINFO    \u001B[0m | \u001B[36msrc.text_embedder.embedder\u001B[0m:\u001B[36msearch_similar_images_top_k\u001B[0m:\u001B[36m177\u001B[0m - \u001B[1mLength of img paths: 85\u001B[0m\n",
      "\u001B[32m2024-07-03 19:19:06.731\u001B[0m | \u001B[1mINFO    \u001B[0m | \u001B[36msrc.text_embedder.embedder\u001B[0m:\u001B[36msearch_similar_images_top_k\u001B[0m:\u001B[36m185\u001B[0m - \u001B[1m#####GT is keyframe number 3#####\u001B[0m\n",
      "\u001B[32m2024-07-03 19:19:06.731\u001B[0m | \u001B[1mINFO    \u001B[0m | \u001B[36msrc.text_embedder.embedder\u001B[0m:\u001B[36msearch_similar_images_top_k\u001B[0m:\u001B[36m186\u001B[0m - \u001B[1mMax similarity for index 62 is the keyframe /Users/magic-rabbit/Documents/AFM/afm-vlm/data/raw/biology_chapter_3_3_treshhold_5/extracted_keyframes/biology_chapter_3_3_treshhold_5-Scene-085-01.jpg\u001B[0m\n",
      "\u001B[32m2024-07-03 19:19:06.733\u001B[0m | \u001B[1mINFO    \u001B[0m | \u001B[36msrc.text_embedder.embedder\u001B[0m:\u001B[36msearch_similar_images_top_k\u001B[0m:\u001B[36m185\u001B[0m - \u001B[1m#####GT is keyframe number 3#####\u001B[0m\n",
      "\u001B[32m2024-07-03 19:19:06.735\u001B[0m | \u001B[1mINFO    \u001B[0m | \u001B[36msrc.text_embedder.embedder\u001B[0m:\u001B[36msearch_similar_images_top_k\u001B[0m:\u001B[36m186\u001B[0m - \u001B[1mMax similarity for index 63 is the keyframe /Users/magic-rabbit/Documents/AFM/afm-vlm/data/raw/biology_chapter_3_3_treshhold_5/extracted_keyframes/biology_chapter_3_3_treshhold_5-Scene-003-01.jpg\u001B[0m\n",
      "\u001B[32m2024-07-03 19:19:06.735\u001B[0m | \u001B[1mINFO    \u001B[0m | \u001B[36msrc.text_embedder.embedder\u001B[0m:\u001B[36msearch_similar_images_top_k\u001B[0m:\u001B[36m185\u001B[0m - \u001B[1m#####GT is keyframe number 3#####\u001B[0m\n",
      "\u001B[32m2024-07-03 19:19:06.738\u001B[0m | \u001B[1mINFO    \u001B[0m | \u001B[36msrc.text_embedder.embedder\u001B[0m:\u001B[36msearch_similar_images_top_k\u001B[0m:\u001B[36m186\u001B[0m - \u001B[1mMax similarity for index 16 is the keyframe /Users/magic-rabbit/Documents/AFM/afm-vlm/data/raw/biology_chapter_3_3_treshhold_5/extracted_keyframes/biology_chapter_3_3_treshhold_5-Scene-006-01.jpg\u001B[0m\n",
      "\u001B[32m2024-07-03 19:19:06.740\u001B[0m | \u001B[1mINFO    \u001B[0m | \u001B[36m__main__\u001B[0m:\u001B[36mget_results\u001B[0m:\u001B[36m15\u001B[0m - \u001B[1mexplain proteins in macronutrients\u001B[0m\n"
     ]
    },
    {
     "data": {
      "text/plain": [
       "Batches:   0%|          | 0/1 [00:00<?, ?it/s]"
      ],
      "application/vnd.jupyter.widget-view+json": {
       "version_major": 2,
       "version_minor": 0,
       "model_id": "952ea1bec62f407298346a9079f06b8c"
      }
     },
     "metadata": {},
     "output_type": "display_data"
    },
    {
     "name": "stderr",
     "output_type": "stream",
     "text": [
      "\u001B[32m2024-07-03 19:19:06.796\u001B[0m | \u001B[1mINFO    \u001B[0m | \u001B[36msrc.text_embedder.embedder\u001B[0m:\u001B[36msearch_similar_images_top_k\u001B[0m:\u001B[36m167\u001B[0m - \u001B[1mQuery text embedding shape: torch.Size([384])\u001B[0m\n",
      "\u001B[32m2024-07-03 19:19:06.796\u001B[0m | \u001B[1mINFO    \u001B[0m | \u001B[36msrc.text_embedder.embedder\u001B[0m:\u001B[36msearch_similar_images_top_k\u001B[0m:\u001B[36m168\u001B[0m - \u001B[1mText embeddings shape: torch.Size([85, 384])\u001B[0m\n",
      "\u001B[32m2024-07-03 19:19:06.801\u001B[0m | \u001B[1mINFO    \u001B[0m | \u001B[36msrc.text_embedder.embedder\u001B[0m:\u001B[36msearch_similar_images_top_k\u001B[0m:\u001B[36m175\u001B[0m - \u001B[1mTop 3 Similarity scores: torch.return_types.topk(\n",
      "values=tensor([0.7066, 0.6607, 0.6217]),\n",
      "indices=tensor([54, 84, 67])) - GT is keyframe number 27\u001B[0m\n",
      "\u001B[32m2024-07-03 19:19:06.801\u001B[0m | \u001B[1mINFO    \u001B[0m | \u001B[36msrc.text_embedder.embedder\u001B[0m:\u001B[36msearch_similar_images_top_k\u001B[0m:\u001B[36m177\u001B[0m - \u001B[1mLength of img paths: 85\u001B[0m\n",
      "\u001B[32m2024-07-03 19:19:06.805\u001B[0m | \u001B[1mINFO    \u001B[0m | \u001B[36msrc.text_embedder.embedder\u001B[0m:\u001B[36msearch_similar_images_top_k\u001B[0m:\u001B[36m185\u001B[0m - \u001B[1m#####GT is keyframe number 27#####\u001B[0m\n",
      "\u001B[32m2024-07-03 19:19:06.805\u001B[0m | \u001B[1mINFO    \u001B[0m | \u001B[36msrc.text_embedder.embedder\u001B[0m:\u001B[36msearch_similar_images_top_k\u001B[0m:\u001B[36m186\u001B[0m - \u001B[1mMax similarity for index 54 is the keyframe /Users/magic-rabbit/Documents/AFM/afm-vlm/data/raw/biology_chapter_3_3_treshhold_5/extracted_keyframes/biology_chapter_3_3_treshhold_5-Scene-023-01.jpg\u001B[0m\n",
      "\u001B[32m2024-07-03 19:19:06.805\u001B[0m | \u001B[1mINFO    \u001B[0m | \u001B[36msrc.text_embedder.embedder\u001B[0m:\u001B[36msearch_similar_images_top_k\u001B[0m:\u001B[36m185\u001B[0m - \u001B[1m#####GT is keyframe number 27#####\u001B[0m\n",
      "\u001B[32m2024-07-03 19:19:06.805\u001B[0m | \u001B[1mINFO    \u001B[0m | \u001B[36msrc.text_embedder.embedder\u001B[0m:\u001B[36msearch_similar_images_top_k\u001B[0m:\u001B[36m186\u001B[0m - \u001B[1mMax similarity for index 84 is the keyframe /Users/magic-rabbit/Documents/AFM/afm-vlm/data/raw/biology_chapter_3_3_treshhold_5/extracted_keyframes/biology_chapter_3_3_treshhold_5-Scene-025-01.jpg\u001B[0m\n",
      "\u001B[32m2024-07-03 19:19:06.805\u001B[0m | \u001B[1mINFO    \u001B[0m | \u001B[36msrc.text_embedder.embedder\u001B[0m:\u001B[36msearch_similar_images_top_k\u001B[0m:\u001B[36m185\u001B[0m - \u001B[1m#####GT is keyframe number 27#####\u001B[0m\n",
      "\u001B[32m2024-07-03 19:19:06.813\u001B[0m | \u001B[1mINFO    \u001B[0m | \u001B[36msrc.text_embedder.embedder\u001B[0m:\u001B[36msearch_similar_images_top_k\u001B[0m:\u001B[36m186\u001B[0m - \u001B[1mMax similarity for index 67 is the keyframe /Users/magic-rabbit/Documents/AFM/afm-vlm/data/raw/biology_chapter_3_3_treshhold_5/extracted_keyframes/biology_chapter_3_3_treshhold_5-Scene-027-01.jpg\u001B[0m\n",
      "\u001B[32m2024-07-03 19:19:06.815\u001B[0m | \u001B[1mINFO    \u001B[0m | \u001B[36m__main__\u001B[0m:\u001B[36mget_results\u001B[0m:\u001B[36m15\u001B[0m - \u001B[1mI did not understand the function of proteins in macronutrients\u001B[0m\n"
     ]
    },
    {
     "data": {
      "text/plain": [
       "Batches:   0%|          | 0/1 [00:00<?, ?it/s]"
      ],
      "application/vnd.jupyter.widget-view+json": {
       "version_major": 2,
       "version_minor": 0,
       "model_id": "7e8902cea4bf4728af34c2193c18329d"
      }
     },
     "metadata": {},
     "output_type": "display_data"
    },
    {
     "name": "stderr",
     "output_type": "stream",
     "text": [
      "\u001B[32m2024-07-03 19:19:06.876\u001B[0m | \u001B[1mINFO    \u001B[0m | \u001B[36msrc.text_embedder.embedder\u001B[0m:\u001B[36msearch_similar_images_top_k\u001B[0m:\u001B[36m167\u001B[0m - \u001B[1mQuery text embedding shape: torch.Size([384])\u001B[0m\n",
      "\u001B[32m2024-07-03 19:19:06.876\u001B[0m | \u001B[1mINFO    \u001B[0m | \u001B[36msrc.text_embedder.embedder\u001B[0m:\u001B[36msearch_similar_images_top_k\u001B[0m:\u001B[36m168\u001B[0m - \u001B[1mText embeddings shape: torch.Size([85, 384])\u001B[0m\n",
      "\u001B[32m2024-07-03 19:19:06.876\u001B[0m | \u001B[1mINFO    \u001B[0m | \u001B[36msrc.text_embedder.embedder\u001B[0m:\u001B[36msearch_similar_images_top_k\u001B[0m:\u001B[36m175\u001B[0m - \u001B[1mTop 3 Similarity scores: torch.return_types.topk(\n",
      "values=tensor([0.6525, 0.6338, 0.6147]),\n",
      "indices=tensor([54, 84, 35])) - GT is keyframe number 27\u001B[0m\n",
      "\u001B[32m2024-07-03 19:19:06.876\u001B[0m | \u001B[1mINFO    \u001B[0m | \u001B[36msrc.text_embedder.embedder\u001B[0m:\u001B[36msearch_similar_images_top_k\u001B[0m:\u001B[36m177\u001B[0m - \u001B[1mLength of img paths: 85\u001B[0m\n",
      "\u001B[32m2024-07-03 19:19:06.885\u001B[0m | \u001B[1mINFO    \u001B[0m | \u001B[36msrc.text_embedder.embedder\u001B[0m:\u001B[36msearch_similar_images_top_k\u001B[0m:\u001B[36m185\u001B[0m - \u001B[1m#####GT is keyframe number 27#####\u001B[0m\n",
      "\u001B[32m2024-07-03 19:19:06.887\u001B[0m | \u001B[1mINFO    \u001B[0m | \u001B[36msrc.text_embedder.embedder\u001B[0m:\u001B[36msearch_similar_images_top_k\u001B[0m:\u001B[36m186\u001B[0m - \u001B[1mMax similarity for index 54 is the keyframe /Users/magic-rabbit/Documents/AFM/afm-vlm/data/raw/biology_chapter_3_3_treshhold_5/extracted_keyframes/biology_chapter_3_3_treshhold_5-Scene-023-01.jpg\u001B[0m\n",
      "\u001B[32m2024-07-03 19:19:06.888\u001B[0m | \u001B[1mINFO    \u001B[0m | \u001B[36msrc.text_embedder.embedder\u001B[0m:\u001B[36msearch_similar_images_top_k\u001B[0m:\u001B[36m185\u001B[0m - \u001B[1m#####GT is keyframe number 27#####\u001B[0m\n",
      "\u001B[32m2024-07-03 19:19:06.890\u001B[0m | \u001B[1mINFO    \u001B[0m | \u001B[36msrc.text_embedder.embedder\u001B[0m:\u001B[36msearch_similar_images_top_k\u001B[0m:\u001B[36m186\u001B[0m - \u001B[1mMax similarity for index 84 is the keyframe /Users/magic-rabbit/Documents/AFM/afm-vlm/data/raw/biology_chapter_3_3_treshhold_5/extracted_keyframes/biology_chapter_3_3_treshhold_5-Scene-025-01.jpg\u001B[0m\n",
      "\u001B[32m2024-07-03 19:19:06.891\u001B[0m | \u001B[1mINFO    \u001B[0m | \u001B[36msrc.text_embedder.embedder\u001B[0m:\u001B[36msearch_similar_images_top_k\u001B[0m:\u001B[36m185\u001B[0m - \u001B[1m#####GT is keyframe number 27#####\u001B[0m\n",
      "\u001B[32m2024-07-03 19:19:06.892\u001B[0m | \u001B[1mINFO    \u001B[0m | \u001B[36msrc.text_embedder.embedder\u001B[0m:\u001B[36msearch_similar_images_top_k\u001B[0m:\u001B[36m186\u001B[0m - \u001B[1mMax similarity for index 35 is the keyframe /Users/magic-rabbit/Documents/AFM/afm-vlm/data/raw/biology_chapter_3_3_treshhold_5/extracted_keyframes/biology_chapter_3_3_treshhold_5-Scene-024-01.jpg\u001B[0m\n",
      "\u001B[32m2024-07-03 19:19:06.895\u001B[0m | \u001B[1mINFO    \u001B[0m | \u001B[36m__main__\u001B[0m:\u001B[36mget_results\u001B[0m:\u001B[36m15\u001B[0m - \u001B[1mfish oil capsules\u001B[0m\n"
     ]
    },
    {
     "data": {
      "text/plain": [
       "Batches:   0%|          | 0/1 [00:00<?, ?it/s]"
      ],
      "application/vnd.jupyter.widget-view+json": {
       "version_major": 2,
       "version_minor": 0,
       "model_id": "10e642072b484620bcafc8e61af1cad8"
      }
     },
     "metadata": {},
     "output_type": "display_data"
    },
    {
     "name": "stderr",
     "output_type": "stream",
     "text": [
      "\u001B[32m2024-07-03 19:19:06.952\u001B[0m | \u001B[1mINFO    \u001B[0m | \u001B[36msrc.text_embedder.embedder\u001B[0m:\u001B[36msearch_similar_images_top_k\u001B[0m:\u001B[36m167\u001B[0m - \u001B[1mQuery text embedding shape: torch.Size([384])\u001B[0m\n",
      "\u001B[32m2024-07-03 19:19:06.955\u001B[0m | \u001B[1mINFO    \u001B[0m | \u001B[36msrc.text_embedder.embedder\u001B[0m:\u001B[36msearch_similar_images_top_k\u001B[0m:\u001B[36m168\u001B[0m - \u001B[1mText embeddings shape: torch.Size([85, 384])\u001B[0m\n",
      "\u001B[32m2024-07-03 19:19:06.955\u001B[0m | \u001B[1mINFO    \u001B[0m | \u001B[36msrc.text_embedder.embedder\u001B[0m:\u001B[36msearch_similar_images_top_k\u001B[0m:\u001B[36m175\u001B[0m - \u001B[1mTop 3 Similarity scores: torch.return_types.topk(\n",
      "values=tensor([0.6928, 0.3327, 0.3327]),\n",
      "indices=tensor([18, 26, 32])) - GT is keyframe number 30\u001B[0m\n",
      "\u001B[32m2024-07-03 19:19:06.955\u001B[0m | \u001B[1mINFO    \u001B[0m | \u001B[36msrc.text_embedder.embedder\u001B[0m:\u001B[36msearch_similar_images_top_k\u001B[0m:\u001B[36m177\u001B[0m - \u001B[1mLength of img paths: 85\u001B[0m\n",
      "\u001B[32m2024-07-03 19:19:06.955\u001B[0m | \u001B[1mINFO    \u001B[0m | \u001B[36msrc.text_embedder.embedder\u001B[0m:\u001B[36msearch_similar_images_top_k\u001B[0m:\u001B[36m185\u001B[0m - \u001B[1m#####GT is keyframe number 30#####\u001B[0m\n",
      "\u001B[32m2024-07-03 19:19:06.955\u001B[0m | \u001B[1mINFO    \u001B[0m | \u001B[36msrc.text_embedder.embedder\u001B[0m:\u001B[36msearch_similar_images_top_k\u001B[0m:\u001B[36m186\u001B[0m - \u001B[1mMax similarity for index 18 is the keyframe /Users/magic-rabbit/Documents/AFM/afm-vlm/data/raw/biology_chapter_3_3_treshhold_5/extracted_keyframes/biology_chapter_3_3_treshhold_5-Scene-030-01.jpg\u001B[0m\n",
      "\u001B[32m2024-07-03 19:19:06.955\u001B[0m | \u001B[1mINFO    \u001B[0m | \u001B[36msrc.text_embedder.embedder\u001B[0m:\u001B[36msearch_similar_images_top_k\u001B[0m:\u001B[36m185\u001B[0m - \u001B[1m#####GT is keyframe number 30#####\u001B[0m\n",
      "\u001B[32m2024-07-03 19:19:06.965\u001B[0m | \u001B[1mINFO    \u001B[0m | \u001B[36msrc.text_embedder.embedder\u001B[0m:\u001B[36msearch_similar_images_top_k\u001B[0m:\u001B[36m186\u001B[0m - \u001B[1mMax similarity for index 26 is the keyframe /Users/magic-rabbit/Documents/AFM/afm-vlm/data/raw/biology_chapter_3_3_treshhold_5/extracted_keyframes/biology_chapter_3_3_treshhold_5-Scene-034-01.jpg\u001B[0m\n",
      "\u001B[32m2024-07-03 19:19:06.966\u001B[0m | \u001B[1mINFO    \u001B[0m | \u001B[36msrc.text_embedder.embedder\u001B[0m:\u001B[36msearch_similar_images_top_k\u001B[0m:\u001B[36m185\u001B[0m - \u001B[1m#####GT is keyframe number 30#####\u001B[0m\n",
      "\u001B[32m2024-07-03 19:19:06.966\u001B[0m | \u001B[1mINFO    \u001B[0m | \u001B[36msrc.text_embedder.embedder\u001B[0m:\u001B[36msearch_similar_images_top_k\u001B[0m:\u001B[36m186\u001B[0m - \u001B[1mMax similarity for index 32 is the keyframe /Users/magic-rabbit/Documents/AFM/afm-vlm/data/raw/biology_chapter_3_3_treshhold_5/extracted_keyframes/biology_chapter_3_3_treshhold_5-Scene-036-01.jpg\u001B[0m\n",
      "\u001B[32m2024-07-03 19:19:06.966\u001B[0m | \u001B[1mINFO    \u001B[0m | \u001B[36m__main__\u001B[0m:\u001B[36mget_results\u001B[0m:\u001B[36m15\u001B[0m - \u001B[1mwhat is the functioning of fish oil capsules and its relation to vitamins\u001B[0m\n"
     ]
    },
    {
     "data": {
      "text/plain": [
       "Batches:   0%|          | 0/1 [00:00<?, ?it/s]"
      ],
      "application/vnd.jupyter.widget-view+json": {
       "version_major": 2,
       "version_minor": 0,
       "model_id": "3ef63f9e05f24d718eefdc1b3212a390"
      }
     },
     "metadata": {},
     "output_type": "display_data"
    },
    {
     "name": "stderr",
     "output_type": "stream",
     "text": [
      "\u001B[32m2024-07-03 19:19:07.035\u001B[0m | \u001B[1mINFO    \u001B[0m | \u001B[36msrc.text_embedder.embedder\u001B[0m:\u001B[36msearch_similar_images_top_k\u001B[0m:\u001B[36m167\u001B[0m - \u001B[1mQuery text embedding shape: torch.Size([384])\u001B[0m\n",
      "\u001B[32m2024-07-03 19:19:07.036\u001B[0m | \u001B[1mINFO    \u001B[0m | \u001B[36msrc.text_embedder.embedder\u001B[0m:\u001B[36msearch_similar_images_top_k\u001B[0m:\u001B[36m168\u001B[0m - \u001B[1mText embeddings shape: torch.Size([85, 384])\u001B[0m\n",
      "\u001B[32m2024-07-03 19:19:07.038\u001B[0m | \u001B[1mINFO    \u001B[0m | \u001B[36msrc.text_embedder.embedder\u001B[0m:\u001B[36msearch_similar_images_top_k\u001B[0m:\u001B[36m175\u001B[0m - \u001B[1mTop 3 Similarity scores: torch.return_types.topk(\n",
      "values=tensor([0.8429, 0.5080, 0.4708]),\n",
      "indices=tensor([18, 80, 42])) - GT is keyframe number 30\u001B[0m\n",
      "\u001B[32m2024-07-03 19:19:07.039\u001B[0m | \u001B[1mINFO    \u001B[0m | \u001B[36msrc.text_embedder.embedder\u001B[0m:\u001B[36msearch_similar_images_top_k\u001B[0m:\u001B[36m177\u001B[0m - \u001B[1mLength of img paths: 85\u001B[0m\n",
      "\u001B[32m2024-07-03 19:19:07.041\u001B[0m | \u001B[1mINFO    \u001B[0m | \u001B[36msrc.text_embedder.embedder\u001B[0m:\u001B[36msearch_similar_images_top_k\u001B[0m:\u001B[36m185\u001B[0m - \u001B[1m#####GT is keyframe number 30#####\u001B[0m\n",
      "\u001B[32m2024-07-03 19:19:07.042\u001B[0m | \u001B[1mINFO    \u001B[0m | \u001B[36msrc.text_embedder.embedder\u001B[0m:\u001B[36msearch_similar_images_top_k\u001B[0m:\u001B[36m186\u001B[0m - \u001B[1mMax similarity for index 18 is the keyframe /Users/magic-rabbit/Documents/AFM/afm-vlm/data/raw/biology_chapter_3_3_treshhold_5/extracted_keyframes/biology_chapter_3_3_treshhold_5-Scene-030-01.jpg\u001B[0m\n",
      "\u001B[32m2024-07-03 19:19:07.042\u001B[0m | \u001B[1mINFO    \u001B[0m | \u001B[36msrc.text_embedder.embedder\u001B[0m:\u001B[36msearch_similar_images_top_k\u001B[0m:\u001B[36m185\u001B[0m - \u001B[1m#####GT is keyframe number 30#####\u001B[0m\n",
      "\u001B[32m2024-07-03 19:19:07.045\u001B[0m | \u001B[1mINFO    \u001B[0m | \u001B[36msrc.text_embedder.embedder\u001B[0m:\u001B[36msearch_similar_images_top_k\u001B[0m:\u001B[36m186\u001B[0m - \u001B[1mMax similarity for index 80 is the keyframe /Users/magic-rabbit/Documents/AFM/afm-vlm/data/raw/biology_chapter_3_3_treshhold_5/extracted_keyframes/biology_chapter_3_3_treshhold_5-Scene-029-01.jpg\u001B[0m\n",
      "\u001B[32m2024-07-03 19:19:07.045\u001B[0m | \u001B[1mINFO    \u001B[0m | \u001B[36msrc.text_embedder.embedder\u001B[0m:\u001B[36msearch_similar_images_top_k\u001B[0m:\u001B[36m185\u001B[0m - \u001B[1m#####GT is keyframe number 30#####\u001B[0m\n",
      "\u001B[32m2024-07-03 19:19:07.045\u001B[0m | \u001B[1mINFO    \u001B[0m | \u001B[36msrc.text_embedder.embedder\u001B[0m:\u001B[36msearch_similar_images_top_k\u001B[0m:\u001B[36m186\u001B[0m - \u001B[1mMax similarity for index 42 is the keyframe /Users/magic-rabbit/Documents/AFM/afm-vlm/data/raw/biology_chapter_3_3_treshhold_5/extracted_keyframes/biology_chapter_3_3_treshhold_5-Scene-042-01.jpg\u001B[0m\n",
      "\u001B[32m2024-07-03 19:19:07.049\u001B[0m | \u001B[1mINFO    \u001B[0m | \u001B[36m__main__\u001B[0m:\u001B[36mget_results\u001B[0m:\u001B[36m15\u001B[0m - \u001B[1mcalcium as micronutrient\u001B[0m\n"
     ]
    },
    {
     "data": {
      "text/plain": [
       "Batches:   0%|          | 0/1 [00:00<?, ?it/s]"
      ],
      "application/vnd.jupyter.widget-view+json": {
       "version_major": 2,
       "version_minor": 0,
       "model_id": "b659268c0de5462f91e9318580c306c8"
      }
     },
     "metadata": {},
     "output_type": "display_data"
    },
    {
     "name": "stderr",
     "output_type": "stream",
     "text": [
      "\u001B[32m2024-07-03 19:19:07.112\u001B[0m | \u001B[1mINFO    \u001B[0m | \u001B[36msrc.text_embedder.embedder\u001B[0m:\u001B[36msearch_similar_images_top_k\u001B[0m:\u001B[36m167\u001B[0m - \u001B[1mQuery text embedding shape: torch.Size([384])\u001B[0m\n",
      "\u001B[32m2024-07-03 19:19:07.113\u001B[0m | \u001B[1mINFO    \u001B[0m | \u001B[36msrc.text_embedder.embedder\u001B[0m:\u001B[36msearch_similar_images_top_k\u001B[0m:\u001B[36m168\u001B[0m - \u001B[1mText embeddings shape: torch.Size([85, 384])\u001B[0m\n",
      "\u001B[32m2024-07-03 19:19:07.115\u001B[0m | \u001B[1mINFO    \u001B[0m | \u001B[36msrc.text_embedder.embedder\u001B[0m:\u001B[36msearch_similar_images_top_k\u001B[0m:\u001B[36m175\u001B[0m - \u001B[1mTop 3 Similarity scores: torch.return_types.topk(\n",
      "values=tensor([0.7311, 0.6802, 0.6388]),\n",
      "indices=tensor([82, 42, 55])) - GT is keyframe number 46\u001B[0m\n",
      "\u001B[32m2024-07-03 19:19:07.117\u001B[0m | \u001B[1mINFO    \u001B[0m | \u001B[36msrc.text_embedder.embedder\u001B[0m:\u001B[36msearch_similar_images_top_k\u001B[0m:\u001B[36m177\u001B[0m - \u001B[1mLength of img paths: 85\u001B[0m\n",
      "\u001B[32m2024-07-03 19:19:07.118\u001B[0m | \u001B[1mINFO    \u001B[0m | \u001B[36msrc.text_embedder.embedder\u001B[0m:\u001B[36msearch_similar_images_top_k\u001B[0m:\u001B[36m185\u001B[0m - \u001B[1m#####GT is keyframe number 46#####\u001B[0m\n",
      "\u001B[32m2024-07-03 19:19:07.118\u001B[0m | \u001B[1mINFO    \u001B[0m | \u001B[36msrc.text_embedder.embedder\u001B[0m:\u001B[36msearch_similar_images_top_k\u001B[0m:\u001B[36m186\u001B[0m - \u001B[1mMax similarity for index 82 is the keyframe /Users/magic-rabbit/Documents/AFM/afm-vlm/data/raw/biology_chapter_3_3_treshhold_5/extracted_keyframes/biology_chapter_3_3_treshhold_5-Scene-046-01.jpg\u001B[0m\n",
      "\u001B[32m2024-07-03 19:19:07.118\u001B[0m | \u001B[1mINFO    \u001B[0m | \u001B[36msrc.text_embedder.embedder\u001B[0m:\u001B[36msearch_similar_images_top_k\u001B[0m:\u001B[36m185\u001B[0m - \u001B[1m#####GT is keyframe number 46#####\u001B[0m\n",
      "\u001B[32m2024-07-03 19:19:07.125\u001B[0m | \u001B[1mINFO    \u001B[0m | \u001B[36msrc.text_embedder.embedder\u001B[0m:\u001B[36msearch_similar_images_top_k\u001B[0m:\u001B[36m186\u001B[0m - \u001B[1mMax similarity for index 42 is the keyframe /Users/magic-rabbit/Documents/AFM/afm-vlm/data/raw/biology_chapter_3_3_treshhold_5/extracted_keyframes/biology_chapter_3_3_treshhold_5-Scene-042-01.jpg\u001B[0m\n",
      "\u001B[32m2024-07-03 19:19:07.126\u001B[0m | \u001B[1mINFO    \u001B[0m | \u001B[36msrc.text_embedder.embedder\u001B[0m:\u001B[36msearch_similar_images_top_k\u001B[0m:\u001B[36m185\u001B[0m - \u001B[1m#####GT is keyframe number 46#####\u001B[0m\n",
      "\u001B[32m2024-07-03 19:19:07.127\u001B[0m | \u001B[1mINFO    \u001B[0m | \u001B[36msrc.text_embedder.embedder\u001B[0m:\u001B[36msearch_similar_images_top_k\u001B[0m:\u001B[36m186\u001B[0m - \u001B[1mMax similarity for index 55 is the keyframe /Users/magic-rabbit/Documents/AFM/afm-vlm/data/raw/biology_chapter_3_3_treshhold_5/extracted_keyframes/biology_chapter_3_3_treshhold_5-Scene-040-01.jpg\u001B[0m\n",
      "\u001B[32m2024-07-03 19:19:07.128\u001B[0m | \u001B[1mINFO    \u001B[0m | \u001B[36m__main__\u001B[0m:\u001B[36mget_results\u001B[0m:\u001B[36m15\u001B[0m - \u001B[1mwhat is calcium commonly supplemented for\u001B[0m\n"
     ]
    },
    {
     "data": {
      "text/plain": [
       "Batches:   0%|          | 0/1 [00:00<?, ?it/s]"
      ],
      "application/vnd.jupyter.widget-view+json": {
       "version_major": 2,
       "version_minor": 0,
       "model_id": "81edd250791647b4b485c8ed4339bb72"
      }
     },
     "metadata": {},
     "output_type": "display_data"
    },
    {
     "name": "stderr",
     "output_type": "stream",
     "text": [
      "\u001B[32m2024-07-03 19:19:07.187\u001B[0m | \u001B[1mINFO    \u001B[0m | \u001B[36msrc.text_embedder.embedder\u001B[0m:\u001B[36msearch_similar_images_top_k\u001B[0m:\u001B[36m167\u001B[0m - \u001B[1mQuery text embedding shape: torch.Size([384])\u001B[0m\n",
      "\u001B[32m2024-07-03 19:19:07.187\u001B[0m | \u001B[1mINFO    \u001B[0m | \u001B[36msrc.text_embedder.embedder\u001B[0m:\u001B[36msearch_similar_images_top_k\u001B[0m:\u001B[36m168\u001B[0m - \u001B[1mText embeddings shape: torch.Size([85, 384])\u001B[0m\n",
      "\u001B[32m2024-07-03 19:19:07.194\u001B[0m | \u001B[1mINFO    \u001B[0m | \u001B[36msrc.text_embedder.embedder\u001B[0m:\u001B[36msearch_similar_images_top_k\u001B[0m:\u001B[36m175\u001B[0m - \u001B[1mTop 3 Similarity scores: torch.return_types.topk(\n",
      "values=tensor([0.6750, 0.6060, 0.5215]),\n",
      "indices=tensor([82, 42, 19])) - GT is keyframe number 46\u001B[0m\n",
      "\u001B[32m2024-07-03 19:19:07.195\u001B[0m | \u001B[1mINFO    \u001B[0m | \u001B[36msrc.text_embedder.embedder\u001B[0m:\u001B[36msearch_similar_images_top_k\u001B[0m:\u001B[36m177\u001B[0m - \u001B[1mLength of img paths: 85\u001B[0m\n",
      "\u001B[32m2024-07-03 19:19:07.197\u001B[0m | \u001B[1mINFO    \u001B[0m | \u001B[36msrc.text_embedder.embedder\u001B[0m:\u001B[36msearch_similar_images_top_k\u001B[0m:\u001B[36m185\u001B[0m - \u001B[1m#####GT is keyframe number 46#####\u001B[0m\n",
      "\u001B[32m2024-07-03 19:19:07.197\u001B[0m | \u001B[1mINFO    \u001B[0m | \u001B[36msrc.text_embedder.embedder\u001B[0m:\u001B[36msearch_similar_images_top_k\u001B[0m:\u001B[36m186\u001B[0m - \u001B[1mMax similarity for index 82 is the keyframe /Users/magic-rabbit/Documents/AFM/afm-vlm/data/raw/biology_chapter_3_3_treshhold_5/extracted_keyframes/biology_chapter_3_3_treshhold_5-Scene-046-01.jpg\u001B[0m\n",
      "\u001B[32m2024-07-03 19:19:07.199\u001B[0m | \u001B[1mINFO    \u001B[0m | \u001B[36msrc.text_embedder.embedder\u001B[0m:\u001B[36msearch_similar_images_top_k\u001B[0m:\u001B[36m185\u001B[0m - \u001B[1m#####GT is keyframe number 46#####\u001B[0m\n",
      "\u001B[32m2024-07-03 19:19:07.199\u001B[0m | \u001B[1mINFO    \u001B[0m | \u001B[36msrc.text_embedder.embedder\u001B[0m:\u001B[36msearch_similar_images_top_k\u001B[0m:\u001B[36m186\u001B[0m - \u001B[1mMax similarity for index 42 is the keyframe /Users/magic-rabbit/Documents/AFM/afm-vlm/data/raw/biology_chapter_3_3_treshhold_5/extracted_keyframes/biology_chapter_3_3_treshhold_5-Scene-042-01.jpg\u001B[0m\n",
      "\u001B[32m2024-07-03 19:19:07.202\u001B[0m | \u001B[1mINFO    \u001B[0m | \u001B[36msrc.text_embedder.embedder\u001B[0m:\u001B[36msearch_similar_images_top_k\u001B[0m:\u001B[36m185\u001B[0m - \u001B[1m#####GT is keyframe number 46#####\u001B[0m\n",
      "\u001B[32m2024-07-03 19:19:07.205\u001B[0m | \u001B[1mINFO    \u001B[0m | \u001B[36msrc.text_embedder.embedder\u001B[0m:\u001B[36msearch_similar_images_top_k\u001B[0m:\u001B[36m186\u001B[0m - \u001B[1mMax similarity for index 19 is the keyframe /Users/magic-rabbit/Documents/AFM/afm-vlm/data/raw/biology_chapter_3_3_treshhold_5/extracted_keyframes/biology_chapter_3_3_treshhold_5-Scene-041-01.jpg\u001B[0m\n",
      "\u001B[32m2024-07-03 19:19:07.205\u001B[0m | \u001B[1mINFO    \u001B[0m | \u001B[36m__main__\u001B[0m:\u001B[36mget_results\u001B[0m:\u001B[36m15\u001B[0m - \u001B[1mflavanol food sources\u001B[0m\n"
     ]
    },
    {
     "data": {
      "text/plain": [
       "Batches:   0%|          | 0/1 [00:00<?, ?it/s]"
      ],
      "application/vnd.jupyter.widget-view+json": {
       "version_major": 2,
       "version_minor": 0,
       "model_id": "004b0949962749069baffe3ef8fcc6bf"
      }
     },
     "metadata": {},
     "output_type": "display_data"
    },
    {
     "name": "stderr",
     "output_type": "stream",
     "text": [
      "\u001B[32m2024-07-03 19:19:07.262\u001B[0m | \u001B[1mINFO    \u001B[0m | \u001B[36msrc.text_embedder.embedder\u001B[0m:\u001B[36msearch_similar_images_top_k\u001B[0m:\u001B[36m167\u001B[0m - \u001B[1mQuery text embedding shape: torch.Size([384])\u001B[0m\n",
      "\u001B[32m2024-07-03 19:19:07.265\u001B[0m | \u001B[1mINFO    \u001B[0m | \u001B[36msrc.text_embedder.embedder\u001B[0m:\u001B[36msearch_similar_images_top_k\u001B[0m:\u001B[36m168\u001B[0m - \u001B[1mText embeddings shape: torch.Size([85, 384])\u001B[0m\n",
      "\u001B[32m2024-07-03 19:19:07.270\u001B[0m | \u001B[1mINFO    \u001B[0m | \u001B[36msrc.text_embedder.embedder\u001B[0m:\u001B[36msearch_similar_images_top_k\u001B[0m:\u001B[36m175\u001B[0m - \u001B[1mTop 3 Similarity scores: torch.return_types.topk(\n",
      "values=tensor([0.5639, 0.4619, 0.4446]),\n",
      "indices=tensor([60, 47,  1])) - GT is keyframe number 48\u001B[0m\n",
      "\u001B[32m2024-07-03 19:19:07.270\u001B[0m | \u001B[1mINFO    \u001B[0m | \u001B[36msrc.text_embedder.embedder\u001B[0m:\u001B[36msearch_similar_images_top_k\u001B[0m:\u001B[36m177\u001B[0m - \u001B[1mLength of img paths: 85\u001B[0m\n",
      "\u001B[32m2024-07-03 19:19:07.272\u001B[0m | \u001B[1mINFO    \u001B[0m | \u001B[36msrc.text_embedder.embedder\u001B[0m:\u001B[36msearch_similar_images_top_k\u001B[0m:\u001B[36m185\u001B[0m - \u001B[1m#####GT is keyframe number 48#####\u001B[0m\n",
      "\u001B[32m2024-07-03 19:19:07.273\u001B[0m | \u001B[1mINFO    \u001B[0m | \u001B[36msrc.text_embedder.embedder\u001B[0m:\u001B[36msearch_similar_images_top_k\u001B[0m:\u001B[36m186\u001B[0m - \u001B[1mMax similarity for index 60 is the keyframe /Users/magic-rabbit/Documents/AFM/afm-vlm/data/raw/biology_chapter_3_3_treshhold_5/extracted_keyframes/biology_chapter_3_3_treshhold_5-Scene-019-01.jpg\u001B[0m\n",
      "\u001B[32m2024-07-03 19:19:07.275\u001B[0m | \u001B[1mINFO    \u001B[0m | \u001B[36msrc.text_embedder.embedder\u001B[0m:\u001B[36msearch_similar_images_top_k\u001B[0m:\u001B[36m185\u001B[0m - \u001B[1m#####GT is keyframe number 48#####\u001B[0m\n",
      "\u001B[32m2024-07-03 19:19:07.277\u001B[0m | \u001B[1mINFO    \u001B[0m | \u001B[36msrc.text_embedder.embedder\u001B[0m:\u001B[36msearch_similar_images_top_k\u001B[0m:\u001B[36m186\u001B[0m - \u001B[1mMax similarity for index 47 is the keyframe /Users/magic-rabbit/Documents/AFM/afm-vlm/data/raw/biology_chapter_3_3_treshhold_5/extracted_keyframes/biology_chapter_3_3_treshhold_5-Scene-005-01.jpg\u001B[0m\n",
      "\u001B[32m2024-07-03 19:19:07.277\u001B[0m | \u001B[1mINFO    \u001B[0m | \u001B[36msrc.text_embedder.embedder\u001B[0m:\u001B[36msearch_similar_images_top_k\u001B[0m:\u001B[36m185\u001B[0m - \u001B[1m#####GT is keyframe number 48#####\u001B[0m\n",
      "\u001B[32m2024-07-03 19:19:07.277\u001B[0m | \u001B[1mINFO    \u001B[0m | \u001B[36msrc.text_embedder.embedder\u001B[0m:\u001B[36msearch_similar_images_top_k\u001B[0m:\u001B[36m186\u001B[0m - \u001B[1mMax similarity for index 1 is the keyframe /Users/magic-rabbit/Documents/AFM/afm-vlm/data/raw/biology_chapter_3_3_treshhold_5/extracted_keyframes/biology_chapter_3_3_treshhold_5-Scene-004-01.jpg\u001B[0m\n",
      "\u001B[32m2024-07-03 19:19:07.277\u001B[0m | \u001B[1mINFO    \u001B[0m | \u001B[36m__main__\u001B[0m:\u001B[36mget_results\u001B[0m:\u001B[36m15\u001B[0m - \u001B[1mwhat are the main food sources of lycopene red fruits\u001B[0m\n"
     ]
    },
    {
     "data": {
      "text/plain": [
       "Batches:   0%|          | 0/1 [00:00<?, ?it/s]"
      ],
      "application/vnd.jupyter.widget-view+json": {
       "version_major": 2,
       "version_minor": 0,
       "model_id": "80285b7cadba44a69514c81bfee6dcc4"
      }
     },
     "metadata": {},
     "output_type": "display_data"
    },
    {
     "name": "stderr",
     "output_type": "stream",
     "text": [
      "\u001B[32m2024-07-03 19:19:07.342\u001B[0m | \u001B[1mINFO    \u001B[0m | \u001B[36msrc.text_embedder.embedder\u001B[0m:\u001B[36msearch_similar_images_top_k\u001B[0m:\u001B[36m167\u001B[0m - \u001B[1mQuery text embedding shape: torch.Size([384])\u001B[0m\n",
      "\u001B[32m2024-07-03 19:19:07.346\u001B[0m | \u001B[1mINFO    \u001B[0m | \u001B[36msrc.text_embedder.embedder\u001B[0m:\u001B[36msearch_similar_images_top_k\u001B[0m:\u001B[36m168\u001B[0m - \u001B[1mText embeddings shape: torch.Size([85, 384])\u001B[0m\n",
      "\u001B[32m2024-07-03 19:19:07.349\u001B[0m | \u001B[1mINFO    \u001B[0m | \u001B[36msrc.text_embedder.embedder\u001B[0m:\u001B[36msearch_similar_images_top_k\u001B[0m:\u001B[36m175\u001B[0m - \u001B[1mTop 3 Similarity scores: torch.return_types.topk(\n",
      "values=tensor([0.6300, 0.5194, 0.4920]),\n",
      "indices=tensor([60, 56, 33])) - GT is keyframe number 48\u001B[0m\n",
      "\u001B[32m2024-07-03 19:19:07.349\u001B[0m | \u001B[1mINFO    \u001B[0m | \u001B[36msrc.text_embedder.embedder\u001B[0m:\u001B[36msearch_similar_images_top_k\u001B[0m:\u001B[36m177\u001B[0m - \u001B[1mLength of img paths: 85\u001B[0m\n",
      "\u001B[32m2024-07-03 19:19:07.352\u001B[0m | \u001B[1mINFO    \u001B[0m | \u001B[36msrc.text_embedder.embedder\u001B[0m:\u001B[36msearch_similar_images_top_k\u001B[0m:\u001B[36m185\u001B[0m - \u001B[1m#####GT is keyframe number 48#####\u001B[0m\n",
      "\u001B[32m2024-07-03 19:19:07.354\u001B[0m | \u001B[1mINFO    \u001B[0m | \u001B[36msrc.text_embedder.embedder\u001B[0m:\u001B[36msearch_similar_images_top_k\u001B[0m:\u001B[36m186\u001B[0m - \u001B[1mMax similarity for index 60 is the keyframe /Users/magic-rabbit/Documents/AFM/afm-vlm/data/raw/biology_chapter_3_3_treshhold_5/extracted_keyframes/biology_chapter_3_3_treshhold_5-Scene-019-01.jpg\u001B[0m\n",
      "\u001B[32m2024-07-03 19:19:07.355\u001B[0m | \u001B[1mINFO    \u001B[0m | \u001B[36msrc.text_embedder.embedder\u001B[0m:\u001B[36msearch_similar_images_top_k\u001B[0m:\u001B[36m185\u001B[0m - \u001B[1m#####GT is keyframe number 48#####\u001B[0m\n",
      "\u001B[32m2024-07-03 19:19:07.357\u001B[0m | \u001B[1mINFO    \u001B[0m | \u001B[36msrc.text_embedder.embedder\u001B[0m:\u001B[36msearch_similar_images_top_k\u001B[0m:\u001B[36m186\u001B[0m - \u001B[1mMax similarity for index 56 is the keyframe /Users/magic-rabbit/Documents/AFM/afm-vlm/data/raw/biology_chapter_3_3_treshhold_5/extracted_keyframes/biology_chapter_3_3_treshhold_5-Scene-015-01.jpg\u001B[0m\n",
      "\u001B[32m2024-07-03 19:19:07.357\u001B[0m | \u001B[1mINFO    \u001B[0m | \u001B[36msrc.text_embedder.embedder\u001B[0m:\u001B[36msearch_similar_images_top_k\u001B[0m:\u001B[36m185\u001B[0m - \u001B[1m#####GT is keyframe number 48#####\u001B[0m\n",
      "\u001B[32m2024-07-03 19:19:07.359\u001B[0m | \u001B[1mINFO    \u001B[0m | \u001B[36msrc.text_embedder.embedder\u001B[0m:\u001B[36msearch_similar_images_top_k\u001B[0m:\u001B[36m186\u001B[0m - \u001B[1mMax similarity for index 33 is the keyframe /Users/magic-rabbit/Documents/AFM/afm-vlm/data/raw/biology_chapter_3_3_treshhold_5/extracted_keyframes/biology_chapter_3_3_treshhold_5-Scene-028-01.jpg\u001B[0m\n",
      "\u001B[32m2024-07-03 19:19:07.359\u001B[0m | \u001B[1mINFO    \u001B[0m | \u001B[36m__main__\u001B[0m:\u001B[36mget_results\u001B[0m:\u001B[36m15\u001B[0m - \u001B[1mplasma membrane\u001B[0m\n"
     ]
    },
    {
     "data": {
      "text/plain": [
       "Batches:   0%|          | 0/1 [00:00<?, ?it/s]"
      ],
      "application/vnd.jupyter.widget-view+json": {
       "version_major": 2,
       "version_minor": 0,
       "model_id": "6d86028e265e479086c67150a5c044ea"
      }
     },
     "metadata": {},
     "output_type": "display_data"
    },
    {
     "name": "stderr",
     "output_type": "stream",
     "text": [
      "\u001B[32m2024-07-03 19:19:07.425\u001B[0m | \u001B[1mINFO    \u001B[0m | \u001B[36msrc.text_embedder.embedder\u001B[0m:\u001B[36msearch_similar_images_top_k\u001B[0m:\u001B[36m167\u001B[0m - \u001B[1mQuery text embedding shape: torch.Size([384])\u001B[0m\n",
      "\u001B[32m2024-07-03 19:19:07.426\u001B[0m | \u001B[1mINFO    \u001B[0m | \u001B[36msrc.text_embedder.embedder\u001B[0m:\u001B[36msearch_similar_images_top_k\u001B[0m:\u001B[36m168\u001B[0m - \u001B[1mText embeddings shape: torch.Size([85, 384])\u001B[0m\n",
      "\u001B[32m2024-07-03 19:19:07.428\u001B[0m | \u001B[1mINFO    \u001B[0m | \u001B[36msrc.text_embedder.embedder\u001B[0m:\u001B[36msearch_similar_images_top_k\u001B[0m:\u001B[36m175\u001B[0m - \u001B[1mTop 3 Similarity scores: torch.return_types.topk(\n",
      "values=tensor([0.6539, 0.6318, 0.6318]),\n",
      "indices=tensor([ 2, 17, 25])) - GT is keyframe number 57\u001B[0m\n",
      "\u001B[32m2024-07-03 19:19:07.428\u001B[0m | \u001B[1mINFO    \u001B[0m | \u001B[36msrc.text_embedder.embedder\u001B[0m:\u001B[36msearch_similar_images_top_k\u001B[0m:\u001B[36m177\u001B[0m - \u001B[1mLength of img paths: 85\u001B[0m\n",
      "\u001B[32m2024-07-03 19:19:07.428\u001B[0m | \u001B[1mINFO    \u001B[0m | \u001B[36msrc.text_embedder.embedder\u001B[0m:\u001B[36msearch_similar_images_top_k\u001B[0m:\u001B[36m185\u001B[0m - \u001B[1m#####GT is keyframe number 57#####\u001B[0m\n",
      "\u001B[32m2024-07-03 19:19:07.433\u001B[0m | \u001B[1mINFO    \u001B[0m | \u001B[36msrc.text_embedder.embedder\u001B[0m:\u001B[36msearch_similar_images_top_k\u001B[0m:\u001B[36m186\u001B[0m - \u001B[1mMax similarity for index 2 is the keyframe /Users/magic-rabbit/Documents/AFM/afm-vlm/data/raw/biology_chapter_3_3_treshhold_5/extracted_keyframes/biology_chapter_3_3_treshhold_5-Scene-067-01.jpg\u001B[0m\n",
      "\u001B[32m2024-07-03 19:19:07.434\u001B[0m | \u001B[1mINFO    \u001B[0m | \u001B[36msrc.text_embedder.embedder\u001B[0m:\u001B[36msearch_similar_images_top_k\u001B[0m:\u001B[36m185\u001B[0m - \u001B[1m#####GT is keyframe number 57#####\u001B[0m\n",
      "\u001B[32m2024-07-03 19:19:07.435\u001B[0m | \u001B[1mINFO    \u001B[0m | \u001B[36msrc.text_embedder.embedder\u001B[0m:\u001B[36msearch_similar_images_top_k\u001B[0m:\u001B[36m186\u001B[0m - \u001B[1mMax similarity for index 17 is the keyframe /Users/magic-rabbit/Documents/AFM/afm-vlm/data/raw/biology_chapter_3_3_treshhold_5/extracted_keyframes/biology_chapter_3_3_treshhold_5-Scene-053-01.jpg\u001B[0m\n",
      "\u001B[32m2024-07-03 19:19:07.436\u001B[0m | \u001B[1mINFO    \u001B[0m | \u001B[36msrc.text_embedder.embedder\u001B[0m:\u001B[36msearch_similar_images_top_k\u001B[0m:\u001B[36m185\u001B[0m - \u001B[1m#####GT is keyframe number 57#####\u001B[0m\n",
      "\u001B[32m2024-07-03 19:19:07.438\u001B[0m | \u001B[1mINFO    \u001B[0m | \u001B[36msrc.text_embedder.embedder\u001B[0m:\u001B[36msearch_similar_images_top_k\u001B[0m:\u001B[36m186\u001B[0m - \u001B[1mMax similarity for index 25 is the keyframe /Users/magic-rabbit/Documents/AFM/afm-vlm/data/raw/biology_chapter_3_3_treshhold_5/extracted_keyframes/biology_chapter_3_3_treshhold_5-Scene-057-01.jpg\u001B[0m\n",
      "\u001B[32m2024-07-03 19:19:07.440\u001B[0m | \u001B[1mINFO    \u001B[0m | \u001B[36m__main__\u001B[0m:\u001B[36mget_results\u001B[0m:\u001B[36m15\u001B[0m - \u001B[1mchloroplast\u001B[0m\n"
     ]
    },
    {
     "data": {
      "text/plain": [
       "Batches:   0%|          | 0/1 [00:00<?, ?it/s]"
      ],
      "application/vnd.jupyter.widget-view+json": {
       "version_major": 2,
       "version_minor": 0,
       "model_id": "5f65b2098c464a27822dc9eb02af2477"
      }
     },
     "metadata": {},
     "output_type": "display_data"
    },
    {
     "name": "stderr",
     "output_type": "stream",
     "text": [
      "\u001B[32m2024-07-03 19:19:07.505\u001B[0m | \u001B[1mINFO    \u001B[0m | \u001B[36msrc.text_embedder.embedder\u001B[0m:\u001B[36msearch_similar_images_top_k\u001B[0m:\u001B[36m167\u001B[0m - \u001B[1mQuery text embedding shape: torch.Size([384])\u001B[0m\n",
      "\u001B[32m2024-07-03 19:19:07.505\u001B[0m | \u001B[1mINFO    \u001B[0m | \u001B[36msrc.text_embedder.embedder\u001B[0m:\u001B[36msearch_similar_images_top_k\u001B[0m:\u001B[36m168\u001B[0m - \u001B[1mText embeddings shape: torch.Size([85, 384])\u001B[0m\n",
      "\u001B[32m2024-07-03 19:19:07.507\u001B[0m | \u001B[1mINFO    \u001B[0m | \u001B[36msrc.text_embedder.embedder\u001B[0m:\u001B[36msearch_similar_images_top_k\u001B[0m:\u001B[36m175\u001B[0m - \u001B[1mTop 3 Similarity scores: torch.return_types.topk(\n",
      "values=tensor([0.3600, 0.3371, 0.3347]),\n",
      "indices=tensor([64,  5, 12])) - GT is keyframe number 62\u001B[0m\n",
      "\u001B[32m2024-07-03 19:19:07.507\u001B[0m | \u001B[1mINFO    \u001B[0m | \u001B[36msrc.text_embedder.embedder\u001B[0m:\u001B[36msearch_similar_images_top_k\u001B[0m:\u001B[36m177\u001B[0m - \u001B[1mLength of img paths: 85\u001B[0m\n",
      "\u001B[32m2024-07-03 19:19:07.507\u001B[0m | \u001B[1mINFO    \u001B[0m | \u001B[36msrc.text_embedder.embedder\u001B[0m:\u001B[36msearch_similar_images_top_k\u001B[0m:\u001B[36m185\u001B[0m - \u001B[1m#####GT is keyframe number 62#####\u001B[0m\n",
      "\u001B[32m2024-07-03 19:19:07.513\u001B[0m | \u001B[1mINFO    \u001B[0m | \u001B[36msrc.text_embedder.embedder\u001B[0m:\u001B[36msearch_similar_images_top_k\u001B[0m:\u001B[36m186\u001B[0m - \u001B[1mMax similarity for index 64 is the keyframe /Users/magic-rabbit/Documents/AFM/afm-vlm/data/raw/biology_chapter_3_3_treshhold_5/extracted_keyframes/biology_chapter_3_3_treshhold_5-Scene-060-01.jpg\u001B[0m\n",
      "\u001B[32m2024-07-03 19:19:07.516\u001B[0m | \u001B[1mINFO    \u001B[0m | \u001B[36msrc.text_embedder.embedder\u001B[0m:\u001B[36msearch_similar_images_top_k\u001B[0m:\u001B[36m185\u001B[0m - \u001B[1m#####GT is keyframe number 62#####\u001B[0m\n",
      "\u001B[32m2024-07-03 19:19:07.518\u001B[0m | \u001B[1mINFO    \u001B[0m | \u001B[36msrc.text_embedder.embedder\u001B[0m:\u001B[36msearch_similar_images_top_k\u001B[0m:\u001B[36m186\u001B[0m - \u001B[1mMax similarity for index 5 is the keyframe /Users/magic-rabbit/Documents/AFM/afm-vlm/data/raw/biology_chapter_3_3_treshhold_5/extracted_keyframes/biology_chapter_3_3_treshhold_5-Scene-008-01.jpg\u001B[0m\n",
      "\u001B[32m2024-07-03 19:19:07.518\u001B[0m | \u001B[1mINFO    \u001B[0m | \u001B[36msrc.text_embedder.embedder\u001B[0m:\u001B[36msearch_similar_images_top_k\u001B[0m:\u001B[36m185\u001B[0m - \u001B[1m#####GT is keyframe number 62#####\u001B[0m\n",
      "\u001B[32m2024-07-03 19:19:07.518\u001B[0m | \u001B[1mINFO    \u001B[0m | \u001B[36msrc.text_embedder.embedder\u001B[0m:\u001B[36msearch_similar_images_top_k\u001B[0m:\u001B[36m186\u001B[0m - \u001B[1mMax similarity for index 12 is the keyframe /Users/magic-rabbit/Documents/AFM/afm-vlm/data/raw/biology_chapter_3_3_treshhold_5/extracted_keyframes/biology_chapter_3_3_treshhold_5-Scene-069-01.jpg\u001B[0m\n",
      "\u001B[32m2024-07-03 19:19:07.523\u001B[0m | \u001B[1mINFO    \u001B[0m | \u001B[36m__main__\u001B[0m:\u001B[36mget_results\u001B[0m:\u001B[36m15\u001B[0m - \u001B[1mexplain subcellular structures such as the structures to recycle molecules in the digestive tract\u001B[0m\n"
     ]
    },
    {
     "data": {
      "text/plain": [
       "Batches:   0%|          | 0/1 [00:00<?, ?it/s]"
      ],
      "application/vnd.jupyter.widget-view+json": {
       "version_major": 2,
       "version_minor": 0,
       "model_id": "91c54969818341778e1f04c1a8ec219b"
      }
     },
     "metadata": {},
     "output_type": "display_data"
    },
    {
     "name": "stderr",
     "output_type": "stream",
     "text": [
      "\u001B[32m2024-07-03 19:19:07.585\u001B[0m | \u001B[1mINFO    \u001B[0m | \u001B[36msrc.text_embedder.embedder\u001B[0m:\u001B[36msearch_similar_images_top_k\u001B[0m:\u001B[36m167\u001B[0m - \u001B[1mQuery text embedding shape: torch.Size([384])\u001B[0m\n",
      "\u001B[32m2024-07-03 19:19:07.585\u001B[0m | \u001B[1mINFO    \u001B[0m | \u001B[36msrc.text_embedder.embedder\u001B[0m:\u001B[36msearch_similar_images_top_k\u001B[0m:\u001B[36m168\u001B[0m - \u001B[1mText embeddings shape: torch.Size([85, 384])\u001B[0m\n",
      "\u001B[32m2024-07-03 19:19:07.585\u001B[0m | \u001B[1mINFO    \u001B[0m | \u001B[36msrc.text_embedder.embedder\u001B[0m:\u001B[36msearch_similar_images_top_k\u001B[0m:\u001B[36m175\u001B[0m - \u001B[1mTop 3 Similarity scores: torch.return_types.topk(\n",
      "values=tensor([0.6753, 0.6420, 0.6394]),\n",
      "indices=tensor([77, 83, 40])) - GT is keyframe number 62\u001B[0m\n",
      "\u001B[32m2024-07-03 19:19:07.585\u001B[0m | \u001B[1mINFO    \u001B[0m | \u001B[36msrc.text_embedder.embedder\u001B[0m:\u001B[36msearch_similar_images_top_k\u001B[0m:\u001B[36m177\u001B[0m - \u001B[1mLength of img paths: 85\u001B[0m\n",
      "\u001B[32m2024-07-03 19:19:07.585\u001B[0m | \u001B[1mINFO    \u001B[0m | \u001B[36msrc.text_embedder.embedder\u001B[0m:\u001B[36msearch_similar_images_top_k\u001B[0m:\u001B[36m185\u001B[0m - \u001B[1m#####GT is keyframe number 62#####\u001B[0m\n",
      "\u001B[32m2024-07-03 19:19:07.595\u001B[0m | \u001B[1mINFO    \u001B[0m | \u001B[36msrc.text_embedder.embedder\u001B[0m:\u001B[36msearch_similar_images_top_k\u001B[0m:\u001B[36m186\u001B[0m - \u001B[1mMax similarity for index 77 is the keyframe /Users/magic-rabbit/Documents/AFM/afm-vlm/data/raw/biology_chapter_3_3_treshhold_5/extracted_keyframes/biology_chapter_3_3_treshhold_5-Scene-062-01.jpg\u001B[0m\n",
      "\u001B[32m2024-07-03 19:19:07.597\u001B[0m | \u001B[1mINFO    \u001B[0m | \u001B[36msrc.text_embedder.embedder\u001B[0m:\u001B[36msearch_similar_images_top_k\u001B[0m:\u001B[36m185\u001B[0m - \u001B[1m#####GT is keyframe number 62#####\u001B[0m\n",
      "\u001B[32m2024-07-03 19:19:07.597\u001B[0m | \u001B[1mINFO    \u001B[0m | \u001B[36msrc.text_embedder.embedder\u001B[0m:\u001B[36msearch_similar_images_top_k\u001B[0m:\u001B[36m186\u001B[0m - \u001B[1mMax similarity for index 83 is the keyframe /Users/magic-rabbit/Documents/AFM/afm-vlm/data/raw/biology_chapter_3_3_treshhold_5/extracted_keyframes/biology_chapter_3_3_treshhold_5-Scene-058-01.jpg\u001B[0m\n",
      "\u001B[32m2024-07-03 19:19:07.601\u001B[0m | \u001B[1mINFO    \u001B[0m | \u001B[36msrc.text_embedder.embedder\u001B[0m:\u001B[36msearch_similar_images_top_k\u001B[0m:\u001B[36m185\u001B[0m - \u001B[1m#####GT is keyframe number 62#####\u001B[0m\n",
      "\u001B[32m2024-07-03 19:19:07.603\u001B[0m | \u001B[1mINFO    \u001B[0m | \u001B[36msrc.text_embedder.embedder\u001B[0m:\u001B[36msearch_similar_images_top_k\u001B[0m:\u001B[36m186\u001B[0m - \u001B[1mMax similarity for index 40 is the keyframe /Users/magic-rabbit/Documents/AFM/afm-vlm/data/raw/biology_chapter_3_3_treshhold_5/extracted_keyframes/biology_chapter_3_3_treshhold_5-Scene-063-01.jpg\u001B[0m\n",
      "\u001B[32m2024-07-03 19:19:07.605\u001B[0m | \u001B[1mINFO    \u001B[0m | \u001B[36m__main__\u001B[0m:\u001B[36mget_results\u001B[0m:\u001B[36m15\u001B[0m - \u001B[1mcentrioles\u001B[0m\n"
     ]
    },
    {
     "data": {
      "text/plain": [
       "Batches:   0%|          | 0/1 [00:00<?, ?it/s]"
      ],
      "application/vnd.jupyter.widget-view+json": {
       "version_major": 2,
       "version_minor": 0,
       "model_id": "f7c067206a4e4819aacae73dfa28df53"
      }
     },
     "metadata": {},
     "output_type": "display_data"
    },
    {
     "name": "stderr",
     "output_type": "stream",
     "text": [
      "\u001B[32m2024-07-03 19:19:07.665\u001B[0m | \u001B[1mINFO    \u001B[0m | \u001B[36msrc.text_embedder.embedder\u001B[0m:\u001B[36msearch_similar_images_top_k\u001B[0m:\u001B[36m167\u001B[0m - \u001B[1mQuery text embedding shape: torch.Size([384])\u001B[0m\n",
      "\u001B[32m2024-07-03 19:19:07.667\u001B[0m | \u001B[1mINFO    \u001B[0m | \u001B[36msrc.text_embedder.embedder\u001B[0m:\u001B[36msearch_similar_images_top_k\u001B[0m:\u001B[36m168\u001B[0m - \u001B[1mText embeddings shape: torch.Size([85, 384])\u001B[0m\n",
      "\u001B[32m2024-07-03 19:19:07.672\u001B[0m | \u001B[1mINFO    \u001B[0m | \u001B[36msrc.text_embedder.embedder\u001B[0m:\u001B[36msearch_similar_images_top_k\u001B[0m:\u001B[36m175\u001B[0m - \u001B[1mTop 3 Similarity scores: torch.return_types.topk(\n",
      "values=tensor([0.4010, 0.3852, 0.3306]),\n",
      "indices=tensor([64, 61,  2])) - GT is keyframe number 64\u001B[0m\n",
      "\u001B[32m2024-07-03 19:19:07.672\u001B[0m | \u001B[1mINFO    \u001B[0m | \u001B[36msrc.text_embedder.embedder\u001B[0m:\u001B[36msearch_similar_images_top_k\u001B[0m:\u001B[36m177\u001B[0m - \u001B[1mLength of img paths: 85\u001B[0m\n",
      "\u001B[32m2024-07-03 19:19:07.673\u001B[0m | \u001B[1mINFO    \u001B[0m | \u001B[36msrc.text_embedder.embedder\u001B[0m:\u001B[36msearch_similar_images_top_k\u001B[0m:\u001B[36m185\u001B[0m - \u001B[1m#####GT is keyframe number 64#####\u001B[0m\n",
      "\u001B[32m2024-07-03 19:19:07.675\u001B[0m | \u001B[1mINFO    \u001B[0m | \u001B[36msrc.text_embedder.embedder\u001B[0m:\u001B[36msearch_similar_images_top_k\u001B[0m:\u001B[36m186\u001B[0m - \u001B[1mMax similarity for index 64 is the keyframe /Users/magic-rabbit/Documents/AFM/afm-vlm/data/raw/biology_chapter_3_3_treshhold_5/extracted_keyframes/biology_chapter_3_3_treshhold_5-Scene-060-01.jpg\u001B[0m\n",
      "\u001B[32m2024-07-03 19:19:07.676\u001B[0m | \u001B[1mINFO    \u001B[0m | \u001B[36msrc.text_embedder.embedder\u001B[0m:\u001B[36msearch_similar_images_top_k\u001B[0m:\u001B[36m185\u001B[0m - \u001B[1m#####GT is keyframe number 64#####\u001B[0m\n",
      "\u001B[32m2024-07-03 19:19:07.676\u001B[0m | \u001B[1mINFO    \u001B[0m | \u001B[36msrc.text_embedder.embedder\u001B[0m:\u001B[36msearch_similar_images_top_k\u001B[0m:\u001B[36m186\u001B[0m - \u001B[1mMax similarity for index 61 is the keyframe /Users/magic-rabbit/Documents/AFM/afm-vlm/data/raw/biology_chapter_3_3_treshhold_5/extracted_keyframes/biology_chapter_3_3_treshhold_5-Scene-064-01.jpg\u001B[0m\n",
      "\u001B[32m2024-07-03 19:19:07.680\u001B[0m | \u001B[1mINFO    \u001B[0m | \u001B[36msrc.text_embedder.embedder\u001B[0m:\u001B[36msearch_similar_images_top_k\u001B[0m:\u001B[36m185\u001B[0m - \u001B[1m#####GT is keyframe number 64#####\u001B[0m\n",
      "\u001B[32m2024-07-03 19:19:07.680\u001B[0m | \u001B[1mINFO    \u001B[0m | \u001B[36msrc.text_embedder.embedder\u001B[0m:\u001B[36msearch_similar_images_top_k\u001B[0m:\u001B[36m186\u001B[0m - \u001B[1mMax similarity for index 2 is the keyframe /Users/magic-rabbit/Documents/AFM/afm-vlm/data/raw/biology_chapter_3_3_treshhold_5/extracted_keyframes/biology_chapter_3_3_treshhold_5-Scene-067-01.jpg\u001B[0m\n",
      "\u001B[32m2024-07-03 19:19:07.684\u001B[0m | \u001B[1mINFO    \u001B[0m | \u001B[36m__main__\u001B[0m:\u001B[36mget_results\u001B[0m:\u001B[36m15\u001B[0m - \u001B[1mrole of centrioles for cell division\u001B[0m\n"
     ]
    },
    {
     "data": {
      "text/plain": [
       "Batches:   0%|          | 0/1 [00:00<?, ?it/s]"
      ],
      "application/vnd.jupyter.widget-view+json": {
       "version_major": 2,
       "version_minor": 0,
       "model_id": "94882aa1c0d34b9c8fbe27b8c9e1b881"
      }
     },
     "metadata": {},
     "output_type": "display_data"
    },
    {
     "name": "stderr",
     "output_type": "stream",
     "text": [
      "\u001B[32m2024-07-03 19:19:07.745\u001B[0m | \u001B[1mINFO    \u001B[0m | \u001B[36msrc.text_embedder.embedder\u001B[0m:\u001B[36msearch_similar_images_top_k\u001B[0m:\u001B[36m167\u001B[0m - \u001B[1mQuery text embedding shape: torch.Size([384])\u001B[0m\n",
      "\u001B[32m2024-07-03 19:19:07.748\u001B[0m | \u001B[1mINFO    \u001B[0m | \u001B[36msrc.text_embedder.embedder\u001B[0m:\u001B[36msearch_similar_images_top_k\u001B[0m:\u001B[36m168\u001B[0m - \u001B[1mText embeddings shape: torch.Size([85, 384])\u001B[0m\n",
      "\u001B[32m2024-07-03 19:19:07.752\u001B[0m | \u001B[1mINFO    \u001B[0m | \u001B[36msrc.text_embedder.embedder\u001B[0m:\u001B[36msearch_similar_images_top_k\u001B[0m:\u001B[36m175\u001B[0m - \u001B[1mTop 3 Similarity scores: torch.return_types.topk(\n",
      "values=tensor([0.6686, 0.5959, 0.5814]),\n",
      "indices=tensor([61, 36, 53])) - GT is keyframe number 64\u001B[0m\n",
      "\u001B[32m2024-07-03 19:19:07.754\u001B[0m | \u001B[1mINFO    \u001B[0m | \u001B[36msrc.text_embedder.embedder\u001B[0m:\u001B[36msearch_similar_images_top_k\u001B[0m:\u001B[36m177\u001B[0m - \u001B[1mLength of img paths: 85\u001B[0m\n",
      "\u001B[32m2024-07-03 19:19:07.755\u001B[0m | \u001B[1mINFO    \u001B[0m | \u001B[36msrc.text_embedder.embedder\u001B[0m:\u001B[36msearch_similar_images_top_k\u001B[0m:\u001B[36m185\u001B[0m - \u001B[1m#####GT is keyframe number 64#####\u001B[0m\n",
      "\u001B[32m2024-07-03 19:19:07.755\u001B[0m | \u001B[1mINFO    \u001B[0m | \u001B[36msrc.text_embedder.embedder\u001B[0m:\u001B[36msearch_similar_images_top_k\u001B[0m:\u001B[36m186\u001B[0m - \u001B[1mMax similarity for index 61 is the keyframe /Users/magic-rabbit/Documents/AFM/afm-vlm/data/raw/biology_chapter_3_3_treshhold_5/extracted_keyframes/biology_chapter_3_3_treshhold_5-Scene-064-01.jpg\u001B[0m\n",
      "\u001B[32m2024-07-03 19:19:07.755\u001B[0m | \u001B[1mINFO    \u001B[0m | \u001B[36msrc.text_embedder.embedder\u001B[0m:\u001B[36msearch_similar_images_top_k\u001B[0m:\u001B[36m185\u001B[0m - \u001B[1m#####GT is keyframe number 64#####\u001B[0m\n",
      "\u001B[32m2024-07-03 19:19:07.755\u001B[0m | \u001B[1mINFO    \u001B[0m | \u001B[36msrc.text_embedder.embedder\u001B[0m:\u001B[36msearch_similar_images_top_k\u001B[0m:\u001B[36m186\u001B[0m - \u001B[1mMax similarity for index 36 is the keyframe /Users/magic-rabbit/Documents/AFM/afm-vlm/data/raw/biology_chapter_3_3_treshhold_5/extracted_keyframes/biology_chapter_3_3_treshhold_5-Scene-059-01.jpg\u001B[0m\n",
      "\u001B[32m2024-07-03 19:19:07.755\u001B[0m | \u001B[1mINFO    \u001B[0m | \u001B[36msrc.text_embedder.embedder\u001B[0m:\u001B[36msearch_similar_images_top_k\u001B[0m:\u001B[36m185\u001B[0m - \u001B[1m#####GT is keyframe number 64#####\u001B[0m\n",
      "\u001B[32m2024-07-03 19:19:07.755\u001B[0m | \u001B[1mINFO    \u001B[0m | \u001B[36msrc.text_embedder.embedder\u001B[0m:\u001B[36msearch_similar_images_top_k\u001B[0m:\u001B[36m186\u001B[0m - \u001B[1mMax similarity for index 53 is the keyframe /Users/magic-rabbit/Documents/AFM/afm-vlm/data/raw/biology_chapter_3_3_treshhold_5/extracted_keyframes/biology_chapter_3_3_treshhold_5-Scene-052-01.jpg\u001B[0m\n",
      "\u001B[32m2024-07-03 19:19:07.765\u001B[0m | \u001B[1mINFO    \u001B[0m | \u001B[36m__main__\u001B[0m:\u001B[36mget_results\u001B[0m:\u001B[36m15\u001B[0m - \u001B[1mtransport across membranes\u001B[0m\n"
     ]
    },
    {
     "data": {
      "text/plain": [
       "Batches:   0%|          | 0/1 [00:00<?, ?it/s]"
      ],
      "application/vnd.jupyter.widget-view+json": {
       "version_major": 2,
       "version_minor": 0,
       "model_id": "aa07475df29a48a38cda8dcc30cc8099"
      }
     },
     "metadata": {},
     "output_type": "display_data"
    },
    {
     "name": "stderr",
     "output_type": "stream",
     "text": [
      "\u001B[32m2024-07-03 19:19:07.822\u001B[0m | \u001B[1mINFO    \u001B[0m | \u001B[36msrc.text_embedder.embedder\u001B[0m:\u001B[36msearch_similar_images_top_k\u001B[0m:\u001B[36m167\u001B[0m - \u001B[1mQuery text embedding shape: torch.Size([384])\u001B[0m\n",
      "\u001B[32m2024-07-03 19:19:07.825\u001B[0m | \u001B[1mINFO    \u001B[0m | \u001B[36msrc.text_embedder.embedder\u001B[0m:\u001B[36msearch_similar_images_top_k\u001B[0m:\u001B[36m168\u001B[0m - \u001B[1mText embeddings shape: torch.Size([85, 384])\u001B[0m\n",
      "\u001B[32m2024-07-03 19:19:07.828\u001B[0m | \u001B[1mINFO    \u001B[0m | \u001B[36msrc.text_embedder.embedder\u001B[0m:\u001B[36msearch_similar_images_top_k\u001B[0m:\u001B[36m175\u001B[0m - \u001B[1mTop 3 Similarity scores: torch.return_types.topk(\n",
      "values=tensor([0.7711, 0.7649, 0.7475]),\n",
      "indices=tensor([ 2, 30,  0])) - GT is keyframe number 70\u001B[0m\n",
      "\u001B[32m2024-07-03 19:19:07.828\u001B[0m | \u001B[1mINFO    \u001B[0m | \u001B[36msrc.text_embedder.embedder\u001B[0m:\u001B[36msearch_similar_images_top_k\u001B[0m:\u001B[36m177\u001B[0m - \u001B[1mLength of img paths: 85\u001B[0m\n",
      "\u001B[32m2024-07-03 19:19:07.828\u001B[0m | \u001B[1mINFO    \u001B[0m | \u001B[36msrc.text_embedder.embedder\u001B[0m:\u001B[36msearch_similar_images_top_k\u001B[0m:\u001B[36m185\u001B[0m - \u001B[1m#####GT is keyframe number 70#####\u001B[0m\n",
      "\u001B[32m2024-07-03 19:19:07.834\u001B[0m | \u001B[1mINFO    \u001B[0m | \u001B[36msrc.text_embedder.embedder\u001B[0m:\u001B[36msearch_similar_images_top_k\u001B[0m:\u001B[36m186\u001B[0m - \u001B[1mMax similarity for index 2 is the keyframe /Users/magic-rabbit/Documents/AFM/afm-vlm/data/raw/biology_chapter_3_3_treshhold_5/extracted_keyframes/biology_chapter_3_3_treshhold_5-Scene-067-01.jpg\u001B[0m\n",
      "\u001B[32m2024-07-03 19:19:07.835\u001B[0m | \u001B[1mINFO    \u001B[0m | \u001B[36msrc.text_embedder.embedder\u001B[0m:\u001B[36msearch_similar_images_top_k\u001B[0m:\u001B[36m185\u001B[0m - \u001B[1m#####GT is keyframe number 70#####\u001B[0m\n",
      "\u001B[32m2024-07-03 19:19:07.837\u001B[0m | \u001B[1mINFO    \u001B[0m | \u001B[36msrc.text_embedder.embedder\u001B[0m:\u001B[36msearch_similar_images_top_k\u001B[0m:\u001B[36m186\u001B[0m - \u001B[1mMax similarity for index 30 is the keyframe /Users/magic-rabbit/Documents/AFM/afm-vlm/data/raw/biology_chapter_3_3_treshhold_5/extracted_keyframes/biology_chapter_3_3_treshhold_5-Scene-073-01.jpg\u001B[0m\n",
      "\u001B[32m2024-07-03 19:19:07.838\u001B[0m | \u001B[1mINFO    \u001B[0m | \u001B[36msrc.text_embedder.embedder\u001B[0m:\u001B[36msearch_similar_images_top_k\u001B[0m:\u001B[36m185\u001B[0m - \u001B[1m#####GT is keyframe number 70#####\u001B[0m\n",
      "\u001B[32m2024-07-03 19:19:07.838\u001B[0m | \u001B[1mINFO    \u001B[0m | \u001B[36msrc.text_embedder.embedder\u001B[0m:\u001B[36msearch_similar_images_top_k\u001B[0m:\u001B[36m186\u001B[0m - \u001B[1mMax similarity for index 0 is the keyframe /Users/magic-rabbit/Documents/AFM/afm-vlm/data/raw/biology_chapter_3_3_treshhold_5/extracted_keyframes/biology_chapter_3_3_treshhold_5-Scene-079-01.jpg\u001B[0m\n",
      "\u001B[32m2024-07-03 19:19:07.838\u001B[0m | \u001B[1mINFO    \u001B[0m | \u001B[36m__main__\u001B[0m:\u001B[36mget_results\u001B[0m:\u001B[36m15\u001B[0m - \u001B[1mpassive transport methodologies across membranes\u001B[0m\n"
     ]
    },
    {
     "data": {
      "text/plain": [
       "Batches:   0%|          | 0/1 [00:00<?, ?it/s]"
      ],
      "application/vnd.jupyter.widget-view+json": {
       "version_major": 2,
       "version_minor": 0,
       "model_id": "f23454cc0a624781970d923de8496ede"
      }
     },
     "metadata": {},
     "output_type": "display_data"
    },
    {
     "name": "stderr",
     "output_type": "stream",
     "text": [
      "\u001B[32m2024-07-03 19:19:07.905\u001B[0m | \u001B[1mINFO    \u001B[0m | \u001B[36msrc.text_embedder.embedder\u001B[0m:\u001B[36msearch_similar_images_top_k\u001B[0m:\u001B[36m167\u001B[0m - \u001B[1mQuery text embedding shape: torch.Size([384])\u001B[0m\n",
      "\u001B[32m2024-07-03 19:19:07.905\u001B[0m | \u001B[1mINFO    \u001B[0m | \u001B[36msrc.text_embedder.embedder\u001B[0m:\u001B[36msearch_similar_images_top_k\u001B[0m:\u001B[36m168\u001B[0m - \u001B[1mText embeddings shape: torch.Size([85, 384])\u001B[0m\n",
      "\u001B[32m2024-07-03 19:19:07.909\u001B[0m | \u001B[1mINFO    \u001B[0m | \u001B[36msrc.text_embedder.embedder\u001B[0m:\u001B[36msearch_similar_images_top_k\u001B[0m:\u001B[36m175\u001B[0m - \u001B[1mTop 3 Similarity scores: torch.return_types.topk(\n",
      "values=tensor([0.7310, 0.7236, 0.7230]),\n",
      "indices=tensor([75, 12, 57])) - GT is keyframe number 70\u001B[0m\n",
      "\u001B[32m2024-07-03 19:19:07.909\u001B[0m | \u001B[1mINFO    \u001B[0m | \u001B[36msrc.text_embedder.embedder\u001B[0m:\u001B[36msearch_similar_images_top_k\u001B[0m:\u001B[36m177\u001B[0m - \u001B[1mLength of img paths: 85\u001B[0m\n",
      "\u001B[32m2024-07-03 19:19:07.913\u001B[0m | \u001B[1mINFO    \u001B[0m | \u001B[36msrc.text_embedder.embedder\u001B[0m:\u001B[36msearch_similar_images_top_k\u001B[0m:\u001B[36m185\u001B[0m - \u001B[1m#####GT is keyframe number 70#####\u001B[0m\n",
      "\u001B[32m2024-07-03 19:19:07.913\u001B[0m | \u001B[1mINFO    \u001B[0m | \u001B[36msrc.text_embedder.embedder\u001B[0m:\u001B[36msearch_similar_images_top_k\u001B[0m:\u001B[36m186\u001B[0m - \u001B[1mMax similarity for index 75 is the keyframe /Users/magic-rabbit/Documents/AFM/afm-vlm/data/raw/biology_chapter_3_3_treshhold_5/extracted_keyframes/biology_chapter_3_3_treshhold_5-Scene-070-01.jpg\u001B[0m\n",
      "\u001B[32m2024-07-03 19:19:07.915\u001B[0m | \u001B[1mINFO    \u001B[0m | \u001B[36msrc.text_embedder.embedder\u001B[0m:\u001B[36msearch_similar_images_top_k\u001B[0m:\u001B[36m185\u001B[0m - \u001B[1m#####GT is keyframe number 70#####\u001B[0m\n",
      "\u001B[32m2024-07-03 19:19:07.915\u001B[0m | \u001B[1mINFO    \u001B[0m | \u001B[36msrc.text_embedder.embedder\u001B[0m:\u001B[36msearch_similar_images_top_k\u001B[0m:\u001B[36m186\u001B[0m - \u001B[1mMax similarity for index 12 is the keyframe /Users/magic-rabbit/Documents/AFM/afm-vlm/data/raw/biology_chapter_3_3_treshhold_5/extracted_keyframes/biology_chapter_3_3_treshhold_5-Scene-069-01.jpg\u001B[0m\n",
      "\u001B[32m2024-07-03 19:19:07.917\u001B[0m | \u001B[1mINFO    \u001B[0m | \u001B[36msrc.text_embedder.embedder\u001B[0m:\u001B[36msearch_similar_images_top_k\u001B[0m:\u001B[36m185\u001B[0m - \u001B[1m#####GT is keyframe number 70#####\u001B[0m\n",
      "\u001B[32m2024-07-03 19:19:07.920\u001B[0m | \u001B[1mINFO    \u001B[0m | \u001B[36msrc.text_embedder.embedder\u001B[0m:\u001B[36msearch_similar_images_top_k\u001B[0m:\u001B[36m186\u001B[0m - \u001B[1mMax similarity for index 57 is the keyframe /Users/magic-rabbit/Documents/AFM/afm-vlm/data/raw/biology_chapter_3_3_treshhold_5/extracted_keyframes/biology_chapter_3_3_treshhold_5-Scene-068-01.jpg\u001B[0m\n",
      "\u001B[32m2024-07-03 19:19:07.920\u001B[0m | \u001B[1mINFO    \u001B[0m | \u001B[36m__main__\u001B[0m:\u001B[36mget_results\u001B[0m:\u001B[36m15\u001B[0m - \u001B[1mFDA testing\u001B[0m\n"
     ]
    },
    {
     "data": {
      "text/plain": [
       "Batches:   0%|          | 0/1 [00:00<?, ?it/s]"
      ],
      "application/vnd.jupyter.widget-view+json": {
       "version_major": 2,
       "version_minor": 0,
       "model_id": "aef4c8d44fa74e4385db6938fb4466df"
      }
     },
     "metadata": {},
     "output_type": "display_data"
    },
    {
     "name": "stderr",
     "output_type": "stream",
     "text": [
      "\u001B[32m2024-07-03 19:19:07.987\u001B[0m | \u001B[1mINFO    \u001B[0m | \u001B[36msrc.text_embedder.embedder\u001B[0m:\u001B[36msearch_similar_images_top_k\u001B[0m:\u001B[36m167\u001B[0m - \u001B[1mQuery text embedding shape: torch.Size([384])\u001B[0m\n",
      "\u001B[32m2024-07-03 19:19:07.987\u001B[0m | \u001B[1mINFO    \u001B[0m | \u001B[36msrc.text_embedder.embedder\u001B[0m:\u001B[36msearch_similar_images_top_k\u001B[0m:\u001B[36m168\u001B[0m - \u001B[1mText embeddings shape: torch.Size([85, 384])\u001B[0m\n",
      "\u001B[32m2024-07-03 19:19:07.990\u001B[0m | \u001B[1mINFO    \u001B[0m | \u001B[36msrc.text_embedder.embedder\u001B[0m:\u001B[36msearch_similar_images_top_k\u001B[0m:\u001B[36m175\u001B[0m - \u001B[1mTop 3 Similarity scores: torch.return_types.topk(\n",
      "values=tensor([0.4662, 0.2444, 0.2037]),\n",
      "indices=tensor([10,  1, 38])) - GT is keyframe number 84\u001B[0m\n",
      "\u001B[32m2024-07-03 19:19:07.990\u001B[0m | \u001B[1mINFO    \u001B[0m | \u001B[36msrc.text_embedder.embedder\u001B[0m:\u001B[36msearch_similar_images_top_k\u001B[0m:\u001B[36m177\u001B[0m - \u001B[1mLength of img paths: 85\u001B[0m\n",
      "\u001B[32m2024-07-03 19:19:07.993\u001B[0m | \u001B[1mINFO    \u001B[0m | \u001B[36msrc.text_embedder.embedder\u001B[0m:\u001B[36msearch_similar_images_top_k\u001B[0m:\u001B[36m185\u001B[0m - \u001B[1m#####GT is keyframe number 84#####\u001B[0m\n",
      "\u001B[32m2024-07-03 19:19:07.994\u001B[0m | \u001B[1mINFO    \u001B[0m | \u001B[36msrc.text_embedder.embedder\u001B[0m:\u001B[36msearch_similar_images_top_k\u001B[0m:\u001B[36m186\u001B[0m - \u001B[1mMax similarity for index 10 is the keyframe /Users/magic-rabbit/Documents/AFM/afm-vlm/data/raw/biology_chapter_3_3_treshhold_5/extracted_keyframes/biology_chapter_3_3_treshhold_5-Scene-084-01.jpg\u001B[0m\n",
      "\u001B[32m2024-07-03 19:19:07.995\u001B[0m | \u001B[1mINFO    \u001B[0m | \u001B[36msrc.text_embedder.embedder\u001B[0m:\u001B[36msearch_similar_images_top_k\u001B[0m:\u001B[36m185\u001B[0m - \u001B[1m#####GT is keyframe number 84#####\u001B[0m\n",
      "\u001B[32m2024-07-03 19:19:07.997\u001B[0m | \u001B[1mINFO    \u001B[0m | \u001B[36msrc.text_embedder.embedder\u001B[0m:\u001B[36msearch_similar_images_top_k\u001B[0m:\u001B[36m186\u001B[0m - \u001B[1mMax similarity for index 1 is the keyframe /Users/magic-rabbit/Documents/AFM/afm-vlm/data/raw/biology_chapter_3_3_treshhold_5/extracted_keyframes/biology_chapter_3_3_treshhold_5-Scene-004-01.jpg\u001B[0m\n",
      "\u001B[32m2024-07-03 19:19:07.998\u001B[0m | \u001B[1mINFO    \u001B[0m | \u001B[36msrc.text_embedder.embedder\u001B[0m:\u001B[36msearch_similar_images_top_k\u001B[0m:\u001B[36m185\u001B[0m - \u001B[1m#####GT is keyframe number 84#####\u001B[0m\n",
      "\u001B[32m2024-07-03 19:19:08.001\u001B[0m | \u001B[1mINFO    \u001B[0m | \u001B[36msrc.text_embedder.embedder\u001B[0m:\u001B[36msearch_similar_images_top_k\u001B[0m:\u001B[36m186\u001B[0m - \u001B[1mMax similarity for index 38 is the keyframe /Users/magic-rabbit/Documents/AFM/afm-vlm/data/raw/biology_chapter_3_3_treshhold_5/extracted_keyframes/biology_chapter_3_3_treshhold_5-Scene-012-01.jpg\u001B[0m\n",
      "\u001B[32m2024-07-03 19:19:08.003\u001B[0m | \u001B[1mINFO    \u001B[0m | \u001B[36m__main__\u001B[0m:\u001B[36mget_results\u001B[0m:\u001B[36m15\u001B[0m - \u001B[1mlegal requirements for health impact\u001B[0m\n"
     ]
    },
    {
     "data": {
      "text/plain": [
       "Batches:   0%|          | 0/1 [00:00<?, ?it/s]"
      ],
      "application/vnd.jupyter.widget-view+json": {
       "version_major": 2,
       "version_minor": 0,
       "model_id": "551c1c56d73f4a92ba3cff2f7263b828"
      }
     },
     "metadata": {},
     "output_type": "display_data"
    },
    {
     "name": "stderr",
     "output_type": "stream",
     "text": [
      "\u001B[32m2024-07-03 19:19:08.071\u001B[0m | \u001B[1mINFO    \u001B[0m | \u001B[36msrc.text_embedder.embedder\u001B[0m:\u001B[36msearch_similar_images_top_k\u001B[0m:\u001B[36m167\u001B[0m - \u001B[1mQuery text embedding shape: torch.Size([384])\u001B[0m\n",
      "\u001B[32m2024-07-03 19:19:08.073\u001B[0m | \u001B[1mINFO    \u001B[0m | \u001B[36msrc.text_embedder.embedder\u001B[0m:\u001B[36msearch_similar_images_top_k\u001B[0m:\u001B[36m168\u001B[0m - \u001B[1mText embeddings shape: torch.Size([85, 384])\u001B[0m\n",
      "\u001B[32m2024-07-03 19:19:08.075\u001B[0m | \u001B[1mINFO    \u001B[0m | \u001B[36msrc.text_embedder.embedder\u001B[0m:\u001B[36msearch_similar_images_top_k\u001B[0m:\u001B[36m175\u001B[0m - \u001B[1mTop 3 Similarity scores: torch.return_types.topk(\n",
      "values=tensor([0.2261, 0.2256, 0.2142]),\n",
      "indices=tensor([16, 10, 76])) - GT is keyframe number 84\u001B[0m\n",
      "\u001B[32m2024-07-03 19:19:08.075\u001B[0m | \u001B[1mINFO    \u001B[0m | \u001B[36msrc.text_embedder.embedder\u001B[0m:\u001B[36msearch_similar_images_top_k\u001B[0m:\u001B[36m177\u001B[0m - \u001B[1mLength of img paths: 85\u001B[0m\n",
      "\u001B[32m2024-07-03 19:19:08.075\u001B[0m | \u001B[1mINFO    \u001B[0m | \u001B[36msrc.text_embedder.embedder\u001B[0m:\u001B[36msearch_similar_images_top_k\u001B[0m:\u001B[36m185\u001B[0m - \u001B[1m#####GT is keyframe number 84#####\u001B[0m\n",
      "\u001B[32m2024-07-03 19:19:08.075\u001B[0m | \u001B[1mINFO    \u001B[0m | \u001B[36msrc.text_embedder.embedder\u001B[0m:\u001B[36msearch_similar_images_top_k\u001B[0m:\u001B[36m186\u001B[0m - \u001B[1mMax similarity for index 16 is the keyframe /Users/magic-rabbit/Documents/AFM/afm-vlm/data/raw/biology_chapter_3_3_treshhold_5/extracted_keyframes/biology_chapter_3_3_treshhold_5-Scene-006-01.jpg\u001B[0m\n",
      "\u001B[32m2024-07-03 19:19:08.081\u001B[0m | \u001B[1mINFO    \u001B[0m | \u001B[36msrc.text_embedder.embedder\u001B[0m:\u001B[36msearch_similar_images_top_k\u001B[0m:\u001B[36m185\u001B[0m - \u001B[1m#####GT is keyframe number 84#####\u001B[0m\n",
      "\u001B[32m2024-07-03 19:19:08.081\u001B[0m | \u001B[1mINFO    \u001B[0m | \u001B[36msrc.text_embedder.embedder\u001B[0m:\u001B[36msearch_similar_images_top_k\u001B[0m:\u001B[36m186\u001B[0m - \u001B[1mMax similarity for index 10 is the keyframe /Users/magic-rabbit/Documents/AFM/afm-vlm/data/raw/biology_chapter_3_3_treshhold_5/extracted_keyframes/biology_chapter_3_3_treshhold_5-Scene-084-01.jpg\u001B[0m\n",
      "\u001B[32m2024-07-03 19:19:08.085\u001B[0m | \u001B[1mINFO    \u001B[0m | \u001B[36msrc.text_embedder.embedder\u001B[0m:\u001B[36msearch_similar_images_top_k\u001B[0m:\u001B[36m185\u001B[0m - \u001B[1m#####GT is keyframe number 84#####\u001B[0m\n",
      "\u001B[32m2024-07-03 19:19:08.085\u001B[0m | \u001B[1mINFO    \u001B[0m | \u001B[36msrc.text_embedder.embedder\u001B[0m:\u001B[36msearch_similar_images_top_k\u001B[0m:\u001B[36m186\u001B[0m - \u001B[1mMax similarity for index 76 is the keyframe /Users/magic-rabbit/Documents/AFM/afm-vlm/data/raw/biology_chapter_3_3_treshhold_5/extracted_keyframes/biology_chapter_3_3_treshhold_5-Scene-013-01.jpg\u001B[0m\n"
     ]
    }
   ],
   "execution_count": 80
  },
  {
   "metadata": {
    "ExecuteTime": {
     "end_time": "2024-07-03T08:29:29.074352Z",
     "start_time": "2024-07-03T08:29:28.881120Z"
    }
   },
   "cell_type": "code",
   "source": [
    "top_3 = []\n",
    "embedding_model.check_proximity_keyframes(90, top_3)"
   ],
   "id": "c471d13af2b4719f",
   "outputs": [
    {
     "data": {
      "text/plain": [
       "[84, 83, 82, 81, 80]"
      ]
     },
     "execution_count": 22,
     "metadata": {},
     "output_type": "execute_result"
    }
   ],
   "execution_count": 22
  },
  {
   "metadata": {},
   "cell_type": "markdown",
   "source": "",
   "id": "bd96b30ced9483bf"
  },
  {
   "metadata": {},
   "cell_type": "markdown",
   "source": "# LOAD MODEL ",
   "id": "b9f59e530248b7eb"
  },
  {
   "metadata": {},
   "cell_type": "code",
   "outputs": [],
   "execution_count": null,
   "source": [
    "# Embedded with standard Tokenizer: OCR * Transcriptions \n",
    "logger.info(f\"Embedded with standard Tokenizer: OCR * Transcriptions\")\n",
    "\n",
    "embedding_model.text_embeddings = None\n",
    "\n",
    "extracted_data_ocr_text = [data[key]['ocr_extracted_text'] for key in data.keys() if\n",
    "                           'ocr_extracted_text' in data[key]]\n",
    "\n",
    "extracted_data_transcriptions = [data[key]['transcription'] for key in data.keys() if\n",
    "                                 'transcription' in data[key]]\n",
    "\n",
    "# concatenate ocr and transcriptions\n",
    "concat_result = [a + ' ' + b for a, b in zip(extracted_data_ocr_text, extracted_data_transcriptions)]\n",
    "\n",
    "# get the embedder model\n",
    "embedder_model = SentenceTransformer('paraphrase-multilingual-MiniLM-L12-v2')\n",
    "\n",
    "concat_result_embeddings = text_to_embedding_transformer(concat_result, embedder_model)\n",
    "\n",
    "embedding_model.text_embeddings = concat_result_embeddings\n",
    "\n",
    "result = []\n",
    "\n",
    "rows = get_results(df)\n",
    "\n",
    "df_ocr_transcriptions = pd.DataFrame(rows, columns=['Prompt', 'GT_Keyframe', 'Top_1', 'Top_2', 'Top_3'])\n",
    "\n",
    "# save on disk\n",
    "df_ocr_transcriptions.to_csv('df_ocr_transcriptions.csv', index=False)"
   ],
   "id": "d252f3a35e617b3a"
  },
  {
   "metadata": {},
   "cell_type": "code",
   "outputs": [],
   "execution_count": null,
   "source": [
    "# Embedded with standard Tokenizer: OCR * LLAVA\n",
    "logger.info(f\"Embedded with standard Tokenizer: OCR * LLAVA\")\n",
    "\n",
    "embedding_model.text_embeddings = None\n",
    "\n",
    "embedding_model.img_paths = None\n",
    "\n",
    "embedding_model.img_paths = extracted_data_path\n",
    "\n",
    "extracted_data_ocr_text = [data[key]['ocr_extracted_text'] for key in data.keys() if\n",
    "                           'ocr_extracted_text' in data[key]]\n",
    "\n",
    "extracted_data_llava_result = [data[key]['llava_result'] for key in data.keys() if\n",
    "                               'llava_result' in data[key]]\n",
    "\n",
    "# concatenate ocr and transcriptions\n",
    "concat_result = [a + ' ' + b for a, b in zip(extracted_data_ocr_text, extracted_data_llava_result)]\n",
    "\n",
    "# get the embedder model\n",
    "embedder_model = SentenceTransformer('paraphrase-multilingual-MiniLM-L12-v2')\n",
    "\n",
    "concat_result_embeddings = text_to_embedding_transformer(concat_result, embedder_model)\n",
    "\n",
    "embedding_model.text_embeddings = concat_result_embeddings\n",
    "\n",
    "result = []\n",
    "\n",
    "rows = get_results(df)\n",
    "\n",
    "df_ocr_lava = pd.DataFrame(rows, columns=['Prompt', 'GT_Keyframe', 'Top_1', 'Top_2', 'Top_3'])\n",
    "\n",
    "# save on disk\n",
    "df_ocr_lava.to_csv('df_ocr_lava.csv', index=False)"
   ],
   "id": "3f420fe808cb9bb9"
  },
  {
   "metadata": {},
   "cell_type": "markdown",
   "source": "",
   "id": "6f407419209eda4e"
  },
  {
   "metadata": {},
   "cell_type": "markdown",
   "source": "# Load new data from CSV",
   "id": "52553b0e9bc8776d"
  },
  {
   "metadata": {
    "ExecuteTime": {
     "end_time": "2024-07-03T17:43:02.791481Z",
     "start_time": "2024-07-03T17:43:02.134280Z"
    }
   },
   "cell_type": "code",
   "source": [
    "# load data from csv\n",
    "\n",
    "df_data_extensive = pd.read_csv('experiments/second_experiment/data_generation_pipeline_010724.csv')\n",
    "df_data_extensive"
   ],
   "id": "f68a639265049b08",
   "outputs": [
    {
     "ename": "FileNotFoundError",
     "evalue": "[Errno 2] No such file or directory: 'experiments/second_experiment/data_generation_pipeline_010724.csv'",
     "output_type": "error",
     "traceback": [
      "\u001B[1;31m---------------------------------------------------------------------------\u001B[0m",
      "\u001B[1;31mFileNotFoundError\u001B[0m                         Traceback (most recent call last)",
      "Cell \u001B[1;32mIn[7], line 2\u001B[0m\n\u001B[0;32m      1\u001B[0m \u001B[38;5;66;03m# load data from csv\u001B[39;00m\n\u001B[1;32m----> 2\u001B[0m df_data_extensive \u001B[38;5;241m=\u001B[39m \u001B[43mpd\u001B[49m\u001B[38;5;241;43m.\u001B[39;49m\u001B[43mread_csv\u001B[49m\u001B[43m(\u001B[49m\u001B[38;5;124;43m'\u001B[39;49m\u001B[38;5;124;43mexperiments/second_experiment/data_generation_pipeline_010724.csv\u001B[39;49m\u001B[38;5;124;43m'\u001B[39;49m\u001B[43m)\u001B[49m\n\u001B[0;32m      3\u001B[0m df_data_extensive\n",
      "File \u001B[1;32m~\\PycharmProjects\\afm-vlm\\.venv\\Lib\\site-packages\\pandas\\io\\parsers\\readers.py:1026\u001B[0m, in \u001B[0;36mread_csv\u001B[1;34m(filepath_or_buffer, sep, delimiter, header, names, index_col, usecols, dtype, engine, converters, true_values, false_values, skipinitialspace, skiprows, skipfooter, nrows, na_values, keep_default_na, na_filter, verbose, skip_blank_lines, parse_dates, infer_datetime_format, keep_date_col, date_parser, date_format, dayfirst, cache_dates, iterator, chunksize, compression, thousands, decimal, lineterminator, quotechar, quoting, doublequote, escapechar, comment, encoding, encoding_errors, dialect, on_bad_lines, delim_whitespace, low_memory, memory_map, float_precision, storage_options, dtype_backend)\u001B[0m\n\u001B[0;32m   1013\u001B[0m kwds_defaults \u001B[38;5;241m=\u001B[39m _refine_defaults_read(\n\u001B[0;32m   1014\u001B[0m     dialect,\n\u001B[0;32m   1015\u001B[0m     delimiter,\n\u001B[1;32m   (...)\u001B[0m\n\u001B[0;32m   1022\u001B[0m     dtype_backend\u001B[38;5;241m=\u001B[39mdtype_backend,\n\u001B[0;32m   1023\u001B[0m )\n\u001B[0;32m   1024\u001B[0m kwds\u001B[38;5;241m.\u001B[39mupdate(kwds_defaults)\n\u001B[1;32m-> 1026\u001B[0m \u001B[38;5;28;01mreturn\u001B[39;00m \u001B[43m_read\u001B[49m\u001B[43m(\u001B[49m\u001B[43mfilepath_or_buffer\u001B[49m\u001B[43m,\u001B[49m\u001B[43m \u001B[49m\u001B[43mkwds\u001B[49m\u001B[43m)\u001B[49m\n",
      "File \u001B[1;32m~\\PycharmProjects\\afm-vlm\\.venv\\Lib\\site-packages\\pandas\\io\\parsers\\readers.py:620\u001B[0m, in \u001B[0;36m_read\u001B[1;34m(filepath_or_buffer, kwds)\u001B[0m\n\u001B[0;32m    617\u001B[0m _validate_names(kwds\u001B[38;5;241m.\u001B[39mget(\u001B[38;5;124m\"\u001B[39m\u001B[38;5;124mnames\u001B[39m\u001B[38;5;124m\"\u001B[39m, \u001B[38;5;28;01mNone\u001B[39;00m))\n\u001B[0;32m    619\u001B[0m \u001B[38;5;66;03m# Create the parser.\u001B[39;00m\n\u001B[1;32m--> 620\u001B[0m parser \u001B[38;5;241m=\u001B[39m \u001B[43mTextFileReader\u001B[49m\u001B[43m(\u001B[49m\u001B[43mfilepath_or_buffer\u001B[49m\u001B[43m,\u001B[49m\u001B[43m \u001B[49m\u001B[38;5;241;43m*\u001B[39;49m\u001B[38;5;241;43m*\u001B[39;49m\u001B[43mkwds\u001B[49m\u001B[43m)\u001B[49m\n\u001B[0;32m    622\u001B[0m \u001B[38;5;28;01mif\u001B[39;00m chunksize \u001B[38;5;129;01mor\u001B[39;00m iterator:\n\u001B[0;32m    623\u001B[0m     \u001B[38;5;28;01mreturn\u001B[39;00m parser\n",
      "File \u001B[1;32m~\\PycharmProjects\\afm-vlm\\.venv\\Lib\\site-packages\\pandas\\io\\parsers\\readers.py:1620\u001B[0m, in \u001B[0;36mTextFileReader.__init__\u001B[1;34m(self, f, engine, **kwds)\u001B[0m\n\u001B[0;32m   1617\u001B[0m     \u001B[38;5;28mself\u001B[39m\u001B[38;5;241m.\u001B[39moptions[\u001B[38;5;124m\"\u001B[39m\u001B[38;5;124mhas_index_names\u001B[39m\u001B[38;5;124m\"\u001B[39m] \u001B[38;5;241m=\u001B[39m kwds[\u001B[38;5;124m\"\u001B[39m\u001B[38;5;124mhas_index_names\u001B[39m\u001B[38;5;124m\"\u001B[39m]\n\u001B[0;32m   1619\u001B[0m \u001B[38;5;28mself\u001B[39m\u001B[38;5;241m.\u001B[39mhandles: IOHandles \u001B[38;5;241m|\u001B[39m \u001B[38;5;28;01mNone\u001B[39;00m \u001B[38;5;241m=\u001B[39m \u001B[38;5;28;01mNone\u001B[39;00m\n\u001B[1;32m-> 1620\u001B[0m \u001B[38;5;28mself\u001B[39m\u001B[38;5;241m.\u001B[39m_engine \u001B[38;5;241m=\u001B[39m \u001B[38;5;28;43mself\u001B[39;49m\u001B[38;5;241;43m.\u001B[39;49m\u001B[43m_make_engine\u001B[49m\u001B[43m(\u001B[49m\u001B[43mf\u001B[49m\u001B[43m,\u001B[49m\u001B[43m \u001B[49m\u001B[38;5;28;43mself\u001B[39;49m\u001B[38;5;241;43m.\u001B[39;49m\u001B[43mengine\u001B[49m\u001B[43m)\u001B[49m\n",
      "File \u001B[1;32m~\\PycharmProjects\\afm-vlm\\.venv\\Lib\\site-packages\\pandas\\io\\parsers\\readers.py:1880\u001B[0m, in \u001B[0;36mTextFileReader._make_engine\u001B[1;34m(self, f, engine)\u001B[0m\n\u001B[0;32m   1878\u001B[0m     \u001B[38;5;28;01mif\u001B[39;00m \u001B[38;5;124m\"\u001B[39m\u001B[38;5;124mb\u001B[39m\u001B[38;5;124m\"\u001B[39m \u001B[38;5;129;01mnot\u001B[39;00m \u001B[38;5;129;01min\u001B[39;00m mode:\n\u001B[0;32m   1879\u001B[0m         mode \u001B[38;5;241m+\u001B[39m\u001B[38;5;241m=\u001B[39m \u001B[38;5;124m\"\u001B[39m\u001B[38;5;124mb\u001B[39m\u001B[38;5;124m\"\u001B[39m\n\u001B[1;32m-> 1880\u001B[0m \u001B[38;5;28mself\u001B[39m\u001B[38;5;241m.\u001B[39mhandles \u001B[38;5;241m=\u001B[39m \u001B[43mget_handle\u001B[49m\u001B[43m(\u001B[49m\n\u001B[0;32m   1881\u001B[0m \u001B[43m    \u001B[49m\u001B[43mf\u001B[49m\u001B[43m,\u001B[49m\n\u001B[0;32m   1882\u001B[0m \u001B[43m    \u001B[49m\u001B[43mmode\u001B[49m\u001B[43m,\u001B[49m\n\u001B[0;32m   1883\u001B[0m \u001B[43m    \u001B[49m\u001B[43mencoding\u001B[49m\u001B[38;5;241;43m=\u001B[39;49m\u001B[38;5;28;43mself\u001B[39;49m\u001B[38;5;241;43m.\u001B[39;49m\u001B[43moptions\u001B[49m\u001B[38;5;241;43m.\u001B[39;49m\u001B[43mget\u001B[49m\u001B[43m(\u001B[49m\u001B[38;5;124;43m\"\u001B[39;49m\u001B[38;5;124;43mencoding\u001B[39;49m\u001B[38;5;124;43m\"\u001B[39;49m\u001B[43m,\u001B[49m\u001B[43m \u001B[49m\u001B[38;5;28;43;01mNone\u001B[39;49;00m\u001B[43m)\u001B[49m\u001B[43m,\u001B[49m\n\u001B[0;32m   1884\u001B[0m \u001B[43m    \u001B[49m\u001B[43mcompression\u001B[49m\u001B[38;5;241;43m=\u001B[39;49m\u001B[38;5;28;43mself\u001B[39;49m\u001B[38;5;241;43m.\u001B[39;49m\u001B[43moptions\u001B[49m\u001B[38;5;241;43m.\u001B[39;49m\u001B[43mget\u001B[49m\u001B[43m(\u001B[49m\u001B[38;5;124;43m\"\u001B[39;49m\u001B[38;5;124;43mcompression\u001B[39;49m\u001B[38;5;124;43m\"\u001B[39;49m\u001B[43m,\u001B[49m\u001B[43m \u001B[49m\u001B[38;5;28;43;01mNone\u001B[39;49;00m\u001B[43m)\u001B[49m\u001B[43m,\u001B[49m\n\u001B[0;32m   1885\u001B[0m \u001B[43m    \u001B[49m\u001B[43mmemory_map\u001B[49m\u001B[38;5;241;43m=\u001B[39;49m\u001B[38;5;28;43mself\u001B[39;49m\u001B[38;5;241;43m.\u001B[39;49m\u001B[43moptions\u001B[49m\u001B[38;5;241;43m.\u001B[39;49m\u001B[43mget\u001B[49m\u001B[43m(\u001B[49m\u001B[38;5;124;43m\"\u001B[39;49m\u001B[38;5;124;43mmemory_map\u001B[39;49m\u001B[38;5;124;43m\"\u001B[39;49m\u001B[43m,\u001B[49m\u001B[43m \u001B[49m\u001B[38;5;28;43;01mFalse\u001B[39;49;00m\u001B[43m)\u001B[49m\u001B[43m,\u001B[49m\n\u001B[0;32m   1886\u001B[0m \u001B[43m    \u001B[49m\u001B[43mis_text\u001B[49m\u001B[38;5;241;43m=\u001B[39;49m\u001B[43mis_text\u001B[49m\u001B[43m,\u001B[49m\n\u001B[0;32m   1887\u001B[0m \u001B[43m    \u001B[49m\u001B[43merrors\u001B[49m\u001B[38;5;241;43m=\u001B[39;49m\u001B[38;5;28;43mself\u001B[39;49m\u001B[38;5;241;43m.\u001B[39;49m\u001B[43moptions\u001B[49m\u001B[38;5;241;43m.\u001B[39;49m\u001B[43mget\u001B[49m\u001B[43m(\u001B[49m\u001B[38;5;124;43m\"\u001B[39;49m\u001B[38;5;124;43mencoding_errors\u001B[39;49m\u001B[38;5;124;43m\"\u001B[39;49m\u001B[43m,\u001B[49m\u001B[43m \u001B[49m\u001B[38;5;124;43m\"\u001B[39;49m\u001B[38;5;124;43mstrict\u001B[39;49m\u001B[38;5;124;43m\"\u001B[39;49m\u001B[43m)\u001B[49m\u001B[43m,\u001B[49m\n\u001B[0;32m   1888\u001B[0m \u001B[43m    \u001B[49m\u001B[43mstorage_options\u001B[49m\u001B[38;5;241;43m=\u001B[39;49m\u001B[38;5;28;43mself\u001B[39;49m\u001B[38;5;241;43m.\u001B[39;49m\u001B[43moptions\u001B[49m\u001B[38;5;241;43m.\u001B[39;49m\u001B[43mget\u001B[49m\u001B[43m(\u001B[49m\u001B[38;5;124;43m\"\u001B[39;49m\u001B[38;5;124;43mstorage_options\u001B[39;49m\u001B[38;5;124;43m\"\u001B[39;49m\u001B[43m,\u001B[49m\u001B[43m \u001B[49m\u001B[38;5;28;43;01mNone\u001B[39;49;00m\u001B[43m)\u001B[49m\u001B[43m,\u001B[49m\n\u001B[0;32m   1889\u001B[0m \u001B[43m\u001B[49m\u001B[43m)\u001B[49m\n\u001B[0;32m   1890\u001B[0m \u001B[38;5;28;01massert\u001B[39;00m \u001B[38;5;28mself\u001B[39m\u001B[38;5;241m.\u001B[39mhandles \u001B[38;5;129;01mis\u001B[39;00m \u001B[38;5;129;01mnot\u001B[39;00m \u001B[38;5;28;01mNone\u001B[39;00m\n\u001B[0;32m   1891\u001B[0m f \u001B[38;5;241m=\u001B[39m \u001B[38;5;28mself\u001B[39m\u001B[38;5;241m.\u001B[39mhandles\u001B[38;5;241m.\u001B[39mhandle\n",
      "File \u001B[1;32m~\\PycharmProjects\\afm-vlm\\.venv\\Lib\\site-packages\\pandas\\io\\common.py:873\u001B[0m, in \u001B[0;36mget_handle\u001B[1;34m(path_or_buf, mode, encoding, compression, memory_map, is_text, errors, storage_options)\u001B[0m\n\u001B[0;32m    868\u001B[0m \u001B[38;5;28;01melif\u001B[39;00m \u001B[38;5;28misinstance\u001B[39m(handle, \u001B[38;5;28mstr\u001B[39m):\n\u001B[0;32m    869\u001B[0m     \u001B[38;5;66;03m# Check whether the filename is to be opened in binary mode.\u001B[39;00m\n\u001B[0;32m    870\u001B[0m     \u001B[38;5;66;03m# Binary mode does not support 'encoding' and 'newline'.\u001B[39;00m\n\u001B[0;32m    871\u001B[0m     \u001B[38;5;28;01mif\u001B[39;00m ioargs\u001B[38;5;241m.\u001B[39mencoding \u001B[38;5;129;01mand\u001B[39;00m \u001B[38;5;124m\"\u001B[39m\u001B[38;5;124mb\u001B[39m\u001B[38;5;124m\"\u001B[39m \u001B[38;5;129;01mnot\u001B[39;00m \u001B[38;5;129;01min\u001B[39;00m ioargs\u001B[38;5;241m.\u001B[39mmode:\n\u001B[0;32m    872\u001B[0m         \u001B[38;5;66;03m# Encoding\u001B[39;00m\n\u001B[1;32m--> 873\u001B[0m         handle \u001B[38;5;241m=\u001B[39m \u001B[38;5;28;43mopen\u001B[39;49m\u001B[43m(\u001B[49m\n\u001B[0;32m    874\u001B[0m \u001B[43m            \u001B[49m\u001B[43mhandle\u001B[49m\u001B[43m,\u001B[49m\n\u001B[0;32m    875\u001B[0m \u001B[43m            \u001B[49m\u001B[43mioargs\u001B[49m\u001B[38;5;241;43m.\u001B[39;49m\u001B[43mmode\u001B[49m\u001B[43m,\u001B[49m\n\u001B[0;32m    876\u001B[0m \u001B[43m            \u001B[49m\u001B[43mencoding\u001B[49m\u001B[38;5;241;43m=\u001B[39;49m\u001B[43mioargs\u001B[49m\u001B[38;5;241;43m.\u001B[39;49m\u001B[43mencoding\u001B[49m\u001B[43m,\u001B[49m\n\u001B[0;32m    877\u001B[0m \u001B[43m            \u001B[49m\u001B[43merrors\u001B[49m\u001B[38;5;241;43m=\u001B[39;49m\u001B[43merrors\u001B[49m\u001B[43m,\u001B[49m\n\u001B[0;32m    878\u001B[0m \u001B[43m            \u001B[49m\u001B[43mnewline\u001B[49m\u001B[38;5;241;43m=\u001B[39;49m\u001B[38;5;124;43m\"\u001B[39;49m\u001B[38;5;124;43m\"\u001B[39;49m\u001B[43m,\u001B[49m\n\u001B[0;32m    879\u001B[0m \u001B[43m        \u001B[49m\u001B[43m)\u001B[49m\n\u001B[0;32m    880\u001B[0m     \u001B[38;5;28;01melse\u001B[39;00m:\n\u001B[0;32m    881\u001B[0m         \u001B[38;5;66;03m# Binary mode\u001B[39;00m\n\u001B[0;32m    882\u001B[0m         handle \u001B[38;5;241m=\u001B[39m \u001B[38;5;28mopen\u001B[39m(handle, ioargs\u001B[38;5;241m.\u001B[39mmode)\n",
      "\u001B[1;31mFileNotFoundError\u001B[0m: [Errno 2] No such file or directory: 'experiments/second_experiment/data_generation_pipeline_010724.csv'"
     ]
    }
   ],
   "execution_count": 7
  },
  {
   "metadata": {
    "ExecuteTime": {
     "end_time": "2024-07-03T17:42:15.624313Z",
     "start_time": "2024-07-03T17:42:15.624313Z"
    }
   },
   "cell_type": "code",
   "source": [
    "# get llm_long_summary \n",
    "llm_long_summary = df_data_extensive.iloc[6].to_dict().values()\n",
    "\n",
    "# convert to list\n",
    "llm_long_summary = list(llm_long_summary)"
   ],
   "id": "36b7d851b10032d2",
   "outputs": [],
   "execution_count": null
  },
  {
   "metadata": {
    "ExecuteTime": {
     "end_time": "2024-07-03T17:41:10.703229Z",
     "start_time": "2024-07-03T17:41:10.703229Z"
    }
   },
   "cell_type": "code",
   "source": [
    "# get ocr_only\n",
    "ocr_only = df_data_extensive.iloc[11].to_dict().values()\n",
    "\n",
    "# convert to list\n",
    "ocr_only = list(ocr_only)"
   ],
   "id": "11272fdcf7b8bc3b",
   "outputs": [],
   "execution_count": null
  },
  {
   "metadata": {},
   "cell_type": "code",
   "outputs": [],
   "execution_count": null,
   "source": [
    "# get ocr_lava ----- NOT EXISTING\n",
    "ocr_lava = df_data_extensive.iloc[6].to_dict().values()\n",
    "\n",
    "# convert to list\n",
    "ocr_lava = list(ocr_lava)"
   ],
   "id": "370a8f17965b5465"
  },
  {
   "metadata": {},
   "cell_type": "code",
   "outputs": [],
   "execution_count": null,
   "source": [
    "# get ocr_transcriptions\n",
    "ocr_transcriptions = df_data_extensive.iloc[14].to_dict().values()\n",
    "\n",
    "# convert to list\n",
    "ocr_transcriptions = list(ocr_transcriptions)"
   ],
   "id": "1f0ebf7df19a8809"
  },
  {
   "metadata": {
    "ExecuteTime": {
     "end_time": "2024-07-03T16:51:46.041207Z",
     "start_time": "2024-07-03T16:51:45.768628Z"
    }
   },
   "cell_type": "code",
   "source": [
    "# get img_path\n",
    "img_path =  df_data_extensive.iloc[0].to_dict().values()\n",
    "\n",
    "# convert to list\n",
    "img_path = list(img_path)\n",
    "img_path"
   ],
   "id": "7d88398a78cded6b",
   "outputs": [
    {
     "data": {
      "text/plain": [
       "['img_path',\n",
       " '/Users/magic-rabbit/Documents/AFM/afm-vlm/data/raw/biology_chapter_3_3_treshhold_5/extracted_keyframes/biology_chapter_3_3_treshhold_5-Scene-079-01.jpg',\n",
       " '/Users/magic-rabbit/Documents/AFM/afm-vlm/data/raw/biology_chapter_3_3_treshhold_5/extracted_keyframes/biology_chapter_3_3_treshhold_5-Scene-004-01.jpg',\n",
       " '/Users/magic-rabbit/Documents/AFM/afm-vlm/data/raw/biology_chapter_3_3_treshhold_5/extracted_keyframes/biology_chapter_3_3_treshhold_5-Scene-067-01.jpg',\n",
       " '/Users/magic-rabbit/Documents/AFM/afm-vlm/data/raw/biology_chapter_3_3_treshhold_5/extracted_keyframes/biology_chapter_3_3_treshhold_5-Scene-016-01.jpg',\n",
       " '/Users/magic-rabbit/Documents/AFM/afm-vlm/data/raw/biology_chapter_3_3_treshhold_5/extracted_keyframes/biology_chapter_3_3_treshhold_5-Scene-075-01.jpg',\n",
       " '/Users/magic-rabbit/Documents/AFM/afm-vlm/data/raw/biology_chapter_3_3_treshhold_5/extracted_keyframes/biology_chapter_3_3_treshhold_5-Scene-008-01.jpg',\n",
       " '/Users/magic-rabbit/Documents/AFM/afm-vlm/data/raw/biology_chapter_3_3_treshhold_5/extracted_keyframes/biology_chapter_3_3_treshhold_5-Scene-020-01.jpg',\n",
       " '/Users/magic-rabbit/Documents/AFM/afm-vlm/data/raw/biology_chapter_3_3_treshhold_5/extracted_keyframes/biology_chapter_3_3_treshhold_5-Scene-043-01.jpg',\n",
       " '/Users/magic-rabbit/Documents/AFM/afm-vlm/data/raw/biology_chapter_3_3_treshhold_5/extracted_keyframes/biology_chapter_3_3_treshhold_5-Scene-032-01.jpg',\n",
       " '/Users/magic-rabbit/Documents/AFM/afm-vlm/data/raw/biology_chapter_3_3_treshhold_5/extracted_keyframes/biology_chapter_3_3_treshhold_5-Scene-051-01.jpg',\n",
       " '/Users/magic-rabbit/Documents/AFM/afm-vlm/data/raw/biology_chapter_3_3_treshhold_5/extracted_keyframes/biology_chapter_3_3_treshhold_5-Scene-084-01.jpg',\n",
       " '/Users/magic-rabbit/Documents/AFM/afm-vlm/data/raw/biology_chapter_3_3_treshhold_5/extracted_keyframes/biology_chapter_3_3_treshhold_5-Scene-077-01.jpg',\n",
       " '/Users/magic-rabbit/Documents/AFM/afm-vlm/data/raw/biology_chapter_3_3_treshhold_5/extracted_keyframes/biology_chapter_3_3_treshhold_5-Scene-069-01.jpg',\n",
       " '/Users/magic-rabbit/Documents/AFM/afm-vlm/data/raw/biology_chapter_3_3_treshhold_5/extracted_keyframes/biology_chapter_3_3_treshhold_5-Scene-014-01.jpg',\n",
       " '/Users/magic-rabbit/Documents/AFM/afm-vlm/data/raw/biology_chapter_3_3_treshhold_5/extracted_keyframes/biology_chapter_3_3_treshhold_5-Scene-065-01.jpg',\n",
       " '/Users/magic-rabbit/Documents/AFM/afm-vlm/data/raw/biology_chapter_3_3_treshhold_5/extracted_keyframes/biology_chapter_3_3_treshhold_5-Scene-018-01.jpg',\n",
       " '/Users/magic-rabbit/Documents/AFM/afm-vlm/data/raw/biology_chapter_3_3_treshhold_5/extracted_keyframes/biology_chapter_3_3_treshhold_5-Scene-006-01.jpg',\n",
       " '/Users/magic-rabbit/Documents/AFM/afm-vlm/data/raw/biology_chapter_3_3_treshhold_5/extracted_keyframes/biology_chapter_3_3_treshhold_5-Scene-053-01.jpg',\n",
       " '/Users/magic-rabbit/Documents/AFM/afm-vlm/data/raw/biology_chapter_3_3_treshhold_5/extracted_keyframes/biology_chapter_3_3_treshhold_5-Scene-030-01.jpg',\n",
       " '/Users/magic-rabbit/Documents/AFM/afm-vlm/data/raw/biology_chapter_3_3_treshhold_5/extracted_keyframes/biology_chapter_3_3_treshhold_5-Scene-041-01.jpg',\n",
       " '/Users/magic-rabbit/Documents/AFM/afm-vlm/data/raw/biology_chapter_3_3_treshhold_5/extracted_keyframes/biology_chapter_3_3_treshhold_5-Scene-022-01.jpg',\n",
       " '/Users/magic-rabbit/Documents/AFM/afm-vlm/data/raw/biology_chapter_3_3_treshhold_5/extracted_keyframes/biology_chapter_3_3_treshhold_5-Scene-080-01.jpg',\n",
       " '/Users/magic-rabbit/Documents/AFM/afm-vlm/data/raw/biology_chapter_3_3_treshhold_5/extracted_keyframes/biology_chapter_3_3_treshhold_5-Scene-038-01.jpg',\n",
       " '/Users/magic-rabbit/Documents/AFM/afm-vlm/data/raw/biology_chapter_3_3_treshhold_5/extracted_keyframes/biology_chapter_3_3_treshhold_5-Scene-045-01.jpg',\n",
       " '/Users/magic-rabbit/Documents/AFM/afm-vlm/data/raw/biology_chapter_3_3_treshhold_5/extracted_keyframes/biology_chapter_3_3_treshhold_5-Scene-026-01.jpg',\n",
       " '/Users/magic-rabbit/Documents/AFM/afm-vlm/data/raw/biology_chapter_3_3_treshhold_5/extracted_keyframes/biology_chapter_3_3_treshhold_5-Scene-057-01.jpg',\n",
       " '/Users/magic-rabbit/Documents/AFM/afm-vlm/data/raw/biology_chapter_3_3_treshhold_5/extracted_keyframes/biology_chapter_3_3_treshhold_5-Scene-034-01.jpg',\n",
       " '/Users/magic-rabbit/Documents/AFM/afm-vlm/data/raw/biology_chapter_3_3_treshhold_5/extracted_keyframes/biology_chapter_3_3_treshhold_5-Scene-049-01.jpg',\n",
       " '/Users/magic-rabbit/Documents/AFM/afm-vlm/data/raw/biology_chapter_3_3_treshhold_5/extracted_keyframes/biology_chapter_3_3_treshhold_5-Scene-061-01.jpg',\n",
       " '/Users/magic-rabbit/Documents/AFM/afm-vlm/data/raw/biology_chapter_3_3_treshhold_5/extracted_keyframes/biology_chapter_3_3_treshhold_5-Scene-002-01.jpg',\n",
       " '/Users/magic-rabbit/Documents/AFM/afm-vlm/data/raw/biology_chapter_3_3_treshhold_5/extracted_keyframes/biology_chapter_3_3_treshhold_5-Scene-073-01.jpg',\n",
       " '/Users/magic-rabbit/Documents/AFM/afm-vlm/data/raw/biology_chapter_3_3_treshhold_5/extracted_keyframes/biology_chapter_3_3_treshhold_5-Scene-010-01.jpg',\n",
       " '/Users/magic-rabbit/Documents/AFM/afm-vlm/data/raw/biology_chapter_3_3_treshhold_5/extracted_keyframes/biology_chapter_3_3_treshhold_5-Scene-036-01.jpg',\n",
       " '/Users/magic-rabbit/Documents/AFM/afm-vlm/data/raw/biology_chapter_3_3_treshhold_5/extracted_keyframes/biology_chapter_3_3_treshhold_5-Scene-028-01.jpg',\n",
       " '/Users/magic-rabbit/Documents/AFM/afm-vlm/data/raw/biology_chapter_3_3_treshhold_5/extracted_keyframes/biology_chapter_3_3_treshhold_5-Scene-055-01.jpg',\n",
       " '/Users/magic-rabbit/Documents/AFM/afm-vlm/data/raw/biology_chapter_3_3_treshhold_5/extracted_keyframes/biology_chapter_3_3_treshhold_5-Scene-024-01.jpg',\n",
       " '/Users/magic-rabbit/Documents/AFM/afm-vlm/data/raw/biology_chapter_3_3_treshhold_5/extracted_keyframes/biology_chapter_3_3_treshhold_5-Scene-059-01.jpg',\n",
       " '/Users/magic-rabbit/Documents/AFM/afm-vlm/data/raw/biology_chapter_3_3_treshhold_5/extracted_keyframes/biology_chapter_3_3_treshhold_5-Scene-047-01.jpg',\n",
       " '/Users/magic-rabbit/Documents/AFM/afm-vlm/data/raw/biology_chapter_3_3_treshhold_5/extracted_keyframes/biology_chapter_3_3_treshhold_5-Scene-012-01.jpg',\n",
       " '/Users/magic-rabbit/Documents/AFM/afm-vlm/data/raw/biology_chapter_3_3_treshhold_5/extracted_keyframes/biology_chapter_3_3_treshhold_5-Scene-071-01.jpg',\n",
       " '/Users/magic-rabbit/Documents/AFM/afm-vlm/data/raw/biology_chapter_3_3_treshhold_5/extracted_keyframes/biology_chapter_3_3_treshhold_5-Scene-063-01.jpg',\n",
       " '/Users/magic-rabbit/Documents/AFM/afm-vlm/data/raw/biology_chapter_3_3_treshhold_5/extracted_keyframes/biology_chapter_3_3_treshhold_5-Scene-082-01.jpg',\n",
       " '/Users/magic-rabbit/Documents/AFM/afm-vlm/data/raw/biology_chapter_3_3_treshhold_5/extracted_keyframes/biology_chapter_3_3_treshhold_5-Scene-042-01.jpg',\n",
       " '/Users/magic-rabbit/Documents/AFM/afm-vlm/data/raw/biology_chapter_3_3_treshhold_5/extracted_keyframes/biology_chapter_3_3_treshhold_5-Scene-021-01.jpg',\n",
       " '/Users/magic-rabbit/Documents/AFM/afm-vlm/data/raw/biology_chapter_3_3_treshhold_5/extracted_keyframes/biology_chapter_3_3_treshhold_5-Scene-050-01.jpg',\n",
       " '/Users/magic-rabbit/Documents/AFM/afm-vlm/data/raw/biology_chapter_3_3_treshhold_5/extracted_keyframes/biology_chapter_3_3_treshhold_5-Scene-033-01.jpg',\n",
       " '/Users/magic-rabbit/Documents/AFM/afm-vlm/data/raw/biology_chapter_3_3_treshhold_5/extracted_keyframes/biology_chapter_3_3_treshhold_5-Scene-066-01.jpg',\n",
       " '/Users/magic-rabbit/Documents/AFM/afm-vlm/data/raw/biology_chapter_3_3_treshhold_5/extracted_keyframes/biology_chapter_3_3_treshhold_5-Scene-005-01.jpg',\n",
       " '/Users/magic-rabbit/Documents/AFM/afm-vlm/data/raw/biology_chapter_3_3_treshhold_5/extracted_keyframes/biology_chapter_3_3_treshhold_5-Scene-078-01.jpg',\n",
       " '/Users/magic-rabbit/Documents/AFM/afm-vlm/data/raw/biology_chapter_3_3_treshhold_5/extracted_keyframes/biology_chapter_3_3_treshhold_5-Scene-009-01.jpg',\n",
       " '/Users/magic-rabbit/Documents/AFM/afm-vlm/data/raw/biology_chapter_3_3_treshhold_5/extracted_keyframes/biology_chapter_3_3_treshhold_5-Scene-074-01.jpg',\n",
       " '/Users/magic-rabbit/Documents/AFM/afm-vlm/data/raw/biology_chapter_3_3_treshhold_5/extracted_keyframes/biology_chapter_3_3_treshhold_5-Scene-017-01.jpg',\n",
       " '/Users/magic-rabbit/Documents/AFM/afm-vlm/data/raw/biology_chapter_3_3_treshhold_5/extracted_keyframes/biology_chapter_3_3_treshhold_5-Scene-031-01.jpg',\n",
       " '/Users/magic-rabbit/Documents/AFM/afm-vlm/data/raw/biology_chapter_3_3_treshhold_5/extracted_keyframes/biology_chapter_3_3_treshhold_5-Scene-052-01.jpg',\n",
       " '/Users/magic-rabbit/Documents/AFM/afm-vlm/data/raw/biology_chapter_3_3_treshhold_5/extracted_keyframes/biology_chapter_3_3_treshhold_5-Scene-023-01.jpg',\n",
       " '/Users/magic-rabbit/Documents/AFM/afm-vlm/data/raw/biology_chapter_3_3_treshhold_5/extracted_keyframes/biology_chapter_3_3_treshhold_5-Scene-040-01.jpg',\n",
       " '/Users/magic-rabbit/Documents/AFM/afm-vlm/data/raw/biology_chapter_3_3_treshhold_5/extracted_keyframes/biology_chapter_3_3_treshhold_5-Scene-015-01.jpg',\n",
       " '/Users/magic-rabbit/Documents/AFM/afm-vlm/data/raw/biology_chapter_3_3_treshhold_5/extracted_keyframes/biology_chapter_3_3_treshhold_5-Scene-068-01.jpg',\n",
       " '/Users/magic-rabbit/Documents/AFM/afm-vlm/data/raw/biology_chapter_3_3_treshhold_5/extracted_keyframes/biology_chapter_3_3_treshhold_5-Scene-076-01.jpg',\n",
       " '/Users/magic-rabbit/Documents/AFM/afm-vlm/data/raw/biology_chapter_3_3_treshhold_5/extracted_keyframes/biology_chapter_3_3_treshhold_5-Scene-007-01.jpg',\n",
       " '/Users/magic-rabbit/Documents/AFM/afm-vlm/data/raw/biology_chapter_3_3_treshhold_5/extracted_keyframes/biology_chapter_3_3_treshhold_5-Scene-019-01.jpg',\n",
       " '/Users/magic-rabbit/Documents/AFM/afm-vlm/data/raw/biology_chapter_3_3_treshhold_5/extracted_keyframes/biology_chapter_3_3_treshhold_5-Scene-064-01.jpg',\n",
       " '/Users/magic-rabbit/Documents/AFM/afm-vlm/data/raw/biology_chapter_3_3_treshhold_5/extracted_keyframes/biology_chapter_3_3_treshhold_5-Scene-085-01.jpg',\n",
       " '/Users/magic-rabbit/Documents/AFM/afm-vlm/data/raw/biology_chapter_3_3_treshhold_5/extracted_keyframes/biology_chapter_3_3_treshhold_5-Scene-003-01.jpg',\n",
       " '/Users/magic-rabbit/Documents/AFM/afm-vlm/data/raw/biology_chapter_3_3_treshhold_5/extracted_keyframes/biology_chapter_3_3_treshhold_5-Scene-060-01.jpg',\n",
       " '/Users/magic-rabbit/Documents/AFM/afm-vlm/data/raw/biology_chapter_3_3_treshhold_5/extracted_keyframes/biology_chapter_3_3_treshhold_5-Scene-011-01.jpg',\n",
       " '/Users/magic-rabbit/Documents/AFM/afm-vlm/data/raw/biology_chapter_3_3_treshhold_5/extracted_keyframes/biology_chapter_3_3_treshhold_5-Scene-072-01.jpg',\n",
       " '/Users/magic-rabbit/Documents/AFM/afm-vlm/data/raw/biology_chapter_3_3_treshhold_5/extracted_keyframes/biology_chapter_3_3_treshhold_5-Scene-027-01.jpg',\n",
       " '/Users/magic-rabbit/Documents/AFM/afm-vlm/data/raw/biology_chapter_3_3_treshhold_5/extracted_keyframes/biology_chapter_3_3_treshhold_5-Scene-044-01.jpg',\n",
       " '/Users/magic-rabbit/Documents/AFM/afm-vlm/data/raw/biology_chapter_3_3_treshhold_5/extracted_keyframes/biology_chapter_3_3_treshhold_5-Scene-039-01.jpg',\n",
       " '/Users/magic-rabbit/Documents/AFM/afm-vlm/data/raw/biology_chapter_3_3_treshhold_5/extracted_keyframes/biology_chapter_3_3_treshhold_5-Scene-048-01.jpg',\n",
       " '/Users/magic-rabbit/Documents/AFM/afm-vlm/data/raw/biology_chapter_3_3_treshhold_5/extracted_keyframes/biology_chapter_3_3_treshhold_5-Scene-035-01.jpg',\n",
       " '/Users/magic-rabbit/Documents/AFM/afm-vlm/data/raw/biology_chapter_3_3_treshhold_5/extracted_keyframes/biology_chapter_3_3_treshhold_5-Scene-056-01.jpg',\n",
       " '/Users/magic-rabbit/Documents/AFM/afm-vlm/data/raw/biology_chapter_3_3_treshhold_5/extracted_keyframes/biology_chapter_3_3_treshhold_5-Scene-081-01.jpg',\n",
       " '/Users/magic-rabbit/Documents/AFM/afm-vlm/data/raw/biology_chapter_3_3_treshhold_5/extracted_keyframes/biology_chapter_3_3_treshhold_5-Scene-083-01.jpg',\n",
       " '/Users/magic-rabbit/Documents/AFM/afm-vlm/data/raw/biology_chapter_3_3_treshhold_5/extracted_keyframes/biology_chapter_3_3_treshhold_5-Scene-070-01.jpg',\n",
       " '/Users/magic-rabbit/Documents/AFM/afm-vlm/data/raw/biology_chapter_3_3_treshhold_5/extracted_keyframes/biology_chapter_3_3_treshhold_5-Scene-013-01.jpg',\n",
       " '/Users/magic-rabbit/Documents/AFM/afm-vlm/data/raw/biology_chapter_3_3_treshhold_5/extracted_keyframes/biology_chapter_3_3_treshhold_5-Scene-062-01.jpg',\n",
       " '/Users/magic-rabbit/Documents/AFM/afm-vlm/data/raw/biology_chapter_3_3_treshhold_5/extracted_keyframes/biology_chapter_3_3_treshhold_5-Scene-001-01.jpg',\n",
       " '/Users/magic-rabbit/Documents/AFM/afm-vlm/data/raw/biology_chapter_3_3_treshhold_5/extracted_keyframes/biology_chapter_3_3_treshhold_5-Scene-054-01.jpg',\n",
       " '/Users/magic-rabbit/Documents/AFM/afm-vlm/data/raw/biology_chapter_3_3_treshhold_5/extracted_keyframes/biology_chapter_3_3_treshhold_5-Scene-029-01.jpg',\n",
       " '/Users/magic-rabbit/Documents/AFM/afm-vlm/data/raw/biology_chapter_3_3_treshhold_5/extracted_keyframes/biology_chapter_3_3_treshhold_5-Scene-037-01.jpg',\n",
       " '/Users/magic-rabbit/Documents/AFM/afm-vlm/data/raw/biology_chapter_3_3_treshhold_5/extracted_keyframes/biology_chapter_3_3_treshhold_5-Scene-046-01.jpg',\n",
       " '/Users/magic-rabbit/Documents/AFM/afm-vlm/data/raw/biology_chapter_3_3_treshhold_5/extracted_keyframes/biology_chapter_3_3_treshhold_5-Scene-058-01.jpg',\n",
       " '/Users/magic-rabbit/Documents/AFM/afm-vlm/data/raw/biology_chapter_3_3_treshhold_5/extracted_keyframes/biology_chapter_3_3_treshhold_5-Scene-025-01.jpg']"
      ]
     },
     "execution_count": 51,
     "metadata": {},
     "output_type": "execute_result"
    }
   ],
   "execution_count": 51
  },
  {
   "metadata": {
    "ExecuteTime": {
     "end_time": "2024-07-03T17:19:44.603157Z",
     "start_time": "2024-07-03T17:19:33.076696Z"
    }
   },
   "cell_type": "code",
   "source": [
    "# Embedd with LLM long summary\n",
    "logger.info(f\"Embedd with LLM long summary\")\n",
    "\n",
    "result = []\n",
    "\n",
    "embedding_model = EmbeddingsModel()\n",
    "\n",
    "embedding_model.text_embeddings = None\n",
    "\n",
    "embedding_model.img_paths = None\n",
    "\n",
    "embedding_model.img_paths = img_path\n",
    "\n",
    "embeddings = embedding_model.generate_dataset_embeddings_standard_tokenizer(llm_long_summary)\n",
    "\n",
    "embedding_model.text_embeddings = embeddings\n",
    "\n",
    "logger.info(f\"Embedding Model.text_embeddings: {embedding_model.text_embeddings}\")\n",
    "\n",
    "rows = []\n",
    "\n",
    "rows = get_results(df)\n",
    "\n",
    "df_extensive_summary = pd.DataFrame(rows, columns=['Prompt', 'GT_Keyframe', 'Top_1', 'Top_2', 'Top_3'])\n",
    "\n",
    "# Save dataframe to CSV\n",
    "df_extensive_summary.to_csv('df_standard_llm_long_summary.csv', index=False)\n"
   ],
   "id": "9c8f865ed02fb866",
   "outputs": [
    {
     "name": "stderr",
     "output_type": "stream",
     "text": [
      "\u001B[32m2024-07-03 19:19:33.395\u001B[0m | \u001B[1mINFO    \u001B[0m | \u001B[36m__main__\u001B[0m:\u001B[36m<module>\u001B[0m:\u001B[36m2\u001B[0m - \u001B[1mEmbedd with LLM long summary\u001B[0m\n",
      "INFO:sentence_transformers.SentenceTransformer:Use pytorch device_name: cpu\n",
      "INFO:sentence_transformers.SentenceTransformer:Load pretrained SentenceTransformer: paraphrase-multilingual-MiniLM-L12-v2\n"
     ]
    },
    {
     "data": {
      "text/plain": [
       "Batches:   0%|          | 0/3 [00:00<?, ?it/s]"
      ],
      "application/vnd.jupyter.widget-view+json": {
       "version_major": 2,
       "version_minor": 0,
       "model_id": "88febaf75a1f4dc59ab78c30764d26c0"
      }
     },
     "metadata": {},
     "output_type": "display_data"
    },
    {
     "name": "stderr",
     "output_type": "stream",
     "text": [
      "\u001B[32m2024-07-03 19:19:43.078\u001B[0m | \u001B[1mINFO    \u001B[0m | \u001B[36m__main__\u001B[0m:\u001B[36m<module>\u001B[0m:\u001B[36m18\u001B[0m - \u001B[1mEmbedding Model.text_embeddings: tensor([[-0.1943,  0.0935,  0.1131,  ..., -0.0911, -0.2710,  0.1646],\n",
      "        [ 0.0253, -0.0263, -0.0014,  ...,  0.4360,  0.3577,  0.1273],\n",
      "        [-0.3051, -0.3519, -0.0007,  ...,  0.1595,  0.0330,  0.1471],\n",
      "        ...,\n",
      "        [-0.0642, -0.2373,  0.4589,  ..., -0.1966,  0.1491, -0.1945],\n",
      "        [-0.1577, -0.1107, -0.1429,  ...,  0.0462,  0.2383, -0.0868],\n",
      "        [-0.2274, -0.1598,  0.0243,  ..., -0.0246,  0.0617, -0.0040]])\u001B[0m\n",
      "\u001B[32m2024-07-03 19:19:43.078\u001B[0m | \u001B[1mINFO    \u001B[0m | \u001B[36m__main__\u001B[0m:\u001B[36mget_results\u001B[0m:\u001B[36m15\u001B[0m - \u001B[1mlearning outcomes\u001B[0m\n"
     ]
    },
    {
     "data": {
      "text/plain": [
       "Batches:   0%|          | 0/1 [00:00<?, ?it/s]"
      ],
      "application/vnd.jupyter.widget-view+json": {
       "version_major": 2,
       "version_minor": 0,
       "model_id": "b41e43c1239e488d8e531ed52a396436"
      }
     },
     "metadata": {},
     "output_type": "display_data"
    },
    {
     "name": "stderr",
     "output_type": "stream",
     "text": [
      "\u001B[32m2024-07-03 19:19:43.135\u001B[0m | \u001B[1mINFO    \u001B[0m | \u001B[36msrc.text_embedder.embedder\u001B[0m:\u001B[36msearch_similar_images_top_k\u001B[0m:\u001B[36m167\u001B[0m - \u001B[1mQuery text embedding shape: torch.Size([384])\u001B[0m\n",
      "\u001B[32m2024-07-03 19:19:43.135\u001B[0m | \u001B[1mINFO    \u001B[0m | \u001B[36msrc.text_embedder.embedder\u001B[0m:\u001B[36msearch_similar_images_top_k\u001B[0m:\u001B[36m168\u001B[0m - \u001B[1mText embeddings shape: torch.Size([86, 384])\u001B[0m\n",
      "\u001B[32m2024-07-03 19:19:43.145\u001B[0m | \u001B[1mINFO    \u001B[0m | \u001B[36msrc.text_embedder.embedder\u001B[0m:\u001B[36msearch_similar_images_top_k\u001B[0m:\u001B[36m175\u001B[0m - \u001B[1mTop 3 Similarity scores: torch.return_types.topk(\n",
      "values=tensor([0.4803, 0.4311, 0.3226]),\n",
      "indices=tensor([64, 63, 79])) - GT is keyframe number 3\u001B[0m\n",
      "\u001B[32m2024-07-03 19:19:43.145\u001B[0m | \u001B[1mINFO    \u001B[0m | \u001B[36msrc.text_embedder.embedder\u001B[0m:\u001B[36msearch_similar_images_top_k\u001B[0m:\u001B[36m177\u001B[0m - \u001B[1mLength of img paths: 86\u001B[0m\n",
      "\u001B[32m2024-07-03 19:19:43.148\u001B[0m | \u001B[1mINFO    \u001B[0m | \u001B[36msrc.text_embedder.embedder\u001B[0m:\u001B[36msearch_similar_images_top_k\u001B[0m:\u001B[36m185\u001B[0m - \u001B[1m#####GT is keyframe number 3#####\u001B[0m\n",
      "\u001B[32m2024-07-03 19:19:43.149\u001B[0m | \u001B[1mINFO    \u001B[0m | \u001B[36msrc.text_embedder.embedder\u001B[0m:\u001B[36msearch_similar_images_top_k\u001B[0m:\u001B[36m186\u001B[0m - \u001B[1mMax similarity for index 64 is the keyframe /Users/magic-rabbit/Documents/AFM/afm-vlm/data/raw/biology_chapter_3_3_treshhold_5/extracted_keyframes/biology_chapter_3_3_treshhold_5-Scene-003-01.jpg\u001B[0m\n",
      "\u001B[32m2024-07-03 19:19:43.152\u001B[0m | \u001B[1mINFO    \u001B[0m | \u001B[36msrc.text_embedder.embedder\u001B[0m:\u001B[36msearch_similar_images_top_k\u001B[0m:\u001B[36m185\u001B[0m - \u001B[1m#####GT is keyframe number 3#####\u001B[0m\n",
      "\u001B[32m2024-07-03 19:19:43.152\u001B[0m | \u001B[1mINFO    \u001B[0m | \u001B[36msrc.text_embedder.embedder\u001B[0m:\u001B[36msearch_similar_images_top_k\u001B[0m:\u001B[36m186\u001B[0m - \u001B[1mMax similarity for index 63 is the keyframe /Users/magic-rabbit/Documents/AFM/afm-vlm/data/raw/biology_chapter_3_3_treshhold_5/extracted_keyframes/biology_chapter_3_3_treshhold_5-Scene-085-01.jpg\u001B[0m\n",
      "\u001B[32m2024-07-03 19:19:43.154\u001B[0m | \u001B[1mINFO    \u001B[0m | \u001B[36msrc.text_embedder.embedder\u001B[0m:\u001B[36msearch_similar_images_top_k\u001B[0m:\u001B[36m185\u001B[0m - \u001B[1m#####GT is keyframe number 3#####\u001B[0m\n",
      "\u001B[32m2024-07-03 19:19:43.155\u001B[0m | \u001B[1mINFO    \u001B[0m | \u001B[36msrc.text_embedder.embedder\u001B[0m:\u001B[36msearch_similar_images_top_k\u001B[0m:\u001B[36m186\u001B[0m - \u001B[1mMax similarity for index 79 is the keyframe /Users/magic-rabbit/Documents/AFM/afm-vlm/data/raw/biology_chapter_3_3_treshhold_5/extracted_keyframes/biology_chapter_3_3_treshhold_5-Scene-001-01.jpg\u001B[0m\n",
      "\u001B[32m2024-07-03 19:19:43.155\u001B[0m | \u001B[1mINFO    \u001B[0m | \u001B[36m__main__\u001B[0m:\u001B[36mget_results\u001B[0m:\u001B[36m15\u001B[0m - \u001B[1mWhat are the learning outcomes from the lecture?\u001B[0m\n"
     ]
    },
    {
     "data": {
      "text/plain": [
       "Batches:   0%|          | 0/1 [00:00<?, ?it/s]"
      ],
      "application/vnd.jupyter.widget-view+json": {
       "version_major": 2,
       "version_minor": 0,
       "model_id": "7664814a6f074c4c8e046c1f223cc010"
      }
     },
     "metadata": {},
     "output_type": "display_data"
    },
    {
     "name": "stderr",
     "output_type": "stream",
     "text": [
      "\u001B[32m2024-07-03 19:19:43.217\u001B[0m | \u001B[1mINFO    \u001B[0m | \u001B[36msrc.text_embedder.embedder\u001B[0m:\u001B[36msearch_similar_images_top_k\u001B[0m:\u001B[36m167\u001B[0m - \u001B[1mQuery text embedding shape: torch.Size([384])\u001B[0m\n",
      "\u001B[32m2024-07-03 19:19:43.217\u001B[0m | \u001B[1mINFO    \u001B[0m | \u001B[36msrc.text_embedder.embedder\u001B[0m:\u001B[36msearch_similar_images_top_k\u001B[0m:\u001B[36m168\u001B[0m - \u001B[1mText embeddings shape: torch.Size([86, 384])\u001B[0m\n",
      "\u001B[32m2024-07-03 19:19:43.225\u001B[0m | \u001B[1mINFO    \u001B[0m | \u001B[36msrc.text_embedder.embedder\u001B[0m:\u001B[36msearch_similar_images_top_k\u001B[0m:\u001B[36m175\u001B[0m - \u001B[1mTop 3 Similarity scores: torch.return_types.topk(\n",
      "values=tensor([0.6073, 0.5959, 0.4908]),\n",
      "indices=tensor([64, 63, 79])) - GT is keyframe number 3\u001B[0m\n",
      "\u001B[32m2024-07-03 19:19:43.225\u001B[0m | \u001B[1mINFO    \u001B[0m | \u001B[36msrc.text_embedder.embedder\u001B[0m:\u001B[36msearch_similar_images_top_k\u001B[0m:\u001B[36m177\u001B[0m - \u001B[1mLength of img paths: 86\u001B[0m\n",
      "\u001B[32m2024-07-03 19:19:43.225\u001B[0m | \u001B[1mINFO    \u001B[0m | \u001B[36msrc.text_embedder.embedder\u001B[0m:\u001B[36msearch_similar_images_top_k\u001B[0m:\u001B[36m185\u001B[0m - \u001B[1m#####GT is keyframe number 3#####\u001B[0m\n",
      "\u001B[32m2024-07-03 19:19:43.230\u001B[0m | \u001B[1mINFO    \u001B[0m | \u001B[36msrc.text_embedder.embedder\u001B[0m:\u001B[36msearch_similar_images_top_k\u001B[0m:\u001B[36m186\u001B[0m - \u001B[1mMax similarity for index 64 is the keyframe /Users/magic-rabbit/Documents/AFM/afm-vlm/data/raw/biology_chapter_3_3_treshhold_5/extracted_keyframes/biology_chapter_3_3_treshhold_5-Scene-003-01.jpg\u001B[0m\n",
      "\u001B[32m2024-07-03 19:19:43.233\u001B[0m | \u001B[1mINFO    \u001B[0m | \u001B[36msrc.text_embedder.embedder\u001B[0m:\u001B[36msearch_similar_images_top_k\u001B[0m:\u001B[36m185\u001B[0m - \u001B[1m#####GT is keyframe number 3#####\u001B[0m\n",
      "\u001B[32m2024-07-03 19:19:43.233\u001B[0m | \u001B[1mINFO    \u001B[0m | \u001B[36msrc.text_embedder.embedder\u001B[0m:\u001B[36msearch_similar_images_top_k\u001B[0m:\u001B[36m186\u001B[0m - \u001B[1mMax similarity for index 63 is the keyframe /Users/magic-rabbit/Documents/AFM/afm-vlm/data/raw/biology_chapter_3_3_treshhold_5/extracted_keyframes/biology_chapter_3_3_treshhold_5-Scene-085-01.jpg\u001B[0m\n",
      "\u001B[32m2024-07-03 19:19:43.235\u001B[0m | \u001B[1mINFO    \u001B[0m | \u001B[36msrc.text_embedder.embedder\u001B[0m:\u001B[36msearch_similar_images_top_k\u001B[0m:\u001B[36m185\u001B[0m - \u001B[1m#####GT is keyframe number 3#####\u001B[0m\n",
      "\u001B[32m2024-07-03 19:19:43.235\u001B[0m | \u001B[1mINFO    \u001B[0m | \u001B[36msrc.text_embedder.embedder\u001B[0m:\u001B[36msearch_similar_images_top_k\u001B[0m:\u001B[36m186\u001B[0m - \u001B[1mMax similarity for index 79 is the keyframe /Users/magic-rabbit/Documents/AFM/afm-vlm/data/raw/biology_chapter_3_3_treshhold_5/extracted_keyframes/biology_chapter_3_3_treshhold_5-Scene-001-01.jpg\u001B[0m\n",
      "\u001B[32m2024-07-03 19:19:43.235\u001B[0m | \u001B[1mINFO    \u001B[0m | \u001B[36m__main__\u001B[0m:\u001B[36mget_results\u001B[0m:\u001B[36m15\u001B[0m - \u001B[1mexplain proteins in macronutrients\u001B[0m\n"
     ]
    },
    {
     "data": {
      "text/plain": [
       "Batches:   0%|          | 0/1 [00:00<?, ?it/s]"
      ],
      "application/vnd.jupyter.widget-view+json": {
       "version_major": 2,
       "version_minor": 0,
       "model_id": "ea764d2c1b5c4b8881c186d81fb6a734"
      }
     },
     "metadata": {},
     "output_type": "display_data"
    },
    {
     "name": "stderr",
     "output_type": "stream",
     "text": [
      "\u001B[32m2024-07-03 19:19:43.297\u001B[0m | \u001B[1mINFO    \u001B[0m | \u001B[36msrc.text_embedder.embedder\u001B[0m:\u001B[36msearch_similar_images_top_k\u001B[0m:\u001B[36m167\u001B[0m - \u001B[1mQuery text embedding shape: torch.Size([384])\u001B[0m\n",
      "\u001B[32m2024-07-03 19:19:43.297\u001B[0m | \u001B[1mINFO    \u001B[0m | \u001B[36msrc.text_embedder.embedder\u001B[0m:\u001B[36msearch_similar_images_top_k\u001B[0m:\u001B[36m168\u001B[0m - \u001B[1mText embeddings shape: torch.Size([86, 384])\u001B[0m\n",
      "\u001B[32m2024-07-03 19:19:43.302\u001B[0m | \u001B[1mINFO    \u001B[0m | \u001B[36msrc.text_embedder.embedder\u001B[0m:\u001B[36msearch_similar_images_top_k\u001B[0m:\u001B[36m175\u001B[0m - \u001B[1mTop 3 Similarity scores: torch.return_types.topk(\n",
      "values=tensor([0.7555, 0.6806, 0.6649]),\n",
      "indices=tensor([55, 68, 82])) - GT is keyframe number 27\u001B[0m\n",
      "\u001B[32m2024-07-03 19:19:43.305\u001B[0m | \u001B[1mINFO    \u001B[0m | \u001B[36msrc.text_embedder.embedder\u001B[0m:\u001B[36msearch_similar_images_top_k\u001B[0m:\u001B[36m177\u001B[0m - \u001B[1mLength of img paths: 86\u001B[0m\n",
      "\u001B[32m2024-07-03 19:19:43.306\u001B[0m | \u001B[1mINFO    \u001B[0m | \u001B[36msrc.text_embedder.embedder\u001B[0m:\u001B[36msearch_similar_images_top_k\u001B[0m:\u001B[36m185\u001B[0m - \u001B[1m#####GT is keyframe number 27#####\u001B[0m\n",
      "\u001B[32m2024-07-03 19:19:43.306\u001B[0m | \u001B[1mINFO    \u001B[0m | \u001B[36msrc.text_embedder.embedder\u001B[0m:\u001B[36msearch_similar_images_top_k\u001B[0m:\u001B[36m186\u001B[0m - \u001B[1mMax similarity for index 55 is the keyframe /Users/magic-rabbit/Documents/AFM/afm-vlm/data/raw/biology_chapter_3_3_treshhold_5/extracted_keyframes/biology_chapter_3_3_treshhold_5-Scene-023-01.jpg\u001B[0m\n",
      "\u001B[32m2024-07-03 19:19:43.310\u001B[0m | \u001B[1mINFO    \u001B[0m | \u001B[36msrc.text_embedder.embedder\u001B[0m:\u001B[36msearch_similar_images_top_k\u001B[0m:\u001B[36m185\u001B[0m - \u001B[1m#####GT is keyframe number 27#####\u001B[0m\n",
      "\u001B[32m2024-07-03 19:19:43.311\u001B[0m | \u001B[1mINFO    \u001B[0m | \u001B[36msrc.text_embedder.embedder\u001B[0m:\u001B[36msearch_similar_images_top_k\u001B[0m:\u001B[36m186\u001B[0m - \u001B[1mMax similarity for index 68 is the keyframe /Users/magic-rabbit/Documents/AFM/afm-vlm/data/raw/biology_chapter_3_3_treshhold_5/extracted_keyframes/biology_chapter_3_3_treshhold_5-Scene-027-01.jpg\u001B[0m\n",
      "\u001B[32m2024-07-03 19:19:43.314\u001B[0m | \u001B[1mINFO    \u001B[0m | \u001B[36msrc.text_embedder.embedder\u001B[0m:\u001B[36msearch_similar_images_top_k\u001B[0m:\u001B[36m185\u001B[0m - \u001B[1m#####GT is keyframe number 27#####\u001B[0m\n",
      "\u001B[32m2024-07-03 19:19:43.316\u001B[0m | \u001B[1mINFO    \u001B[0m | \u001B[36msrc.text_embedder.embedder\u001B[0m:\u001B[36msearch_similar_images_top_k\u001B[0m:\u001B[36m186\u001B[0m - \u001B[1mMax similarity for index 82 is the keyframe /Users/magic-rabbit/Documents/AFM/afm-vlm/data/raw/biology_chapter_3_3_treshhold_5/extracted_keyframes/biology_chapter_3_3_treshhold_5-Scene-037-01.jpg\u001B[0m\n",
      "\u001B[32m2024-07-03 19:19:43.316\u001B[0m | \u001B[1mINFO    \u001B[0m | \u001B[36m__main__\u001B[0m:\u001B[36mget_results\u001B[0m:\u001B[36m15\u001B[0m - \u001B[1mI did not understand the function of proteins in macronutrients\u001B[0m\n"
     ]
    },
    {
     "data": {
      "text/plain": [
       "Batches:   0%|          | 0/1 [00:00<?, ?it/s]"
      ],
      "application/vnd.jupyter.widget-view+json": {
       "version_major": 2,
       "version_minor": 0,
       "model_id": "e27ec999536f48b8899f159ec53fc3b9"
      }
     },
     "metadata": {},
     "output_type": "display_data"
    },
    {
     "name": "stderr",
     "output_type": "stream",
     "text": [
      "\u001B[32m2024-07-03 19:19:43.378\u001B[0m | \u001B[1mINFO    \u001B[0m | \u001B[36msrc.text_embedder.embedder\u001B[0m:\u001B[36msearch_similar_images_top_k\u001B[0m:\u001B[36m167\u001B[0m - \u001B[1mQuery text embedding shape: torch.Size([384])\u001B[0m\n",
      "\u001B[32m2024-07-03 19:19:43.378\u001B[0m | \u001B[1mINFO    \u001B[0m | \u001B[36msrc.text_embedder.embedder\u001B[0m:\u001B[36msearch_similar_images_top_k\u001B[0m:\u001B[36m168\u001B[0m - \u001B[1mText embeddings shape: torch.Size([86, 384])\u001B[0m\n",
      "\u001B[32m2024-07-03 19:19:43.378\u001B[0m | \u001B[1mINFO    \u001B[0m | \u001B[36msrc.text_embedder.embedder\u001B[0m:\u001B[36msearch_similar_images_top_k\u001B[0m:\u001B[36m175\u001B[0m - \u001B[1mTop 3 Similarity scores: torch.return_types.topk(\n",
      "values=tensor([0.6579, 0.6370, 0.5971]),\n",
      "indices=tensor([55, 36, 68])) - GT is keyframe number 27\u001B[0m\n",
      "\u001B[32m2024-07-03 19:19:43.385\u001B[0m | \u001B[1mINFO    \u001B[0m | \u001B[36msrc.text_embedder.embedder\u001B[0m:\u001B[36msearch_similar_images_top_k\u001B[0m:\u001B[36m177\u001B[0m - \u001B[1mLength of img paths: 86\u001B[0m\n",
      "\u001B[32m2024-07-03 19:19:43.386\u001B[0m | \u001B[1mINFO    \u001B[0m | \u001B[36msrc.text_embedder.embedder\u001B[0m:\u001B[36msearch_similar_images_top_k\u001B[0m:\u001B[36m185\u001B[0m - \u001B[1m#####GT is keyframe number 27#####\u001B[0m\n",
      "\u001B[32m2024-07-03 19:19:43.386\u001B[0m | \u001B[1mINFO    \u001B[0m | \u001B[36msrc.text_embedder.embedder\u001B[0m:\u001B[36msearch_similar_images_top_k\u001B[0m:\u001B[36m186\u001B[0m - \u001B[1mMax similarity for index 55 is the keyframe /Users/magic-rabbit/Documents/AFM/afm-vlm/data/raw/biology_chapter_3_3_treshhold_5/extracted_keyframes/biology_chapter_3_3_treshhold_5-Scene-023-01.jpg\u001B[0m\n",
      "\u001B[32m2024-07-03 19:19:43.386\u001B[0m | \u001B[1mINFO    \u001B[0m | \u001B[36msrc.text_embedder.embedder\u001B[0m:\u001B[36msearch_similar_images_top_k\u001B[0m:\u001B[36m185\u001B[0m - \u001B[1m#####GT is keyframe number 27#####\u001B[0m\n",
      "\u001B[32m2024-07-03 19:19:43.386\u001B[0m | \u001B[1mINFO    \u001B[0m | \u001B[36msrc.text_embedder.embedder\u001B[0m:\u001B[36msearch_similar_images_top_k\u001B[0m:\u001B[36m186\u001B[0m - \u001B[1mMax similarity for index 36 is the keyframe /Users/magic-rabbit/Documents/AFM/afm-vlm/data/raw/biology_chapter_3_3_treshhold_5/extracted_keyframes/biology_chapter_3_3_treshhold_5-Scene-024-01.jpg\u001B[0m\n",
      "\u001B[32m2024-07-03 19:19:43.386\u001B[0m | \u001B[1mINFO    \u001B[0m | \u001B[36msrc.text_embedder.embedder\u001B[0m:\u001B[36msearch_similar_images_top_k\u001B[0m:\u001B[36m185\u001B[0m - \u001B[1m#####GT is keyframe number 27#####\u001B[0m\n",
      "\u001B[32m2024-07-03 19:19:43.386\u001B[0m | \u001B[1mINFO    \u001B[0m | \u001B[36msrc.text_embedder.embedder\u001B[0m:\u001B[36msearch_similar_images_top_k\u001B[0m:\u001B[36m186\u001B[0m - \u001B[1mMax similarity for index 68 is the keyframe /Users/magic-rabbit/Documents/AFM/afm-vlm/data/raw/biology_chapter_3_3_treshhold_5/extracted_keyframes/biology_chapter_3_3_treshhold_5-Scene-027-01.jpg\u001B[0m\n",
      "\u001B[32m2024-07-03 19:19:43.395\u001B[0m | \u001B[1mINFO    \u001B[0m | \u001B[36m__main__\u001B[0m:\u001B[36mget_results\u001B[0m:\u001B[36m15\u001B[0m - \u001B[1mfish oil capsules\u001B[0m\n"
     ]
    },
    {
     "data": {
      "text/plain": [
       "Batches:   0%|          | 0/1 [00:00<?, ?it/s]"
      ],
      "application/vnd.jupyter.widget-view+json": {
       "version_major": 2,
       "version_minor": 0,
       "model_id": "3b0a69284ae74fd286dbdce91011bc21"
      }
     },
     "metadata": {},
     "output_type": "display_data"
    },
    {
     "name": "stderr",
     "output_type": "stream",
     "text": [
      "\u001B[32m2024-07-03 19:19:43.459\u001B[0m | \u001B[1mINFO    \u001B[0m | \u001B[36msrc.text_embedder.embedder\u001B[0m:\u001B[36msearch_similar_images_top_k\u001B[0m:\u001B[36m167\u001B[0m - \u001B[1mQuery text embedding shape: torch.Size([384])\u001B[0m\n",
      "\u001B[32m2024-07-03 19:19:43.459\u001B[0m | \u001B[1mINFO    \u001B[0m | \u001B[36msrc.text_embedder.embedder\u001B[0m:\u001B[36msearch_similar_images_top_k\u001B[0m:\u001B[36m168\u001B[0m - \u001B[1mText embeddings shape: torch.Size([86, 384])\u001B[0m\n",
      "\u001B[32m2024-07-03 19:19:43.467\u001B[0m | \u001B[1mINFO    \u001B[0m | \u001B[36msrc.text_embedder.embedder\u001B[0m:\u001B[36msearch_similar_images_top_k\u001B[0m:\u001B[36m175\u001B[0m - \u001B[1mTop 3 Similarity scores: torch.return_types.topk(\n",
      "values=tensor([0.6267, 0.3867, 0.3544]),\n",
      "indices=tensor([19, 81, 27])) - GT is keyframe number 30\u001B[0m\n",
      "\u001B[32m2024-07-03 19:19:43.467\u001B[0m | \u001B[1mINFO    \u001B[0m | \u001B[36msrc.text_embedder.embedder\u001B[0m:\u001B[36msearch_similar_images_top_k\u001B[0m:\u001B[36m177\u001B[0m - \u001B[1mLength of img paths: 86\u001B[0m\n",
      "\u001B[32m2024-07-03 19:19:43.467\u001B[0m | \u001B[1mINFO    \u001B[0m | \u001B[36msrc.text_embedder.embedder\u001B[0m:\u001B[36msearch_similar_images_top_k\u001B[0m:\u001B[36m185\u001B[0m - \u001B[1m#####GT is keyframe number 30#####\u001B[0m\n",
      "\u001B[32m2024-07-03 19:19:43.467\u001B[0m | \u001B[1mINFO    \u001B[0m | \u001B[36msrc.text_embedder.embedder\u001B[0m:\u001B[36msearch_similar_images_top_k\u001B[0m:\u001B[36m186\u001B[0m - \u001B[1mMax similarity for index 19 is the keyframe /Users/magic-rabbit/Documents/AFM/afm-vlm/data/raw/biology_chapter_3_3_treshhold_5/extracted_keyframes/biology_chapter_3_3_treshhold_5-Scene-030-01.jpg\u001B[0m\n",
      "\u001B[32m2024-07-03 19:19:43.467\u001B[0m | \u001B[1mINFO    \u001B[0m | \u001B[36msrc.text_embedder.embedder\u001B[0m:\u001B[36msearch_similar_images_top_k\u001B[0m:\u001B[36m185\u001B[0m - \u001B[1m#####GT is keyframe number 30#####\u001B[0m\n",
      "\u001B[32m2024-07-03 19:19:43.467\u001B[0m | \u001B[1mINFO    \u001B[0m | \u001B[36msrc.text_embedder.embedder\u001B[0m:\u001B[36msearch_similar_images_top_k\u001B[0m:\u001B[36m186\u001B[0m - \u001B[1mMax similarity for index 81 is the keyframe /Users/magic-rabbit/Documents/AFM/afm-vlm/data/raw/biology_chapter_3_3_treshhold_5/extracted_keyframes/biology_chapter_3_3_treshhold_5-Scene-029-01.jpg\u001B[0m\n",
      "\u001B[32m2024-07-03 19:19:43.475\u001B[0m | \u001B[1mINFO    \u001B[0m | \u001B[36msrc.text_embedder.embedder\u001B[0m:\u001B[36msearch_similar_images_top_k\u001B[0m:\u001B[36m185\u001B[0m - \u001B[1m#####GT is keyframe number 30#####\u001B[0m\n",
      "\u001B[32m2024-07-03 19:19:43.475\u001B[0m | \u001B[1mINFO    \u001B[0m | \u001B[36msrc.text_embedder.embedder\u001B[0m:\u001B[36msearch_similar_images_top_k\u001B[0m:\u001B[36m186\u001B[0m - \u001B[1mMax similarity for index 27 is the keyframe /Users/magic-rabbit/Documents/AFM/afm-vlm/data/raw/biology_chapter_3_3_treshhold_5/extracted_keyframes/biology_chapter_3_3_treshhold_5-Scene-034-01.jpg\u001B[0m\n",
      "\u001B[32m2024-07-03 19:19:43.475\u001B[0m | \u001B[1mINFO    \u001B[0m | \u001B[36m__main__\u001B[0m:\u001B[36mget_results\u001B[0m:\u001B[36m15\u001B[0m - \u001B[1mwhat is the functioning of fish oil capsules and its relation to vitamins\u001B[0m\n"
     ]
    },
    {
     "data": {
      "text/plain": [
       "Batches:   0%|          | 0/1 [00:00<?, ?it/s]"
      ],
      "application/vnd.jupyter.widget-view+json": {
       "version_major": 2,
       "version_minor": 0,
       "model_id": "1cfdb2e303094b2ebeb165550c50be27"
      }
     },
     "metadata": {},
     "output_type": "display_data"
    },
    {
     "name": "stderr",
     "output_type": "stream",
     "text": [
      "\u001B[32m2024-07-03 19:19:43.547\u001B[0m | \u001B[1mINFO    \u001B[0m | \u001B[36msrc.text_embedder.embedder\u001B[0m:\u001B[36msearch_similar_images_top_k\u001B[0m:\u001B[36m167\u001B[0m - \u001B[1mQuery text embedding shape: torch.Size([384])\u001B[0m\n",
      "\u001B[32m2024-07-03 19:19:43.549\u001B[0m | \u001B[1mINFO    \u001B[0m | \u001B[36msrc.text_embedder.embedder\u001B[0m:\u001B[36msearch_similar_images_top_k\u001B[0m:\u001B[36m168\u001B[0m - \u001B[1mText embeddings shape: torch.Size([86, 384])\u001B[0m\n",
      "\u001B[32m2024-07-03 19:19:43.549\u001B[0m | \u001B[1mINFO    \u001B[0m | \u001B[36msrc.text_embedder.embedder\u001B[0m:\u001B[36msearch_similar_images_top_k\u001B[0m:\u001B[36m175\u001B[0m - \u001B[1mTop 3 Similarity scores: torch.return_types.topk(\n",
      "values=tensor([0.7610, 0.5260, 0.4987]),\n",
      "indices=tensor([19, 81, 43])) - GT is keyframe number 30\u001B[0m\n",
      "\u001B[32m2024-07-03 19:19:43.549\u001B[0m | \u001B[1mINFO    \u001B[0m | \u001B[36msrc.text_embedder.embedder\u001B[0m:\u001B[36msearch_similar_images_top_k\u001B[0m:\u001B[36m177\u001B[0m - \u001B[1mLength of img paths: 86\u001B[0m\n",
      "\u001B[32m2024-07-03 19:19:43.555\u001B[0m | \u001B[1mINFO    \u001B[0m | \u001B[36msrc.text_embedder.embedder\u001B[0m:\u001B[36msearch_similar_images_top_k\u001B[0m:\u001B[36m185\u001B[0m - \u001B[1m#####GT is keyframe number 30#####\u001B[0m\n",
      "\u001B[32m2024-07-03 19:19:43.557\u001B[0m | \u001B[1mINFO    \u001B[0m | \u001B[36msrc.text_embedder.embedder\u001B[0m:\u001B[36msearch_similar_images_top_k\u001B[0m:\u001B[36m186\u001B[0m - \u001B[1mMax similarity for index 19 is the keyframe /Users/magic-rabbit/Documents/AFM/afm-vlm/data/raw/biology_chapter_3_3_treshhold_5/extracted_keyframes/biology_chapter_3_3_treshhold_5-Scene-030-01.jpg\u001B[0m\n",
      "\u001B[32m2024-07-03 19:19:43.557\u001B[0m | \u001B[1mINFO    \u001B[0m | \u001B[36msrc.text_embedder.embedder\u001B[0m:\u001B[36msearch_similar_images_top_k\u001B[0m:\u001B[36m185\u001B[0m - \u001B[1m#####GT is keyframe number 30#####\u001B[0m\n",
      "\u001B[32m2024-07-03 19:19:43.557\u001B[0m | \u001B[1mINFO    \u001B[0m | \u001B[36msrc.text_embedder.embedder\u001B[0m:\u001B[36msearch_similar_images_top_k\u001B[0m:\u001B[36m186\u001B[0m - \u001B[1mMax similarity for index 81 is the keyframe /Users/magic-rabbit/Documents/AFM/afm-vlm/data/raw/biology_chapter_3_3_treshhold_5/extracted_keyframes/biology_chapter_3_3_treshhold_5-Scene-029-01.jpg\u001B[0m\n",
      "\u001B[32m2024-07-03 19:19:43.557\u001B[0m | \u001B[1mINFO    \u001B[0m | \u001B[36msrc.text_embedder.embedder\u001B[0m:\u001B[36msearch_similar_images_top_k\u001B[0m:\u001B[36m185\u001B[0m - \u001B[1m#####GT is keyframe number 30#####\u001B[0m\n",
      "\u001B[32m2024-07-03 19:19:43.557\u001B[0m | \u001B[1mINFO    \u001B[0m | \u001B[36msrc.text_embedder.embedder\u001B[0m:\u001B[36msearch_similar_images_top_k\u001B[0m:\u001B[36m186\u001B[0m - \u001B[1mMax similarity for index 43 is the keyframe /Users/magic-rabbit/Documents/AFM/afm-vlm/data/raw/biology_chapter_3_3_treshhold_5/extracted_keyframes/biology_chapter_3_3_treshhold_5-Scene-042-01.jpg\u001B[0m\n",
      "\u001B[32m2024-07-03 19:19:43.557\u001B[0m | \u001B[1mINFO    \u001B[0m | \u001B[36m__main__\u001B[0m:\u001B[36mget_results\u001B[0m:\u001B[36m15\u001B[0m - \u001B[1mcalcium as micronutrient\u001B[0m\n"
     ]
    },
    {
     "data": {
      "text/plain": [
       "Batches:   0%|          | 0/1 [00:00<?, ?it/s]"
      ],
      "application/vnd.jupyter.widget-view+json": {
       "version_major": 2,
       "version_minor": 0,
       "model_id": "308ed78d6aed4ac0bcba27b4ce0adace"
      }
     },
     "metadata": {},
     "output_type": "display_data"
    },
    {
     "name": "stderr",
     "output_type": "stream",
     "text": [
      "\u001B[32m2024-07-03 19:19:43.620\u001B[0m | \u001B[1mINFO    \u001B[0m | \u001B[36msrc.text_embedder.embedder\u001B[0m:\u001B[36msearch_similar_images_top_k\u001B[0m:\u001B[36m167\u001B[0m - \u001B[1mQuery text embedding shape: torch.Size([384])\u001B[0m\n",
      "\u001B[32m2024-07-03 19:19:43.620\u001B[0m | \u001B[1mINFO    \u001B[0m | \u001B[36msrc.text_embedder.embedder\u001B[0m:\u001B[36msearch_similar_images_top_k\u001B[0m:\u001B[36m168\u001B[0m - \u001B[1mText embeddings shape: torch.Size([86, 384])\u001B[0m\n",
      "\u001B[32m2024-07-03 19:19:43.625\u001B[0m | \u001B[1mINFO    \u001B[0m | \u001B[36msrc.text_embedder.embedder\u001B[0m:\u001B[36msearch_similar_images_top_k\u001B[0m:\u001B[36m175\u001B[0m - \u001B[1mTop 3 Similarity scores: torch.return_types.topk(\n",
      "values=tensor([0.7876, 0.7452, 0.6261]),\n",
      "indices=tensor([83, 24, 56])) - GT is keyframe number 46\u001B[0m\n",
      "\u001B[32m2024-07-03 19:19:43.627\u001B[0m | \u001B[1mINFO    \u001B[0m | \u001B[36msrc.text_embedder.embedder\u001B[0m:\u001B[36msearch_similar_images_top_k\u001B[0m:\u001B[36m177\u001B[0m - \u001B[1mLength of img paths: 86\u001B[0m\n",
      "\u001B[32m2024-07-03 19:19:43.627\u001B[0m | \u001B[1mINFO    \u001B[0m | \u001B[36msrc.text_embedder.embedder\u001B[0m:\u001B[36msearch_similar_images_top_k\u001B[0m:\u001B[36m185\u001B[0m - \u001B[1m#####GT is keyframe number 46#####\u001B[0m\n",
      "\u001B[32m2024-07-03 19:19:43.627\u001B[0m | \u001B[1mINFO    \u001B[0m | \u001B[36msrc.text_embedder.embedder\u001B[0m:\u001B[36msearch_similar_images_top_k\u001B[0m:\u001B[36m186\u001B[0m - \u001B[1mMax similarity for index 83 is the keyframe /Users/magic-rabbit/Documents/AFM/afm-vlm/data/raw/biology_chapter_3_3_treshhold_5/extracted_keyframes/biology_chapter_3_3_treshhold_5-Scene-046-01.jpg\u001B[0m\n",
      "\u001B[32m2024-07-03 19:19:43.627\u001B[0m | \u001B[1mINFO    \u001B[0m | \u001B[36msrc.text_embedder.embedder\u001B[0m:\u001B[36msearch_similar_images_top_k\u001B[0m:\u001B[36m185\u001B[0m - \u001B[1m#####GT is keyframe number 46#####\u001B[0m\n",
      "\u001B[32m2024-07-03 19:19:43.627\u001B[0m | \u001B[1mINFO    \u001B[0m | \u001B[36msrc.text_embedder.embedder\u001B[0m:\u001B[36msearch_similar_images_top_k\u001B[0m:\u001B[36m186\u001B[0m - \u001B[1mMax similarity for index 24 is the keyframe /Users/magic-rabbit/Documents/AFM/afm-vlm/data/raw/biology_chapter_3_3_treshhold_5/extracted_keyframes/biology_chapter_3_3_treshhold_5-Scene-045-01.jpg\u001B[0m\n",
      "\u001B[32m2024-07-03 19:19:43.627\u001B[0m | \u001B[1mINFO    \u001B[0m | \u001B[36msrc.text_embedder.embedder\u001B[0m:\u001B[36msearch_similar_images_top_k\u001B[0m:\u001B[36m185\u001B[0m - \u001B[1m#####GT is keyframe number 46#####\u001B[0m\n",
      "\u001B[32m2024-07-03 19:19:43.635\u001B[0m | \u001B[1mINFO    \u001B[0m | \u001B[36msrc.text_embedder.embedder\u001B[0m:\u001B[36msearch_similar_images_top_k\u001B[0m:\u001B[36m186\u001B[0m - \u001B[1mMax similarity for index 56 is the keyframe /Users/magic-rabbit/Documents/AFM/afm-vlm/data/raw/biology_chapter_3_3_treshhold_5/extracted_keyframes/biology_chapter_3_3_treshhold_5-Scene-040-01.jpg\u001B[0m\n",
      "\u001B[32m2024-07-03 19:19:43.635\u001B[0m | \u001B[1mINFO    \u001B[0m | \u001B[36m__main__\u001B[0m:\u001B[36mget_results\u001B[0m:\u001B[36m15\u001B[0m - \u001B[1mwhat is calcium commonly supplemented for\u001B[0m\n"
     ]
    },
    {
     "data": {
      "text/plain": [
       "Batches:   0%|          | 0/1 [00:00<?, ?it/s]"
      ],
      "application/vnd.jupyter.widget-view+json": {
       "version_major": 2,
       "version_minor": 0,
       "model_id": "6e3bec7ef2b5409c9952218c9c7bcd7d"
      }
     },
     "metadata": {},
     "output_type": "display_data"
    },
    {
     "name": "stderr",
     "output_type": "stream",
     "text": [
      "\u001B[32m2024-07-03 19:19:43.700\u001B[0m | \u001B[1mINFO    \u001B[0m | \u001B[36msrc.text_embedder.embedder\u001B[0m:\u001B[36msearch_similar_images_top_k\u001B[0m:\u001B[36m167\u001B[0m - \u001B[1mQuery text embedding shape: torch.Size([384])\u001B[0m\n",
      "\u001B[32m2024-07-03 19:19:43.700\u001B[0m | \u001B[1mINFO    \u001B[0m | \u001B[36msrc.text_embedder.embedder\u001B[0m:\u001B[36msearch_similar_images_top_k\u001B[0m:\u001B[36m168\u001B[0m - \u001B[1mText embeddings shape: torch.Size([86, 384])\u001B[0m\n",
      "\u001B[32m2024-07-03 19:19:43.705\u001B[0m | \u001B[1mINFO    \u001B[0m | \u001B[36msrc.text_embedder.embedder\u001B[0m:\u001B[36msearch_similar_images_top_k\u001B[0m:\u001B[36m175\u001B[0m - \u001B[1mTop 3 Similarity scores: torch.return_types.topk(\n",
      "values=tensor([0.8145, 0.5960, 0.5642]),\n",
      "indices=tensor([83, 24, 44])) - GT is keyframe number 46\u001B[0m\n",
      "\u001B[32m2024-07-03 19:19:43.705\u001B[0m | \u001B[1mINFO    \u001B[0m | \u001B[36msrc.text_embedder.embedder\u001B[0m:\u001B[36msearch_similar_images_top_k\u001B[0m:\u001B[36m177\u001B[0m - \u001B[1mLength of img paths: 86\u001B[0m\n",
      "\u001B[32m2024-07-03 19:19:43.707\u001B[0m | \u001B[1mINFO    \u001B[0m | \u001B[36msrc.text_embedder.embedder\u001B[0m:\u001B[36msearch_similar_images_top_k\u001B[0m:\u001B[36m185\u001B[0m - \u001B[1m#####GT is keyframe number 46#####\u001B[0m\n",
      "\u001B[32m2024-07-03 19:19:43.707\u001B[0m | \u001B[1mINFO    \u001B[0m | \u001B[36msrc.text_embedder.embedder\u001B[0m:\u001B[36msearch_similar_images_top_k\u001B[0m:\u001B[36m186\u001B[0m - \u001B[1mMax similarity for index 83 is the keyframe /Users/magic-rabbit/Documents/AFM/afm-vlm/data/raw/biology_chapter_3_3_treshhold_5/extracted_keyframes/biology_chapter_3_3_treshhold_5-Scene-046-01.jpg\u001B[0m\n",
      "\u001B[32m2024-07-03 19:19:43.709\u001B[0m | \u001B[1mINFO    \u001B[0m | \u001B[36msrc.text_embedder.embedder\u001B[0m:\u001B[36msearch_similar_images_top_k\u001B[0m:\u001B[36m185\u001B[0m - \u001B[1m#####GT is keyframe number 46#####\u001B[0m\n",
      "\u001B[32m2024-07-03 19:19:43.709\u001B[0m | \u001B[1mINFO    \u001B[0m | \u001B[36msrc.text_embedder.embedder\u001B[0m:\u001B[36msearch_similar_images_top_k\u001B[0m:\u001B[36m186\u001B[0m - \u001B[1mMax similarity for index 24 is the keyframe /Users/magic-rabbit/Documents/AFM/afm-vlm/data/raw/biology_chapter_3_3_treshhold_5/extracted_keyframes/biology_chapter_3_3_treshhold_5-Scene-045-01.jpg\u001B[0m\n",
      "\u001B[32m2024-07-03 19:19:43.709\u001B[0m | \u001B[1mINFO    \u001B[0m | \u001B[36msrc.text_embedder.embedder\u001B[0m:\u001B[36msearch_similar_images_top_k\u001B[0m:\u001B[36m185\u001B[0m - \u001B[1m#####GT is keyframe number 46#####\u001B[0m\n",
      "\u001B[32m2024-07-03 19:19:43.709\u001B[0m | \u001B[1mINFO    \u001B[0m | \u001B[36msrc.text_embedder.embedder\u001B[0m:\u001B[36msearch_similar_images_top_k\u001B[0m:\u001B[36m186\u001B[0m - \u001B[1mMax similarity for index 44 is the keyframe /Users/magic-rabbit/Documents/AFM/afm-vlm/data/raw/biology_chapter_3_3_treshhold_5/extracted_keyframes/biology_chapter_3_3_treshhold_5-Scene-021-01.jpg\u001B[0m\n",
      "\u001B[32m2024-07-03 19:19:43.717\u001B[0m | \u001B[1mINFO    \u001B[0m | \u001B[36m__main__\u001B[0m:\u001B[36mget_results\u001B[0m:\u001B[36m15\u001B[0m - \u001B[1mflavanol food sources\u001B[0m\n"
     ]
    },
    {
     "data": {
      "text/plain": [
       "Batches:   0%|          | 0/1 [00:00<?, ?it/s]"
      ],
      "application/vnd.jupyter.widget-view+json": {
       "version_major": 2,
       "version_minor": 0,
       "model_id": "f53059222e9647d6b71921fbaae64104"
      }
     },
     "metadata": {},
     "output_type": "display_data"
    },
    {
     "name": "stderr",
     "output_type": "stream",
     "text": [
      "\u001B[32m2024-07-03 19:19:43.775\u001B[0m | \u001B[1mINFO    \u001B[0m | \u001B[36msrc.text_embedder.embedder\u001B[0m:\u001B[36msearch_similar_images_top_k\u001B[0m:\u001B[36m167\u001B[0m - \u001B[1mQuery text embedding shape: torch.Size([384])\u001B[0m\n",
      "\u001B[32m2024-07-03 19:19:43.775\u001B[0m | \u001B[1mINFO    \u001B[0m | \u001B[36msrc.text_embedder.embedder\u001B[0m:\u001B[36msearch_similar_images_top_k\u001B[0m:\u001B[36m168\u001B[0m - \u001B[1mText embeddings shape: torch.Size([86, 384])\u001B[0m\n",
      "\u001B[32m2024-07-03 19:19:43.782\u001B[0m | \u001B[1mINFO    \u001B[0m | \u001B[36msrc.text_embedder.embedder\u001B[0m:\u001B[36msearch_similar_images_top_k\u001B[0m:\u001B[36m175\u001B[0m - \u001B[1mTop 3 Similarity scores: torch.return_types.topk(\n",
      "values=tensor([0.4266, 0.3992, 0.3755]),\n",
      "indices=tensor([43, 24,  2])) - GT is keyframe number 48\u001B[0m\n",
      "\u001B[32m2024-07-03 19:19:43.782\u001B[0m | \u001B[1mINFO    \u001B[0m | \u001B[36msrc.text_embedder.embedder\u001B[0m:\u001B[36msearch_similar_images_top_k\u001B[0m:\u001B[36m177\u001B[0m - \u001B[1mLength of img paths: 86\u001B[0m\n",
      "\u001B[32m2024-07-03 19:19:43.785\u001B[0m | \u001B[1mINFO    \u001B[0m | \u001B[36msrc.text_embedder.embedder\u001B[0m:\u001B[36msearch_similar_images_top_k\u001B[0m:\u001B[36m185\u001B[0m - \u001B[1m#####GT is keyframe number 48#####\u001B[0m\n",
      "\u001B[32m2024-07-03 19:19:43.785\u001B[0m | \u001B[1mINFO    \u001B[0m | \u001B[36msrc.text_embedder.embedder\u001B[0m:\u001B[36msearch_similar_images_top_k\u001B[0m:\u001B[36m186\u001B[0m - \u001B[1mMax similarity for index 43 is the keyframe /Users/magic-rabbit/Documents/AFM/afm-vlm/data/raw/biology_chapter_3_3_treshhold_5/extracted_keyframes/biology_chapter_3_3_treshhold_5-Scene-042-01.jpg\u001B[0m\n",
      "\u001B[32m2024-07-03 19:19:43.785\u001B[0m | \u001B[1mINFO    \u001B[0m | \u001B[36msrc.text_embedder.embedder\u001B[0m:\u001B[36msearch_similar_images_top_k\u001B[0m:\u001B[36m185\u001B[0m - \u001B[1m#####GT is keyframe number 48#####\u001B[0m\n",
      "\u001B[32m2024-07-03 19:19:43.785\u001B[0m | \u001B[1mINFO    \u001B[0m | \u001B[36msrc.text_embedder.embedder\u001B[0m:\u001B[36msearch_similar_images_top_k\u001B[0m:\u001B[36m186\u001B[0m - \u001B[1mMax similarity for index 24 is the keyframe /Users/magic-rabbit/Documents/AFM/afm-vlm/data/raw/biology_chapter_3_3_treshhold_5/extracted_keyframes/biology_chapter_3_3_treshhold_5-Scene-045-01.jpg\u001B[0m\n",
      "\u001B[32m2024-07-03 19:19:43.789\u001B[0m | \u001B[1mINFO    \u001B[0m | \u001B[36msrc.text_embedder.embedder\u001B[0m:\u001B[36msearch_similar_images_top_k\u001B[0m:\u001B[36m185\u001B[0m - \u001B[1m#####GT is keyframe number 48#####\u001B[0m\n",
      "\u001B[32m2024-07-03 19:19:43.789\u001B[0m | \u001B[1mINFO    \u001B[0m | \u001B[36msrc.text_embedder.embedder\u001B[0m:\u001B[36msearch_similar_images_top_k\u001B[0m:\u001B[36m186\u001B[0m - \u001B[1mMax similarity for index 2 is the keyframe /Users/magic-rabbit/Documents/AFM/afm-vlm/data/raw/biology_chapter_3_3_treshhold_5/extracted_keyframes/biology_chapter_3_3_treshhold_5-Scene-004-01.jpg\u001B[0m\n",
      "\u001B[32m2024-07-03 19:19:43.789\u001B[0m | \u001B[1mINFO    \u001B[0m | \u001B[36m__main__\u001B[0m:\u001B[36mget_results\u001B[0m:\u001B[36m15\u001B[0m - \u001B[1mwhat are the main food sources of lycopene red fruits\u001B[0m\n"
     ]
    },
    {
     "data": {
      "text/plain": [
       "Batches:   0%|          | 0/1 [00:00<?, ?it/s]"
      ],
      "application/vnd.jupyter.widget-view+json": {
       "version_major": 2,
       "version_minor": 0,
       "model_id": "83cbd473301246408daac5fc162b8eaf"
      }
     },
     "metadata": {},
     "output_type": "display_data"
    },
    {
     "name": "stderr",
     "output_type": "stream",
     "text": [
      "\u001B[32m2024-07-03 19:19:43.855\u001B[0m | \u001B[1mINFO    \u001B[0m | \u001B[36msrc.text_embedder.embedder\u001B[0m:\u001B[36msearch_similar_images_top_k\u001B[0m:\u001B[36m167\u001B[0m - \u001B[1mQuery text embedding shape: torch.Size([384])\u001B[0m\n",
      "\u001B[32m2024-07-03 19:19:43.855\u001B[0m | \u001B[1mINFO    \u001B[0m | \u001B[36msrc.text_embedder.embedder\u001B[0m:\u001B[36msearch_similar_images_top_k\u001B[0m:\u001B[36m168\u001B[0m - \u001B[1mText embeddings shape: torch.Size([86, 384])\u001B[0m\n",
      "\u001B[32m2024-07-03 19:19:43.862\u001B[0m | \u001B[1mINFO    \u001B[0m | \u001B[36msrc.text_embedder.embedder\u001B[0m:\u001B[36msearch_similar_images_top_k\u001B[0m:\u001B[36m175\u001B[0m - \u001B[1mTop 3 Similarity scores: torch.return_types.topk(\n",
      "values=tensor([0.5005, 0.4334, 0.3903]),\n",
      "indices=tensor([43, 24, 71])) - GT is keyframe number 48\u001B[0m\n",
      "\u001B[32m2024-07-03 19:19:43.865\u001B[0m | \u001B[1mINFO    \u001B[0m | \u001B[36msrc.text_embedder.embedder\u001B[0m:\u001B[36msearch_similar_images_top_k\u001B[0m:\u001B[36m177\u001B[0m - \u001B[1mLength of img paths: 86\u001B[0m\n",
      "\u001B[32m2024-07-03 19:19:43.865\u001B[0m | \u001B[1mINFO    \u001B[0m | \u001B[36msrc.text_embedder.embedder\u001B[0m:\u001B[36msearch_similar_images_top_k\u001B[0m:\u001B[36m185\u001B[0m - \u001B[1m#####GT is keyframe number 48#####\u001B[0m\n",
      "\u001B[32m2024-07-03 19:19:43.868\u001B[0m | \u001B[1mINFO    \u001B[0m | \u001B[36msrc.text_embedder.embedder\u001B[0m:\u001B[36msearch_similar_images_top_k\u001B[0m:\u001B[36m186\u001B[0m - \u001B[1mMax similarity for index 43 is the keyframe /Users/magic-rabbit/Documents/AFM/afm-vlm/data/raw/biology_chapter_3_3_treshhold_5/extracted_keyframes/biology_chapter_3_3_treshhold_5-Scene-042-01.jpg\u001B[0m\n",
      "\u001B[32m2024-07-03 19:19:43.868\u001B[0m | \u001B[1mINFO    \u001B[0m | \u001B[36msrc.text_embedder.embedder\u001B[0m:\u001B[36msearch_similar_images_top_k\u001B[0m:\u001B[36m185\u001B[0m - \u001B[1m#####GT is keyframe number 48#####\u001B[0m\n",
      "\u001B[32m2024-07-03 19:19:43.868\u001B[0m | \u001B[1mINFO    \u001B[0m | \u001B[36msrc.text_embedder.embedder\u001B[0m:\u001B[36msearch_similar_images_top_k\u001B[0m:\u001B[36m186\u001B[0m - \u001B[1mMax similarity for index 24 is the keyframe /Users/magic-rabbit/Documents/AFM/afm-vlm/data/raw/biology_chapter_3_3_treshhold_5/extracted_keyframes/biology_chapter_3_3_treshhold_5-Scene-045-01.jpg\u001B[0m\n",
      "\u001B[32m2024-07-03 19:19:43.872\u001B[0m | \u001B[1mINFO    \u001B[0m | \u001B[36msrc.text_embedder.embedder\u001B[0m:\u001B[36msearch_similar_images_top_k\u001B[0m:\u001B[36m185\u001B[0m - \u001B[1m#####GT is keyframe number 48#####\u001B[0m\n",
      "\u001B[32m2024-07-03 19:19:43.872\u001B[0m | \u001B[1mINFO    \u001B[0m | \u001B[36msrc.text_embedder.embedder\u001B[0m:\u001B[36msearch_similar_images_top_k\u001B[0m:\u001B[36m186\u001B[0m - \u001B[1mMax similarity for index 71 is the keyframe /Users/magic-rabbit/Documents/AFM/afm-vlm/data/raw/biology_chapter_3_3_treshhold_5/extracted_keyframes/biology_chapter_3_3_treshhold_5-Scene-048-01.jpg\u001B[0m\n",
      "\u001B[32m2024-07-03 19:19:43.875\u001B[0m | \u001B[1mINFO    \u001B[0m | \u001B[36m__main__\u001B[0m:\u001B[36mget_results\u001B[0m:\u001B[36m15\u001B[0m - \u001B[1mplasma membrane\u001B[0m\n"
     ]
    },
    {
     "data": {
      "text/plain": [
       "Batches:   0%|          | 0/1 [00:00<?, ?it/s]"
      ],
      "application/vnd.jupyter.widget-view+json": {
       "version_major": 2,
       "version_minor": 0,
       "model_id": "8e4325f9ed7849fcbb3197f72483a199"
      }
     },
     "metadata": {},
     "output_type": "display_data"
    },
    {
     "name": "stderr",
     "output_type": "stream",
     "text": [
      "\u001B[32m2024-07-03 19:19:43.936\u001B[0m | \u001B[1mINFO    \u001B[0m | \u001B[36msrc.text_embedder.embedder\u001B[0m:\u001B[36msearch_similar_images_top_k\u001B[0m:\u001B[36m167\u001B[0m - \u001B[1mQuery text embedding shape: torch.Size([384])\u001B[0m\n",
      "\u001B[32m2024-07-03 19:19:43.936\u001B[0m | \u001B[1mINFO    \u001B[0m | \u001B[36msrc.text_embedder.embedder\u001B[0m:\u001B[36msearch_similar_images_top_k\u001B[0m:\u001B[36m168\u001B[0m - \u001B[1mText embeddings shape: torch.Size([86, 384])\u001B[0m\n",
      "\u001B[32m2024-07-03 19:19:43.940\u001B[0m | \u001B[1mINFO    \u001B[0m | \u001B[36msrc.text_embedder.embedder\u001B[0m:\u001B[36msearch_similar_images_top_k\u001B[0m:\u001B[36m175\u001B[0m - \u001B[1mTop 3 Similarity scores: torch.return_types.topk(\n",
      "values=tensor([0.8062, 0.7650, 0.7213]),\n",
      "indices=tensor([35,  3, 54])) - GT is keyframe number 57\u001B[0m\n",
      "\u001B[32m2024-07-03 19:19:43.940\u001B[0m | \u001B[1mINFO    \u001B[0m | \u001B[36msrc.text_embedder.embedder\u001B[0m:\u001B[36msearch_similar_images_top_k\u001B[0m:\u001B[36m177\u001B[0m - \u001B[1mLength of img paths: 86\u001B[0m\n",
      "\u001B[32m2024-07-03 19:19:43.940\u001B[0m | \u001B[1mINFO    \u001B[0m | \u001B[36msrc.text_embedder.embedder\u001B[0m:\u001B[36msearch_similar_images_top_k\u001B[0m:\u001B[36m185\u001B[0m - \u001B[1m#####GT is keyframe number 57#####\u001B[0m\n",
      "\u001B[32m2024-07-03 19:19:43.944\u001B[0m | \u001B[1mINFO    \u001B[0m | \u001B[36msrc.text_embedder.embedder\u001B[0m:\u001B[36msearch_similar_images_top_k\u001B[0m:\u001B[36m186\u001B[0m - \u001B[1mMax similarity for index 35 is the keyframe /Users/magic-rabbit/Documents/AFM/afm-vlm/data/raw/biology_chapter_3_3_treshhold_5/extracted_keyframes/biology_chapter_3_3_treshhold_5-Scene-055-01.jpg\u001B[0m\n",
      "\u001B[32m2024-07-03 19:19:43.945\u001B[0m | \u001B[1mINFO    \u001B[0m | \u001B[36msrc.text_embedder.embedder\u001B[0m:\u001B[36msearch_similar_images_top_k\u001B[0m:\u001B[36m185\u001B[0m - \u001B[1m#####GT is keyframe number 57#####\u001B[0m\n",
      "\u001B[32m2024-07-03 19:19:43.945\u001B[0m | \u001B[1mINFO    \u001B[0m | \u001B[36msrc.text_embedder.embedder\u001B[0m:\u001B[36msearch_similar_images_top_k\u001B[0m:\u001B[36m186\u001B[0m - \u001B[1mMax similarity for index 3 is the keyframe /Users/magic-rabbit/Documents/AFM/afm-vlm/data/raw/biology_chapter_3_3_treshhold_5/extracted_keyframes/biology_chapter_3_3_treshhold_5-Scene-067-01.jpg\u001B[0m\n",
      "\u001B[32m2024-07-03 19:19:43.945\u001B[0m | \u001B[1mINFO    \u001B[0m | \u001B[36msrc.text_embedder.embedder\u001B[0m:\u001B[36msearch_similar_images_top_k\u001B[0m:\u001B[36m185\u001B[0m - \u001B[1m#####GT is keyframe number 57#####\u001B[0m\n",
      "\u001B[32m2024-07-03 19:19:43.945\u001B[0m | \u001B[1mINFO    \u001B[0m | \u001B[36msrc.text_embedder.embedder\u001B[0m:\u001B[36msearch_similar_images_top_k\u001B[0m:\u001B[36m186\u001B[0m - \u001B[1mMax similarity for index 54 is the keyframe /Users/magic-rabbit/Documents/AFM/afm-vlm/data/raw/biology_chapter_3_3_treshhold_5/extracted_keyframes/biology_chapter_3_3_treshhold_5-Scene-052-01.jpg\u001B[0m\n",
      "\u001B[32m2024-07-03 19:19:43.945\u001B[0m | \u001B[1mINFO    \u001B[0m | \u001B[36m__main__\u001B[0m:\u001B[36mget_results\u001B[0m:\u001B[36m15\u001B[0m - \u001B[1mchloroplast\u001B[0m\n"
     ]
    },
    {
     "data": {
      "text/plain": [
       "Batches:   0%|          | 0/1 [00:00<?, ?it/s]"
      ],
      "application/vnd.jupyter.widget-view+json": {
       "version_major": 2,
       "version_minor": 0,
       "model_id": "f286fa9bc9ce461bab0ec6cef30f946d"
      }
     },
     "metadata": {},
     "output_type": "display_data"
    },
    {
     "name": "stderr",
     "output_type": "stream",
     "text": [
      "\u001B[32m2024-07-03 19:19:44.005\u001B[0m | \u001B[1mINFO    \u001B[0m | \u001B[36msrc.text_embedder.embedder\u001B[0m:\u001B[36msearch_similar_images_top_k\u001B[0m:\u001B[36m167\u001B[0m - \u001B[1mQuery text embedding shape: torch.Size([384])\u001B[0m\n",
      "\u001B[32m2024-07-03 19:19:44.009\u001B[0m | \u001B[1mINFO    \u001B[0m | \u001B[36msrc.text_embedder.embedder\u001B[0m:\u001B[36msearch_similar_images_top_k\u001B[0m:\u001B[36m168\u001B[0m - \u001B[1mText embeddings shape: torch.Size([86, 384])\u001B[0m\n",
      "\u001B[32m2024-07-03 19:19:44.009\u001B[0m | \u001B[1mINFO    \u001B[0m | \u001B[36msrc.text_embedder.embedder\u001B[0m:\u001B[36msearch_similar_images_top_k\u001B[0m:\u001B[36m175\u001B[0m - \u001B[1mTop 3 Similarity scores: torch.return_types.topk(\n",
      "values=tensor([0.5291, 0.4031, 0.3296]),\n",
      "indices=tensor([65, 15, 73])) - GT is keyframe number 62\u001B[0m\n",
      "\u001B[32m2024-07-03 19:19:44.009\u001B[0m | \u001B[1mINFO    \u001B[0m | \u001B[36msrc.text_embedder.embedder\u001B[0m:\u001B[36msearch_similar_images_top_k\u001B[0m:\u001B[36m177\u001B[0m - \u001B[1mLength of img paths: 86\u001B[0m\n",
      "\u001B[32m2024-07-03 19:19:44.015\u001B[0m | \u001B[1mINFO    \u001B[0m | \u001B[36msrc.text_embedder.embedder\u001B[0m:\u001B[36msearch_similar_images_top_k\u001B[0m:\u001B[36m185\u001B[0m - \u001B[1m#####GT is keyframe number 62#####\u001B[0m\n",
      "\u001B[32m2024-07-03 19:19:44.016\u001B[0m | \u001B[1mINFO    \u001B[0m | \u001B[36msrc.text_embedder.embedder\u001B[0m:\u001B[36msearch_similar_images_top_k\u001B[0m:\u001B[36m186\u001B[0m - \u001B[1mMax similarity for index 65 is the keyframe /Users/magic-rabbit/Documents/AFM/afm-vlm/data/raw/biology_chapter_3_3_treshhold_5/extracted_keyframes/biology_chapter_3_3_treshhold_5-Scene-060-01.jpg\u001B[0m\n",
      "\u001B[32m2024-07-03 19:19:44.016\u001B[0m | \u001B[1mINFO    \u001B[0m | \u001B[36msrc.text_embedder.embedder\u001B[0m:\u001B[36msearch_similar_images_top_k\u001B[0m:\u001B[36m185\u001B[0m - \u001B[1m#####GT is keyframe number 62#####\u001B[0m\n",
      "\u001B[32m2024-07-03 19:19:44.016\u001B[0m | \u001B[1mINFO    \u001B[0m | \u001B[36msrc.text_embedder.embedder\u001B[0m:\u001B[36msearch_similar_images_top_k\u001B[0m:\u001B[36m186\u001B[0m - \u001B[1mMax similarity for index 15 is the keyframe /Users/magic-rabbit/Documents/AFM/afm-vlm/data/raw/biology_chapter_3_3_treshhold_5/extracted_keyframes/biology_chapter_3_3_treshhold_5-Scene-065-01.jpg\u001B[0m\n",
      "\u001B[32m2024-07-03 19:19:44.016\u001B[0m | \u001B[1mINFO    \u001B[0m | \u001B[36msrc.text_embedder.embedder\u001B[0m:\u001B[36msearch_similar_images_top_k\u001B[0m:\u001B[36m185\u001B[0m - \u001B[1m#####GT is keyframe number 62#####\u001B[0m\n",
      "\u001B[32m2024-07-03 19:19:44.016\u001B[0m | \u001B[1mINFO    \u001B[0m | \u001B[36msrc.text_embedder.embedder\u001B[0m:\u001B[36msearch_similar_images_top_k\u001B[0m:\u001B[36m186\u001B[0m - \u001B[1mMax similarity for index 73 is the keyframe /Users/magic-rabbit/Documents/AFM/afm-vlm/data/raw/biology_chapter_3_3_treshhold_5/extracted_keyframes/biology_chapter_3_3_treshhold_5-Scene-056-01.jpg\u001B[0m\n",
      "\u001B[32m2024-07-03 19:19:44.025\u001B[0m | \u001B[1mINFO    \u001B[0m | \u001B[36m__main__\u001B[0m:\u001B[36mget_results\u001B[0m:\u001B[36m15\u001B[0m - \u001B[1mexplain subcellular structures such as the structures to recycle molecules in the digestive tract\u001B[0m\n"
     ]
    },
    {
     "data": {
      "text/plain": [
       "Batches:   0%|          | 0/1 [00:00<?, ?it/s]"
      ],
      "application/vnd.jupyter.widget-view+json": {
       "version_major": 2,
       "version_minor": 0,
       "model_id": "029809327925476aa4b1f80759de1984"
      }
     },
     "metadata": {},
     "output_type": "display_data"
    },
    {
     "name": "stderr",
     "output_type": "stream",
     "text": [
      "\u001B[32m2024-07-03 19:19:44.088\u001B[0m | \u001B[1mINFO    \u001B[0m | \u001B[36msrc.text_embedder.embedder\u001B[0m:\u001B[36msearch_similar_images_top_k\u001B[0m:\u001B[36m167\u001B[0m - \u001B[1mQuery text embedding shape: torch.Size([384])\u001B[0m\n",
      "\u001B[32m2024-07-03 19:19:44.088\u001B[0m | \u001B[1mINFO    \u001B[0m | \u001B[36msrc.text_embedder.embedder\u001B[0m:\u001B[36msearch_similar_images_top_k\u001B[0m:\u001B[36m168\u001B[0m - \u001B[1mText embeddings shape: torch.Size([86, 384])\u001B[0m\n",
      "\u001B[32m2024-07-03 19:19:44.088\u001B[0m | \u001B[1mINFO    \u001B[0m | \u001B[36msrc.text_embedder.embedder\u001B[0m:\u001B[36msearch_similar_images_top_k\u001B[0m:\u001B[36m175\u001B[0m - \u001B[1mTop 3 Similarity scores: torch.return_types.topk(\n",
      "values=tensor([0.5465, 0.5393, 0.5305]),\n",
      "indices=tensor([62, 80, 84])) - GT is keyframe number 62\u001B[0m\n",
      "\u001B[32m2024-07-03 19:19:44.095\u001B[0m | \u001B[1mINFO    \u001B[0m | \u001B[36msrc.text_embedder.embedder\u001B[0m:\u001B[36msearch_similar_images_top_k\u001B[0m:\u001B[36m177\u001B[0m - \u001B[1mLength of img paths: 86\u001B[0m\n",
      "\u001B[32m2024-07-03 19:19:44.095\u001B[0m | \u001B[1mINFO    \u001B[0m | \u001B[36msrc.text_embedder.embedder\u001B[0m:\u001B[36msearch_similar_images_top_k\u001B[0m:\u001B[36m185\u001B[0m - \u001B[1m#####GT is keyframe number 62#####\u001B[0m\n",
      "\u001B[32m2024-07-03 19:19:44.095\u001B[0m | \u001B[1mINFO    \u001B[0m | \u001B[36msrc.text_embedder.embedder\u001B[0m:\u001B[36msearch_similar_images_top_k\u001B[0m:\u001B[36m186\u001B[0m - \u001B[1mMax similarity for index 62 is the keyframe /Users/magic-rabbit/Documents/AFM/afm-vlm/data/raw/biology_chapter_3_3_treshhold_5/extracted_keyframes/biology_chapter_3_3_treshhold_5-Scene-064-01.jpg\u001B[0m\n",
      "\u001B[32m2024-07-03 19:19:44.095\u001B[0m | \u001B[1mINFO    \u001B[0m | \u001B[36msrc.text_embedder.embedder\u001B[0m:\u001B[36msearch_similar_images_top_k\u001B[0m:\u001B[36m185\u001B[0m - \u001B[1m#####GT is keyframe number 62#####\u001B[0m\n",
      "\u001B[32m2024-07-03 19:19:44.095\u001B[0m | \u001B[1mINFO    \u001B[0m | \u001B[36msrc.text_embedder.embedder\u001B[0m:\u001B[36msearch_similar_images_top_k\u001B[0m:\u001B[36m186\u001B[0m - \u001B[1mMax similarity for index 80 is the keyframe /Users/magic-rabbit/Documents/AFM/afm-vlm/data/raw/biology_chapter_3_3_treshhold_5/extracted_keyframes/biology_chapter_3_3_treshhold_5-Scene-054-01.jpg\u001B[0m\n",
      "\u001B[32m2024-07-03 19:19:44.103\u001B[0m | \u001B[1mINFO    \u001B[0m | \u001B[36msrc.text_embedder.embedder\u001B[0m:\u001B[36msearch_similar_images_top_k\u001B[0m:\u001B[36m185\u001B[0m - \u001B[1m#####GT is keyframe number 62#####\u001B[0m\n",
      "\u001B[32m2024-07-03 19:19:44.103\u001B[0m | \u001B[1mINFO    \u001B[0m | \u001B[36msrc.text_embedder.embedder\u001B[0m:\u001B[36msearch_similar_images_top_k\u001B[0m:\u001B[36m186\u001B[0m - \u001B[1mMax similarity for index 84 is the keyframe /Users/magic-rabbit/Documents/AFM/afm-vlm/data/raw/biology_chapter_3_3_treshhold_5/extracted_keyframes/biology_chapter_3_3_treshhold_5-Scene-058-01.jpg\u001B[0m\n",
      "\u001B[32m2024-07-03 19:19:44.105\u001B[0m | \u001B[1mINFO    \u001B[0m | \u001B[36m__main__\u001B[0m:\u001B[36mget_results\u001B[0m:\u001B[36m15\u001B[0m - \u001B[1mcentrioles\u001B[0m\n"
     ]
    },
    {
     "data": {
      "text/plain": [
       "Batches:   0%|          | 0/1 [00:00<?, ?it/s]"
      ],
      "application/vnd.jupyter.widget-view+json": {
       "version_major": 2,
       "version_minor": 0,
       "model_id": "dac52eee3687465d8d60e6f8eaa08bca"
      }
     },
     "metadata": {},
     "output_type": "display_data"
    },
    {
     "name": "stderr",
     "output_type": "stream",
     "text": [
      "\u001B[32m2024-07-03 19:19:44.167\u001B[0m | \u001B[1mINFO    \u001B[0m | \u001B[36msrc.text_embedder.embedder\u001B[0m:\u001B[36msearch_similar_images_top_k\u001B[0m:\u001B[36m167\u001B[0m - \u001B[1mQuery text embedding shape: torch.Size([384])\u001B[0m\n",
      "\u001B[32m2024-07-03 19:19:44.167\u001B[0m | \u001B[1mINFO    \u001B[0m | \u001B[36msrc.text_embedder.embedder\u001B[0m:\u001B[36msearch_similar_images_top_k\u001B[0m:\u001B[36m168\u001B[0m - \u001B[1mText embeddings shape: torch.Size([86, 384])\u001B[0m\n",
      "\u001B[32m2024-07-03 19:19:44.167\u001B[0m | \u001B[1mINFO    \u001B[0m | \u001B[36msrc.text_embedder.embedder\u001B[0m:\u001B[36msearch_similar_images_top_k\u001B[0m:\u001B[36m175\u001B[0m - \u001B[1mTop 3 Similarity scores: torch.return_types.topk(\n",
      "values=tensor([0.6066, 0.4000, 0.3435]),\n",
      "indices=tensor([62, 65, 73])) - GT is keyframe number 64\u001B[0m\n",
      "\u001B[32m2024-07-03 19:19:44.167\u001B[0m | \u001B[1mINFO    \u001B[0m | \u001B[36msrc.text_embedder.embedder\u001B[0m:\u001B[36msearch_similar_images_top_k\u001B[0m:\u001B[36m177\u001B[0m - \u001B[1mLength of img paths: 86\u001B[0m\n",
      "\u001B[32m2024-07-03 19:19:44.167\u001B[0m | \u001B[1mINFO    \u001B[0m | \u001B[36msrc.text_embedder.embedder\u001B[0m:\u001B[36msearch_similar_images_top_k\u001B[0m:\u001B[36m185\u001B[0m - \u001B[1m#####GT is keyframe number 64#####\u001B[0m\n",
      "\u001B[32m2024-07-03 19:19:44.175\u001B[0m | \u001B[1mINFO    \u001B[0m | \u001B[36msrc.text_embedder.embedder\u001B[0m:\u001B[36msearch_similar_images_top_k\u001B[0m:\u001B[36m186\u001B[0m - \u001B[1mMax similarity for index 62 is the keyframe /Users/magic-rabbit/Documents/AFM/afm-vlm/data/raw/biology_chapter_3_3_treshhold_5/extracted_keyframes/biology_chapter_3_3_treshhold_5-Scene-064-01.jpg\u001B[0m\n",
      "\u001B[32m2024-07-03 19:19:44.175\u001B[0m | \u001B[1mINFO    \u001B[0m | \u001B[36msrc.text_embedder.embedder\u001B[0m:\u001B[36msearch_similar_images_top_k\u001B[0m:\u001B[36m185\u001B[0m - \u001B[1m#####GT is keyframe number 64#####\u001B[0m\n",
      "\u001B[32m2024-07-03 19:19:44.178\u001B[0m | \u001B[1mINFO    \u001B[0m | \u001B[36msrc.text_embedder.embedder\u001B[0m:\u001B[36msearch_similar_images_top_k\u001B[0m:\u001B[36m186\u001B[0m - \u001B[1mMax similarity for index 65 is the keyframe /Users/magic-rabbit/Documents/AFM/afm-vlm/data/raw/biology_chapter_3_3_treshhold_5/extracted_keyframes/biology_chapter_3_3_treshhold_5-Scene-060-01.jpg\u001B[0m\n",
      "\u001B[32m2024-07-03 19:19:44.178\u001B[0m | \u001B[1mINFO    \u001B[0m | \u001B[36msrc.text_embedder.embedder\u001B[0m:\u001B[36msearch_similar_images_top_k\u001B[0m:\u001B[36m185\u001B[0m - \u001B[1m#####GT is keyframe number 64#####\u001B[0m\n",
      "\u001B[32m2024-07-03 19:19:44.178\u001B[0m | \u001B[1mINFO    \u001B[0m | \u001B[36msrc.text_embedder.embedder\u001B[0m:\u001B[36msearch_similar_images_top_k\u001B[0m:\u001B[36m186\u001B[0m - \u001B[1mMax similarity for index 73 is the keyframe /Users/magic-rabbit/Documents/AFM/afm-vlm/data/raw/biology_chapter_3_3_treshhold_5/extracted_keyframes/biology_chapter_3_3_treshhold_5-Scene-056-01.jpg\u001B[0m\n",
      "\u001B[32m2024-07-03 19:19:44.185\u001B[0m | \u001B[1mINFO    \u001B[0m | \u001B[36m__main__\u001B[0m:\u001B[36mget_results\u001B[0m:\u001B[36m15\u001B[0m - \u001B[1mrole of centrioles for cell division\u001B[0m\n"
     ]
    },
    {
     "data": {
      "text/plain": [
       "Batches:   0%|          | 0/1 [00:00<?, ?it/s]"
      ],
      "application/vnd.jupyter.widget-view+json": {
       "version_major": 2,
       "version_minor": 0,
       "model_id": "4ca4f770b4a54c4abc1b8eb67c02b90f"
      }
     },
     "metadata": {},
     "output_type": "display_data"
    },
    {
     "name": "stderr",
     "output_type": "stream",
     "text": [
      "\u001B[32m2024-07-03 19:19:44.249\u001B[0m | \u001B[1mINFO    \u001B[0m | \u001B[36msrc.text_embedder.embedder\u001B[0m:\u001B[36msearch_similar_images_top_k\u001B[0m:\u001B[36m167\u001B[0m - \u001B[1mQuery text embedding shape: torch.Size([384])\u001B[0m\n",
      "\u001B[32m2024-07-03 19:19:44.251\u001B[0m | \u001B[1mINFO    \u001B[0m | \u001B[36msrc.text_embedder.embedder\u001B[0m:\u001B[36msearch_similar_images_top_k\u001B[0m:\u001B[36m168\u001B[0m - \u001B[1mText embeddings shape: torch.Size([86, 384])\u001B[0m\n",
      "\u001B[32m2024-07-03 19:19:44.251\u001B[0m | \u001B[1mINFO    \u001B[0m | \u001B[36msrc.text_embedder.embedder\u001B[0m:\u001B[36msearch_similar_images_top_k\u001B[0m:\u001B[36m175\u001B[0m - \u001B[1mTop 3 Similarity scores: torch.return_types.topk(\n",
      "values=tensor([0.7144, 0.5399, 0.5289]),\n",
      "indices=tensor([62, 65, 54])) - GT is keyframe number 64\u001B[0m\n",
      "\u001B[32m2024-07-03 19:19:44.255\u001B[0m | \u001B[1mINFO    \u001B[0m | \u001B[36msrc.text_embedder.embedder\u001B[0m:\u001B[36msearch_similar_images_top_k\u001B[0m:\u001B[36m177\u001B[0m - \u001B[1mLength of img paths: 86\u001B[0m\n",
      "\u001B[32m2024-07-03 19:19:44.255\u001B[0m | \u001B[1mINFO    \u001B[0m | \u001B[36msrc.text_embedder.embedder\u001B[0m:\u001B[36msearch_similar_images_top_k\u001B[0m:\u001B[36m185\u001B[0m - \u001B[1m#####GT is keyframe number 64#####\u001B[0m\n",
      "\u001B[32m2024-07-03 19:19:44.255\u001B[0m | \u001B[1mINFO    \u001B[0m | \u001B[36msrc.text_embedder.embedder\u001B[0m:\u001B[36msearch_similar_images_top_k\u001B[0m:\u001B[36m186\u001B[0m - \u001B[1mMax similarity for index 62 is the keyframe /Users/magic-rabbit/Documents/AFM/afm-vlm/data/raw/biology_chapter_3_3_treshhold_5/extracted_keyframes/biology_chapter_3_3_treshhold_5-Scene-064-01.jpg\u001B[0m\n",
      "\u001B[32m2024-07-03 19:19:44.255\u001B[0m | \u001B[1mINFO    \u001B[0m | \u001B[36msrc.text_embedder.embedder\u001B[0m:\u001B[36msearch_similar_images_top_k\u001B[0m:\u001B[36m185\u001B[0m - \u001B[1m#####GT is keyframe number 64#####\u001B[0m\n",
      "\u001B[32m2024-07-03 19:19:44.259\u001B[0m | \u001B[1mINFO    \u001B[0m | \u001B[36msrc.text_embedder.embedder\u001B[0m:\u001B[36msearch_similar_images_top_k\u001B[0m:\u001B[36m186\u001B[0m - \u001B[1mMax similarity for index 65 is the keyframe /Users/magic-rabbit/Documents/AFM/afm-vlm/data/raw/biology_chapter_3_3_treshhold_5/extracted_keyframes/biology_chapter_3_3_treshhold_5-Scene-060-01.jpg\u001B[0m\n",
      "\u001B[32m2024-07-03 19:19:44.259\u001B[0m | \u001B[1mINFO    \u001B[0m | \u001B[36msrc.text_embedder.embedder\u001B[0m:\u001B[36msearch_similar_images_top_k\u001B[0m:\u001B[36m185\u001B[0m - \u001B[1m#####GT is keyframe number 64#####\u001B[0m\n",
      "\u001B[32m2024-07-03 19:19:44.259\u001B[0m | \u001B[1mINFO    \u001B[0m | \u001B[36msrc.text_embedder.embedder\u001B[0m:\u001B[36msearch_similar_images_top_k\u001B[0m:\u001B[36m186\u001B[0m - \u001B[1mMax similarity for index 54 is the keyframe /Users/magic-rabbit/Documents/AFM/afm-vlm/data/raw/biology_chapter_3_3_treshhold_5/extracted_keyframes/biology_chapter_3_3_treshhold_5-Scene-052-01.jpg\u001B[0m\n",
      "\u001B[32m2024-07-03 19:19:44.265\u001B[0m | \u001B[1mINFO    \u001B[0m | \u001B[36m__main__\u001B[0m:\u001B[36mget_results\u001B[0m:\u001B[36m15\u001B[0m - \u001B[1mtransport across membranes\u001B[0m\n"
     ]
    },
    {
     "data": {
      "text/plain": [
       "Batches:   0%|          | 0/1 [00:00<?, ?it/s]"
      ],
      "application/vnd.jupyter.widget-view+json": {
       "version_major": 2,
       "version_minor": 0,
       "model_id": "0ca72bd60d714822808b9f7531f969f2"
      }
     },
     "metadata": {},
     "output_type": "display_data"
    },
    {
     "name": "stderr",
     "output_type": "stream",
     "text": [
      "\u001B[32m2024-07-03 19:19:44.328\u001B[0m | \u001B[1mINFO    \u001B[0m | \u001B[36msrc.text_embedder.embedder\u001B[0m:\u001B[36msearch_similar_images_top_k\u001B[0m:\u001B[36m167\u001B[0m - \u001B[1mQuery text embedding shape: torch.Size([384])\u001B[0m\n",
      "\u001B[32m2024-07-03 19:19:44.328\u001B[0m | \u001B[1mINFO    \u001B[0m | \u001B[36msrc.text_embedder.embedder\u001B[0m:\u001B[36msearch_similar_images_top_k\u001B[0m:\u001B[36m168\u001B[0m - \u001B[1mText embeddings shape: torch.Size([86, 384])\u001B[0m\n",
      "\u001B[32m2024-07-03 19:19:44.335\u001B[0m | \u001B[1mINFO    \u001B[0m | \u001B[36msrc.text_embedder.embedder\u001B[0m:\u001B[36msearch_similar_images_top_k\u001B[0m:\u001B[36m175\u001B[0m - \u001B[1mTop 3 Similarity scores: torch.return_types.topk(\n",
      "values=tensor([0.7695, 0.7606, 0.7530]),\n",
      "indices=tensor([49, 18, 58])) - GT is keyframe number 70\u001B[0m\n",
      "\u001B[32m2024-07-03 19:19:44.335\u001B[0m | \u001B[1mINFO    \u001B[0m | \u001B[36msrc.text_embedder.embedder\u001B[0m:\u001B[36msearch_similar_images_top_k\u001B[0m:\u001B[36m177\u001B[0m - \u001B[1mLength of img paths: 86\u001B[0m\n",
      "\u001B[32m2024-07-03 19:19:44.335\u001B[0m | \u001B[1mINFO    \u001B[0m | \u001B[36msrc.text_embedder.embedder\u001B[0m:\u001B[36msearch_similar_images_top_k\u001B[0m:\u001B[36m185\u001B[0m - \u001B[1m#####GT is keyframe number 70#####\u001B[0m\n",
      "\u001B[32m2024-07-03 19:19:44.335\u001B[0m | \u001B[1mINFO    \u001B[0m | \u001B[36msrc.text_embedder.embedder\u001B[0m:\u001B[36msearch_similar_images_top_k\u001B[0m:\u001B[36m186\u001B[0m - \u001B[1mMax similarity for index 49 is the keyframe /Users/magic-rabbit/Documents/AFM/afm-vlm/data/raw/biology_chapter_3_3_treshhold_5/extracted_keyframes/biology_chapter_3_3_treshhold_5-Scene-078-01.jpg\u001B[0m\n",
      "\u001B[32m2024-07-03 19:19:44.340\u001B[0m | \u001B[1mINFO    \u001B[0m | \u001B[36msrc.text_embedder.embedder\u001B[0m:\u001B[36msearch_similar_images_top_k\u001B[0m:\u001B[36m185\u001B[0m - \u001B[1m#####GT is keyframe number 70#####\u001B[0m\n",
      "\u001B[32m2024-07-03 19:19:44.340\u001B[0m | \u001B[1mINFO    \u001B[0m | \u001B[36msrc.text_embedder.embedder\u001B[0m:\u001B[36msearch_similar_images_top_k\u001B[0m:\u001B[36m186\u001B[0m - \u001B[1mMax similarity for index 18 is the keyframe /Users/magic-rabbit/Documents/AFM/afm-vlm/data/raw/biology_chapter_3_3_treshhold_5/extracted_keyframes/biology_chapter_3_3_treshhold_5-Scene-053-01.jpg\u001B[0m\n",
      "\u001B[32m2024-07-03 19:19:44.343\u001B[0m | \u001B[1mINFO    \u001B[0m | \u001B[36msrc.text_embedder.embedder\u001B[0m:\u001B[36msearch_similar_images_top_k\u001B[0m:\u001B[36m185\u001B[0m - \u001B[1m#####GT is keyframe number 70#####\u001B[0m\n",
      "\u001B[32m2024-07-03 19:19:44.343\u001B[0m | \u001B[1mINFO    \u001B[0m | \u001B[36msrc.text_embedder.embedder\u001B[0m:\u001B[36msearch_similar_images_top_k\u001B[0m:\u001B[36m186\u001B[0m - \u001B[1mMax similarity for index 58 is the keyframe /Users/magic-rabbit/Documents/AFM/afm-vlm/data/raw/biology_chapter_3_3_treshhold_5/extracted_keyframes/biology_chapter_3_3_treshhold_5-Scene-068-01.jpg\u001B[0m\n",
      "\u001B[32m2024-07-03 19:19:44.345\u001B[0m | \u001B[1mINFO    \u001B[0m | \u001B[36m__main__\u001B[0m:\u001B[36mget_results\u001B[0m:\u001B[36m15\u001B[0m - \u001B[1mpassive transport methodologies across membranes\u001B[0m\n"
     ]
    },
    {
     "data": {
      "text/plain": [
       "Batches:   0%|          | 0/1 [00:00<?, ?it/s]"
      ],
      "application/vnd.jupyter.widget-view+json": {
       "version_major": 2,
       "version_minor": 0,
       "model_id": "703b21c9c91d4f45b1c702e9b6324c68"
      }
     },
     "metadata": {},
     "output_type": "display_data"
    },
    {
     "name": "stderr",
     "output_type": "stream",
     "text": [
      "\u001B[32m2024-07-03 19:19:44.408\u001B[0m | \u001B[1mINFO    \u001B[0m | \u001B[36msrc.text_embedder.embedder\u001B[0m:\u001B[36msearch_similar_images_top_k\u001B[0m:\u001B[36m167\u001B[0m - \u001B[1mQuery text embedding shape: torch.Size([384])\u001B[0m\n",
      "\u001B[32m2024-07-03 19:19:44.408\u001B[0m | \u001B[1mINFO    \u001B[0m | \u001B[36msrc.text_embedder.embedder\u001B[0m:\u001B[36msearch_similar_images_top_k\u001B[0m:\u001B[36m168\u001B[0m - \u001B[1mText embeddings shape: torch.Size([86, 384])\u001B[0m\n",
      "\u001B[32m2024-07-03 19:19:44.408\u001B[0m | \u001B[1mINFO    \u001B[0m | \u001B[36msrc.text_embedder.embedder\u001B[0m:\u001B[36msearch_similar_images_top_k\u001B[0m:\u001B[36m175\u001B[0m - \u001B[1mTop 3 Similarity scores: torch.return_types.topk(\n",
      "values=tensor([0.7837, 0.7552, 0.7456]),\n",
      "indices=tensor([58, 67, 49])) - GT is keyframe number 70\u001B[0m\n",
      "\u001B[32m2024-07-03 19:19:44.415\u001B[0m | \u001B[1mINFO    \u001B[0m | \u001B[36msrc.text_embedder.embedder\u001B[0m:\u001B[36msearch_similar_images_top_k\u001B[0m:\u001B[36m177\u001B[0m - \u001B[1mLength of img paths: 86\u001B[0m\n",
      "\u001B[32m2024-07-03 19:19:44.417\u001B[0m | \u001B[1mINFO    \u001B[0m | \u001B[36msrc.text_embedder.embedder\u001B[0m:\u001B[36msearch_similar_images_top_k\u001B[0m:\u001B[36m185\u001B[0m - \u001B[1m#####GT is keyframe number 70#####\u001B[0m\n",
      "\u001B[32m2024-07-03 19:19:44.417\u001B[0m | \u001B[1mINFO    \u001B[0m | \u001B[36msrc.text_embedder.embedder\u001B[0m:\u001B[36msearch_similar_images_top_k\u001B[0m:\u001B[36m186\u001B[0m - \u001B[1mMax similarity for index 58 is the keyframe /Users/magic-rabbit/Documents/AFM/afm-vlm/data/raw/biology_chapter_3_3_treshhold_5/extracted_keyframes/biology_chapter_3_3_treshhold_5-Scene-068-01.jpg\u001B[0m\n",
      "\u001B[32m2024-07-03 19:19:44.417\u001B[0m | \u001B[1mINFO    \u001B[0m | \u001B[36msrc.text_embedder.embedder\u001B[0m:\u001B[36msearch_similar_images_top_k\u001B[0m:\u001B[36m185\u001B[0m - \u001B[1m#####GT is keyframe number 70#####\u001B[0m\n",
      "\u001B[32m2024-07-03 19:19:44.417\u001B[0m | \u001B[1mINFO    \u001B[0m | \u001B[36msrc.text_embedder.embedder\u001B[0m:\u001B[36msearch_similar_images_top_k\u001B[0m:\u001B[36m186\u001B[0m - \u001B[1mMax similarity for index 67 is the keyframe /Users/magic-rabbit/Documents/AFM/afm-vlm/data/raw/biology_chapter_3_3_treshhold_5/extracted_keyframes/biology_chapter_3_3_treshhold_5-Scene-072-01.jpg\u001B[0m\n",
      "\u001B[32m2024-07-03 19:19:44.417\u001B[0m | \u001B[1mINFO    \u001B[0m | \u001B[36msrc.text_embedder.embedder\u001B[0m:\u001B[36msearch_similar_images_top_k\u001B[0m:\u001B[36m185\u001B[0m - \u001B[1m#####GT is keyframe number 70#####\u001B[0m\n",
      "\u001B[32m2024-07-03 19:19:44.424\u001B[0m | \u001B[1mINFO    \u001B[0m | \u001B[36msrc.text_embedder.embedder\u001B[0m:\u001B[36msearch_similar_images_top_k\u001B[0m:\u001B[36m186\u001B[0m - \u001B[1mMax similarity for index 49 is the keyframe /Users/magic-rabbit/Documents/AFM/afm-vlm/data/raw/biology_chapter_3_3_treshhold_5/extracted_keyframes/biology_chapter_3_3_treshhold_5-Scene-078-01.jpg\u001B[0m\n",
      "\u001B[32m2024-07-03 19:19:44.425\u001B[0m | \u001B[1mINFO    \u001B[0m | \u001B[36m__main__\u001B[0m:\u001B[36mget_results\u001B[0m:\u001B[36m15\u001B[0m - \u001B[1mFDA testing\u001B[0m\n"
     ]
    },
    {
     "data": {
      "text/plain": [
       "Batches:   0%|          | 0/1 [00:00<?, ?it/s]"
      ],
      "application/vnd.jupyter.widget-view+json": {
       "version_major": 2,
       "version_minor": 0,
       "model_id": "7c5e85c4a11041948ecbfd2199888eca"
      }
     },
     "metadata": {},
     "output_type": "display_data"
    },
    {
     "name": "stderr",
     "output_type": "stream",
     "text": [
      "\u001B[32m2024-07-03 19:19:44.496\u001B[0m | \u001B[1mINFO    \u001B[0m | \u001B[36msrc.text_embedder.embedder\u001B[0m:\u001B[36msearch_similar_images_top_k\u001B[0m:\u001B[36m167\u001B[0m - \u001B[1mQuery text embedding shape: torch.Size([384])\u001B[0m\n",
      "\u001B[32m2024-07-03 19:19:44.496\u001B[0m | \u001B[1mINFO    \u001B[0m | \u001B[36msrc.text_embedder.embedder\u001B[0m:\u001B[36msearch_similar_images_top_k\u001B[0m:\u001B[36m168\u001B[0m - \u001B[1mText embeddings shape: torch.Size([86, 384])\u001B[0m\n",
      "\u001B[32m2024-07-03 19:19:44.500\u001B[0m | \u001B[1mINFO    \u001B[0m | \u001B[36msrc.text_embedder.embedder\u001B[0m:\u001B[36msearch_similar_images_top_k\u001B[0m:\u001B[36m175\u001B[0m - \u001B[1mTop 3 Similarity scores: torch.return_types.topk(\n",
      "values=tensor([0.5299, 0.3209, 0.2511]),\n",
      "indices=tensor([11, 39, 42])) - GT is keyframe number 84\u001B[0m\n",
      "\u001B[32m2024-07-03 19:19:44.500\u001B[0m | \u001B[1mINFO    \u001B[0m | \u001B[36msrc.text_embedder.embedder\u001B[0m:\u001B[36msearch_similar_images_top_k\u001B[0m:\u001B[36m177\u001B[0m - \u001B[1mLength of img paths: 86\u001B[0m\n",
      "\u001B[32m2024-07-03 19:19:44.504\u001B[0m | \u001B[1mINFO    \u001B[0m | \u001B[36msrc.text_embedder.embedder\u001B[0m:\u001B[36msearch_similar_images_top_k\u001B[0m:\u001B[36m185\u001B[0m - \u001B[1m#####GT is keyframe number 84#####\u001B[0m\n",
      "\u001B[32m2024-07-03 19:19:44.505\u001B[0m | \u001B[1mINFO    \u001B[0m | \u001B[36msrc.text_embedder.embedder\u001B[0m:\u001B[36msearch_similar_images_top_k\u001B[0m:\u001B[36m186\u001B[0m - \u001B[1mMax similarity for index 11 is the keyframe /Users/magic-rabbit/Documents/AFM/afm-vlm/data/raw/biology_chapter_3_3_treshhold_5/extracted_keyframes/biology_chapter_3_3_treshhold_5-Scene-084-01.jpg\u001B[0m\n",
      "\u001B[32m2024-07-03 19:19:44.505\u001B[0m | \u001B[1mINFO    \u001B[0m | \u001B[36msrc.text_embedder.embedder\u001B[0m:\u001B[36msearch_similar_images_top_k\u001B[0m:\u001B[36m185\u001B[0m - \u001B[1m#####GT is keyframe number 84#####\u001B[0m\n",
      "\u001B[32m2024-07-03 19:19:44.505\u001B[0m | \u001B[1mINFO    \u001B[0m | \u001B[36msrc.text_embedder.embedder\u001B[0m:\u001B[36msearch_similar_images_top_k\u001B[0m:\u001B[36m186\u001B[0m - \u001B[1mMax similarity for index 39 is the keyframe /Users/magic-rabbit/Documents/AFM/afm-vlm/data/raw/biology_chapter_3_3_treshhold_5/extracted_keyframes/biology_chapter_3_3_treshhold_5-Scene-012-01.jpg\u001B[0m\n",
      "\u001B[32m2024-07-03 19:19:44.505\u001B[0m | \u001B[1mINFO    \u001B[0m | \u001B[36msrc.text_embedder.embedder\u001B[0m:\u001B[36msearch_similar_images_top_k\u001B[0m:\u001B[36m185\u001B[0m - \u001B[1m#####GT is keyframe number 84#####\u001B[0m\n",
      "\u001B[32m2024-07-03 19:19:44.505\u001B[0m | \u001B[1mINFO    \u001B[0m | \u001B[36msrc.text_embedder.embedder\u001B[0m:\u001B[36msearch_similar_images_top_k\u001B[0m:\u001B[36m186\u001B[0m - \u001B[1mMax similarity for index 42 is the keyframe /Users/magic-rabbit/Documents/AFM/afm-vlm/data/raw/biology_chapter_3_3_treshhold_5/extracted_keyframes/biology_chapter_3_3_treshhold_5-Scene-082-01.jpg\u001B[0m\n",
      "\u001B[32m2024-07-03 19:19:44.512\u001B[0m | \u001B[1mINFO    \u001B[0m | \u001B[36m__main__\u001B[0m:\u001B[36mget_results\u001B[0m:\u001B[36m15\u001B[0m - \u001B[1mlegal requirements for health impact\u001B[0m\n"
     ]
    },
    {
     "data": {
      "text/plain": [
       "Batches:   0%|          | 0/1 [00:00<?, ?it/s]"
      ],
      "application/vnd.jupyter.widget-view+json": {
       "version_major": 2,
       "version_minor": 0,
       "model_id": "fe8cc051c5a947159328415e7d42dd7b"
      }
     },
     "metadata": {},
     "output_type": "display_data"
    },
    {
     "name": "stderr",
     "output_type": "stream",
     "text": [
      "\u001B[32m2024-07-03 19:19:44.570\u001B[0m | \u001B[1mINFO    \u001B[0m | \u001B[36msrc.text_embedder.embedder\u001B[0m:\u001B[36msearch_similar_images_top_k\u001B[0m:\u001B[36m167\u001B[0m - \u001B[1mQuery text embedding shape: torch.Size([384])\u001B[0m\n",
      "\u001B[32m2024-07-03 19:19:44.573\u001B[0m | \u001B[1mINFO    \u001B[0m | \u001B[36msrc.text_embedder.embedder\u001B[0m:\u001B[36msearch_similar_images_top_k\u001B[0m:\u001B[36m168\u001B[0m - \u001B[1mText embeddings shape: torch.Size([86, 384])\u001B[0m\n",
      "\u001B[32m2024-07-03 19:19:44.576\u001B[0m | \u001B[1mINFO    \u001B[0m | \u001B[36msrc.text_embedder.embedder\u001B[0m:\u001B[36msearch_similar_images_top_k\u001B[0m:\u001B[36m175\u001B[0m - \u001B[1mTop 3 Similarity scores: torch.return_types.topk(\n",
      "values=tensor([0.2838, 0.2779, 0.2626]),\n",
      "indices=tensor([11, 71, 38])) - GT is keyframe number 84\u001B[0m\n",
      "\u001B[32m2024-07-03 19:19:44.576\u001B[0m | \u001B[1mINFO    \u001B[0m | \u001B[36msrc.text_embedder.embedder\u001B[0m:\u001B[36msearch_similar_images_top_k\u001B[0m:\u001B[36m177\u001B[0m - \u001B[1mLength of img paths: 86\u001B[0m\n",
      "\u001B[32m2024-07-03 19:19:44.576\u001B[0m | \u001B[1mINFO    \u001B[0m | \u001B[36msrc.text_embedder.embedder\u001B[0m:\u001B[36msearch_similar_images_top_k\u001B[0m:\u001B[36m185\u001B[0m - \u001B[1m#####GT is keyframe number 84#####\u001B[0m\n",
      "\u001B[32m2024-07-03 19:19:44.576\u001B[0m | \u001B[1mINFO    \u001B[0m | \u001B[36msrc.text_embedder.embedder\u001B[0m:\u001B[36msearch_similar_images_top_k\u001B[0m:\u001B[36m186\u001B[0m - \u001B[1mMax similarity for index 11 is the keyframe /Users/magic-rabbit/Documents/AFM/afm-vlm/data/raw/biology_chapter_3_3_treshhold_5/extracted_keyframes/biology_chapter_3_3_treshhold_5-Scene-084-01.jpg\u001B[0m\n",
      "\u001B[32m2024-07-03 19:19:44.576\u001B[0m | \u001B[1mINFO    \u001B[0m | \u001B[36msrc.text_embedder.embedder\u001B[0m:\u001B[36msearch_similar_images_top_k\u001B[0m:\u001B[36m185\u001B[0m - \u001B[1m#####GT is keyframe number 84#####\u001B[0m\n",
      "\u001B[32m2024-07-03 19:19:44.576\u001B[0m | \u001B[1mINFO    \u001B[0m | \u001B[36msrc.text_embedder.embedder\u001B[0m:\u001B[36msearch_similar_images_top_k\u001B[0m:\u001B[36m186\u001B[0m - \u001B[1mMax similarity for index 71 is the keyframe /Users/magic-rabbit/Documents/AFM/afm-vlm/data/raw/biology_chapter_3_3_treshhold_5/extracted_keyframes/biology_chapter_3_3_treshhold_5-Scene-048-01.jpg\u001B[0m\n",
      "\u001B[32m2024-07-03 19:19:44.583\u001B[0m | \u001B[1mINFO    \u001B[0m | \u001B[36msrc.text_embedder.embedder\u001B[0m:\u001B[36msearch_similar_images_top_k\u001B[0m:\u001B[36m185\u001B[0m - \u001B[1m#####GT is keyframe number 84#####\u001B[0m\n",
      "\u001B[32m2024-07-03 19:19:44.585\u001B[0m | \u001B[1mINFO    \u001B[0m | \u001B[36msrc.text_embedder.embedder\u001B[0m:\u001B[36msearch_similar_images_top_k\u001B[0m:\u001B[36m186\u001B[0m - \u001B[1mMax similarity for index 38 is the keyframe /Users/magic-rabbit/Documents/AFM/afm-vlm/data/raw/biology_chapter_3_3_treshhold_5/extracted_keyframes/biology_chapter_3_3_treshhold_5-Scene-047-01.jpg\u001B[0m\n"
     ]
    },
    {
     "data": {
      "text/plain": [
       "<Figure size 800x2000 with 0 Axes>"
      ]
     },
     "metadata": {},
     "output_type": "display_data"
    }
   ],
   "execution_count": 81
  },
  {
   "metadata": {},
   "cell_type": "code",
   "outputs": [],
   "execution_count": null,
   "source": "",
   "id": "fe5c14edaf32d616"
  }
 ],
 "metadata": {
  "kernelspec": {
   "display_name": "Python 3",
   "language": "python",
   "name": "python3"
  },
  "language_info": {
   "codemirror_mode": {
    "name": "ipython",
    "version": 2
   },
   "file_extension": ".py",
   "mimetype": "text/x-python",
   "name": "python",
   "nbconvert_exporter": "python",
   "pygments_lexer": "ipython2",
   "version": "2.7.6"
  }
 },
 "nbformat": 4,
 "nbformat_minor": 5
}
