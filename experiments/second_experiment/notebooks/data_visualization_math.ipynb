{
 "cells": [
  {
   "cell_type": "code",
   "id": "initial_id",
   "metadata": {
    "collapsed": true,
    "ExecuteTime": {
     "end_time": "2024-07-11T15:31:03.798941Z",
     "start_time": "2024-07-11T15:31:03.665292Z"
    }
   },
   "source": [
    "import pandas as pd\n",
    "import matplotlib.pyplot as plt\n",
    "from pathlib import Path\n",
    "from loguru import logger\n",
    "import os"
   ],
   "outputs": [],
   "execution_count": 12
  },
  {
   "metadata": {},
   "cell_type": "markdown",
   "source": "",
   "id": "5e64ba9cd139c77c"
  },
  {
   "metadata": {},
   "cell_type": "markdown",
   "source": "# OCR Only",
   "id": "e878cdd5850af551"
  },
  {
   "metadata": {
    "ExecuteTime": {
     "end_time": "2024-07-11T15:31:04.815110Z",
     "start_time": "2024-07-11T15:31:04.773388Z"
    }
   },
   "cell_type": "code",
   "source": [
    "notebook_path = Path().resolve().parent\n",
    "print(notebook_path)\n",
    "\n",
    "# Construct the filename relative to the new path\n",
    "filename = notebook_path / \"notebooks/new_data/df_standard_ocr_only_math.csv\"\n",
    "\n",
    "# Read the CSV file\n",
    "df_standard_ocr_only = pd.read_csv(filename)\n",
    "print(df_standard_ocr_only)"
   ],
   "id": "d3c4ecf46b92093c",
   "outputs": [
    {
     "name": "stdout",
     "output_type": "stream",
     "text": [
      "C:\\Users\\baatout\\PycharmProjects\\afm-vlm\\experiments\\second_experiment\n",
      "                                               Prompt  GT_Keyframe  Top_1  \\\n",
      "0        what is a binomial probability distribution?           18     81   \n",
      "1     x is a specific number of successes in n trials           25     27   \n",
      "2                                        P(F) = 1 -p            23     60   \n",
      "3   what procedures does the binomial probability ...           29     81   \n",
      "4           What is the binomial probability formula?           58     86   \n",
      "5   What is the method 2 for finding the binomial ...           80     81   \n",
      "6   How many NFL Football games betweem 1974 and 2...           85     85   \n",
      "7            What are the key concepts of the lecture            3      2   \n",
      "8   What is the probability of failure in the twit...           46     46   \n",
      "9                 Using the given values of n x and q           65     27   \n",
      "10  probability of success remains the same in all...           22     26   \n",
      "\n",
      "    Top_2  Top_3  \n",
      "0      80     86  \n",
      "1      24     25  \n",
      "2      59     58  \n",
      "3      80     34  \n",
      "4      81     80  \n",
      "5      80     82  \n",
      "6      84     87  \n",
      "7       3      4  \n",
      "8      43     65  \n",
      "9      24     86  \n",
      "10     24     27  \n"
     ]
    }
   ],
   "execution_count": 13
  },
  {
   "metadata": {
    "ExecuteTime": {
     "end_time": "2024-07-11T15:31:11.949282Z",
     "start_time": "2024-07-11T15:31:11.936567Z"
    }
   },
   "cell_type": "code",
   "source": [
    "def calculate_and_plot_gt_keyframe_percentage(data):\n",
    "    # Convert data to a DataFrame\n",
    "    df = pd.DataFrame(data)\n",
    "    \n",
    "    # Plotting\n",
    "    plt.figure(figsize=(10, 6))\n",
    "    \n",
    "    total = len(df)\n",
    "    top_1_count = 0\n",
    "    top_2_count = 0\n",
    "    top_3_count = 0\n",
    "    \n",
    "    # Iterate through the DataFrame to count the occurrences\n",
    "    for index, row in df.iterrows():\n",
    "        if row['GT_Keyframe'] == row['Top_1']:\n",
    "            top_1_count += 1\n",
    "        elif row['GT_Keyframe'] == row['Top_2']:\n",
    "            top_2_count += 1\n",
    "        elif row['GT_Keyframe'] == row['Top_3']:\n",
    "            top_3_count += 1\n",
    "    \n",
    "    # Calculate percentages\n",
    "    top_1_percentage = (top_1_count / total) * 100\n",
    "    top_2_percentage = (top_2_count / total) * 100\n",
    "    top_3_percentage = (top_3_count / total) * 100\n",
    "    \n",
    "    # Print the results\n",
    "    print(f\"GT_Keyframe in Top 1: {top_1_percentage:.2f}%\")\n",
    "    print(f\"GT_Keyframe in Top 2: {top_2_percentage:.2f}%\")\n",
    "    print(f\"GT_Keyframe in Top 3: {top_3_percentage:.2f}%\")\n",
    "    \n",
    "    # Data for plotting\n",
    "    labels = ['Top 1', 'Top 2', 'Top 3']\n",
    "    percentages = [top_1_percentage, top_2_percentage, top_3_percentage]\n",
    "    \n",
    "    # Create the plot\n",
    "    plt.figure(figsize=(8, 5))\n",
    "    plt.bar(labels, percentages, color=['blue', 'green', 'red'])\n",
    "    plt.xlabel('Position')\n",
    "    plt.ylabel('Percentage')\n",
    "    plt.title('Percentage of GT_Keyframe in Top Positions \\n (OCR Only)')\n",
    "    plt.ylim(0, 100)\n",
    "    \n",
    "#hard coded\n",
    "img_paths = 150\n",
    "\n",
    "def check_proximity_keyframes(gt):\n",
    "    proximity_kf = []\n",
    "\n",
    "    # Define the boundaries for the image paths\n",
    "    max_index = img_paths - 1\n",
    "\n",
    "    if gt == 0:\n",
    "        logger.info(\"No proximity - Invalid GT\")\n",
    "    elif gt == 1:\n",
    "        proximity_kf.extend(range(1, 5))\n",
    "    elif gt >= max_index:\n",
    "        proximity_kf.extend(range(max_index, max_index - 5, -1))\n",
    "    else:\n",
    "        proximity_kf.extend([gt - 2, gt - 1, gt, gt + 1, gt + 2])\n",
    "\n",
    "    # Ensure all indexes are within valid range\n",
    "    proximity_kf = [i for i in proximity_kf if 0 <= i <= max_index]\n",
    "\n",
    "    return proximity_kf\n"
   ],
   "id": "b20e1dde717e4699",
   "outputs": [],
   "execution_count": 15
  },
  {
   "metadata": {
    "ExecuteTime": {
     "end_time": "2024-07-11T15:31:12.536560Z",
     "start_time": "2024-07-11T15:31:12.341721Z"
    }
   },
   "cell_type": "code",
   "source": [
    "# call\n",
    "calculate_and_plot_gt_keyframe_percentage(df_standard_ocr_only)"
   ],
   "id": "f94dd6be045f015b",
   "outputs": [
    {
     "name": "stdout",
     "output_type": "stream",
     "text": [
      "GT_Keyframe in Top 1: 18.18%\n",
      "GT_Keyframe in Top 2: 18.18%\n",
      "GT_Keyframe in Top 3: 9.09%\n"
     ]
    },
    {
     "data": {
      "text/plain": [
       "<Figure size 1000x600 with 0 Axes>"
      ]
     },
     "metadata": {},
     "output_type": "display_data"
    },
    {
     "data": {
      "text/plain": [
       "<Figure size 800x500 with 1 Axes>"
      ],
      "image/png": "[encoded data removed]"
     },
     "metadata": {},
     "output_type": "display_data"
    }
   ],
   "execution_count": 16
  },
  {
   "metadata": {
    "ExecuteTime": {
     "end_time": "2024-07-11T15:31:12.779691Z",
     "start_time": "2024-07-11T15:31:12.758548Z"
    }
   },
   "cell_type": "code",
   "source": [
    "# iterate through data frame \n",
    "df = df_standard_ocr_only\n",
    "res = []\n",
    "for _, row in df.iterrows():\n",
    "        logger.info(row['Prompt'])\n",
    "        gt_keyframe = row['GT_Keyframe']\n",
    "        prox =check_proximity_keyframes(gt_keyframe)\n",
    "        res.append(prox)\n",
    "\n",
    "prox_yes_no = []\n",
    "for i, row in df.iterrows():\n",
    "    if row['Top_1'] in res[i] or row['Top_2'] in res[i] or row['Top_3'] in res[i]: \n",
    "        prox_yes_no.append(1)\n",
    "    else: \n",
    "        prox_yes_no.append(0)"
   ],
   "id": "5838314ef42d3b1c",
   "outputs": [
    {
     "name": "stderr",
     "output_type": "stream",
     "text": [
      "\u001B[32m2024-07-11 17:31:12.758\u001B[0m | \u001B[1mINFO    \u001B[0m | \u001B[36m__main__\u001B[0m:\u001B[36m<module>\u001B[0m:\u001B[36m5\u001B[0m - \u001B[1mwhat is a binomial probability distribution?\u001B[0m\n",
      "\u001B[32m2024-07-11 17:31:12.758\u001B[0m | \u001B[1mINFO    \u001B[0m | \u001B[36m__main__\u001B[0m:\u001B[36m<module>\u001B[0m:\u001B[36m5\u001B[0m - \u001B[1mx is a specific number of successes in n trials\u001B[0m\n",
      "\u001B[32m2024-07-11 17:31:12.758\u001B[0m | \u001B[1mINFO    \u001B[0m | \u001B[36m__main__\u001B[0m:\u001B[36m<module>\u001B[0m:\u001B[36m5\u001B[0m - \u001B[1mP(F) = 1 -p \u001B[0m\n",
      "\u001B[32m2024-07-11 17:31:12.758\u001B[0m | \u001B[1mINFO    \u001B[0m | \u001B[36m__main__\u001B[0m:\u001B[36m<module>\u001B[0m:\u001B[36m5\u001B[0m - \u001B[1mwhat procedures does the binomial probability distribution results from?\u001B[0m\n",
      "\u001B[32m2024-07-11 17:31:12.758\u001B[0m | \u001B[1mINFO    \u001B[0m | \u001B[36m__main__\u001B[0m:\u001B[36m<module>\u001B[0m:\u001B[36m5\u001B[0m - \u001B[1mWhat is the binomial probability formula?\u001B[0m\n",
      "\u001B[32m2024-07-11 17:31:12.758\u001B[0m | \u001B[1mINFO    \u001B[0m | \u001B[36m__main__\u001B[0m:\u001B[36m<module>\u001B[0m:\u001B[36m5\u001B[0m - \u001B[1mWhat is the method 2 for finding the binomial probabilities?\u001B[0m\n",
      "\u001B[32m2024-07-11 17:31:12.758\u001B[0m | \u001B[1mINFO    \u001B[0m | \u001B[36m__main__\u001B[0m:\u001B[36m<module>\u001B[0m:\u001B[36m5\u001B[0m - \u001B[1mHow many NFL Football games betweem 1974 and 2011 there is?\u001B[0m\n",
      "\u001B[32m2024-07-11 17:31:12.758\u001B[0m | \u001B[1mINFO    \u001B[0m | \u001B[36m__main__\u001B[0m:\u001B[36m<module>\u001B[0m:\u001B[36m5\u001B[0m - \u001B[1mWhat are the key concepts of the lecture\u001B[0m\n",
      "\u001B[32m2024-07-11 17:31:12.758\u001B[0m | \u001B[1mINFO    \u001B[0m | \u001B[36m__main__\u001B[0m:\u001B[36m<module>\u001B[0m:\u001B[36m5\u001B[0m - \u001B[1mWhat is the probability of failure in the twitter example?\u001B[0m\n",
      "\u001B[32m2024-07-11 17:31:12.758\u001B[0m | \u001B[1mINFO    \u001B[0m | \u001B[36m__main__\u001B[0m:\u001B[36m<module>\u001B[0m:\u001B[36m5\u001B[0m - \u001B[1mUsing the given values of n x and q\u001B[0m\n",
      "\u001B[32m2024-07-11 17:31:12.774\u001B[0m | \u001B[1mINFO    \u001B[0m | \u001B[36m__main__\u001B[0m:\u001B[36m<module>\u001B[0m:\u001B[36m5\u001B[0m - \u001B[1mprobability of success remains the same in all trials\u001B[0m\n"
     ]
    }
   ],
   "execution_count": 17
  },
  {
   "metadata": {},
   "cell_type": "markdown",
   "source": "",
   "id": "a2725d115684d053"
  },
  {
   "metadata": {},
   "cell_type": "markdown",
   "source": "# OCR LAVA",
   "id": "761615c516b3463"
  },
  {
   "metadata": {
    "ExecuteTime": {
     "end_time": "2024-07-11T15:31:13.743658Z",
     "start_time": "2024-07-11T15:31:13.714621Z"
    }
   },
   "cell_type": "code",
   "source": [
    "# read data from csv file\n",
    "notebook_path = Path().resolve().parent\n",
    "print(notebook_path)\n",
    "\n",
    "# Construct the filename relative to the new path\n",
    "filename = notebook_path / \"notebooks/new_data/df_standard_ocr_lava_math.csv\"\n",
    "df_ocr_lava = pd.read_csv(filename)\n",
    "df_ocr_lava.head()"
   ],
   "id": "e8915696b5e8f18c",
   "outputs": [
    {
     "name": "stdout",
     "output_type": "stream",
     "text": [
      "C:\\Users\\baatout\\PycharmProjects\\afm-vlm\\experiments\\second_experiment\n"
     ]
    },
    {
     "data": {
      "text/plain": [
       "                                              Prompt  GT_Keyframe  Top_1  \\\n",
       "0       what is a binomial probability distribution?           18     20   \n",
       "1    x is a specific number of successes in n trials           25     27   \n",
       "2                                       P(F) = 1 -p            23     59   \n",
       "3  what procedures does the binomial probability ...           29     20   \n",
       "4          What is the binomial probability formula?           58     86   \n",
       "\n",
       "   Top_2  Top_3  \n",
       "0     22     81  \n",
       "1     24     25  \n",
       "2     26     58  \n",
       "3     21     22  \n",
       "4     60     81  "
      ],
      "text/html": [
       "<div>\n",
       "<style scoped>\n",
       "    .dataframe tbody tr th:only-of-type {\n",
       "        vertical-align: middle;\n",
       "    }\n",
       "\n",
       "    .dataframe tbody tr th {\n",
       "        vertical-align: top;\n",
       "    }\n",
       "\n",
       "    .dataframe thead th {\n",
       "        text-align: right;\n",
       "    }\n",
       "</style>\n",
       "<table border=\"1\" class=\"dataframe\">\n",
       "  <thead>\n",
       "    <tr style=\"text-align: right;\">\n",
       "      <th></th>\n",
       "      <th>Prompt</th>\n",
       "      <th>GT_Keyframe</th>\n",
       "      <th>Top_1</th>\n",
       "      <th>Top_2</th>\n",
       "      <th>Top_3</th>\n",
       "    </tr>\n",
       "  </thead>\n",
       "  <tbody>\n",
       "    <tr>\n",
       "      <th>0</th>\n",
       "      <td>what is a binomial probability distribution?</td>\n",
       "      <td>18</td>\n",
       "      <td>20</td>\n",
       "      <td>22</td>\n",
       "      <td>81</td>\n",
       "    </tr>\n",
       "    <tr>\n",
       "      <th>1</th>\n",
       "      <td>x is a specific number of successes in n trials</td>\n",
       "      <td>25</td>\n",
       "      <td>27</td>\n",
       "      <td>24</td>\n",
       "      <td>25</td>\n",
       "    </tr>\n",
       "    <tr>\n",
       "      <th>2</th>\n",
       "      <td>P(F) = 1 -p</td>\n",
       "      <td>23</td>\n",
       "      <td>59</td>\n",
       "      <td>26</td>\n",
       "      <td>58</td>\n",
       "    </tr>\n",
       "    <tr>\n",
       "      <th>3</th>\n",
       "      <td>what procedures does the binomial probability ...</td>\n",
       "      <td>29</td>\n",
       "      <td>20</td>\n",
       "      <td>21</td>\n",
       "      <td>22</td>\n",
       "    </tr>\n",
       "    <tr>\n",
       "      <th>4</th>\n",
       "      <td>What is the binomial probability formula?</td>\n",
       "      <td>58</td>\n",
       "      <td>86</td>\n",
       "      <td>60</td>\n",
       "      <td>81</td>\n",
       "    </tr>\n",
       "  </tbody>\n",
       "</table>\n",
       "</div>"
      ]
     },
     "execution_count": 18,
     "metadata": {},
     "output_type": "execute_result"
    }
   ],
   "execution_count": 18
  },
  {
   "metadata": {
    "ExecuteTime": {
     "end_time": "2024-07-11T15:31:14.118518Z",
     "start_time": "2024-07-11T15:31:14.004773Z"
    }
   },
   "cell_type": "code",
   "source": [
    "# call\n",
    "calculate_and_plot_gt_keyframe_percentage(df_ocr_lava)"
   ],
   "id": "3ab6719b348fd451",
   "outputs": [
    {
     "name": "stdout",
     "output_type": "stream",
     "text": [
      "GT_Keyframe in Top 1: 18.18%\n",
      "GT_Keyframe in Top 2: 9.09%\n",
      "GT_Keyframe in Top 3: 9.09%\n"
     ]
    },
    {
     "data": {
      "text/plain": [
       "<Figure size 1000x600 with 0 Axes>"
      ]
     },
     "metadata": {},
     "output_type": "display_data"
    },
    {
     "data": {
      "text/plain": [
       "<Figure size 800x500 with 1 Axes>"
      ],
      "image/png": "[encoded data removed]"
     },
     "metadata": {},
     "output_type": "display_data"
    }
   ],
   "execution_count": 19
  },
  {
   "metadata": {
    "ExecuteTime": {
     "end_time": "2024-07-11T15:31:14.352564Z",
     "start_time": "2024-07-11T15:31:14.324768Z"
    }
   },
   "cell_type": "code",
   "source": [
    "# iterate through data frame \n",
    "df = df_ocr_lava\n",
    "# iterate through data frame \n",
    "res = []\n",
    "for _, row in df.iterrows():\n",
    "        logger.info(row['Prompt'])\n",
    "        gt_keyframe = row['GT_Keyframe']\n",
    "        prox =check_proximity_keyframes(gt_keyframe)\n",
    "        res.append(prox)\n",
    "\n",
    "prox_yes_no = []\n",
    "for i, row in df.iterrows():\n",
    "    if row['Top_1'] in res[i] or row['Top_2'] in res[i] or row['Top_3'] in res[i]: \n",
    "        prox_yes_no.append(1)\n",
    "    else: \n",
    "        prox_yes_no.append(0)\n",
    "\n",
    "print(prox_yes_no)"
   ],
   "id": "886a4e6bb861ee38",
   "outputs": [
    {
     "name": "stderr",
     "output_type": "stream",
     "text": [
      "\u001B[32m2024-07-11 17:31:14.324\u001B[0m | \u001B[1mINFO    \u001B[0m | \u001B[36m__main__\u001B[0m:\u001B[36m<module>\u001B[0m:\u001B[36m6\u001B[0m - \u001B[1mwhat is a binomial probability distribution?\u001B[0m\n",
      "\u001B[32m2024-07-11 17:31:14.324\u001B[0m | \u001B[1mINFO    \u001B[0m | \u001B[36m__main__\u001B[0m:\u001B[36m<module>\u001B[0m:\u001B[36m6\u001B[0m - \u001B[1mx is a specific number of successes in n trials\u001B[0m\n",
      "\u001B[32m2024-07-11 17:31:14.340\u001B[0m | \u001B[1mINFO    \u001B[0m | \u001B[36m__main__\u001B[0m:\u001B[36m<module>\u001B[0m:\u001B[36m6\u001B[0m - \u001B[1mP(F) = 1 -p \u001B[0m\n",
      "\u001B[32m2024-07-11 17:31:14.341\u001B[0m | \u001B[1mINFO    \u001B[0m | \u001B[36m__main__\u001B[0m:\u001B[36m<module>\u001B[0m:\u001B[36m6\u001B[0m - \u001B[1mwhat procedures does the binomial probability distribution results from?\u001B[0m\n",
      "\u001B[32m2024-07-11 17:31:14.341\u001B[0m | \u001B[1mINFO    \u001B[0m | \u001B[36m__main__\u001B[0m:\u001B[36m<module>\u001B[0m:\u001B[36m6\u001B[0m - \u001B[1mWhat is the binomial probability formula?\u001B[0m\n",
      "\u001B[32m2024-07-11 17:31:14.341\u001B[0m | \u001B[1mINFO    \u001B[0m | \u001B[36m__main__\u001B[0m:\u001B[36m<module>\u001B[0m:\u001B[36m6\u001B[0m - \u001B[1mWhat is the method 2 for finding the binomial probabilities?\u001B[0m\n",
      "\u001B[32m2024-07-11 17:31:14.341\u001B[0m | \u001B[1mINFO    \u001B[0m | \u001B[36m__main__\u001B[0m:\u001B[36m<module>\u001B[0m:\u001B[36m6\u001B[0m - \u001B[1mHow many NFL Football games betweem 1974 and 2011 there is?\u001B[0m\n",
      "\u001B[32m2024-07-11 17:31:14.341\u001B[0m | \u001B[1mINFO    \u001B[0m | \u001B[36m__main__\u001B[0m:\u001B[36m<module>\u001B[0m:\u001B[36m6\u001B[0m - \u001B[1mWhat are the key concepts of the lecture\u001B[0m\n",
      "\u001B[32m2024-07-11 17:31:14.341\u001B[0m | \u001B[1mINFO    \u001B[0m | \u001B[36m__main__\u001B[0m:\u001B[36m<module>\u001B[0m:\u001B[36m6\u001B[0m - \u001B[1mWhat is the probability of failure in the twitter example?\u001B[0m\n",
      "\u001B[32m2024-07-11 17:31:14.341\u001B[0m | \u001B[1mINFO    \u001B[0m | \u001B[36m__main__\u001B[0m:\u001B[36m<module>\u001B[0m:\u001B[36m6\u001B[0m - \u001B[1mUsing the given values of n x and q\u001B[0m\n",
      "\u001B[32m2024-07-11 17:31:14.341\u001B[0m | \u001B[1mINFO    \u001B[0m | \u001B[36m__main__\u001B[0m:\u001B[36m<module>\u001B[0m:\u001B[36m6\u001B[0m - \u001B[1mprobability of success remains the same in all trials\u001B[0m\n"
     ]
    },
    {
     "name": "stdout",
     "output_type": "stream",
     "text": [
      "[1, 1, 1, 1, 1, 1, 1, 1, 1, 1, 1]\n"
     ]
    }
   ],
   "execution_count": 20
  },
  {
   "metadata": {},
   "cell_type": "markdown",
   "source": "",
   "id": "4e1451ddfe56c66"
  },
  {
   "metadata": {},
   "cell_type": "markdown",
   "source": "# LLM Long Summary",
   "id": "7b24d14ced6b0717"
  },
  {
   "metadata": {
    "ExecuteTime": {
     "end_time": "2024-07-11T15:31:15.287243Z",
     "start_time": "2024-07-11T15:31:15.263708Z"
    }
   },
   "cell_type": "code",
   "source": [
    "# read data from csv file\n",
    "notebook_path = Path().resolve().parent\n",
    "print(notebook_path)\n",
    "\n",
    "# Construct the filename relative to the new path\n",
    "filename = notebook_path / \"notebooks/new_data/df_standard_llm_long_summary_math.csv\"\n",
    "df_long_summary = pd.read_csv(filename)\n",
    "df_long_summary.head()"
   ],
   "id": "80db1f084d7a50c0",
   "outputs": [
    {
     "name": "stdout",
     "output_type": "stream",
     "text": [
      "C:\\Users\\baatout\\PycharmProjects\\afm-vlm\\experiments\\second_experiment\n"
     ]
    },
    {
     "data": {
      "text/plain": [
       "                                              Prompt  GT_Keyframe  Top_1  \\\n",
       "0       what is a binomial probability distribution?           18      2   \n",
       "1    x is a specific number of successes in n trials           25     24   \n",
       "2                                       P(F) = 1 -p            23     27   \n",
       "3  what procedures does the binomial probability ...           29     19   \n",
       "4          What is the binomial probability formula?           58     86   \n",
       "\n",
       "   Top_2  Top_3  \n",
       "0     34     33  \n",
       "1     26     60  \n",
       "2     25     26  \n",
       "3     34     33  \n",
       "4     60     59  "
      ],
      "text/html": [
       "<div>\n",
       "<style scoped>\n",
       "    .dataframe tbody tr th:only-of-type {\n",
       "        vertical-align: middle;\n",
       "    }\n",
       "\n",
       "    .dataframe tbody tr th {\n",
       "        vertical-align: top;\n",
       "    }\n",
       "\n",
       "    .dataframe thead th {\n",
       "        text-align: right;\n",
       "    }\n",
       "</style>\n",
       "<table border=\"1\" class=\"dataframe\">\n",
       "  <thead>\n",
       "    <tr style=\"text-align: right;\">\n",
       "      <th></th>\n",
       "      <th>Prompt</th>\n",
       "      <th>GT_Keyframe</th>\n",
       "      <th>Top_1</th>\n",
       "      <th>Top_2</th>\n",
       "      <th>Top_3</th>\n",
       "    </tr>\n",
       "  </thead>\n",
       "  <tbody>\n",
       "    <tr>\n",
       "      <th>0</th>\n",
       "      <td>what is a binomial probability distribution?</td>\n",
       "      <td>18</td>\n",
       "      <td>2</td>\n",
       "      <td>34</td>\n",
       "      <td>33</td>\n",
       "    </tr>\n",
       "    <tr>\n",
       "      <th>1</th>\n",
       "      <td>x is a specific number of successes in n trials</td>\n",
       "      <td>25</td>\n",
       "      <td>24</td>\n",
       "      <td>26</td>\n",
       "      <td>60</td>\n",
       "    </tr>\n",
       "    <tr>\n",
       "      <th>2</th>\n",
       "      <td>P(F) = 1 -p</td>\n",
       "      <td>23</td>\n",
       "      <td>27</td>\n",
       "      <td>25</td>\n",
       "      <td>26</td>\n",
       "    </tr>\n",
       "    <tr>\n",
       "      <th>3</th>\n",
       "      <td>what procedures does the binomial probability ...</td>\n",
       "      <td>29</td>\n",
       "      <td>19</td>\n",
       "      <td>34</td>\n",
       "      <td>33</td>\n",
       "    </tr>\n",
       "    <tr>\n",
       "      <th>4</th>\n",
       "      <td>What is the binomial probability formula?</td>\n",
       "      <td>58</td>\n",
       "      <td>86</td>\n",
       "      <td>60</td>\n",
       "      <td>59</td>\n",
       "    </tr>\n",
       "  </tbody>\n",
       "</table>\n",
       "</div>"
      ]
     },
     "execution_count": 21,
     "metadata": {},
     "output_type": "execute_result"
    }
   ],
   "execution_count": 21
  },
  {
   "metadata": {
    "ExecuteTime": {
     "end_time": "2024-07-11T15:31:15.704040Z",
     "start_time": "2024-07-11T15:31:15.585763Z"
    }
   },
   "cell_type": "code",
   "source": [
    "# call\n",
    "calculate_and_plot_gt_keyframe_percentage(df_long_summary)"
   ],
   "id": "6efa71b20ff7e470",
   "outputs": [
    {
     "name": "stdout",
     "output_type": "stream",
     "text": [
      "GT_Keyframe in Top 1: 18.18%\n",
      "GT_Keyframe in Top 2: 9.09%\n",
      "GT_Keyframe in Top 3: 0.00%\n"
     ]
    },
    {
     "data": {
      "text/plain": [
       "<Figure size 1000x600 with 0 Axes>"
      ]
     },
     "metadata": {},
     "output_type": "display_data"
    },
    {
     "data": {
      "text/plain": [
       "<Figure size 800x500 with 1 Axes>"
      ],
      "image/png": "[encoded data removed]"
     },
     "metadata": {},
     "output_type": "display_data"
    }
   ],
   "execution_count": 22
  },
  {
   "metadata": {
    "ExecuteTime": {
     "end_time": "2024-07-11T15:31:15.945520Z",
     "start_time": "2024-07-11T15:31:15.931927Z"
    }
   },
   "cell_type": "code",
   "source": [
    "# iterate through data frame \n",
    "df = df_long_summary\n",
    "res = []\n",
    "for _, row in df.iterrows():\n",
    "        logger.info(row['Prompt'])\n",
    "        gt_keyframe = row['GT_Keyframe']\n",
    "        prox =check_proximity_keyframes(gt_keyframe)\n",
    "        res.append(prox)\n",
    "\n",
    "prox_yes_no = []\n",
    "for i, row in df.iterrows():\n",
    "    if row['Top_1'] in res[i] or row['Top_2'] in res[i] or row['Top_3'] in res[i]: \n",
    "        prox_yes_no.append(1)\n",
    "    else: \n",
    "        prox_yes_no.append(0)\n",
    "\n",
    "print(prox_yes_no)"
   ],
   "id": "d6019c25594cf5d2",
   "outputs": [
    {
     "name": "stderr",
     "output_type": "stream",
     "text": [
      "\u001B[32m2024-07-11 17:31:15.931\u001B[0m | \u001B[1mINFO    \u001B[0m | \u001B[36m__main__\u001B[0m:\u001B[36m<module>\u001B[0m:\u001B[36m5\u001B[0m - \u001B[1mwhat is a binomial probability distribution?\u001B[0m\n",
      "\u001B[32m2024-07-11 17:31:15.931\u001B[0m | \u001B[1mINFO    \u001B[0m | \u001B[36m__main__\u001B[0m:\u001B[36m<module>\u001B[0m:\u001B[36m5\u001B[0m - \u001B[1mx is a specific number of successes in n trials\u001B[0m\n",
      "\u001B[32m2024-07-11 17:31:15.931\u001B[0m | \u001B[1mINFO    \u001B[0m | \u001B[36m__main__\u001B[0m:\u001B[36m<module>\u001B[0m:\u001B[36m5\u001B[0m - \u001B[1mP(F) = 1 -p \u001B[0m\n",
      "\u001B[32m2024-07-11 17:31:15.931\u001B[0m | \u001B[1mINFO    \u001B[0m | \u001B[36m__main__\u001B[0m:\u001B[36m<module>\u001B[0m:\u001B[36m5\u001B[0m - \u001B[1mwhat procedures does the binomial probability distribution results from?\u001B[0m\n",
      "\u001B[32m2024-07-11 17:31:15.931\u001B[0m | \u001B[1mINFO    \u001B[0m | \u001B[36m__main__\u001B[0m:\u001B[36m<module>\u001B[0m:\u001B[36m5\u001B[0m - \u001B[1mWhat is the binomial probability formula?\u001B[0m\n",
      "\u001B[32m2024-07-11 17:31:15.931\u001B[0m | \u001B[1mINFO    \u001B[0m | \u001B[36m__main__\u001B[0m:\u001B[36m<module>\u001B[0m:\u001B[36m5\u001B[0m - \u001B[1mWhat is the method 2 for finding the binomial probabilities?\u001B[0m\n",
      "\u001B[32m2024-07-11 17:31:15.931\u001B[0m | \u001B[1mINFO    \u001B[0m | \u001B[36m__main__\u001B[0m:\u001B[36m<module>\u001B[0m:\u001B[36m5\u001B[0m - \u001B[1mHow many NFL Football games betweem 1974 and 2011 there is?\u001B[0m\n",
      "\u001B[32m2024-07-11 17:31:15.931\u001B[0m | \u001B[1mINFO    \u001B[0m | \u001B[36m__main__\u001B[0m:\u001B[36m<module>\u001B[0m:\u001B[36m5\u001B[0m - \u001B[1mWhat are the key concepts of the lecture\u001B[0m\n",
      "\u001B[32m2024-07-11 17:31:15.931\u001B[0m | \u001B[1mINFO    \u001B[0m | \u001B[36m__main__\u001B[0m:\u001B[36m<module>\u001B[0m:\u001B[36m5\u001B[0m - \u001B[1mWhat is the probability of failure in the twitter example?\u001B[0m\n",
      "\u001B[32m2024-07-11 17:31:15.941\u001B[0m | \u001B[1mINFO    \u001B[0m | \u001B[36m__main__\u001B[0m:\u001B[36m<module>\u001B[0m:\u001B[36m5\u001B[0m - \u001B[1mUsing the given values of n x and q\u001B[0m\n",
      "\u001B[32m2024-07-11 17:31:15.941\u001B[0m | \u001B[1mINFO    \u001B[0m | \u001B[36m__main__\u001B[0m:\u001B[36m<module>\u001B[0m:\u001B[36m5\u001B[0m - \u001B[1mprobability of success remains the same in all trials\u001B[0m\n"
     ]
    },
    {
     "name": "stdout",
     "output_type": "stream",
     "text": [
      "[1, 1, 1, 1, 1, 1, 1, 1, 1, 1, 1]\n"
     ]
    }
   ],
   "execution_count": 23
  },
  {
   "metadata": {},
   "cell_type": "markdown",
   "source": "",
   "id": "15dd2fbc69921133"
  },
  {
   "metadata": {},
   "cell_type": "markdown",
   "source": "# OCR TRANSCRIPTIONS ",
   "id": "e93e5e5fc5c70dfc"
  },
  {
   "metadata": {
    "ExecuteTime": {
     "end_time": "2024-07-11T15:31:16.993625Z",
     "start_time": "2024-07-11T15:31:16.979439Z"
    }
   },
   "cell_type": "code",
   "source": [
    "filename = notebook_path / \"notebooks/new_data/df_standard_df_ocr_transcriptions_math.csv\"\n",
    "\n",
    "df_ocr_transcriptions = pd.read_csv(filename)\n",
    "df_ocr_transcriptions.head()"
   ],
   "id": "ea27443f9c013f6e",
   "outputs": [
    {
     "data": {
      "text/plain": [
       "                                              Prompt  GT_Keyframe  Top_1  \\\n",
       "0       what is a binomial probability distribution?           18     80   \n",
       "1    x is a specific number of successes in n trials           25     24   \n",
       "2                                       P(F) = 1 -p            23     26   \n",
       "3  what procedures does the binomial probability ...           29     80   \n",
       "4          What is the binomial probability formula?           58     86   \n",
       "\n",
       "   Top_2  Top_3  \n",
       "0     81     86  \n",
       "1     27     25  \n",
       "2     25     75  \n",
       "3     20     18  \n",
       "4     80     81  "
      ],
      "text/html": [
       "<div>\n",
       "<style scoped>\n",
       "    .dataframe tbody tr th:only-of-type {\n",
       "        vertical-align: middle;\n",
       "    }\n",
       "\n",
       "    .dataframe tbody tr th {\n",
       "        vertical-align: top;\n",
       "    }\n",
       "\n",
       "    .dataframe thead th {\n",
       "        text-align: right;\n",
       "    }\n",
       "</style>\n",
       "<table border=\"1\" class=\"dataframe\">\n",
       "  <thead>\n",
       "    <tr style=\"text-align: right;\">\n",
       "      <th></th>\n",
       "      <th>Prompt</th>\n",
       "      <th>GT_Keyframe</th>\n",
       "      <th>Top_1</th>\n",
       "      <th>Top_2</th>\n",
       "      <th>Top_3</th>\n",
       "    </tr>\n",
       "  </thead>\n",
       "  <tbody>\n",
       "    <tr>\n",
       "      <th>0</th>\n",
       "      <td>what is a binomial probability distribution?</td>\n",
       "      <td>18</td>\n",
       "      <td>80</td>\n",
       "      <td>81</td>\n",
       "      <td>86</td>\n",
       "    </tr>\n",
       "    <tr>\n",
       "      <th>1</th>\n",
       "      <td>x is a specific number of successes in n trials</td>\n",
       "      <td>25</td>\n",
       "      <td>24</td>\n",
       "      <td>27</td>\n",
       "      <td>25</td>\n",
       "    </tr>\n",
       "    <tr>\n",
       "      <th>2</th>\n",
       "      <td>P(F) = 1 -p</td>\n",
       "      <td>23</td>\n",
       "      <td>26</td>\n",
       "      <td>25</td>\n",
       "      <td>75</td>\n",
       "    </tr>\n",
       "    <tr>\n",
       "      <th>3</th>\n",
       "      <td>what procedures does the binomial probability ...</td>\n",
       "      <td>29</td>\n",
       "      <td>80</td>\n",
       "      <td>20</td>\n",
       "      <td>18</td>\n",
       "    </tr>\n",
       "    <tr>\n",
       "      <th>4</th>\n",
       "      <td>What is the binomial probability formula?</td>\n",
       "      <td>58</td>\n",
       "      <td>86</td>\n",
       "      <td>80</td>\n",
       "      <td>81</td>\n",
       "    </tr>\n",
       "  </tbody>\n",
       "</table>\n",
       "</div>"
      ]
     },
     "execution_count": 24,
     "metadata": {},
     "output_type": "execute_result"
    }
   ],
   "execution_count": 24
  },
  {
   "metadata": {
    "ExecuteTime": {
     "end_time": "2024-07-11T15:31:17.447638Z",
     "start_time": "2024-07-11T15:31:17.327321Z"
    }
   },
   "cell_type": "code",
   "source": [
    "# call\n",
    "calculate_and_plot_gt_keyframe_percentage(df_ocr_transcriptions)"
   ],
   "id": "199142302befe683",
   "outputs": [
    {
     "name": "stdout",
     "output_type": "stream",
     "text": [
      "GT_Keyframe in Top 1: 27.27%\n",
      "GT_Keyframe in Top 2: 9.09%\n",
      "GT_Keyframe in Top 3: 9.09%\n"
     ]
    },
    {
     "data": {
      "text/plain": [
       "<Figure size 1000x600 with 0 Axes>"
      ]
     },
     "metadata": {},
     "output_type": "display_data"
    },
    {
     "data": {
      "text/plain": [
       "<Figure size 800x500 with 1 Axes>"
      ],
      "image/png": "[encoded data removed]"
     },
     "metadata": {},
     "output_type": "display_data"
    }
   ],
   "execution_count": 25
  },
  {
   "metadata": {
    "ExecuteTime": {
     "end_time": "2024-07-11T15:31:17.777572Z",
     "start_time": "2024-07-11T15:31:17.764456Z"
    }
   },
   "cell_type": "code",
   "source": [
    "df = df_ocr_transcriptions\n",
    "res = []\n",
    "for _, row in df.iterrows():\n",
    "        logger.info(row['Prompt'])\n",
    "        gt_keyframe = row['GT_Keyframe']\n",
    "        prox =check_proximity_keyframes(gt_keyframe)\n",
    "        res.append(prox)\n",
    "\n",
    "prox_yes_no = []\n",
    "for i, row in df.iterrows():\n",
    "    if row['Top_1'] in res[i] or row['Top_2'] in res[i] or row['Top_3'] in res[i]: \n",
    "        prox_yes_no.append(1)\n",
    "    else: \n",
    "        prox_yes_no.append(0)\n",
    "\n",
    "print(prox_yes_no)"
   ],
   "id": "8d05b0ad871dfd1e",
   "outputs": [
    {
     "name": "stderr",
     "output_type": "stream",
     "text": [
      "\u001B[32m2024-07-11 17:31:17.764\u001B[0m | \u001B[1mINFO    \u001B[0m | \u001B[36m__main__\u001B[0m:\u001B[36m<module>\u001B[0m:\u001B[36m4\u001B[0m - \u001B[1mwhat is a binomial probability distribution?\u001B[0m\n",
      "\u001B[32m2024-07-11 17:31:17.764\u001B[0m | \u001B[1mINFO    \u001B[0m | \u001B[36m__main__\u001B[0m:\u001B[36m<module>\u001B[0m:\u001B[36m4\u001B[0m - \u001B[1mx is a specific number of successes in n trials\u001B[0m\n",
      "\u001B[32m2024-07-11 17:31:17.764\u001B[0m | \u001B[1mINFO    \u001B[0m | \u001B[36m__main__\u001B[0m:\u001B[36m<module>\u001B[0m:\u001B[36m4\u001B[0m - \u001B[1mP(F) = 1 -p \u001B[0m\n",
      "\u001B[32m2024-07-11 17:31:17.764\u001B[0m | \u001B[1mINFO    \u001B[0m | \u001B[36m__main__\u001B[0m:\u001B[36m<module>\u001B[0m:\u001B[36m4\u001B[0m - \u001B[1mwhat procedures does the binomial probability distribution results from?\u001B[0m\n",
      "\u001B[32m2024-07-11 17:31:17.764\u001B[0m | \u001B[1mINFO    \u001B[0m | \u001B[36m__main__\u001B[0m:\u001B[36m<module>\u001B[0m:\u001B[36m4\u001B[0m - \u001B[1mWhat is the binomial probability formula?\u001B[0m\n",
      "\u001B[32m2024-07-11 17:31:17.764\u001B[0m | \u001B[1mINFO    \u001B[0m | \u001B[36m__main__\u001B[0m:\u001B[36m<module>\u001B[0m:\u001B[36m4\u001B[0m - \u001B[1mWhat is the method 2 for finding the binomial probabilities?\u001B[0m\n",
      "\u001B[32m2024-07-11 17:31:17.764\u001B[0m | \u001B[1mINFO    \u001B[0m | \u001B[36m__main__\u001B[0m:\u001B[36m<module>\u001B[0m:\u001B[36m4\u001B[0m - \u001B[1mHow many NFL Football games betweem 1974 and 2011 there is?\u001B[0m\n",
      "\u001B[32m2024-07-11 17:31:17.764\u001B[0m | \u001B[1mINFO    \u001B[0m | \u001B[36m__main__\u001B[0m:\u001B[36m<module>\u001B[0m:\u001B[36m4\u001B[0m - \u001B[1mWhat are the key concepts of the lecture\u001B[0m\n",
      "\u001B[32m2024-07-11 17:31:17.764\u001B[0m | \u001B[1mINFO    \u001B[0m | \u001B[36m__main__\u001B[0m:\u001B[36m<module>\u001B[0m:\u001B[36m4\u001B[0m - \u001B[1mWhat is the probability of failure in the twitter example?\u001B[0m\n",
      "\u001B[32m2024-07-11 17:31:17.764\u001B[0m | \u001B[1mINFO    \u001B[0m | \u001B[36m__main__\u001B[0m:\u001B[36m<module>\u001B[0m:\u001B[36m4\u001B[0m - \u001B[1mUsing the given values of n x and q\u001B[0m\n",
      "\u001B[32m2024-07-11 17:31:17.764\u001B[0m | \u001B[1mINFO    \u001B[0m | \u001B[36m__main__\u001B[0m:\u001B[36m<module>\u001B[0m:\u001B[36m4\u001B[0m - \u001B[1mprobability of success remains the same in all trials\u001B[0m\n"
     ]
    },
    {
     "name": "stdout",
     "output_type": "stream",
     "text": [
      "[1, 1, 1, 1, 1, 1, 1, 1, 1, 1, 1]\n"
     ]
    }
   ],
   "execution_count": 26
  }
 ],
 "metadata": {
  "kernelspec": {
   "display_name": "Python 3",
   "language": "python",
   "name": "python3"
  },
  "language_info": {
   "codemirror_mode": {
    "name": "ipython",
    "version": 2
   },
   "file_extension": ".py",
   "mimetype": "text/x-python",
   "name": "python",
   "nbconvert_exporter": "python",
   "pygments_lexer": "ipython2",
   "version": "2.7.6"
  }
 },
 "nbformat": 4,
 "nbformat_minor": 5
}
