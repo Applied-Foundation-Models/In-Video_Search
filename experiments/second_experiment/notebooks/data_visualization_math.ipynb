{
 "cells": [
  {
   "cell_type": "code",
   "id": "initial_id",
   "metadata": {
    "collapsed": true,
    "ExecuteTime": {
     "end_time": "2024-07-14T15:54:50.444712Z",
     "start_time": "2024-07-14T15:54:50.433792Z"
    }
   },
   "source": [
    "import pandas as pd\n",
    "import matplotlib.pyplot as plt\n",
    "from pathlib import Path\n",
    "from loguru import logger\n",
    "import os"
   ],
   "outputs": [],
   "execution_count": 81
  },
  {
   "metadata": {},
   "cell_type": "markdown",
   "source": "",
   "id": "5e64ba9cd139c77c"
  },
  {
   "metadata": {},
   "cell_type": "markdown",
   "source": "# OCR Only",
   "id": "e878cdd5850af551"
  },
  {
   "metadata": {
    "ExecuteTime": {
     "end_time": "2024-07-14T15:54:50.547602Z",
     "start_time": "2024-07-14T15:54:50.532757Z"
    }
   },
   "cell_type": "code",
   "source": [
    "notebook_path = Path().resolve().parent\n",
    "print(notebook_path)\n",
    "\n",
    "# Construct the filename relative to the new path\n",
    "filename = notebook_path / \"notebooks/new_data/df_standard_ocr_only_math.csv\"\n",
    "\n",
    "# Read the CSV file\n",
    "df_standard_ocr_only = pd.read_csv(filename)\n",
    "print(df_standard_ocr_only)"
   ],
   "id": "d3c4ecf46b92093c",
   "outputs": [
    {
     "name": "stdout",
     "output_type": "stream",
     "text": [
      "C:\\Users\\baatout\\PycharmProjects\\afm-vlm\\experiments\\second_experiment\n",
      "                                               Prompt  GT_Keyframe  Top_1  \\\n",
      "0        what is a binomial probability distribution?           18     81   \n",
      "1     x is a specific number of successes in n trials           25     27   \n",
      "2                                        P(F) = 1 -p            23     60   \n",
      "3   what procedures does the binomial probability ...           29     81   \n",
      "4           What is the binomial probability formula?           58     86   \n",
      "5   What is the method 2 for finding the binomial ...           80     81   \n",
      "6   How many NFL Football games betweem 1974 and 2...           85     85   \n",
      "7            What are the key concepts of the lecture            3      2   \n",
      "8   What is the probability of failure in the twit...           46     46   \n",
      "9                 Using the given values of n x and q           65     27   \n",
      "10  probability of success remains the same in all...           22     26   \n",
      "\n",
      "    Top_2  Top_3  \n",
      "0      80     86  \n",
      "1      24     25  \n",
      "2      59     58  \n",
      "3      80     34  \n",
      "4      81     80  \n",
      "5      80     82  \n",
      "6      84     87  \n",
      "7       3      4  \n",
      "8      43     65  \n",
      "9      24     86  \n",
      "10     24     27  \n"
     ]
    }
   ],
   "execution_count": 82
  },
  {
   "metadata": {
    "ExecuteTime": {
     "end_time": "2024-07-14T15:54:50.560999Z",
     "start_time": "2024-07-14T15:54:50.547602Z"
    }
   },
   "cell_type": "code",
   "source": [
    "import numpy as np\n",
    "def total_top_3_percentage_plot(data_1, data_2, data_3, data_4, prox_1, prox_2, prox_3, prox_4):\n",
    "    def calculate_top_3_percentages(df):\n",
    "        total = len(df)\n",
    "        top_1_count = (df['GT_Keyframe'] == df['Top_1']).sum()\n",
    "        top_2_count = (df['GT_Keyframe'] == df['Top_2']).sum()\n",
    "        top_3_count = (df['GT_Keyframe'] == df['Top_3']).sum()\n",
    "\n",
    "        top_1_percentage = (top_1_count / total) * 100\n",
    "        top_2_percentage = (top_2_count / total) * 100\n",
    "        top_3_percentage = (top_3_count / total) * 100\n",
    "\n",
    "        return top_1_percentage, top_2_percentage, top_3_percentage\n",
    "    def count(data):\n",
    "        count_greater_than_zero = sum(1 for x in data if x > 0)\n",
    "    \n",
    "        # Calculate the total number of elements\n",
    "        total_elements = len(data)\n",
    "        \n",
    "        # Calculate the percentage\n",
    "        percentage = (count_greater_than_zero / total_elements) * 100\n",
    "        \n",
    "        return percentage\n",
    "    \n",
    "    c_prox_1 = count(prox_1)\n",
    "    c_prox_2 = count(prox_2)\n",
    "    c_prox_3 = count(prox_3)\n",
    "    c_prox_4 = count(prox_4)\n",
    "    \n",
    "    \n",
    "    # Convert data to DataFrames\n",
    "    df1 = pd.DataFrame(data_1)\n",
    "    df2 = pd.DataFrame(data_2)\n",
    "    df3 = pd.DataFrame(data_3)\n",
    "    df4 = pd.DataFrame(data_4)\n",
    "\n",
    "    # Calculate percentages for each DataFrame\n",
    "    percentages_1 = calculate_top_3_percentages(df1)\n",
    "    percentages_2 = calculate_top_3_percentages(df2)\n",
    "    percentages_3 = calculate_top_3_percentages(df3)\n",
    "    percentages_4 = calculate_top_3_percentages(df4)\n",
    "\n",
    "    total_1 = sum(percentages_1)\n",
    "    total_2 = sum(percentages_2)\n",
    "    total_3 = sum(percentages_3)\n",
    "    total_4 = sum(percentages_4)\n",
    "\n",
    "    # Data for plotting\n",
    "    labels = ['OCR Only', 'OCR + LLaVa', 'OCR + Transcriptions', 'Extensive Summary']\n",
    "    percentages_group1 = [total_1, total_2, total_3, total_4]\n",
    "    percentages_group2 = [c_prox_1, c_prox_2, c_prox_3, c_prox_4]\n",
    "\n",
    "    x = np.arange(len(labels))  # Label locations\n",
    "    width = 0.35  # Width of the bars\n",
    "\n",
    "    # Create the plot\n",
    "    fig, ax = plt.subplots(figsize=(8, 5))\n",
    "\n",
    "    bars1 = ax.bar(x - width / 2, percentages_group1, width, label='Keyframe in Top 3 Positions', color='blue')\n",
    "    bars2 = ax.bar(x + width / 2, percentages_group2, width, label='Keyframe in Proximity Set', color='green')\n",
    "\n",
    "    # Add some text for labels, title and custom x-axis tick labels, etc.\n",
    "    ax.set_xlabel('Math Lecture')\n",
    "    ax.set_ylabel('Percentage')\n",
    "    ax.set_title('Total Percentage of Extracted Keyframes to GT')\n",
    "    ax.set_xticks(x)\n",
    "    ax.set_xticklabels(labels)\n",
    "    ax.legend()\n",
    "    # Save the plot\n",
    "    plt.savefig('total_top_3_percentage_plot_bar_math.png')\n",
    "    # Show the plot\n",
    "    plt.show()"
   ],
   "id": "dfad3f86f629ecb7",
   "outputs": [],
   "execution_count": 83
  },
  {
   "metadata": {
    "ExecuteTime": {
     "end_time": "2024-07-14T15:54:50.578526Z",
     "start_time": "2024-07-14T15:54:50.564155Z"
    }
   },
   "cell_type": "code",
   "source": [
    "    \n",
    "def calculate_and_plot_gt_keyframe_percentage(data):\n",
    "    # Convert data to a DataFrame\n",
    "    df = pd.DataFrame(data)\n",
    "    \n",
    "    # Plotting\n",
    "    plt.figure(figsize=(10, 6))\n",
    "    \n",
    "    total = len(df)\n",
    "    top_1_count = 0\n",
    "    top_2_count = 0\n",
    "    top_3_count = 0\n",
    "    \n",
    "    # Iterate through the DataFrame to count the occurrences\n",
    "    for index, row in df.iterrows():\n",
    "        if row['GT_Keyframe'] == row['Top_1']:\n",
    "            top_1_count += 1\n",
    "        elif row['GT_Keyframe'] == row['Top_2']:\n",
    "            top_2_count += 1\n",
    "        elif row['GT_Keyframe'] == row['Top_3']:\n",
    "            top_3_count += 1\n",
    "    \n",
    "    # Calculate percentages\n",
    "    top_1_percentage = (top_1_count / total) * 100\n",
    "    top_2_percentage = (top_2_count / total) * 100\n",
    "    top_3_percentage = (top_3_count / total) * 100\n",
    "    \n",
    "    # Print the results\n",
    "    print(f\"GT_Keyframe in Top 1: {top_1_percentage:.2f}%\")\n",
    "    print(f\"GT_Keyframe in Top 2: {top_2_percentage:.2f}%\")\n",
    "    print(f\"GT_Keyframe in Top 3: {top_3_percentage:.2f}%\")\n",
    "    \n",
    "    # Data for plotting\n",
    "    labels = ['Top 1', 'Top 2', 'Top 3']\n",
    "    percentages = [top_1_percentage, top_2_percentage, top_3_percentage]\n",
    "    \n",
    "    # Create the plot\n",
    "    plt.figure(figsize=(8, 5))\n",
    "    plt.bar(labels, percentages, color=['blue', 'green', 'red'])\n",
    "    plt.xlabel('Position')\n",
    "    plt.ylabel('Percentage')\n",
    "    plt.title('Percentage of GT_Keyframe in Top Positions \\n (OCR Only)')\n",
    "    plt.ylim(0, 100)\n",
    "    \n",
    "#hard coded\n",
    "img_paths = 150\n",
    "\n",
    "def check_proximity_keyframes(gt):\n",
    "    proximity_kf = []\n",
    "\n",
    "    # Define the boundaries for the image paths\n",
    "    max_index = img_paths - 1\n",
    "\n",
    "    if gt == 0:\n",
    "        logger.info(\"No proximity - Invalid GT\")\n",
    "    elif gt == 1:\n",
    "        proximity_kf.extend(range(1, 5))\n",
    "    elif gt >= max_index:\n",
    "        proximity_kf.extend(range(max_index, max_index - 5, -1))\n",
    "    else:\n",
    "        proximity_kf.extend([gt - 2, gt - 1, gt, gt + 1, gt + 2])\n",
    "\n",
    "    # Ensure all indexes are within valid range\n",
    "    proximity_kf = [i for i in proximity_kf if 0 <= i <= max_index]\n",
    "\n",
    "    return proximity_kf\n"
   ],
   "id": "1cd27fa717c6a699",
   "outputs": [],
   "execution_count": 84
  },
  {
   "metadata": {
    "ExecuteTime": {
     "end_time": "2024-07-14T15:54:50.781809Z",
     "start_time": "2024-07-14T15:54:50.579540Z"
    }
   },
   "cell_type": "code",
   "source": [
    "# call\n",
    "calculate_and_plot_gt_keyframe_percentage(df_standard_ocr_only)"
   ],
   "id": "f94dd6be045f015b",
   "outputs": [
    {
     "name": "stdout",
     "output_type": "stream",
     "text": [
      "GT_Keyframe in Top 1: 18.18%\n",
      "GT_Keyframe in Top 2: 18.18%\n",
      "GT_Keyframe in Top 3: 9.09%\n"
     ]
    },
    {
     "data": {
      "text/plain": [
       "<Figure size 1000x600 with 0 Axes>"
      ]
     },
     "metadata": {},
     "output_type": "display_data"
    },
    {
     "data": {
      "text/plain": [
       "<Figure size 800x500 with 1 Axes>"
      ],
      "image/png": "[encoded data removed]"
     },
     "metadata": {},
     "output_type": "display_data"
    }
   ],
   "execution_count": 85
  },
  {
   "metadata": {
    "ExecuteTime": {
     "end_time": "2024-07-14T15:54:50.807092Z",
     "start_time": "2024-07-14T15:54:50.781809Z"
    }
   },
   "cell_type": "code",
   "source": [
    "# iterate through data frame \n",
    "df = df_standard_ocr_only\n",
    "res = []\n",
    "for _, row in df.iterrows():\n",
    "        logger.info(row['Prompt'])\n",
    "        gt_keyframe = row['GT_Keyframe']\n",
    "        prox =check_proximity_keyframes(gt_keyframe)\n",
    "        res.append(prox)\n",
    "\n",
    "prox_yes_no_ocr_only = []\n",
    "for i, row in df.iterrows():\n",
    "    if row['Top_1'] in res[i]:\n",
    "        prox_yes_no_ocr_only.append(1)\n",
    "    elif row['Top_2'] in res[i]:\n",
    "        prox_yes_no_ocr_only.append(2)\n",
    "    elif row['Top_3'] in res[i]:\n",
    "        prox_yes_no_ocr_only.append(3)\n",
    "    else:\n",
    "        prox_yes_no_ocr_only.append(0)\n",
    "        \n",
    "print(prox_yes_no_ocr_only)"
   ],
   "id": "5838314ef42d3b1c",
   "outputs": [
    {
     "name": "stderr",
     "output_type": "stream",
     "text": [
      "\u001B[32m2024-07-14 17:54:50.781\u001B[0m | \u001B[1mINFO    \u001B[0m | \u001B[36m__main__\u001B[0m:\u001B[36m<module>\u001B[0m:\u001B[36m5\u001B[0m - \u001B[1mwhat is a binomial probability distribution?\u001B[0m\n",
      "\u001B[32m2024-07-14 17:54:50.790\u001B[0m | \u001B[1mINFO    \u001B[0m | \u001B[36m__main__\u001B[0m:\u001B[36m<module>\u001B[0m:\u001B[36m5\u001B[0m - \u001B[1mx is a specific number of successes in n trials\u001B[0m\n",
      "\u001B[32m2024-07-14 17:54:50.792\u001B[0m | \u001B[1mINFO    \u001B[0m | \u001B[36m__main__\u001B[0m:\u001B[36m<module>\u001B[0m:\u001B[36m5\u001B[0m - \u001B[1mP(F) = 1 -p \u001B[0m\n",
      "\u001B[32m2024-07-14 17:54:50.793\u001B[0m | \u001B[1mINFO    \u001B[0m | \u001B[36m__main__\u001B[0m:\u001B[36m<module>\u001B[0m:\u001B[36m5\u001B[0m - \u001B[1mwhat procedures does the binomial probability distribution results from?\u001B[0m\n",
      "\u001B[32m2024-07-14 17:54:50.794\u001B[0m | \u001B[1mINFO    \u001B[0m | \u001B[36m__main__\u001B[0m:\u001B[36m<module>\u001B[0m:\u001B[36m5\u001B[0m - \u001B[1mWhat is the binomial probability formula?\u001B[0m\n",
      "\u001B[32m2024-07-14 17:54:50.795\u001B[0m | \u001B[1mINFO    \u001B[0m | \u001B[36m__main__\u001B[0m:\u001B[36m<module>\u001B[0m:\u001B[36m5\u001B[0m - \u001B[1mWhat is the method 2 for finding the binomial probabilities?\u001B[0m\n",
      "\u001B[32m2024-07-14 17:54:50.797\u001B[0m | \u001B[1mINFO    \u001B[0m | \u001B[36m__main__\u001B[0m:\u001B[36m<module>\u001B[0m:\u001B[36m5\u001B[0m - \u001B[1mHow many NFL Football games betweem 1974 and 2011 there is?\u001B[0m\n",
      "\u001B[32m2024-07-14 17:54:50.797\u001B[0m | \u001B[1mINFO    \u001B[0m | \u001B[36m__main__\u001B[0m:\u001B[36m<module>\u001B[0m:\u001B[36m5\u001B[0m - \u001B[1mWhat are the key concepts of the lecture\u001B[0m\n",
      "\u001B[32m2024-07-14 17:54:50.797\u001B[0m | \u001B[1mINFO    \u001B[0m | \u001B[36m__main__\u001B[0m:\u001B[36m<module>\u001B[0m:\u001B[36m5\u001B[0m - \u001B[1mWhat is the probability of failure in the twitter example?\u001B[0m\n",
      "\u001B[32m2024-07-14 17:54:50.797\u001B[0m | \u001B[1mINFO    \u001B[0m | \u001B[36m__main__\u001B[0m:\u001B[36m<module>\u001B[0m:\u001B[36m5\u001B[0m - \u001B[1mUsing the given values of n x and q\u001B[0m\n",
      "\u001B[32m2024-07-14 17:54:50.797\u001B[0m | \u001B[1mINFO    \u001B[0m | \u001B[36m__main__\u001B[0m:\u001B[36m<module>\u001B[0m:\u001B[36m5\u001B[0m - \u001B[1mprobability of success remains the same in all trials\u001B[0m\n"
     ]
    },
    {
     "name": "stdout",
     "output_type": "stream",
     "text": [
      "[0, 1, 0, 0, 0, 1, 1, 1, 1, 0, 2]\n"
     ]
    }
   ],
   "execution_count": 86
  },
  {
   "metadata": {},
   "cell_type": "markdown",
   "source": "",
   "id": "a2725d115684d053"
  },
  {
   "metadata": {},
   "cell_type": "markdown",
   "source": "# OCR LAVA",
   "id": "761615c516b3463"
  },
  {
   "metadata": {
    "ExecuteTime": {
     "end_time": "2024-07-14T15:54:50.824622Z",
     "start_time": "2024-07-14T15:54:50.807092Z"
    }
   },
   "cell_type": "code",
   "source": [
    "# read data from csv file\n",
    "notebook_path = Path().resolve().parent\n",
    "print(notebook_path)\n",
    "\n",
    "# Construct the filename relative to the new path\n",
    "filename = notebook_path / \"notebooks/new_data/df_standard_ocr_lava_math.csv\"\n",
    "df_ocr_lava = pd.read_csv(filename)\n",
    "df_ocr_lava.head()"
   ],
   "id": "e8915696b5e8f18c",
   "outputs": [
    {
     "name": "stdout",
     "output_type": "stream",
     "text": [
      "C:\\Users\\baatout\\PycharmProjects\\afm-vlm\\experiments\\second_experiment\n"
     ]
    },
    {
     "data": {
      "text/plain": [
       "                                              Prompt  GT_Keyframe  Top_1  \\\n",
       "0       what is a binomial probability distribution?           18     20   \n",
       "1    x is a specific number of successes in n trials           25     27   \n",
       "2                                       P(F) = 1 -p            23     59   \n",
       "3  what procedures does the binomial probability ...           29     20   \n",
       "4          What is the binomial probability formula?           58     86   \n",
       "\n",
       "   Top_2  Top_3  \n",
       "0     22     81  \n",
       "1     24     25  \n",
       "2     26     58  \n",
       "3     21     22  \n",
       "4     60     81  "
      ],
      "text/html": [
       "<div>\n",
       "<style scoped>\n",
       "    .dataframe tbody tr th:only-of-type {\n",
       "        vertical-align: middle;\n",
       "    }\n",
       "\n",
       "    .dataframe tbody tr th {\n",
       "        vertical-align: top;\n",
       "    }\n",
       "\n",
       "    .dataframe thead th {\n",
       "        text-align: right;\n",
       "    }\n",
       "</style>\n",
       "<table border=\"1\" class=\"dataframe\">\n",
       "  <thead>\n",
       "    <tr style=\"text-align: right;\">\n",
       "      <th></th>\n",
       "      <th>Prompt</th>\n",
       "      <th>GT_Keyframe</th>\n",
       "      <th>Top_1</th>\n",
       "      <th>Top_2</th>\n",
       "      <th>Top_3</th>\n",
       "    </tr>\n",
       "  </thead>\n",
       "  <tbody>\n",
       "    <tr>\n",
       "      <th>0</th>\n",
       "      <td>what is a binomial probability distribution?</td>\n",
       "      <td>18</td>\n",
       "      <td>20</td>\n",
       "      <td>22</td>\n",
       "      <td>81</td>\n",
       "    </tr>\n",
       "    <tr>\n",
       "      <th>1</th>\n",
       "      <td>x is a specific number of successes in n trials</td>\n",
       "      <td>25</td>\n",
       "      <td>27</td>\n",
       "      <td>24</td>\n",
       "      <td>25</td>\n",
       "    </tr>\n",
       "    <tr>\n",
       "      <th>2</th>\n",
       "      <td>P(F) = 1 -p</td>\n",
       "      <td>23</td>\n",
       "      <td>59</td>\n",
       "      <td>26</td>\n",
       "      <td>58</td>\n",
       "    </tr>\n",
       "    <tr>\n",
       "      <th>3</th>\n",
       "      <td>what procedures does the binomial probability ...</td>\n",
       "      <td>29</td>\n",
       "      <td>20</td>\n",
       "      <td>21</td>\n",
       "      <td>22</td>\n",
       "    </tr>\n",
       "    <tr>\n",
       "      <th>4</th>\n",
       "      <td>What is the binomial probability formula?</td>\n",
       "      <td>58</td>\n",
       "      <td>86</td>\n",
       "      <td>60</td>\n",
       "      <td>81</td>\n",
       "    </tr>\n",
       "  </tbody>\n",
       "</table>\n",
       "</div>"
      ]
     },
     "execution_count": 87,
     "metadata": {},
     "output_type": "execute_result"
    }
   ],
   "execution_count": 87
  },
  {
   "metadata": {
    "ExecuteTime": {
     "end_time": "2024-07-14T15:54:51.017789Z",
     "start_time": "2024-07-14T15:54:50.824622Z"
    }
   },
   "cell_type": "code",
   "source": [
    "# call\n",
    "calculate_and_plot_gt_keyframe_percentage(df_ocr_lava)"
   ],
   "id": "3ab6719b348fd451",
   "outputs": [
    {
     "name": "stdout",
     "output_type": "stream",
     "text": [
      "GT_Keyframe in Top 1: 18.18%\n",
      "GT_Keyframe in Top 2: 9.09%\n",
      "GT_Keyframe in Top 3: 9.09%\n"
     ]
    },
    {
     "data": {
      "text/plain": [
       "<Figure size 1000x600 with 0 Axes>"
      ]
     },
     "metadata": {},
     "output_type": "display_data"
    },
    {
     "data": {
      "text/plain": [
       "<Figure size 800x500 with 1 Axes>"
      ],
      "image/png": "[encoded data removed]"
     },
     "metadata": {},
     "output_type": "display_data"
    }
   ],
   "execution_count": 88
  },
  {
   "metadata": {
    "ExecuteTime": {
     "end_time": "2024-07-14T15:54:51.044325Z",
     "start_time": "2024-07-14T15:54:51.017789Z"
    }
   },
   "cell_type": "code",
   "source": [
    "# iterate through data frame \n",
    "df = df_ocr_lava\n",
    "# iterate through data frame \n",
    "res = []\n",
    "for _, row in df.iterrows():\n",
    "        logger.info(row['Prompt'])\n",
    "        gt_keyframe = row['GT_Keyframe']\n",
    "        prox =check_proximity_keyframes(gt_keyframe)\n",
    "        res.append(prox)\n",
    "\n",
    "prox_yes_no_ocr_lava = []\n",
    "for i, row in df.iterrows():\n",
    "    if row['Top_1'] in res[i]:\n",
    "        prox_yes_no_ocr_lava.append(1)\n",
    "    elif row['Top_2'] in res[i]:\n",
    "        prox_yes_no_ocr_lava.append(2)\n",
    "    elif row['Top_3'] in res[i]:\n",
    "        prox_yes_no_ocr_lava.append(3)\n",
    "    else:\n",
    "        prox_yes_no_ocr_lava.append(0)\n",
    "\n",
    "print(prox_yes_no_ocr_lava)"
   ],
   "id": "886a4e6bb861ee38",
   "outputs": [
    {
     "name": "stderr",
     "output_type": "stream",
     "text": [
      "\u001B[32m2024-07-14 17:54:51.017\u001B[0m | \u001B[1mINFO    \u001B[0m | \u001B[36m__main__\u001B[0m:\u001B[36m<module>\u001B[0m:\u001B[36m6\u001B[0m - \u001B[1mwhat is a binomial probability distribution?\u001B[0m\n",
      "\u001B[32m2024-07-14 17:54:51.017\u001B[0m | \u001B[1mINFO    \u001B[0m | \u001B[36m__main__\u001B[0m:\u001B[36m<module>\u001B[0m:\u001B[36m6\u001B[0m - \u001B[1mx is a specific number of successes in n trials\u001B[0m\n",
      "\u001B[32m2024-07-14 17:54:51.017\u001B[0m | \u001B[1mINFO    \u001B[0m | \u001B[36m__main__\u001B[0m:\u001B[36m<module>\u001B[0m:\u001B[36m6\u001B[0m - \u001B[1mP(F) = 1 -p \u001B[0m\n",
      "\u001B[32m2024-07-14 17:54:51.017\u001B[0m | \u001B[1mINFO    \u001B[0m | \u001B[36m__main__\u001B[0m:\u001B[36m<module>\u001B[0m:\u001B[36m6\u001B[0m - \u001B[1mwhat procedures does the binomial probability distribution results from?\u001B[0m\n",
      "\u001B[32m2024-07-14 17:54:51.017\u001B[0m | \u001B[1mINFO    \u001B[0m | \u001B[36m__main__\u001B[0m:\u001B[36m<module>\u001B[0m:\u001B[36m6\u001B[0m - \u001B[1mWhat is the binomial probability formula?\u001B[0m\n",
      "\u001B[32m2024-07-14 17:54:51.017\u001B[0m | \u001B[1mINFO    \u001B[0m | \u001B[36m__main__\u001B[0m:\u001B[36m<module>\u001B[0m:\u001B[36m6\u001B[0m - \u001B[1mWhat is the method 2 for finding the binomial probabilities?\u001B[0m\n",
      "\u001B[32m2024-07-14 17:54:51.033\u001B[0m | \u001B[1mINFO    \u001B[0m | \u001B[36m__main__\u001B[0m:\u001B[36m<module>\u001B[0m:\u001B[36m6\u001B[0m - \u001B[1mHow many NFL Football games betweem 1974 and 2011 there is?\u001B[0m\n",
      "\u001B[32m2024-07-14 17:54:51.033\u001B[0m | \u001B[1mINFO    \u001B[0m | \u001B[36m__main__\u001B[0m:\u001B[36m<module>\u001B[0m:\u001B[36m6\u001B[0m - \u001B[1mWhat are the key concepts of the lecture\u001B[0m\n",
      "\u001B[32m2024-07-14 17:54:51.033\u001B[0m | \u001B[1mINFO    \u001B[0m | \u001B[36m__main__\u001B[0m:\u001B[36m<module>\u001B[0m:\u001B[36m6\u001B[0m - \u001B[1mWhat is the probability of failure in the twitter example?\u001B[0m\n",
      "\u001B[32m2024-07-14 17:54:51.033\u001B[0m | \u001B[1mINFO    \u001B[0m | \u001B[36m__main__\u001B[0m:\u001B[36m<module>\u001B[0m:\u001B[36m6\u001B[0m - \u001B[1mUsing the given values of n x and q\u001B[0m\n",
      "\u001B[32m2024-07-14 17:54:51.033\u001B[0m | \u001B[1mINFO    \u001B[0m | \u001B[36m__main__\u001B[0m:\u001B[36m<module>\u001B[0m:\u001B[36m6\u001B[0m - \u001B[1mprobability of success remains the same in all trials\u001B[0m\n"
     ]
    },
    {
     "name": "stdout",
     "output_type": "stream",
     "text": [
      "[1, 1, 0, 0, 2, 1, 1, 0, 1, 0, 1]\n"
     ]
    }
   ],
   "execution_count": 89
  },
  {
   "metadata": {},
   "cell_type": "markdown",
   "source": "",
   "id": "4e1451ddfe56c66"
  },
  {
   "metadata": {},
   "cell_type": "markdown",
   "source": "# LLM Long Summary",
   "id": "7b24d14ced6b0717"
  },
  {
   "metadata": {
    "ExecuteTime": {
     "end_time": "2024-07-14T15:54:51.062865Z",
     "start_time": "2024-07-14T15:54:51.044325Z"
    }
   },
   "cell_type": "code",
   "source": [
    "# read data from csv file\n",
    "notebook_path = Path().resolve().parent\n",
    "print(notebook_path)\n",
    "\n",
    "# Construct the filename relative to the new path\n",
    "filename = notebook_path / \"notebooks/new_data/df_standard_llm_long_summary_math.csv\"\n",
    "df_long_summary = pd.read_csv(filename)\n",
    "df_long_summary.head()"
   ],
   "id": "80db1f084d7a50c0",
   "outputs": [
    {
     "name": "stdout",
     "output_type": "stream",
     "text": [
      "C:\\Users\\baatout\\PycharmProjects\\afm-vlm\\experiments\\second_experiment\n"
     ]
    },
    {
     "data": {
      "text/plain": [
       "                                              Prompt  GT_Keyframe  Top_1  \\\n",
       "0       what is a binomial probability distribution?           18      2   \n",
       "1    x is a specific number of successes in n trials           25     24   \n",
       "2                                       P(F) = 1 -p            23     27   \n",
       "3  what procedures does the binomial probability ...           29     19   \n",
       "4          What is the binomial probability formula?           58     86   \n",
       "\n",
       "   Top_2  Top_3  \n",
       "0     34     33  \n",
       "1     26     60  \n",
       "2     25     26  \n",
       "3     34     33  \n",
       "4     60     59  "
      ],
      "text/html": [
       "<div>\n",
       "<style scoped>\n",
       "    .dataframe tbody tr th:only-of-type {\n",
       "        vertical-align: middle;\n",
       "    }\n",
       "\n",
       "    .dataframe tbody tr th {\n",
       "        vertical-align: top;\n",
       "    }\n",
       "\n",
       "    .dataframe thead th {\n",
       "        text-align: right;\n",
       "    }\n",
       "</style>\n",
       "<table border=\"1\" class=\"dataframe\">\n",
       "  <thead>\n",
       "    <tr style=\"text-align: right;\">\n",
       "      <th></th>\n",
       "      <th>Prompt</th>\n",
       "      <th>GT_Keyframe</th>\n",
       "      <th>Top_1</th>\n",
       "      <th>Top_2</th>\n",
       "      <th>Top_3</th>\n",
       "    </tr>\n",
       "  </thead>\n",
       "  <tbody>\n",
       "    <tr>\n",
       "      <th>0</th>\n",
       "      <td>what is a binomial probability distribution?</td>\n",
       "      <td>18</td>\n",
       "      <td>2</td>\n",
       "      <td>34</td>\n",
       "      <td>33</td>\n",
       "    </tr>\n",
       "    <tr>\n",
       "      <th>1</th>\n",
       "      <td>x is a specific number of successes in n trials</td>\n",
       "      <td>25</td>\n",
       "      <td>24</td>\n",
       "      <td>26</td>\n",
       "      <td>60</td>\n",
       "    </tr>\n",
       "    <tr>\n",
       "      <th>2</th>\n",
       "      <td>P(F) = 1 -p</td>\n",
       "      <td>23</td>\n",
       "      <td>27</td>\n",
       "      <td>25</td>\n",
       "      <td>26</td>\n",
       "    </tr>\n",
       "    <tr>\n",
       "      <th>3</th>\n",
       "      <td>what procedures does the binomial probability ...</td>\n",
       "      <td>29</td>\n",
       "      <td>19</td>\n",
       "      <td>34</td>\n",
       "      <td>33</td>\n",
       "    </tr>\n",
       "    <tr>\n",
       "      <th>4</th>\n",
       "      <td>What is the binomial probability formula?</td>\n",
       "      <td>58</td>\n",
       "      <td>86</td>\n",
       "      <td>60</td>\n",
       "      <td>59</td>\n",
       "    </tr>\n",
       "  </tbody>\n",
       "</table>\n",
       "</div>"
      ]
     },
     "execution_count": 90,
     "metadata": {},
     "output_type": "execute_result"
    }
   ],
   "execution_count": 90
  },
  {
   "metadata": {
    "ExecuteTime": {
     "end_time": "2024-07-14T15:54:51.246731Z",
     "start_time": "2024-07-14T15:54:51.062865Z"
    }
   },
   "cell_type": "code",
   "source": [
    "# call\n",
    "calculate_and_plot_gt_keyframe_percentage(df_long_summary)"
   ],
   "id": "6efa71b20ff7e470",
   "outputs": [
    {
     "name": "stdout",
     "output_type": "stream",
     "text": [
      "GT_Keyframe in Top 1: 18.18%\n",
      "GT_Keyframe in Top 2: 9.09%\n",
      "GT_Keyframe in Top 3: 0.00%\n"
     ]
    },
    {
     "data": {
      "text/plain": [
       "<Figure size 1000x600 with 0 Axes>"
      ]
     },
     "metadata": {},
     "output_type": "display_data"
    },
    {
     "data": {
      "text/plain": [
       "<Figure size 800x500 with 1 Axes>"
      ],
      "image/png": "[encoded data removed]"
     },
     "metadata": {},
     "output_type": "display_data"
    }
   ],
   "execution_count": 91
  },
  {
   "metadata": {
    "ExecuteTime": {
     "end_time": "2024-07-14T15:54:51.276244Z",
     "start_time": "2024-07-14T15:54:51.246731Z"
    }
   },
   "cell_type": "code",
   "source": [
    "# iterate through data frame \n",
    "df = df_long_summary\n",
    "res = []\n",
    "for _, row in df.iterrows():\n",
    "        logger.info(row['Prompt'])\n",
    "        gt_keyframe = row['GT_Keyframe']\n",
    "        prox =check_proximity_keyframes(gt_keyframe)\n",
    "        res.append(prox)\n",
    "\n",
    "prox_yes_no_long_summary = []\n",
    "for i, row in df.iterrows():\n",
    "    if row['Top_1'] in res[i]:\n",
    "        prox_yes_no_long_summary.append(1)\n",
    "    elif row['Top_2'] in res[i]:\n",
    "        prox_yes_no_long_summary.append(2)\n",
    "    elif row['Top_3'] in res[i]:\n",
    "        prox_yes_no_long_summary.append(3)\n",
    "    else:\n",
    "        prox_yes_no_long_summary.append(0)\n",
    "\n",
    "print(prox_yes_no_long_summary)"
   ],
   "id": "d6019c25594cf5d2",
   "outputs": [
    {
     "name": "stderr",
     "output_type": "stream",
     "text": [
      "\u001B[32m2024-07-14 17:54:51.256\u001B[0m | \u001B[1mINFO    \u001B[0m | \u001B[36m__main__\u001B[0m:\u001B[36m<module>\u001B[0m:\u001B[36m5\u001B[0m - \u001B[1mwhat is a binomial probability distribution?\u001B[0m\n",
      "\u001B[32m2024-07-14 17:54:51.256\u001B[0m | \u001B[1mINFO    \u001B[0m | \u001B[36m__main__\u001B[0m:\u001B[36m<module>\u001B[0m:\u001B[36m5\u001B[0m - \u001B[1mx is a specific number of successes in n trials\u001B[0m\n",
      "\u001B[32m2024-07-14 17:54:51.256\u001B[0m | \u001B[1mINFO    \u001B[0m | \u001B[36m__main__\u001B[0m:\u001B[36m<module>\u001B[0m:\u001B[36m5\u001B[0m - \u001B[1mP(F) = 1 -p \u001B[0m\n",
      "\u001B[32m2024-07-14 17:54:51.256\u001B[0m | \u001B[1mINFO    \u001B[0m | \u001B[36m__main__\u001B[0m:\u001B[36m<module>\u001B[0m:\u001B[36m5\u001B[0m - \u001B[1mwhat procedures does the binomial probability distribution results from?\u001B[0m\n",
      "\u001B[32m2024-07-14 17:54:51.263\u001B[0m | \u001B[1mINFO    \u001B[0m | \u001B[36m__main__\u001B[0m:\u001B[36m<module>\u001B[0m:\u001B[36m5\u001B[0m - \u001B[1mWhat is the binomial probability formula?\u001B[0m\n",
      "\u001B[32m2024-07-14 17:54:51.265\u001B[0m | \u001B[1mINFO    \u001B[0m | \u001B[36m__main__\u001B[0m:\u001B[36m<module>\u001B[0m:\u001B[36m5\u001B[0m - \u001B[1mWhat is the method 2 for finding the binomial probabilities?\u001B[0m\n",
      "\u001B[32m2024-07-14 17:54:51.267\u001B[0m | \u001B[1mINFO    \u001B[0m | \u001B[36m__main__\u001B[0m:\u001B[36m<module>\u001B[0m:\u001B[36m5\u001B[0m - \u001B[1mHow many NFL Football games betweem 1974 and 2011 there is?\u001B[0m\n",
      "\u001B[32m2024-07-14 17:54:51.267\u001B[0m | \u001B[1mINFO    \u001B[0m | \u001B[36m__main__\u001B[0m:\u001B[36m<module>\u001B[0m:\u001B[36m5\u001B[0m - \u001B[1mWhat are the key concepts of the lecture\u001B[0m\n",
      "\u001B[32m2024-07-14 17:54:51.267\u001B[0m | \u001B[1mINFO    \u001B[0m | \u001B[36m__main__\u001B[0m:\u001B[36m<module>\u001B[0m:\u001B[36m5\u001B[0m - \u001B[1mWhat is the probability of failure in the twitter example?\u001B[0m\n",
      "\u001B[32m2024-07-14 17:54:51.267\u001B[0m | \u001B[1mINFO    \u001B[0m | \u001B[36m__main__\u001B[0m:\u001B[36m<module>\u001B[0m:\u001B[36m5\u001B[0m - \u001B[1mUsing the given values of n x and q\u001B[0m\n",
      "\u001B[32m2024-07-14 17:54:51.267\u001B[0m | \u001B[1mINFO    \u001B[0m | \u001B[36m__main__\u001B[0m:\u001B[36m<module>\u001B[0m:\u001B[36m5\u001B[0m - \u001B[1mprobability of success remains the same in all trials\u001B[0m\n"
     ]
    },
    {
     "name": "stdout",
     "output_type": "stream",
     "text": [
      "[0, 1, 2, 0, 2, 2, 1, 0, 1, 0, 1]\n"
     ]
    }
   ],
   "execution_count": 92
  },
  {
   "metadata": {},
   "cell_type": "markdown",
   "source": "",
   "id": "15dd2fbc69921133"
  },
  {
   "metadata": {},
   "cell_type": "markdown",
   "source": "# OCR TRANSCRIPTIONS ",
   "id": "e93e5e5fc5c70dfc"
  },
  {
   "metadata": {
    "ExecuteTime": {
     "end_time": "2024-07-14T15:54:51.292141Z",
     "start_time": "2024-07-14T15:54:51.276244Z"
    }
   },
   "cell_type": "code",
   "source": [
    "filename = notebook_path / \"notebooks/new_data/df_standard_df_ocr_transcriptions_math.csv\"\n",
    "\n",
    "df_ocr_transcriptions = pd.read_csv(filename)\n",
    "df_ocr_transcriptions.head()"
   ],
   "id": "ea27443f9c013f6e",
   "outputs": [
    {
     "data": {
      "text/plain": [
       "                                              Prompt  GT_Keyframe  Top_1  \\\n",
       "0       what is a binomial probability distribution?           18     80   \n",
       "1    x is a specific number of successes in n trials           25     24   \n",
       "2                                       P(F) = 1 -p            23     26   \n",
       "3  what procedures does the binomial probability ...           29     80   \n",
       "4          What is the binomial probability formula?           58     86   \n",
       "\n",
       "   Top_2  Top_3  \n",
       "0     81     86  \n",
       "1     27     25  \n",
       "2     25     75  \n",
       "3     20     18  \n",
       "4     80     81  "
      ],
      "text/html": [
       "<div>\n",
       "<style scoped>\n",
       "    .dataframe tbody tr th:only-of-type {\n",
       "        vertical-align: middle;\n",
       "    }\n",
       "\n",
       "    .dataframe tbody tr th {\n",
       "        vertical-align: top;\n",
       "    }\n",
       "\n",
       "    .dataframe thead th {\n",
       "        text-align: right;\n",
       "    }\n",
       "</style>\n",
       "<table border=\"1\" class=\"dataframe\">\n",
       "  <thead>\n",
       "    <tr style=\"text-align: right;\">\n",
       "      <th></th>\n",
       "      <th>Prompt</th>\n",
       "      <th>GT_Keyframe</th>\n",
       "      <th>Top_1</th>\n",
       "      <th>Top_2</th>\n",
       "      <th>Top_3</th>\n",
       "    </tr>\n",
       "  </thead>\n",
       "  <tbody>\n",
       "    <tr>\n",
       "      <th>0</th>\n",
       "      <td>what is a binomial probability distribution?</td>\n",
       "      <td>18</td>\n",
       "      <td>80</td>\n",
       "      <td>81</td>\n",
       "      <td>86</td>\n",
       "    </tr>\n",
       "    <tr>\n",
       "      <th>1</th>\n",
       "      <td>x is a specific number of successes in n trials</td>\n",
       "      <td>25</td>\n",
       "      <td>24</td>\n",
       "      <td>27</td>\n",
       "      <td>25</td>\n",
       "    </tr>\n",
       "    <tr>\n",
       "      <th>2</th>\n",
       "      <td>P(F) = 1 -p</td>\n",
       "      <td>23</td>\n",
       "      <td>26</td>\n",
       "      <td>25</td>\n",
       "      <td>75</td>\n",
       "    </tr>\n",
       "    <tr>\n",
       "      <th>3</th>\n",
       "      <td>what procedures does the binomial probability ...</td>\n",
       "      <td>29</td>\n",
       "      <td>80</td>\n",
       "      <td>20</td>\n",
       "      <td>18</td>\n",
       "    </tr>\n",
       "    <tr>\n",
       "      <th>4</th>\n",
       "      <td>What is the binomial probability formula?</td>\n",
       "      <td>58</td>\n",
       "      <td>86</td>\n",
       "      <td>80</td>\n",
       "      <td>81</td>\n",
       "    </tr>\n",
       "  </tbody>\n",
       "</table>\n",
       "</div>"
      ]
     },
     "execution_count": 93,
     "metadata": {},
     "output_type": "execute_result"
    }
   ],
   "execution_count": 93
  },
  {
   "metadata": {
    "ExecuteTime": {
     "end_time": "2024-07-14T15:54:51.494096Z",
     "start_time": "2024-07-14T15:54:51.292141Z"
    }
   },
   "cell_type": "code",
   "source": [
    "# call\n",
    "calculate_and_plot_gt_keyframe_percentage(df_ocr_transcriptions)"
   ],
   "id": "199142302befe683",
   "outputs": [
    {
     "name": "stdout",
     "output_type": "stream",
     "text": [
      "GT_Keyframe in Top 1: 27.27%\n",
      "GT_Keyframe in Top 2: 9.09%\n",
      "GT_Keyframe in Top 3: 9.09%\n"
     ]
    },
    {
     "data": {
      "text/plain": [
       "<Figure size 1000x600 with 0 Axes>"
      ]
     },
     "metadata": {},
     "output_type": "display_data"
    },
    {
     "data": {
      "text/plain": [
       "<Figure size 800x500 with 1 Axes>"
      ],
      "image/png": "[encoded data removed]"
     },
     "metadata": {},
     "output_type": "display_data"
    }
   ],
   "execution_count": 94
  },
  {
   "metadata": {
    "ExecuteTime": {
     "end_time": "2024-07-14T15:54:51.523144Z",
     "start_time": "2024-07-14T15:54:51.497242Z"
    }
   },
   "cell_type": "code",
   "source": [
    "df = df_ocr_transcriptions\n",
    "res = []\n",
    "for _, row in df.iterrows():\n",
    "        logger.info(row['Prompt'])\n",
    "        gt_keyframe = row['GT_Keyframe']\n",
    "        prox =check_proximity_keyframes(gt_keyframe)\n",
    "        res.append(prox)\n",
    "\n",
    "prox_yes_no_ocr_transcriptions = []\n",
    "for i, row in df.iterrows():\n",
    "    if row['Top_1'] in res[i]:\n",
    "        prox_yes_no_ocr_transcriptions.append(1)\n",
    "    elif row['Top_2'] in res[i]:\n",
    "        prox_yes_no_ocr_transcriptions.append(2)\n",
    "    elif row['Top_3'] in res[i]:\n",
    "        prox_yes_no_ocr_transcriptions.append(3)\n",
    "    else:\n",
    "        prox_yes_no_ocr_transcriptions.append(0)\n",
    "\n",
    "print(prox_yes_no_ocr_transcriptions)"
   ],
   "id": "8d05b0ad871dfd1e",
   "outputs": [
    {
     "name": "stderr",
     "output_type": "stream",
     "text": [
      "\u001B[32m2024-07-14 17:54:51.504\u001B[0m | \u001B[1mINFO    \u001B[0m | \u001B[36m__main__\u001B[0m:\u001B[36m<module>\u001B[0m:\u001B[36m4\u001B[0m - \u001B[1mwhat is a binomial probability distribution?\u001B[0m\n",
      "\u001B[32m2024-07-14 17:54:51.505\u001B[0m | \u001B[1mINFO    \u001B[0m | \u001B[36m__main__\u001B[0m:\u001B[36m<module>\u001B[0m:\u001B[36m4\u001B[0m - \u001B[1mx is a specific number of successes in n trials\u001B[0m\n",
      "\u001B[32m2024-07-14 17:54:51.506\u001B[0m | \u001B[1mINFO    \u001B[0m | \u001B[36m__main__\u001B[0m:\u001B[36m<module>\u001B[0m:\u001B[36m4\u001B[0m - \u001B[1mP(F) = 1 -p \u001B[0m\n",
      "\u001B[32m2024-07-14 17:54:51.508\u001B[0m | \u001B[1mINFO    \u001B[0m | \u001B[36m__main__\u001B[0m:\u001B[36m<module>\u001B[0m:\u001B[36m4\u001B[0m - \u001B[1mwhat procedures does the binomial probability distribution results from?\u001B[0m\n",
      "\u001B[32m2024-07-14 17:54:51.511\u001B[0m | \u001B[1mINFO    \u001B[0m | \u001B[36m__main__\u001B[0m:\u001B[36m<module>\u001B[0m:\u001B[36m4\u001B[0m - \u001B[1mWhat is the binomial probability formula?\u001B[0m\n",
      "\u001B[32m2024-07-14 17:54:51.512\u001B[0m | \u001B[1mINFO    \u001B[0m | \u001B[36m__main__\u001B[0m:\u001B[36m<module>\u001B[0m:\u001B[36m4\u001B[0m - \u001B[1mWhat is the method 2 for finding the binomial probabilities?\u001B[0m\n",
      "\u001B[32m2024-07-14 17:54:51.512\u001B[0m | \u001B[1mINFO    \u001B[0m | \u001B[36m__main__\u001B[0m:\u001B[36m<module>\u001B[0m:\u001B[36m4\u001B[0m - \u001B[1mHow many NFL Football games betweem 1974 and 2011 there is?\u001B[0m\n",
      "\u001B[32m2024-07-14 17:54:51.512\u001B[0m | \u001B[1mINFO    \u001B[0m | \u001B[36m__main__\u001B[0m:\u001B[36m<module>\u001B[0m:\u001B[36m4\u001B[0m - \u001B[1mWhat are the key concepts of the lecture\u001B[0m\n",
      "\u001B[32m2024-07-14 17:54:51.512\u001B[0m | \u001B[1mINFO    \u001B[0m | \u001B[36m__main__\u001B[0m:\u001B[36m<module>\u001B[0m:\u001B[36m4\u001B[0m - \u001B[1mWhat is the probability of failure in the twitter example?\u001B[0m\n",
      "\u001B[32m2024-07-14 17:54:51.512\u001B[0m | \u001B[1mINFO    \u001B[0m | \u001B[36m__main__\u001B[0m:\u001B[36m<module>\u001B[0m:\u001B[36m4\u001B[0m - \u001B[1mUsing the given values of n x and q\u001B[0m\n",
      "\u001B[32m2024-07-14 17:54:51.512\u001B[0m | \u001B[1mINFO    \u001B[0m | \u001B[36m__main__\u001B[0m:\u001B[36m<module>\u001B[0m:\u001B[36m4\u001B[0m - \u001B[1mprobability of success remains the same in all trials\u001B[0m\n"
     ]
    },
    {
     "name": "stdout",
     "output_type": "stream",
     "text": [
      "[0, 1, 2, 0, 0, 1, 1, 2, 1, 0, 1]\n"
     ]
    }
   ],
   "execution_count": 95
  },
  {
   "metadata": {
    "ExecuteTime": {
     "end_time": "2024-07-14T15:54:52.155708Z",
     "start_time": "2024-07-14T15:54:51.523144Z"
    }
   },
   "cell_type": "code",
   "source": [
    "total_top_3_percentage_plot(df_standard_ocr_only, df_ocr_lava, df_ocr_transcriptions, df_long_summary, prox_yes_no_ocr_only, prox_yes_no_ocr_lava, prox_yes_no_ocr_transcriptions, prox_yes_no_long_summary)\n",
    "# save the plot on disk"
   ],
   "id": "f85cb709875856fb",
   "outputs": [
    {
     "data": {
      "text/plain": [
       "<Figure size 800x500 with 1 Axes>"
      ],
      "image/png": "[encoded data removed]"
     },
     "metadata": {},
     "output_type": "display_data"
    }
   ],
   "execution_count": 96
  },
  {
   "metadata": {
    "ExecuteTime": {
     "end_time": "2024-07-14T15:54:52.160747Z",
     "start_time": "2024-07-14T15:54:52.155708Z"
    }
   },
   "cell_type": "code",
   "source": "",
   "id": "48c3c4984f3446f3",
   "outputs": [],
   "execution_count": 96
  }
 ],
 "metadata": {
  "kernelspec": {
   "display_name": "Python 3",
   "language": "python",
   "name": "python3"
  },
  "language_info": {
   "codemirror_mode": {
    "name": "ipython",
    "version": 2
   },
   "file_extension": ".py",
   "mimetype": "text/x-python",
   "name": "python",
   "nbconvert_exporter": "python",
   "pygments_lexer": "ipython2",
   "version": "2.7.6"
  }
 },
 "nbformat": 4,
 "nbformat_minor": 5
}
