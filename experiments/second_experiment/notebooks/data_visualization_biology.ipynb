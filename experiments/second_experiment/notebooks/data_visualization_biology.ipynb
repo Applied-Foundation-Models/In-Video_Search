{
 "cells": [
  {
   "cell_type": "code",
   "id": "initial_id",
   "metadata": {
    "collapsed": true,
    "ExecuteTime": {
     "end_time": "2024-07-14T15:54:40.627181Z",
     "start_time": "2024-07-14T15:54:40.621921Z"
    }
   },
   "source": [
    "import pandas as pd\n",
    "import matplotlib.pyplot as plt\n",
    "from pathlib import Path\n",
    "from loguru import logger\n",
    "import os"
   ],
   "outputs": [],
   "execution_count": 363
  },
  {
   "metadata": {},
   "cell_type": "markdown",
   "source": "",
   "id": "5e64ba9cd139c77c"
  },
  {
   "metadata": {},
   "cell_type": "markdown",
   "source": "# OCR Only",
   "id": "e878cdd5850af551"
  },
  {
   "metadata": {
    "ExecuteTime": {
     "end_time": "2024-07-14T15:54:40.847412Z",
     "start_time": "2024-07-14T15:54:40.832808Z"
    }
   },
   "cell_type": "code",
   "source": [
    "notebook_path = Path().resolve().parent\n",
    "print(notebook_path)\n",
    "\n",
    "# Construct the filename relative to the new path\n",
    "filename = notebook_path / \"notebooks/new_data/df_standard_ocr_only.csv\"\n",
    "\n",
    "# Read the CSV file\n",
    "df_standard_ocr_only = pd.read_csv(filename)\n",
    "print(df_standard_ocr_only)"
   ],
   "id": "d3c4ecf46b92093c",
   "outputs": [
    {
     "name": "stdout",
     "output_type": "stream",
     "text": [
      "C:\\Users\\baatout\\PycharmProjects\\afm-vlm\\experiments\\second_experiment\n",
      "                                               Prompt  GT_Keyframe  Top_1  \\\n",
      "0                                   learning outcomes            3     32   \n",
      "1    What are the learning outcomes from the lecture?            3     85   \n",
      "2        What is the relation of protien and muscles?           26     27   \n",
      "3                               Essential fatty acids           29     29   \n",
      "4                                   fish oil capsules           30     30   \n",
      "5   what is the functioning of fish oil capsules a...           30     30   \n",
      "6                            calcium as micronutrient           46     46   \n",
      "7        Explain where vitamins function as coenzymes           41     41   \n",
      "8   Give a list of food items where I can attain s...           45     42   \n",
      "9           what is calcium commonly supplemented for           46     46   \n",
      "10       How are nutrients extracted from plant cells           50     50   \n",
      "11                              flavanol food sources           48     19   \n",
      "12  what are the main food sources of lycopene red...           48     19   \n",
      "13           what is semipermeable in plasma membrane           57     55   \n",
      "14                                pigment chlorophyll           62      4   \n",
      "15  explain subcellular structures such as the str...           62     62   \n",
      "16                        Passive transport molecules           68     70   \n",
      "17               role of centrioles for cell division           64     64   \n",
      "18  How do protients facilitate hydrophilic substa...           71     67   \n",
      "19                                     Cormoday oxide           70     69   \n",
      "20                                        FDA testing           84     84   \n",
      "21               legal requirements for health impact           84      6   \n",
      "\n",
      "    Top_2  Top_3  \n",
      "0       3     85  \n",
      "1       3      6  \n",
      "2      25     23  \n",
      "3      28     23  \n",
      "4      34     36  \n",
      "5      29     42  \n",
      "6      42     40  \n",
      "7      42     39  \n",
      "8      20     15  \n",
      "9      42     41  \n",
      "10     62     24  \n",
      "11      5      4  \n",
      "12     15     28  \n",
      "13     57     53  \n",
      "14     69     67  \n",
      "15     58     63  \n",
      "16     68     74  \n",
      "17     59     52  \n",
      "18     54     56  \n",
      "19     41     72  \n",
      "20      4     12  \n",
      "21     84     13  \n"
     ]
    }
   ],
   "execution_count": 364
  },
  {
   "metadata": {
    "ExecuteTime": {
     "end_time": "2024-07-14T15:54:40.883957Z",
     "start_time": "2024-07-14T15:54:40.865720Z"
    }
   },
   "cell_type": "code",
   "source": [
    "def calculate_and_plot_gt_keyframe_percentage(data):\n",
    "    # Convert data to a DataFrame\n",
    "    df = pd.DataFrame(data)\n",
    "\n",
    "    # Plotting\n",
    "    plt.figure(figsize=(10, 6))\n",
    "\n",
    "    total = len(df)\n",
    "    top_1_count = 0\n",
    "    top_2_count = 0\n",
    "    top_3_count = 0\n",
    "\n",
    "    # Iterate through the DataFrame to count the occurrences\n",
    "    for index, row in df.iterrows():\n",
    "        if row['GT_Keyframe'] == row['Top_1']:\n",
    "            top_1_count += 1\n",
    "        elif row['GT_Keyframe'] == row['Top_2']:\n",
    "            top_2_count += 1\n",
    "        elif row['GT_Keyframe'] == row['Top_3']:\n",
    "            top_3_count += 1\n",
    "\n",
    "    # Calculate percentages\n",
    "    top_1_percentage = (top_1_count / total) * 100\n",
    "    top_2_percentage = (top_2_count / total) * 100\n",
    "    top_3_percentage = (top_3_count / total) * 100\n",
    "\n",
    "    # Print the results\n",
    "    print(f\"GT_Keyframe in Top 1: {top_1_percentage:.2f}%\")\n",
    "    print(f\"GT_Keyframe in Top 2: {top_2_percentage:.2f}%\")\n",
    "    print(f\"GT_Keyframe in Top 3: {top_3_percentage:.2f}%\")\n",
    "\n",
    "    # Data for plotting\n",
    "    labels = ['Top 1', 'Top 2', 'Top 3']\n",
    "    percentages = [top_1_percentage, top_2_percentage, top_3_percentage]\n",
    "\n",
    "    # Create the plot\n",
    "    plt.figure(figsize=(8, 5))\n",
    "    plt.bar(labels, percentages, color=['blue', 'green', 'red'])\n",
    "    plt.xlabel('Position')\n",
    "    plt.ylabel('Percentage')\n",
    "    plt.title('Percentage of GT_Keyframe in Top Positions \\n (OCR Only)')\n",
    "    plt.ylim(0, 100)\n",
    "\n",
    "\n",
    "def total_top_3_percentage_plot(data_1, data_2, data_3, data_4, prox_1, prox_2, prox_3, prox_4):\n",
    "    def calculate_top_3_percentages(df):\n",
    "        total = len(df)\n",
    "        top_1_count = (df['GT_Keyframe'] == df['Top_1']).sum()\n",
    "        top_2_count = (df['GT_Keyframe'] == df['Top_2']).sum()\n",
    "        top_3_count = (df['GT_Keyframe'] == df['Top_3']).sum()\n",
    "\n",
    "        top_1_percentage = (top_1_count / total) * 100\n",
    "        top_2_percentage = (top_2_count / total) * 100\n",
    "        top_3_percentage = (top_3_count / total) * 100\n",
    "\n",
    "        return top_1_percentage, top_2_percentage, top_3_percentage\n",
    "    def count(data):\n",
    "        count_greater_than_zero = sum(1 for x in data if x > 0)\n",
    "    \n",
    "        # Calculate the total number of elements\n",
    "        total_elements = len(data)\n",
    "        \n",
    "        # Calculate the percentage\n",
    "        percentage = (count_greater_than_zero / total_elements) * 100\n",
    "        \n",
    "        return percentage\n",
    "    \n",
    "    c_prox_1 = count(prox_1)\n",
    "    c_prox_2 = count(prox_2)\n",
    "    c_prox_3 = count(prox_3)\n",
    "    c_prox_4 = count(prox_4)\n",
    "    \n",
    "    \n",
    "    # Convert data to DataFrames\n",
    "    df1 = pd.DataFrame(data_1)\n",
    "    df2 = pd.DataFrame(data_2)\n",
    "    df3 = pd.DataFrame(data_3)\n",
    "    df4 = pd.DataFrame(data_4)\n",
    "\n",
    "    # Calculate percentages for each DataFrame\n",
    "    percentages_1 = calculate_top_3_percentages(df1)\n",
    "    percentages_2 = calculate_top_3_percentages(df2)\n",
    "    percentages_3 = calculate_top_3_percentages(df3)\n",
    "    percentages_4 = calculate_top_3_percentages(df4)\n",
    "\n",
    "    total_1 = sum(percentages_1)\n",
    "    total_2 = sum(percentages_2)\n",
    "    total_3 = sum(percentages_3)\n",
    "    total_4 = sum(percentages_4)\n",
    "\n",
    "    # Data for plotting\n",
    "    labels = ['OCR Only', 'OCR + LLaVa', 'OCR + Transcriptions', 'Extensive Summary']\n",
    "    percentages_group1 = [total_1, total_2, total_3, total_4]\n",
    "    percentages_group2 = [c_prox_1, c_prox_2, c_prox_3, c_prox_4]\n",
    "\n",
    "    x = np.arange(len(labels))  # Label locations\n",
    "    width = 0.35  # Width of the bars\n",
    "\n",
    "    # Create the plot\n",
    "    fig, ax = plt.subplots(figsize=(8, 5))\n",
    "\n",
    "    bars1 = ax.bar(x - width / 2, percentages_group1, width, label='Keyframe in Top 3 Positions', color='blue')\n",
    "    bars2 = ax.bar(x + width / 2, percentages_group2, width, label='Keyframe in Proximity Set', color='green')\n",
    "\n",
    "    # Add some text for labels, title and custom x-axis tick labels, etc.\n",
    "    ax.set_xlabel('Biology Lecture')\n",
    "    ax.set_ylabel('Percentage')\n",
    "    ax.set_title('Total Percentage of Extracted Keyframes to GT')\n",
    "    ax.set_xticks(x)\n",
    "    ax.set_xticklabels(labels)\n",
    "    ax.legend()\n",
    "    # Save the plot\n",
    "    plt.savefig('total_top_3_percentage_plot_bar_biology.png')\n",
    "    # Show the plot\n",
    "    plt.show()\n",
    "\n",
    "\n",
    "#hard coded\n",
    "img_paths = 150\n",
    "\n",
    "\n",
    "def check_proximity_keyframes(gt):\n",
    "    proximity_kf = []\n",
    "\n",
    "    # Define the boundaries for the image paths\n",
    "    max_index = img_paths - 1\n",
    "\n",
    "    if gt == 0:\n",
    "        logger.info(\"No proximity - Invalid GT\")\n",
    "    elif gt == 1:\n",
    "        proximity_kf.extend(range(1, 5))\n",
    "    elif gt >= max_index:\n",
    "        proximity_kf.extend(range(max_index, max_index - 5, -1))\n",
    "    else:\n",
    "        proximity_kf.extend([gt - 2, gt - 1, gt, gt + 1, gt + 2])\n",
    "\n",
    "    # Ensure all indexes are within valid range\n",
    "    proximity_kf = [i for i in proximity_kf if 0 <= i <= max_index]\n",
    "\n",
    "    return proximity_kf\n",
    "\n"
   ],
   "id": "b20e1dde717e4699",
   "outputs": [],
   "execution_count": 365
  },
  {
   "metadata": {
    "ExecuteTime": {
     "end_time": "2024-07-14T15:54:41.160048Z",
     "start_time": "2024-07-14T15:54:40.920943Z"
    }
   },
   "cell_type": "code",
   "source": [
    "# call\n",
    "calculate_and_plot_gt_keyframe_percentage(df_standard_ocr_only)"
   ],
   "id": "f94dd6be045f015b",
   "outputs": [
    {
     "name": "stdout",
     "output_type": "stream",
     "text": [
      "GT_Keyframe in Top 1: 45.45%\n",
      "GT_Keyframe in Top 2: 22.73%\n",
      "GT_Keyframe in Top 3: 0.00%\n"
     ]
    },
    {
     "data": {
      "text/plain": [
       "<Figure size 1000x600 with 0 Axes>"
      ]
     },
     "metadata": {},
     "output_type": "display_data"
    },
    {
     "data": {
      "text/plain": [
       "<Figure size 800x500 with 1 Axes>"
      ],
      "image/png": "[encoded data removed]"
     },
     "metadata": {},
     "output_type": "display_data"
    }
   ],
   "execution_count": 366
  },
  {
   "metadata": {
    "ExecuteTime": {
     "end_time": "2024-07-14T15:54:41.203514Z",
     "start_time": "2024-07-14T15:54:41.161200Z"
    }
   },
   "cell_type": "code",
   "source": [
    "# iterate through data frame \n",
    "df = df_standard_ocr_only\n",
    "res = []\n",
    "for _, row in df.iterrows():\n",
    "    logger.info(row['Prompt'])\n",
    "    gt_keyframe = row['GT_Keyframe']\n",
    "    prox = check_proximity_keyframes(gt_keyframe)\n",
    "    res.append(prox)\n",
    "\n",
    "prox_yes_no_ocr_only = []\n",
    "for i, row in df.iterrows():\n",
    "    if row['Top_1'] in res[i]:\n",
    "        prox_yes_no_ocr_only.append(1)\n",
    "    elif row['Top_2'] in res[i]:\n",
    "        prox_yes_no_ocr_only.append(2)\n",
    "    elif row['Top_3'] in res[i]:\n",
    "        prox_yes_no_ocr_only.append(3)\n",
    "    else:\n",
    "        prox_yes_no_ocr_only.append(0)\n",
    "\n",
    "print(prox_yes_no_ocr_only)\n",
    "print(len(prox_yes_no_ocr_only))"
   ],
   "id": "9e42af48a7d7f3c2",
   "outputs": [
    {
     "name": "stderr",
     "output_type": "stream",
     "text": [
      "\u001B[32m2024-07-14 17:54:41.166\u001B[0m | \u001B[1mINFO    \u001B[0m | \u001B[36m__main__\u001B[0m:\u001B[36m<module>\u001B[0m:\u001B[36m5\u001B[0m - \u001B[1mlearning outcomes\u001B[0m\n",
      "\u001B[32m2024-07-14 17:54:41.166\u001B[0m | \u001B[1mINFO    \u001B[0m | \u001B[36m__main__\u001B[0m:\u001B[36m<module>\u001B[0m:\u001B[36m5\u001B[0m - \u001B[1mWhat are the learning outcomes from the lecture?\u001B[0m\n",
      "\u001B[32m2024-07-14 17:54:41.170\u001B[0m | \u001B[1mINFO    \u001B[0m | \u001B[36m__main__\u001B[0m:\u001B[36m<module>\u001B[0m:\u001B[36m5\u001B[0m - \u001B[1mWhat is the relation of protien and muscles?\u001B[0m\n",
      "\u001B[32m2024-07-14 17:54:41.171\u001B[0m | \u001B[1mINFO    \u001B[0m | \u001B[36m__main__\u001B[0m:\u001B[36m<module>\u001B[0m:\u001B[36m5\u001B[0m - \u001B[1mEssential fatty acids\u001B[0m\n",
      "\u001B[32m2024-07-14 17:54:41.172\u001B[0m | \u001B[1mINFO    \u001B[0m | \u001B[36m__main__\u001B[0m:\u001B[36m<module>\u001B[0m:\u001B[36m5\u001B[0m - \u001B[1mfish oil capsules\u001B[0m\n",
      "\u001B[32m2024-07-14 17:54:41.173\u001B[0m | \u001B[1mINFO    \u001B[0m | \u001B[36m__main__\u001B[0m:\u001B[36m<module>\u001B[0m:\u001B[36m5\u001B[0m - \u001B[1mwhat is the functioning of fish oil capsules and its relation to vitamins\u001B[0m\n",
      "\u001B[32m2024-07-14 17:54:41.175\u001B[0m | \u001B[1mINFO    \u001B[0m | \u001B[36m__main__\u001B[0m:\u001B[36m<module>\u001B[0m:\u001B[36m5\u001B[0m - \u001B[1mcalcium as micronutrient\u001B[0m\n",
      "\u001B[32m2024-07-14 17:54:41.176\u001B[0m | \u001B[1mINFO    \u001B[0m | \u001B[36m__main__\u001B[0m:\u001B[36m<module>\u001B[0m:\u001B[36m5\u001B[0m - \u001B[1mExplain where vitamins function as coenzymes\u001B[0m\n",
      "\u001B[32m2024-07-14 17:54:41.177\u001B[0m | \u001B[1mINFO    \u001B[0m | \u001B[36m__main__\u001B[0m:\u001B[36m<module>\u001B[0m:\u001B[36m5\u001B[0m - \u001B[1mGive a list of food items where I can attain some important micronutrient\u001B[0m\n",
      "\u001B[32m2024-07-14 17:54:41.178\u001B[0m | \u001B[1mINFO    \u001B[0m | \u001B[36m__main__\u001B[0m:\u001B[36m<module>\u001B[0m:\u001B[36m5\u001B[0m - \u001B[1mwhat is calcium commonly supplemented for\u001B[0m\n",
      "\u001B[32m2024-07-14 17:54:41.178\u001B[0m | \u001B[1mINFO    \u001B[0m | \u001B[36m__main__\u001B[0m:\u001B[36m<module>\u001B[0m:\u001B[36m5\u001B[0m - \u001B[1mHow are nutrients extracted from plant cells\u001B[0m\n",
      "\u001B[32m2024-07-14 17:54:41.182\u001B[0m | \u001B[1mINFO    \u001B[0m | \u001B[36m__main__\u001B[0m:\u001B[36m<module>\u001B[0m:\u001B[36m5\u001B[0m - \u001B[1mflavanol food sources\u001B[0m\n",
      "\u001B[32m2024-07-14 17:54:41.182\u001B[0m | \u001B[1mINFO    \u001B[0m | \u001B[36m__main__\u001B[0m:\u001B[36m<module>\u001B[0m:\u001B[36m5\u001B[0m - \u001B[1mwhat are the main food sources of lycopene red fruits\u001B[0m\n",
      "\u001B[32m2024-07-14 17:54:41.182\u001B[0m | \u001B[1mINFO    \u001B[0m | \u001B[36m__main__\u001B[0m:\u001B[36m<module>\u001B[0m:\u001B[36m5\u001B[0m - \u001B[1mwhat is semipermeable in plasma membrane\u001B[0m\n",
      "\u001B[32m2024-07-14 17:54:41.182\u001B[0m | \u001B[1mINFO    \u001B[0m | \u001B[36m__main__\u001B[0m:\u001B[36m<module>\u001B[0m:\u001B[36m5\u001B[0m - \u001B[1mpigment chlorophyll\u001B[0m\n",
      "\u001B[32m2024-07-14 17:54:41.182\u001B[0m | \u001B[1mINFO    \u001B[0m | \u001B[36m__main__\u001B[0m:\u001B[36m<module>\u001B[0m:\u001B[36m5\u001B[0m - \u001B[1mexplain subcellular structures such as the structures to recycle molecules in the digestive tract\u001B[0m\n",
      "\u001B[32m2024-07-14 17:54:41.182\u001B[0m | \u001B[1mINFO    \u001B[0m | \u001B[36m__main__\u001B[0m:\u001B[36m<module>\u001B[0m:\u001B[36m5\u001B[0m - \u001B[1mPassive transport molecules\u001B[0m\n",
      "\u001B[32m2024-07-14 17:54:41.182\u001B[0m | \u001B[1mINFO    \u001B[0m | \u001B[36m__main__\u001B[0m:\u001B[36m<module>\u001B[0m:\u001B[36m5\u001B[0m - \u001B[1mrole of centrioles for cell division\u001B[0m\n",
      "\u001B[32m2024-07-14 17:54:41.182\u001B[0m | \u001B[1mINFO    \u001B[0m | \u001B[36m__main__\u001B[0m:\u001B[36m<module>\u001B[0m:\u001B[36m5\u001B[0m - \u001B[1mHow do protients facilitate hydrophilic substances to travel across cell membrane\u001B[0m\n",
      "\u001B[32m2024-07-14 17:54:41.182\u001B[0m | \u001B[1mINFO    \u001B[0m | \u001B[36m__main__\u001B[0m:\u001B[36m<module>\u001B[0m:\u001B[36m5\u001B[0m - \u001B[1mCormoday oxide\u001B[0m\n",
      "\u001B[32m2024-07-14 17:54:41.182\u001B[0m | \u001B[1mINFO    \u001B[0m | \u001B[36m__main__\u001B[0m:\u001B[36m<module>\u001B[0m:\u001B[36m5\u001B[0m - \u001B[1mFDA testing\u001B[0m\n",
      "\u001B[32m2024-07-14 17:54:41.182\u001B[0m | \u001B[1mINFO    \u001B[0m | \u001B[36m__main__\u001B[0m:\u001B[36m<module>\u001B[0m:\u001B[36m5\u001B[0m - \u001B[1mlegal requirements for health impact\u001B[0m\n"
     ]
    },
    {
     "name": "stdout",
     "output_type": "stream",
     "text": [
      "[2, 2, 1, 1, 1, 1, 1, 1, 0, 1, 1, 0, 0, 1, 0, 1, 1, 1, 0, 1, 1, 2]\n",
      "22\n"
     ]
    }
   ],
   "execution_count": 367
  },
  {
   "metadata": {},
   "cell_type": "markdown",
   "source": "",
   "id": "a2725d115684d053"
  },
  {
   "metadata": {},
   "cell_type": "markdown",
   "source": "# OCR LAVA",
   "id": "761615c516b3463"
  },
  {
   "metadata": {
    "ExecuteTime": {
     "end_time": "2024-07-14T15:54:41.222292Z",
     "start_time": "2024-07-14T15:54:41.203514Z"
    }
   },
   "cell_type": "code",
   "source": [
    "# read data from csv file\n",
    "notebook_path = Path().resolve().parent\n",
    "print(notebook_path)\n",
    "\n",
    "# Construct the filename relative to the new path\n",
    "filename = notebook_path / \"notebooks/new_data/df_standard_ocr_lava.csv\"\n",
    "df_ocr_lava = pd.read_csv(filename)\n",
    "df_ocr_lava.head()"
   ],
   "id": "e8915696b5e8f18c",
   "outputs": [
    {
     "name": "stdout",
     "output_type": "stream",
     "text": [
      "C:\\Users\\baatout\\PycharmProjects\\afm-vlm\\experiments\\second_experiment\n"
     ]
    },
    {
     "data": {
      "text/plain": [
       "                                             Prompt  GT_Keyframe  Top_1  \\\n",
       "0                                 learning outcomes            3      3   \n",
       "1  What are the learning outcomes from the lecture?            3     45   \n",
       "2      What is the relation of protien and muscles?           26     27   \n",
       "3                             Essential fatty acids           29     29   \n",
       "4                                 fish oil capsules           30     30   \n",
       "\n",
       "   Top_2  Top_3  \n",
       "0     85      6  \n",
       "1      3     85  \n",
       "2     65     23  \n",
       "3     23     38  \n",
       "4     29      4  "
      ],
      "text/html": [
       "<div>\n",
       "<style scoped>\n",
       "    .dataframe tbody tr th:only-of-type {\n",
       "        vertical-align: middle;\n",
       "    }\n",
       "\n",
       "    .dataframe tbody tr th {\n",
       "        vertical-align: top;\n",
       "    }\n",
       "\n",
       "    .dataframe thead th {\n",
       "        text-align: right;\n",
       "    }\n",
       "</style>\n",
       "<table border=\"1\" class=\"dataframe\">\n",
       "  <thead>\n",
       "    <tr style=\"text-align: right;\">\n",
       "      <th></th>\n",
       "      <th>Prompt</th>\n",
       "      <th>GT_Keyframe</th>\n",
       "      <th>Top_1</th>\n",
       "      <th>Top_2</th>\n",
       "      <th>Top_3</th>\n",
       "    </tr>\n",
       "  </thead>\n",
       "  <tbody>\n",
       "    <tr>\n",
       "      <th>0</th>\n",
       "      <td>learning outcomes</td>\n",
       "      <td>3</td>\n",
       "      <td>3</td>\n",
       "      <td>85</td>\n",
       "      <td>6</td>\n",
       "    </tr>\n",
       "    <tr>\n",
       "      <th>1</th>\n",
       "      <td>What are the learning outcomes from the lecture?</td>\n",
       "      <td>3</td>\n",
       "      <td>45</td>\n",
       "      <td>3</td>\n",
       "      <td>85</td>\n",
       "    </tr>\n",
       "    <tr>\n",
       "      <th>2</th>\n",
       "      <td>What is the relation of protien and muscles?</td>\n",
       "      <td>26</td>\n",
       "      <td>27</td>\n",
       "      <td>65</td>\n",
       "      <td>23</td>\n",
       "    </tr>\n",
       "    <tr>\n",
       "      <th>3</th>\n",
       "      <td>Essential fatty acids</td>\n",
       "      <td>29</td>\n",
       "      <td>29</td>\n",
       "      <td>23</td>\n",
       "      <td>38</td>\n",
       "    </tr>\n",
       "    <tr>\n",
       "      <th>4</th>\n",
       "      <td>fish oil capsules</td>\n",
       "      <td>30</td>\n",
       "      <td>30</td>\n",
       "      <td>29</td>\n",
       "      <td>4</td>\n",
       "    </tr>\n",
       "  </tbody>\n",
       "</table>\n",
       "</div>"
      ]
     },
     "execution_count": 368,
     "metadata": {},
     "output_type": "execute_result"
    }
   ],
   "execution_count": 368
  },
  {
   "metadata": {
    "ExecuteTime": {
     "end_time": "2024-07-14T15:54:41.422582Z",
     "start_time": "2024-07-14T15:54:41.222292Z"
    }
   },
   "cell_type": "code",
   "source": [
    "# call\n",
    "calculate_and_plot_gt_keyframe_percentage(df_ocr_lava)"
   ],
   "id": "3ab6719b348fd451",
   "outputs": [
    {
     "name": "stdout",
     "output_type": "stream",
     "text": [
      "GT_Keyframe in Top 1: 50.00%\n",
      "GT_Keyframe in Top 2: 4.55%\n",
      "GT_Keyframe in Top 3: 13.64%\n"
     ]
    },
    {
     "data": {
      "text/plain": [
       "<Figure size 1000x600 with 0 Axes>"
      ]
     },
     "metadata": {},
     "output_type": "display_data"
    },
    {
     "data": {
      "text/plain": [
       "<Figure size 800x500 with 1 Axes>"
      ],
      "image/png": "[encoded data removed]"
     },
     "metadata": {},
     "output_type": "display_data"
    }
   ],
   "execution_count": 369
  },
  {
   "metadata": {
    "ExecuteTime": {
     "end_time": "2024-07-14T15:54:41.465327Z",
     "start_time": "2024-07-14T15:54:41.422582Z"
    }
   },
   "cell_type": "code",
   "source": [
    "# iterate through data frame \n",
    "df = df_ocr_lava\n",
    "# iterate through data frame \n",
    "res = []\n",
    "for _, row in df.iterrows():\n",
    "    logger.info(row['Prompt'])\n",
    "    gt_keyframe = row['GT_Keyframe']\n",
    "    prox = check_proximity_keyframes(gt_keyframe)\n",
    "    res.append(prox)\n",
    "\n",
    "prox_yes_no_ocr_lava = []\n",
    "for i, row in df.iterrows():\n",
    "    if row['Top_1'] in res[i]:\n",
    "        prox_yes_no_ocr_lava.append(1)\n",
    "    elif row['Top_2'] in res[i]:\n",
    "        prox_yes_no_ocr_lava.append(2)\n",
    "    elif row['Top_3'] in res[i]:\n",
    "        prox_yes_no_ocr_lava.append(3)\n",
    "    else:\n",
    "        prox_yes_no_ocr_lava.append(0)\n",
    "\n",
    "print(prox_yes_no_ocr_lava)"
   ],
   "id": "a4e1fadec64a0dd4",
   "outputs": [
    {
     "name": "stderr",
     "output_type": "stream",
     "text": [
      "\u001B[32m2024-07-14 17:54:41.422\u001B[0m | \u001B[1mINFO    \u001B[0m | \u001B[36m__main__\u001B[0m:\u001B[36m<module>\u001B[0m:\u001B[36m6\u001B[0m - \u001B[1mlearning outcomes\u001B[0m\n",
      "\u001B[32m2024-07-14 17:54:41.422\u001B[0m | \u001B[1mINFO    \u001B[0m | \u001B[36m__main__\u001B[0m:\u001B[36m<module>\u001B[0m:\u001B[36m6\u001B[0m - \u001B[1mWhat are the learning outcomes from the lecture?\u001B[0m\n",
      "\u001B[32m2024-07-14 17:54:41.422\u001B[0m | \u001B[1mINFO    \u001B[0m | \u001B[36m__main__\u001B[0m:\u001B[36m<module>\u001B[0m:\u001B[36m6\u001B[0m - \u001B[1mWhat is the relation of protien and muscles?\u001B[0m\n",
      "\u001B[32m2024-07-14 17:54:41.422\u001B[0m | \u001B[1mINFO    \u001B[0m | \u001B[36m__main__\u001B[0m:\u001B[36m<module>\u001B[0m:\u001B[36m6\u001B[0m - \u001B[1mEssential fatty acids\u001B[0m\n",
      "\u001B[32m2024-07-14 17:54:41.435\u001B[0m | \u001B[1mINFO    \u001B[0m | \u001B[36m__main__\u001B[0m:\u001B[36m<module>\u001B[0m:\u001B[36m6\u001B[0m - \u001B[1mfish oil capsules\u001B[0m\n",
      "\u001B[32m2024-07-14 17:54:41.435\u001B[0m | \u001B[1mINFO    \u001B[0m | \u001B[36m__main__\u001B[0m:\u001B[36m<module>\u001B[0m:\u001B[36m6\u001B[0m - \u001B[1mwhat is the functioning of fish oil capsules and its relation to vitamins\u001B[0m\n",
      "\u001B[32m2024-07-14 17:54:41.435\u001B[0m | \u001B[1mINFO    \u001B[0m | \u001B[36m__main__\u001B[0m:\u001B[36m<module>\u001B[0m:\u001B[36m6\u001B[0m - \u001B[1mcalcium as micronutrient\u001B[0m\n",
      "\u001B[32m2024-07-14 17:54:41.435\u001B[0m | \u001B[1mINFO    \u001B[0m | \u001B[36m__main__\u001B[0m:\u001B[36m<module>\u001B[0m:\u001B[36m6\u001B[0m - \u001B[1mExplain where vitamins function as coenzymes\u001B[0m\n",
      "\u001B[32m2024-07-14 17:54:41.435\u001B[0m | \u001B[1mINFO    \u001B[0m | \u001B[36m__main__\u001B[0m:\u001B[36m<module>\u001B[0m:\u001B[36m6\u001B[0m - \u001B[1mGive a list of food items where I can attain some important micronutrient\u001B[0m\n",
      "\u001B[32m2024-07-14 17:54:41.435\u001B[0m | \u001B[1mINFO    \u001B[0m | \u001B[36m__main__\u001B[0m:\u001B[36m<module>\u001B[0m:\u001B[36m6\u001B[0m - \u001B[1mwhat is calcium commonly supplemented for\u001B[0m\n",
      "\u001B[32m2024-07-14 17:54:41.435\u001B[0m | \u001B[1mINFO    \u001B[0m | \u001B[36m__main__\u001B[0m:\u001B[36m<module>\u001B[0m:\u001B[36m6\u001B[0m - \u001B[1mHow are nutrients extracted from plant cells\u001B[0m\n",
      "\u001B[32m2024-07-14 17:54:41.435\u001B[0m | \u001B[1mINFO    \u001B[0m | \u001B[36m__main__\u001B[0m:\u001B[36m<module>\u001B[0m:\u001B[36m6\u001B[0m - \u001B[1mflavanol food sources\u001B[0m\n",
      "\u001B[32m2024-07-14 17:54:41.435\u001B[0m | \u001B[1mINFO    \u001B[0m | \u001B[36m__main__\u001B[0m:\u001B[36m<module>\u001B[0m:\u001B[36m6\u001B[0m - \u001B[1mwhat are the main food sources of lycopene red fruits\u001B[0m\n",
      "\u001B[32m2024-07-14 17:54:41.435\u001B[0m | \u001B[1mINFO    \u001B[0m | \u001B[36m__main__\u001B[0m:\u001B[36m<module>\u001B[0m:\u001B[36m6\u001B[0m - \u001B[1mwhat is semipermeable in plasma membrane\u001B[0m\n",
      "\u001B[32m2024-07-14 17:54:41.435\u001B[0m | \u001B[1mINFO    \u001B[0m | \u001B[36m__main__\u001B[0m:\u001B[36m<module>\u001B[0m:\u001B[36m6\u001B[0m - \u001B[1mpigment chlorophyll\u001B[0m\n",
      "\u001B[32m2024-07-14 17:54:41.450\u001B[0m | \u001B[1mINFO    \u001B[0m | \u001B[36m__main__\u001B[0m:\u001B[36m<module>\u001B[0m:\u001B[36m6\u001B[0m - \u001B[1mexplain subcellular structures such as the structures to recycle molecules in the digestive tract\u001B[0m\n",
      "\u001B[32m2024-07-14 17:54:41.450\u001B[0m | \u001B[1mINFO    \u001B[0m | \u001B[36m__main__\u001B[0m:\u001B[36m<module>\u001B[0m:\u001B[36m6\u001B[0m - \u001B[1mPassive transport molecules\u001B[0m\n",
      "\u001B[32m2024-07-14 17:54:41.450\u001B[0m | \u001B[1mINFO    \u001B[0m | \u001B[36m__main__\u001B[0m:\u001B[36m<module>\u001B[0m:\u001B[36m6\u001B[0m - \u001B[1mrole of centrioles for cell division\u001B[0m\n",
      "\u001B[32m2024-07-14 17:54:41.450\u001B[0m | \u001B[1mINFO    \u001B[0m | \u001B[36m__main__\u001B[0m:\u001B[36m<module>\u001B[0m:\u001B[36m6\u001B[0m - \u001B[1mHow do protients facilitate hydrophilic substances to travel across cell membrane\u001B[0m\n",
      "\u001B[32m2024-07-14 17:54:41.450\u001B[0m | \u001B[1mINFO    \u001B[0m | \u001B[36m__main__\u001B[0m:\u001B[36m<module>\u001B[0m:\u001B[36m6\u001B[0m - \u001B[1mCormoday oxide\u001B[0m\n",
      "\u001B[32m2024-07-14 17:54:41.450\u001B[0m | \u001B[1mINFO    \u001B[0m | \u001B[36m__main__\u001B[0m:\u001B[36m<module>\u001B[0m:\u001B[36m6\u001B[0m - \u001B[1mFDA testing\u001B[0m\n",
      "\u001B[32m2024-07-14 17:54:41.450\u001B[0m | \u001B[1mINFO    \u001B[0m | \u001B[36m__main__\u001B[0m:\u001B[36m<module>\u001B[0m:\u001B[36m6\u001B[0m - \u001B[1mlegal requirements for health impact\u001B[0m\n"
     ]
    },
    {
     "name": "stdout",
     "output_type": "stream",
     "text": [
      "[1, 2, 1, 1, 1, 1, 1, 1, 1, 1, 1, 0, 2, 1, 0, 1, 2, 1, 0, 1, 1, 3]\n"
     ]
    }
   ],
   "execution_count": 370
  },
  {
   "metadata": {},
   "cell_type": "markdown",
   "source": "",
   "id": "4e1451ddfe56c66"
  },
  {
   "metadata": {},
   "cell_type": "markdown",
   "source": "# LLM Long Summary",
   "id": "7b24d14ced6b0717"
  },
  {
   "metadata": {
    "ExecuteTime": {
     "end_time": "2024-07-14T15:54:41.484556Z",
     "start_time": "2024-07-14T15:54:41.467825Z"
    }
   },
   "cell_type": "code",
   "source": [
    "# read data from csv file\n",
    "notebook_path = Path().resolve().parent\n",
    "print(notebook_path)\n",
    "\n",
    "# Construct the filename relative to the new path\n",
    "filename = notebook_path / \"notebooks/new_data/df_standard_llm_long_summary.csv\"\n",
    "df_long_summary = pd.read_csv(filename)\n",
    "df_long_summary.head()"
   ],
   "id": "80db1f084d7a50c0",
   "outputs": [
    {
     "name": "stdout",
     "output_type": "stream",
     "text": [
      "C:\\Users\\baatout\\PycharmProjects\\afm-vlm\\experiments\\second_experiment\n"
     ]
    },
    {
     "data": {
      "text/plain": [
       "                                             Prompt  GT_Keyframe  Top_1  \\\n",
       "0                                 learning outcomes            3     85   \n",
       "1  What are the learning outcomes from the lecture?            3     85   \n",
       "2      What is the relation of protien and muscles?           26     24   \n",
       "3                             Essential fatty acids           29     29   \n",
       "4                                 fish oil capsules           30     30   \n",
       "\n",
       "   Top_2  Top_3  \n",
       "0      3      4  \n",
       "1      3      1  \n",
       "2     65     27  \n",
       "3     28     37  \n",
       "4     34     29  "
      ],
      "text/html": [
       "<div>\n",
       "<style scoped>\n",
       "    .dataframe tbody tr th:only-of-type {\n",
       "        vertical-align: middle;\n",
       "    }\n",
       "\n",
       "    .dataframe tbody tr th {\n",
       "        vertical-align: top;\n",
       "    }\n",
       "\n",
       "    .dataframe thead th {\n",
       "        text-align: right;\n",
       "    }\n",
       "</style>\n",
       "<table border=\"1\" class=\"dataframe\">\n",
       "  <thead>\n",
       "    <tr style=\"text-align: right;\">\n",
       "      <th></th>\n",
       "      <th>Prompt</th>\n",
       "      <th>GT_Keyframe</th>\n",
       "      <th>Top_1</th>\n",
       "      <th>Top_2</th>\n",
       "      <th>Top_3</th>\n",
       "    </tr>\n",
       "  </thead>\n",
       "  <tbody>\n",
       "    <tr>\n",
       "      <th>0</th>\n",
       "      <td>learning outcomes</td>\n",
       "      <td>3</td>\n",
       "      <td>85</td>\n",
       "      <td>3</td>\n",
       "      <td>4</td>\n",
       "    </tr>\n",
       "    <tr>\n",
       "      <th>1</th>\n",
       "      <td>What are the learning outcomes from the lecture?</td>\n",
       "      <td>3</td>\n",
       "      <td>85</td>\n",
       "      <td>3</td>\n",
       "      <td>1</td>\n",
       "    </tr>\n",
       "    <tr>\n",
       "      <th>2</th>\n",
       "      <td>What is the relation of protien and muscles?</td>\n",
       "      <td>26</td>\n",
       "      <td>24</td>\n",
       "      <td>65</td>\n",
       "      <td>27</td>\n",
       "    </tr>\n",
       "    <tr>\n",
       "      <th>3</th>\n",
       "      <td>Essential fatty acids</td>\n",
       "      <td>29</td>\n",
       "      <td>29</td>\n",
       "      <td>28</td>\n",
       "      <td>37</td>\n",
       "    </tr>\n",
       "    <tr>\n",
       "      <th>4</th>\n",
       "      <td>fish oil capsules</td>\n",
       "      <td>30</td>\n",
       "      <td>30</td>\n",
       "      <td>34</td>\n",
       "      <td>29</td>\n",
       "    </tr>\n",
       "  </tbody>\n",
       "</table>\n",
       "</div>"
      ]
     },
     "execution_count": 371,
     "metadata": {},
     "output_type": "execute_result"
    }
   ],
   "execution_count": 371
  },
  {
   "metadata": {
    "ExecuteTime": {
     "end_time": "2024-07-14T15:54:41.678611Z",
     "start_time": "2024-07-14T15:54:41.484556Z"
    }
   },
   "cell_type": "code",
   "source": [
    "# call\n",
    "calculate_and_plot_gt_keyframe_percentage(df_long_summary)"
   ],
   "id": "6efa71b20ff7e470",
   "outputs": [
    {
     "name": "stdout",
     "output_type": "stream",
     "text": [
      "GT_Keyframe in Top 1: 45.45%\n",
      "GT_Keyframe in Top 2: 18.18%\n",
      "GT_Keyframe in Top 3: 9.09%\n"
     ]
    },
    {
     "data": {
      "text/plain": [
       "<Figure size 1000x600 with 0 Axes>"
      ]
     },
     "metadata": {},
     "output_type": "display_data"
    },
    {
     "data": {
      "text/plain": [
       "<Figure size 800x500 with 1 Axes>"
      ],
      "image/png": "[encoded data removed]"
     },
     "metadata": {},
     "output_type": "display_data"
    }
   ],
   "execution_count": 372
  },
  {
   "metadata": {},
   "cell_type": "markdown",
   "source": "",
   "id": "15dd2fbc69921133"
  },
  {
   "metadata": {
    "ExecuteTime": {
     "end_time": "2024-07-14T15:54:41.721511Z",
     "start_time": "2024-07-14T15:54:41.681253Z"
    }
   },
   "cell_type": "code",
   "source": [
    "# iterate through data frame \n",
    "df = df_long_summary\n",
    "res = []\n",
    "for _, row in df.iterrows():\n",
    "    logger.info(row['Prompt'])\n",
    "    gt_keyframe = row['GT_Keyframe']\n",
    "    prox = check_proximity_keyframes(gt_keyframe)\n",
    "    res.append(prox)\n",
    "\n",
    "prox_yes_no_long_summary = []\n",
    "for i, row in df.iterrows():\n",
    "    if row['Top_1'] in res[i]:\n",
    "        prox_yes_no_long_summary.append(1)\n",
    "    elif row['Top_2'] in res[i]:\n",
    "        prox_yes_no_long_summary.append(2)\n",
    "    elif row['Top_3'] in res[i]:\n",
    "        prox_yes_no_long_summary.append(3)\n",
    "    else:\n",
    "        prox_yes_no_long_summary.append(0)\n",
    "\n",
    "print(prox_yes_no_long_summary)"
   ],
   "id": "1e5707a909f3b6fa",
   "outputs": [
    {
     "name": "stderr",
     "output_type": "stream",
     "text": [
      "\u001B[32m2024-07-14 17:54:41.685\u001B[0m | \u001B[1mINFO    \u001B[0m | \u001B[36m__main__\u001B[0m:\u001B[36m<module>\u001B[0m:\u001B[36m5\u001B[0m - \u001B[1mlearning outcomes\u001B[0m\n",
      "\u001B[32m2024-07-14 17:54:41.687\u001B[0m | \u001B[1mINFO    \u001B[0m | \u001B[36m__main__\u001B[0m:\u001B[36m<module>\u001B[0m:\u001B[36m5\u001B[0m - \u001B[1mWhat are the learning outcomes from the lecture?\u001B[0m\n",
      "\u001B[32m2024-07-14 17:54:41.689\u001B[0m | \u001B[1mINFO    \u001B[0m | \u001B[36m__main__\u001B[0m:\u001B[36m<module>\u001B[0m:\u001B[36m5\u001B[0m - \u001B[1mWhat is the relation of protien and muscles?\u001B[0m\n",
      "\u001B[32m2024-07-14 17:54:41.691\u001B[0m | \u001B[1mINFO    \u001B[0m | \u001B[36m__main__\u001B[0m:\u001B[36m<module>\u001B[0m:\u001B[36m5\u001B[0m - \u001B[1mEssential fatty acids\u001B[0m\n",
      "\u001B[32m2024-07-14 17:54:41.692\u001B[0m | \u001B[1mINFO    \u001B[0m | \u001B[36m__main__\u001B[0m:\u001B[36m<module>\u001B[0m:\u001B[36m5\u001B[0m - \u001B[1mfish oil capsules\u001B[0m\n",
      "\u001B[32m2024-07-14 17:54:41.693\u001B[0m | \u001B[1mINFO    \u001B[0m | \u001B[36m__main__\u001B[0m:\u001B[36m<module>\u001B[0m:\u001B[36m5\u001B[0m - \u001B[1mwhat is the functioning of fish oil capsules and its relation to vitamins\u001B[0m\n",
      "\u001B[32m2024-07-14 17:54:41.694\u001B[0m | \u001B[1mINFO    \u001B[0m | \u001B[36m__main__\u001B[0m:\u001B[36m<module>\u001B[0m:\u001B[36m5\u001B[0m - \u001B[1mcalcium as micronutrient\u001B[0m\n",
      "\u001B[32m2024-07-14 17:54:41.695\u001B[0m | \u001B[1mINFO    \u001B[0m | \u001B[36m__main__\u001B[0m:\u001B[36m<module>\u001B[0m:\u001B[36m5\u001B[0m - \u001B[1mExplain where vitamins function as coenzymes\u001B[0m\n",
      "\u001B[32m2024-07-14 17:54:41.697\u001B[0m | \u001B[1mINFO    \u001B[0m | \u001B[36m__main__\u001B[0m:\u001B[36m<module>\u001B[0m:\u001B[36m5\u001B[0m - \u001B[1mGive a list of food items where I can attain some important micronutrient\u001B[0m\n",
      "\u001B[32m2024-07-14 17:54:41.699\u001B[0m | \u001B[1mINFO    \u001B[0m | \u001B[36m__main__\u001B[0m:\u001B[36m<module>\u001B[0m:\u001B[36m5\u001B[0m - \u001B[1mwhat is calcium commonly supplemented for\u001B[0m\n",
      "\u001B[32m2024-07-14 17:54:41.701\u001B[0m | \u001B[1mINFO    \u001B[0m | \u001B[36m__main__\u001B[0m:\u001B[36m<module>\u001B[0m:\u001B[36m5\u001B[0m - \u001B[1mHow are nutrients extracted from plant cells\u001B[0m\n",
      "\u001B[32m2024-07-14 17:54:41.703\u001B[0m | \u001B[1mINFO    \u001B[0m | \u001B[36m__main__\u001B[0m:\u001B[36m<module>\u001B[0m:\u001B[36m5\u001B[0m - \u001B[1mflavanol food sources\u001B[0m\n",
      "\u001B[32m2024-07-14 17:54:41.703\u001B[0m | \u001B[1mINFO    \u001B[0m | \u001B[36m__main__\u001B[0m:\u001B[36m<module>\u001B[0m:\u001B[36m5\u001B[0m - \u001B[1mwhat are the main food sources of lycopene red fruits\u001B[0m\n",
      "\u001B[32m2024-07-14 17:54:41.706\u001B[0m | \u001B[1mINFO    \u001B[0m | \u001B[36m__main__\u001B[0m:\u001B[36m<module>\u001B[0m:\u001B[36m5\u001B[0m - \u001B[1mwhat is semipermeable in plasma membrane\u001B[0m\n",
      "\u001B[32m2024-07-14 17:54:41.706\u001B[0m | \u001B[1mINFO    \u001B[0m | \u001B[36m__main__\u001B[0m:\u001B[36m<module>\u001B[0m:\u001B[36m5\u001B[0m - \u001B[1mpigment chlorophyll\u001B[0m\n",
      "\u001B[32m2024-07-14 17:54:41.706\u001B[0m | \u001B[1mINFO    \u001B[0m | \u001B[36m__main__\u001B[0m:\u001B[36m<module>\u001B[0m:\u001B[36m5\u001B[0m - \u001B[1mexplain subcellular structures such as the structures to recycle molecules in the digestive tract\u001B[0m\n",
      "\u001B[32m2024-07-14 17:54:41.706\u001B[0m | \u001B[1mINFO    \u001B[0m | \u001B[36m__main__\u001B[0m:\u001B[36m<module>\u001B[0m:\u001B[36m5\u001B[0m - \u001B[1mPassive transport molecules\u001B[0m\n",
      "\u001B[32m2024-07-14 17:54:41.706\u001B[0m | \u001B[1mINFO    \u001B[0m | \u001B[36m__main__\u001B[0m:\u001B[36m<module>\u001B[0m:\u001B[36m5\u001B[0m - \u001B[1mrole of centrioles for cell division\u001B[0m\n",
      "\u001B[32m2024-07-14 17:54:41.706\u001B[0m | \u001B[1mINFO    \u001B[0m | \u001B[36m__main__\u001B[0m:\u001B[36m<module>\u001B[0m:\u001B[36m5\u001B[0m - \u001B[1mHow do protients facilitate hydrophilic substances to travel across cell membrane\u001B[0m\n",
      "\u001B[32m2024-07-14 17:54:41.706\u001B[0m | \u001B[1mINFO    \u001B[0m | \u001B[36m__main__\u001B[0m:\u001B[36m<module>\u001B[0m:\u001B[36m5\u001B[0m - \u001B[1mCormoday oxide\u001B[0m\n",
      "\u001B[32m2024-07-14 17:54:41.706\u001B[0m | \u001B[1mINFO    \u001B[0m | \u001B[36m__main__\u001B[0m:\u001B[36m<module>\u001B[0m:\u001B[36m5\u001B[0m - \u001B[1mFDA testing\u001B[0m\n",
      "\u001B[32m2024-07-14 17:54:41.706\u001B[0m | \u001B[1mINFO    \u001B[0m | \u001B[36m__main__\u001B[0m:\u001B[36m<module>\u001B[0m:\u001B[36m5\u001B[0m - \u001B[1mlegal requirements for health impact\u001B[0m\n"
     ]
    },
    {
     "name": "stdout",
     "output_type": "stream",
     "text": [
      "[2, 2, 1, 1, 1, 1, 1, 1, 1, 1, 1, 0, 3, 1, 1, 1, 2, 1, 0, 1, 1, 3]\n"
     ]
    }
   ],
   "execution_count": 373
  },
  {
   "metadata": {},
   "cell_type": "markdown",
   "source": "# OCR TRANSCRIPTIONS - Still not possible since they are nans",
   "id": "e93e5e5fc5c70dfc"
  },
  {
   "metadata": {
    "ExecuteTime": {
     "end_time": "2024-07-14T15:54:41.738783Z",
     "start_time": "2024-07-14T15:54:41.721511Z"
    }
   },
   "cell_type": "code",
   "source": [
    "# read data from csv file\n",
    "notebook_path = Path().resolve().parent\n",
    "print(notebook_path)\n",
    "\n",
    "# Construct the filename relative to the new path\n",
    "filename = notebook_path / \"notebooks/new_data/df_standard_df_ocr_transcriptions.csv\"\n",
    "\n",
    "df_ocr_transcriptions = pd.read_csv(filename)\n",
    "df_ocr_transcriptions.head()"
   ],
   "id": "ea27443f9c013f6e",
   "outputs": [
    {
     "name": "stdout",
     "output_type": "stream",
     "text": [
      "C:\\Users\\baatout\\PycharmProjects\\afm-vlm\\experiments\\second_experiment\n"
     ]
    },
    {
     "data": {
      "text/plain": [
       "                                             Prompt  GT_Keyframe  Top_1  \\\n",
       "0                                 learning outcomes            3      3   \n",
       "1  What are the learning outcomes from the lecture?            3     85   \n",
       "2      What is the relation of protien and muscles?           26     27   \n",
       "3                             Essential fatty acids           29     34   \n",
       "4                                 fish oil capsules           30     30   \n",
       "\n",
       "   Top_2  Top_3  \n",
       "0     85     66  \n",
       "1      3     66  \n",
       "2     24     25  \n",
       "3     29     28  \n",
       "4     36     34  "
      ],
      "text/html": [
       "<div>\n",
       "<style scoped>\n",
       "    .dataframe tbody tr th:only-of-type {\n",
       "        vertical-align: middle;\n",
       "    }\n",
       "\n",
       "    .dataframe tbody tr th {\n",
       "        vertical-align: top;\n",
       "    }\n",
       "\n",
       "    .dataframe thead th {\n",
       "        text-align: right;\n",
       "    }\n",
       "</style>\n",
       "<table border=\"1\" class=\"dataframe\">\n",
       "  <thead>\n",
       "    <tr style=\"text-align: right;\">\n",
       "      <th></th>\n",
       "      <th>Prompt</th>\n",
       "      <th>GT_Keyframe</th>\n",
       "      <th>Top_1</th>\n",
       "      <th>Top_2</th>\n",
       "      <th>Top_3</th>\n",
       "    </tr>\n",
       "  </thead>\n",
       "  <tbody>\n",
       "    <tr>\n",
       "      <th>0</th>\n",
       "      <td>learning outcomes</td>\n",
       "      <td>3</td>\n",
       "      <td>3</td>\n",
       "      <td>85</td>\n",
       "      <td>66</td>\n",
       "    </tr>\n",
       "    <tr>\n",
       "      <th>1</th>\n",
       "      <td>What are the learning outcomes from the lecture?</td>\n",
       "      <td>3</td>\n",
       "      <td>85</td>\n",
       "      <td>3</td>\n",
       "      <td>66</td>\n",
       "    </tr>\n",
       "    <tr>\n",
       "      <th>2</th>\n",
       "      <td>What is the relation of protien and muscles?</td>\n",
       "      <td>26</td>\n",
       "      <td>27</td>\n",
       "      <td>24</td>\n",
       "      <td>25</td>\n",
       "    </tr>\n",
       "    <tr>\n",
       "      <th>3</th>\n",
       "      <td>Essential fatty acids</td>\n",
       "      <td>29</td>\n",
       "      <td>34</td>\n",
       "      <td>29</td>\n",
       "      <td>28</td>\n",
       "    </tr>\n",
       "    <tr>\n",
       "      <th>4</th>\n",
       "      <td>fish oil capsules</td>\n",
       "      <td>30</td>\n",
       "      <td>30</td>\n",
       "      <td>36</td>\n",
       "      <td>34</td>\n",
       "    </tr>\n",
       "  </tbody>\n",
       "</table>\n",
       "</div>"
      ]
     },
     "execution_count": 374,
     "metadata": {},
     "output_type": "execute_result"
    }
   ],
   "execution_count": 374
  },
  {
   "metadata": {
    "ExecuteTime": {
     "end_time": "2024-07-14T15:54:41.967243Z",
     "start_time": "2024-07-14T15:54:41.738783Z"
    }
   },
   "cell_type": "code",
   "source": [
    "# call\n",
    "calculate_and_plot_gt_keyframe_percentage(df_ocr_transcriptions)"
   ],
   "id": "199142302befe683",
   "outputs": [
    {
     "name": "stdout",
     "output_type": "stream",
     "text": [
      "GT_Keyframe in Top 1: 59.09%\n",
      "GT_Keyframe in Top 2: 18.18%\n",
      "GT_Keyframe in Top 3: 0.00%\n"
     ]
    },
    {
     "data": {
      "text/plain": [
       "<Figure size 1000x600 with 0 Axes>"
      ]
     },
     "metadata": {},
     "output_type": "display_data"
    },
    {
     "data": {
      "text/plain": [
       "<Figure size 800x500 with 1 Axes>"
      ],
      "image/png": "[encoded data removed]"
     },
     "metadata": {},
     "output_type": "display_data"
    }
   ],
   "execution_count": 375
  },
  {
   "metadata": {
    "ExecuteTime": {
     "end_time": "2024-07-14T15:54:42.011Z",
     "start_time": "2024-07-14T15:54:41.967943Z"
    }
   },
   "cell_type": "code",
   "source": [
    "df = df_ocr_transcriptions\n",
    "res = []\n",
    "for _, row in df.iterrows():\n",
    "    logger.info(row['Prompt'])\n",
    "    gt_keyframe = row['GT_Keyframe']\n",
    "    prox = check_proximity_keyframes(gt_keyframe)\n",
    "    res.append(prox)\n",
    "\n",
    "prox_yes_no_ocr_transcriptions = []\n",
    "for i, row in df.iterrows():\n",
    "    if row['Top_1'] in res[i]:\n",
    "        prox_yes_no_ocr_transcriptions.append(1)\n",
    "    elif row['Top_2'] in res[i]:\n",
    "        prox_yes_no_ocr_transcriptions.append(2)\n",
    "    elif row['Top_3'] in res[i]:\n",
    "        prox_yes_no_ocr_transcriptions.append(3)\n",
    "    else:\n",
    "        prox_yes_no_ocr_transcriptions.append(0)\n",
    "\n",
    "print(prox_yes_no_ocr_transcriptions)"
   ],
   "id": "db7da707ad314ac7",
   "outputs": [
    {
     "name": "stderr",
     "output_type": "stream",
     "text": [
      "\u001B[32m2024-07-14 17:54:41.975\u001B[0m | \u001B[1mINFO    \u001B[0m | \u001B[36m__main__\u001B[0m:\u001B[36m<module>\u001B[0m:\u001B[36m4\u001B[0m - \u001B[1mlearning outcomes\u001B[0m\n",
      "\u001B[32m2024-07-14 17:54:41.977\u001B[0m | \u001B[1mINFO    \u001B[0m | \u001B[36m__main__\u001B[0m:\u001B[36m<module>\u001B[0m:\u001B[36m4\u001B[0m - \u001B[1mWhat are the learning outcomes from the lecture?\u001B[0m\n",
      "\u001B[32m2024-07-14 17:54:41.978\u001B[0m | \u001B[1mINFO    \u001B[0m | \u001B[36m__main__\u001B[0m:\u001B[36m<module>\u001B[0m:\u001B[36m4\u001B[0m - \u001B[1mWhat is the relation of protien and muscles?\u001B[0m\n",
      "\u001B[32m2024-07-14 17:54:41.979\u001B[0m | \u001B[1mINFO    \u001B[0m | \u001B[36m__main__\u001B[0m:\u001B[36m<module>\u001B[0m:\u001B[36m4\u001B[0m - \u001B[1mEssential fatty acids\u001B[0m\n",
      "\u001B[32m2024-07-14 17:54:41.980\u001B[0m | \u001B[1mINFO    \u001B[0m | \u001B[36m__main__\u001B[0m:\u001B[36m<module>\u001B[0m:\u001B[36m4\u001B[0m - \u001B[1mfish oil capsules\u001B[0m\n",
      "\u001B[32m2024-07-14 17:54:41.982\u001B[0m | \u001B[1mINFO    \u001B[0m | \u001B[36m__main__\u001B[0m:\u001B[36m<module>\u001B[0m:\u001B[36m4\u001B[0m - \u001B[1mwhat is the functioning of fish oil capsules and its relation to vitamins\u001B[0m\n",
      "\u001B[32m2024-07-14 17:54:41.983\u001B[0m | \u001B[1mINFO    \u001B[0m | \u001B[36m__main__\u001B[0m:\u001B[36m<module>\u001B[0m:\u001B[36m4\u001B[0m - \u001B[1mcalcium as micronutrient\u001B[0m\n",
      "\u001B[32m2024-07-14 17:54:41.985\u001B[0m | \u001B[1mINFO    \u001B[0m | \u001B[36m__main__\u001B[0m:\u001B[36m<module>\u001B[0m:\u001B[36m4\u001B[0m - \u001B[1mExplain where vitamins function as coenzymes\u001B[0m\n",
      "\u001B[32m2024-07-14 17:54:41.986\u001B[0m | \u001B[1mINFO    \u001B[0m | \u001B[36m__main__\u001B[0m:\u001B[36m<module>\u001B[0m:\u001B[36m4\u001B[0m - \u001B[1mGive a list of food items where I can attain some important micronutrient\u001B[0m\n",
      "\u001B[32m2024-07-14 17:54:41.989\u001B[0m | \u001B[1mINFO    \u001B[0m | \u001B[36m__main__\u001B[0m:\u001B[36m<module>\u001B[0m:\u001B[36m4\u001B[0m - \u001B[1mwhat is calcium commonly supplemented for\u001B[0m\n",
      "\u001B[32m2024-07-14 17:54:41.990\u001B[0m | \u001B[1mINFO    \u001B[0m | \u001B[36m__main__\u001B[0m:\u001B[36m<module>\u001B[0m:\u001B[36m4\u001B[0m - \u001B[1mHow are nutrients extracted from plant cells\u001B[0m\n",
      "\u001B[32m2024-07-14 17:54:41.991\u001B[0m | \u001B[1mINFO    \u001B[0m | \u001B[36m__main__\u001B[0m:\u001B[36m<module>\u001B[0m:\u001B[36m4\u001B[0m - \u001B[1mflavanol food sources\u001B[0m\n",
      "\u001B[32m2024-07-14 17:54:41.993\u001B[0m | \u001B[1mINFO    \u001B[0m | \u001B[36m__main__\u001B[0m:\u001B[36m<module>\u001B[0m:\u001B[36m4\u001B[0m - \u001B[1mwhat are the main food sources of lycopene red fruits\u001B[0m\n",
      "\u001B[32m2024-07-14 17:54:41.995\u001B[0m | \u001B[1mINFO    \u001B[0m | \u001B[36m__main__\u001B[0m:\u001B[36m<module>\u001B[0m:\u001B[36m4\u001B[0m - \u001B[1mwhat is semipermeable in plasma membrane\u001B[0m\n",
      "\u001B[32m2024-07-14 17:54:41.996\u001B[0m | \u001B[1mINFO    \u001B[0m | \u001B[36m__main__\u001B[0m:\u001B[36m<module>\u001B[0m:\u001B[36m4\u001B[0m - \u001B[1mpigment chlorophyll\u001B[0m\n",
      "\u001B[32m2024-07-14 17:54:41.997\u001B[0m | \u001B[1mINFO    \u001B[0m | \u001B[36m__main__\u001B[0m:\u001B[36m<module>\u001B[0m:\u001B[36m4\u001B[0m - \u001B[1mexplain subcellular structures such as the structures to recycle molecules in the digestive tract\u001B[0m\n",
      "\u001B[32m2024-07-14 17:54:41.999\u001B[0m | \u001B[1mINFO    \u001B[0m | \u001B[36m__main__\u001B[0m:\u001B[36m<module>\u001B[0m:\u001B[36m4\u001B[0m - \u001B[1mPassive transport molecules\u001B[0m\n",
      "\u001B[32m2024-07-14 17:54:42.000\u001B[0m | \u001B[1mINFO    \u001B[0m | \u001B[36m__main__\u001B[0m:\u001B[36m<module>\u001B[0m:\u001B[36m4\u001B[0m - \u001B[1mrole of centrioles for cell division\u001B[0m\n",
      "\u001B[32m2024-07-14 17:54:42.001\u001B[0m | \u001B[1mINFO    \u001B[0m | \u001B[36m__main__\u001B[0m:\u001B[36m<module>\u001B[0m:\u001B[36m4\u001B[0m - \u001B[1mHow do protients facilitate hydrophilic substances to travel across cell membrane\u001B[0m\n",
      "\u001B[32m2024-07-14 17:54:42.002\u001B[0m | \u001B[1mINFO    \u001B[0m | \u001B[36m__main__\u001B[0m:\u001B[36m<module>\u001B[0m:\u001B[36m4\u001B[0m - \u001B[1mCormoday oxide\u001B[0m\n",
      "\u001B[32m2024-07-14 17:54:42.004\u001B[0m | \u001B[1mINFO    \u001B[0m | \u001B[36m__main__\u001B[0m:\u001B[36m<module>\u001B[0m:\u001B[36m4\u001B[0m - \u001B[1mFDA testing\u001B[0m\n",
      "\u001B[32m2024-07-14 17:54:42.004\u001B[0m | \u001B[1mINFO    \u001B[0m | \u001B[36m__main__\u001B[0m:\u001B[36m<module>\u001B[0m:\u001B[36m4\u001B[0m - \u001B[1mlegal requirements for health impact\u001B[0m\n"
     ]
    },
    {
     "name": "stdout",
     "output_type": "stream",
     "text": [
      "[1, 2, 1, 2, 1, 1, 1, 1, 1, 1, 1, 0, 2, 1, 0, 1, 1, 1, 0, 1, 1, 1]\n"
     ]
    }
   ],
   "execution_count": 376
  },
  {
   "metadata": {},
   "cell_type": "markdown",
   "source": "",
   "id": "794872762471d186"
  },
  {
   "metadata": {
    "ExecuteTime": {
     "end_time": "2024-07-14T15:54:42.049911Z",
     "start_time": "2024-07-14T15:54:42.036803Z"
    }
   },
   "cell_type": "code",
   "source": [
    "import pandas as pd\n",
    "import matplotlib.pyplot as plt\n",
    "import numpy as np\n",
    "\n",
    "\n",
    "def total_top_3_percentage_plot_bar(data_1, data_2, data_3, data_4):\n",
    "    def calculate_top_3_percentages(df):\n",
    "        total = len(df)\n",
    "        top_1_count = (df['GT_Keyframe'] == df['Top_1']).sum()\n",
    "        top_2_count = (df['GT_Keyframe'] == df['Top_2']).sum()\n",
    "        top_3_count = (df['GT_Keyframe'] == df['Top_3']).sum()\n",
    "\n",
    "        top_1_percentage = (top_1_count / total) * 100\n",
    "        top_2_percentage = (top_2_count / total) * 100\n",
    "        top_3_percentage = (top_3_count / total) * 100\n",
    "\n",
    "        return top_1_percentage, top_2_percentage, top_3_percentage\n",
    "\n",
    "    # Convert data to DataFrames\n",
    "    df1 = pd.DataFrame(data_1)\n",
    "    df2 = pd.DataFrame(data_2)\n",
    "    df3 = pd.DataFrame(data_3)\n",
    "    df4 = pd.DataFrame(data_4)\n",
    "\n",
    "    # Calculate percentages for each DataFrame\n",
    "    percentages_1 = calculate_top_3_percentages(df1)\n",
    "    percentages_2 = calculate_top_3_percentages(df2)\n",
    "    percentages_3 = calculate_top_3_percentages(df3)\n",
    "    percentages_4 = calculate_top_3_percentages(df4)\n",
    "\n",
    "    total_1 = sum(percentages_1)\n",
    "    total_2 = sum(percentages_2)\n",
    "    total_3 = sum(percentages_3)\n",
    "    total_4 = sum(percentages_4)\n",
    "\n",
    "    # Data for plotting\n",
    "    labels = ['Dataset 1', 'Dataset 2', 'Dataset 3', 'Dataset 4']\n",
    "    percentages_group1 = [total_1, total_2, total_3, total_4]\n",
    "    percentages_group2 = [total_1 / 2, total_2 / 2, total_3 / 2, total_4 / 2]  # Example of a second metric\n",
    "\n",
    "    x = np.arange(len(labels))  # Label locations\n",
    "    width = 0.35  # Width of the bars\n",
    "\n",
    "    # Create the plot\n",
    "    fig, ax = plt.subplots(figsize=(8, 5))\n",
    "\n",
    "    bars1 = ax.bar(x - width / 2, percentages_group1, width, label='Group 1', color='blue')\n",
    "    bars2 = ax.bar(x + width / 2, percentages_group2, width, label='Group 2', color='green')\n",
    "\n",
    "    # Add some text for labels, title and custom x-axis tick labels, etc.\n",
    "    ax.set_ylabel('Percentage')\n",
    "    ax.set_title('Total Percentage of GT Keyframe in Top 3 Positions')\n",
    "    ax.set_xticks(x)\n",
    "    ax.set_xticklabels(labels)\n",
    "    ax.legend()\n",
    "    # Save the plot\n",
    "    plt.savefig('total_top_3_percentage_plot_bar.png')\n",
    "    # Show the plot\n",
    "    plt.show()\n"
   ],
   "id": "b60f515110bdcf75",
   "outputs": [],
   "execution_count": 377
  },
  {
   "metadata": {},
   "cell_type": "markdown",
   "source": "",
   "id": "ddee754c3d432f21"
  },
  {
   "metadata": {
    "ExecuteTime": {
     "end_time": "2024-07-14T15:54:42.573358Z",
     "start_time": "2024-07-14T15:54:42.174991Z"
    }
   },
   "cell_type": "code",
   "source": [
    "# call\n",
    "print(prox_yes_no_ocr_only)\n",
    "print(prox_yes_no_ocr_lava)\n",
    "print(prox_yes_no_ocr_transcriptions)\n",
    "print(prox_yes_no_long_summary)\n",
    "total_top_3_percentage_plot(df_standard_ocr_only, df_ocr_lava, df_ocr_transcriptions, df_long_summary, prox_yes_no_ocr_only, prox_yes_no_ocr_lava, prox_yes_no_ocr_transcriptions, prox_yes_no_long_summary)"
   ],
   "id": "20962ec30706b792",
   "outputs": [
    {
     "name": "stdout",
     "output_type": "stream",
     "text": [
      "[2, 2, 1, 1, 1, 1, 1, 1, 0, 1, 1, 0, 0, 1, 0, 1, 1, 1, 0, 1, 1, 2]\n",
      "[1, 2, 1, 1, 1, 1, 1, 1, 1, 1, 1, 0, 2, 1, 0, 1, 2, 1, 0, 1, 1, 3]\n",
      "[1, 2, 1, 2, 1, 1, 1, 1, 1, 1, 1, 0, 2, 1, 0, 1, 1, 1, 0, 1, 1, 1]\n",
      "[2, 2, 1, 1, 1, 1, 1, 1, 1, 1, 1, 0, 3, 1, 1, 1, 2, 1, 0, 1, 1, 3]\n"
     ]
    },
    {
     "data": {
      "text/plain": [
       "<Figure size 800x500 with 1 Axes>"
      ],
      "image/png": "[encoded data removed]"
     },
     "metadata": {},
     "output_type": "display_data"
    }
   ],
   "execution_count": 378
  },
  {
   "metadata": {
    "ExecuteTime": {
     "end_time": "2024-07-14T15:54:42.579436Z",
     "start_time": "2024-07-14T15:54:42.575509Z"
    }
   },
   "cell_type": "code",
   "source": "",
   "id": "7ac39b2a3b7afd33",
   "outputs": [],
   "execution_count": 378
  }
 ],
 "metadata": {
  "kernelspec": {
   "display_name": "Python 3",
   "language": "python",
   "name": "python3"
  },
  "language_info": {
   "codemirror_mode": {
    "name": "ipython",
    "version": 2
   },
   "file_extension": ".py",
   "mimetype": "text/x-python",
   "name": "python",
   "nbconvert_exporter": "python",
   "pygments_lexer": "ipython2",
   "version": "2.7.6"
  }
 },
 "nbformat": 4,
 "nbformat_minor": 5
}
