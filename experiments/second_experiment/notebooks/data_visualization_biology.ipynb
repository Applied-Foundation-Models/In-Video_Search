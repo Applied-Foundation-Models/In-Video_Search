{
 "cells": [
  {
   "cell_type": "code",
   "id": "initial_id",
   "metadata": {
    "collapsed": true,
    "ExecuteTime": {
     "end_time": "2024-07-11T14:20:17.647462Z",
     "start_time": "2024-07-11T14:20:17.643834Z"
    }
   },
   "source": [
    "import pandas as pd\n",
    "import matplotlib.pyplot as plt\n",
    "from pathlib import Path\n",
    "from loguru import logger\n",
    "import os"
   ],
   "outputs": [],
   "execution_count": 12
  },
  {
   "metadata": {},
   "cell_type": "markdown",
   "source": "",
   "id": "5e64ba9cd139c77c"
  },
  {
   "metadata": {},
   "cell_type": "markdown",
   "source": "# OCR Only",
   "id": "e878cdd5850af551"
  },
  {
   "metadata": {
    "ExecuteTime": {
     "end_time": "2024-07-11T14:20:18.357533Z",
     "start_time": "2024-07-11T14:20:18.349125Z"
    }
   },
   "cell_type": "code",
   "source": [
    "notebook_path = Path().resolve().parent\n",
    "print(notebook_path)\n",
    "\n",
    "# Construct the filename relative to the new path\n",
    "filename = notebook_path / \"notebooks/new_data/df_standard_ocr_only.csv\"\n",
    "\n",
    "# Read the CSV file\n",
    "df_standard_ocr_only = pd.read_csv(filename)\n",
    "print(df_standard_ocr_only)"
   ],
   "id": "d3c4ecf46b92093c",
   "outputs": [
    {
     "name": "stdout",
     "output_type": "stream",
     "text": [
      "C:\\Users\\baatout\\PycharmProjects\\afm-vlm\\experiments\\second_experiment\n",
      "                                               Prompt  GT_Keyframe  Top_1  \\\n",
      "0                                   learning outcomes            3     32   \n",
      "1    What are the learning outcomes from the lecture?            3     85   \n",
      "2        What is the relation of protien and muscles?           26     27   \n",
      "3                               Essential fatty acids           29     29   \n",
      "4                                   fish oil capsules           30     30   \n",
      "5   what is the functioning of fish oil capsules a...           30     30   \n",
      "6                            calcium as micronutrient           46     46   \n",
      "7        Explain where vitamins function as coenzymes           41     41   \n",
      "8   Give a list of food items where I can attain s...           45     42   \n",
      "9           what is calcium commonly supplemented for           46     46   \n",
      "10       How are nutrients extracted from plant cells           50     50   \n",
      "11                              flavanol food sources           48     19   \n",
      "12  what are the main food sources of lycopene red...           48     19   \n",
      "13           what is semipermeable in plasma membrane           57     55   \n",
      "14                                pigment chlorophyll           62      4   \n",
      "15  explain subcellular structures such as the str...           62     62   \n",
      "16                        Passive transport molecules           68     70   \n",
      "17               role of centrioles for cell division           64     64   \n",
      "18  How do protients facilitate hydrophilic substa...           71     67   \n",
      "19                                     Cormoday oxide           70     69   \n",
      "20                                        FDA testing           84     84   \n",
      "21               legal requirements for health impact           84      6   \n",
      "\n",
      "    Top_2  Top_3  \n",
      "0       3     85  \n",
      "1       3      6  \n",
      "2      25     23  \n",
      "3      28     23  \n",
      "4      34     36  \n",
      "5      29     42  \n",
      "6      42     40  \n",
      "7      42     39  \n",
      "8      20     15  \n",
      "9      42     41  \n",
      "10     62     24  \n",
      "11      5      4  \n",
      "12     15     28  \n",
      "13     57     53  \n",
      "14     69     67  \n",
      "15     58     63  \n",
      "16     68     74  \n",
      "17     59     52  \n",
      "18     54     56  \n",
      "19     41     72  \n",
      "20      4     12  \n",
      "21     84     13  \n"
     ]
    }
   ],
   "execution_count": 13
  },
  {
   "metadata": {
    "ExecuteTime": {
     "end_time": "2024-07-11T14:26:46.100335Z",
     "start_time": "2024-07-11T14:26:46.093410Z"
    }
   },
   "cell_type": "code",
   "source": [
    "def calculate_and_plot_gt_keyframe_percentage(data):\n",
    "    # Convert data to a DataFrame\n",
    "    df = pd.DataFrame(data)\n",
    "\n",
    "    # Plotting\n",
    "    plt.figure(figsize=(10, 6))\n",
    "\n",
    "    total = len(df)\n",
    "    top_1_count = 0\n",
    "    top_2_count = 0\n",
    "    top_3_count = 0\n",
    "\n",
    "    # Iterate through the DataFrame to count the occurrences\n",
    "    for index, row in df.iterrows():\n",
    "        if row['GT_Keyframe'] == row['Top_1']:\n",
    "            top_1_count += 1\n",
    "        elif row['GT_Keyframe'] == row['Top_2']:\n",
    "            top_2_count += 1\n",
    "        elif row['GT_Keyframe'] == row['Top_3']:\n",
    "            top_3_count += 1\n",
    "\n",
    "    # Calculate percentages\n",
    "    top_1_percentage = (top_1_count / total) * 100\n",
    "    top_2_percentage = (top_2_count / total) * 100\n",
    "    top_3_percentage = (top_3_count / total) * 100\n",
    "\n",
    "    # Print the results\n",
    "    print(f\"GT_Keyframe in Top 1: {top_1_percentage:.2f}%\")\n",
    "    print(f\"GT_Keyframe in Top 2: {top_2_percentage:.2f}%\")\n",
    "    print(f\"GT_Keyframe in Top 3: {top_3_percentage:.2f}%\")\n",
    "\n",
    "    # Data for plotting\n",
    "    labels = ['Top 1', 'Top 2', 'Top 3']\n",
    "    percentages = [top_1_percentage, top_2_percentage, top_3_percentage]\n",
    "\n",
    "    # Create the plot\n",
    "    plt.figure(figsize=(8, 5))\n",
    "    plt.bar(labels, percentages, color=['blue', 'green', 'red'])\n",
    "    plt.xlabel('Position')\n",
    "    plt.ylabel('Percentage')\n",
    "    plt.title('Percentage of GT_Keyframe in Top Positions \\n (OCR Only)')\n",
    "    plt.ylim(0, 100)\n",
    "\n",
    "#hard coded\n",
    "img_paths = 150\n",
    "\n",
    "def check_proximity_keyframes(gt):\n",
    "    proximity_kf = []\n",
    "\n",
    "    # Define the boundaries for the image paths\n",
    "    max_index = img_paths - 1\n",
    "\n",
    "    if gt == 0:\n",
    "        logger.info(\"No proximity - Invalid GT\")\n",
    "    elif gt == 1:\n",
    "        proximity_kf.extend(range(1, 5))\n",
    "    elif gt >= max_index:\n",
    "        proximity_kf.extend(range(max_index, max_index - 5, -1))\n",
    "    else:\n",
    "        proximity_kf.extend([gt - 2, gt - 1, gt, gt + 1, gt + 2])\n",
    "\n",
    "    # Ensure all indexes are within valid range\n",
    "    proximity_kf = [i for i in proximity_kf if 0 <= i <= max_index]\n",
    "\n",
    "    return proximity_kf\n",
    "\n"
   ],
   "id": "b20e1dde717e4699",
   "outputs": [],
   "execution_count": 27
  },
  {
   "metadata": {
    "ExecuteTime": {
     "end_time": "2024-07-11T14:26:47.751767Z",
     "start_time": "2024-07-11T14:26:47.641438Z"
    }
   },
   "cell_type": "code",
   "source": [
    "# call\n",
    "calculate_and_plot_gt_keyframe_percentage(df_standard_ocr_only)"
   ],
   "id": "f94dd6be045f015b",
   "outputs": [
    {
     "name": "stdout",
     "output_type": "stream",
     "text": [
      "GT_Keyframe in Top 1: 45.45%\n",
      "GT_Keyframe in Top 2: 22.73%\n",
      "GT_Keyframe in Top 3: 0.00%\n"
     ]
    },
    {
     "data": {
      "text/plain": [
       "<Figure size 1000x600 with 0 Axes>"
      ]
     },
     "metadata": {},
     "output_type": "display_data"
    },
    {
     "data": {
      "text/plain": [
       "<Figure size 800x500 with 1 Axes>"
      ],
      "image/png": "[encoded data removed]"
     },
     "metadata": {},
     "output_type": "display_data"
    }
   ],
   "execution_count": 28
  },
  {
   "metadata": {
    "ExecuteTime": {
     "end_time": "2024-07-11T15:22:02.432532Z",
     "start_time": "2024-07-11T15:22:02.294088Z"
    }
   },
   "cell_type": "code",
   "source": [
    "# iterate through data frame \n",
    "df = df_standard_ocr_only\n",
    "res = []\n",
    "for _, row in df.iterrows():\n",
    "        logger.info(row['Prompt'])\n",
    "        gt_keyframe = row['GT_Keyframe']\n",
    "        prox =check_proximity_keyframes(gt_keyframe)\n",
    "        res.append(prox)\n",
    "\n",
    "prox_yes_no = []\n",
    "for i, row in df.iterrows():\n",
    "    if row['Top_1'] or row['Top_2'] or row['Top_3'] in res[i]: \n",
    "        prox_yes_no.append(1)\n",
    "    else: \n",
    "        prox_yes_no.append(0)"
   ],
   "id": "9e42af48a7d7f3c2",
   "outputs": [
    {
     "name": "stderr",
     "output_type": "stream",
     "text": [
      "\u001B[32m2024-07-11 17:22:02.294\u001B[0m | \u001B[1mINFO    \u001B[0m | \u001B[36m__main__\u001B[0m:\u001B[36m<module>\u001B[0m:\u001B[36m5\u001B[0m - \u001B[1mlearning outcomes\u001B[0m\n",
      "\u001B[32m2024-07-11 17:22:02.294\u001B[0m | \u001B[1mINFO    \u001B[0m | \u001B[36m__main__\u001B[0m:\u001B[36m<module>\u001B[0m:\u001B[36m5\u001B[0m - \u001B[1mWhat are the learning outcomes from the lecture?\u001B[0m\n",
      "\u001B[32m2024-07-11 17:22:02.304\u001B[0m | \u001B[1mINFO    \u001B[0m | \u001B[36m__main__\u001B[0m:\u001B[36m<module>\u001B[0m:\u001B[36m5\u001B[0m - \u001B[1mWhat is the relation of protien and muscles?\u001B[0m\n",
      "\u001B[32m2024-07-11 17:22:02.304\u001B[0m | \u001B[1mINFO    \u001B[0m | \u001B[36m__main__\u001B[0m:\u001B[36m<module>\u001B[0m:\u001B[36m5\u001B[0m - \u001B[1mEssential fatty acids\u001B[0m\n",
      "\u001B[32m2024-07-11 17:22:02.304\u001B[0m | \u001B[1mINFO    \u001B[0m | \u001B[36m__main__\u001B[0m:\u001B[36m<module>\u001B[0m:\u001B[36m5\u001B[0m - \u001B[1mfish oil capsules\u001B[0m\n",
      "\u001B[32m2024-07-11 17:22:02.304\u001B[0m | \u001B[1mINFO    \u001B[0m | \u001B[36m__main__\u001B[0m:\u001B[36m<module>\u001B[0m:\u001B[36m5\u001B[0m - \u001B[1mwhat is the functioning of fish oil capsules and its relation to vitamins\u001B[0m\n",
      "\u001B[32m2024-07-11 17:22:02.309\u001B[0m | \u001B[1mINFO    \u001B[0m | \u001B[36m__main__\u001B[0m:\u001B[36m<module>\u001B[0m:\u001B[36m5\u001B[0m - \u001B[1mcalcium as micronutrient\u001B[0m\n",
      "\u001B[32m2024-07-11 17:22:02.309\u001B[0m | \u001B[1mINFO    \u001B[0m | \u001B[36m__main__\u001B[0m:\u001B[36m<module>\u001B[0m:\u001B[36m5\u001B[0m - \u001B[1mExplain where vitamins function as coenzymes\u001B[0m\n",
      "\u001B[32m2024-07-11 17:22:02.309\u001B[0m | \u001B[1mINFO    \u001B[0m | \u001B[36m__main__\u001B[0m:\u001B[36m<module>\u001B[0m:\u001B[36m5\u001B[0m - \u001B[1mGive a list of food items where I can attain some important micronutrient\u001B[0m\n",
      "\u001B[32m2024-07-11 17:22:02.309\u001B[0m | \u001B[1mINFO    \u001B[0m | \u001B[36m__main__\u001B[0m:\u001B[36m<module>\u001B[0m:\u001B[36m5\u001B[0m - \u001B[1mwhat is calcium commonly supplemented for\u001B[0m\n",
      "\u001B[32m2024-07-11 17:22:02.309\u001B[0m | \u001B[1mINFO    \u001B[0m | \u001B[36m__main__\u001B[0m:\u001B[36m<module>\u001B[0m:\u001B[36m5\u001B[0m - \u001B[1mHow are nutrients extracted from plant cells\u001B[0m\n",
      "\u001B[32m2024-07-11 17:22:02.309\u001B[0m | \u001B[1mINFO    \u001B[0m | \u001B[36m__main__\u001B[0m:\u001B[36m<module>\u001B[0m:\u001B[36m5\u001B[0m - \u001B[1mflavanol food sources\u001B[0m\n",
      "\u001B[32m2024-07-11 17:22:02.309\u001B[0m | \u001B[1mINFO    \u001B[0m | \u001B[36m__main__\u001B[0m:\u001B[36m<module>\u001B[0m:\u001B[36m5\u001B[0m - \u001B[1mwhat are the main food sources of lycopene red fruits\u001B[0m\n",
      "\u001B[32m2024-07-11 17:22:02.309\u001B[0m | \u001B[1mINFO    \u001B[0m | \u001B[36m__main__\u001B[0m:\u001B[36m<module>\u001B[0m:\u001B[36m5\u001B[0m - \u001B[1mwhat is semipermeable in plasma membrane\u001B[0m\n",
      "\u001B[32m2024-07-11 17:22:02.309\u001B[0m | \u001B[1mINFO    \u001B[0m | \u001B[36m__main__\u001B[0m:\u001B[36m<module>\u001B[0m:\u001B[36m5\u001B[0m - \u001B[1mpigment chlorophyll\u001B[0m\n",
      "\u001B[32m2024-07-11 17:22:02.309\u001B[0m | \u001B[1mINFO    \u001B[0m | \u001B[36m__main__\u001B[0m:\u001B[36m<module>\u001B[0m:\u001B[36m5\u001B[0m - \u001B[1mexplain subcellular structures such as the structures to recycle molecules in the digestive tract\u001B[0m\n",
      "\u001B[32m2024-07-11 17:22:02.322\u001B[0m | \u001B[1mINFO    \u001B[0m | \u001B[36m__main__\u001B[0m:\u001B[36m<module>\u001B[0m:\u001B[36m5\u001B[0m - \u001B[1mPassive transport molecules\u001B[0m\n",
      "\u001B[32m2024-07-11 17:22:02.322\u001B[0m | \u001B[1mINFO    \u001B[0m | \u001B[36m__main__\u001B[0m:\u001B[36m<module>\u001B[0m:\u001B[36m5\u001B[0m - \u001B[1mrole of centrioles for cell division\u001B[0m\n",
      "\u001B[32m2024-07-11 17:22:02.322\u001B[0m | \u001B[1mINFO    \u001B[0m | \u001B[36m__main__\u001B[0m:\u001B[36m<module>\u001B[0m:\u001B[36m5\u001B[0m - \u001B[1mHow do protients facilitate hydrophilic substances to travel across cell membrane\u001B[0m\n",
      "\u001B[32m2024-07-11 17:22:02.325\u001B[0m | \u001B[1mINFO    \u001B[0m | \u001B[36m__main__\u001B[0m:\u001B[36m<module>\u001B[0m:\u001B[36m5\u001B[0m - \u001B[1mCormoday oxide\u001B[0m\n",
      "\u001B[32m2024-07-11 17:22:02.325\u001B[0m | \u001B[1mINFO    \u001B[0m | \u001B[36m__main__\u001B[0m:\u001B[36m<module>\u001B[0m:\u001B[36m5\u001B[0m - \u001B[1mFDA testing\u001B[0m\n",
      "\u001B[32m2024-07-11 17:22:02.325\u001B[0m | \u001B[1mINFO    \u001B[0m | \u001B[36m__main__\u001B[0m:\u001B[36m<module>\u001B[0m:\u001B[36m5\u001B[0m - \u001B[1mlegal requirements for health impact\u001B[0m\n",
      "\u001B[32m2024-07-11 17:22:02.325\u001B[0m | \u001B[1mINFO    \u001B[0m | \u001B[36m__main__\u001B[0m:\u001B[36m<module>\u001B[0m:\u001B[36m12\u001B[0m - \u001B[1m[1, 2, 3, 4, 5]\u001B[0m\n",
      "\u001B[32m2024-07-11 17:22:02.325\u001B[0m | \u001B[1mINFO    \u001B[0m | \u001B[36m__main__\u001B[0m:\u001B[36m<module>\u001B[0m:\u001B[36m13\u001B[0m - \u001B[1m32\u001B[0m\n",
      "\u001B[32m2024-07-11 17:22:02.325\u001B[0m | \u001B[1mINFO    \u001B[0m | \u001B[36m__main__\u001B[0m:\u001B[36m<module>\u001B[0m:\u001B[36m14\u001B[0m - \u001B[1m3\u001B[0m\n",
      "\u001B[32m2024-07-11 17:22:02.325\u001B[0m | \u001B[1mINFO    \u001B[0m | \u001B[36m__main__\u001B[0m:\u001B[36m<module>\u001B[0m:\u001B[36m15\u001B[0m - \u001B[1m85\u001B[0m\n",
      "\u001B[32m2024-07-11 17:22:02.325\u001B[0m | \u001B[1mINFO    \u001B[0m | \u001B[36m__main__\u001B[0m:\u001B[36m<module>\u001B[0m:\u001B[36m17\u001B[0m - \u001B[1mje suis 1\u001B[0m\n",
      "\u001B[32m2024-07-11 17:22:02.325\u001B[0m | \u001B[1mINFO    \u001B[0m | \u001B[36m__main__\u001B[0m:\u001B[36m<module>\u001B[0m:\u001B[36m12\u001B[0m - \u001B[1m[1, 2, 3, 4, 5]\u001B[0m\n",
      "\u001B[32m2024-07-11 17:22:02.325\u001B[0m | \u001B[1mINFO    \u001B[0m | \u001B[36m__main__\u001B[0m:\u001B[36m<module>\u001B[0m:\u001B[36m13\u001B[0m - \u001B[1m85\u001B[0m\n",
      "\u001B[32m2024-07-11 17:22:02.325\u001B[0m | \u001B[1mINFO    \u001B[0m | \u001B[36m__main__\u001B[0m:\u001B[36m<module>\u001B[0m:\u001B[36m14\u001B[0m - \u001B[1m3\u001B[0m\n",
      "\u001B[32m2024-07-11 17:22:02.325\u001B[0m | \u001B[1mINFO    \u001B[0m | \u001B[36m__main__\u001B[0m:\u001B[36m<module>\u001B[0m:\u001B[36m15\u001B[0m - \u001B[1m6\u001B[0m\n",
      "\u001B[32m2024-07-11 17:22:02.325\u001B[0m | \u001B[1mINFO    \u001B[0m | \u001B[36m__main__\u001B[0m:\u001B[36m<module>\u001B[0m:\u001B[36m17\u001B[0m - \u001B[1mje suis 1\u001B[0m\n",
      "\u001B[32m2024-07-11 17:22:02.325\u001B[0m | \u001B[1mINFO    \u001B[0m | \u001B[36m__main__\u001B[0m:\u001B[36m<module>\u001B[0m:\u001B[36m12\u001B[0m - \u001B[1m[24, 25, 26, 27, 28]\u001B[0m\n",
      "\u001B[32m2024-07-11 17:22:02.341\u001B[0m | \u001B[1mINFO    \u001B[0m | \u001B[36m__main__\u001B[0m:\u001B[36m<module>\u001B[0m:\u001B[36m13\u001B[0m - \u001B[1m27\u001B[0m\n",
      "\u001B[32m2024-07-11 17:22:02.341\u001B[0m | \u001B[1mINFO    \u001B[0m | \u001B[36m__main__\u001B[0m:\u001B[36m<module>\u001B[0m:\u001B[36m14\u001B[0m - \u001B[1m25\u001B[0m\n",
      "\u001B[32m2024-07-11 17:22:02.341\u001B[0m | \u001B[1mINFO    \u001B[0m | \u001B[36m__main__\u001B[0m:\u001B[36m<module>\u001B[0m:\u001B[36m15\u001B[0m - \u001B[1m23\u001B[0m\n",
      "\u001B[32m2024-07-11 17:22:02.341\u001B[0m | \u001B[1mINFO    \u001B[0m | \u001B[36m__main__\u001B[0m:\u001B[36m<module>\u001B[0m:\u001B[36m17\u001B[0m - \u001B[1mje suis 1\u001B[0m\n",
      "\u001B[32m2024-07-11 17:22:02.341\u001B[0m | \u001B[1mINFO    \u001B[0m | \u001B[36m__main__\u001B[0m:\u001B[36m<module>\u001B[0m:\u001B[36m12\u001B[0m - \u001B[1m[27, 28, 29, 30, 31]\u001B[0m\n",
      "\u001B[32m2024-07-11 17:22:02.341\u001B[0m | \u001B[1mINFO    \u001B[0m | \u001B[36m__main__\u001B[0m:\u001B[36m<module>\u001B[0m:\u001B[36m13\u001B[0m - \u001B[1m29\u001B[0m\n",
      "\u001B[32m2024-07-11 17:22:02.341\u001B[0m | \u001B[1mINFO    \u001B[0m | \u001B[36m__main__\u001B[0m:\u001B[36m<module>\u001B[0m:\u001B[36m14\u001B[0m - \u001B[1m28\u001B[0m\n",
      "\u001B[32m2024-07-11 17:22:02.341\u001B[0m | \u001B[1mINFO    \u001B[0m | \u001B[36m__main__\u001B[0m:\u001B[36m<module>\u001B[0m:\u001B[36m15\u001B[0m - \u001B[1m23\u001B[0m\n",
      "\u001B[32m2024-07-11 17:22:02.341\u001B[0m | \u001B[1mINFO    \u001B[0m | \u001B[36m__main__\u001B[0m:\u001B[36m<module>\u001B[0m:\u001B[36m17\u001B[0m - \u001B[1mje suis 1\u001B[0m\n",
      "\u001B[32m2024-07-11 17:22:02.341\u001B[0m | \u001B[1mINFO    \u001B[0m | \u001B[36m__main__\u001B[0m:\u001B[36m<module>\u001B[0m:\u001B[36m12\u001B[0m - \u001B[1m[28, 29, 30, 31, 32]\u001B[0m\n",
      "\u001B[32m2024-07-11 17:22:02.341\u001B[0m | \u001B[1mINFO    \u001B[0m | \u001B[36m__main__\u001B[0m:\u001B[36m<module>\u001B[0m:\u001B[36m13\u001B[0m - \u001B[1m30\u001B[0m\n",
      "\u001B[32m2024-07-11 17:22:02.341\u001B[0m | \u001B[1mINFO    \u001B[0m | \u001B[36m__main__\u001B[0m:\u001B[36m<module>\u001B[0m:\u001B[36m14\u001B[0m - \u001B[1m34\u001B[0m\n",
      "\u001B[32m2024-07-11 17:22:02.341\u001B[0m | \u001B[1mINFO    \u001B[0m | \u001B[36m__main__\u001B[0m:\u001B[36m<module>\u001B[0m:\u001B[36m15\u001B[0m - \u001B[1m36\u001B[0m\n",
      "\u001B[32m2024-07-11 17:22:02.341\u001B[0m | \u001B[1mINFO    \u001B[0m | \u001B[36m__main__\u001B[0m:\u001B[36m<module>\u001B[0m:\u001B[36m17\u001B[0m - \u001B[1mje suis 1\u001B[0m\n",
      "\u001B[32m2024-07-11 17:22:02.341\u001B[0m | \u001B[1mINFO    \u001B[0m | \u001B[36m__main__\u001B[0m:\u001B[36m<module>\u001B[0m:\u001B[36m12\u001B[0m - \u001B[1m[28, 29, 30, 31, 32]\u001B[0m\n",
      "\u001B[32m2024-07-11 17:22:02.341\u001B[0m | \u001B[1mINFO    \u001B[0m | \u001B[36m__main__\u001B[0m:\u001B[36m<module>\u001B[0m:\u001B[36m13\u001B[0m - \u001B[1m30\u001B[0m\n",
      "\u001B[32m2024-07-11 17:22:02.341\u001B[0m | \u001B[1mINFO    \u001B[0m | \u001B[36m__main__\u001B[0m:\u001B[36m<module>\u001B[0m:\u001B[36m14\u001B[0m - \u001B[1m29\u001B[0m\n",
      "\u001B[32m2024-07-11 17:22:02.356\u001B[0m | \u001B[1mINFO    \u001B[0m | \u001B[36m__main__\u001B[0m:\u001B[36m<module>\u001B[0m:\u001B[36m15\u001B[0m - \u001B[1m42\u001B[0m\n",
      "\u001B[32m2024-07-11 17:22:02.356\u001B[0m | \u001B[1mINFO    \u001B[0m | \u001B[36m__main__\u001B[0m:\u001B[36m<module>\u001B[0m:\u001B[36m17\u001B[0m - \u001B[1mje suis 1\u001B[0m\n",
      "\u001B[32m2024-07-11 17:22:02.356\u001B[0m | \u001B[1mINFO    \u001B[0m | \u001B[36m__main__\u001B[0m:\u001B[36m<module>\u001B[0m:\u001B[36m12\u001B[0m - \u001B[1m[44, 45, 46, 47, 48]\u001B[0m\n",
      "\u001B[32m2024-07-11 17:22:02.356\u001B[0m | \u001B[1mINFO    \u001B[0m | \u001B[36m__main__\u001B[0m:\u001B[36m<module>\u001B[0m:\u001B[36m13\u001B[0m - \u001B[1m46\u001B[0m\n",
      "\u001B[32m2024-07-11 17:22:02.356\u001B[0m | \u001B[1mINFO    \u001B[0m | \u001B[36m__main__\u001B[0m:\u001B[36m<module>\u001B[0m:\u001B[36m14\u001B[0m - \u001B[1m42\u001B[0m\n",
      "\u001B[32m2024-07-11 17:22:02.356\u001B[0m | \u001B[1mINFO    \u001B[0m | \u001B[36m__main__\u001B[0m:\u001B[36m<module>\u001B[0m:\u001B[36m15\u001B[0m - \u001B[1m40\u001B[0m\n",
      "\u001B[32m2024-07-11 17:22:02.356\u001B[0m | \u001B[1mINFO    \u001B[0m | \u001B[36m__main__\u001B[0m:\u001B[36m<module>\u001B[0m:\u001B[36m17\u001B[0m - \u001B[1mje suis 1\u001B[0m\n",
      "\u001B[32m2024-07-11 17:22:02.356\u001B[0m | \u001B[1mINFO    \u001B[0m | \u001B[36m__main__\u001B[0m:\u001B[36m<module>\u001B[0m:\u001B[36m12\u001B[0m - \u001B[1m[39, 40, 41, 42, 43]\u001B[0m\n",
      "\u001B[32m2024-07-11 17:22:02.356\u001B[0m | \u001B[1mINFO    \u001B[0m | \u001B[36m__main__\u001B[0m:\u001B[36m<module>\u001B[0m:\u001B[36m13\u001B[0m - \u001B[1m41\u001B[0m\n",
      "\u001B[32m2024-07-11 17:22:02.356\u001B[0m | \u001B[1mINFO    \u001B[0m | \u001B[36m__main__\u001B[0m:\u001B[36m<module>\u001B[0m:\u001B[36m14\u001B[0m - \u001B[1m42\u001B[0m\n",
      "\u001B[32m2024-07-11 17:22:02.356\u001B[0m | \u001B[1mINFO    \u001B[0m | \u001B[36m__main__\u001B[0m:\u001B[36m<module>\u001B[0m:\u001B[36m15\u001B[0m - \u001B[1m39\u001B[0m\n",
      "\u001B[32m2024-07-11 17:22:02.356\u001B[0m | \u001B[1mINFO    \u001B[0m | \u001B[36m__main__\u001B[0m:\u001B[36m<module>\u001B[0m:\u001B[36m17\u001B[0m - \u001B[1mje suis 1\u001B[0m\n",
      "\u001B[32m2024-07-11 17:22:02.356\u001B[0m | \u001B[1mINFO    \u001B[0m | \u001B[36m__main__\u001B[0m:\u001B[36m<module>\u001B[0m:\u001B[36m12\u001B[0m - \u001B[1m[43, 44, 45, 46, 47]\u001B[0m\n",
      "\u001B[32m2024-07-11 17:22:02.356\u001B[0m | \u001B[1mINFO    \u001B[0m | \u001B[36m__main__\u001B[0m:\u001B[36m<module>\u001B[0m:\u001B[36m13\u001B[0m - \u001B[1m42\u001B[0m\n",
      "\u001B[32m2024-07-11 17:22:02.356\u001B[0m | \u001B[1mINFO    \u001B[0m | \u001B[36m__main__\u001B[0m:\u001B[36m<module>\u001B[0m:\u001B[36m14\u001B[0m - \u001B[1m20\u001B[0m\n",
      "\u001B[32m2024-07-11 17:22:02.356\u001B[0m | \u001B[1mINFO    \u001B[0m | \u001B[36m__main__\u001B[0m:\u001B[36m<module>\u001B[0m:\u001B[36m15\u001B[0m - \u001B[1m15\u001B[0m\n",
      "\u001B[32m2024-07-11 17:22:02.372\u001B[0m | \u001B[1mINFO    \u001B[0m | \u001B[36m__main__\u001B[0m:\u001B[36m<module>\u001B[0m:\u001B[36m17\u001B[0m - \u001B[1mje suis 1\u001B[0m\n",
      "\u001B[32m2024-07-11 17:22:02.372\u001B[0m | \u001B[1mINFO    \u001B[0m | \u001B[36m__main__\u001B[0m:\u001B[36m<module>\u001B[0m:\u001B[36m12\u001B[0m - \u001B[1m[44, 45, 46, 47, 48]\u001B[0m\n",
      "\u001B[32m2024-07-11 17:22:02.372\u001B[0m | \u001B[1mINFO    \u001B[0m | \u001B[36m__main__\u001B[0m:\u001B[36m<module>\u001B[0m:\u001B[36m13\u001B[0m - \u001B[1m46\u001B[0m\n",
      "\u001B[32m2024-07-11 17:22:02.372\u001B[0m | \u001B[1mINFO    \u001B[0m | \u001B[36m__main__\u001B[0m:\u001B[36m<module>\u001B[0m:\u001B[36m14\u001B[0m - \u001B[1m42\u001B[0m\n",
      "\u001B[32m2024-07-11 17:22:02.372\u001B[0m | \u001B[1mINFO    \u001B[0m | \u001B[36m__main__\u001B[0m:\u001B[36m<module>\u001B[0m:\u001B[36m15\u001B[0m - \u001B[1m41\u001B[0m\n",
      "\u001B[32m2024-07-11 17:22:02.372\u001B[0m | \u001B[1mINFO    \u001B[0m | \u001B[36m__main__\u001B[0m:\u001B[36m<module>\u001B[0m:\u001B[36m17\u001B[0m - \u001B[1mje suis 1\u001B[0m\n",
      "\u001B[32m2024-07-11 17:22:02.372\u001B[0m | \u001B[1mINFO    \u001B[0m | \u001B[36m__main__\u001B[0m:\u001B[36m<module>\u001B[0m:\u001B[36m12\u001B[0m - \u001B[1m[48, 49, 50, 51, 52]\u001B[0m\n",
      "\u001B[32m2024-07-11 17:22:02.372\u001B[0m | \u001B[1mINFO    \u001B[0m | \u001B[36m__main__\u001B[0m:\u001B[36m<module>\u001B[0m:\u001B[36m13\u001B[0m - \u001B[1m50\u001B[0m\n",
      "\u001B[32m2024-07-11 17:22:02.372\u001B[0m | \u001B[1mINFO    \u001B[0m | \u001B[36m__main__\u001B[0m:\u001B[36m<module>\u001B[0m:\u001B[36m14\u001B[0m - \u001B[1m62\u001B[0m\n",
      "\u001B[32m2024-07-11 17:22:02.372\u001B[0m | \u001B[1mINFO    \u001B[0m | \u001B[36m__main__\u001B[0m:\u001B[36m<module>\u001B[0m:\u001B[36m15\u001B[0m - \u001B[1m24\u001B[0m\n",
      "\u001B[32m2024-07-11 17:22:02.372\u001B[0m | \u001B[1mINFO    \u001B[0m | \u001B[36m__main__\u001B[0m:\u001B[36m<module>\u001B[0m:\u001B[36m17\u001B[0m - \u001B[1mje suis 1\u001B[0m\n",
      "\u001B[32m2024-07-11 17:22:02.372\u001B[0m | \u001B[1mINFO    \u001B[0m | \u001B[36m__main__\u001B[0m:\u001B[36m<module>\u001B[0m:\u001B[36m12\u001B[0m - \u001B[1m[46, 47, 48, 49, 50]\u001B[0m\n",
      "\u001B[32m2024-07-11 17:22:02.372\u001B[0m | \u001B[1mINFO    \u001B[0m | \u001B[36m__main__\u001B[0m:\u001B[36m<module>\u001B[0m:\u001B[36m13\u001B[0m - \u001B[1m19\u001B[0m\n",
      "\u001B[32m2024-07-11 17:22:02.372\u001B[0m | \u001B[1mINFO    \u001B[0m | \u001B[36m__main__\u001B[0m:\u001B[36m<module>\u001B[0m:\u001B[36m14\u001B[0m - \u001B[1m5\u001B[0m\n",
      "\u001B[32m2024-07-11 17:22:02.372\u001B[0m | \u001B[1mINFO    \u001B[0m | \u001B[36m__main__\u001B[0m:\u001B[36m<module>\u001B[0m:\u001B[36m15\u001B[0m - \u001B[1m4\u001B[0m\n",
      "\u001B[32m2024-07-11 17:22:02.372\u001B[0m | \u001B[1mINFO    \u001B[0m | \u001B[36m__main__\u001B[0m:\u001B[36m<module>\u001B[0m:\u001B[36m17\u001B[0m - \u001B[1mje suis 1\u001B[0m\n",
      "\u001B[32m2024-07-11 17:22:02.372\u001B[0m | \u001B[1mINFO    \u001B[0m | \u001B[36m__main__\u001B[0m:\u001B[36m<module>\u001B[0m:\u001B[36m12\u001B[0m - \u001B[1m[46, 47, 48, 49, 50]\u001B[0m\n",
      "\u001B[32m2024-07-11 17:22:02.372\u001B[0m | \u001B[1mINFO    \u001B[0m | \u001B[36m__main__\u001B[0m:\u001B[36m<module>\u001B[0m:\u001B[36m13\u001B[0m - \u001B[1m19\u001B[0m\n",
      "\u001B[32m2024-07-11 17:22:02.372\u001B[0m | \u001B[1mINFO    \u001B[0m | \u001B[36m__main__\u001B[0m:\u001B[36m<module>\u001B[0m:\u001B[36m14\u001B[0m - \u001B[1m15\u001B[0m\n",
      "\u001B[32m2024-07-11 17:22:02.372\u001B[0m | \u001B[1mINFO    \u001B[0m | \u001B[36m__main__\u001B[0m:\u001B[36m<module>\u001B[0m:\u001B[36m15\u001B[0m - \u001B[1m28\u001B[0m\n",
      "\u001B[32m2024-07-11 17:22:02.388\u001B[0m | \u001B[1mINFO    \u001B[0m | \u001B[36m__main__\u001B[0m:\u001B[36m<module>\u001B[0m:\u001B[36m17\u001B[0m - \u001B[1mje suis 1\u001B[0m\n",
      "\u001B[32m2024-07-11 17:22:02.388\u001B[0m | \u001B[1mINFO    \u001B[0m | \u001B[36m__main__\u001B[0m:\u001B[36m<module>\u001B[0m:\u001B[36m12\u001B[0m - \u001B[1m[55, 56, 57, 58, 59]\u001B[0m\n",
      "\u001B[32m2024-07-11 17:22:02.388\u001B[0m | \u001B[1mINFO    \u001B[0m | \u001B[36m__main__\u001B[0m:\u001B[36m<module>\u001B[0m:\u001B[36m13\u001B[0m - \u001B[1m55\u001B[0m\n",
      "\u001B[32m2024-07-11 17:22:02.388\u001B[0m | \u001B[1mINFO    \u001B[0m | \u001B[36m__main__\u001B[0m:\u001B[36m<module>\u001B[0m:\u001B[36m14\u001B[0m - \u001B[1m57\u001B[0m\n",
      "\u001B[32m2024-07-11 17:22:02.388\u001B[0m | \u001B[1mINFO    \u001B[0m | \u001B[36m__main__\u001B[0m:\u001B[36m<module>\u001B[0m:\u001B[36m15\u001B[0m - \u001B[1m53\u001B[0m\n",
      "\u001B[32m2024-07-11 17:22:02.388\u001B[0m | \u001B[1mINFO    \u001B[0m | \u001B[36m__main__\u001B[0m:\u001B[36m<module>\u001B[0m:\u001B[36m17\u001B[0m - \u001B[1mje suis 1\u001B[0m\n",
      "\u001B[32m2024-07-11 17:22:02.388\u001B[0m | \u001B[1mINFO    \u001B[0m | \u001B[36m__main__\u001B[0m:\u001B[36m<module>\u001B[0m:\u001B[36m12\u001B[0m - \u001B[1m[60, 61, 62, 63, 64]\u001B[0m\n",
      "\u001B[32m2024-07-11 17:22:02.388\u001B[0m | \u001B[1mINFO    \u001B[0m | \u001B[36m__main__\u001B[0m:\u001B[36m<module>\u001B[0m:\u001B[36m13\u001B[0m - \u001B[1m4\u001B[0m\n",
      "\u001B[32m2024-07-11 17:22:02.388\u001B[0m | \u001B[1mINFO    \u001B[0m | \u001B[36m__main__\u001B[0m:\u001B[36m<module>\u001B[0m:\u001B[36m14\u001B[0m - \u001B[1m69\u001B[0m\n",
      "\u001B[32m2024-07-11 17:22:02.388\u001B[0m | \u001B[1mINFO    \u001B[0m | \u001B[36m__main__\u001B[0m:\u001B[36m<module>\u001B[0m:\u001B[36m15\u001B[0m - \u001B[1m67\u001B[0m\n",
      "\u001B[32m2024-07-11 17:22:02.388\u001B[0m | \u001B[1mINFO    \u001B[0m | \u001B[36m__main__\u001B[0m:\u001B[36m<module>\u001B[0m:\u001B[36m17\u001B[0m - \u001B[1mje suis 1\u001B[0m\n",
      "\u001B[32m2024-07-11 17:22:02.388\u001B[0m | \u001B[1mINFO    \u001B[0m | \u001B[36m__main__\u001B[0m:\u001B[36m<module>\u001B[0m:\u001B[36m12\u001B[0m - \u001B[1m[60, 61, 62, 63, 64]\u001B[0m\n",
      "\u001B[32m2024-07-11 17:22:02.388\u001B[0m | \u001B[1mINFO    \u001B[0m | \u001B[36m__main__\u001B[0m:\u001B[36m<module>\u001B[0m:\u001B[36m13\u001B[0m - \u001B[1m62\u001B[0m\n",
      "\u001B[32m2024-07-11 17:22:02.388\u001B[0m | \u001B[1mINFO    \u001B[0m | \u001B[36m__main__\u001B[0m:\u001B[36m<module>\u001B[0m:\u001B[36m14\u001B[0m - \u001B[1m58\u001B[0m\n",
      "\u001B[32m2024-07-11 17:22:02.388\u001B[0m | \u001B[1mINFO    \u001B[0m | \u001B[36m__main__\u001B[0m:\u001B[36m<module>\u001B[0m:\u001B[36m15\u001B[0m - \u001B[1m63\u001B[0m\n",
      "\u001B[32m2024-07-11 17:22:02.388\u001B[0m | \u001B[1mINFO    \u001B[0m | \u001B[36m__main__\u001B[0m:\u001B[36m<module>\u001B[0m:\u001B[36m17\u001B[0m - \u001B[1mje suis 1\u001B[0m\n",
      "\u001B[32m2024-07-11 17:22:02.388\u001B[0m | \u001B[1mINFO    \u001B[0m | \u001B[36m__main__\u001B[0m:\u001B[36m<module>\u001B[0m:\u001B[36m12\u001B[0m - \u001B[1m[66, 67, 68, 69, 70]\u001B[0m\n",
      "\u001B[32m2024-07-11 17:22:02.388\u001B[0m | \u001B[1mINFO    \u001B[0m | \u001B[36m__main__\u001B[0m:\u001B[36m<module>\u001B[0m:\u001B[36m13\u001B[0m - \u001B[1m70\u001B[0m\n",
      "\u001B[32m2024-07-11 17:22:02.388\u001B[0m | \u001B[1mINFO    \u001B[0m | \u001B[36m__main__\u001B[0m:\u001B[36m<module>\u001B[0m:\u001B[36m14\u001B[0m - \u001B[1m68\u001B[0m\n",
      "\u001B[32m2024-07-11 17:22:02.388\u001B[0m | \u001B[1mINFO    \u001B[0m | \u001B[36m__main__\u001B[0m:\u001B[36m<module>\u001B[0m:\u001B[36m15\u001B[0m - \u001B[1m74\u001B[0m\n",
      "\u001B[32m2024-07-11 17:22:02.388\u001B[0m | \u001B[1mINFO    \u001B[0m | \u001B[36m__main__\u001B[0m:\u001B[36m<module>\u001B[0m:\u001B[36m17\u001B[0m - \u001B[1mje suis 1\u001B[0m\n",
      "\u001B[32m2024-07-11 17:22:02.388\u001B[0m | \u001B[1mINFO    \u001B[0m | \u001B[36m__main__\u001B[0m:\u001B[36m<module>\u001B[0m:\u001B[36m12\u001B[0m - \u001B[1m[62, 63, 64, 65, 66]\u001B[0m\n",
      "\u001B[32m2024-07-11 17:22:02.388\u001B[0m | \u001B[1mINFO    \u001B[0m | \u001B[36m__main__\u001B[0m:\u001B[36m<module>\u001B[0m:\u001B[36m13\u001B[0m - \u001B[1m64\u001B[0m\n",
      "\u001B[32m2024-07-11 17:22:02.388\u001B[0m | \u001B[1mINFO    \u001B[0m | \u001B[36m__main__\u001B[0m:\u001B[36m<module>\u001B[0m:\u001B[36m14\u001B[0m - \u001B[1m59\u001B[0m\n",
      "\u001B[32m2024-07-11 17:22:02.403\u001B[0m | \u001B[1mINFO    \u001B[0m | \u001B[36m__main__\u001B[0m:\u001B[36m<module>\u001B[0m:\u001B[36m15\u001B[0m - \u001B[1m52\u001B[0m\n",
      "\u001B[32m2024-07-11 17:22:02.403\u001B[0m | \u001B[1mINFO    \u001B[0m | \u001B[36m__main__\u001B[0m:\u001B[36m<module>\u001B[0m:\u001B[36m17\u001B[0m - \u001B[1mje suis 1\u001B[0m\n",
      "\u001B[32m2024-07-11 17:22:02.403\u001B[0m | \u001B[1mINFO    \u001B[0m | \u001B[36m__main__\u001B[0m:\u001B[36m<module>\u001B[0m:\u001B[36m12\u001B[0m - \u001B[1m[69, 70, 71, 72, 73]\u001B[0m\n",
      "\u001B[32m2024-07-11 17:22:02.403\u001B[0m | \u001B[1mINFO    \u001B[0m | \u001B[36m__main__\u001B[0m:\u001B[36m<module>\u001B[0m:\u001B[36m13\u001B[0m - \u001B[1m67\u001B[0m\n",
      "\u001B[32m2024-07-11 17:22:02.403\u001B[0m | \u001B[1mINFO    \u001B[0m | \u001B[36m__main__\u001B[0m:\u001B[36m<module>\u001B[0m:\u001B[36m14\u001B[0m - \u001B[1m54\u001B[0m\n",
      "\u001B[32m2024-07-11 17:22:02.403\u001B[0m | \u001B[1mINFO    \u001B[0m | \u001B[36m__main__\u001B[0m:\u001B[36m<module>\u001B[0m:\u001B[36m15\u001B[0m - \u001B[1m56\u001B[0m\n",
      "\u001B[32m2024-07-11 17:22:02.403\u001B[0m | \u001B[1mINFO    \u001B[0m | \u001B[36m__main__\u001B[0m:\u001B[36m<module>\u001B[0m:\u001B[36m17\u001B[0m - \u001B[1mje suis 1\u001B[0m\n",
      "\u001B[32m2024-07-11 17:22:02.403\u001B[0m | \u001B[1mINFO    \u001B[0m | \u001B[36m__main__\u001B[0m:\u001B[36m<module>\u001B[0m:\u001B[36m12\u001B[0m - \u001B[1m[68, 69, 70, 71, 72]\u001B[0m\n",
      "\u001B[32m2024-07-11 17:22:02.403\u001B[0m | \u001B[1mINFO    \u001B[0m | \u001B[36m__main__\u001B[0m:\u001B[36m<module>\u001B[0m:\u001B[36m13\u001B[0m - \u001B[1m69\u001B[0m\n",
      "\u001B[32m2024-07-11 17:22:02.403\u001B[0m | \u001B[1mINFO    \u001B[0m | \u001B[36m__main__\u001B[0m:\u001B[36m<module>\u001B[0m:\u001B[36m14\u001B[0m - \u001B[1m41\u001B[0m\n",
      "\u001B[32m2024-07-11 17:22:02.403\u001B[0m | \u001B[1mINFO    \u001B[0m | \u001B[36m__main__\u001B[0m:\u001B[36m<module>\u001B[0m:\u001B[36m15\u001B[0m - \u001B[1m72\u001B[0m\n",
      "\u001B[32m2024-07-11 17:22:02.403\u001B[0m | \u001B[1mINFO    \u001B[0m | \u001B[36m__main__\u001B[0m:\u001B[36m<module>\u001B[0m:\u001B[36m17\u001B[0m - \u001B[1mje suis 1\u001B[0m\n",
      "\u001B[32m2024-07-11 17:22:02.403\u001B[0m | \u001B[1mINFO    \u001B[0m | \u001B[36m__main__\u001B[0m:\u001B[36m<module>\u001B[0m:\u001B[36m12\u001B[0m - \u001B[1m[82, 83, 84, 85, 86]\u001B[0m\n",
      "\u001B[32m2024-07-11 17:22:02.403\u001B[0m | \u001B[1mINFO    \u001B[0m | \u001B[36m__main__\u001B[0m:\u001B[36m<module>\u001B[0m:\u001B[36m13\u001B[0m - \u001B[1m84\u001B[0m\n",
      "\u001B[32m2024-07-11 17:22:02.419\u001B[0m | \u001B[1mINFO    \u001B[0m | \u001B[36m__main__\u001B[0m:\u001B[36m<module>\u001B[0m:\u001B[36m14\u001B[0m - \u001B[1m4\u001B[0m\n",
      "\u001B[32m2024-07-11 17:22:02.419\u001B[0m | \u001B[1mINFO    \u001B[0m | \u001B[36m__main__\u001B[0m:\u001B[36m<module>\u001B[0m:\u001B[36m15\u001B[0m - \u001B[1m12\u001B[0m\n",
      "\u001B[32m2024-07-11 17:22:02.419\u001B[0m | \u001B[1mINFO    \u001B[0m | \u001B[36m__main__\u001B[0m:\u001B[36m<module>\u001B[0m:\u001B[36m17\u001B[0m - \u001B[1mje suis 1\u001B[0m\n",
      "\u001B[32m2024-07-11 17:22:02.422\u001B[0m | \u001B[1mINFO    \u001B[0m | \u001B[36m__main__\u001B[0m:\u001B[36m<module>\u001B[0m:\u001B[36m12\u001B[0m - \u001B[1m[82, 83, 84, 85, 86]\u001B[0m\n",
      "\u001B[32m2024-07-11 17:22:02.422\u001B[0m | \u001B[1mINFO    \u001B[0m | \u001B[36m__main__\u001B[0m:\u001B[36m<module>\u001B[0m:\u001B[36m13\u001B[0m - \u001B[1m6\u001B[0m\n",
      "\u001B[32m2024-07-11 17:22:02.422\u001B[0m | \u001B[1mINFO    \u001B[0m | \u001B[36m__main__\u001B[0m:\u001B[36m<module>\u001B[0m:\u001B[36m14\u001B[0m - \u001B[1m84\u001B[0m\n",
      "\u001B[32m2024-07-11 17:22:02.422\u001B[0m | \u001B[1mINFO    \u001B[0m | \u001B[36m__main__\u001B[0m:\u001B[36m<module>\u001B[0m:\u001B[36m15\u001B[0m - \u001B[1m13\u001B[0m\n",
      "\u001B[32m2024-07-11 17:22:02.422\u001B[0m | \u001B[1mINFO    \u001B[0m | \u001B[36m__main__\u001B[0m:\u001B[36m<module>\u001B[0m:\u001B[36m17\u001B[0m - \u001B[1mje suis 1\u001B[0m\n"
     ]
    },
    {
     "name": "stdout",
     "output_type": "stream",
     "text": [
      "[1, 1, 1, 1, 1, 1, 1, 1, 1, 1, 1, 1, 1, 1, 1, 1, 1, 1, 1, 1, 1, 1]\n"
     ]
    }
   ],
   "execution_count": 40
  },
  {
   "metadata": {},
   "cell_type": "markdown",
   "source": "",
   "id": "a2725d115684d053"
  },
  {
   "metadata": {},
   "cell_type": "markdown",
   "source": "# OCR LAVA",
   "id": "761615c516b3463"
  },
  {
   "metadata": {
    "ExecuteTime": {
     "end_time": "2024-07-11T15:25:08.354187Z",
     "start_time": "2024-07-11T15:25:08.329766Z"
    }
   },
   "cell_type": "code",
   "source": [
    "# read data from csv file\n",
    "notebook_path = Path().resolve().parent\n",
    "print(notebook_path)\n",
    "\n",
    "# Construct the filename relative to the new path\n",
    "filename = notebook_path / \"notebooks/new_data/df_standard_ocr_lava.csv\"\n",
    "df_ocr_lava = pd.read_csv(filename)\n",
    "df_ocr_lava.head()"
   ],
   "id": "e8915696b5e8f18c",
   "outputs": [
    {
     "name": "stdout",
     "output_type": "stream",
     "text": [
      "C:\\Users\\baatout\\PycharmProjects\\afm-vlm\\experiments\\second_experiment\n"
     ]
    },
    {
     "data": {
      "text/plain": [
       "                                             Prompt  GT_Keyframe  Top_1  \\\n",
       "0                                 learning outcomes            3     85   \n",
       "1  What are the learning outcomes from the lecture?            3     64   \n",
       "2      What is the relation of protien and muscles?           26     27   \n",
       "3                             Essential fatty acids           29     54   \n",
       "4                                 fish oil capsules           30     53   \n",
       "\n",
       "   Top_2  Top_3  \n",
       "0     64      4  \n",
       "1     85      4  \n",
       "2     72     24  \n",
       "3     36     29  \n",
       "4     30      2  "
      ],
      "text/html": [
       "<div>\n",
       "<style scoped>\n",
       "    .dataframe tbody tr th:only-of-type {\n",
       "        vertical-align: middle;\n",
       "    }\n",
       "\n",
       "    .dataframe tbody tr th {\n",
       "        vertical-align: top;\n",
       "    }\n",
       "\n",
       "    .dataframe thead th {\n",
       "        text-align: right;\n",
       "    }\n",
       "</style>\n",
       "<table border=\"1\" class=\"dataframe\">\n",
       "  <thead>\n",
       "    <tr style=\"text-align: right;\">\n",
       "      <th></th>\n",
       "      <th>Prompt</th>\n",
       "      <th>GT_Keyframe</th>\n",
       "      <th>Top_1</th>\n",
       "      <th>Top_2</th>\n",
       "      <th>Top_3</th>\n",
       "    </tr>\n",
       "  </thead>\n",
       "  <tbody>\n",
       "    <tr>\n",
       "      <th>0</th>\n",
       "      <td>learning outcomes</td>\n",
       "      <td>3</td>\n",
       "      <td>85</td>\n",
       "      <td>64</td>\n",
       "      <td>4</td>\n",
       "    </tr>\n",
       "    <tr>\n",
       "      <th>1</th>\n",
       "      <td>What are the learning outcomes from the lecture?</td>\n",
       "      <td>3</td>\n",
       "      <td>64</td>\n",
       "      <td>85</td>\n",
       "      <td>4</td>\n",
       "    </tr>\n",
       "    <tr>\n",
       "      <th>2</th>\n",
       "      <td>What is the relation of protien and muscles?</td>\n",
       "      <td>26</td>\n",
       "      <td>27</td>\n",
       "      <td>72</td>\n",
       "      <td>24</td>\n",
       "    </tr>\n",
       "    <tr>\n",
       "      <th>3</th>\n",
       "      <td>Essential fatty acids</td>\n",
       "      <td>29</td>\n",
       "      <td>54</td>\n",
       "      <td>36</td>\n",
       "      <td>29</td>\n",
       "    </tr>\n",
       "    <tr>\n",
       "      <th>4</th>\n",
       "      <td>fish oil capsules</td>\n",
       "      <td>30</td>\n",
       "      <td>53</td>\n",
       "      <td>30</td>\n",
       "      <td>2</td>\n",
       "    </tr>\n",
       "  </tbody>\n",
       "</table>\n",
       "</div>"
      ]
     },
     "execution_count": 42,
     "metadata": {},
     "output_type": "execute_result"
    }
   ],
   "execution_count": 42
  },
  {
   "metadata": {
    "ExecuteTime": {
     "end_time": "2024-07-11T15:25:09.103068Z",
     "start_time": "2024-07-11T15:25:08.960342Z"
    }
   },
   "cell_type": "code",
   "source": [
    "# call\n",
    "calculate_and_plot_gt_keyframe_percentage(df_ocr_lava)"
   ],
   "id": "3ab6719b348fd451",
   "outputs": [
    {
     "name": "stdout",
     "output_type": "stream",
     "text": [
      "GT_Keyframe in Top 1: 4.55%\n",
      "GT_Keyframe in Top 2: 4.55%\n",
      "GT_Keyframe in Top 3: 22.73%\n"
     ]
    },
    {
     "data": {
      "text/plain": [
       "<Figure size 1000x600 with 0 Axes>"
      ]
     },
     "metadata": {},
     "output_type": "display_data"
    },
    {
     "data": {
      "text/plain": [
       "<Figure size 800x500 with 1 Axes>"
      ],
      "image/png": "[encoded data removed]"
     },
     "metadata": {},
     "output_type": "display_data"
    }
   ],
   "execution_count": 43
  },
  {
   "metadata": {
    "ExecuteTime": {
     "end_time": "2024-07-11T15:25:20.295618Z",
     "start_time": "2024-07-11T15:25:20.265341Z"
    }
   },
   "cell_type": "code",
   "source": [
    "# iterate through data frame \n",
    "df = df_ocr_lava\n",
    "# iterate through data frame \n",
    "res = []\n",
    "for _, row in df.iterrows():\n",
    "        logger.info(row['Prompt'])\n",
    "        gt_keyframe = row['GT_Keyframe']\n",
    "        prox =check_proximity_keyframes(gt_keyframe)\n",
    "        res.append(prox)\n",
    "\n",
    "prox_yes_no = []\n",
    "for i, row in df.iterrows():\n",
    "    if row['Top_1'] or row['Top_2'] or row['Top_3'] in res[i]: \n",
    "        prox_yes_no.append(1)\n",
    "    else: \n",
    "        prox_yes_no.append(0)\n",
    "\n",
    "print(prox_yes_no)"
   ],
   "id": "a4e1fadec64a0dd4",
   "outputs": [
    {
     "name": "stderr",
     "output_type": "stream",
     "text": [
      "\u001B[32m2024-07-11 17:25:20.276\u001B[0m | \u001B[1mINFO    \u001B[0m | \u001B[36m__main__\u001B[0m:\u001B[36m<module>\u001B[0m:\u001B[36m6\u001B[0m - \u001B[1mlearning outcomes\u001B[0m\n",
      "\u001B[32m2024-07-11 17:25:20.276\u001B[0m | \u001B[1mINFO    \u001B[0m | \u001B[36m__main__\u001B[0m:\u001B[36m<module>\u001B[0m:\u001B[36m6\u001B[0m - \u001B[1mWhat are the learning outcomes from the lecture?\u001B[0m\n",
      "\u001B[32m2024-07-11 17:25:20.276\u001B[0m | \u001B[1mINFO    \u001B[0m | \u001B[36m__main__\u001B[0m:\u001B[36m<module>\u001B[0m:\u001B[36m6\u001B[0m - \u001B[1mWhat is the relation of protien and muscles?\u001B[0m\n",
      "\u001B[32m2024-07-11 17:25:20.281\u001B[0m | \u001B[1mINFO    \u001B[0m | \u001B[36m__main__\u001B[0m:\u001B[36m<module>\u001B[0m:\u001B[36m6\u001B[0m - \u001B[1mEssential fatty acids\u001B[0m\n",
      "\u001B[32m2024-07-11 17:25:20.281\u001B[0m | \u001B[1mINFO    \u001B[0m | \u001B[36m__main__\u001B[0m:\u001B[36m<module>\u001B[0m:\u001B[36m6\u001B[0m - \u001B[1mfish oil capsules\u001B[0m\n",
      "\u001B[32m2024-07-11 17:25:20.281\u001B[0m | \u001B[1mINFO    \u001B[0m | \u001B[36m__main__\u001B[0m:\u001B[36m<module>\u001B[0m:\u001B[36m6\u001B[0m - \u001B[1mwhat is the functioning of fish oil capsules and its relation to vitamins\u001B[0m\n",
      "\u001B[32m2024-07-11 17:25:20.281\u001B[0m | \u001B[1mINFO    \u001B[0m | \u001B[36m__main__\u001B[0m:\u001B[36m<module>\u001B[0m:\u001B[36m6\u001B[0m - \u001B[1mcalcium as micronutrient\u001B[0m\n",
      "\u001B[32m2024-07-11 17:25:20.281\u001B[0m | \u001B[1mINFO    \u001B[0m | \u001B[36m__main__\u001B[0m:\u001B[36m<module>\u001B[0m:\u001B[36m6\u001B[0m - \u001B[1mExplain where vitamins function as coenzymes\u001B[0m\n",
      "\u001B[32m2024-07-11 17:25:20.281\u001B[0m | \u001B[1mINFO    \u001B[0m | \u001B[36m__main__\u001B[0m:\u001B[36m<module>\u001B[0m:\u001B[36m6\u001B[0m - \u001B[1mGive a list of food items where I can attain some important micronutrient\u001B[0m\n",
      "\u001B[32m2024-07-11 17:25:20.281\u001B[0m | \u001B[1mINFO    \u001B[0m | \u001B[36m__main__\u001B[0m:\u001B[36m<module>\u001B[0m:\u001B[36m6\u001B[0m - \u001B[1mwhat is calcium commonly supplemented for\u001B[0m\n",
      "\u001B[32m2024-07-11 17:25:20.281\u001B[0m | \u001B[1mINFO    \u001B[0m | \u001B[36m__main__\u001B[0m:\u001B[36m<module>\u001B[0m:\u001B[36m6\u001B[0m - \u001B[1mHow are nutrients extracted from plant cells\u001B[0m\n",
      "\u001B[32m2024-07-11 17:25:20.281\u001B[0m | \u001B[1mINFO    \u001B[0m | \u001B[36m__main__\u001B[0m:\u001B[36m<module>\u001B[0m:\u001B[36m6\u001B[0m - \u001B[1mflavanol food sources\u001B[0m\n",
      "\u001B[32m2024-07-11 17:25:20.281\u001B[0m | \u001B[1mINFO    \u001B[0m | \u001B[36m__main__\u001B[0m:\u001B[36m<module>\u001B[0m:\u001B[36m6\u001B[0m - \u001B[1mwhat are the main food sources of lycopene red fruits\u001B[0m\n",
      "\u001B[32m2024-07-11 17:25:20.281\u001B[0m | \u001B[1mINFO    \u001B[0m | \u001B[36m__main__\u001B[0m:\u001B[36m<module>\u001B[0m:\u001B[36m6\u001B[0m - \u001B[1mwhat is semipermeable in plasma membrane\u001B[0m\n",
      "\u001B[32m2024-07-11 17:25:20.281\u001B[0m | \u001B[1mINFO    \u001B[0m | \u001B[36m__main__\u001B[0m:\u001B[36m<module>\u001B[0m:\u001B[36m6\u001B[0m - \u001B[1mpigment chlorophyll\u001B[0m\n",
      "\u001B[32m2024-07-11 17:25:20.281\u001B[0m | \u001B[1mINFO    \u001B[0m | \u001B[36m__main__\u001B[0m:\u001B[36m<module>\u001B[0m:\u001B[36m6\u001B[0m - \u001B[1mexplain subcellular structures such as the structures to recycle molecules in the digestive tract\u001B[0m\n",
      "\u001B[32m2024-07-11 17:25:20.281\u001B[0m | \u001B[1mINFO    \u001B[0m | \u001B[36m__main__\u001B[0m:\u001B[36m<module>\u001B[0m:\u001B[36m6\u001B[0m - \u001B[1mPassive transport molecules\u001B[0m\n",
      "\u001B[32m2024-07-11 17:25:20.281\u001B[0m | \u001B[1mINFO    \u001B[0m | \u001B[36m__main__\u001B[0m:\u001B[36m<module>\u001B[0m:\u001B[36m6\u001B[0m - \u001B[1mrole of centrioles for cell division\u001B[0m\n",
      "\u001B[32m2024-07-11 17:25:20.281\u001B[0m | \u001B[1mINFO    \u001B[0m | \u001B[36m__main__\u001B[0m:\u001B[36m<module>\u001B[0m:\u001B[36m6\u001B[0m - \u001B[1mHow do protients facilitate hydrophilic substances to travel across cell membrane\u001B[0m\n",
      "\u001B[32m2024-07-11 17:25:20.281\u001B[0m | \u001B[1mINFO    \u001B[0m | \u001B[36m__main__\u001B[0m:\u001B[36m<module>\u001B[0m:\u001B[36m6\u001B[0m - \u001B[1mCormoday oxide\u001B[0m\n",
      "\u001B[32m2024-07-11 17:25:20.281\u001B[0m | \u001B[1mINFO    \u001B[0m | \u001B[36m__main__\u001B[0m:\u001B[36m<module>\u001B[0m:\u001B[36m6\u001B[0m - \u001B[1mFDA testing\u001B[0m\n",
      "\u001B[32m2024-07-11 17:25:20.281\u001B[0m | \u001B[1mINFO    \u001B[0m | \u001B[36m__main__\u001B[0m:\u001B[36m<module>\u001B[0m:\u001B[36m6\u001B[0m - \u001B[1mlegal requirements for health impact\u001B[0m\n"
     ]
    },
    {
     "name": "stdout",
     "output_type": "stream",
     "text": [
      "[1, 1, 1, 1, 1, 1, 1, 1, 1, 1, 1, 1, 1, 1, 1, 1, 1, 1, 1, 1, 1, 1]\n"
     ]
    }
   ],
   "execution_count": 45
  },
  {
   "metadata": {},
   "cell_type": "markdown",
   "source": "",
   "id": "4e1451ddfe56c66"
  },
  {
   "metadata": {},
   "cell_type": "markdown",
   "source": "# LLM Long Summary",
   "id": "7b24d14ced6b0717"
  },
  {
   "metadata": {
    "ExecuteTime": {
     "end_time": "2024-07-11T15:25:55.312503Z",
     "start_time": "2024-07-11T15:25:55.284437Z"
    }
   },
   "cell_type": "code",
   "source": [
    "# read data from csv file\n",
    "notebook_path = Path().resolve().parent\n",
    "print(notebook_path)\n",
    "\n",
    "# Construct the filename relative to the new path\n",
    "filename = notebook_path / \"notebooks/new_data/df_standard_llm_long_summary.csv\"\n",
    "df_long_summary = pd.read_csv(filename)\n",
    "df_long_summary.head()"
   ],
   "id": "80db1f084d7a50c0",
   "outputs": [
    {
     "name": "stdout",
     "output_type": "stream",
     "text": [
      "C:\\Users\\baatout\\PycharmProjects\\afm-vlm\\experiments\\second_experiment\n"
     ]
    },
    {
     "data": {
      "text/plain": [
       "                                             Prompt  GT_Keyframe  Top_1  \\\n",
       "0                                 learning outcomes            3     85   \n",
       "1  What are the learning outcomes from the lecture?            3     85   \n",
       "2      What is the relation of protien and muscles?           26     24   \n",
       "3                             Essential fatty acids           29     29   \n",
       "4                                 fish oil capsules           30     30   \n",
       "\n",
       "   Top_2  Top_3  \n",
       "0      3      4  \n",
       "1      3      1  \n",
       "2     65     27  \n",
       "3     28     37  \n",
       "4     34     29  "
      ],
      "text/html": [
       "<div>\n",
       "<style scoped>\n",
       "    .dataframe tbody tr th:only-of-type {\n",
       "        vertical-align: middle;\n",
       "    }\n",
       "\n",
       "    .dataframe tbody tr th {\n",
       "        vertical-align: top;\n",
       "    }\n",
       "\n",
       "    .dataframe thead th {\n",
       "        text-align: right;\n",
       "    }\n",
       "</style>\n",
       "<table border=\"1\" class=\"dataframe\">\n",
       "  <thead>\n",
       "    <tr style=\"text-align: right;\">\n",
       "      <th></th>\n",
       "      <th>Prompt</th>\n",
       "      <th>GT_Keyframe</th>\n",
       "      <th>Top_1</th>\n",
       "      <th>Top_2</th>\n",
       "      <th>Top_3</th>\n",
       "    </tr>\n",
       "  </thead>\n",
       "  <tbody>\n",
       "    <tr>\n",
       "      <th>0</th>\n",
       "      <td>learning outcomes</td>\n",
       "      <td>3</td>\n",
       "      <td>85</td>\n",
       "      <td>3</td>\n",
       "      <td>4</td>\n",
       "    </tr>\n",
       "    <tr>\n",
       "      <th>1</th>\n",
       "      <td>What are the learning outcomes from the lecture?</td>\n",
       "      <td>3</td>\n",
       "      <td>85</td>\n",
       "      <td>3</td>\n",
       "      <td>1</td>\n",
       "    </tr>\n",
       "    <tr>\n",
       "      <th>2</th>\n",
       "      <td>What is the relation of protien and muscles?</td>\n",
       "      <td>26</td>\n",
       "      <td>24</td>\n",
       "      <td>65</td>\n",
       "      <td>27</td>\n",
       "    </tr>\n",
       "    <tr>\n",
       "      <th>3</th>\n",
       "      <td>Essential fatty acids</td>\n",
       "      <td>29</td>\n",
       "      <td>29</td>\n",
       "      <td>28</td>\n",
       "      <td>37</td>\n",
       "    </tr>\n",
       "    <tr>\n",
       "      <th>4</th>\n",
       "      <td>fish oil capsules</td>\n",
       "      <td>30</td>\n",
       "      <td>30</td>\n",
       "      <td>34</td>\n",
       "      <td>29</td>\n",
       "    </tr>\n",
       "  </tbody>\n",
       "</table>\n",
       "</div>"
      ]
     },
     "execution_count": 47,
     "metadata": {},
     "output_type": "execute_result"
    }
   ],
   "execution_count": 47
  },
  {
   "metadata": {
    "ExecuteTime": {
     "end_time": "2024-07-11T15:25:55.801332Z",
     "start_time": "2024-07-11T15:25:55.666159Z"
    }
   },
   "cell_type": "code",
   "source": [
    "# call\n",
    "calculate_and_plot_gt_keyframe_percentage(df_long_summary)"
   ],
   "id": "6efa71b20ff7e470",
   "outputs": [
    {
     "name": "stdout",
     "output_type": "stream",
     "text": [
      "GT_Keyframe in Top 1: 45.45%\n",
      "GT_Keyframe in Top 2: 18.18%\n",
      "GT_Keyframe in Top 3: 9.09%\n"
     ]
    },
    {
     "data": {
      "text/plain": [
       "<Figure size 1000x600 with 0 Axes>"
      ]
     },
     "metadata": {},
     "output_type": "display_data"
    },
    {
     "data": {
      "text/plain": [
       "<Figure size 800x500 with 1 Axes>"
      ],
      "image/png": "[encoded data removed]"
     },
     "metadata": {},
     "output_type": "display_data"
    }
   ],
   "execution_count": 48
  },
  {
   "metadata": {},
   "cell_type": "markdown",
   "source": "",
   "id": "15dd2fbc69921133"
  },
  {
   "metadata": {
    "ExecuteTime": {
     "end_time": "2024-07-11T15:25:57.374659Z",
     "start_time": "2024-07-11T15:25:57.342049Z"
    }
   },
   "cell_type": "code",
   "source": [
    "# iterate through data frame \n",
    "df = df_long_summary\n",
    "res = []\n",
    "for _, row in df.iterrows():\n",
    "        logger.info(row['Prompt'])\n",
    "        gt_keyframe = row['GT_Keyframe']\n",
    "        prox =check_proximity_keyframes(gt_keyframe)\n",
    "        res.append(prox)\n",
    "\n",
    "prox_yes_no = []\n",
    "for i, row in df.iterrows():\n",
    "    if row['Top_1'] or row['Top_2'] or row['Top_3'] in res[i]: \n",
    "        prox_yes_no.append(1)\n",
    "    else: \n",
    "        prox_yes_no.append(0)\n",
    "\n",
    "print(prox_yes_no)"
   ],
   "id": "1e5707a909f3b6fa",
   "outputs": [
    {
     "name": "stderr",
     "output_type": "stream",
     "text": [
      "\u001B[32m2024-07-11 17:25:57.342\u001B[0m | \u001B[1mINFO    \u001B[0m | \u001B[36m__main__\u001B[0m:\u001B[36m<module>\u001B[0m:\u001B[36m5\u001B[0m - \u001B[1mlearning outcomes\u001B[0m\n",
      "\u001B[32m2024-07-11 17:25:57.357\u001B[0m | \u001B[1mINFO    \u001B[0m | \u001B[36m__main__\u001B[0m:\u001B[36m<module>\u001B[0m:\u001B[36m5\u001B[0m - \u001B[1mWhat are the learning outcomes from the lecture?\u001B[0m\n",
      "\u001B[32m2024-07-11 17:25:57.357\u001B[0m | \u001B[1mINFO    \u001B[0m | \u001B[36m__main__\u001B[0m:\u001B[36m<module>\u001B[0m:\u001B[36m5\u001B[0m - \u001B[1mWhat is the relation of protien and muscles?\u001B[0m\n",
      "\u001B[32m2024-07-11 17:25:57.359\u001B[0m | \u001B[1mINFO    \u001B[0m | \u001B[36m__main__\u001B[0m:\u001B[36m<module>\u001B[0m:\u001B[36m5\u001B[0m - \u001B[1mEssential fatty acids\u001B[0m\n",
      "\u001B[32m2024-07-11 17:25:57.359\u001B[0m | \u001B[1mINFO    \u001B[0m | \u001B[36m__main__\u001B[0m:\u001B[36m<module>\u001B[0m:\u001B[36m5\u001B[0m - \u001B[1mfish oil capsules\u001B[0m\n",
      "\u001B[32m2024-07-11 17:25:57.360\u001B[0m | \u001B[1mINFO    \u001B[0m | \u001B[36m__main__\u001B[0m:\u001B[36m<module>\u001B[0m:\u001B[36m5\u001B[0m - \u001B[1mwhat is the functioning of fish oil capsules and its relation to vitamins\u001B[0m\n",
      "\u001B[32m2024-07-11 17:25:57.360\u001B[0m | \u001B[1mINFO    \u001B[0m | \u001B[36m__main__\u001B[0m:\u001B[36m<module>\u001B[0m:\u001B[36m5\u001B[0m - \u001B[1mcalcium as micronutrient\u001B[0m\n",
      "\u001B[32m2024-07-11 17:25:57.361\u001B[0m | \u001B[1mINFO    \u001B[0m | \u001B[36m__main__\u001B[0m:\u001B[36m<module>\u001B[0m:\u001B[36m5\u001B[0m - \u001B[1mExplain where vitamins function as coenzymes\u001B[0m\n",
      "\u001B[32m2024-07-11 17:25:57.362\u001B[0m | \u001B[1mINFO    \u001B[0m | \u001B[36m__main__\u001B[0m:\u001B[36m<module>\u001B[0m:\u001B[36m5\u001B[0m - \u001B[1mGive a list of food items where I can attain some important micronutrient\u001B[0m\n",
      "\u001B[32m2024-07-11 17:25:57.363\u001B[0m | \u001B[1mINFO    \u001B[0m | \u001B[36m__main__\u001B[0m:\u001B[36m<module>\u001B[0m:\u001B[36m5\u001B[0m - \u001B[1mwhat is calcium commonly supplemented for\u001B[0m\n",
      "\u001B[32m2024-07-11 17:25:57.363\u001B[0m | \u001B[1mINFO    \u001B[0m | \u001B[36m__main__\u001B[0m:\u001B[36m<module>\u001B[0m:\u001B[36m5\u001B[0m - \u001B[1mHow are nutrients extracted from plant cells\u001B[0m\n",
      "\u001B[32m2024-07-11 17:25:57.363\u001B[0m | \u001B[1mINFO    \u001B[0m | \u001B[36m__main__\u001B[0m:\u001B[36m<module>\u001B[0m:\u001B[36m5\u001B[0m - \u001B[1mflavanol food sources\u001B[0m\n",
      "\u001B[32m2024-07-11 17:25:57.364\u001B[0m | \u001B[1mINFO    \u001B[0m | \u001B[36m__main__\u001B[0m:\u001B[36m<module>\u001B[0m:\u001B[36m5\u001B[0m - \u001B[1mwhat are the main food sources of lycopene red fruits\u001B[0m\n",
      "\u001B[32m2024-07-11 17:25:57.365\u001B[0m | \u001B[1mINFO    \u001B[0m | \u001B[36m__main__\u001B[0m:\u001B[36m<module>\u001B[0m:\u001B[36m5\u001B[0m - \u001B[1mwhat is semipermeable in plasma membrane\u001B[0m\n",
      "\u001B[32m2024-07-11 17:25:57.365\u001B[0m | \u001B[1mINFO    \u001B[0m | \u001B[36m__main__\u001B[0m:\u001B[36m<module>\u001B[0m:\u001B[36m5\u001B[0m - \u001B[1mpigment chlorophyll\u001B[0m\n",
      "\u001B[32m2024-07-11 17:25:57.365\u001B[0m | \u001B[1mINFO    \u001B[0m | \u001B[36m__main__\u001B[0m:\u001B[36m<module>\u001B[0m:\u001B[36m5\u001B[0m - \u001B[1mexplain subcellular structures such as the structures to recycle molecules in the digestive tract\u001B[0m\n",
      "\u001B[32m2024-07-11 17:25:57.365\u001B[0m | \u001B[1mINFO    \u001B[0m | \u001B[36m__main__\u001B[0m:\u001B[36m<module>\u001B[0m:\u001B[36m5\u001B[0m - \u001B[1mPassive transport molecules\u001B[0m\n",
      "\u001B[32m2024-07-11 17:25:57.365\u001B[0m | \u001B[1mINFO    \u001B[0m | \u001B[36m__main__\u001B[0m:\u001B[36m<module>\u001B[0m:\u001B[36m5\u001B[0m - \u001B[1mrole of centrioles for cell division\u001B[0m\n",
      "\u001B[32m2024-07-11 17:25:57.365\u001B[0m | \u001B[1mINFO    \u001B[0m | \u001B[36m__main__\u001B[0m:\u001B[36m<module>\u001B[0m:\u001B[36m5\u001B[0m - \u001B[1mHow do protients facilitate hydrophilic substances to travel across cell membrane\u001B[0m\n",
      "\u001B[32m2024-07-11 17:25:57.365\u001B[0m | \u001B[1mINFO    \u001B[0m | \u001B[36m__main__\u001B[0m:\u001B[36m<module>\u001B[0m:\u001B[36m5\u001B[0m - \u001B[1mCormoday oxide\u001B[0m\n",
      "\u001B[32m2024-07-11 17:25:57.365\u001B[0m | \u001B[1mINFO    \u001B[0m | \u001B[36m__main__\u001B[0m:\u001B[36m<module>\u001B[0m:\u001B[36m5\u001B[0m - \u001B[1mFDA testing\u001B[0m\n",
      "\u001B[32m2024-07-11 17:25:57.365\u001B[0m | \u001B[1mINFO    \u001B[0m | \u001B[36m__main__\u001B[0m:\u001B[36m<module>\u001B[0m:\u001B[36m5\u001B[0m - \u001B[1mlegal requirements for health impact\u001B[0m\n"
     ]
    },
    {
     "name": "stdout",
     "output_type": "stream",
     "text": [
      "[1, 1, 1, 1, 1, 1, 1, 1, 1, 1, 1, 1, 1, 1, 1, 1, 1, 1, 1, 1, 1, 1]\n"
     ]
    }
   ],
   "execution_count": 49
  },
  {
   "metadata": {},
   "cell_type": "markdown",
   "source": "# OCR TRANSCRIPTIONS - Still not possible since they are nans",
   "id": "e93e5e5fc5c70dfc"
  },
  {
   "metadata": {
    "ExecuteTime": {
     "end_time": "2024-07-11T15:26:04.596691Z",
     "start_time": "2024-07-11T15:26:04.427612Z"
    }
   },
   "cell_type": "code",
   "source": [
    "df_ocr_transcriptions = pd.read_csv('experiments/second_experiment/new_data/df_standard_ocr_transcriptions.csv')\n",
    "df_ocr_transcriptions.head()"
   ],
   "id": "ea27443f9c013f6e",
   "outputs": [
    {
     "ename": "FileNotFoundError",
     "evalue": "[Errno 2] No such file or directory: 'experiments/second_experiment/new_data/df_standard_ocr_transcriptions.csv'",
     "output_type": "error",
     "traceback": [
      "\u001B[1;31m---------------------------------------------------------------------------\u001B[0m",
      "\u001B[1;31mFileNotFoundError\u001B[0m                         Traceback (most recent call last)",
      "Cell \u001B[1;32mIn[50], line 1\u001B[0m\n\u001B[1;32m----> 1\u001B[0m df_ocr_transcriptions \u001B[38;5;241m=\u001B[39m \u001B[43mpd\u001B[49m\u001B[38;5;241;43m.\u001B[39;49m\u001B[43mread_csv\u001B[49m\u001B[43m(\u001B[49m\u001B[38;5;124;43m'\u001B[39;49m\u001B[38;5;124;43mexperiments/second_experiment/new_data/df_standard_ocr_transcriptions.csv\u001B[39;49m\u001B[38;5;124;43m'\u001B[39;49m\u001B[43m)\u001B[49m\n\u001B[0;32m      2\u001B[0m df_ocr_transcriptions\u001B[38;5;241m.\u001B[39mhead()\n",
      "File \u001B[1;32m~\\PycharmProjects\\afm-vlm\\.venv\\Lib\\site-packages\\pandas\\io\\parsers\\readers.py:1026\u001B[0m, in \u001B[0;36mread_csv\u001B[1;34m(filepath_or_buffer, sep, delimiter, header, names, index_col, usecols, dtype, engine, converters, true_values, false_values, skipinitialspace, skiprows, skipfooter, nrows, na_values, keep_default_na, na_filter, verbose, skip_blank_lines, parse_dates, infer_datetime_format, keep_date_col, date_parser, date_format, dayfirst, cache_dates, iterator, chunksize, compression, thousands, decimal, lineterminator, quotechar, quoting, doublequote, escapechar, comment, encoding, encoding_errors, dialect, on_bad_lines, delim_whitespace, low_memory, memory_map, float_precision, storage_options, dtype_backend)\u001B[0m\n\u001B[0;32m   1013\u001B[0m kwds_defaults \u001B[38;5;241m=\u001B[39m _refine_defaults_read(\n\u001B[0;32m   1014\u001B[0m     dialect,\n\u001B[0;32m   1015\u001B[0m     delimiter,\n\u001B[1;32m   (...)\u001B[0m\n\u001B[0;32m   1022\u001B[0m     dtype_backend\u001B[38;5;241m=\u001B[39mdtype_backend,\n\u001B[0;32m   1023\u001B[0m )\n\u001B[0;32m   1024\u001B[0m kwds\u001B[38;5;241m.\u001B[39mupdate(kwds_defaults)\n\u001B[1;32m-> 1026\u001B[0m \u001B[38;5;28;01mreturn\u001B[39;00m \u001B[43m_read\u001B[49m\u001B[43m(\u001B[49m\u001B[43mfilepath_or_buffer\u001B[49m\u001B[43m,\u001B[49m\u001B[43m \u001B[49m\u001B[43mkwds\u001B[49m\u001B[43m)\u001B[49m\n",
      "File \u001B[1;32m~\\PycharmProjects\\afm-vlm\\.venv\\Lib\\site-packages\\pandas\\io\\parsers\\readers.py:620\u001B[0m, in \u001B[0;36m_read\u001B[1;34m(filepath_or_buffer, kwds)\u001B[0m\n\u001B[0;32m    617\u001B[0m _validate_names(kwds\u001B[38;5;241m.\u001B[39mget(\u001B[38;5;124m\"\u001B[39m\u001B[38;5;124mnames\u001B[39m\u001B[38;5;124m\"\u001B[39m, \u001B[38;5;28;01mNone\u001B[39;00m))\n\u001B[0;32m    619\u001B[0m \u001B[38;5;66;03m# Create the parser.\u001B[39;00m\n\u001B[1;32m--> 620\u001B[0m parser \u001B[38;5;241m=\u001B[39m \u001B[43mTextFileReader\u001B[49m\u001B[43m(\u001B[49m\u001B[43mfilepath_or_buffer\u001B[49m\u001B[43m,\u001B[49m\u001B[43m \u001B[49m\u001B[38;5;241;43m*\u001B[39;49m\u001B[38;5;241;43m*\u001B[39;49m\u001B[43mkwds\u001B[49m\u001B[43m)\u001B[49m\n\u001B[0;32m    622\u001B[0m \u001B[38;5;28;01mif\u001B[39;00m chunksize \u001B[38;5;129;01mor\u001B[39;00m iterator:\n\u001B[0;32m    623\u001B[0m     \u001B[38;5;28;01mreturn\u001B[39;00m parser\n",
      "File \u001B[1;32m~\\PycharmProjects\\afm-vlm\\.venv\\Lib\\site-packages\\pandas\\io\\parsers\\readers.py:1620\u001B[0m, in \u001B[0;36mTextFileReader.__init__\u001B[1;34m(self, f, engine, **kwds)\u001B[0m\n\u001B[0;32m   1617\u001B[0m     \u001B[38;5;28mself\u001B[39m\u001B[38;5;241m.\u001B[39moptions[\u001B[38;5;124m\"\u001B[39m\u001B[38;5;124mhas_index_names\u001B[39m\u001B[38;5;124m\"\u001B[39m] \u001B[38;5;241m=\u001B[39m kwds[\u001B[38;5;124m\"\u001B[39m\u001B[38;5;124mhas_index_names\u001B[39m\u001B[38;5;124m\"\u001B[39m]\n\u001B[0;32m   1619\u001B[0m \u001B[38;5;28mself\u001B[39m\u001B[38;5;241m.\u001B[39mhandles: IOHandles \u001B[38;5;241m|\u001B[39m \u001B[38;5;28;01mNone\u001B[39;00m \u001B[38;5;241m=\u001B[39m \u001B[38;5;28;01mNone\u001B[39;00m\n\u001B[1;32m-> 1620\u001B[0m \u001B[38;5;28mself\u001B[39m\u001B[38;5;241m.\u001B[39m_engine \u001B[38;5;241m=\u001B[39m \u001B[38;5;28;43mself\u001B[39;49m\u001B[38;5;241;43m.\u001B[39;49m\u001B[43m_make_engine\u001B[49m\u001B[43m(\u001B[49m\u001B[43mf\u001B[49m\u001B[43m,\u001B[49m\u001B[43m \u001B[49m\u001B[38;5;28;43mself\u001B[39;49m\u001B[38;5;241;43m.\u001B[39;49m\u001B[43mengine\u001B[49m\u001B[43m)\u001B[49m\n",
      "File \u001B[1;32m~\\PycharmProjects\\afm-vlm\\.venv\\Lib\\site-packages\\pandas\\io\\parsers\\readers.py:1880\u001B[0m, in \u001B[0;36mTextFileReader._make_engine\u001B[1;34m(self, f, engine)\u001B[0m\n\u001B[0;32m   1878\u001B[0m     \u001B[38;5;28;01mif\u001B[39;00m \u001B[38;5;124m\"\u001B[39m\u001B[38;5;124mb\u001B[39m\u001B[38;5;124m\"\u001B[39m \u001B[38;5;129;01mnot\u001B[39;00m \u001B[38;5;129;01min\u001B[39;00m mode:\n\u001B[0;32m   1879\u001B[0m         mode \u001B[38;5;241m+\u001B[39m\u001B[38;5;241m=\u001B[39m \u001B[38;5;124m\"\u001B[39m\u001B[38;5;124mb\u001B[39m\u001B[38;5;124m\"\u001B[39m\n\u001B[1;32m-> 1880\u001B[0m \u001B[38;5;28mself\u001B[39m\u001B[38;5;241m.\u001B[39mhandles \u001B[38;5;241m=\u001B[39m \u001B[43mget_handle\u001B[49m\u001B[43m(\u001B[49m\n\u001B[0;32m   1881\u001B[0m \u001B[43m    \u001B[49m\u001B[43mf\u001B[49m\u001B[43m,\u001B[49m\n\u001B[0;32m   1882\u001B[0m \u001B[43m    \u001B[49m\u001B[43mmode\u001B[49m\u001B[43m,\u001B[49m\n\u001B[0;32m   1883\u001B[0m \u001B[43m    \u001B[49m\u001B[43mencoding\u001B[49m\u001B[38;5;241;43m=\u001B[39;49m\u001B[38;5;28;43mself\u001B[39;49m\u001B[38;5;241;43m.\u001B[39;49m\u001B[43moptions\u001B[49m\u001B[38;5;241;43m.\u001B[39;49m\u001B[43mget\u001B[49m\u001B[43m(\u001B[49m\u001B[38;5;124;43m\"\u001B[39;49m\u001B[38;5;124;43mencoding\u001B[39;49m\u001B[38;5;124;43m\"\u001B[39;49m\u001B[43m,\u001B[49m\u001B[43m \u001B[49m\u001B[38;5;28;43;01mNone\u001B[39;49;00m\u001B[43m)\u001B[49m\u001B[43m,\u001B[49m\n\u001B[0;32m   1884\u001B[0m \u001B[43m    \u001B[49m\u001B[43mcompression\u001B[49m\u001B[38;5;241;43m=\u001B[39;49m\u001B[38;5;28;43mself\u001B[39;49m\u001B[38;5;241;43m.\u001B[39;49m\u001B[43moptions\u001B[49m\u001B[38;5;241;43m.\u001B[39;49m\u001B[43mget\u001B[49m\u001B[43m(\u001B[49m\u001B[38;5;124;43m\"\u001B[39;49m\u001B[38;5;124;43mcompression\u001B[39;49m\u001B[38;5;124;43m\"\u001B[39;49m\u001B[43m,\u001B[49m\u001B[43m \u001B[49m\u001B[38;5;28;43;01mNone\u001B[39;49;00m\u001B[43m)\u001B[49m\u001B[43m,\u001B[49m\n\u001B[0;32m   1885\u001B[0m \u001B[43m    \u001B[49m\u001B[43mmemory_map\u001B[49m\u001B[38;5;241;43m=\u001B[39;49m\u001B[38;5;28;43mself\u001B[39;49m\u001B[38;5;241;43m.\u001B[39;49m\u001B[43moptions\u001B[49m\u001B[38;5;241;43m.\u001B[39;49m\u001B[43mget\u001B[49m\u001B[43m(\u001B[49m\u001B[38;5;124;43m\"\u001B[39;49m\u001B[38;5;124;43mmemory_map\u001B[39;49m\u001B[38;5;124;43m\"\u001B[39;49m\u001B[43m,\u001B[49m\u001B[43m \u001B[49m\u001B[38;5;28;43;01mFalse\u001B[39;49;00m\u001B[43m)\u001B[49m\u001B[43m,\u001B[49m\n\u001B[0;32m   1886\u001B[0m \u001B[43m    \u001B[49m\u001B[43mis_text\u001B[49m\u001B[38;5;241;43m=\u001B[39;49m\u001B[43mis_text\u001B[49m\u001B[43m,\u001B[49m\n\u001B[0;32m   1887\u001B[0m \u001B[43m    \u001B[49m\u001B[43merrors\u001B[49m\u001B[38;5;241;43m=\u001B[39;49m\u001B[38;5;28;43mself\u001B[39;49m\u001B[38;5;241;43m.\u001B[39;49m\u001B[43moptions\u001B[49m\u001B[38;5;241;43m.\u001B[39;49m\u001B[43mget\u001B[49m\u001B[43m(\u001B[49m\u001B[38;5;124;43m\"\u001B[39;49m\u001B[38;5;124;43mencoding_errors\u001B[39;49m\u001B[38;5;124;43m\"\u001B[39;49m\u001B[43m,\u001B[49m\u001B[43m \u001B[49m\u001B[38;5;124;43m\"\u001B[39;49m\u001B[38;5;124;43mstrict\u001B[39;49m\u001B[38;5;124;43m\"\u001B[39;49m\u001B[43m)\u001B[49m\u001B[43m,\u001B[49m\n\u001B[0;32m   1888\u001B[0m \u001B[43m    \u001B[49m\u001B[43mstorage_options\u001B[49m\u001B[38;5;241;43m=\u001B[39;49m\u001B[38;5;28;43mself\u001B[39;49m\u001B[38;5;241;43m.\u001B[39;49m\u001B[43moptions\u001B[49m\u001B[38;5;241;43m.\u001B[39;49m\u001B[43mget\u001B[49m\u001B[43m(\u001B[49m\u001B[38;5;124;43m\"\u001B[39;49m\u001B[38;5;124;43mstorage_options\u001B[39;49m\u001B[38;5;124;43m\"\u001B[39;49m\u001B[43m,\u001B[49m\u001B[43m \u001B[49m\u001B[38;5;28;43;01mNone\u001B[39;49;00m\u001B[43m)\u001B[49m\u001B[43m,\u001B[49m\n\u001B[0;32m   1889\u001B[0m \u001B[43m\u001B[49m\u001B[43m)\u001B[49m\n\u001B[0;32m   1890\u001B[0m \u001B[38;5;28;01massert\u001B[39;00m \u001B[38;5;28mself\u001B[39m\u001B[38;5;241m.\u001B[39mhandles \u001B[38;5;129;01mis\u001B[39;00m \u001B[38;5;129;01mnot\u001B[39;00m \u001B[38;5;28;01mNone\u001B[39;00m\n\u001B[0;32m   1891\u001B[0m f \u001B[38;5;241m=\u001B[39m \u001B[38;5;28mself\u001B[39m\u001B[38;5;241m.\u001B[39mhandles\u001B[38;5;241m.\u001B[39mhandle\n",
      "File \u001B[1;32m~\\PycharmProjects\\afm-vlm\\.venv\\Lib\\site-packages\\pandas\\io\\common.py:873\u001B[0m, in \u001B[0;36mget_handle\u001B[1;34m(path_or_buf, mode, encoding, compression, memory_map, is_text, errors, storage_options)\u001B[0m\n\u001B[0;32m    868\u001B[0m \u001B[38;5;28;01melif\u001B[39;00m \u001B[38;5;28misinstance\u001B[39m(handle, \u001B[38;5;28mstr\u001B[39m):\n\u001B[0;32m    869\u001B[0m     \u001B[38;5;66;03m# Check whether the filename is to be opened in binary mode.\u001B[39;00m\n\u001B[0;32m    870\u001B[0m     \u001B[38;5;66;03m# Binary mode does not support 'encoding' and 'newline'.\u001B[39;00m\n\u001B[0;32m    871\u001B[0m     \u001B[38;5;28;01mif\u001B[39;00m ioargs\u001B[38;5;241m.\u001B[39mencoding \u001B[38;5;129;01mand\u001B[39;00m \u001B[38;5;124m\"\u001B[39m\u001B[38;5;124mb\u001B[39m\u001B[38;5;124m\"\u001B[39m \u001B[38;5;129;01mnot\u001B[39;00m \u001B[38;5;129;01min\u001B[39;00m ioargs\u001B[38;5;241m.\u001B[39mmode:\n\u001B[0;32m    872\u001B[0m         \u001B[38;5;66;03m# Encoding\u001B[39;00m\n\u001B[1;32m--> 873\u001B[0m         handle \u001B[38;5;241m=\u001B[39m \u001B[38;5;28;43mopen\u001B[39;49m\u001B[43m(\u001B[49m\n\u001B[0;32m    874\u001B[0m \u001B[43m            \u001B[49m\u001B[43mhandle\u001B[49m\u001B[43m,\u001B[49m\n\u001B[0;32m    875\u001B[0m \u001B[43m            \u001B[49m\u001B[43mioargs\u001B[49m\u001B[38;5;241;43m.\u001B[39;49m\u001B[43mmode\u001B[49m\u001B[43m,\u001B[49m\n\u001B[0;32m    876\u001B[0m \u001B[43m            \u001B[49m\u001B[43mencoding\u001B[49m\u001B[38;5;241;43m=\u001B[39;49m\u001B[43mioargs\u001B[49m\u001B[38;5;241;43m.\u001B[39;49m\u001B[43mencoding\u001B[49m\u001B[43m,\u001B[49m\n\u001B[0;32m    877\u001B[0m \u001B[43m            \u001B[49m\u001B[43merrors\u001B[49m\u001B[38;5;241;43m=\u001B[39;49m\u001B[43merrors\u001B[49m\u001B[43m,\u001B[49m\n\u001B[0;32m    878\u001B[0m \u001B[43m            \u001B[49m\u001B[43mnewline\u001B[49m\u001B[38;5;241;43m=\u001B[39;49m\u001B[38;5;124;43m\"\u001B[39;49m\u001B[38;5;124;43m\"\u001B[39;49m\u001B[43m,\u001B[49m\n\u001B[0;32m    879\u001B[0m \u001B[43m        \u001B[49m\u001B[43m)\u001B[49m\n\u001B[0;32m    880\u001B[0m     \u001B[38;5;28;01melse\u001B[39;00m:\n\u001B[0;32m    881\u001B[0m         \u001B[38;5;66;03m# Binary mode\u001B[39;00m\n\u001B[0;32m    882\u001B[0m         handle \u001B[38;5;241m=\u001B[39m \u001B[38;5;28mopen\u001B[39m(handle, ioargs\u001B[38;5;241m.\u001B[39mmode)\n",
      "\u001B[1;31mFileNotFoundError\u001B[0m: [Errno 2] No such file or directory: 'experiments/second_experiment/new_data/df_standard_ocr_transcriptions.csv'"
     ]
    }
   ],
   "execution_count": 50
  },
  {
   "metadata": {
    "ExecuteTime": {
     "end_time": "2024-07-10T09:53:35.678073Z",
     "start_time": "2024-07-10T09:53:35.666088Z"
    }
   },
   "cell_type": "code",
   "source": [
    "# call\n",
    "calculate_and_plot_gt_keyframe_percentage(df_ocr_transcriptions)"
   ],
   "id": "199142302befe683",
   "outputs": [
    {
     "ename": "NameError",
     "evalue": "name 'df_ocr_transcriptions' is not defined",
     "output_type": "error",
     "traceback": [
      "\u001B[1;31m---------------------------------------------------------------------------\u001B[0m",
      "\u001B[1;31mNameError\u001B[0m                                 Traceback (most recent call last)",
      "Cell \u001B[1;32mIn[31], line 2\u001B[0m\n\u001B[0;32m      1\u001B[0m \u001B[38;5;66;03m# call\u001B[39;00m\n\u001B[1;32m----> 2\u001B[0m calculate_and_plot_gt_keyframe_percentage(\u001B[43mdf_ocr_transcriptions\u001B[49m)\n",
      "\u001B[1;31mNameError\u001B[0m: name 'df_ocr_transcriptions' is not defined"
     ]
    }
   ],
   "execution_count": 31
  },
  {
   "metadata": {},
   "cell_type": "code",
   "outputs": [],
   "execution_count": null,
   "source": [
    "df = df_ocr_transcriptions\n",
    "res = []\n",
    "for _, row in df.iterrows():\n",
    "        logger.info(row['Prompt'])\n",
    "        gt_keyframe = row['GT_Keyframe']\n",
    "        prox =check_proximity_keyframes(gt_keyframe)\n",
    "        res.append(prox)\n",
    "\n",
    "prox_yes_no = []\n",
    "for i, row in df.iterrows():\n",
    "    if row['Top_1'] or row['Top_2'] or row['Top_3'] in res[i]: \n",
    "        prox_yes_no.append(1)\n",
    "    else: \n",
    "        prox_yes_no.append(0)\n",
    "\n",
    "print(prox_yes_no)"
   ],
   "id": "db7da707ad314ac7"
  }
 ],
 "metadata": {
  "kernelspec": {
   "display_name": "Python 3",
   "language": "python",
   "name": "python3"
  },
  "language_info": {
   "codemirror_mode": {
    "name": "ipython",
    "version": 2
   },
   "file_extension": ".py",
   "mimetype": "text/x-python",
   "name": "python",
   "nbconvert_exporter": "python",
   "pygments_lexer": "ipython2",
   "version": "2.7.6"
  }
 },
 "nbformat": 4,
 "nbformat_minor": 5
}
