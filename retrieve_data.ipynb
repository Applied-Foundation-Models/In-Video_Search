{
 "cells": [
  {
   "cell_type": "markdown",
   "id": "d63f8969e935e5d2",
   "metadata": {},
   "source": [
    "# TESTING NOTEBOOK"
   ]
  },
  {
   "cell_type": "markdown",
   "id": "ef9f4d1b4d7c5d01",
   "metadata": {},
   "source": []
  },
  {
   "cell_type": "code",
   "id": "initial_id",
   "metadata": {
    "ExecuteTime": {
     "end_time": "2024-07-29T11:01:05.533437Z",
     "start_time": "2024-07-29T11:01:04.555605Z"
    }
   },
   "source": [
    "%load_ext autoreload\n",
    "%autoreload 2\n",
    "\n",
    "import pandas as pd\n",
    "from loguru import logger\n",
    "from src.text_embedder.embedder import EmbeddingsModel\n",
    "\n",
    "from pathlib import Path\n",
    "from app.app_helper import (\n",
    "    load_pickle,\n",
    "    create_tensor_and_mapping,\n",
    "    retrieve_keys_from_indices,\n",
    ")\n",
    "import os"
   ],
   "outputs": [
    {
     "name": "stdout",
     "output_type": "stream",
     "text": [
      "The autoreload extension is already loaded. To reload it, use:\n",
      "  %reload_ext autoreload\n"
     ]
    }
   ],
   "execution_count": 12
  },
  {
   "cell_type": "markdown",
   "id": "8f5f4242726abe54",
   "metadata": {},
   "source": []
  },
  {
   "cell_type": "markdown",
   "id": "b0100cb8baa9438c",
   "metadata": {},
   "source": [
    "# TEST With Own Prompt"
   ]
  },
  {
   "cell_type": "code",
   "id": "7e7f4112da087891",
   "metadata": {
    "ExecuteTime": {
     "end_time": "2024-07-29T11:01:05.780776Z",
     "start_time": "2024-07-29T11:01:05.533437Z"
    }
   },
   "source": [
    "ENTRY = \"Enter your prompt here\""
   ],
   "outputs": [],
   "execution_count": 13
  },
  {
   "cell_type": "markdown",
   "id": "84ba422a3c494cdb",
   "metadata": {},
   "source": []
  },
  {
   "cell_type": "markdown",
   "id": "d1c020b880cd5d12",
   "metadata": {},
   "source": [
    "# LOAD DATA"
   ]
  },
  {
   "cell_type": "code",
   "id": "52d80ecc3437a551",
   "metadata": {
    "ExecuteTime": {
     "end_time": "2024-07-29T11:01:06.019265Z",
     "start_time": "2024-07-29T11:01:05.782120Z"
    }
   },
   "source": [
    "# load pickle\n",
    "pickle_file = \"app/embeddings/biology_chapter_3_3_treshhold_5.pickle\"\n",
    "project_path = os.getcwd()\n",
    "data = load_pickle(os.path.join(project_path, pickle_file))\n",
    "\n",
    "# load embeddings\n",
    "text_embeddings, mapping = create_tensor_and_mapping(\n",
    "    data, key=\"extensive_text_embedding\"\n",
    ")\n",
    "\n",
    "logger.info(text_embeddings)\n",
    "logger.info(mapping)"
   ],
   "outputs": [
    {
     "name": "stdout",
     "output_type": "stream",
     "text": [
      "b'\\x80\\x04\\x95 \\x00\\x01\\x00\\x00\\x00\\x00\\x00}\\x94(KO}\\x94(\\x8c\\x08img_path\\x94\\x8c\\x97/Users/magic-rabbit/Documents/AFM/afm-vlm/data/raw/biology_chapter_3'\n"
     ]
    },
    {
     "ename": "AttributeError",
     "evalue": "'str' object has no attribute 'keys'",
     "output_type": "error",
     "traceback": [
      "\u001B[1;31m---------------------------------------------------------------------------\u001B[0m",
      "\u001B[1;31mAttributeError\u001B[0m                            Traceback (most recent call last)",
      "Cell \u001B[1;32mIn[14], line 7\u001B[0m\n\u001B[0;32m      4\u001B[0m data \u001B[38;5;241m=\u001B[39m load_pickle(os\u001B[38;5;241m.\u001B[39mpath\u001B[38;5;241m.\u001B[39mjoin(project_path, pickle_file))\n\u001B[0;32m      6\u001B[0m \u001B[38;5;66;03m# load embeddings\u001B[39;00m\n\u001B[1;32m----> 7\u001B[0m text_embeddings, mapping \u001B[38;5;241m=\u001B[39m \u001B[43mcreate_tensor_and_mapping\u001B[49m\u001B[43m(\u001B[49m\n\u001B[0;32m      8\u001B[0m \u001B[43m    \u001B[49m\u001B[43mdata\u001B[49m\u001B[43m,\u001B[49m\u001B[43m \u001B[49m\u001B[43mkey\u001B[49m\u001B[38;5;241;43m=\u001B[39;49m\u001B[38;5;124;43m\"\u001B[39;49m\u001B[38;5;124;43mextensive_text_embedding\u001B[39;49m\u001B[38;5;124;43m\"\u001B[39;49m\n\u001B[0;32m      9\u001B[0m \u001B[43m)\u001B[49m\n\u001B[0;32m     11\u001B[0m logger\u001B[38;5;241m.\u001B[39minfo(text_embeddings)\n\u001B[0;32m     12\u001B[0m logger\u001B[38;5;241m.\u001B[39minfo(mapping)\n",
      "File \u001B[1;32m~\\PycharmProjects\\afm-vlm\\app\\app_helper.py:41\u001B[0m, in \u001B[0;36mcreate_tensor_and_mapping\u001B[1;34m(embedding_dict, key)\u001B[0m\n\u001B[0;32m     39\u001B[0m key_to_index_mapping \u001B[38;5;241m=\u001B[39m {}\n\u001B[0;32m     40\u001B[0m \u001B[38;5;66;03m# Iterate through the embedding dictionary\u001B[39;00m\n\u001B[1;32m---> 41\u001B[0m \u001B[38;5;28;01mfor\u001B[39;00m idx, k \u001B[38;5;129;01min\u001B[39;00m \u001B[38;5;28menumerate\u001B[39m(\u001B[38;5;28msorted\u001B[39m(\u001B[43membedding_dict\u001B[49m\u001B[38;5;241;43m.\u001B[39;49m\u001B[43mkeys\u001B[49m())):\n\u001B[0;32m     42\u001B[0m     \u001B[38;5;28;01mif\u001B[39;00m key \u001B[38;5;129;01min\u001B[39;00m embedding_dict[k]:\n\u001B[0;32m     43\u001B[0m         \u001B[38;5;66;03m# Append the embedding to the list\u001B[39;00m\n\u001B[0;32m     44\u001B[0m         embeddings\u001B[38;5;241m.\u001B[39mappend(embedding_dict[k][key])\n",
      "\u001B[1;31mAttributeError\u001B[0m: 'str' object has no attribute 'keys'"
     ]
    }
   ],
   "execution_count": 14
  },
  {
   "cell_type": "markdown",
   "id": "ad246519796e73a7",
   "metadata": {},
   "source": []
  },
  {
   "cell_type": "markdown",
   "id": "de1329e0f1fef7f0",
   "metadata": {},
   "source": [
    "# LOAD MODEL"
   ]
  },
  {
   "cell_type": "code",
   "id": "e7edab6f411d9d4f",
   "metadata": {
    "ExecuteTime": {
     "end_time": "2024-07-29T11:01:15.375277Z",
     "start_time": "2024-07-29T11:01:12.201998Z"
    }
   },
   "source": [
    "from cgitb import text\n",
    "from torch import embedding\n",
    "\n",
    "\n",
    "embedding_model = EmbeddingsModel()\n",
    "embedding_model.text_embeddings = text_embeddings"
   ],
   "outputs": [
    {
     "name": "stderr",
     "output_type": "stream",
     "text": [
      "C:\\Users\\baatout\\AppData\\Local\\Temp\\ipykernel_34300\\158501810.py:1: DeprecationWarning: 'cgitb' is deprecated and slated for removal in Python 3.13\n",
      "  from cgitb import text\n"
     ]
    },
    {
     "ename": "NameError",
     "evalue": "name 'text_embeddings' is not defined",
     "output_type": "error",
     "traceback": [
      "\u001B[1;31m---------------------------------------------------------------------------\u001B[0m",
      "\u001B[1;31mNameError\u001B[0m                                 Traceback (most recent call last)",
      "Cell \u001B[1;32mIn[15], line 6\u001B[0m\n\u001B[0;32m      2\u001B[0m \u001B[38;5;28;01mfrom\u001B[39;00m \u001B[38;5;21;01mtorch\u001B[39;00m \u001B[38;5;28;01mimport\u001B[39;00m embedding\n\u001B[0;32m      5\u001B[0m embedding_model \u001B[38;5;241m=\u001B[39m EmbeddingsModel()\n\u001B[1;32m----> 6\u001B[0m embedding_model\u001B[38;5;241m.\u001B[39mtext_embeddings \u001B[38;5;241m=\u001B[39m \u001B[43mtext_embeddings\u001B[49m\n",
      "\u001B[1;31mNameError\u001B[0m: name 'text_embeddings' is not defined"
     ]
    },
    {
     "data": {
      "text/plain": [
       "<Figure size 800x2000 with 0 Axes>"
      ]
     },
     "metadata": {},
     "output_type": "display_data"
    }
   ],
   "execution_count": 15
  },
  {
   "cell_type": "markdown",
   "id": "ea4a9164fa2ac638",
   "metadata": {},
   "source": []
  },
  {
   "cell_type": "markdown",
   "id": "47693ab51f54d792",
   "metadata": {},
   "source": [
    "# LOAD RESULTS "
   ]
  },
  {
   "cell_type": "code",
   "id": "cff3ba5cd22dc0ef",
   "metadata": {},
   "source": [
    "from app.app_helper import query_video_data\n",
    "\n",
    "top_three_results_index = embedding_model.retreive_top_3_similar_images(ENTRY)\n",
    "top_three_results = retrieve_keys_from_indices(top_three_results_index, mapping)\n",
    "logger.info(f\"Top three results: {top_three_results}\")\n",
    "\n",
    "for i, result in enumerate(top_three_results):\n",
    "    query_video_data(\n",
    "            data, result[i], \"img_path\"\n",
    "        )\n",
    "    "
   ],
   "outputs": [],
   "execution_count": null
  }
 ],
 "metadata": {
  "kernelspec": {
   "display_name": "Python 3",
   "language": "python",
   "name": "python3"
  },
  "language_info": {
   "codemirror_mode": {
    "name": "ipython",
    "version": 3
   },
   "file_extension": ".py",
   "mimetype": "text/x-python",
   "name": "python",
   "nbconvert_exporter": "python",
   "pygments_lexer": "ipython3",
   "version": "3.12.4"
  }
 },
 "nbformat": 4,
 "nbformat_minor": 5
}
