{
 "cells": [
  {
   "metadata": {},
   "cell_type": "markdown",
   "source": "# TESTING NOTEBOOK",
   "id": "d63f8969e935e5d2"
  },
  {
   "metadata": {},
   "cell_type": "markdown",
   "source": "",
   "id": "ef9f4d1b4d7c5d01"
  },
  {
   "metadata": {
    "ExecuteTime": {
     "end_time": "2024-07-29T09:29:54.391558Z",
     "start_time": "2024-07-29T09:29:53.857731Z"
    }
   },
   "cell_type": "code",
   "source": [
    "%load_ext autoreload\n",
    "%autoreload 2\n",
    "\n",
    "import pandas as pd\n",
    "from loguru import logger\n",
    "from src.text_embedder.embedder import EmbeddingsModel\n",
    "\n",
    "from pathlib import Path\n",
    "from app.app_helper import load_pickle, create_tensor_and_mapping, retrieve_keys_from_indices\n",
    "import os"
   ],
   "id": "initial_id",
   "outputs": [
    {
     "name": "stdout",
     "output_type": "stream",
     "text": [
      "The autoreload extension is already loaded. To reload it, use:\n",
      "  %reload_ext autoreload\n"
     ]
    }
   ],
   "execution_count": 4
  },
  {
   "metadata": {},
   "cell_type": "markdown",
   "source": "",
   "id": "8f5f4242726abe54"
  },
  {
   "metadata": {},
   "cell_type": "markdown",
   "source": "# TEST With Own Prompt",
   "id": "b0100cb8baa9438c"
  },
  {
   "metadata": {
    "ExecuteTime": {
     "end_time": "2024-07-29T09:29:55.613422Z",
     "start_time": "2024-07-29T09:29:55.130247Z"
    }
   },
   "cell_type": "code",
   "source": "ENTRY = \"Enter your prompt here\"",
   "id": "7e7f4112da087891",
   "outputs": [],
   "execution_count": 5
  },
  {
   "metadata": {},
   "cell_type": "markdown",
   "source": "",
   "id": "84ba422a3c494cdb"
  },
  {
   "metadata": {},
   "cell_type": "markdown",
   "source": "# LOAD DATA",
   "id": "d1c020b880cd5d12"
  },
  {
   "metadata": {
    "ExecuteTime": {
     "end_time": "2024-07-29T09:31:50.070071Z",
     "start_time": "2024-07-29T09:31:49.260497Z"
    }
   },
   "cell_type": "code",
   "source": [
    "# load pickle\n",
    "pickle_file = \"biology_chapter_3_3_treshhold_5.pickle\"\n",
    "project_path = os.getcwd()\n",
    "data = load_pickle(os.path.join(project_path, pickle_file))\n",
    "\n",
    "# load embeddings\n",
    "text_embeddings, mapping = create_tensor_and_mapping(data, key=\"extensive_text_embedding\")\n",
    "\n",
    "logger.info(text_embeddings)\n",
    "logger.info(mapping)"
   ],
   "id": "52d80ecc3437a551",
   "outputs": [
    {
     "ename": "RuntimeError",
     "evalue": "torch.UntypedStorage(): Storage device not recognized: mps",
     "output_type": "error",
     "traceback": [
      "\u001B[1;31m---------------------------------------------------------------------------\u001B[0m",
      "\u001B[1;31mRuntimeError\u001B[0m                              Traceback (most recent call last)",
      "Cell \u001B[1;32mIn[8], line 4\u001B[0m\n\u001B[0;32m      2\u001B[0m pickle_file \u001B[38;5;241m=\u001B[39m \u001B[38;5;124m\"\u001B[39m\u001B[38;5;124mbiology_chapter_3_3_treshhold_5.pickle\u001B[39m\u001B[38;5;124m\"\u001B[39m\n\u001B[0;32m      3\u001B[0m project_path \u001B[38;5;241m=\u001B[39m os\u001B[38;5;241m.\u001B[39mgetcwd()\n\u001B[1;32m----> 4\u001B[0m data \u001B[38;5;241m=\u001B[39m \u001B[43mload_pickle\u001B[49m\u001B[43m(\u001B[49m\u001B[43mos\u001B[49m\u001B[38;5;241;43m.\u001B[39;49m\u001B[43mpath\u001B[49m\u001B[38;5;241;43m.\u001B[39;49m\u001B[43mjoin\u001B[49m\u001B[43m(\u001B[49m\u001B[43mproject_path\u001B[49m\u001B[43m,\u001B[49m\u001B[43m \u001B[49m\u001B[43mpickle_file\u001B[49m\u001B[43m)\u001B[49m\u001B[43m)\u001B[49m\n\u001B[0;32m      6\u001B[0m \u001B[38;5;66;03m# load embeddings\u001B[39;00m\n\u001B[0;32m      7\u001B[0m text_embeddings, mapping \u001B[38;5;241m=\u001B[39m create_tensor_and_mapping(data, key\u001B[38;5;241m=\u001B[39m\u001B[38;5;124m\"\u001B[39m\u001B[38;5;124mextensive_text_embedding\u001B[39m\u001B[38;5;124m\"\u001B[39m)\n",
      "File \u001B[1;32m~\\PycharmProjects\\afm-vlm\\app\\app_helper.py:29\u001B[0m, in \u001B[0;36mload_pickle\u001B[1;34m(file_name)\u001B[0m\n\u001B[0;32m     27\u001B[0m \u001B[38;5;28;01mdef\u001B[39;00m \u001B[38;5;21mload_pickle\u001B[39m(file_name):\n\u001B[0;32m     28\u001B[0m     \u001B[38;5;28;01mwith\u001B[39;00m \u001B[38;5;28mopen\u001B[39m(file_name, \u001B[38;5;124m\"\u001B[39m\u001B[38;5;124mrb\u001B[39m\u001B[38;5;124m\"\u001B[39m) \u001B[38;5;28;01mas\u001B[39;00m file:\n\u001B[1;32m---> 29\u001B[0m         data \u001B[38;5;241m=\u001B[39m \u001B[43mpickle\u001B[49m\u001B[38;5;241;43m.\u001B[39;49m\u001B[43mload\u001B[49m\u001B[43m(\u001B[49m\u001B[43mfile\u001B[49m\u001B[43m)\u001B[49m\n\u001B[0;32m     30\u001B[0m     \u001B[38;5;28;01mreturn\u001B[39;00m data\n",
      "File \u001B[1;32m~\\PycharmProjects\\afm-vlm\\.venv\\Lib\\site-packages\\torch\\storage.py:381\u001B[0m, in \u001B[0;36m_load_from_bytes\u001B[1;34m(b)\u001B[0m\n\u001B[0;32m    380\u001B[0m \u001B[38;5;28;01mdef\u001B[39;00m \u001B[38;5;21m_load_from_bytes\u001B[39m(b):\n\u001B[1;32m--> 381\u001B[0m     \u001B[38;5;28;01mreturn\u001B[39;00m \u001B[43mtorch\u001B[49m\u001B[38;5;241;43m.\u001B[39;49m\u001B[43mload\u001B[49m\u001B[43m(\u001B[49m\u001B[43mio\u001B[49m\u001B[38;5;241;43m.\u001B[39;49m\u001B[43mBytesIO\u001B[49m\u001B[43m(\u001B[49m\u001B[43mb\u001B[49m\u001B[43m)\u001B[49m\u001B[43m)\u001B[49m\n",
      "File \u001B[1;32m~\\PycharmProjects\\afm-vlm\\.venv\\Lib\\site-packages\\torch\\serialization.py:1040\u001B[0m, in \u001B[0;36mload\u001B[1;34m(f, map_location, pickle_module, weights_only, mmap, **pickle_load_args)\u001B[0m\n\u001B[0;32m   1038\u001B[0m     \u001B[38;5;28;01mexcept\u001B[39;00m \u001B[38;5;167;01mRuntimeError\u001B[39;00m \u001B[38;5;28;01mas\u001B[39;00m e:\n\u001B[0;32m   1039\u001B[0m         \u001B[38;5;28;01mraise\u001B[39;00m pickle\u001B[38;5;241m.\u001B[39mUnpicklingError(UNSAFE_MESSAGE \u001B[38;5;241m+\u001B[39m \u001B[38;5;28mstr\u001B[39m(e)) \u001B[38;5;28;01mfrom\u001B[39;00m \u001B[38;5;28;01mNone\u001B[39;00m\n\u001B[1;32m-> 1040\u001B[0m \u001B[38;5;28;01mreturn\u001B[39;00m \u001B[43m_legacy_load\u001B[49m\u001B[43m(\u001B[49m\u001B[43mopened_file\u001B[49m\u001B[43m,\u001B[49m\u001B[43m \u001B[49m\u001B[43mmap_location\u001B[49m\u001B[43m,\u001B[49m\u001B[43m \u001B[49m\u001B[43mpickle_module\u001B[49m\u001B[43m,\u001B[49m\u001B[43m \u001B[49m\u001B[38;5;241;43m*\u001B[39;49m\u001B[38;5;241;43m*\u001B[39;49m\u001B[43mpickle_load_args\u001B[49m\u001B[43m)\u001B[49m\n",
      "File \u001B[1;32m~\\PycharmProjects\\afm-vlm\\.venv\\Lib\\site-packages\\torch\\serialization.py:1272\u001B[0m, in \u001B[0;36m_legacy_load\u001B[1;34m(f, map_location, pickle_module, **pickle_load_args)\u001B[0m\n\u001B[0;32m   1270\u001B[0m unpickler \u001B[38;5;241m=\u001B[39m UnpicklerWrapper(f, \u001B[38;5;241m*\u001B[39m\u001B[38;5;241m*\u001B[39mpickle_load_args)\n\u001B[0;32m   1271\u001B[0m unpickler\u001B[38;5;241m.\u001B[39mpersistent_load \u001B[38;5;241m=\u001B[39m persistent_load\n\u001B[1;32m-> 1272\u001B[0m result \u001B[38;5;241m=\u001B[39m \u001B[43munpickler\u001B[49m\u001B[38;5;241;43m.\u001B[39;49m\u001B[43mload\u001B[49m\u001B[43m(\u001B[49m\u001B[43m)\u001B[49m\n\u001B[0;32m   1274\u001B[0m deserialized_storage_keys \u001B[38;5;241m=\u001B[39m pickle_module\u001B[38;5;241m.\u001B[39mload(f, \u001B[38;5;241m*\u001B[39m\u001B[38;5;241m*\u001B[39mpickle_load_args)\n\u001B[0;32m   1276\u001B[0m \u001B[38;5;28;01mif\u001B[39;00m torch\u001B[38;5;241m.\u001B[39m_guards\u001B[38;5;241m.\u001B[39mactive_fake_mode() \u001B[38;5;129;01mis\u001B[39;00m \u001B[38;5;28;01mNone\u001B[39;00m:\n",
      "File \u001B[1;32m~\\PycharmProjects\\afm-vlm\\.venv\\Lib\\site-packages\\torch\\serialization.py:1205\u001B[0m, in \u001B[0;36m_legacy_load.<locals>.persistent_load\u001B[1;34m(saved_id)\u001B[0m\n\u001B[0;32m   1203\u001B[0m     obj \u001B[38;5;241m=\u001B[39m cast(Storage, torch\u001B[38;5;241m.\u001B[39mUntypedStorage(nbytes))\n\u001B[0;32m   1204\u001B[0m     obj\u001B[38;5;241m.\u001B[39m_torch_load_uninitialized \u001B[38;5;241m=\u001B[39m \u001B[38;5;28;01mTrue\u001B[39;00m\n\u001B[1;32m-> 1205\u001B[0m     obj \u001B[38;5;241m=\u001B[39m \u001B[43mrestore_location\u001B[49m\u001B[43m(\u001B[49m\u001B[43mobj\u001B[49m\u001B[43m,\u001B[49m\u001B[43m \u001B[49m\u001B[43mlocation\u001B[49m\u001B[43m)\u001B[49m\n\u001B[0;32m   1206\u001B[0m \u001B[38;5;66;03m# TODO: Once we decide to break serialization FC, we can\u001B[39;00m\n\u001B[0;32m   1207\u001B[0m \u001B[38;5;66;03m# stop wrapping with TypedStorage\u001B[39;00m\n\u001B[0;32m   1208\u001B[0m typed_storage \u001B[38;5;241m=\u001B[39m torch\u001B[38;5;241m.\u001B[39mstorage\u001B[38;5;241m.\u001B[39mTypedStorage(\n\u001B[0;32m   1209\u001B[0m     wrap_storage\u001B[38;5;241m=\u001B[39mobj,\n\u001B[0;32m   1210\u001B[0m     dtype\u001B[38;5;241m=\u001B[39mdtype,\n\u001B[0;32m   1211\u001B[0m     _internal\u001B[38;5;241m=\u001B[39m\u001B[38;5;28;01mTrue\u001B[39;00m)\n",
      "File \u001B[1;32m~\\PycharmProjects\\afm-vlm\\.venv\\Lib\\site-packages\\torch\\serialization.py:390\u001B[0m, in \u001B[0;36mdefault_restore_location\u001B[1;34m(storage, location)\u001B[0m\n\u001B[0;32m    388\u001B[0m \u001B[38;5;28;01mdef\u001B[39;00m \u001B[38;5;21mdefault_restore_location\u001B[39m(storage, location):\n\u001B[0;32m    389\u001B[0m     \u001B[38;5;28;01mfor\u001B[39;00m _, _, fn \u001B[38;5;129;01min\u001B[39;00m _package_registry:\n\u001B[1;32m--> 390\u001B[0m         result \u001B[38;5;241m=\u001B[39m \u001B[43mfn\u001B[49m\u001B[43m(\u001B[49m\u001B[43mstorage\u001B[49m\u001B[43m,\u001B[49m\u001B[43m \u001B[49m\u001B[43mlocation\u001B[49m\u001B[43m)\u001B[49m\n\u001B[0;32m    391\u001B[0m         \u001B[38;5;28;01mif\u001B[39;00m result \u001B[38;5;129;01mis\u001B[39;00m \u001B[38;5;129;01mnot\u001B[39;00m \u001B[38;5;28;01mNone\u001B[39;00m:\n\u001B[0;32m    392\u001B[0m             \u001B[38;5;28;01mreturn\u001B[39;00m result\n",
      "File \u001B[1;32m~\\PycharmProjects\\afm-vlm\\.venv\\Lib\\site-packages\\torch\\serialization.py:307\u001B[0m, in \u001B[0;36m_mps_deserialize\u001B[1;34m(obj, location)\u001B[0m\n\u001B[0;32m    305\u001B[0m \u001B[38;5;28;01mdef\u001B[39;00m \u001B[38;5;21m_mps_deserialize\u001B[39m(obj, location):\n\u001B[0;32m    306\u001B[0m     \u001B[38;5;28;01mif\u001B[39;00m location\u001B[38;5;241m.\u001B[39mstartswith(\u001B[38;5;124m'\u001B[39m\u001B[38;5;124mmps\u001B[39m\u001B[38;5;124m'\u001B[39m):\n\u001B[1;32m--> 307\u001B[0m         \u001B[38;5;28;01mreturn\u001B[39;00m \u001B[43mobj\u001B[49m\u001B[38;5;241;43m.\u001B[39;49m\u001B[43mmps\u001B[49m\u001B[43m(\u001B[49m\u001B[43m)\u001B[49m\n",
      "File \u001B[1;32m~\\PycharmProjects\\afm-vlm\\.venv\\Lib\\site-packages\\torch\\storage.py:144\u001B[0m, in \u001B[0;36m_StorageBase.mps\u001B[1;34m(self)\u001B[0m\n\u001B[0;32m    142\u001B[0m \u001B[38;5;250m\u001B[39m\u001B[38;5;124;03m\"\"\"Return a MPS copy of this storage if it's not already on the MPS.\"\"\"\u001B[39;00m\n\u001B[0;32m    143\u001B[0m \u001B[38;5;28;01mif\u001B[39;00m \u001B[38;5;28mself\u001B[39m\u001B[38;5;241m.\u001B[39mdevice\u001B[38;5;241m.\u001B[39mtype \u001B[38;5;241m!=\u001B[39m \u001B[38;5;124m'\u001B[39m\u001B[38;5;124mmps\u001B[39m\u001B[38;5;124m'\u001B[39m:\n\u001B[1;32m--> 144\u001B[0m     \u001B[38;5;28;01mreturn\u001B[39;00m \u001B[43mtorch\u001B[49m\u001B[38;5;241;43m.\u001B[39;49m\u001B[43mUntypedStorage\u001B[49m\u001B[43m(\u001B[49m\u001B[38;5;28;43mself\u001B[39;49m\u001B[38;5;241;43m.\u001B[39;49m\u001B[43msize\u001B[49m\u001B[43m(\u001B[49m\u001B[43m)\u001B[49m\u001B[43m,\u001B[49m\u001B[43m \u001B[49m\u001B[43mdevice\u001B[49m\u001B[38;5;241;43m=\u001B[39;49m\u001B[38;5;124;43m\"\u001B[39;49m\u001B[38;5;124;43mmps\u001B[39;49m\u001B[38;5;124;43m\"\u001B[39;49m\u001B[43m)\u001B[49m\u001B[38;5;241m.\u001B[39mcopy_(\u001B[38;5;28mself\u001B[39m, \u001B[38;5;28;01mFalse\u001B[39;00m)\n\u001B[0;32m    145\u001B[0m \u001B[38;5;28;01melse\u001B[39;00m:\n\u001B[0;32m    146\u001B[0m     \u001B[38;5;28;01mreturn\u001B[39;00m \u001B[38;5;28mself\u001B[39m\n",
      "\u001B[1;31mRuntimeError\u001B[0m: torch.UntypedStorage(): Storage device not recognized: mps"
     ]
    }
   ],
   "execution_count": 8
  },
  {
   "metadata": {},
   "cell_type": "markdown",
   "source": "",
   "id": "ad246519796e73a7"
  },
  {
   "metadata": {},
   "cell_type": "markdown",
   "source": "# LOAD MODEL",
   "id": "de1329e0f1fef7f0"
  },
  {
   "metadata": {
    "ExecuteTime": {
     "end_time": "2024-07-28T15:38:52.548702Z",
     "start_time": "2024-07-28T15:38:47.800978Z"
    }
   },
   "cell_type": "code",
   "source": "embedding_model = EmbeddingsModel()",
   "id": "e7edab6f411d9d4f",
   "outputs": [
    {
     "data": {
      "text/plain": [
       "<Figure size 800x2000 with 0 Axes>"
      ]
     },
     "metadata": {},
     "output_type": "display_data"
    }
   ],
   "execution_count": 9
  },
  {
   "metadata": {},
   "cell_type": "markdown",
   "source": "",
   "id": "ea4a9164fa2ac638"
  },
  {
   "metadata": {},
   "cell_type": "markdown",
   "source": "# LOAD RESULTS ",
   "id": "47693ab51f54d792"
  },
  {
   "metadata": {
    "ExecuteTime": {
     "end_time": "2024-07-28T15:38:52.932290Z",
     "start_time": "2024-07-28T15:38:52.548702Z"
    }
   },
   "cell_type": "code",
   "source": [
    "top_three_results_index = embedding_model.retreive_top_3_similar_images(ENTRY)\n",
    "top_three_results = retrieve_keys_from_indices(\n",
    "    top_three_results_index, mapping\n",
    ")\n",
    "logger.info(f\"Top three results: {top_three_results}\")"
   ],
   "id": "cff3ba5cd22dc0ef",
   "outputs": [
    {
     "ename": "AttributeError",
     "evalue": "'NoneType' object has no attribute 'to'",
     "output_type": "error",
     "traceback": [
      "\u001B[1;31m---------------------------------------------------------------------------\u001B[0m",
      "\u001B[1;31mAttributeError\u001B[0m                            Traceback (most recent call last)",
      "Cell \u001B[1;32mIn[10], line 1\u001B[0m\n\u001B[1;32m----> 1\u001B[0m \u001B[43membedding_model\u001B[49m\u001B[38;5;241;43m.\u001B[39;49m\u001B[43mretreive_top_3_similar_images\u001B[49m\u001B[43m(\u001B[49m\u001B[43mENTRY\u001B[49m\u001B[43m)\u001B[49m\n",
      "File \u001B[1;32m~\\PycharmProjects\\afm-vlm\\src\\text_embedder\\embedder.py:100\u001B[0m, in \u001B[0;36mEmbeddingsModel.retreive_top_3_similar_images\u001B[1;34m(self, query)\u001B[0m\n\u001B[0;32m     97\u001B[0m device \u001B[38;5;241m=\u001B[39m get_device()\n\u001B[0;32m     99\u001B[0m \u001B[38;5;66;03m# Ensure text_embeddings is moved to the correct device\u001B[39;00m\n\u001B[1;32m--> 100\u001B[0m text_embeddings \u001B[38;5;241m=\u001B[39m \u001B[38;5;28;43mself\u001B[39;49m\u001B[38;5;241;43m.\u001B[39;49m\u001B[43mtext_embeddings\u001B[49m\u001B[38;5;241;43m.\u001B[39;49m\u001B[43mto\u001B[49m(device)\n\u001B[0;32m    101\u001B[0m \u001B[38;5;66;03m# Get text embeddings of class dataset\u001B[39;00m\n\u001B[0;32m    102\u001B[0m \n\u001B[0;32m    103\u001B[0m \u001B[38;5;66;03m# Generate query text embeddings\u001B[39;00m\n\u001B[0;32m    104\u001B[0m \u001B[38;5;66;03m# query_text_embedding = self.process_and_embedd_query_text(query)\u001B[39;00m\n\u001B[0;32m    105\u001B[0m model \u001B[38;5;241m=\u001B[39m \u001B[38;5;28mself\u001B[39m\u001B[38;5;241m.\u001B[39mtext_embedder\n",
      "\u001B[1;31mAttributeError\u001B[0m: 'NoneType' object has no attribute 'to'"
     ]
    }
   ],
   "execution_count": 10
  }
 ],
 "metadata": {
  "kernelspec": {
   "display_name": "Python 3",
   "language": "python",
   "name": "python3"
  },
  "language_info": {
   "codemirror_mode": {
    "name": "ipython",
    "version": 2
   },
   "file_extension": ".py",
   "mimetype": "text/x-python",
   "name": "python",
   "nbconvert_exporter": "python",
   "pygments_lexer": "ipython2",
   "version": "2.7.6"
  }
 },
 "nbformat": 4,
 "nbformat_minor": 5
}
