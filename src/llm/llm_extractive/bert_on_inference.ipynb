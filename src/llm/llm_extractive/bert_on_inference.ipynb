{
 "cells": [
  {
   "cell_type": "code",
   "execution_count": 4,
   "id": "initial_id",
   "metadata": {
    "ExecuteTime": {
     "end_time": "2024-06-01T10:40:22.100013Z",
     "start_time": "2024-06-01T10:40:20.720111Z"
    },
    "collapsed": true
   },
   "outputs": [
    {
     "name": "stderr",
     "output_type": "stream",
     "text": [
      "[nltk_data] Downloading package punkt to\n",
      "[nltk_data]     C:\\Users\\baatout\\AppData\\Roaming\\nltk_data...\n",
      "[nltk_data]   Unzipping tokenizers\\punkt.zip.\n"
     ]
    },
    {
     "data": {
      "text/plain": [
       "True"
      ]
     },
     "execution_count": 4,
     "metadata": {},
     "output_type": "execute_result"
    }
   ],
   "source": [
    "# Import necessary libraries\n",
    "from transformers import BertModel, BertTokenizer\n",
    "import torch\n",
    "import nltk\n",
    "from nltk.tokenize import sent_tokenize\n",
    "\n",
    "nltk.download(\"punkt\")"
   ]
  },
  {
   "cell_type": "code",
   "execution_count": 5,
   "id": "132612c1609fb3f7",
   "metadata": {
    "ExecuteTime": {
     "end_time": "2024-06-01T10:40:25.930312Z",
     "start_time": "2024-06-01T10:40:25.279329Z"
    }
   },
   "outputs": [],
   "source": [
    "# Load the BERT model\n",
    "model_name = \"bert-base-uncased\"\n",
    "tokenizer = BertTokenizer.from_pretrained(model_name)\n",
    "model = BertModel.from_pretrained(model_name)"
   ]
  },
  {
   "cell_type": "code",
   "execution_count": 9,
   "id": "b549622de5b67b87",
   "metadata": {
    "ExecuteTime": {
     "end_time": "2024-06-01T10:41:26.176512Z",
     "start_time": "2024-06-01T10:41:26.161745Z"
    }
   },
   "outputs": [],
   "source": [
    "# Example text\n",
    "text = \"The cat (Felis catus), commonly referred to as the domestic cat or house cat, is a small domesticated carnivorous mammal. It is the only domesticated species of the family Felidae. Recent advances in archaeology and genetics have shown that the domestication of the cat occurred in the Near East around 7500 BC. \"\n",
    "\n",
    "# Split text into sentences\n",
    "sentences = sent_tokenize(text)"
   ]
  },
  {
   "cell_type": "code",
   "execution_count": 10,
   "id": "77ba8f5c2d6d0954",
   "metadata": {
    "ExecuteTime": {
     "end_time": "2024-06-01T10:41:28.631132Z",
     "start_time": "2024-06-01T10:41:26.675467Z"
    }
   },
   "outputs": [],
   "source": [
    "# Process each sentence for BERT\n",
    "embeddings = []\n",
    "for sent in sentences:\n",
    "    inputs = tokenizer(\n",
    "        sent, return_tensors=\"pt\", max_length=512, truncation=True, padding=\"max_length\"\n",
    "    )\n",
    "    outputs = model(**inputs)\n",
    "    # Extract embeddings, typically you might use CLS token or pool the outputs\n",
    "    sent_embedding = outputs.last_hidden_state.mean(1)\n",
    "    embeddings.append(sent_embedding)\n",
    "\n",
    "# Concatenate embeddings and calculate mean across sentences to simulate importance (placeholder)\n",
    "embeddings_tensor = torch.cat(embeddings, dim=0)\n",
    "sentence_scores = torch.mean(embeddings_tensor, dim=1)\n",
    "top_sentence = torch.argmax(sentence_scores)"
   ]
  },
  {
   "cell_type": "code",
   "execution_count": 11,
   "id": "56987c20f50a3eae",
   "metadata": {
    "ExecuteTime": {
     "end_time": "2024-06-01T10:41:28.647242Z",
     "start_time": "2024-06-01T10:41:28.633132Z"
    }
   },
   "outputs": [
    {
     "name": "stdout",
     "output_type": "stream",
     "text": [
      "Summary: Recent advances in archaeology and genetics have shown that the domestication of the cat occurred in the Near East around 7500 BC.\n"
     ]
    }
   ],
   "source": [
    "# Output the summarized text\n",
    "print(\"Summary:\", sentences[top_sentence])"
   ]
  },
  {
   "cell_type": "code",
   "execution_count": null,
   "id": "bd6d598d51af81f",
   "metadata": {},
   "outputs": [],
   "source": []
  }
 ],
 "metadata": {
  "kernelspec": {
   "display_name": "Python 3",
   "language": "python",
   "name": "python3"
  },
  "language_info": {
   "codemirror_mode": {
    "name": "ipython",
    "version": 2
   },
   "file_extension": ".py",
   "mimetype": "text/x-python",
   "name": "python",
   "nbconvert_exporter": "python",
   "pygments_lexer": "ipython2",
   "version": "2.7.6"
  }
 },
 "nbformat": 4,
 "nbformat_minor": 5
}
