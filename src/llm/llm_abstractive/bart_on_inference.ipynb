{
 "cells": [
  {
   "cell_type": "code",
   "id": "initial_id",
   "metadata": {
    "collapsed": true,
    "ExecuteTime": {
     "end_time": "2024-06-01T10:43:49.067715Z",
     "start_time": "2024-06-01T10:43:43.587822Z"
    }
   },
   "source": [
    "# Import necessary libraries\n",
    "from transformers import BartForConditionalGeneration, BartTokenizer\n",
    "import torch"
   ],
   "outputs": [],
   "execution_count": 1
  },
  {
   "metadata": {
    "ExecuteTime": {
     "end_time": "2024-06-01T10:46:34.886890Z",
     "start_time": "2024-06-01T10:46:30.830917Z"
    }
   },
   "cell_type": "code",
   "source": [
    "# Load the BART model\n",
    "model_name = 'facebook/bart-large-cnn'\n",
    "tokenizer = BartTokenizer.from_pretrained(model_name)\n",
    "model = BartForConditionalGeneration.from_pretrained(model_name)\n",
    "\n",
    "# Example text\n",
    "text = \"The cat (Felis catus), commonly referred to as the domestic cat or house cat, is a small domesticated carnivorous mammal. It is the only domesticated species of the family Felidae. Recent advances in archaeology and genetics have shown that the domestication of the cat occurred in the Near East around 7500 BC.\""
   ],
   "id": "7e1282bb22597695",
   "outputs": [],
   "execution_count": 6
  },
  {
   "metadata": {
    "ExecuteTime": {
     "end_time": "2024-06-01T10:46:34.902958Z",
     "start_time": "2024-06-01T10:46:34.890877Z"
    }
   },
   "cell_type": "code",
   "source": [
    "# Tokenize and prepare the input\n",
    "inputs = tokenizer([text], max_length=1024, return_tensors='pt', truncation=True, padding=\"max_length\")"
   ],
   "id": "35ccdfc73b559f31",
   "outputs": [],
   "execution_count": 7
  },
  {
   "metadata": {
    "ExecuteTime": {
     "end_time": "2024-06-01T10:46:47.022809Z",
     "start_time": "2024-06-01T10:46:34.903958Z"
    }
   },
   "cell_type": "code",
   "source": [
    "# Generate summary\n",
    "summary_ids = model.generate(inputs['input_ids'], num_beams=4, max_length=150, early_stopping=True)\n",
    "summary = tokenizer.decode(summary_ids[0], skip_special_tokens=True)"
   ],
   "id": "8e1a9860bdcf49e0",
   "outputs": [],
   "execution_count": 8
  },
  {
   "metadata": {
    "ExecuteTime": {
     "end_time": "2024-06-01T10:46:47.038922Z",
     "start_time": "2024-06-01T10:46:47.024809Z"
    }
   },
   "cell_type": "code",
   "source": [
    "# Output the generated summary\n",
    "print(\"Summary:\", summary)"
   ],
   "id": "67433a634ec2015b",
   "outputs": [
    {
     "name": "stdout",
     "output_type": "stream",
     "text": [
      "Summary: The cat (Felis catus) is a small domesticated carnivorous mammal. Recent advances in archaeology and genetics have shown that the domestication of the cat occurred in the Near East around 7500 BC. It is the only domesticated species of the family Felidae.\n"
     ]
    }
   ],
   "execution_count": 9
  },
  {
   "metadata": {},
   "cell_type": "code",
   "outputs": [],
   "execution_count": null,
   "source": "",
   "id": "91f741b215a01a27"
  }
 ],
 "metadata": {
  "kernelspec": {
   "display_name": "Python 3",
   "language": "python",
   "name": "python3"
  },
  "language_info": {
   "codemirror_mode": {
    "name": "ipython",
    "version": 2
   },
   "file_extension": ".py",
   "mimetype": "text/x-python",
   "name": "python",
   "nbconvert_exporter": "python",
   "pygments_lexer": "ipython2",
   "version": "2.7.6"
  }
 },
 "nbformat": 4,
 "nbformat_minor": 5
}
